{
 "cells": [
  {
   "cell_type": "markdown",
   "metadata": {
    "deletable": false,
    "editable": false,
    "nbgrader": {
     "cell_type": "markdown",
     "checksum": "7c8999253255d5c4ff78985df147b591",
     "grade": false,
     "grade_id": "cell-100899e0deea9789",
     "locked": true,
     "schema_version": 3,
     "solution": false
    }
   },
   "source": [
    "# Tutorial 10: Indexing, Slicing and Masking\n",
    "\n",
    "## PHYS 2600, Spring 2019"
   ]
  },
  {
   "cell_type": "code",
   "execution_count": 9,
   "metadata": {
    "deletable": false,
    "editable": false,
    "nbgrader": {
     "cell_type": "code",
     "checksum": "1155aeb94b71b706c83eec63bb3bfe2f",
     "grade": false,
     "grade_id": "cell-b5c5bae822da3414",
     "locked": true,
     "schema_version": 3,
     "solution": false
    }
   },
   "outputs": [],
   "source": [
    "## Commonly-used import cell\n",
    "\n",
    "%matplotlib inline\n",
    "\n",
    "import numpy as np\n",
    "import matplotlib.pyplot as plt"
   ]
  },
  {
   "cell_type": "markdown",
   "metadata": {
    "deletable": false,
    "editable": false,
    "nbgrader": {
     "cell_type": "markdown",
     "checksum": "fa4b58279f290c20fda9badec2089246",
     "grade": false,
     "grade_id": "cell-70bab1cfe57fa00d",
     "locked": true,
     "schema_version": 3,
     "solution": false
    }
   },
   "source": [
    "## T10.1 - Indexing, slicing, and masking\n",
    "\n",
    "Let's begin with some simple practice in indexing.  First, __run the cell below__ to load a few arrays into the global namespace.  (If you make any mistakes below, you can always re-run this cell to re-initialize the arrays.)"
   ]
  },
  {
   "cell_type": "code",
   "execution_count": 10,
   "metadata": {
    "deletable": false,
    "editable": false,
    "nbgrader": {
     "cell_type": "code",
     "checksum": "adefd7ab4b85fc28a019b45d3aefe57f",
     "grade": false,
     "grade_id": "cell-a72d1bde6c4eef30",
     "locked": true,
     "schema_version": 3,
     "solution": false
    }
   },
   "outputs": [],
   "source": [
    "planets = np.array(['Mercury', 'Venus', 'Earth', 'Mars', 'Jupiter', 'Saturn', 'Uranus', 'Neptune', 'n/a'])\n",
    "powers_of_two = np.array([1,   2,   4,   8,  16,  32,  64, 128, 256, 512])\n",
    "some_data = np.array([ 4.00, 1.72, -0.22, 1.80, -3.61, -0.90, -3.29, 4.45, 3.29, 2.26])\n",
    "also_planets = planets"
   ]
  },
  {
   "cell_type": "markdown",
   "metadata": {
    "deletable": false,
    "editable": false,
    "nbgrader": {
     "cell_type": "markdown",
     "checksum": "461136b1bfe5b65baf73a3f7a4846a5c",
     "grade": false,
     "grade_id": "cell-754259a5ce52e073",
     "locked": true,
     "schema_version": 3,
     "solution": false
    }
   },
   "source": [
    "Now, use index notation to accomplish the following:\n",
    "\n",
    "* Get and print the name of the sixth planet, Saturn, from `planets`.\n",
    "* Set the last entry of `planets` to `'Pluto'` (then print `planets` again.)"
   ]
  },
  {
   "cell_type": "code",
   "execution_count": 11,
   "metadata": {
    "deletable": false,
    "nbgrader": {
     "cell_type": "code",
     "checksum": "f8a4c062569e67c735f7cfe54ccac429",
     "grade": true,
     "grade_id": "cell-d18ef10a6b6141df",
     "locked": false,
     "points": 2,
     "schema_version": 3,
     "solution": true
    }
   },
   "outputs": [
    {
     "name": "stdout",
     "output_type": "stream",
     "text": [
      "Saturn\n",
      "['Mercury' 'Venus' 'Earth' 'Mars' 'Jupiter' 'Saturn' 'Uranus' 'Neptune'\n",
      " 'Pluto']\n"
     ]
    }
   ],
   "source": [
    "print(planets[5])\n",
    "planets[-1] = 'Pluto'\n",
    "print(planets)"
   ]
  },
  {
   "cell_type": "markdown",
   "metadata": {
    "deletable": false,
    "editable": false,
    "nbgrader": {
     "cell_type": "markdown",
     "checksum": "a2a8b87afc45f63d68b46f0d48d2f3f0",
     "grade": false,
     "grade_id": "cell-80cc23e4b673174f",
     "locked": true,
     "schema_version": 3,
     "solution": false
    }
   },
   "source": [
    "When you assigned to `planets` above, you changed the array __in-place__, which means you actually modified the block of memory allocated when we made `planets`.  That means that any name which points to the _same array_ will see the changes you made.\n",
    "\n",
    "__Print out the array `also_planets`__ and verify that it shows the addition of Pluto as well."
   ]
  },
  {
   "cell_type": "code",
   "execution_count": 12,
   "metadata": {
    "deletable": false,
    "nbgrader": {
     "cell_type": "code",
     "checksum": "58b4b97f19dc9886eaf36b263b8fe98a",
     "grade": false,
     "grade_id": "cell-48bc3e3b9c55cb35",
     "locked": false,
     "schema_version": 3,
     "solution": true
    }
   },
   "outputs": [
    {
     "data": {
      "text/plain": [
       "array(['Mercury', 'Venus', 'Earth', 'Mars', 'Jupiter', 'Saturn', 'Uranus',\n",
       "       'Neptune', 'Pluto'], dtype='<U7')"
      ]
     },
     "execution_count": 12,
     "metadata": {},
     "output_type": "execute_result"
    }
   ],
   "source": [
    "also_planets"
   ]
  },
  {
   "cell_type": "markdown",
   "metadata": {
    "deletable": false,
    "editable": false,
    "nbgrader": {
     "cell_type": "markdown",
     "checksum": "b4d7f81babc47d2a2258d32dd3414185",
     "grade": false,
     "grade_id": "cell-81fb28c6932df12a",
     "locked": true,
     "schema_version": 3,
     "solution": false
    }
   },
   "source": [
    "Use _slice_ notation `a[i:j:k]` to accomplish the following:\n",
    "\n",
    "* Get and print the names of the _inner_ planets, i.e. everything closer to the Sun than Jupiter, from `planets`.\n",
    "* Get and print all _even_ powers of 2, i.e. $2^0, 2^2, 2^4...$, which appear in `powers_of_two`.\n",
    "* Divide the last three entries in `some_data` by 5 (then print `some_data` to verify.)"
   ]
  },
  {
   "cell_type": "code",
   "execution_count": 13,
   "metadata": {
    "deletable": false,
    "nbgrader": {
     "cell_type": "code",
     "checksum": "9d89677e785d708de1883ed029f93962",
     "grade": false,
     "grade_id": "cell-a4a4dbe080e51c1f",
     "locked": false,
     "schema_version": 3,
     "solution": true
    }
   },
   "outputs": [
    {
     "name": "stdout",
     "output_type": "stream",
     "text": [
      "['Mercury' 'Venus' 'Earth' 'Mars']\n",
      "[  1   4  16  64 256]\n",
      "[ 4.     1.72  -0.22   1.8   -3.61  -0.9   -3.29   0.89   0.658  0.452]\n"
     ]
    }
   ],
   "source": [
    "print(planets[:4])\n",
    "print(powers_of_two[::2])\n",
    "some_data[-3:] /= 5\n",
    "print(some_data)"
   ]
  },
  {
   "cell_type": "markdown",
   "metadata": {
    "deletable": false,
    "editable": false,
    "nbgrader": {
     "cell_type": "markdown",
     "checksum": "ea88ab44670615888e936b62a70ee65f",
     "grade": false,
     "grade_id": "cell-9d2e0def67610cff",
     "locked": true,
     "schema_version": 3,
     "solution": false
    }
   },
   "source": [
    "Finally, use _mask_ notation to accomplish the following:\n",
    "\n",
    "* Get and print all of the negative entries in `some_data`.\n",
    "* Square all of the entries in `powers_of_two` which are greater than 100 (then print `powers_of_two`.)"
   ]
  },
  {
   "cell_type": "code",
   "execution_count": 14,
   "metadata": {
    "deletable": false,
    "nbgrader": {
     "cell_type": "code",
     "checksum": "ca1c006fac79d1ed91ba1eb7a6ed3d00",
     "grade": false,
     "grade_id": "cell-cffc75db17d3134b",
     "locked": false,
     "schema_version": 3,
     "solution": true
    }
   },
   "outputs": [
    {
     "name": "stdout",
     "output_type": "stream",
     "text": [
      "[-0.22 -3.61 -0.9  -3.29]\n",
      "[     1      2      4      8     16     32     64  16384  65536 262144]\n"
     ]
    }
   ],
   "source": [
    "print(some_data[some_data < 0])\n",
    "powers_of_two[powers_of_two > 100] **= 2\n",
    "print(powers_of_two)"
   ]
  },
  {
   "cell_type": "markdown",
   "metadata": {
    "deletable": false,
    "editable": false,
    "nbgrader": {
     "cell_type": "markdown",
     "checksum": "abedd51b96bced09ff49529265709e0e",
     "grade": false,
     "grade_id": "cell-17a2374ba27b0347",
     "locked": true,
     "schema_version": 3,
     "solution": false
    }
   },
   "source": [
    "## T10.2 - Changing arrays\n",
    "\n",
    "In the above examples, we made modifications to our arrays _in place_.  Now let's investigate some of the NumPy operations that create _new_ arrays as a result.  As always, use the NumPy documentation and/or the `?` magic command if you're not sure exactly how to use a function.\n",
    "\n",
    "### Part A\n",
    "\n",
    "The array `a` below contains a list of even numbers from 0 to 16.  Use `np.insert()` to make a new array with the number 9 added to it (in numerical order.)"
   ]
  },
  {
   "cell_type": "code",
   "execution_count": 15,
   "metadata": {
    "deletable": false,
    "nbgrader": {
     "cell_type": "code",
     "checksum": "4486fd7780926d445d11903788e1029b",
     "grade": true,
     "grade_id": "cell-cb560810a7c77c3b",
     "locked": false,
     "points": 2,
     "schema_version": 3,
     "solution": true
    }
   },
   "outputs": [
    {
     "name": "stdout",
     "output_type": "stream",
     "text": [
      "[ 0  2  4  6  8  9 10 12 14 16]\n"
     ]
    }
   ],
   "source": [
    "a = np.arange(0,17,2)\n",
    "\n",
    "### BEGIN SOLUTION\n",
    "b = np.insert(a, 5, 9)\n",
    "print(b)\n",
    "### END SOLUTION\n"
   ]
  },
  {
   "cell_type": "markdown",
   "metadata": {
    "deletable": false,
    "editable": false,
    "nbgrader": {
     "cell_type": "markdown",
     "checksum": "20725c4b8b1bcb0259af9b826b0008b3",
     "grade": false,
     "grade_id": "cell-dd3c515fa721df9f",
     "locked": true,
     "schema_version": 3,
     "solution": false
    }
   },
   "source": [
    "### Part B\n",
    "\n",
    "Use `np.append` to create a single array  that __counts from 0-60 (including both ends__) as follows:\n",
    "\n",
    "* Every number from 0 to 10, then\n",
    "* Every _other_ number from 10 to 30 (so `[10,12,14...]`), and finally\n",
    "* Every _third_ number from 30 to 60 (so `[30,33,36...,60]`).\n",
    "\n",
    "As a quick check, your final array should have length 31."
   ]
  },
  {
   "cell_type": "code",
   "execution_count": 16,
   "metadata": {
    "deletable": false,
    "nbgrader": {
     "cell_type": "code",
     "checksum": "70bb9bdfb72c560df529df929d4dfcac",
     "grade": true,
     "grade_id": "cell-78fc92a56705f106",
     "locked": false,
     "points": 0,
     "schema_version": 3,
     "solution": true
    }
   },
   "outputs": [
    {
     "name": "stdout",
     "output_type": "stream",
     "text": [
      "31\n"
     ]
    },
    {
     "data": {
      "text/plain": [
       "array([ 0,  1,  2,  3,  4,  5,  6,  7,  8,  9, 10, 12, 14, 16, 18, 20, 22,\n",
       "       24, 26, 28, 30, 33, 36, 39, 42, 45, 48, 51, 54, 57, 60])"
      ]
     },
     "execution_count": 16,
     "metadata": {},
     "output_type": "execute_result"
    }
   ],
   "source": [
    "count_a = np.arange(0,10)\n",
    "count_b = np.arange(10,30,2)\n",
    "count_c = np.arange(30,61,3) # Adjust top end to include 60!\n",
    "\n",
    "count = np.append(count_a, count_b)\n",
    "count = np.append(count, count_c)\n",
    "print(len(count))\n",
    "count"
   ]
  },
  {
   "cell_type": "markdown",
   "metadata": {
    "deletable": false,
    "editable": false,
    "nbgrader": {
     "cell_type": "markdown",
     "checksum": "50ec7de815b337b830843b6366996a9f",
     "grade": false,
     "grade_id": "cell-7f69ad3248367592",
     "locked": true,
     "schema_version": 3,
     "solution": false
    }
   },
   "source": [
    "## T10.3 - Using masks\n",
    "\n",
    "Masks are one of the most powerful tools we have for manipulating parts of a NumPy array, beyond the simple examples we saw above.  Let's get more comfortable with using masks, and then see a couple of applications.\n",
    "\n",
    "### Part A\n",
    "\n",
    "Let's begin with the example from lecture:\n",
    "\n",
    "<img src=\"https://physicscourses.colorado.edu/phys2600/phys2600_sp19/img/mask.png\" width=400px />"
   ]
  },
  {
   "cell_type": "code",
   "execution_count": 18,
   "metadata": {
    "deletable": false,
    "editable": false,
    "nbgrader": {
     "cell_type": "code",
     "checksum": "56e4bebcda0ca6b684ea5bc7b665a3bc",
     "grade": false,
     "grade_id": "cell-d9b2fc5608d5e562",
     "locked": true,
     "schema_version": 3,
     "solution": false
    }
   },
   "outputs": [
    {
     "name": "stdout",
     "output_type": "stream",
     "text": [
      "[ True False False  True  True]\n",
      "[17  8 56]\n"
     ]
    }
   ],
   "source": [
    "a = np.array([17,-3,-44,8,56])\n",
    "pos_mask = a > 0\n",
    "print(pos_mask)\n",
    "print(a[pos_mask])"
   ]
  },
  {
   "cell_type": "markdown",
   "metadata": {
    "deletable": false,
    "editable": false,
    "nbgrader": {
     "cell_type": "markdown",
     "checksum": "3c794d9974a33c71561fa78020a085fd",
     "grade": false,
     "grade_id": "cell-d78353bb182dac96",
     "locked": true,
     "schema_version": 3,
     "solution": false
    }
   },
   "source": [
    "As we saw in lecture, we can use the mask __in reverse__, to assign to a sub-array of `a`.  In the cell below, __use `pos_mask` to multiply all of the positive entries in `a` by -1__, so that the array becomes entirely negative."
   ]
  },
  {
   "cell_type": "code",
   "execution_count": 19,
   "metadata": {
    "deletable": false,
    "nbgrader": {
     "cell_type": "code",
     "checksum": "4775bf36e955a2dda939c6f6e8744ff1",
     "grade": false,
     "grade_id": "cell-b409d4b737aa9325",
     "locked": false,
     "schema_version": 3,
     "solution": true
    }
   },
   "outputs": [
    {
     "name": "stdout",
     "output_type": "stream",
     "text": [
      "[-17  -3 -44  -8 -56]\n"
     ]
    }
   ],
   "source": [
    "a[pos_mask] *= -1\n",
    "print(a)"
   ]
  },
  {
   "cell_type": "markdown",
   "metadata": {
    "deletable": false,
    "editable": false,
    "nbgrader": {
     "cell_type": "markdown",
     "checksum": "8eb67510bf254cd0e23200b25a7a5349",
     "grade": false,
     "grade_id": "cell-73cfc0825a4043ed",
     "locked": true,
     "schema_version": 3,
     "solution": false
    }
   },
   "source": [
    "When we use a comparison operator like `a > 0`, we _create a new array_ to be a mask.  That means that `pos_mask` doesn't change automatically if we change `a` - __run the cell below__ to verify that `pos_mask` is unchanged.  (Of course, we can always run a new comparison `a > 0` to get an updated mask.)"
   ]
  },
  {
   "cell_type": "code",
   "execution_count": 20,
   "metadata": {
    "deletable": false,
    "editable": false,
    "nbgrader": {
     "cell_type": "code",
     "checksum": "d092ee1602bb384184c0599dcb5bffb0",
     "grade": false,
     "grade_id": "cell-276186b8d90b4ca2",
     "locked": true,
     "schema_version": 3,
     "solution": false
    }
   },
   "outputs": [
    {
     "name": "stdout",
     "output_type": "stream",
     "text": [
      "[-17  -3 -44  -8 -56]\n",
      "[ True False False  True  True]\n",
      "[False False False False False]\n"
     ]
    }
   ],
   "source": [
    "print(a)\n",
    "print(pos_mask)\n",
    "print(a > 0)"
   ]
  },
  {
   "cell_type": "markdown",
   "metadata": {
    "deletable": false,
    "editable": false,
    "nbgrader": {
     "cell_type": "markdown",
     "checksum": "c1ad12504124307110cc95773234e922",
     "grade": false,
     "grade_id": "cell-f0c55c01876cd15d",
     "locked": true,
     "schema_version": 3,
     "solution": false
    }
   },
   "source": [
    "### Part B\n",
    "\n",
    "As with single Boolean values, there are many situations where applying logical operations to combine or negate a mask is very useful.  Let's run through some examples: first __run the next cell__ to create an array and some masks."
   ]
  },
  {
   "cell_type": "code",
   "execution_count": 28,
   "metadata": {
    "deletable": false,
    "editable": false,
    "nbgrader": {
     "cell_type": "code",
     "checksum": "6eb2c6d8105b85d97763dac193085945",
     "grade": false,
     "grade_id": "cell-4afaeffdd6fdbe87",
     "locked": true,
     "schema_version": 3,
     "solution": false
    }
   },
   "outputs": [
    {
     "name": "stdout",
     "output_type": "stream",
     "text": [
      "[ 0  1  2  3  4  5  6  7  8  9 10 11 12 13 14 15 16 17 18 19 20]\n",
      "[ 0  2  4  6  8 10 12 14 16 18 20]\n",
      "[ 0  3  6  9 12 15 18]\n",
      "[ 0  5 10 15 20]\n"
     ]
    }
   ],
   "source": [
    "b = np.arange(21)\n",
    "div_2_mask = b % 2 == 0\n",
    "div_3_mask = b % 3 == 0\n",
    "div_5_mask = b % 5 == 0\n",
    "print(b)\n",
    "print(b[div_2_mask])\n",
    "print(b[div_3_mask])\n",
    "print(b[div_5_mask])"
   ]
  },
  {
   "cell_type": "markdown",
   "metadata": {
    "deletable": false,
    "editable": false,
    "nbgrader": {
     "cell_type": "markdown",
     "checksum": "87ad70f358e6bc63b43f9865aa41ba99",
     "grade": false,
     "grade_id": "cell-bc084712e7d0099b",
     "locked": true,
     "schema_version": 3,
     "solution": false
    }
   },
   "source": [
    "Our masks here are using the modulo operator to single out numbers in `b` that are divisible by 2, 3, or 5.  Thus, for example, `b[div_2_mask]` gives us all the even numbers.  \n",
    "\n",
    "But what if we want all the _odd_ numbers in `b` instead?  We could make a new mask like `b % 2 != 0`, but we don't need to, since `div_2_mask` already has the information we want if we apply the logical operation `not` to it.\n",
    "\n",
    "Unfortunately, we can't use the keyword `not`, as you'll see from running the cell below:"
   ]
  },
  {
   "cell_type": "code",
   "execution_count": 29,
   "metadata": {
    "deletable": false,
    "editable": false,
    "nbgrader": {
     "cell_type": "code",
     "checksum": "81b50b6c56bc643545d5e4618f06fde7",
     "grade": false,
     "grade_id": "cell-69437bc1542766ce",
     "locked": true,
     "schema_version": 3,
     "solution": false
    }
   },
   "outputs": [
    {
     "ename": "ValueError",
     "evalue": "The truth value of an array with more than one element is ambiguous. Use a.any() or a.all()",
     "output_type": "error",
     "traceback": [
      "\u001b[0;31m---------------------------------------------------------------------------\u001b[0m",
      "\u001b[0;31mValueError\u001b[0m                                Traceback (most recent call last)",
      "\u001b[0;32m<ipython-input-29-9ad6f2d5064c>\u001b[0m in \u001b[0;36m<module>\u001b[0;34m\u001b[0m\n\u001b[0;32m----> 1\u001b[0;31m \u001b[0;32mnot\u001b[0m \u001b[0mdiv_2_mask\u001b[0m\u001b[0;34m\u001b[0m\u001b[0;34m\u001b[0m\u001b[0m\n\u001b[0m",
      "\u001b[0;31mValueError\u001b[0m: The truth value of an array with more than one element is ambiguous. Use a.any() or a.all()"
     ]
    }
   ],
   "source": [
    "not div_2_mask"
   ]
  },
  {
   "cell_type": "markdown",
   "metadata": {
    "deletable": false,
    "editable": false,
    "nbgrader": {
     "cell_type": "markdown",
     "checksum": "951bd280bbb08f0401b81091e060ce25",
     "grade": false,
     "grade_id": "cell-96163c8d34863db6",
     "locked": true,
     "schema_version": 3,
     "solution": false
    }
   },
   "source": [
    "This is the error you'll see if you try to use any of `and`, `or`, or `not` on an array: these operators only work on single Boolean values, not arrays!  Instead, we must use the NumPy equivalent functions.  __Run the next cell__ to see simple examples of each NumPy logical operation."
   ]
  },
  {
   "cell_type": "code",
   "execution_count": 30,
   "metadata": {
    "deletable": false,
    "editable": false,
    "nbgrader": {
     "cell_type": "code",
     "checksum": "b4c7dfa123bb09250bf3a90fc0435c67",
     "grade": false,
     "grade_id": "cell-c6deab1dd67b2a88",
     "locked": true,
     "schema_version": 3,
     "solution": false
    }
   },
   "outputs": [
    {
     "name": "stdout",
     "output_type": "stream",
     "text": [
      "[False False  True]\n",
      "[ True  True  True]\n",
      "[False  True False]\n",
      "[False False  True]\n",
      "[ True  True  True]\n",
      "[False  True False]\n"
     ]
    }
   ],
   "source": [
    "bool_A = np.array([True, True, False])\n",
    "bool_B = np.array([False, True, True])\n",
    "\n",
    "print(np.logical_not(bool_A))\n",
    "print(np.logical_or(bool_A, bool_B))\n",
    "print(np.logical_and(bool_A, bool_B))\n",
    "\n",
    "# Shorthand with \"bit logic\" operators\n",
    "print(~bool_A)\n",
    "print(bool_A | bool_B)\n",
    "print(bool_A & bool_B)"
   ]
  },
  {
   "cell_type": "markdown",
   "metadata": {
    "deletable": false,
    "editable": false,
    "nbgrader": {
     "cell_type": "markdown",
     "checksum": "a7e7af4ce573322d030bf404c7b1d83f",
     "grade": false,
     "grade_id": "cell-10c7d5a166cafc49",
     "locked": true,
     "schema_version": 3,
     "solution": false
    }
   },
   "source": [
    "The operators `~`, `|` and `&` are __bit operations__, that act on the underlying binary data of a Python object directly.  For most purposes you should avoid these operators, but since a Boolean object is a single bit, they just act like shorthand for the logical operations `not`, `or`, `and`.  \n",
    "\n",
    "You can use them interchangeably, but __be careful with the bit-wise operators__, because they will work on _non-Boolean_ objects too - and the results will be pretty weird!\n",
    "\n",
    "Back to our example: use the `not` operation and `div_2_mask` to __select all of the odd entries in `b`__."
   ]
  },
  {
   "cell_type": "code",
   "execution_count": 31,
   "metadata": {
    "deletable": false,
    "nbgrader": {
     "cell_type": "code",
     "checksum": "344f97df434466dd773ce17340f2a064",
     "grade": false,
     "grade_id": "cell-db07479c86ec9af1",
     "locked": false,
     "schema_version": 3,
     "solution": true
    }
   },
   "outputs": [
    {
     "data": {
      "text/plain": [
       "array([ 1,  3,  5,  7,  9, 11, 13, 15, 17, 19])"
      ]
     },
     "execution_count": 31,
     "metadata": {},
     "output_type": "execute_result"
    }
   ],
   "source": [
    "b[np.logical_not(div_2_mask)]"
   ]
  },
  {
   "cell_type": "markdown",
   "metadata": {
    "deletable": false,
    "editable": false,
    "nbgrader": {
     "cell_type": "markdown",
     "checksum": "28ecf567011aebb583541046de77553c",
     "grade": false,
     "grade_id": "cell-ffe1a8e1b4214765",
     "locked": true,
     "schema_version": 3,
     "solution": false
    }
   },
   "source": [
    "Now use the `and` operation with the masks we defined to __select all of the multiples of 6 in `b`__."
   ]
  },
  {
   "cell_type": "code",
   "execution_count": 32,
   "metadata": {
    "deletable": false,
    "nbgrader": {
     "cell_type": "code",
     "checksum": "9c3048ff554def42537c19d576a37a14",
     "grade": false,
     "grade_id": "cell-3c6734e7aea2175f",
     "locked": false,
     "schema_version": 3,
     "solution": true
    }
   },
   "outputs": [
    {
     "data": {
      "text/plain": [
       "array([ 0,  6, 12, 18])"
      ]
     },
     "execution_count": 32,
     "metadata": {},
     "output_type": "execute_result"
    }
   ],
   "source": [
    "b[np.logical_and(div_2_mask, div_3_mask)]"
   ]
  },
  {
   "cell_type": "markdown",
   "metadata": {
    "deletable": false,
    "editable": false,
    "nbgrader": {
     "cell_type": "markdown",
     "checksum": "287513348c777131e1f8c524b029091c",
     "grade": false,
     "grade_id": "cell-de39725124b390b2",
     "locked": true,
     "schema_version": 3,
     "solution": false
    }
   },
   "source": [
    "Finally, let's try assigning through the mask: use the `or` operation to __set every entry of `b` which is not a multiple of 2, 3, or 5 to zero.__"
   ]
  },
  {
   "cell_type": "code",
   "execution_count": 33,
   "metadata": {
    "deletable": false,
    "nbgrader": {
     "cell_type": "code",
     "checksum": "ffe17fd8a7238385667262b10b1f6dec",
     "grade": false,
     "grade_id": "cell-2f7a0e1a9c0d64a7",
     "locked": false,
     "schema_version": 3,
     "solution": true
    }
   },
   "outputs": [
    {
     "name": "stdout",
     "output_type": "stream",
     "text": [
      "[ 0  0  2  3  4  5  6  0  8  9 10  0 12  0 14 15 16  0 18  0 20]\n"
     ]
    }
   ],
   "source": [
    "div_235_mask = np.logical_not(np.logical_or(div_2_mask, np.logical_or(div_3_mask, div_5_mask)))\n",
    "b[div_235_mask] = 0\n",
    "\n",
    "print(b)"
   ]
  },
  {
   "cell_type": "markdown",
   "metadata": {
    "deletable": false,
    "editable": false,
    "nbgrader": {
     "cell_type": "markdown",
     "checksum": "322f5709c69ca8f35e7e18d2c2375d86",
     "grade": false,
     "grade_id": "cell-6b6b221447b16553",
     "locked": true,
     "schema_version": 3,
     "solution": false
    }
   },
   "source": [
    "### Part C\n",
    "\n",
    "Now let's actually do something useful with masks! Implement the __square wave pulse__ function `square_wave(x)` below, which is defined by\n",
    "\n",
    "\\\\[\n",
    "w(x) = \\begin{cases} 1, -1 \\leq x \\leq 1; \\\\ 0,\\ \\rm{otherwise}. \\end{cases}\n",
    "\\\\]\n",
    "\n",
    "_(Hint: the_ `np.zeros_like()` or `np.ones_like()` _functions would be a useful starting point for making the array `w` that your function should return.  Then you just need to apply a mask to set some of the zeros to 1 (or vice-versa.)_\n",
    "\n",
    "__Important note:__ make sure you make a _new_ array for the result of the function `w(x)`, and don't overwrite anything in `x` itself!  Changing `x` would be an example of a __side effect__, which is when a function does something _other_ than just returning a new object.  If you're trying to plot `w(x)`, you don't want to change the `x` array that you're given!"
   ]
  },
  {
   "cell_type": "code",
   "execution_count": 34,
   "metadata": {
    "deletable": false,
    "nbgrader": {
     "cell_type": "code",
     "checksum": "2c703f415dc72894bfe56b09ba53085a",
     "grade": true,
     "grade_id": "cell-4c11297537d5960e",
     "locked": false,
     "points": 0,
     "schema_version": 3,
     "solution": true
    }
   },
   "outputs": [],
   "source": [
    "def square_wave(x):\n",
    "    ### BEGIN SOLUTION\n",
    "\n",
    "    ## This fails because it translates to (-1 <= x) and (x <= 1),\n",
    "    ## but regular `and` doesn't recognize NumPy arrays!\n",
    "#    wave_mask = -1 <= x <= 1\n",
    "    ## We need the numpy version:\n",
    "    wave_mask = np.logical_and(-1 <= x, x <= 1)\n",
    "    \n",
    "    w = np.zeros_like(x, np.float64)\n",
    "    w[wave_mask] = 1.\n",
    "    \n",
    "    ## We don't need to do this, because those entries are already zero!\n",
    "#    w[~wave_mask] = 0.  \n",
    "    \n",
    "    return w\n",
    "    ### END SOLUTION\n",
    "    \n",
    "    "
   ]
  },
  {
   "cell_type": "code",
   "execution_count": 35,
   "metadata": {
    "deletable": false,
    "editable": false,
    "nbgrader": {
     "cell_type": "code",
     "checksum": "0baa088291264d64fd540ec0999dcc64",
     "grade": true,
     "grade_id": "cell-de9e8e87f11f2ee5",
     "locked": true,
     "points": 0,
     "schema_version": 3,
     "solution": false
    }
   },
   "outputs": [],
   "source": [
    "import numpy.testing as npt\n",
    "\n",
    "x = np.arange(-5,5)\n",
    "npt.assert_allclose(square_wave(x), [0., 0., 0., 0., 1., 1., 1., 0., 0., 0.])\n",
    "npt.assert_allclose(x, np.arange(-5,5))  # Make sure x didn't change!"
   ]
  },
  {
   "cell_type": "code",
   "execution_count": 36,
   "metadata": {
    "deletable": false,
    "editable": false,
    "nbgrader": {
     "cell_type": "code",
     "checksum": "95ece60e115e0662715b7ca424a5936d",
     "grade": true,
     "grade_id": "cell-65e4dfaf2a4f5a01",
     "locked": true,
     "points": 0,
     "schema_version": 3,
     "solution": false
    }
   },
   "outputs": [
    {
     "data": {
      "text/plain": [
       "[<matplotlib.lines.Line2D at 0x7f292dc5ea58>]"
      ]
     },
     "execution_count": 36,
     "metadata": {},
     "output_type": "execute_result"
    },
    {
     "data": {
      "image/png": "[encoded data removed]",
      "text/plain": [
       "<Figure size 432x288 with 1 Axes>"
      ]
     },
     "metadata": {
      "needs_background": "light"
     },
     "output_type": "display_data"
    }
   ],
   "source": [
    "# Test plot: should look like a square pulse from -1 to 1\n",
    "\n",
    "x = np.linspace(-3,3,100000)\n",
    "w = square_wave(x)\n",
    "plt.plot(x,w)"
   ]
  }
 ],
 "metadata": {
  "kernelspec": {
   "display_name": "Python 3",
   "language": "python",
   "name": "python3"
  },
  "language_info": {
   "codemirror_mode": {
    "name": "ipython",
    "version": 3
   },
   "file_extension": ".py",
   "mimetype": "text/x-python",
   "name": "python",
   "nbconvert_exporter": "python",
   "pygments_lexer": "ipython3",
   "version": "3.6.8"
  }
 },
 "nbformat": 4,
 "nbformat_minor": 2
}
