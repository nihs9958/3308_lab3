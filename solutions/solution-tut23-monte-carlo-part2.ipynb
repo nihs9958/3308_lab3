{
 "cells": [
  {
   "cell_type": "markdown",
   "metadata": {
    "deletable": false,
    "editable": false,
    "nbgrader": {
     "cell_type": "markdown",
     "checksum": "9a695ebca67ef48e6e1cb37f570b66b5",
     "grade": false,
     "grade_id": "cell-100899e0deea9789",
     "locked": true,
     "schema_version": 3,
     "solution": false
    }
   },
   "source": [
    "# Tutorial 23: Monte Carlo Integration\n",
    "\n",
    "## PHYS 2600, Spring 2019"
   ]
  },
  {
   "cell_type": "code",
   "execution_count": 1,
   "metadata": {
    "deletable": false,
    "editable": false,
    "nbgrader": {
     "cell_type": "code",
     "checksum": "ce581a64f45da245c3b05d8405db4632",
     "grade": false,
     "grade_id": "cell-e4302376dbe2ef21",
     "locked": true,
     "schema_version": 3,
     "solution": false
    }
   },
   "outputs": [],
   "source": [
    "# Import cell\n",
    "%matplotlib inline\n",
    "\n",
    "import numpy as np\n",
    "from scipy.special import gamma\n",
    "import matplotlib.pyplot as plt"
   ]
  },
  {
   "cell_type": "markdown",
   "metadata": {
    "deletable": false,
    "editable": false,
    "nbgrader": {
     "cell_type": "markdown",
     "checksum": "effbd6a9871c5f464ac68cc4aa33091b",
     "grade": false,
     "grade_id": "cell-ee791ecfa85d70bb",
     "locked": true,
     "schema_version": 3,
     "solution": false
    }
   },
   "source": [
    "## T23.1 - Spheres in higher dimensions\n",
    "\n",
    "As discussed in lecture, Monte Carlo integration really shines for integrals with a high number of dimensions.  Let's investigate with a simple calculation: finding the volume of a unit sphere (radius $R=1$) in $d$ dimensions.  This will be a good test case because we know the answer exactly:\n",
    "\n",
    "$$\n",
    "V_d(1) = \\frac{\\pi^{d/2}}{\\Gamma(d/2+1)}\n",
    "$$\n",
    "\n",
    "where $\\Gamma$ is the Euler gamma function (available as the `gamma` function from `scipy.special` - I've imported it above.)  For even $d=2k$, the formula simplifies to\n",
    "\n",
    "$$\n",
    "V_{2k}(1) = \\frac{\\pi^k}{k!}\n",
    "$$\n",
    "\n",
    "The $d=2$ sphere is just the circle, and we recognize $V_2 = \\pi$.  The next (probably unfamiliar) example is $d=4$, for which we get $V_4 = \\pi^2 / 2$.\n",
    "\n",
    "\n",
    "### Part A\n",
    "\n",
    "Now let's set the problem up as an integral.  In $d=2$, the equation for a circle is $x^2 + y^2 = 1$.  If we restrict to the first quadrant $x>0, y>0$, we can rewrite this as $y = \\sqrt{1-x^2}$ with no ambiguity, and then we have\n",
    "\n",
    "$$\n",
    "V_2(1) = 4 \\int_0^1 dx\\ \\sqrt{1-x^2} \\approx 4V \\langle \\sqrt{1 - x^2} \\rangle = 4 \\langle \\sqrt{1-x^2} \\rangle = \\frac{4}{N} \\sum_{i=1}^N \\sqrt{1-x_i^2}\n",
    "$$\n",
    "\n",
    "where we draw $N$ random points $x_i$, and the 4 is to compensate for restricting to the first quadrant.  Here $V$ is the volume of the sampling region, which is just 1 (the length of the $x$-interval.)\n",
    "\n",
    "__Follow the comments in the cell below__ to set up and evaluate this integral using `N` random samples.\n"
   ]
  },
  {
   "cell_type": "code",
   "execution_count": 2,
   "metadata": {
    "deletable": false,
    "nbgrader": {
     "cell_type": "code",
     "checksum": "f05584fa1c15ec7276bbae03b9e20c15",
     "grade": true,
     "grade_id": "cell-ed9cfecad595dd83",
     "locked": false,
     "points": 2,
     "schema_version": 3,
     "solution": true
    }
   },
   "outputs": [
    {
     "name": "stdout",
     "output_type": "stream",
     "text": [
      "3.170517538535273\n"
     ]
    }
   ],
   "source": [
    "N=1000  # Number of samples\n",
    "\n",
    "# Draw Ns random numbers in [0,1] with np.random.rand()\n",
    "\n",
    "# Find E1, the mean of sqrt(1-x^2) over the random numbers x\n",
    "\n",
    "# Integral V2 is equal to 4 times E1\n",
    "\n",
    "### BEGIN SOLUTION\n",
    "x = np.random.rand(N)\n",
    "E1 = np.mean(np.sqrt(1-x**2))\n",
    "V2 = 4*E1\n",
    "\n",
    "print(V2) \n",
    "### END SOLUTION\n"
   ]
  },
  {
   "cell_type": "markdown",
   "metadata": {
    "deletable": false,
    "editable": false,
    "nbgrader": {
     "cell_type": "markdown",
     "checksum": "67a9438a4a56f8a98679346aa4d53fba",
     "grade": false,
     "grade_id": "cell-4704c73f7cc0ebf6",
     "locked": true,
     "schema_version": 3,
     "solution": false
    }
   },
   "source": [
    "This should give you something reasonably close to the expected answer of $\\pi$, but probably slightly off due to random fluctuations. \n",
    "\n",
    "### Part B\n",
    "\n",
    "Actually, it would be better to calculate the __standard error__ as well, so we know how far we _expect_ to be off of the right answer.  We recall the main formula for Monte Carlo integration from lecture,\n",
    "\n",
    "$$\n",
    "I \\approx V \\langle f(\\mathbf{x}) \\rangle \\pm V \\sqrt{\\frac{\\langle f(\\mathbf{x})^2 \\rangle - \\langle f(\\mathbf{x}) \\rangle^2}{N}} \n",
    "$$\n",
    "\n",
    "For our specific integral, we have\n",
    "\n",
    "$$\n",
    "V_2(1) \\approx 4 \\langle \\sqrt{1-x^2} \\rangle + 4 \\sqrt{\\frac{\\langle 1-x^2 \\rangle - \\langle \\sqrt{1-x^2} \\rangle^2}{N}}\n",
    "$$\n",
    "\n",
    "In the cell below, __calculate the expectation of $1-x^2$__ and __use it to estimate the standard error__ `err_V2` of your integral from above.  The difference between your result and $\\pi$ should fall within the standard error most of the time if you repeat the trial.\n",
    "\n"
   ]
  },
  {
   "cell_type": "code",
   "execution_count": 3,
   "metadata": {
    "deletable": false,
    "nbgrader": {
     "cell_type": "code",
     "checksum": "62002e98671cbe3f8b8e8d78cb6d4a84",
     "grade": true,
     "grade_id": "cell-53b9c986f3c7f0ef",
     "locked": false,
     "points": 0,
     "schema_version": 3,
     "solution": true
    }
   },
   "outputs": [
    {
     "name": "stdout",
     "output_type": "stream",
     "text": [
      "3.170517538535273 +/- 0.027740458357111763\n"
     ]
    }
   ],
   "source": [
    "# Find E2 = <1-x^2> using the random draw from above\n",
    "\n",
    "# Calculate the standard error using E2, E1 and N\n",
    "\n",
    "### BEGIN SOLUTION\n",
    "E2 = np.mean(1-x**2)\n",
    "err_V2 = 4 * np.sqrt((E2 - E1**2)/N)\n",
    "### END SOLUTION\n",
    "\n",
    "\n",
    "print(V2, \"+/-\", err_V2)"
   ]
  },
  {
   "cell_type": "markdown",
   "metadata": {
    "deletable": false,
    "editable": false,
    "nbgrader": {
     "cell_type": "markdown",
     "checksum": "063db831995e77e8df69f7d5d547c47a",
     "grade": false,
     "grade_id": "cell-1d29b78e00d4a3b8",
     "locked": true,
     "schema_version": 3,
     "solution": false
    }
   },
   "source": [
    "### Part C\n",
    "\n",
    "Now we're ready to deal with the general case.  For any number of dimensions $d$, we can write the volume of a unit sphere as the integral\n",
    "\n",
    "$$\n",
    "V_d(1) = 2^d \\int_0^1 \\int_0^{\\sqrt{1-x_1^2}}... \\int_0^\\sqrt{1-x_1^2-x_2^2-...-x_{d-2}^2} dx_1 dx_2 ... dx_{d-1} \\sqrt{1 - \\sum_{i=1}^{d-1} x_i^2}\n",
    "$$\n",
    "\n",
    "where the $2^d$ comes from picking the higher-dimensional equivalent of the first quadrant.  The limits of integration get a bit tricky in higher dimensions, unfortunately!  Although it's not too bad to deal with, let's start with the conceptually simpler algorithm instead.  Instead of eliminating $x_d$ and getting the square root, we can simply write\n",
    "\n",
    "$$\n",
    "V_d(1) = \\int dx_1 ... dx_d\\ \\Theta(1 - \\sum_{i=1}^{d} x_i^2)\n",
    "$$\n",
    "where $\\Theta$ is the Heaviside step function.  This leads us back to the \"hit-or-miss\" Monte Carlo algorithm, since the step function is just 1 for any point inside the unit sphere and 0 outside.\n",
    "\n",
    "__Implement the function `V_sphere_MC(d, N)` below__, which should compute the volume of the `d`-sphere using `N` samples and the hit-or-miss algorithm:\n",
    "\n",
    "1. Draw points $(x_1, x_2, ..., x_d)$ randomly over the hypercube ($-1 \\leq x_i \\leq 1$).\n",
    "2. Count the number of points $N_{\\rm hit}$ inside the unit sphere, $\\sum_{i=1}^d x_i^2 \\leq 1$.\n",
    "3. Return $V_d = V (N_{\\rm hit} / N)$, where $V = 2^d$ is the volume of the hypercube we're sampling from.\n",
    "\n",
    "_(Hint: even though we're dealing with d-dimensional vectors, since we only care about the __lengths__ of the vectors, you don't have to worry about using the dot product; just square all the components of the vector and then add them up.)_"
   ]
  },
  {
   "cell_type": "code",
   "execution_count": 4,
   "metadata": {
    "deletable": false,
    "nbgrader": {
     "cell_type": "code",
     "checksum": "3cd6e76ad1f532052ed37bc58617d780",
     "grade": false,
     "grade_id": "cell-0135c572bc30acbb",
     "locked": false,
     "schema_version": 3,
     "solution": true
    }
   },
   "outputs": [
    {
     "data": {
      "text/plain": [
       "4.816"
      ]
     },
     "execution_count": 4,
     "metadata": {},
     "output_type": "execute_result"
    }
   ],
   "source": [
    "def V_sphere_MC(d, N):\n",
    "    \n",
    "    # Draw an (N x d) array containing N random vectors of length d\n",
    "    # The random numbers should be between [-1,1], so rescale them!\n",
    "    \n",
    "    # Square the random array, then sum over the axis of length d, \n",
    "    # to produce an array of squared vector lengths\n",
    "    \n",
    "    # Use the squared lengths to create a boolean array which is True\n",
    "    # for any points inside the sphere\n",
    "    \n",
    "    # Use np.count_nonzero on the boolean array,\n",
    "    # to count N_hit, how many points are in the sphere\n",
    "    \n",
    "    # Vd = (2**d) * N_hit / N\n",
    "    \n",
    "    ### BEGIN SOLUTION\n",
    "    x = 2 * np.random.rand(N, d) - 1\n",
    "    \n",
    "    in_sphere = np.sum(x**2, axis=1) <= 1\n",
    "    N_hit = np.count_nonzero(in_sphere)\n",
    "    \n",
    "    Vd = 2**d * N_hit / N\n",
    "    ### END SOLUTION\n",
    "    \n",
    "    \n",
    "    return Vd\n",
    "    \n",
    "\n",
    "V_sphere_MC(4, 1000)"
   ]
  },
  {
   "cell_type": "code",
   "execution_count": 5,
   "metadata": {},
   "outputs": [
    {
     "name": "stdout",
     "output_type": "stream",
     "text": [
      "3.1488\n",
      "4.144\n"
     ]
    }
   ],
   "source": [
    "# Evaluate in d=2: should be close to pi = 3.1415...\n",
    "print(V_sphere_MC(2, 10000))\n",
    "\n",
    "# Evaluate in d=3: should be close to (4/3) pi = 4.18879...\n",
    "print(V_sphere_MC(3, 10000))"
   ]
  },
  {
   "cell_type": "markdown",
   "metadata": {
    "deletable": false,
    "editable": false,
    "nbgrader": {
     "cell_type": "markdown",
     "checksum": "eb1ea9997f50e8b7ebe3ac79b33a3567",
     "grade": false,
     "grade_id": "cell-fbb82367cea82f5d",
     "locked": true,
     "schema_version": 3,
     "solution": false
    }
   },
   "source": [
    "The standard error formula still works for hit-or-miss Monte Carlo!  Since the Heaviside function is equal to its own square, we just have\n",
    "\n",
    "$$\n",
    "\\sigma_{d, \\rm sem} = \\sqrt{\\frac{2^d I - I^2}{N}}\n",
    "$$\n",
    "\n",
    "I've provided a _wrapper function_ below that takes your implementation of `V_sphere_MC(d,N)` above and adds an error estimate to it before returning both.\n",
    "\n",
    "If you try this with $d=2$, how does hit-or-miss compare to the standard error you got in part B?"
   ]
  },
  {
   "cell_type": "code",
   "execution_count": 7,
   "metadata": {
    "deletable": false,
    "editable": false,
    "nbgrader": {
     "cell_type": "code",
     "checksum": "5f255e57ff168f65e4d8f4aaa4a1a0cf",
     "grade": false,
     "grade_id": "cell-7201555fe84de4b9",
     "locked": true,
     "schema_version": 3,
     "solution": false
    }
   },
   "outputs": [],
   "source": [
    "def V_sphere_witherr(d, N):\n",
    "    Vd = V_sphere_MC(d,N)\n",
    "    sigma_SEM = np.sqrt((2**d * Vd - Vd*Vd) / N)\n",
    "    \n",
    "    return (Vd, sigma_SEM)\n",
    "    "
   ]
  },
  {
   "cell_type": "code",
   "execution_count": 8,
   "metadata": {
    "deletable": false,
    "nbgrader": {
     "cell_type": "code",
     "checksum": "1849baf0423a434194625d9a96618f76",
     "grade": false,
     "grade_id": "cell-6d59b18282f51f88",
     "locked": false,
     "schema_version": 3,
     "solution": true
    }
   },
   "outputs": [
    {
     "data": {
      "text/plain": [
       "(3.156, 0.0516106965657314)"
      ]
     },
     "execution_count": 8,
     "metadata": {},
     "output_type": "execute_result"
    }
   ],
   "source": [
    "# Testing in d=2 again; should (on most trials) be within 1 sigma_SEM of pi.\n",
    "# Error is a bit larger for the same number of points, since we're sampling one extra dimension!\n",
    "V_sphere_witherr(2,1000)"
   ]
  },
  {
   "cell_type": "markdown",
   "metadata": {
    "deletable": false,
    "editable": false,
    "nbgrader": {
     "cell_type": "markdown",
     "checksum": "834e2f411ccce4ebeb61be7412aedff5",
     "grade": false,
     "grade_id": "cell-06e86df406c50ad9",
     "locked": true,
     "schema_version": 3,
     "solution": false
    }
   },
   "source": [
    "### Part D\n",
    "\n",
    "Now that we have a general code working, let's start to turn up the number of dimensions and see how the _curse of dimensionality_ sets in.  __Run the two cells below__, adjusting `d` to try to answer the following questions (__write your answers in the Markdown cell below__):\n",
    "\n",
    "* Do you get the right answer for d=4 and d=6?\n",
    "* What qualitative change starts to happen around d=10 with the small numbers of samples?\n",
    "* How high can you go in `d` before even the final Monte Carlo run with 1 million samples starts to deviate badly from the exact answer?"
   ]
  },
  {
   "cell_type": "code",
   "execution_count": 9,
   "metadata": {},
   "outputs": [],
   "source": [
    "d = 10"
   ]
  },
  {
   "cell_type": "code",
   "execution_count": 10,
   "metadata": {
    "deletable": false,
    "editable": false,
    "nbgrader": {
     "cell_type": "code",
     "checksum": "5b30d13341b3e39a61a12984e85ba180",
     "grade": false,
     "grade_id": "cell-d9ea62c3544a8a05",
     "locked": true,
     "schema_version": 3,
     "solution": false
    }
   },
   "outputs": [
    {
     "name": "stdout",
     "output_type": "stream",
     "text": [
      "Exact volume: V_10 = 2.55016\n",
      "100 samples: V_10 = 0 +/- 0\n",
      "1000 samples: V_10 = 1.024 +/- 1.02349\n",
      "10000 samples: V_10 = 2.7648 +/- 0.531367\n",
      "100000 samples: V_10 = 2.83648 +/- 0.170191\n",
      "1000000 samples: V_10 = 2.56 +/- 0.051136\n"
     ]
    }
   ],
   "source": [
    "def exact_vol(d):\n",
    "    return np.pi**(d/2) / gamma(d/2 + 1)\n",
    "\n",
    "print(\"Exact volume: V_{0:d} = {1:g}\".format(d, exact_vol(d)))\n",
    "print(\"100 samples: V_{0:d} = {1:g} +/- {2:g}\".format(d, *V_sphere_witherr(d, 100)))\n",
    "print(\"1000 samples: V_{0:d} = {1:g} +/- {2:g}\".format(d, *V_sphere_witherr(d, 1000)))\n",
    "print(\"10000 samples: V_{0:d} = {1:g} +/- {2:g}\".format(d, *V_sphere_witherr(d, 10000)))\n",
    "print(\"100000 samples: V_{0:d} = {1:g} +/- {2:g}\".format(d, *V_sphere_witherr(d, 100000)))\n",
    "print(\"1000000 samples: V_{0:d} = {1:g} +/- {2:g}\".format(d, *V_sphere_witherr(d, 1000000)))"
   ]
  },
  {
   "cell_type": "markdown",
   "metadata": {
    "deletable": false,
    "nbgrader": {
     "cell_type": "markdown",
     "checksum": "3d3a1d9c3e2db954407d50daa6db12bb",
     "grade": true,
     "grade_id": "cell-0381338fa4e0c62a",
     "locked": false,
     "points": 0,
     "schema_version": 3,
     "solution": true
    }
   },
   "source": [
    "__The qualitative change you should have noticed around `d=10` or so is due to a simple quirk of higher-dimensional geometry.  We're sampling from a hypercube enclosing the unit sphere, which has volume__\n",
    "\n",
    "$$\n",
    "V_{d,\\rm{cube}} = 2^d\n",
    "$$\n",
    "\n",
    "__We know from 2 and 3 dimensions that the unit sphere fits _inside_ this cube, of course (that's why we can use the cube as a sampling region) - only the corners of the cube are outside the sphere.  But how much space is that?  The ratio of sphere to cube volume is, in even $d$ for simplicity,__\n",
    "\n",
    "$$\n",
    "\\frac{V_{2k,\\rm{sphere}}}{V_{2k,\\rm{cube}}} = \\frac{\\pi^k}{4^k k!}\n",
    "$$\n",
    "\n",
    "__This is dropping to zero really, really fast - for $k=5$ ($d=10$) the sphere only takes up 0.2% of the cube, and for $d=20$ the cube's volume is about $10^8$ times larger!  (The difference is still just due to the corners of the cube, but a hypercube has a _lot_ of corners.)__"
   ]
  },
  {
   "cell_type": "markdown",
   "metadata": {
    "deletable": false,
    "editable": false,
    "nbgrader": {
     "cell_type": "markdown",
     "checksum": "b46af1f6b5e718dd85f17e4d6d858199",
     "grade": false,
     "grade_id": "cell-db011edaedfa326c",
     "locked": true,
     "schema_version": 3,
     "solution": false
    }
   },
   "source": [
    "### Part E\n",
    "\n",
    "Monte Carlo integration is most often used for high-dimensional integrals.  But another convenient application can be to integrals that are just really messy to set up due to their geometry.  For example, suppose we want to calculate the mass of a steel sphere that has a cylindrical hole of radius $r$ bored through the center:\n",
    "\n",
    "<img src=\"https://physicscourses.colorado.edu/phys2600/phys2600_sp19/img/sphere-cyl-hole.png\" width=350px />\n",
    "\n",
    "Assuming a constant density, we just need to know the volume to find the mass.  We can write the equation defining the sphere as:\n",
    "\n",
    "$$\n",
    "\\begin{cases}\n",
    "\\sqrt{x^2 + y^2 + z^2} &\\leq 1, \\\\\n",
    "\\sqrt{x^2 + y^2} &\\geq 0.3.\n",
    "\\end{cases}\n",
    "$$\n",
    "\n",
    "This would be annoying to set up by hand, since we have a mixture of spherical and cylindrical symmetry.  But finding the volume using hit-or-miss Monte Carlo is easy - we just generate random points in the cube $-1 \\leq x,y,z \\leq 1$, and then see if they're in the sphere (and not in the cylindrical hole).\n",
    "\n",
    "__Modify your hit-and-miss volume Monte Carlo above__ to find the volume of this shape in three dimensions."
   ]
  },
  {
   "cell_type": "code",
   "execution_count": 11,
   "metadata": {
    "deletable": false,
    "nbgrader": {
     "cell_type": "code",
     "checksum": "d3342f5af8421d8ef5e634112190cb31",
     "grade": false,
     "grade_id": "cell-f1d6353dc1796c7e",
     "locked": false,
     "schema_version": 3,
     "solution": true
    }
   },
   "outputs": [],
   "source": [
    "def V_sphere_with_hole_MC(N):\n",
    "    ### BEGIN SOLUTION\n",
    "    # Draw random numbers in the cube -1 <= x,y,z <= 1\n",
    "    x = 2 * np.random.rand(N, 3) - 1\n",
    "    \n",
    "    # Two masks: are they in the sphere?  Are they outside the cylindrical hole?\n",
    "    sphere_mask = np.sum(x**2, axis=1) <= 1\n",
    "    cyl_mask = np.sum(x[:,0:2]**2, axis=1) >= 0.3**2\n",
    "        \n",
    "    # Count how many points are True for _both_ masks\n",
    "    N_inside = np.count_nonzero(np.logical_and(sphere_mask, cyl_mask))\n",
    "    \n",
    "    return 2**3 * N_inside / N\n",
    "    ### END SOLUTION\n",
    "    \n"
   ]
  },
  {
   "cell_type": "markdown",
   "metadata": {
    "deletable": false,
    "editable": false,
    "nbgrader": {
     "cell_type": "markdown",
     "checksum": "6922f76282920397a2643c77c94b16fd",
     "grade": false,
     "grade_id": "cell-1bcfae2fffe5613e",
     "locked": true,
     "schema_version": 3,
     "solution": false
    }
   },
   "source": [
    "Now run the Monte Carlo and find the volume.  In this case, we have a theoretical estimate for the result:\n",
    "\n",
    "$$\n",
    "V = V_{\\rm sphere} - V_{\\rm cyl} \\\\\n",
    "= \\frac{4}{3} \\pi R^3 - \\pi r^2 h \\\\\n",
    "= \\frac{4}{3} \\pi - \\pi (0.3)^2 (2) \\\\\n",
    "\\approx 3.62.\n",
    "$$\n",
    "\n",
    "This isn't _quite_ right, because there are a handful of points that are in the cylinder but not in the sphere which are being oversubtracted; you might try using your Monte Carlo simulation to see how much volume that region (in the cylinder, out of the sphere) really is.  But it should be pretty close.\n",
    "\n",
    "For volume this exercise is sort of trivial, but if the object wasn't constant density, or if we wanted some more complicated property like the moments of inertia, then Monte Carlo would be a nice way to do the integral!  (You'll do a more interesting example on the homework.)"
   ]
  },
  {
   "cell_type": "code",
   "execution_count": 12,
   "metadata": {
    "deletable": false,
    "nbgrader": {
     "cell_type": "code",
     "checksum": "93e428dc3bbf3775b228c515a60214a2",
     "grade": false,
     "grade_id": "cell-d5b502ddb0eb0854",
     "locked": false,
     "schema_version": 3,
     "solution": true
    }
   },
   "outputs": [
    {
     "data": {
      "text/plain": [
       "3.622"
      ]
     },
     "execution_count": 12,
     "metadata": {},
     "output_type": "execute_result"
    }
   ],
   "source": [
    "V_sphere_with_hole_MC(100000)"
   ]
  },
  {
   "cell_type": "markdown",
   "metadata": {
    "deletable": false,
    "editable": false,
    "nbgrader": {
     "cell_type": "markdown",
     "checksum": "a728b8609f66662d9caa1c50be2c42b6",
     "grade": false,
     "grade_id": "cell-8194b73a21cf82a8",
     "locked": true,
     "schema_version": 3,
     "solution": false
    }
   },
   "source": [
    "### Part F _(optional challenge)_\n",
    "\n",
    "Now, can you go back and use the more complicated integral with the definite limits to implement `V_sphere_MC_v2`, using the standard Monte Carlo integral procedure (in $d-1$ dimensions) instead of hit-or-miss (in $d$ dimensions)?  Here's the formula again:\n",
    "\n",
    "$$\n",
    "V_d(1) = 2^d \\int_0^1 \\int_0^{\\sqrt{1-x_1^2}}... \\int_0^\\sqrt{1-x_1^2-x_2^2-...-x_{d-2}^2} dx_1 dx_2 ... dx_{d-1} \\sqrt{1 - \\sum_{i=1}^{d-1} x_i^2} \\\\\n",
    "= 2^d \\int_0^1 dx_1 \\int_0^1 dx_2 \\Theta(\\sqrt{1-x_1^2} - x_2) \\int_0^1 dx_3 \\Theta(\\sqrt{1 - x_1^2 - x_2^2} - x_3) ... \\sqrt{1-\\sum_{i=1}^{d-1} x_i^2}\n",
    "$$\n",
    "\n",
    "(remember, the method as we've formulated it needs a sampling region of known volume, so we again use step functions to get all the $x_i$ out of the limits.  In practice, this means you'll need several masks to only keep random points that are inside the sphere!)\n",
    "\n",
    "As we saw by comparing to the 2d example, you should get smaller errors for the same number of samples using this form."
   ]
  },
  {
   "cell_type": "code",
   "execution_count": 13,
   "metadata": {
    "deletable": false,
    "nbgrader": {
     "cell_type": "code",
     "checksum": "510f65f659c4d6c9810d1f371b1f0136",
     "grade": false,
     "grade_id": "cell-8f99bfc9ea5457b6",
     "locked": false,
     "schema_version": 3,
     "solution": true
    }
   },
   "outputs": [],
   "source": [
    "def V_sphere_MC_v2(d, N):\n",
    "    # Note: the current implementation only works for d>2;\n",
    "    # it wouldn't be too hard to add that as a special case.\n",
    "    \n",
    "    random_points = np.random.rand(d-1, N)\n",
    "\n",
    "    random_V = np.sqrt(1-np.sum(random_points**2, axis=0))\n",
    "    \n",
    "    sphere_mask = random_points[1,:] <= np.sqrt(1-random_points[0,:]**2)\n",
    "    for i in range(1,d-1):\n",
    "        sphere_mask = np.logical_and(sphere_mask, random_points[i,:] <= np.sqrt(1-np.sum(random_points[:i,:]**2, axis=0)))\n",
    "    \n",
    "    random_mean = 2**d / N * np.sum(random_V[sphere_mask])\n",
    "    \n",
    "    return random_mean"
   ]
  },
  {
   "cell_type": "code",
   "execution_count": 14,
   "metadata": {},
   "outputs": [
    {
     "name": "stdout",
     "output_type": "stream",
     "text": [
      "2.6624\n"
     ]
    },
    {
     "name": "stderr",
     "output_type": "stream",
     "text": [
      "/opt/jupyterhub/anaconda3-5.2.0/lib/python3.6/site-packages/ipykernel_launcher.py:7: RuntimeWarning: invalid value encountered in sqrt\n",
      "  import sys\n",
      "/opt/jupyterhub/anaconda3-5.2.0/lib/python3.6/site-packages/ipykernel_launcher.py:11: RuntimeWarning: invalid value encountered in sqrt\n",
      "  # This is added back by InteractiveShellApp.init_path()\n",
      "/opt/jupyterhub/anaconda3-5.2.0/lib/python3.6/site-packages/ipykernel_launcher.py:11: RuntimeWarning: invalid value encountered in less_equal\n",
      "  # This is added back by InteractiveShellApp.init_path()\n"
     ]
    },
    {
     "name": "stdout",
     "output_type": "stream",
     "text": [
      "2.4750206323472157\n"
     ]
    }
   ],
   "source": [
    "print(V_sphere_MC(10,50000))\n",
    "print(V_sphere_MC_v2(10,50000))"
   ]
  }
 ],
 "metadata": {
  "kernelspec": {
   "display_name": "Python 3",
   "language": "python",
   "name": "python3"
  },
  "language_info": {
   "codemirror_mode": {
    "name": "ipython",
    "version": 3
   },
   "file_extension": ".py",
   "mimetype": "text/x-python",
   "name": "python",
   "nbconvert_exporter": "python",
   "pygments_lexer": "ipython3",
   "version": "3.6.8"
  }
 },
 "nbformat": 4,
 "nbformat_minor": 2
}
