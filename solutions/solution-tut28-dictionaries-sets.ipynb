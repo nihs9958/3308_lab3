{
 "cells": [
  {
   "cell_type": "markdown",
   "metadata": {
    "deletable": false,
    "editable": false,
    "nbgrader": {
     "cell_type": "markdown",
     "checksum": "a9a0aed85e9acfca53184b9fb7f8126b",
     "grade": false,
     "grade_id": "cell-100899e0deea9789",
     "locked": true,
     "schema_version": 3,
     "solution": false
    }
   },
   "source": [
    "# Tutorial 28: Dictionaries and Sets\n",
    "\n",
    "## PHYS 2600, Spring 2019"
   ]
  },
  {
   "cell_type": "markdown",
   "metadata": {
    "deletable": false,
    "editable": false,
    "nbgrader": {
     "cell_type": "markdown",
     "checksum": "42059a5a04bd7a07aac304ea95290fa1",
     "grade": false,
     "grade_id": "cell-13bba124402b68b5",
     "locked": true,
     "schema_version": 3,
     "solution": false
    }
   },
   "source": [
    "## T28.1 - Basic use of dictionaries\n",
    "\n",
    "Let's start by getting some practice using dictionaries and seeing some of their commonly-used methods.\n",
    "\n",
    "### Part A\n",
    "\n",
    "__Create a dictionary called `vowel_index`__ that maps the vowels `['a','e','i','o','u']` to their index numbers in the English alphabet (so if we take `a` to correspond to `0`, then we have\n",
    "\n",
    "| letter | index |\n",
    "|--------|-------|\n",
    "| a | 0 |\n",
    "| e | 4 |\n",
    "| i | 8 | \n",
    "| o | 14 |\n",
    "| u | 20 |\n",
    "\n",
    "\n",
    "\n"
   ]
  },
  {
   "cell_type": "code",
   "execution_count": 1,
   "metadata": {
    "deletable": false,
    "nbgrader": {
     "cell_type": "code",
     "checksum": "f62344d8777419e831cef78cc8777406",
     "grade": true,
     "grade_id": "cell-6994cd0401eb349b",
     "locked": false,
     "points": 2,
     "schema_version": 3,
     "solution": true
    }
   },
   "outputs": [],
   "source": [
    "vowel_index = {\n",
    "    'a': 0,\n",
    "    'e': 4,\n",
    "    'i': 8,\n",
    "    'o': 14,\n",
    "    'u': 20,\n",
    "}"
   ]
  },
  {
   "cell_type": "markdown",
   "metadata": {
    "deletable": false,
    "editable": false,
    "nbgrader": {
     "cell_type": "markdown",
     "checksum": "d5b759f5c1edf39e98a932989051205f",
     "grade": false,
     "grade_id": "cell-8d70937a9aa44ef7",
     "locked": true,
     "schema_version": 3,
     "solution": false
    }
   },
   "source": [
    "The `ord()` function gives the ASCII index of a character, in which the letters are numbered starting at 97 instead of 0.  __What is the ASCII index of `'u'`?__  Find your answer by getting the relative index of `'u'` from `vowel_index`, first, then compare to `ord()` itself."
   ]
  },
  {
   "cell_type": "code",
   "execution_count": 2,
   "metadata": {
    "deletable": false,
    "nbgrader": {
     "cell_type": "code",
     "checksum": "ef57acd0a22bf6c8baf60e02ae9f4716",
     "grade": false,
     "grade_id": "cell-b2c78f65caa0bfc2",
     "locked": false,
     "schema_version": 3,
     "solution": true
    }
   },
   "outputs": [
    {
     "name": "stdout",
     "output_type": "stream",
     "text": [
      "117\n",
      "117\n"
     ]
    }
   ],
   "source": [
    "print(vowel_index['u'] + 97)\n",
    "print(ord('u'))"
   ]
  },
  {
   "cell_type": "markdown",
   "metadata": {
    "deletable": false,
    "editable": false,
    "nbgrader": {
     "cell_type": "markdown",
     "checksum": "6c694d2edeb1fb9392a334693c7dbad5",
     "grade": false,
     "grade_id": "cell-96c82aa3764749fb",
     "locked": true,
     "schema_version": 3,
     "solution": false
    }
   },
   "source": [
    "The letter `'y'` (index: 24) _sometimes_ acts like a vowel, so let's add it to our dictionary.  __Add `'y'` as a key with value 24 to `vowel_index`__.  Then print out `vowel_index` to see that your code worked."
   ]
  },
  {
   "cell_type": "code",
   "execution_count": 3,
   "metadata": {
    "deletable": false,
    "nbgrader": {
     "cell_type": "code",
     "checksum": "f74f530f30318790a6a8262eb98154ca",
     "grade": false,
     "grade_id": "cell-eea2306839db4f2e",
     "locked": false,
     "schema_version": 3,
     "solution": true
    }
   },
   "outputs": [
    {
     "data": {
      "text/plain": [
       "{'a': 0, 'e': 4, 'i': 8, 'o': 14, 'u': 20, 'y': 24}"
      ]
     },
     "execution_count": 3,
     "metadata": {},
     "output_type": "execute_result"
    }
   ],
   "source": [
    "vowel_index['y'] = 24\n",
    "vowel_index"
   ]
  },
  {
   "cell_type": "markdown",
   "metadata": {
    "deletable": false,
    "editable": false,
    "nbgrader": {
     "cell_type": "markdown",
     "checksum": "a45c6cef6e6e9fdeb7cf6511e1373be6",
     "grade": false,
     "grade_id": "cell-d66a57e207499c20",
     "locked": true,
     "schema_version": 3,
     "solution": false
    }
   },
   "source": [
    "### Part B\n",
    "\n",
    "Any dictionary naturally divides into two sets: the __keys__ (what the index names are), and the __values__ (what objects the index names point to.)  We can access these sets directly with the methods of the same name - __run the cell below__ to see them work."
   ]
  },
  {
   "cell_type": "code",
   "execution_count": 4,
   "metadata": {
    "deletable": false,
    "editable": false,
    "nbgrader": {
     "cell_type": "code",
     "checksum": "397e3229523ee0e240c3fd27d7060d87",
     "grade": false,
     "grade_id": "cell-c77a2f35a3fda84e",
     "locked": true,
     "schema_version": 3,
     "solution": false
    }
   },
   "outputs": [
    {
     "name": "stdout",
     "output_type": "stream",
     "text": [
      "dict_keys(['a', 'e', 'i', 'o', 'u', 'y'])\n",
      "dict_values([0, 4, 8, 14, 20, 24])\n"
     ]
    }
   ],
   "source": [
    "print(vowel_index.keys())\n",
    "print(vowel_index.values())"
   ]
  },
  {
   "cell_type": "markdown",
   "metadata": {
    "deletable": false,
    "editable": false,
    "nbgrader": {
     "cell_type": "markdown",
     "checksum": "eabcd8670e4bc9dc95c4cc5f51e3b795",
     "grade": false,
     "grade_id": "cell-b29cfca0e07cd8b7",
     "locked": true,
     "schema_version": 3,
     "solution": false
    }
   },
   "source": [
    "Note that although these return special dict-associated types, we can treat both keys and values like lists.  In particular, we can _iterate_ over them using a `for` loop.  Then:\n",
    "\n",
    "* Use a `for` loop and string concatenation (the `+` operator) to __build a string of all the vowels (and y)__ from the keys of `vowel_index`.\n",
    "* Use another `for` loop to __calculate the sum of all of the _values_ of `vowel_index`__, i.e. the sum of all vowel letter indices.  (You should get 70.)"
   ]
  },
  {
   "cell_type": "code",
   "execution_count": 5,
   "metadata": {
    "deletable": false,
    "nbgrader": {
     "cell_type": "code",
     "checksum": "a699e4448cdac25c9badb053aaa1a511",
     "grade": false,
     "grade_id": "cell-e4e7d3c95e8c8c02",
     "locked": false,
     "schema_version": 3,
     "solution": true
    }
   },
   "outputs": [
    {
     "name": "stdout",
     "output_type": "stream",
     "text": [
      "aeiouy\n",
      "70\n"
     ]
    }
   ],
   "source": [
    "s = ''\n",
    "for v in vowel_index.keys():\n",
    "    s += v\n",
    "    \n",
    "print(s)\n",
    "\n",
    "total = 0\n",
    "for i in vowel_index.values():\n",
    "    total += i\n",
    "\n",
    "print(total)"
   ]
  },
  {
   "cell_type": "markdown",
   "metadata": {
    "deletable": false,
    "editable": false,
    "nbgrader": {
     "cell_type": "markdown",
     "checksum": "d9e2378939b0f831ea8561695670576d",
     "grade": false,
     "grade_id": "cell-fe2dc0db0fa1dfe7",
     "locked": true,
     "schema_version": 3,
     "solution": false
    }
   },
   "source": [
    "__Important Python 3 note:__ In alphabetical order, the string of all the vowels you made above would be `\"aeiouy\"`.  But remember that _order of the keys/values in a dict is not guaranteed!_  In Python 3, the current implementation of dictionary _happens_ to give keys back in the order they were added to the dict.  If you try to run this in Python 2 instead, you would get a different string as the keys will be in a different order.\n",
    "\n",
    "__Never rely on the order of keys or values in a dictionary!__  Use a list-sorting function (like `sorted()`) if you need them in a certain order."
   ]
  },
  {
   "cell_type": "code",
   "execution_count": 6,
   "metadata": {
    "deletable": false,
    "editable": false,
    "nbgrader": {
     "cell_type": "code",
     "checksum": "bf9d40ba1f2752d25cf7ab1ea5410a92",
     "grade": false,
     "grade_id": "cell-9abf60dac5368dba",
     "locked": true,
     "schema_version": 3,
     "solution": false
    }
   },
   "outputs": [
    {
     "name": "stdout",
     "output_type": "stream",
     "text": [
      "a\n",
      "i\n",
      "e\n",
      "u\n",
      "o\n",
      "Sorted:  a\n",
      "Sorted:  e\n",
      "Sorted:  i\n",
      "Sorted:  o\n",
      "Sorted:  u\n"
     ]
    }
   ],
   "source": [
    "%%python2\n",
    "\n",
    "vowel_index = {\n",
    "    'a': 0,\n",
    "    'e': 4,\n",
    "    'i': 8,\n",
    "    'o': 14,\n",
    "    'u': 20,\n",
    "}\n",
    "\n",
    "for v in vowel_index.keys():\n",
    "    print v\n",
    "    \n",
    "for v in sorted(vowel_index.keys()):\n",
    "    print \"Sorted: \", v"
   ]
  },
  {
   "cell_type": "markdown",
   "metadata": {
    "deletable": false,
    "editable": false,
    "nbgrader": {
     "cell_type": "markdown",
     "checksum": "81693e5d2953d56d9206392c98bb340c",
     "grade": false,
     "grade_id": "cell-56e87d4ee2ea4878",
     "locked": true,
     "schema_version": 3,
     "solution": false
    }
   },
   "source": [
    "### Part C\n",
    "\n",
    "There's a third list which is natural to construct from a dictionary: a list of __key-value pairs__.  To get them, we use the `.items()` method.\n",
    "\n",
    "Start by __running the cell below__ to see what you get when iterating over `vowel_index.items()`.  Then modify the code to unpack the keys and values separately, and __use `print` to reproduce the block of text__ in the next cell below.\n",
    "\n",
    "_(Hint: you can either unpack `pair` inside the loop, or use the unpacking notation inside the `for` statement itself: replace the single variable `pair` with a tuple of two variables.)_"
   ]
  },
  {
   "cell_type": "code",
   "execution_count": 7,
   "metadata": {
    "deletable": false,
    "nbgrader": {
     "cell_type": "code",
     "checksum": "62c96c422dd45190a599a2ddd46b1bef",
     "grade": false,
     "grade_id": "cell-e18b932745ea682e",
     "locked": false,
     "schema_version": 3,
     "solution": true
    }
   },
   "outputs": [
    {
     "name": "stdout",
     "output_type": "stream",
     "text": [
      "('a', 0)\n",
      "('e', 4)\n",
      "('i', 8)\n",
      "('o', 14)\n",
      "('u', 20)\n",
      "('y', 24)\n",
      "ASCII code for a: 97\n",
      "ASCII code for e: 101\n",
      "ASCII code for i: 105\n",
      "ASCII code for o: 111\n",
      "ASCII code for u: 117\n",
      "ASCII code for y: 121\n"
     ]
    }
   ],
   "source": [
    "for pair in vowel_index.items():\n",
    "    print(pair)\n",
    "    \n",
    "### BEGIN SOLUTION\n",
    "for k, v in vowel_index.items():\n",
    "    print(\"ASCII code for {}: {}\".format(k, v+97))\n",
    "### END SOLUTION\n"
   ]
  },
  {
   "cell_type": "markdown",
   "metadata": {
    "deletable": false,
    "editable": false,
    "nbgrader": {
     "cell_type": "markdown",
     "checksum": "76129da09dd4f0b62fdf463d50ad8a64",
     "grade": false,
     "grade_id": "cell-584fe5a1384eb6ce",
     "locked": true,
     "schema_version": 3,
     "solution": false
    }
   },
   "source": [
    "Modify the cell above to print the text below:\n",
    "\n",
    "```\n",
    "ASCII code for a: 97\n",
    "ASCII code for e: 101\n",
    "ASCII code for i: 105\n",
    "ASCII code for o: 111\n",
    "ASCII code for u: 117\n",
    "ASCII code for y: 121\n",
    "```"
   ]
  },
  {
   "cell_type": "markdown",
   "metadata": {
    "deletable": false,
    "editable": false,
    "nbgrader": {
     "cell_type": "markdown",
     "checksum": "dd7a2d1f5b45c204094a156b4831d273",
     "grade": false,
     "grade_id": "cell-6621623642f222f8",
     "locked": true,
     "schema_version": 3,
     "solution": false
    }
   },
   "source": [
    "### Part D\n",
    "\n",
    "In many situations, we might be unsure about whether a key exists in a dictionary.  We can test for its existence using the `in` operator: `x in L` is a Boolean expression which is `True` if `x` is in list `L`, and `False` otherwise.\n",
    "\n",
    "The code below makes a new dictionary of Unicode letters, `char_codes`.  Use `in` to answer the following questions:\n",
    "\n",
    "* Is `ë` in the keys of `char_codes`?\n",
    "* Is `©` in the values of `char_codes`?\n",
    "* Is `ȼ` in the keys or values of `char_codes`?\n",
    "\n",
    "\n",
    "_(Hint: copy and paste these Unicode characters, don't try to figure out how to type them!  You could also look through the dictionary by eye...but it's pretty long!)_"
   ]
  },
  {
   "cell_type": "code",
   "execution_count": 8,
   "metadata": {
    "deletable": false,
    "nbgrader": {
     "cell_type": "code",
     "checksum": "f5532020b5f935a133026c6b26696afd",
     "grade": false,
     "grade_id": "cell-2392f0f5708f9735",
     "locked": false,
     "schema_version": 3,
     "solution": true
    }
   },
   "outputs": [
    {
     "name": "stdout",
     "output_type": "stream",
     "text": [
      "True\n",
      "True\n",
      "False\n",
      "False\n"
     ]
    }
   ],
   "source": [
    "char_codes = {}\n",
    "for i in range(512):\n",
    "    char_codes[chr(i)] = chr(i+57)\n",
    "\n",
    "### BEGIN SOLUTION\n",
    "print('ë' in char_codes.keys())\n",
    "print('©' in char_codes.values())\n",
    "print('ȼ' in char_codes.keys())\n",
    "print('ȼ' in char_codes.values())\n",
    "### END SOLUTION\n"
   ]
  },
  {
   "cell_type": "markdown",
   "metadata": {
    "deletable": false,
    "editable": false,
    "nbgrader": {
     "cell_type": "markdown",
     "checksum": "42546723890ac090ccdd74d7e0e13579",
     "grade": false,
     "grade_id": "cell-2a884695eb81e92f",
     "locked": true,
     "schema_version": 3,
     "solution": false
    }
   },
   "source": [
    "Note in passing: the `in` operator automatically checks the keys if we give it a dictionary, so we can just write `c in char_codes` instead of `c in char_codes.keys()`.  (But I had to look up whether this checks the values too - it doesn't - so maybe it's better to avoid ambiguity and just use `.keys()` explicitly!)\n",
    "\n",
    "Back to our simpler dict of vowels.  _What happens if we try to get a key that doesn't exist?_  Ordinarily, this will simply give us an error message, like trying to access a list index that doesn't exist.  __Run the cell below__ to see the message."
   ]
  },
  {
   "cell_type": "code",
   "execution_count": 9,
   "metadata": {},
   "outputs": [
    {
     "ename": "KeyError",
     "evalue": "'z'",
     "output_type": "error",
     "traceback": [
      "\u001b[0;31m---------------------------------------------------------------------------\u001b[0m",
      "\u001b[0;31mKeyError\u001b[0m                                  Traceback (most recent call last)",
      "\u001b[0;32m<ipython-input-9-a893f13ab73e>\u001b[0m in \u001b[0;36m<module>\u001b[0;34m\u001b[0m\n\u001b[0;32m----> 1\u001b[0;31m \u001b[0mvowel_index\u001b[0m\u001b[0;34m[\u001b[0m\u001b[0;34m'z'\u001b[0m\u001b[0;34m]\u001b[0m\u001b[0;34m\u001b[0m\u001b[0;34m\u001b[0m\u001b[0m\n\u001b[0m",
      "\u001b[0;31mKeyError\u001b[0m: 'z'"
     ]
    }
   ],
   "source": [
    "vowel_index['z']"
   ]
  },
  {
   "cell_type": "markdown",
   "metadata": {
    "deletable": false,
    "editable": false,
    "nbgrader": {
     "cell_type": "markdown",
     "checksum": "91542a844ba7b922f421585a3d84fc49",
     "grade": false,
     "grade_id": "cell-c7227e2d20f2e333",
     "locked": true,
     "schema_version": 3,
     "solution": false
    }
   },
   "source": [
    "If we want to use a key that may or may not exist, we can either test with `in` first, but a more streamlined option is to use the `.get()` method to safely ask for that entry.  __Run the cell below__ to see a few variations on the use of `.get()`:"
   ]
  },
  {
   "cell_type": "code",
   "execution_count": 10,
   "metadata": {
    "deletable": false,
    "editable": false,
    "nbgrader": {
     "cell_type": "code",
     "checksum": "a944bdaa0e5c9130e8d0bd45e936a244",
     "grade": false,
     "grade_id": "cell-d4318338fb80458e",
     "locked": true,
     "schema_version": 3,
     "solution": false
    }
   },
   "outputs": [
    {
     "name": "stdout",
     "output_type": "stream",
     "text": [
      "None\n",
      "4\n",
      "default\n"
     ]
    }
   ],
   "source": [
    "print(vowel_index.get('z'))\n",
    "print(vowel_index.get('e'))\n",
    "print(vowel_index.get('z', 'default'))"
   ]
  },
  {
   "cell_type": "markdown",
   "metadata": {
    "deletable": false,
    "editable": false,
    "nbgrader": {
     "cell_type": "markdown",
     "checksum": "01e98cb06053763e87aa63f51604f9b4",
     "grade": false,
     "grade_id": "cell-27fd11ae31bd0345",
     "locked": true,
     "schema_version": 3,
     "solution": false
    }
   },
   "source": [
    "Note that by default, `.get()` returns `None` if we try to get a key that doesn't exist.  We can override the default with the second argument to `.get()`.\n",
    "\n",
    "Below is a list of some letters.  Use a `for` loop to iterate over the list, and use `.get()` with a default argument to __reproduce the text block in the next cell below.__"
   ]
  },
  {
   "cell_type": "code",
   "execution_count": 11,
   "metadata": {
    "deletable": false,
    "nbgrader": {
     "cell_type": "code",
     "checksum": "1d22399d673f51285101bb80c01abee1",
     "grade": false,
     "grade_id": "cell-bfd69f8216bbd335",
     "locked": false,
     "schema_version": 3,
     "solution": true
    }
   },
   "outputs": [
    {
     "name": "stdout",
     "output_type": "stream",
     "text": [
      "a: 0\n",
      "d: not a vowel\n",
      "i: 8\n",
      "j: not a vowel\n",
      "k: not a vowel\n",
      "u: 20\n"
     ]
    }
   ],
   "source": [
    "some_letters = ['a', 'd', 'i', 'j', 'k', 'u']\n",
    "\n",
    "### BEGIN SOLUTION\n",
    "for L in some_letters:\n",
    "    print('{}: {}'.format(L, vowel_index.get(L, 'not a vowel')))\n",
    "### END SOLUTION"
   ]
  },
  {
   "cell_type": "markdown",
   "metadata": {
    "deletable": false,
    "editable": false,
    "nbgrader": {
     "cell_type": "markdown",
     "checksum": "49a58ed6fd14286f3d418f7a962a8934",
     "grade": false,
     "grade_id": "cell-b7c4f4ae248769d5",
     "locked": true,
     "schema_version": 3,
     "solution": false
    }
   },
   "source": [
    "Modify the cell above to print the text below:\n",
    "\n",
    "```\n",
    "a: 0\n",
    "d: not a vowel\n",
    "i: 8\n",
    "j: not a vowel\n",
    "k: not a vowel\n",
    "u: 20\n",
    "```"
   ]
  },
  {
   "cell_type": "markdown",
   "metadata": {
    "deletable": false,
    "editable": false,
    "nbgrader": {
     "cell_type": "markdown",
     "checksum": "459efca19119325a2fb56a7d655d350e",
     "grade": false,
     "grade_id": "cell-a7962c4e129aca38",
     "locked": true,
     "schema_version": 3,
     "solution": false
    }
   },
   "source": [
    "## T28.2 - Common use patterns of dictionaries\n",
    "\n",
    "### Part A: Translation\n",
    "\n",
    "As we discussed, one way to think of a dictionary is as a __map__ from keys to values.  Maps naturally appear in __translations__, such as between different languages; translations match equivalent things to one another.  Here's a table of a few different words in English and French:\n",
    "\n",
    "| English | French | \n",
    "|---------|--------|\n",
    "| car | voiture |\n",
    "| book | livre |\n",
    "| coffee | café |\n",
    "| dog | chien |\n",
    "| thanks  | merci |\n",
    "\n",
    "In the cell below, __make a dictionary called `english_to_french`__ with the English words as keys and the French words as values.  You should __build the dictionary with a `for` loop__ using the lists provided."
   ]
  },
  {
   "cell_type": "code",
   "execution_count": 12,
   "metadata": {
    "deletable": false,
    "nbgrader": {
     "cell_type": "code",
     "checksum": "a49e22db8f6397ef6ee53c6479c7d24a",
     "grade": true,
     "grade_id": "cell-985daaf6f40841d6",
     "locked": false,
     "points": 0,
     "schema_version": 3,
     "solution": true
    }
   },
   "outputs": [],
   "source": [
    "english_words = ['car', 'book', 'coffee', 'dog', 'thanks']\n",
    "french_words = ['voiture', 'livre', 'café', 'chien', 'merci']\n",
    "\n",
    "### BEGIN SOLUTION\n",
    "english_to_french = {}\n",
    "for i in range(5):\n",
    "    english_to_french[english_words[i]] = french_words[i]\n",
    "### END SOLUTION\n"
   ]
  },
  {
   "cell_type": "code",
   "execution_count": 13,
   "metadata": {
    "deletable": false,
    "editable": false,
    "nbgrader": {
     "cell_type": "code",
     "checksum": "a0519326e90d59296afeb3341c80d187",
     "grade": true,
     "grade_id": "cell-32cac0213cb08aea",
     "locked": true,
     "points": 0,
     "schema_version": 3,
     "solution": false
    }
   },
   "outputs": [
    {
     "name": "stdout",
     "output_type": "stream",
     "text": [
      "{'car': 'voiture', 'book': 'livre', 'coffee': 'café', 'dog': 'chien', 'thanks': 'merci'}\n"
     ]
    }
   ],
   "source": [
    "print(english_to_french)\n",
    "assert english_to_french['car'] == 'voiture'\n",
    "assert english_to_french['thanks'] == 'merci' "
   ]
  },
  {
   "cell_type": "markdown",
   "metadata": {
    "deletable": false,
    "editable": false,
    "nbgrader": {
     "cell_type": "markdown",
     "checksum": "0eb54bf7e526a8646d72dff866e2b033",
     "grade": false,
     "grade_id": "cell-cb02162d8683e894",
     "locked": true,
     "schema_version": 3,
     "solution": false
    }
   },
   "source": [
    "Dictionaries are _one-way_ maps, but a translation is _two-way_: we could also use our map to convert French words back to English, since the pairs are unique.  Fortunately, it's not too difficult to just __invert the dictionary__, i.e. make one that points from values to keys instead.   \n",
    "\n",
    "__Implement the function `invert_dict(d)` below__, which should return a new dictionary where the _values_ of `d` point to its _keys_.  Then run the following cell to create and test the reverse dictionary `french_to_english`.\n",
    "\n",
    "_(Hint: start by making a new empty dictionary.  Then use a `for` loop and the `.items()` method to iterate over all key-value pairs `(k,v)` in the original dictionary, and assign them to the empty one with values as keys.)_"
   ]
  },
  {
   "cell_type": "code",
   "execution_count": 14,
   "metadata": {
    "deletable": false,
    "nbgrader": {
     "cell_type": "code",
     "checksum": "02a500e5306c9ce21c2eb988da92d8cc",
     "grade": false,
     "grade_id": "cell-1fb27218f2807229",
     "locked": false,
     "schema_version": 3,
     "solution": true
    }
   },
   "outputs": [],
   "source": [
    "def invert_dict(d):\n",
    "    ### BEGIN SOLUTION\n",
    "    inv_d = {}\n",
    "    for k, v in d.items():\n",
    "        inv_d[v] = k\n",
    "        \n",
    "    return inv_d\n",
    "    ### END SOLUTION    "
   ]
  },
  {
   "cell_type": "code",
   "execution_count": 15,
   "metadata": {
    "deletable": false,
    "editable": false,
    "nbgrader": {
     "cell_type": "code",
     "checksum": "ed914c36fbaf220ccd84bd9d22b103cd",
     "grade": true,
     "grade_id": "cell-e04c0028cd02064c",
     "locked": true,
     "points": 0,
     "schema_version": 3,
     "solution": false
    }
   },
   "outputs": [
    {
     "name": "stdout",
     "output_type": "stream",
     "text": [
      "{'voiture': 'car', 'livre': 'book', 'café': 'coffee', 'chien': 'dog', 'merci': 'thanks'}\n"
     ]
    }
   ],
   "source": [
    "french_to_english = invert_dict(english_to_french)\n",
    "print(french_to_english)\n",
    "\n",
    "assert french_to_english['livre'] == 'book'\n",
    "assert french_to_english['café'] == 'coffee'"
   ]
  },
  {
   "cell_type": "markdown",
   "metadata": {
    "deletable": false,
    "editable": false,
    "nbgrader": {
     "cell_type": "markdown",
     "checksum": "fcbf199abf096197c6ddd960340d6f63",
     "grade": false,
     "grade_id": "cell-8b0ea8df153d480d",
     "locked": true,
     "schema_version": 3,
     "solution": false
    }
   },
   "source": [
    "(Note: this only makes sense if the map is truly two-way, i.e. all keys and values are matched uniquely __one-to-one__!  If we try to \"invert\" a dictionary with multiple keys pointing to the same value, we'll lose some information.)\n",
    "\n",
    "### Part B: Descriptive Data\n",
    "\n",
    "The second common use case for dictionaries is storing __descriptive data__.  This comes in many forms, so it's probably best to just see an example.  On homework 7, we had an example using tuples to keep track of some blocks subject to static friction.  Here was the data cell:"
   ]
  },
  {
   "cell_type": "code",
   "execution_count": 16,
   "metadata": {
    "deletable": false,
    "editable": false,
    "nbgrader": {
     "cell_type": "code",
     "checksum": "d1fb4bb3c54ae38758acfde9e64136fb",
     "grade": false,
     "grade_id": "cell-41b2f17bfda211a2",
     "locked": true,
     "schema_version": 3,
     "solution": false
    }
   },
   "outputs": [],
   "source": [
    "block_list = (\n",
    "    (0.5, 0.8, 0.2),\n",
    "    (1.0, 3.0, 0.2),\n",
    "    (2.0, 4.4, 0.2),\n",
    "    (3.0, 5.6, 0.1),\n",
    "    (2.0, 2.2, 0.3),\n",
    "    (2.0, 1.6, 0.1),\n",
    "    (1.0, 2.6, 0.1),\n",
    ")\n",
    "block_color_list = ('red', 'orange', 'yellow', 'green', 'blue', 'white', 'black')"
   ]
  },
  {
   "cell_type": "markdown",
   "metadata": {
    "deletable": false,
    "editable": false,
    "nbgrader": {
     "cell_type": "markdown",
     "checksum": "f93ad11b76295d3d6c93bff6ecfeec9b",
     "grade": false,
     "grade_id": "cell-5e4c07361a842305",
     "locked": true,
     "schema_version": 3,
     "solution": false
    }
   },
   "source": [
    "Do you remember what those numbers were in `block_list`?  I know I had to look it up!  In order, they are: `(m, F, mu)`, the mass, applied force, and coefficient of static friction.  Better documentation (i.e. a comment explaining) would have cleared this up, but we can make our code much clearer by using a dictionary to hold our data instead!\n",
    "\n",
    "\n",
    "\n",
    "In the _second cell_ below, I've created a function `check_if_block_moves` that checks if the force of static friction is overcome given the applied force or not.  This function assumes that `blocks` contains a __list of dictionaries__, with each dictionary having keys `m`, `mu`, `F` and `color` to describe a single block.\n",
    "\n",
    "In the _first_ cell below, __create a list of dictionaries called `blocks`__ so that the cell with `check_if_block_moves()` will run without error (and give the right answer!)  You can either do this by hand, or use a `for` loop to build the `blocks` list of dictionaries using the data from above."
   ]
  },
  {
   "cell_type": "code",
   "execution_count": 17,
   "metadata": {
    "deletable": false,
    "nbgrader": {
     "cell_type": "code",
     "checksum": "8b2f470762f475da8e7133115b0c3589",
     "grade": false,
     "grade_id": "cell-dfd5099463b73ddb",
     "locked": false,
     "schema_version": 3,
     "solution": true
    }
   },
   "outputs": [],
   "source": [
    "blocks = [\n",
    "    { 'm': 0.5, 'F': 0.8, 'mu': 0.2, 'color': 'red'},\n",
    "    { 'm': 1.0, 'F': 3.0, 'mu': 0.2, 'color': 'orange'},\n",
    "    { 'm': 2.0, 'F': 4.4, 'mu': 0.2, 'color': 'yellow'},\n",
    "    { 'm': 3.0, 'F': 5.6, 'mu': 0.1, 'color': 'green'},\n",
    "    { 'm': 2.0, 'F': 2.2, 'mu': 0.3, 'color': 'blue'},\n",
    "    { 'm': 2.0, 'F': 1.6, 'mu': 0.1, 'color': 'white'},\n",
    "    { 'm': 1.0, 'F': 2.6, 'mu': 0.1, 'color': 'black'},\n",
    "]\n",
    "\n",
    "# Or the automated version from the lists above:\n",
    "blocks = []\n",
    "for i in range(7):\n",
    "    b = {}\n",
    "    b['m'], b['F'], b['mu'] = block_list[i]\n",
    "    b['color'] = block_color_list[i]\n",
    "    blocks.append(b)"
   ]
  },
  {
   "cell_type": "code",
   "execution_count": 18,
   "metadata": {
    "deletable": false,
    "editable": false,
    "nbgrader": {
     "cell_type": "code",
     "checksum": "adbe31959faed2a55b2eb20fdc0b1871",
     "grade": false,
     "grade_id": "cell-f0b33e24c8fc35e4",
     "locked": true,
     "schema_version": 3,
     "solution": false
    }
   },
   "outputs": [
    {
     "name": "stdout",
     "output_type": "stream",
     "text": [
      "The red block doesn't move.\n",
      "The orange block moves!\n",
      "The yellow block moves!\n",
      "The green block moves!\n",
      "The blue block doesn't move.\n",
      "The white block doesn't move.\n",
      "The black block moves!\n"
     ]
    }
   ],
   "source": [
    "def check_if_block_moves(block):\n",
    "    g = 9.8\n",
    "    F_friction = block['mu'] * block['m'] * g\n",
    "    \n",
    "    if block['F'] <= F_friction:\n",
    "        print(\"The {} block doesn't move.\".format(block['color']))\n",
    "    else:\n",
    "        print(\"The {} block moves!\".format(block['color']))\n",
    "\n",
    "for block in blocks:\n",
    "    check_if_block_moves(block)"
   ]
  },
  {
   "cell_type": "markdown",
   "metadata": {
    "deletable": false,
    "editable": false,
    "nbgrader": {
     "cell_type": "markdown",
     "checksum": "25d2324d2e0ee5be733e83bd2b6a18c8",
     "grade": false,
     "grade_id": "cell-1c398dcb57877037",
     "locked": true,
     "schema_version": 3,
     "solution": false
    }
   },
   "source": [
    "You should see the following text:\n",
    "\n",
    "```\n",
    "The red block doesn't move.\n",
    "The orange block moves!\n",
    "The yellow block moves!\n",
    "The green block moves!\n",
    "The blue block doesn't move.\n",
    "The white block doesn't move.\n",
    "The black block moves!\n",
    "```"
   ]
  },
  {
   "cell_type": "markdown",
   "metadata": {
    "deletable": false,
    "editable": false,
    "nbgrader": {
     "cell_type": "markdown",
     "checksum": "962556a2b8afd6b82f14cdda4bdecc25",
     "grade": false,
     "grade_id": "cell-161cf2b908e88c0b",
     "locked": true,
     "schema_version": 3,
     "solution": false
    }
   },
   "source": [
    "### Part C: Counting\n",
    "\n",
    "Another common use case for dictionaries is __counting unique values__, for example in creating a histogram of frequencies (how many times something appears in a collection.)\n",
    "\n",
    "I've provided a data file called `classes.csv`, containing a list of class schedules for some sophomore CU physics students.  For simplicity, each row has four classes in it.  I've also provided some code below to import the data as a NumPy array.\n",
    "\n",
    "Use a dictionary to answer the question: __how many students in our data are enrolled in each class?__  Save your answer in a dictionary called `class_count`, with the class names as keys and the number of students enrolled as values."
   ]
  },
  {
   "cell_type": "code",
   "execution_count": 19,
   "metadata": {
    "deletable": false,
    "nbgrader": {
     "cell_type": "code",
     "checksum": "547d05e0dba2cdf95c6900f801838b74",
     "grade": false,
     "grade_id": "cell-bfb37d02cf9e5420",
     "locked": false,
     "schema_version": 3,
     "solution": true
    }
   },
   "outputs": [
    {
     "name": "stdout",
     "output_type": "stream",
     "text": [
      "[['PHYS 2150' 'CHEM 1113' 'PHYS 2170' 'APPM 2350']\n",
      " ['PHYS 2600' 'APPM 2350' 'PHYS 2150' 'PHYS 2170']\n",
      " ['PHYS 2170' 'CHEM 1113' 'PHYS 2150' 'APPM 2350']\n",
      " ['PHYS 2150' 'PHYS 2170' 'CHEM 1113' 'WRTG 3030']\n",
      " ['PHYS 2600' 'PHYS 2170' 'PHYS 2150' 'WRTG 3030']\n",
      " ['CHEM 1113' 'PHYS 2150' 'PHYS 2170' 'WRTG 3030']\n",
      " ['PHYS 2150' 'PHYS 2170' 'CHEM 1113' 'APPM 2350']\n",
      " ['PHYS 2170' 'APPM 2350' 'PHYS 2150' 'CHEM 1113']\n",
      " ['APPM 2350' 'PHYS 2150' 'PHYS 2600' 'WRTG 3030']\n",
      " ['APPM 2350' 'PHYS 2170' 'PHYS 2600' 'PHYS 2150']\n",
      " ['PHYS 2170' 'APPM 2350' 'PHYS 2150' 'CHEM 1113']\n",
      " ['PHYS 2150' 'HUEN 3100' 'PHYS 2170' 'WRTG 3030']\n",
      " ['PHYS 2170' 'PHYS 2150' 'APPM 2350' 'WRTG 3030']\n",
      " ['APPM 2350' 'CHEM 1113' 'PHYS 2170' 'PHYS 2600']\n",
      " ['PHYS 2150' 'PHYS 2600' 'WRTG 3030' 'APPM 2350']\n",
      " ['APPM 2350' 'PHYS 2170' 'PHYS 2150' 'PHYS 2600']\n",
      " ['PHYS 2600' 'PHYS 2150' 'PHYS 2170' 'APPM 2350']\n",
      " ['APPM 2350' 'WRTG 3030' 'PHYS 2150' 'PHYS 2600']\n",
      " ['PHYS 2150' 'APPM 2350' 'PHYS 2170' 'HUEN 3100']\n",
      " ['APPM 2350' 'CHEM 1113' 'PHYS 2170' 'PHYS 2150']\n",
      " ['PHYS 2600' 'PHYS 2150' 'WRTG 3030' 'PHYS 2170']\n",
      " ['APPM 2350' 'CHEM 1113' 'PHYS 2150' 'WRTG 3030']\n",
      " ['PHYS 2170' 'PHYS 2150' 'CHEM 1113' 'PHYS 2600']\n",
      " ['PHYS 2600' 'APPM 2350' 'PHYS 2170' 'PHYS 2150']\n",
      " ['CHEM 1113' 'APPM 2350' 'PHYS 2150' 'PHYS 2170']\n",
      " ['PHYS 2170' 'APPM 2350' 'CHEM 1113' 'HUEN 3100']\n",
      " ['APPM 2350' 'WRTG 3030' 'PHYS 2600' 'HUEN 3100']\n",
      " ['PHYS 2150' 'APPM 2350' 'PHYS 2170' 'WRTG 3030']\n",
      " ['PHYS 2150' 'PHYS 2170' 'APPM 2350' 'PHYS 2600']\n",
      " ['CHEM 1113' 'PHYS 2170' 'PHYS 2150' 'APPM 2350']]\n"
     ]
    },
    {
     "data": {
      "text/plain": [
       "{'PHYS 2150': 27,\n",
       " 'CHEM 1113': 14,\n",
       " 'PHYS 2170': 25,\n",
       " 'APPM 2350': 24,\n",
       " 'PHYS 2600': 14,\n",
       " 'WRTG 3030': 12,\n",
       " 'HUEN 3100': 4}"
      ]
     },
     "execution_count": 19,
     "metadata": {},
     "output_type": "execute_result"
    }
   ],
   "source": [
    "import numpy as np\n",
    "\n",
    "class_array = np.genfromtxt('classes.csv',  delimiter=',', dtype=np.unicode)\n",
    "print(class_array)\n",
    "\n",
    "### BEGIN SOLUTION\n",
    "class_count = {}\n",
    "for row in class_array:\n",
    "    for s in row:\n",
    "        if s in class_count.keys():\n",
    "            class_count[s] += 1\n",
    "        else:\n",
    "            class_count[s] = 1\n",
    "\n",
    "class_count\n",
    "### END SOLUTION"
   ]
  },
  {
   "cell_type": "markdown",
   "metadata": {
    "deletable": false,
    "editable": false,
    "nbgrader": {
     "cell_type": "markdown",
     "checksum": "8c561eb3aa5b1800e5e2d2615812babb",
     "grade": false,
     "grade_id": "cell-8dc2ae991f886a8c",
     "locked": true,
     "schema_version": 3,
     "solution": false
    }
   },
   "source": [
    "Once you've produced the unique count dict `class_count`, __run the cell below__ to make a histogram of the frequencies.  Note that there are a few little plotting tricks here that might be useful to know:\n",
    "\n",
    "* For data that don't need to be binned, use `plt.bar()` instead of `plt.hist()`.\n",
    "* To fix overlapping tick labels, use the `rotation=` keyword: here I rotated them to be vertical instead of horizontal.\n",
    "* Immediately after adding the vertical tick labels, they will be cut off the bottom of the plot.  The command `plt.tight_layout()` is a function which automatically attempts to rescale elements of your plot so that nothing gets cut off."
   ]
  },
  {
   "cell_type": "code",
   "execution_count": 20,
   "metadata": {
    "deletable": false,
    "editable": false,
    "nbgrader": {
     "cell_type": "code",
     "checksum": "9bb837ca6abe2e5e151c27b14d5a76f2",
     "grade": false,
     "grade_id": "cell-cbed796f9b3da852",
     "locked": true,
     "schema_version": 3,
     "solution": false
    }
   },
   "outputs": [
    {
     "data": {
      "application/javascript": [
       "/* Put everything inside the global mpl namespace */\n",
       "window.mpl = {};\n",
       "\n",
       "\n",
       "mpl.get_websocket_type = function() {\n",
       "    if (typeof(WebSocket) !== 'undefined') {\n",
       "        return WebSocket;\n",
       "    } else if (typeof(MozWebSocket) !== 'undefined') {\n",
       "        return MozWebSocket;\n",
       "    } else {\n",
       "        alert('Your browser does not have WebSocket support.' +\n",
       "              'Please try Chrome, Safari or Firefox ≥ 6. ' +\n",
       "              'Firefox 4 and 5 are also supported but you ' +\n",
       "              'have to enable WebSockets in about:config.');\n",
       "    };\n",
       "}\n",
       "\n",
       "mpl.figure = function(figure_id, websocket, ondownload, parent_element) {\n",
       "    this.id = figure_id;\n",
       "\n",
       "    this.ws = websocket;\n",
       "\n",
       "    this.supports_binary = (this.ws.binaryType != undefined);\n",
       "\n",
       "    if (!this.supports_binary) {\n",
       "        var warnings = document.getElementById(\"mpl-warnings\");\n",
       "        if (warnings) {\n",
       "            warnings.style.display = 'block';\n",
       "            warnings.textContent = (\n",
       "                \"This browser does not support binary websocket messages. \" +\n",
       "                    \"Performance may be slow.\");\n",
       "        }\n",
       "    }\n",
       "\n",
       "    this.imageObj = new Image();\n",
       "\n",
       "    this.context = undefined;\n",
       "    this.message = undefined;\n",
       "    this.canvas = undefined;\n",
       "    this.rubberband_canvas = undefined;\n",
       "    this.rubberband_context = undefined;\n",
       "    this.format_dropdown = undefined;\n",
       "\n",
       "    this.image_mode = 'full';\n",
       "\n",
       "    this.root = $('<div/>');\n",
       "    this._root_extra_style(this.root)\n",
       "    this.root.attr('style', 'display: inline-block');\n",
       "\n",
       "    $(parent_element).append(this.root);\n",
       "\n",
       "    this._init_header(this);\n",
       "    this._init_canvas(this);\n",
       "    this._init_toolbar(this);\n",
       "\n",
       "    var fig = this;\n",
       "\n",
       "    this.waiting = false;\n",
       "\n",
       "    this.ws.onopen =  function () {\n",
       "            fig.send_message(\"supports_binary\", {value: fig.supports_binary});\n",
       "            fig.send_message(\"send_image_mode\", {});\n",
       "            if (mpl.ratio != 1) {\n",
       "                fig.send_message(\"set_dpi_ratio\", {'dpi_ratio': mpl.ratio});\n",
       "            }\n",
       "            fig.send_message(\"refresh\", {});\n",
       "        }\n",
       "\n",
       "    this.imageObj.onload = function() {\n",
       "            if (fig.image_mode == 'full') {\n",
       "                // Full images could contain transparency (where diff images\n",
       "                // almost always do), so we need to clear the canvas so that\n",
       "                // there is no ghosting.\n",
       "                fig.context.clearRect(0, 0, fig.canvas.width, fig.canvas.height);\n",
       "            }\n",
       "            fig.context.drawImage(fig.imageObj, 0, 0);\n",
       "        };\n",
       "\n",
       "    this.imageObj.onunload = function() {\n",
       "        fig.ws.close();\n",
       "    }\n",
       "\n",
       "    this.ws.onmessage = this._make_on_message_function(this);\n",
       "\n",
       "    this.ondownload = ondownload;\n",
       "}\n",
       "\n",
       "mpl.figure.prototype._init_header = function() {\n",
       "    var titlebar = $(\n",
       "        '<div class=\"ui-dialog-titlebar ui-widget-header ui-corner-all ' +\n",
       "        'ui-helper-clearfix\"/>');\n",
       "    var titletext = $(\n",
       "        '<div class=\"ui-dialog-title\" style=\"width: 100%; ' +\n",
       "        'text-align: center; padding: 3px;\"/>');\n",
       "    titlebar.append(titletext)\n",
       "    this.root.append(titlebar);\n",
       "    this.header = titletext[0];\n",
       "}\n",
       "\n",
       "\n",
       "\n",
       "mpl.figure.prototype._canvas_extra_style = function(canvas_div) {\n",
       "\n",
       "}\n",
       "\n",
       "\n",
       "mpl.figure.prototype._root_extra_style = function(canvas_div) {\n",
       "\n",
       "}\n",
       "\n",
       "mpl.figure.prototype._init_canvas = function() {\n",
       "    var fig = this;\n",
       "\n",
       "    var canvas_div = $('<div/>');\n",
       "\n",
       "    canvas_div.attr('style', 'position: relative; clear: both; outline: 0');\n",
       "\n",
       "    function canvas_keyboard_event(event) {\n",
       "        return fig.key_event(event, event['data']);\n",
       "    }\n",
       "\n",
       "    canvas_div.keydown('key_press', canvas_keyboard_event);\n",
       "    canvas_div.keyup('key_release', canvas_keyboard_event);\n",
       "    this.canvas_div = canvas_div\n",
       "    this._canvas_extra_style(canvas_div)\n",
       "    this.root.append(canvas_div);\n",
       "\n",
       "    var canvas = $('<canvas/>');\n",
       "    canvas.addClass('mpl-canvas');\n",
       "    canvas.attr('style', \"left: 0; top: 0; z-index: 0; outline: 0\")\n",
       "\n",
       "    this.canvas = canvas[0];\n",
       "    this.context = canvas[0].getContext(\"2d\");\n",
       "\n",
       "    var backingStore = this.context.backingStorePixelRatio ||\n",
       "\tthis.context.webkitBackingStorePixelRatio ||\n",
       "\tthis.context.mozBackingStorePixelRatio ||\n",
       "\tthis.context.msBackingStorePixelRatio ||\n",
       "\tthis.context.oBackingStorePixelRatio ||\n",
       "\tthis.context.backingStorePixelRatio || 1;\n",
       "\n",
       "    mpl.ratio = (window.devicePixelRatio || 1) / backingStore;\n",
       "\n",
       "    var rubberband = $('<canvas/>');\n",
       "    rubberband.attr('style', \"position: absolute; left: 0; top: 0; z-index: 1;\")\n",
       "\n",
       "    var pass_mouse_events = true;\n",
       "\n",
       "    canvas_div.resizable({\n",
       "        start: function(event, ui) {\n",
       "            pass_mouse_events = false;\n",
       "        },\n",
       "        resize: function(event, ui) {\n",
       "            fig.request_resize(ui.size.width, ui.size.height);\n",
       "        },\n",
       "        stop: function(event, ui) {\n",
       "            pass_mouse_events = true;\n",
       "            fig.request_resize(ui.size.width, ui.size.height);\n",
       "        },\n",
       "    });\n",
       "\n",
       "    function mouse_event_fn(event) {\n",
       "        if (pass_mouse_events)\n",
       "            return fig.mouse_event(event, event['data']);\n",
       "    }\n",
       "\n",
       "    rubberband.mousedown('button_press', mouse_event_fn);\n",
       "    rubberband.mouseup('button_release', mouse_event_fn);\n",
       "    // Throttle sequential mouse events to 1 every 20ms.\n",
       "    rubberband.mousemove('motion_notify', mouse_event_fn);\n",
       "\n",
       "    rubberband.mouseenter('figure_enter', mouse_event_fn);\n",
       "    rubberband.mouseleave('figure_leave', mouse_event_fn);\n",
       "\n",
       "    canvas_div.on(\"wheel\", function (event) {\n",
       "        event = event.originalEvent;\n",
       "        event['data'] = 'scroll'\n",
       "        if (event.deltaY < 0) {\n",
       "            event.step = 1;\n",
       "        } else {\n",
       "            event.step = -1;\n",
       "        }\n",
       "        mouse_event_fn(event);\n",
       "    });\n",
       "\n",
       "    canvas_div.append(canvas);\n",
       "    canvas_div.append(rubberband);\n",
       "\n",
       "    this.rubberband = rubberband;\n",
       "    this.rubberband_canvas = rubberband[0];\n",
       "    this.rubberband_context = rubberband[0].getContext(\"2d\");\n",
       "    this.rubberband_context.strokeStyle = \"#000000\";\n",
       "\n",
       "    this._resize_canvas = function(width, height) {\n",
       "        // Keep the size of the canvas, canvas container, and rubber band\n",
       "        // canvas in synch.\n",
       "        canvas_div.css('width', width)\n",
       "        canvas_div.css('height', height)\n",
       "\n",
       "        canvas.attr('width', width * mpl.ratio);\n",
       "        canvas.attr('height', height * mpl.ratio);\n",
       "        canvas.attr('style', 'width: ' + width + 'px; height: ' + height + 'px;');\n",
       "\n",
       "        rubberband.attr('width', width);\n",
       "        rubberband.attr('height', height);\n",
       "    }\n",
       "\n",
       "    // Set the figure to an initial 600x600px, this will subsequently be updated\n",
       "    // upon first draw.\n",
       "    this._resize_canvas(600, 600);\n",
       "\n",
       "    // Disable right mouse context menu.\n",
       "    $(this.rubberband_canvas).bind(\"contextmenu\",function(e){\n",
       "        return false;\n",
       "    });\n",
       "\n",
       "    function set_focus () {\n",
       "        canvas.focus();\n",
       "        canvas_div.focus();\n",
       "    }\n",
       "\n",
       "    window.setTimeout(set_focus, 100);\n",
       "}\n",
       "\n",
       "mpl.figure.prototype._init_toolbar = function() {\n",
       "    var fig = this;\n",
       "\n",
       "    var nav_element = $('<div/>')\n",
       "    nav_element.attr('style', 'width: 100%');\n",
       "    this.root.append(nav_element);\n",
       "\n",
       "    // Define a callback function for later on.\n",
       "    function toolbar_event(event) {\n",
       "        return fig.toolbar_button_onclick(event['data']);\n",
       "    }\n",
       "    function toolbar_mouse_event(event) {\n",
       "        return fig.toolbar_button_onmouseover(event['data']);\n",
       "    }\n",
       "\n",
       "    for(var toolbar_ind in mpl.toolbar_items) {\n",
       "        var name = mpl.toolbar_items[toolbar_ind][0];\n",
       "        var tooltip = mpl.toolbar_items[toolbar_ind][1];\n",
       "        var image = mpl.toolbar_items[toolbar_ind][2];\n",
       "        var method_name = mpl.toolbar_items[toolbar_ind][3];\n",
       "\n",
       "        if (!name) {\n",
       "            // put a spacer in here.\n",
       "            continue;\n",
       "        }\n",
       "        var button = $('<button/>');\n",
       "        button.addClass('ui-button ui-widget ui-state-default ui-corner-all ' +\n",
       "                        'ui-button-icon-only');\n",
       "        button.attr('role', 'button');\n",
       "        button.attr('aria-disabled', 'false');\n",
       "        button.click(method_name, toolbar_event);\n",
       "        button.mouseover(tooltip, toolbar_mouse_event);\n",
       "\n",
       "        var icon_img = $('<span/>');\n",
       "        icon_img.addClass('ui-button-icon-primary ui-icon');\n",
       "        icon_img.addClass(image);\n",
       "        icon_img.addClass('ui-corner-all');\n",
       "\n",
       "        var tooltip_span = $('<span/>');\n",
       "        tooltip_span.addClass('ui-button-text');\n",
       "        tooltip_span.html(tooltip);\n",
       "\n",
       "        button.append(icon_img);\n",
       "        button.append(tooltip_span);\n",
       "\n",
       "        nav_element.append(button);\n",
       "    }\n",
       "\n",
       "    var fmt_picker_span = $('<span/>');\n",
       "\n",
       "    var fmt_picker = $('<select/>');\n",
       "    fmt_picker.addClass('mpl-toolbar-option ui-widget ui-widget-content');\n",
       "    fmt_picker_span.append(fmt_picker);\n",
       "    nav_element.append(fmt_picker_span);\n",
       "    this.format_dropdown = fmt_picker[0];\n",
       "\n",
       "    for (var ind in mpl.extensions) {\n",
       "        var fmt = mpl.extensions[ind];\n",
       "        var option = $(\n",
       "            '<option/>', {selected: fmt === mpl.default_extension}).html(fmt);\n",
       "        fmt_picker.append(option)\n",
       "    }\n",
       "\n",
       "    // Add hover states to the ui-buttons\n",
       "    $( \".ui-button\" ).hover(\n",
       "        function() { $(this).addClass(\"ui-state-hover\");},\n",
       "        function() { $(this).removeClass(\"ui-state-hover\");}\n",
       "    );\n",
       "\n",
       "    var status_bar = $('<span class=\"mpl-message\"/>');\n",
       "    nav_element.append(status_bar);\n",
       "    this.message = status_bar[0];\n",
       "}\n",
       "\n",
       "mpl.figure.prototype.request_resize = function(x_pixels, y_pixels) {\n",
       "    // Request matplotlib to resize the figure. Matplotlib will then trigger a resize in the client,\n",
       "    // which will in turn request a refresh of the image.\n",
       "    this.send_message('resize', {'width': x_pixels, 'height': y_pixels});\n",
       "}\n",
       "\n",
       "mpl.figure.prototype.send_message = function(type, properties) {\n",
       "    properties['type'] = type;\n",
       "    properties['figure_id'] = this.id;\n",
       "    this.ws.send(JSON.stringify(properties));\n",
       "}\n",
       "\n",
       "mpl.figure.prototype.send_draw_message = function() {\n",
       "    if (!this.waiting) {\n",
       "        this.waiting = true;\n",
       "        this.ws.send(JSON.stringify({type: \"draw\", figure_id: this.id}));\n",
       "    }\n",
       "}\n",
       "\n",
       "\n",
       "mpl.figure.prototype.handle_save = function(fig, msg) {\n",
       "    var format_dropdown = fig.format_dropdown;\n",
       "    var format = format_dropdown.options[format_dropdown.selectedIndex].value;\n",
       "    fig.ondownload(fig, format);\n",
       "}\n",
       "\n",
       "\n",
       "mpl.figure.prototype.handle_resize = function(fig, msg) {\n",
       "    var size = msg['size'];\n",
       "    if (size[0] != fig.canvas.width || size[1] != fig.canvas.height) {\n",
       "        fig._resize_canvas(size[0], size[1]);\n",
       "        fig.send_message(\"refresh\", {});\n",
       "    };\n",
       "}\n",
       "\n",
       "mpl.figure.prototype.handle_rubberband = function(fig, msg) {\n",
       "    var x0 = msg['x0'] / mpl.ratio;\n",
       "    var y0 = (fig.canvas.height - msg['y0']) / mpl.ratio;\n",
       "    var x1 = msg['x1'] / mpl.ratio;\n",
       "    var y1 = (fig.canvas.height - msg['y1']) / mpl.ratio;\n",
       "    x0 = Math.floor(x0) + 0.5;\n",
       "    y0 = Math.floor(y0) + 0.5;\n",
       "    x1 = Math.floor(x1) + 0.5;\n",
       "    y1 = Math.floor(y1) + 0.5;\n",
       "    var min_x = Math.min(x0, x1);\n",
       "    var min_y = Math.min(y0, y1);\n",
       "    var width = Math.abs(x1 - x0);\n",
       "    var height = Math.abs(y1 - y0);\n",
       "\n",
       "    fig.rubberband_context.clearRect(\n",
       "        0, 0, fig.canvas.width, fig.canvas.height);\n",
       "\n",
       "    fig.rubberband_context.strokeRect(min_x, min_y, width, height);\n",
       "}\n",
       "\n",
       "mpl.figure.prototype.handle_figure_label = function(fig, msg) {\n",
       "    // Updates the figure title.\n",
       "    fig.header.textContent = msg['label'];\n",
       "}\n",
       "\n",
       "mpl.figure.prototype.handle_cursor = function(fig, msg) {\n",
       "    var cursor = msg['cursor'];\n",
       "    switch(cursor)\n",
       "    {\n",
       "    case 0:\n",
       "        cursor = 'pointer';\n",
       "        break;\n",
       "    case 1:\n",
       "        cursor = 'default';\n",
       "        break;\n",
       "    case 2:\n",
       "        cursor = 'crosshair';\n",
       "        break;\n",
       "    case 3:\n",
       "        cursor = 'move';\n",
       "        break;\n",
       "    }\n",
       "    fig.rubberband_canvas.style.cursor = cursor;\n",
       "}\n",
       "\n",
       "mpl.figure.prototype.handle_message = function(fig, msg) {\n",
       "    fig.message.textContent = msg['message'];\n",
       "}\n",
       "\n",
       "mpl.figure.prototype.handle_draw = function(fig, msg) {\n",
       "    // Request the server to send over a new figure.\n",
       "    fig.send_draw_message();\n",
       "}\n",
       "\n",
       "mpl.figure.prototype.handle_image_mode = function(fig, msg) {\n",
       "    fig.image_mode = msg['mode'];\n",
       "}\n",
       "\n",
       "mpl.figure.prototype.updated_canvas_event = function() {\n",
       "    // Called whenever the canvas gets updated.\n",
       "    this.send_message(\"ack\", {});\n",
       "}\n",
       "\n",
       "// A function to construct a web socket function for onmessage handling.\n",
       "// Called in the figure constructor.\n",
       "mpl.figure.prototype._make_on_message_function = function(fig) {\n",
       "    return function socket_on_message(evt) {\n",
       "        if (evt.data instanceof Blob) {\n",
       "            /* FIXME: We get \"Resource interpreted as Image but\n",
       "             * transferred with MIME type text/plain:\" errors on\n",
       "             * Chrome.  But how to set the MIME type?  It doesn't seem\n",
       "             * to be part of the websocket stream */\n",
       "            evt.data.type = \"image/png\";\n",
       "\n",
       "            /* Free the memory for the previous frames */\n",
       "            if (fig.imageObj.src) {\n",
       "                (window.URL || window.webkitURL).revokeObjectURL(\n",
       "                    fig.imageObj.src);\n",
       "            }\n",
       "\n",
       "            fig.imageObj.src = (window.URL || window.webkitURL).createObjectURL(\n",
       "                evt.data);\n",
       "            fig.updated_canvas_event();\n",
       "            fig.waiting = false;\n",
       "            return;\n",
       "        }\n",
       "        else if (typeof evt.data === 'string' && evt.data.slice(0, 21) == \"data:image/png;base64\") {\n",
       "            fig.imageObj.src = evt.data;\n",
       "            fig.updated_canvas_event();\n",
       "            fig.waiting = false;\n",
       "            return;\n",
       "        }\n",
       "\n",
       "        var msg = JSON.parse(evt.data);\n",
       "        var msg_type = msg['type'];\n",
       "\n",
       "        // Call the  \"handle_{type}\" callback, which takes\n",
       "        // the figure and JSON message as its only arguments.\n",
       "        try {\n",
       "            var callback = fig[\"handle_\" + msg_type];\n",
       "        } catch (e) {\n",
       "            console.log(\"No handler for the '\" + msg_type + \"' message type: \", msg);\n",
       "            return;\n",
       "        }\n",
       "\n",
       "        if (callback) {\n",
       "            try {\n",
       "                // console.log(\"Handling '\" + msg_type + \"' message: \", msg);\n",
       "                callback(fig, msg);\n",
       "            } catch (e) {\n",
       "                console.log(\"Exception inside the 'handler_\" + msg_type + \"' callback:\", e, e.stack, msg);\n",
       "            }\n",
       "        }\n",
       "    };\n",
       "}\n",
       "\n",
       "// from http://stackoverflow.com/questions/1114465/getting-mouse-location-in-canvas\n",
       "mpl.findpos = function(e) {\n",
       "    //this section is from http://www.quirksmode.org/js/events_properties.html\n",
       "    var targ;\n",
       "    if (!e)\n",
       "        e = window.event;\n",
       "    if (e.target)\n",
       "        targ = e.target;\n",
       "    else if (e.srcElement)\n",
       "        targ = e.srcElement;\n",
       "    if (targ.nodeType == 3) // defeat Safari bug\n",
       "        targ = targ.parentNode;\n",
       "\n",
       "    // jQuery normalizes the pageX and pageY\n",
       "    // pageX,Y are the mouse positions relative to the document\n",
       "    // offset() returns the position of the element relative to the document\n",
       "    var x = e.pageX - $(targ).offset().left;\n",
       "    var y = e.pageY - $(targ).offset().top;\n",
       "\n",
       "    return {\"x\": x, \"y\": y};\n",
       "};\n",
       "\n",
       "/*\n",
       " * return a copy of an object with only non-object keys\n",
       " * we need this to avoid circular references\n",
       " * http://stackoverflow.com/a/24161582/3208463\n",
       " */\n",
       "function simpleKeys (original) {\n",
       "  return Object.keys(original).reduce(function (obj, key) {\n",
       "    if (typeof original[key] !== 'object')\n",
       "        obj[key] = original[key]\n",
       "    return obj;\n",
       "  }, {});\n",
       "}\n",
       "\n",
       "mpl.figure.prototype.mouse_event = function(event, name) {\n",
       "    var canvas_pos = mpl.findpos(event)\n",
       "\n",
       "    if (name === 'button_press')\n",
       "    {\n",
       "        this.canvas.focus();\n",
       "        this.canvas_div.focus();\n",
       "    }\n",
       "\n",
       "    var x = canvas_pos.x * mpl.ratio;\n",
       "    var y = canvas_pos.y * mpl.ratio;\n",
       "\n",
       "    this.send_message(name, {x: x, y: y, button: event.button,\n",
       "                             step: event.step,\n",
       "                             guiEvent: simpleKeys(event)});\n",
       "\n",
       "    /* This prevents the web browser from automatically changing to\n",
       "     * the text insertion cursor when the button is pressed.  We want\n",
       "     * to control all of the cursor setting manually through the\n",
       "     * 'cursor' event from matplotlib */\n",
       "    event.preventDefault();\n",
       "    return false;\n",
       "}\n",
       "\n",
       "mpl.figure.prototype._key_event_extra = function(event, name) {\n",
       "    // Handle any extra behaviour associated with a key event\n",
       "}\n",
       "\n",
       "mpl.figure.prototype.key_event = function(event, name) {\n",
       "\n",
       "    // Prevent repeat events\n",
       "    if (name == 'key_press')\n",
       "    {\n",
       "        if (event.which === this._key)\n",
       "            return;\n",
       "        else\n",
       "            this._key = event.which;\n",
       "    }\n",
       "    if (name == 'key_release')\n",
       "        this._key = null;\n",
       "\n",
       "    var value = '';\n",
       "    if (event.ctrlKey && event.which != 17)\n",
       "        value += \"ctrl+\";\n",
       "    if (event.altKey && event.which != 18)\n",
       "        value += \"alt+\";\n",
       "    if (event.shiftKey && event.which != 16)\n",
       "        value += \"shift+\";\n",
       "\n",
       "    value += 'k';\n",
       "    value += event.which.toString();\n",
       "\n",
       "    this._key_event_extra(event, name);\n",
       "\n",
       "    this.send_message(name, {key: value,\n",
       "                             guiEvent: simpleKeys(event)});\n",
       "    return false;\n",
       "}\n",
       "\n",
       "mpl.figure.prototype.toolbar_button_onclick = function(name) {\n",
       "    if (name == 'download') {\n",
       "        this.handle_save(this, null);\n",
       "    } else {\n",
       "        this.send_message(\"toolbar_button\", {name: name});\n",
       "    }\n",
       "};\n",
       "\n",
       "mpl.figure.prototype.toolbar_button_onmouseover = function(tooltip) {\n",
       "    this.message.textContent = tooltip;\n",
       "};\n",
       "mpl.toolbar_items = [[\"Home\", \"Reset original view\", \"fa fa-home icon-home\", \"home\"], [\"Back\", \"Back to previous view\", \"fa fa-arrow-left icon-arrow-left\", \"back\"], [\"Forward\", \"Forward to next view\", \"fa fa-arrow-right icon-arrow-right\", \"forward\"], [\"\", \"\", \"\", \"\"], [\"Pan\", \"Pan axes with left mouse, zoom with right\", \"fa fa-arrows icon-move\", \"pan\"], [\"Zoom\", \"Zoom to rectangle\", \"fa fa-square-o icon-check-empty\", \"zoom\"], [\"\", \"\", \"\", \"\"], [\"Download\", \"Download plot\", \"fa fa-floppy-o icon-save\", \"download\"]];\n",
       "\n",
       "mpl.extensions = [\"eps\", \"jpeg\", \"pdf\", \"png\", \"ps\", \"raw\", \"svg\", \"tif\"];\n",
       "\n",
       "mpl.default_extension = \"png\";var comm_websocket_adapter = function(comm) {\n",
       "    // Create a \"websocket\"-like object which calls the given IPython comm\n",
       "    // object with the appropriate methods. Currently this is a non binary\n",
       "    // socket, so there is still some room for performance tuning.\n",
       "    var ws = {};\n",
       "\n",
       "    ws.close = function() {\n",
       "        comm.close()\n",
       "    };\n",
       "    ws.send = function(m) {\n",
       "        //console.log('sending', m);\n",
       "        comm.send(m);\n",
       "    };\n",
       "    // Register the callback with on_msg.\n",
       "    comm.on_msg(function(msg) {\n",
       "        //console.log('receiving', msg['content']['data'], msg);\n",
       "        // Pass the mpl event to the overridden (by mpl) onmessage function.\n",
       "        ws.onmessage(msg['content']['data'])\n",
       "    });\n",
       "    return ws;\n",
       "}\n",
       "\n",
       "mpl.mpl_figure_comm = function(comm, msg) {\n",
       "    // This is the function which gets called when the mpl process\n",
       "    // starts-up an IPython Comm through the \"matplotlib\" channel.\n",
       "\n",
       "    var id = msg.content.data.id;\n",
       "    // Get hold of the div created by the display call when the Comm\n",
       "    // socket was opened in Python.\n",
       "    var element = $(\"#\" + id);\n",
       "    var ws_proxy = comm_websocket_adapter(comm)\n",
       "\n",
       "    function ondownload(figure, format) {\n",
       "        window.open(figure.imageObj.src);\n",
       "    }\n",
       "\n",
       "    var fig = new mpl.figure(id, ws_proxy,\n",
       "                           ondownload,\n",
       "                           element.get(0));\n",
       "\n",
       "    // Call onopen now - mpl needs it, as it is assuming we've passed it a real\n",
       "    // web socket which is closed, not our websocket->open comm proxy.\n",
       "    ws_proxy.onopen();\n",
       "\n",
       "    fig.parent_element = element.get(0);\n",
       "    fig.cell_info = mpl.find_output_cell(\"<div id='\" + id + \"'></div>\");\n",
       "    if (!fig.cell_info) {\n",
       "        console.error(\"Failed to find cell for figure\", id, fig);\n",
       "        return;\n",
       "    }\n",
       "\n",
       "    var output_index = fig.cell_info[2]\n",
       "    var cell = fig.cell_info[0];\n",
       "\n",
       "};\n",
       "\n",
       "mpl.figure.prototype.handle_close = function(fig, msg) {\n",
       "    var width = fig.canvas.width/mpl.ratio\n",
       "    fig.root.unbind('remove')\n",
       "\n",
       "    // Update the output cell to use the data from the current canvas.\n",
       "    fig.push_to_output();\n",
       "    var dataURL = fig.canvas.toDataURL();\n",
       "    // Re-enable the keyboard manager in IPython - without this line, in FF,\n",
       "    // the notebook keyboard shortcuts fail.\n",
       "    IPython.keyboard_manager.enable()\n",
       "    $(fig.parent_element).html('<img src=\"' + dataURL + '\" width=\"' + width + '\">');\n",
       "    fig.close_ws(fig, msg);\n",
       "}\n",
       "\n",
       "mpl.figure.prototype.close_ws = function(fig, msg){\n",
       "    fig.send_message('closing', msg);\n",
       "    // fig.ws.close()\n",
       "}\n",
       "\n",
       "mpl.figure.prototype.push_to_output = function(remove_interactive) {\n",
       "    // Turn the data on the canvas into data in the output cell.\n",
       "    var width = this.canvas.width/mpl.ratio\n",
       "    var dataURL = this.canvas.toDataURL();\n",
       "    this.cell_info[1]['text/html'] = '<img src=\"' + dataURL + '\" width=\"' + width + '\">';\n",
       "}\n",
       "\n",
       "mpl.figure.prototype.updated_canvas_event = function() {\n",
       "    // Tell IPython that the notebook contents must change.\n",
       "    IPython.notebook.set_dirty(true);\n",
       "    this.send_message(\"ack\", {});\n",
       "    var fig = this;\n",
       "    // Wait a second, then push the new image to the DOM so\n",
       "    // that it is saved nicely (might be nice to debounce this).\n",
       "    setTimeout(function () { fig.push_to_output() }, 1000);\n",
       "}\n",
       "\n",
       "mpl.figure.prototype._init_toolbar = function() {\n",
       "    var fig = this;\n",
       "\n",
       "    var nav_element = $('<div/>')\n",
       "    nav_element.attr('style', 'width: 100%');\n",
       "    this.root.append(nav_element);\n",
       "\n",
       "    // Define a callback function for later on.\n",
       "    function toolbar_event(event) {\n",
       "        return fig.toolbar_button_onclick(event['data']);\n",
       "    }\n",
       "    function toolbar_mouse_event(event) {\n",
       "        return fig.toolbar_button_onmouseover(event['data']);\n",
       "    }\n",
       "\n",
       "    for(var toolbar_ind in mpl.toolbar_items){\n",
       "        var name = mpl.toolbar_items[toolbar_ind][0];\n",
       "        var tooltip = mpl.toolbar_items[toolbar_ind][1];\n",
       "        var image = mpl.toolbar_items[toolbar_ind][2];\n",
       "        var method_name = mpl.toolbar_items[toolbar_ind][3];\n",
       "\n",
       "        if (!name) { continue; };\n",
       "\n",
       "        var button = $('<button class=\"btn btn-default\" href=\"#\" title=\"' + name + '\"><i class=\"fa ' + image + ' fa-lg\"></i></button>');\n",
       "        button.click(method_name, toolbar_event);\n",
       "        button.mouseover(tooltip, toolbar_mouse_event);\n",
       "        nav_element.append(button);\n",
       "    }\n",
       "\n",
       "    // Add the status bar.\n",
       "    var status_bar = $('<span class=\"mpl-message\" style=\"text-align:right; float: right;\"/>');\n",
       "    nav_element.append(status_bar);\n",
       "    this.message = status_bar[0];\n",
       "\n",
       "    // Add the close button to the window.\n",
       "    var buttongrp = $('<div class=\"btn-group inline pull-right\"></div>');\n",
       "    var button = $('<button class=\"btn btn-mini btn-primary\" href=\"#\" title=\"Stop Interaction\"><i class=\"fa fa-power-off icon-remove icon-large\"></i></button>');\n",
       "    button.click(function (evt) { fig.handle_close(fig, {}); } );\n",
       "    button.mouseover('Stop Interaction', toolbar_mouse_event);\n",
       "    buttongrp.append(button);\n",
       "    var titlebar = this.root.find($('.ui-dialog-titlebar'));\n",
       "    titlebar.prepend(buttongrp);\n",
       "}\n",
       "\n",
       "mpl.figure.prototype._root_extra_style = function(el){\n",
       "    var fig = this\n",
       "    el.on(\"remove\", function(){\n",
       "\tfig.close_ws(fig, {});\n",
       "    });\n",
       "}\n",
       "\n",
       "mpl.figure.prototype._canvas_extra_style = function(el){\n",
       "    // this is important to make the div 'focusable\n",
       "    el.attr('tabindex', 0)\n",
       "    // reach out to IPython and tell the keyboard manager to turn it's self\n",
       "    // off when our div gets focus\n",
       "\n",
       "    // location in version 3\n",
       "    if (IPython.notebook.keyboard_manager) {\n",
       "        IPython.notebook.keyboard_manager.register_events(el);\n",
       "    }\n",
       "    else {\n",
       "        // location in version 2\n",
       "        IPython.keyboard_manager.register_events(el);\n",
       "    }\n",
       "\n",
       "}\n",
       "\n",
       "mpl.figure.prototype._key_event_extra = function(event, name) {\n",
       "    var manager = IPython.notebook.keyboard_manager;\n",
       "    if (!manager)\n",
       "        manager = IPython.keyboard_manager;\n",
       "\n",
       "    // Check for shift+enter\n",
       "    if (event.shiftKey && event.which == 13) {\n",
       "        this.canvas_div.blur();\n",
       "        event.shiftKey = false;\n",
       "        // Send a \"J\" for go to next cell\n",
       "        event.which = 74;\n",
       "        event.keyCode = 74;\n",
       "        manager.command_mode();\n",
       "        manager.handle_keydown(event);\n",
       "    }\n",
       "}\n",
       "\n",
       "mpl.figure.prototype.handle_save = function(fig, msg) {\n",
       "    fig.ondownload(fig, null);\n",
       "}\n",
       "\n",
       "\n",
       "mpl.find_output_cell = function(html_output) {\n",
       "    // Return the cell and output element which can be found *uniquely* in the notebook.\n",
       "    // Note - this is a bit hacky, but it is done because the \"notebook_saving.Notebook\"\n",
       "    // IPython event is triggered only after the cells have been serialised, which for\n",
       "    // our purposes (turning an active figure into a static one), is too late.\n",
       "    var cells = IPython.notebook.get_cells();\n",
       "    var ncells = cells.length;\n",
       "    for (var i=0; i<ncells; i++) {\n",
       "        var cell = cells[i];\n",
       "        if (cell.cell_type === 'code'){\n",
       "            for (var j=0; j<cell.output_area.outputs.length; j++) {\n",
       "                var data = cell.output_area.outputs[j];\n",
       "                if (data.data) {\n",
       "                    // IPython >= 3 moved mimebundle to data attribute of output\n",
       "                    data = data.data;\n",
       "                }\n",
       "                if (data['text/html'] == html_output) {\n",
       "                    return [cell, data, j];\n",
       "                }\n",
       "            }\n",
       "        }\n",
       "    }\n",
       "}\n",
       "\n",
       "// Register the function which deals with the matplotlib target/channel.\n",
       "// The kernel may be null if the page has been refreshed.\n",
       "if (IPython.notebook.kernel != null) {\n",
       "    IPython.notebook.kernel.comm_manager.register_target('matplotlib', mpl.mpl_figure_comm);\n",
       "}\n"
      ],
      "text/plain": [
       "<IPython.core.display.Javascript object>"
      ]
     },
     "metadata": {},
     "output_type": "display_data"
    },
    {
     "data": {
      "text/html": [
       "<img src=\"data:image/png;base64,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\" width=\"640\">"
      ],
      "text/plain": [
       "<IPython.core.display.HTML object>"
      ]
     },
     "metadata": {},
     "output_type": "display_data"
    }
   ],
   "source": [
    "%matplotlib notebook\n",
    "import matplotlib.pyplot as plt\n",
    "\n",
    "Nc = len(class_count)\n",
    "plt.bar(np.arange(Nc), list(class_count.values()))#\n",
    "plt.xticks(np.arange(Nc), class_count.keys(), rotation='vertical')\n",
    "plt.tight_layout()"
   ]
  }
 ],
 "metadata": {
  "kernelspec": {
   "display_name": "Python 3",
   "language": "python",
   "name": "python3"
  },
  "language_info": {
   "codemirror_mode": {
    "name": "ipython",
    "version": 3
   },
   "file_extension": ".py",
   "mimetype": "text/x-python",
   "name": "python",
   "nbconvert_exporter": "python",
   "pygments_lexer": "ipython3",
   "version": "3.6.8"
  }
 },
 "nbformat": 4,
 "nbformat_minor": 2
}
