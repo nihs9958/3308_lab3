{
 "cells": [
  {
   "cell_type": "markdown",
   "metadata": {
    "deletable": false,
    "editable": false,
    "nbgrader": {
     "cell_type": "markdown",
     "checksum": "2c9d57395ac9f8ca8d3dda11e2499d24",
     "grade": false,
     "grade_id": "cell-9965c34681692e12",
     "locked": true,
     "schema_version": 3,
     "solution": false
    }
   },
   "source": [
    "# Tutorial 4: Understanding Binary Representation\n",
    "\n",
    "## PHYS 2600, Spring 2019"
   ]
  },
  {
   "cell_type": "markdown",
   "metadata": {
    "deletable": false,
    "editable": false,
    "nbgrader": {
     "cell_type": "markdown",
     "checksum": "7a2d1591c5737b1d8a964c1fce5e3a5d",
     "grade": false,
     "grade_id": "cell-4ecc0a04de136c1e",
     "locked": true,
     "schema_version": 3,
     "solution": false
    }
   },
   "source": [
    "## T4.1 - Binary arithmetic and integers\n",
    "\n",
    "### Part A\n",
    "\n",
    "Let's start with some simple binary math.  __Compute the following sum in binary:__\n",
    "\n",
    "```\n",
    "  101001\n",
    "+ 010001\n",
    "--------\n",
    "= ??????\n",
    "```\n",
    "\n",
    "Put your answer in the Markdown cell below."
   ]
  },
  {
   "cell_type": "markdown",
   "metadata": {
    "deletable": false,
    "nbgrader": {
     "cell_type": "markdown",
     "checksum": "3908ca536239336e2662443582944ce9",
     "grade": true,
     "grade_id": "cell-1b10ffddc8c5a904",
     "locked": false,
     "points": 2,
     "schema_version": 3,
     "solution": true
    }
   },
   "source": [
    "__SOLUTION:__ Working entirely in binary, $101001 + 010001 = 111010$.  (This works just like adding in base-10: here 1+1 gives 10, so we carry the 1 to the next column.)"
   ]
  },
  {
   "cell_type": "markdown",
   "metadata": {
    "deletable": false,
    "editable": false,
    "nbgrader": {
     "cell_type": "markdown",
     "checksum": "24a40c06a1865e26dce985fd64c06605",
     "grade": false,
     "grade_id": "cell-072d01514d45f5bc",
     "locked": true,
     "schema_version": 3,
     "solution": false
    }
   },
   "source": [
    "Check your answer: what are 101001 and 010001 in base 10, and then what is their sum?  Use the code cell below to answer, and remember that you can write binary integers with the `0b...` prefix."
   ]
  },
  {
   "cell_type": "code",
   "execution_count": 1,
   "metadata": {
    "deletable": false,
    "nbgrader": {
     "cell_type": "code",
     "checksum": "2db8957ef1502faeaebdffd742e7c6d4",
     "grade": false,
     "grade_id": "cell-292b45d30fdc0875",
     "locked": false,
     "schema_version": 3,
     "solution": true
    }
   },
   "outputs": [
    {
     "name": "stdout",
     "output_type": "stream",
     "text": [
      "a = 41, b = 17\n",
      "a + b = 58\n",
      "Answer from adding in binary:  58\n"
     ]
    }
   ],
   "source": [
    "a = 0b101001\n",
    "b = 0b010001\n",
    "print(\"a = %d, b = %d\" % (a,b))\n",
    "print(\"a + b = %d\" % (a+b) )\n",
    "print(\"Answer from adding in binary: \", 0b111010)"
   ]
  },
  {
   "cell_type": "markdown",
   "metadata": {
    "deletable": false,
    "editable": false,
    "nbgrader": {
     "cell_type": "markdown",
     "checksum": "f93d280a02d92faddbae287dfd910916",
     "grade": false,
     "grade_id": "cell-e0feb69d18a836e1",
     "locked": true,
     "schema_version": 3,
     "solution": false
    }
   },
   "source": [
    "### Part B\n",
    "\n",
    "What if we want to go the other way, i.e. find the binary representation of a base-10 number?  Python has a built-in function called `bin()` that does exactly that.  However, if we try to repeat our binary addition exercise from above using `bin()`, something goes wrong:"
   ]
  },
  {
   "cell_type": "code",
   "execution_count": null,
   "metadata": {},
   "outputs": [],
   "source": [
    "# Example cell - run me\n",
    "print(bin(41) + bin(17))"
   ]
  },
  {
   "cell_type": "markdown",
   "metadata": {
    "deletable": false,
    "editable": false,
    "nbgrader": {
     "cell_type": "markdown",
     "checksum": "e2c52e492bd420bcbb04b71f9ea74625",
     "grade": false,
     "grade_id": "cell-a4274ce7f49ca301",
     "locked": true,
     "schema_version": 3,
     "solution": false
    }
   },
   "source": [
    "__What is happening to give the output above?__  \n",
    "\n",
    "_(Hint: if you remove the `print()` statement, the Jupyter automatic printing works a little differently, and its output might give you a clue...)_"
   ]
  },
  {
   "cell_type": "markdown",
   "metadata": {
    "deletable": false,
    "nbgrader": {
     "cell_type": "markdown",
     "checksum": "704c666f2885cc744ff4619d2b32feee",
     "grade": true,
     "grade_id": "cell-aa6de1c74719ef30",
     "locked": false,
     "points": 0,
     "schema_version": 3,
     "solution": true
    }
   },
   "source": [
    "__SOLUTION:__ The `bin()` function is giving us strings back, and not numbers!  When we use `+` on the result, it concatenates the two strings together.\n",
    "\n",
    "If you removed `print()`, you saw that the result is printed out with quotes `'...'` around it, indicating that the expression is a string.  It has to be a string, because it doesn't make sense as a number - there's an extra `0b` in the middle of it!\n",
    "\n",
    "As an aside, it is possible to convert the output of `bin()` back into a number by typecasting with `int()`:\n",
    "\n",
    "```python\n",
    "print(int(bin(41), 2))\n",
    ">> 41\n",
    "```\n",
    "\n",
    "This requires the use of the _optional_ second argument to `int()`, which tells it to use base-2 for typecasting.  (Otherwise, it's ambiguous - is `int('10')` 10, or is it 2?)"
   ]
  },
  {
   "cell_type": "markdown",
   "metadata": {},
   "source": [
    "## T4.2 - Floating point arithmetic\n",
    "\n",
    "For physics, most practical applications of computing use decimal numbers - integers are more of a curiosity.  Thus, we'll be seeing a lot of _floating point_ representation.  \n",
    "\n",
    "### Part A\n",
    "\n",
    "First, a quick crash course in using decimal (floating-point) numbers in Python.  Python supports __scientific notation for entering numbers__, with the notation `X.YYeZZ` or `X.YYEZZ` (there is no difference between using little-`e` or big-`E`.)  \n",
    "\n",
    "Here are some examples - the `>>` shows the output from a given input statement.\n",
    "\n",
    "```python\n",
    "print(1.23e-4)\n",
    ">> 0.000123\n",
    "print(97E6)\n",
    ">> 97000000.0\n",
    "```\n",
    "\n",
    "This notation is explicitly defined only for decimal numbers, which is why there's a `.0` at the end of the second example.\n",
    "\n",
    "__Try it yourself:__ the molar mass of aluminum is about 0.027 kg/mol, and Avogadro's number is about $6.0 \\times 10^{23}$.  How many atoms are there in two tons (2,000 kg) of aluminum?  (Use \"e\" notation to enter these numbers.)\n",
    "\n",
    "\n",
    "\n",
    "\n",
    "\n"
   ]
  },
  {
   "cell_type": "code",
   "execution_count": 2,
   "metadata": {
    "deletable": false,
    "nbgrader": {
     "cell_type": "code",
     "checksum": "0a5330d7f296742e94f6f7c2524ca2c1",
     "grade": false,
     "grade_id": "cell-bef36e902bd961ea",
     "locked": false,
     "schema_version": 3,
     "solution": true
    }
   },
   "outputs": [
    {
     "name": "stdout",
     "output_type": "stream",
     "text": [
      "4.444444444444445e+28\n"
     ]
    }
   ],
   "source": [
    "Al_molar_mass = 27e-3  # kg/mol\n",
    "N_A = 6.0e23\n",
    "sample_mass = 2e3 # kg\n",
    "\n",
    "N_atoms = sample_mass / Al_molar_mass * N_A\n",
    "print(N_atoms)"
   ]
  },
  {
   "cell_type": "markdown",
   "metadata": {
    "deletable": false,
    "editable": false,
    "nbgrader": {
     "cell_type": "markdown",
     "checksum": "e66f075c4a7fce9c6febc45b58c62021",
     "grade": false,
     "grade_id": "cell-6a3d85dd7dd58844",
     "locked": true,
     "schema_version": 3,
     "solution": false
    }
   },
   "source": [
    "### Part B\n",
    "\n",
    "Now let's have a deeper look at the implementation.  Here's the sketch from lecture again to remind you how floating point representation works:\n",
    "\n",
    "<img src=\"https://physicscourses.colorado.edu/phys2600/phys2600_sp19/img/floating-point.png\" />\n",
    "\n",
    "Once again, we're physicists so we recognize that this is just scientific notation.\n",
    "\n",
    "When we ask for a float in Python, the default on most systems is to use __64 bits__ (known as \"double precision\" for being twice the old default of 32 bits) for each number.  This is divided up into __52 bits__ for the significant digits, __11 bits__ for the exponent, and __1 bit__ for the sign.\n",
    "\n",
    "Let's think about the implications of floating-point representation, starting with the exponent.  The exponent has its own sign, of course, since we want to be able to represent $0.001$ just as well as $1000$.  That leaves 10 bits for the value of the exponent itself, which is an integer.\n",
    "\n",
    "Given the number of bits available, __what is the largest base-10 number that we can store in 64-bit floating point?__  (Remember that we're working natively in binary, so if the value of the exponent is $E$, the significand is multiplied by $2^E$.)"
   ]
  },
  {
   "cell_type": "markdown",
   "metadata": {
    "deletable": false,
    "nbgrader": {
     "cell_type": "markdown",
     "checksum": "9b2b2b6ac8c66e983e882aff357df2de",
     "grade": true,
     "grade_id": "cell-0e50f3f2efc38baa",
     "locked": false,
     "points": 0,
     "schema_version": 3,
     "solution": true
    }
   },
   "source": [
    "__SOLUTION:__ Leaving off the sign bit, we have 10 bits, which means the exponent can be at most $2^{10} = 1024$.  Thus, 11 digits for the exponent allows us to store values from roughly $2^{-1024}$ to $2^{1024}$, corresponding to a maximum of about  $1.7 \\times 10^{+308}$."
   ]
  },
  {
   "cell_type": "markdown",
   "metadata": {
    "deletable": false,
    "editable": false,
    "nbgrader": {
     "cell_type": "markdown",
     "checksum": "cd3ecefc54cb2f9b1935443dda3d38e1",
     "grade": false,
     "grade_id": "cell-dbbb7f605cedddf9",
     "locked": true,
     "schema_version": 3,
     "solution": false
    }
   },
   "source": [
    "Try to enter a _larger_ number than the maximum allowed - make sure it's a decimal so that Python will use floating-point to store it.  You should get an error message about \"overflow\", which means the number is too big to store!"
   ]
  },
  {
   "cell_type": "code",
   "execution_count": 3,
   "metadata": {
    "deletable": false,
    "nbgrader": {
     "cell_type": "code",
     "checksum": "e4c0eeb1f67b9fc13528f593a9d5ad1a",
     "grade": false,
     "grade_id": "cell-98233c703031821a",
     "locked": false,
     "schema_version": 3,
     "solution": true
    }
   },
   "outputs": [
    {
     "ename": "OverflowError",
     "evalue": "(34, 'Numerical result out of range')",
     "output_type": "error",
     "traceback": [
      "\u001b[0;31m---------------------------------------------------------------------------\u001b[0m",
      "\u001b[0;31mOverflowError\u001b[0m                             Traceback (most recent call last)",
      "\u001b[0;32m<ipython-input-3-577bd68b9a55>\u001b[0m in \u001b[0;36m<module>\u001b[0;34m\u001b[0m\n\u001b[1;32m      1\u001b[0m \u001b[0;31m# Threshold is about 10^{308}, so if we go slightly larger...\u001b[0m\u001b[0;34m\u001b[0m\u001b[0;34m\u001b[0m\u001b[0;34m\u001b[0m\u001b[0m\n\u001b[0;32m----> 2\u001b[0;31m \u001b[0mslightly_too_big\u001b[0m \u001b[0;34m=\u001b[0m \u001b[0;36m10.\u001b[0m\u001b[0;34m**\u001b[0m\u001b[0;36m309\u001b[0m\u001b[0;34m\u001b[0m\u001b[0;34m\u001b[0m\u001b[0m\n\u001b[0m",
      "\u001b[0;31mOverflowError\u001b[0m: (34, 'Numerical result out of range')"
     ]
    }
   ],
   "source": [
    "# Threshold is about 10^{308}, so if we go slightly larger...\n",
    "slightly_too_big = 10.**309\n",
    "\n",
    "## Important note: using scientific notation actually protects you from\n",
    "## overflow error!  If you try \"1e309\", for example, you'll get \"inf\" instead of \n",
    "## an error message."
   ]
  },
  {
   "cell_type": "markdown",
   "metadata": {
    "deletable": false,
    "editable": false,
    "nbgrader": {
     "cell_type": "markdown",
     "checksum": "17ee3d80cce83b8d4b793b8c89eb26d2",
     "grade": false,
     "grade_id": "cell-a491d04b0eb0bb86",
     "locked": true,
     "schema_version": 3,
     "solution": false
    }
   },
   "source": [
    "We can also have \"underflow\", where a number is too _small_ to represent in floating point - some more advanced numerical modules will give you errors or warnings about this too, but by default Python will just replace an underflowed float with zero.\n",
    "\n",
    "### Part B\n",
    "\n",
    "Now let's worry about the _significand_, which has 52 bits available.  You can think of the significand as a fixed-precision binary number of the form `1.001001...`.  In fact, the standard convention is that the leading `1` is always there (we're free to change the exponent to accomplish that), which gives us a total of 53 bits of precision - for example, we can represent the number `1.111...11` with 52 ones after the decimal exactly.\n",
    "\n",
    "If we have 53 bits of precision available for the significand, __what is the approximate relative error__ of a decimal number stored in this format?  (I say approximate because we can store something like 1.5 _exactly_ in binary; but for numbers that we have to truncate after 53 bits, how big is the truncation error expected to be?)"
   ]
  },
  {
   "cell_type": "markdown",
   "metadata": {
    "deletable": false,
    "nbgrader": {
     "cell_type": "markdown",
     "checksum": "818f644dd10d2c6bdf221b29c2752aac",
     "grade": true,
     "grade_id": "cell-2ff58317544bd3a0",
     "locked": false,
     "points": 0,
     "schema_version": 3,
     "solution": true
    }
   },
   "source": [
    "__SOLUTION:__ If we truncate a binary decimal after 53 bits, we're basically setting the rest of its digits to zero; so the largest error we could make would be if they were all 1 instead.  On average, it's more likely that the _next_ digit is 1 and we set it to zero, and the rest of the difference is negligible.\n",
    "\n",
    "This gives us a truncation error of roughly \n",
    "\n",
    "$$\n",
    "(1/2)^{53} \\approx 1.11 \\times 10^{-16}\n",
    "$$\n",
    "\n",
    "So, the rule of thumb is: 64-bit floating point numbers are completely trustworthy out to 15 digits of precision, beyond that you should start to worry."
   ]
  },
  {
   "cell_type": "markdown",
   "metadata": {
    "deletable": false,
    "editable": false,
    "nbgrader": {
     "cell_type": "markdown",
     "checksum": "39839c1b07ff5f1703ea4c28e4c88a39",
     "grade": false,
     "grade_id": "cell-4f6564c00cec4d44",
     "locked": true,
     "schema_version": 3,
     "solution": false
    }
   },
   "source": [
    "To test your results, _run the cell below_ to print out 0.6 to 20 digits of precision.  Since 0.6 isn't an exact decimal in binary, you will see deviations occur due to the truncation to 53 bits of significand: __what decimal place does the difference happen in?__  Does that match your results?"
   ]
  },
  {
   "cell_type": "code",
   "execution_count": null,
   "metadata": {
    "deletable": false,
    "editable": false,
    "nbgrader": {
     "cell_type": "code",
     "checksum": "c37eb444d1297b1e3463898ae6c1df40",
     "grade": false,
     "grade_id": "cell-ee9684ce078ec729",
     "locked": true,
     "schema_version": 3,
     "solution": false
    }
   },
   "outputs": [],
   "source": [
    "# Format code prints first 20 digits\n",
    "print('%.20f' % 0.6)"
   ]
  },
  {
   "cell_type": "markdown",
   "metadata": {
    "deletable": false,
    "nbgrader": {
     "cell_type": "markdown",
     "checksum": "66e8457bae19aeddb237849d5dfa0e91",
     "grade": true,
     "grade_id": "cell-7c6d1fd1a8ceb2d4",
     "locked": false,
     "points": 0,
     "schema_version": 3,
     "solution": true
    }
   },
   "source": [
    "__SOLUTION:__ The difference between the print-out above and 0.600... occurs in the __17th digit__, which is about what we expect given the rough truncation error above.  But if we round to the first 15 digits we get 0.600... exactly, as promised!"
   ]
  },
  {
   "cell_type": "markdown",
   "metadata": {
    "deletable": false,
    "editable": false,
    "nbgrader": {
     "cell_type": "markdown",
     "checksum": "8ed0f35fafb5caf6651d5ec3a3f92712",
     "grade": false,
     "grade_id": "cell-2d8824ab7a60aba8",
     "locked": true,
     "schema_version": 3,
     "solution": false
    }
   },
   "source": [
    "### Part C\n",
    "\n",
    "As we've emphasized, the exact amount of truncation error depends on what number we're representing.  The number $0.6$ is exact in base-10 decimal notation, but infinitely repeating in base-2.\n",
    "\n",
    "This situation is not symmetrical: _there is no such number_ which can be represented exactly in base-2, but not in base-10!  __Why?__"
   ]
  },
  {
   "cell_type": "markdown",
   "metadata": {
    "deletable": false,
    "nbgrader": {
     "cell_type": "markdown",
     "checksum": "20f3ff4e214f72d15710222a0d876c20",
     "grade": true,
     "grade_id": "cell-a0cef985ae89f72c",
     "locked": false,
     "points": 0,
     "schema_version": 3,
     "solution": true
    }
   },
   "source": [
    "__SOLUTION:__ We can see a pattern if we just look at the base-10 decimal representations of powers of 1/2:\n",
    "\n",
    "$$\n",
    "1/2 = 0.5 \\\\\n",
    "1/4 = 0.25 \\\\\n",
    "1/8 = 0.125 \\\\ \n",
    "1/16 = 0.0625 \\\\\n",
    "...\n",
    "$$\n",
    "\n",
    "The ubiquitous 5 at the end is a clue: we can take any fraction $1/2^n$ and rewrite it as\n",
    "\n",
    "$$\n",
    "\\frac{1}{2^n} = \\frac{5}{2^{n-1} \\times 10}.\n",
    "$$\n",
    "\n",
    "So we have a recursive relation: if $1/2^{n-1}$ is an exact decimal, then we just multiply by 5 and divide by 10 (shift to the right one place) to get a new exact decimal.\n",
    "\n",
    "Basically, this happened because 2 is contained in our base $10 = 2 \\times 5$, but not vice-versa: there's no finite way to write $1/5$ using powers of $1/2$.\n",
    "\n"
   ]
  }
 ],
 "metadata": {
  "kernelspec": {
   "display_name": "Python 3",
   "language": "python",
   "name": "python3"
  },
  "language_info": {
   "codemirror_mode": {
    "name": "ipython",
    "version": 3
   },
   "file_extension": ".py",
   "mimetype": "text/x-python",
   "name": "python",
   "nbconvert_exporter": "python",
   "pygments_lexer": "ipython3",
   "version": "3.6.7"
  }
 },
 "nbformat": 4,
 "nbformat_minor": 2
}
