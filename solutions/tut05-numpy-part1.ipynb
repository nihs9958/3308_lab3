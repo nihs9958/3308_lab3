{
 "cells": [
  {
   "cell_type": "markdown",
   "metadata": {
    "deletable": false,
    "editable": false,
    "nbgrader": {
     "cell_type": "markdown",
     "checksum": "701a259bd469c7984c1ce6c4ccc8baf8",
     "grade": false,
     "grade_id": "cell-100899e0deea9789",
     "locked": true,
     "schema_version": 3,
     "solution": false
    }
   },
   "source": [
    "# Tutorial 5: NumPy, Part I\n",
    "\n",
    "## PHYS 2600, Spring 2019"
   ]
  },
  {
   "cell_type": "markdown",
   "metadata": {
    "deletable": false,
    "editable": false,
    "nbgrader": {
     "cell_type": "markdown",
     "checksum": "a0e73b5f88cbf2679448a4793b70b696",
     "grade": false,
     "grade_id": "cell-66620da88b06fd9e",
     "locked": true,
     "schema_version": 3,
     "solution": false
    }
   },
   "source": [
    "## T5.1 - Importing and testing things out\n",
    "\n",
    "One of the great features of Python is the huge number of available modules which implement commonly used algorithms and functions for us.  Most of these modules are widely used and thoroughly tested, but it's still always a good idea to make sure that you're getting what you think you are when you `import` something else!  (\"Trust, but verify.\")\n",
    "\n",
    "The next cell tries to use the `sin` function from NumPy, but we forgot to import the module - if you run it now, it will just give an error message!  __Fix the cell by importing the `numpy` module__.  Make sure you use the standard shorthand alias of `np` (using `import ... as ...` syntax.)\n",
    "\n",
    "Remember, anything we get from the module namespace must be referenced with the \"dot notation\", `<module>.<object>`."
   ]
  },
  {
   "cell_type": "code",
   "execution_count": 1,
   "metadata": {
    "deletable": false,
    "nbgrader": {
     "cell_type": "code",
     "checksum": "bb56c9587ef68e9a04962db0574fd110",
     "grade": true,
     "grade_id": "cell-2a056df050ab9a70",
     "locked": false,
     "points": 2,
     "schema_version": 3,
     "solution": true
    }
   },
   "outputs": [
    {
     "data": {
      "text/plain": [
       "1.0"
      ]
     },
     "execution_count": 1,
     "metadata": {},
     "output_type": "execute_result"
    }
   ],
   "source": [
    "### BEGIN SOLUTION\n",
    "import numpy as np\n",
    "### END SOLUTION\n",
    "\n",
    "\n",
    "\n",
    "np.sin(np.pi/2)"
   ]
  },
  {
   "cell_type": "markdown",
   "metadata": {
    "deletable": false,
    "editable": false,
    "nbgrader": {
     "cell_type": "markdown",
     "checksum": "ff6e3ef607a73d99280c07a5818059c3",
     "grade": false,
     "grade_id": "cell-b240c608e69ba869",
     "locked": true,
     "schema_version": 3,
     "solution": false
    }
   },
   "source": [
    "Now let's test the `np.exp()` function, which is used to raise `e` to a power, i.e. `exp(x)` = $e^x$. \n",
    "\n",
    "In the cell below, use `print` statements to __verify the following simple identities__:\n",
    "\\\\[\n",
    "e^0 = 1 \\\\\n",
    "e^1 = e \\\\\n",
    "e^{-1} = 1/e\n",
    "\\\\]\n",
    "\n",
    "_(Remember, modules contain constants as well as functions!  Use `np.e` as the known value of e on the right-hand side.)_"
   ]
  },
  {
   "cell_type": "code",
   "execution_count": 2,
   "metadata": {
    "deletable": false,
    "nbgrader": {
     "cell_type": "code",
     "checksum": "54d8de966e6b051b098ce0c9b6602ef9",
     "grade": false,
     "grade_id": "cell-e14622cd381ce46b",
     "locked": false,
     "schema_version": 3,
     "solution": true
    }
   },
   "outputs": [
    {
     "name": "stdout",
     "output_type": "stream",
     "text": [
      "1 = 1\n",
      "2.71828 = 2.71828\n",
      "0.367879 = 0.367879\n"
     ]
    }
   ],
   "source": [
    "print('%g = %g' % (np.exp(0), 1))\n",
    "print('%g = %g' % (np.exp(1), np.e))\n",
    "print('%g = %g' % (np.exp(-1), 1/np.e))"
   ]
  },
  {
   "cell_type": "markdown",
   "metadata": {
    "deletable": false,
    "editable": false,
    "nbgrader": {
     "cell_type": "markdown",
     "checksum": "66a76e0cbdfbcb12b875f7403e9827ea",
     "grade": false,
     "grade_id": "cell-74ae3523e0ef52b3",
     "locked": true,
     "schema_version": 3,
     "solution": false
    }
   },
   "source": [
    "Building on our results so far, let's test one of the hyperbolic trig functions.  The definition of `sinh(x)` should be: \n",
    "\n",
    "$$\n",
    "\\sinh(x) = \\frac{1}{2} \\left( e^x - e^{-x} \\right)\n",
    "$$\n",
    "\n",
    "In the cell below, __calculate `sinh(2)`__ in two ways, using `np.sinh()` and using `np.exp()`.  Verify that your results match!"
   ]
  },
  {
   "cell_type": "code",
   "execution_count": 3,
   "metadata": {
    "deletable": false,
    "nbgrader": {
     "cell_type": "code",
     "checksum": "2c8e05f82fe4384f8945baee149e3646",
     "grade": false,
     "grade_id": "cell-2135e18bb1031757",
     "locked": false,
     "schema_version": 3,
     "solution": true
    }
   },
   "outputs": [
    {
     "name": "stdout",
     "output_type": "stream",
     "text": [
      "3.62686 = 3.62686\n"
     ]
    }
   ],
   "source": [
    "LHS = np.sinh(2)\n",
    "RHS = 1/2 * (np.exp(2) - np.exp(-2))\n",
    "\n",
    "print('%g = %g' % (LHS, RHS))"
   ]
  },
  {
   "cell_type": "markdown",
   "metadata": {
    "deletable": false,
    "editable": false,
    "nbgrader": {
     "cell_type": "markdown",
     "checksum": "7f46d62786fd1c74a52804a639655866",
     "grade": false,
     "grade_id": "cell-f128e891aecc673d",
     "locked": true,
     "schema_version": 3,
     "solution": false
    }
   },
   "source": [
    "## T5.2 - Making NumPy arrays\n",
    "\n",
    "Let's get some practice with some of the more common ways of creating NumPy arrays.  This will be a mix of runnable examples, and short exercises.\n",
    "\n",
    "Your job is to figure out how to use each of these functions!  There are a couple of good ways to see the usage instructions:\n",
    "\n",
    "1. Use the `?` command, e.g. `?np.array` (on its own line.)  This is another __magic command__, i.e. it's a command for Jupyter itself; it will show some documentation for the given function.  You can also try the `??` magic command, which often has additional information (sometimes too much!)\n",
    "2. Use your favorite search engine to find the official NumPy documentation for them!  (e.g. \"numpy array\" or \"numpy linspace\" usually does the trick.)\n",
    "\n",
    "(For the `?` command, use the \"x\" at the top right of the pop-up window to close the function info, or the other button to open it in a new tab/window.)"
   ]
  },
  {
   "cell_type": "markdown",
   "metadata": {
    "deletable": false,
    "editable": false,
    "nbgrader": {
     "cell_type": "markdown",
     "checksum": "9a47aeb66a0cc271adedabdd920438da",
     "grade": false,
     "grade_id": "cell-9d0919c72c3918d5",
     "locked": true,
     "schema_version": 3,
     "solution": false
    }
   },
   "source": [
    "### np.array\n",
    "\n",
    "The first way to make an array is the `np.array()` function, which creates a new array by converting whatever input we give it.  __Run the cell below to see some examples__ (and feel free to modify them!)"
   ]
  },
  {
   "cell_type": "code",
   "execution_count": null,
   "metadata": {},
   "outputs": [],
   "source": [
    "print(np.array([1,4,2,3]))\n",
    "print(np.array([-3.3, -2.2, -1.1]))"
   ]
  },
  {
   "cell_type": "markdown",
   "metadata": {
    "deletable": false,
    "editable": false,
    "nbgrader": {
     "cell_type": "markdown",
     "checksum": "9a06c8cf6a43653ac19f9c37ed48f144",
     "grade": false,
     "grade_id": "cell-1a04effe242f1e00",
     "locked": true,
     "schema_version": 3,
     "solution": false
    }
   },
   "source": [
    "### np.arange\n",
    "\n",
    "Regularly-spaced ranges of numbers are very commonly used, especially for plotting functions as we'll see next time.  NumPy has a couple of ways to make such arrays natively!  First up, the `np.arange()` function.  The simplest way to use it is with a single argument, which does this:"
   ]
  },
  {
   "cell_type": "code",
   "execution_count": null,
   "metadata": {},
   "outputs": [],
   "source": [
    "print(np.arange(10))"
   ]
  },
  {
   "cell_type": "markdown",
   "metadata": {
    "deletable": false,
    "editable": false,
    "nbgrader": {
     "cell_type": "markdown",
     "checksum": "de2c388938aaa936dee4250dad8c3ab2",
     "grade": false,
     "grade_id": "cell-56d2224797c9da07",
     "locked": true,
     "schema_version": 3,
     "solution": false
    }
   },
   "source": [
    "This function is actually much more flexible than that.  __Here are the basic rules for using `arange`:__\n",
    "\n",
    "* With __one argument__, `np.arange(N)` gives every number from 0 up to N-1.\n",
    "* With __two arguments__, `np.arange(M,N)` gives every number from M up to N-1.\n",
    "* With __three arguments__, `np.arange(M,N,k)` gives every number from M up to N-1, _counting in steps of k._\n",
    "\n",
    "Now __use `np.arange()` to produce the following arrays__, and print them out:\n",
    "\n",
    "* An array of integers from 0 to 5, inclusive.  (i.e. `[0,1,...,5]`.)\n",
    "* An array of integers from -3 to 3, inclusive.  (i.e. `[-3,-2,...,3]`.)\n",
    "* An array of odd numbers from 5 to 11, inclusive.  (i.e. `[5,7,9,11]`.)\n",
    "* An array of floats from 0 to 1, spaced by 1/10.  (i.e. `[0,0.1,0.2,...,0.9]`.)"
   ]
  },
  {
   "cell_type": "code",
   "execution_count": 4,
   "metadata": {
    "deletable": false,
    "nbgrader": {
     "cell_type": "code",
     "checksum": "32e591eaad5e1f29cde86c87e2f314af",
     "grade": false,
     "grade_id": "cell-fbf2540a1c3fb360",
     "locked": false,
     "schema_version": 3,
     "solution": true
    }
   },
   "outputs": [
    {
     "name": "stdout",
     "output_type": "stream",
     "text": [
      "[0 1 2 3 4 5]\n",
      "[-3 -2 -1  0  1  2  3]\n",
      "[ 5  7  9 11]\n",
      "[0.  0.1 0.2 0.3 0.4 0.5 0.6 0.7 0.8 0.9]\n"
     ]
    }
   ],
   "source": [
    "print(np.arange(0,6))\n",
    "print(np.arange(-3,4))\n",
    "print(np.arange(5,12,2))\n",
    "print(np.arange(0,1,0.1))\n"
   ]
  },
  {
   "cell_type": "markdown",
   "metadata": {
    "deletable": false,
    "editable": false,
    "nbgrader": {
     "cell_type": "markdown",
     "checksum": "871bbbabe5ef01b40af1ea3c0ce411eb",
     "grade": false,
     "grade_id": "cell-d26c58c10d90af01",
     "locked": true,
     "schema_version": 3,
     "solution": false
    }
   },
   "source": [
    "What do you expect to happen if you call `np.arange(M,N,k)` and `k` is negative?  Try using it with $k=-1$ in the box below and see what happens!  \n",
    "\n",
    "Using what you learn from your experiments, __can you produce an array _counting backwards_ from 10 to 0?__"
   ]
  },
  {
   "cell_type": "code",
   "execution_count": 5,
   "metadata": {
    "deletable": false,
    "nbgrader": {
     "cell_type": "code",
     "checksum": "14e4f9a3638318177d1d86b479376e33",
     "grade": false,
     "grade_id": "cell-be9fea04ea453ef4",
     "locked": false,
     "schema_version": 3,
     "solution": true
    }
   },
   "outputs": [
    {
     "data": {
      "text/plain": [
       "array([10,  9,  8,  7,  6,  5,  4,  3,  2,  1,  0])"
      ]
     },
     "execution_count": 5,
     "metadata": {},
     "output_type": "execute_result"
    }
   ],
   "source": [
    "np.arange(10,-1,-1)"
   ]
  },
  {
   "cell_type": "markdown",
   "metadata": {
    "deletable": false,
    "editable": false,
    "nbgrader": {
     "cell_type": "markdown",
     "checksum": "82217defd56008a77ea63af7b92367cc",
     "grade": false,
     "grade_id": "cell-23af4994a6135f85",
     "locked": true,
     "schema_version": 3,
     "solution": false
    }
   },
   "source": [
    "### np.linspace\n",
    "\n",
    "The `np.linspace()` function gives us another way to make regularly-spaced arrays, but instead of specifying the _step size_ like in `arange`, we specify the _number of points_ we want in total.  For example, to get the range `[0...9]` again:"
   ]
  },
  {
   "cell_type": "code",
   "execution_count": null,
   "metadata": {},
   "outputs": [],
   "source": [
    "print(np.linspace(0,9,10))"
   ]
  },
  {
   "cell_type": "markdown",
   "metadata": {
    "deletable": false,
    "editable": false,
    "nbgrader": {
     "cell_type": "markdown",
     "checksum": "b4f7e79b72d565cfdaf5c31788c35b5a",
     "grade": false,
     "grade_id": "cell-ae2ed323d8ecdc14",
     "locked": true,
     "schema_version": 3,
     "solution": false
    }
   },
   "source": [
    "Notice that unlike `range` and `arange`, __`linspace` includes both boundary values__ that you give in the resulting array!\n",
    "\n",
    "__Use `np.linspace()` to produce the following arrays:__ (and print them.)\n",
    "\n",
    "* An array of 20 points, equally spaced between -1 and 1.\n",
    "* An array of floats from 0 to 1, spaced by 1/10.  (i.e. `[0,0.1,0.2,...,0.9]`)\n",
    "* An array of 15 points, equally spaced from 0 to `2*pi`.  (You don't need `math`, since NumPy also contains math constants: pi is stored as `np.pi`.)"
   ]
  },
  {
   "cell_type": "code",
   "execution_count": 6,
   "metadata": {
    "deletable": false,
    "nbgrader": {
     "cell_type": "code",
     "checksum": "4db962a1ca5e25ec5cd0b53e4cd86bf5",
     "grade": false,
     "grade_id": "cell-3965e9536d5e8abf",
     "locked": false,
     "schema_version": 3,
     "solution": true
    }
   },
   "outputs": [
    {
     "name": "stdout",
     "output_type": "stream",
     "text": [
      "[-1.         -0.89473684 -0.78947368 -0.68421053 -0.57894737 -0.47368421\n",
      " -0.36842105 -0.26315789 -0.15789474 -0.05263158  0.05263158  0.15789474\n",
      "  0.26315789  0.36842105  0.47368421  0.57894737  0.68421053  0.78947368\n",
      "  0.89473684  1.        ]\n",
      "[0.  0.1 0.2 0.3 0.4 0.5 0.6 0.7 0.8 0.9]\n",
      "[0.         0.44879895 0.8975979  1.34639685 1.7951958  2.24399475\n",
      " 2.6927937  3.14159265 3.5903916  4.03919055 4.48798951 4.93678846\n",
      " 5.38558741 5.83438636 6.28318531]\n"
     ]
    }
   ],
   "source": [
    "print(np.linspace(-1,1,20))\n",
    "print(np.linspace(0,0.9,10))\n",
    "print(np.linspace(0,2*np.pi, 15))"
   ]
  },
  {
   "cell_type": "markdown",
   "metadata": {
    "deletable": false,
    "editable": false,
    "nbgrader": {
     "cell_type": "markdown",
     "checksum": "1b67b12197fefc4afcf63c2bf981f651",
     "grade": false,
     "grade_id": "cell-936c03b1444c6cb7",
     "locked": true,
     "schema_version": 3,
     "solution": false
    }
   },
   "source": [
    "### np.zeros (and friends)\n",
    "\n",
    "If we know we want to create an array of a certain size, say by applying some formulas to an input array, it's often useful to __initialize__ the array we're creating to some value - most commonly, zero.  If we want an array of zeros, the `np.zeros()` function is a shortcut for making it:"
   ]
  },
  {
   "cell_type": "code",
   "execution_count": null,
   "metadata": {},
   "outputs": [],
   "source": [
    "print(np.zeros(5))"
   ]
  },
  {
   "cell_type": "markdown",
   "metadata": {
    "deletable": false,
    "editable": false,
    "nbgrader": {
     "cell_type": "markdown",
     "checksum": "d5eb0e3160d2f63f5f4718535a26eb69",
     "grade": false,
     "grade_id": "cell-0c084a56c82ffb5b",
     "locked": true,
     "schema_version": 3,
     "solution": false
    }
   },
   "source": [
    "There are a few cousins of this function worth knowing about: `np.ones` does the same thing but sets every value to 1 instead; `np.zeros_like` takes an existing array, and produces a new one with the __same shape__ but all values set to zero.  (You can probably guess what `np.ones_like` does!)\n",
    "\n",
    "__Use these functions to create the following arrays:__\n",
    "\n",
    "* Use `np.zeros_like` with `np.arange` to make a length-8 array of zeros.  (This is sort of contrived; usually, we would use `zeros_like` if we're working with an input array of unknown length that we want to match.)\n",
    "* Use `np.ones` (and basic math operations) to make an array of length seven, with every entry equal to the number 7."
   ]
  },
  {
   "cell_type": "code",
   "execution_count": 7,
   "metadata": {
    "deletable": false,
    "nbgrader": {
     "cell_type": "code",
     "checksum": "7bc9f9bb004c5f17a5026394f76f531f",
     "grade": false,
     "grade_id": "cell-986bf5877c69dafd",
     "locked": false,
     "schema_version": 3,
     "solution": true
    }
   },
   "outputs": [
    {
     "name": "stdout",
     "output_type": "stream",
     "text": [
      "[0 0 0 0 0 0 0 0]\n",
      "[0. 0. 0. 0. 0. 0. 0. 0.]\n",
      "[7. 7. 7. 7. 7. 7. 7.]\n"
     ]
    }
   ],
   "source": [
    "\n",
    "### BEGIN SOLUTION\n",
    "print(np.zeros_like(np.arange(8)))\n",
    "# In fact, linspace could have just made this list for us:\n",
    "print(np.linspace(0,0,8))\n",
    "print(np.ones(7) * 7)\n",
    "### END SOLUTION\n"
   ]
  },
  {
   "cell_type": "markdown",
   "metadata": {
    "deletable": false,
    "editable": false,
    "nbgrader": {
     "cell_type": "markdown",
     "checksum": "403b7a849efaef59c5f911f3d3c59d8d",
     "grade": false,
     "grade_id": "cell-b0cb8ce7e65b0a20",
     "locked": true,
     "schema_version": 3,
     "solution": false
    }
   },
   "source": [
    "## T5.3 - Electromagnetic force\n",
    "\n",
    "### Part A\n",
    "\n",
    "The combination of electric and magnetic forces on a point charge is given by the Lorentz force law,\n",
    "\n",
    "\\\\[\n",
    "\\mathbf{F} = q\\mathbf{E} + q\\mathbf{v} \\times \\mathbf{B}.\n",
    "\\\\]\n",
    "\n",
    "We can implement this force equation using NumPy arrays!  First, a quick introduction to vector math in NumPy.  Let's take the vectors we were using in class:"
   ]
  },
  {
   "cell_type": "code",
   "execution_count": 9,
   "metadata": {
    "deletable": false,
    "editable": false,
    "nbgrader": {
     "cell_type": "code",
     "checksum": "0a735a08f6853a5e88c8107f34ae6c76",
     "grade": false,
     "grade_id": "cell-b32afcf210391bca",
     "locked": true,
     "schema_version": 3,
     "solution": false
    }
   },
   "outputs": [
    {
     "name": "stdout",
     "output_type": "stream",
     "text": [
      "[2 1 3] [ 0 -3  1]\n"
     ]
    }
   ],
   "source": [
    "import numpy as np\n",
    "\n",
    "v, w = np.array([2,1,3]), np.array([0,-3,1])\n",
    "print(v, w)"
   ]
  },
  {
   "cell_type": "markdown",
   "metadata": {
    "deletable": false,
    "editable": false,
    "nbgrader": {
     "cell_type": "markdown",
     "checksum": "27a8199085e310336fdbf8b7069b91c3",
     "grade": false,
     "grade_id": "cell-64e392db0c3b6c8d",
     "locked": true,
     "schema_version": 3,
     "solution": false
    }
   },
   "source": [
    "Working it out by hand, the __cross product__ $v \\times w$ is equal to the vector `[10, -2, -6]`.  You should be able to compute the __dot product__\n",
    "\\\\[\n",
    "v \\cdot w = \\sum_{i=1}^3 v_i w_i\n",
    "\\\\]\n",
    "yourself.  The NumPy functions corresponding to each of these are `np.cross(v,w)` and `np.dot(v,w)`, respectively.\n",
    "\n",
    "First, use NumPy in the cell below to find the cross product $v \\times w$ and the dot product $v \\cdot w$, and __check that the answers are what you expect.__"
   ]
  },
  {
   "cell_type": "code",
   "execution_count": 10,
   "metadata": {
    "deletable": false,
    "nbgrader": {
     "cell_type": "code",
     "checksum": "e76f4eacf03f2baf5a4375c93c419324",
     "grade": false,
     "grade_id": "cell-ad041d7d00200b8c",
     "locked": false,
     "schema_version": 3,
     "solution": true
    }
   },
   "outputs": [
    {
     "name": "stdout",
     "output_type": "stream",
     "text": [
      "0\n",
      "[10 -2 -6]\n"
     ]
    }
   ],
   "source": [
    "print(np.dot(v,w))   # equal to 0.\n",
    "print(np.cross(v,w)) # = [10, -2, -6] as given above."
   ]
  },
  {
   "cell_type": "markdown",
   "metadata": {
    "deletable": false,
    "editable": false,
    "nbgrader": {
     "cell_type": "markdown",
     "checksum": "ddb5b5780ac2bae3f9a6c3641a47f553",
     "grade": false,
     "grade_id": "cell-4a8d8db470a14b02",
     "locked": true,
     "schema_version": 3,
     "solution": false
    }
   },
   "source": [
    "The cross product satisfies two _identities:_\n",
    "\n",
    "1. $\\mathbf{w} \\times \\mathbf{v} = - \\mathbf{v} \\times \\mathbf{w}$\n",
    "2. $\\mathbf{v} \\times \\mathbf{v} = 0$\n",
    "\n",
    "Use NumPy to verify these identities, again using the vectors `v` and `w` we defined above."
   ]
  },
  {
   "cell_type": "code",
   "execution_count": 11,
   "metadata": {
    "deletable": false,
    "nbgrader": {
     "cell_type": "code",
     "checksum": "47ea4de35d948970841b2106109bf2bc",
     "grade": false,
     "grade_id": "cell-05129c59aef2edaa",
     "locked": false,
     "schema_version": 3,
     "solution": true
    }
   },
   "outputs": [
    {
     "name": "stdout",
     "output_type": "stream",
     "text": [
      "[-10   2   6]\n",
      "[0 0 0]\n"
     ]
    }
   ],
   "source": [
    "print(np.cross(w,v)) # = [-10, 2, 6], minus v x w.\n",
    "print(np.cross(v,v)) # = [0, 0, 0].\n"
   ]
  },
  {
   "cell_type": "markdown",
   "metadata": {
    "deletable": false,
    "editable": false,
    "nbgrader": {
     "cell_type": "markdown",
     "checksum": "d0d5578d07cdf73dc52680a8d0297253",
     "grade": false,
     "grade_id": "cell-f3867420b2f17f54",
     "locked": true,
     "schema_version": 3,
     "solution": false
    }
   },
   "source": [
    "### Part B\n",
    "\n",
    "Now that you're familiar with the NumPy functions needed, __compute the EM force on a test charge__ in the following two cases:\n",
    "\n",
    "- __Case A:__ A one-Coulomb charge is moving with velocity $\\mathbf{v} = (2, -1, 0)$ is subject to a magnetic field $\\mathbf{B} = (1,1,1)$.\n",
    "- __Case B:__ A proton (charge $q = 1.6 \\times 10^{-19}\\ \\rm{C}$) moving at $+6 \\times 10^7$ m/s along the z-axis is subject to both an electric field $\\mathbf{E} = (0,0,4)$ and a magnetic field $\\mathbf{B} = (3, -3, 1)$.\n",
    "\n",
    "__Save your answers for the force vectors to variables `F_A` (case A) and `F_B` (case B)__.\n",
    "\n",
    "(The E and B fields are in appropriate SI units so that the force will come out in Newtons with no extra conversions or other numeric factors.)"
   ]
  },
  {
   "cell_type": "code",
   "execution_count": 12,
   "metadata": {
    "deletable": false,
    "nbgrader": {
     "cell_type": "code",
     "checksum": "f3ed558bfaf29e82cf252cd0cecfe31f",
     "grade": false,
     "grade_id": "cell-2c10fff430811f4f",
     "locked": false,
     "schema_version": 3,
     "solution": true
    }
   },
   "outputs": [
    {
     "name": "stdout",
     "output_type": "stream",
     "text": [
      "[-1 -2  3]\n",
      "[2.88e-11 2.88e-11 6.40e-19]\n"
     ]
    }
   ],
   "source": [
    "v_A = np.array([2, -1, 0])\n",
    "B_A = np.array([1,1,1])\n",
    "\n",
    "F_A = np.cross(v_A, B_A)\n",
    "print(F_A)\n",
    "\n",
    "q_B = 1.6e-19\n",
    "v_B = np.array([0, 0, 6e7])\n",
    "E_B = np.array([0,0,4])\n",
    "B_B = np.array([3,-3,1])\n",
    "\n",
    "F_B = q_B * (E_B + np.cross(v_B, B_B))\n",
    "print(F_B)"
   ]
  },
  {
   "cell_type": "code",
   "execution_count": 13,
   "metadata": {
    "deletable": false,
    "editable": false,
    "nbgrader": {
     "cell_type": "code",
     "checksum": "32489e3092623a321cf8828f45250d9c",
     "grade": true,
     "grade_id": "cell-5fa7f9d0dc6b22b5",
     "locked": true,
     "points": 0,
     "schema_version": 3,
     "solution": false
    }
   },
   "outputs": [
    {
     "name": "stdout",
     "output_type": "stream",
     "text": [
      "F_A =  [-1 -2  3]\n",
      "F_B =  [2.88e-11 2.88e-11 6.40e-19]\n"
     ]
    }
   ],
   "source": [
    "## Tests to verify your force calculation above\n",
    "\n",
    "print(\"F_A = \", F_A)\n",
    "print(\"F_B = \", F_B)\n",
    "\n",
    "import numpy.testing as npt\n",
    "\n",
    "npt.assert_allclose(F_A, [-1,-2,3])\n",
    "npt.assert_allclose(F_B, [2.9e-11, 2.9e-11, 6.4e-19], rtol=0.01)"
   ]
  },
  {
   "cell_type": "markdown",
   "metadata": {
    "deletable": false,
    "editable": false,
    "nbgrader": {
     "cell_type": "markdown",
     "checksum": "35b9485b7d2358c5e0aa42cf631c1592",
     "grade": false,
     "grade_id": "cell-83ab3e0483483a25",
     "locked": true,
     "schema_version": 3,
     "solution": false
    }
   },
   "source": [
    "### Part C\n",
    "\n",
    "For any force exerted on a moving particle, the instantaneous __power__ (work per unit time) is given by the dot product with velocity:\n",
    "\n",
    "\\\\[\n",
    "P = \\mathbf{F} \\cdot \\mathbf{v}.\n",
    "\\\\]\n",
    "\n",
    "In the cell below, show that $P=0$ for case A (as expected, since no work is done by a magnetic field.)  Then find the power exerted by the EM force in case B."
   ]
  },
  {
   "cell_type": "code",
   "execution_count": 14,
   "metadata": {
    "deletable": false,
    "nbgrader": {
     "cell_type": "code",
     "checksum": "db403c84fdc396d10b736397a656e185",
     "grade": false,
     "grade_id": "cell-4cdb5bfd2a32f307",
     "locked": false,
     "schema_version": 3,
     "solution": true
    }
   },
   "outputs": [
    {
     "name": "stdout",
     "output_type": "stream",
     "text": [
      "0\n",
      "3.84e-11\n"
     ]
    }
   ],
   "source": [
    "P_A = np.dot(F_A, v_A)\n",
    "print(P_A)\n",
    "\n",
    "P_B = np.dot(F_B, v_B)\n",
    "print(P_B)"
   ]
  }
 ],
 "metadata": {
  "kernelspec": {
   "display_name": "Python 3",
   "language": "python",
   "name": "python3"
  },
  "language_info": {
   "codemirror_mode": {
    "name": "ipython",
    "version": 3
   },
   "file_extension": ".py",
   "mimetype": "text/x-python",
   "name": "python",
   "nbconvert_exporter": "python",
   "pygments_lexer": "ipython3",
   "version": "3.6.8"
  }
 },
 "nbformat": 4,
 "nbformat_minor": 2
}
