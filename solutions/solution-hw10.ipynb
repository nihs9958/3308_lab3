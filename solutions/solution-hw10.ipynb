{
 "cells": [
  {
   "cell_type": "markdown",
   "metadata": {
    "deletable": false,
    "editable": false,
    "nbgrader": {
     "cell_type": "markdown",
     "checksum": "56fd944c0997f4ade1103868af01ac14",
     "grade": false,
     "grade_id": "cell-053f09c8a8a514e5",
     "locked": true,
     "schema_version": 3,
     "solution": false
    }
   },
   "source": [
    "# Homework #10\n",
    "\n",
    "## PHYS 2600, Spring 2019\n",
    "\n",
    "__Important notice:__ All cells in your notebook will be run, start to finish, using a fresh kernel when it is graded!  To make sure the graded notebook looks like what you expect, we recommend restarting the kernel and selecting \"Cells > Run All\" in the menu above before you submit."
   ]
  },
  {
   "cell_type": "code",
   "execution_count": 2,
   "metadata": {},
   "outputs": [],
   "source": [
    "%matplotlib inline\n",
    "\n",
    "import numpy as np\n",
    "import matplotlib.pyplot as plt"
   ]
  },
  {
   "cell_type": "markdown",
   "metadata": {
    "deletable": false,
    "editable": false,
    "nbgrader": {
     "cell_type": "markdown",
     "checksum": "47411badbcdd134151ead945a6998d9d",
     "grade": false,
     "grade_id": "cell-06bff42e9e16d26f",
     "locked": true,
     "schema_version": 3,
     "solution": false
    }
   },
   "source": [
    "If you worked collaboratively on this assignment, __include the names of your collaborators in the cell below:__"
   ]
  },
  {
   "cell_type": "markdown",
   "metadata": {},
   "source": []
  },
  {
   "cell_type": "markdown",
   "metadata": {
    "deletable": false,
    "editable": false,
    "nbgrader": {
     "cell_type": "markdown",
     "checksum": "bc95c3b6646b4091388f91fcb63eed1e",
     "grade": false,
     "grade_id": "cell-9e514d6c11744ad7",
     "locked": true,
     "schema_version": 3,
     "solution": false
    }
   },
   "source": [
    "## 10.0 - Homework correction (3 points)\n",
    "\n",
    "In the cell below, explain and correct __one mistake__ you made on your _last graded_ homework assignment.  If you got a perfect score, great, tell us what your favorite problem was, or use the space to give any other feedback you might have on the class/tutorials/homework."
   ]
  },
  {
   "cell_type": "markdown",
   "metadata": {
    "deletable": false,
    "nbgrader": {
     "cell_type": "markdown",
     "checksum": "9b0d595667d1218b34d354537127a360",
     "grade": true,
     "grade_id": "hw10-correction",
     "locked": false,
     "points": 3,
     "schema_version": 3,
     "solution": true
    }
   },
   "source": [
    "_Type your answer here using Markdown._"
   ]
  },
  {
   "cell_type": "markdown",
   "metadata": {
    "deletable": false,
    "editable": false,
    "nbgrader": {
     "cell_type": "markdown",
     "checksum": "b3394ed586af7bfbc6542caf1b8a108e",
     "grade": false,
     "grade_id": "cell-d25db47f231a4a8c",
     "locked": true,
     "schema_version": 3,
     "solution": false
    }
   },
   "source": [
    "## 10.1 - Fun and games in Python (13 points)\n",
    "\n",
    "\n",
    "### Part A (3 points)\n",
    "\n",
    "Below is a list containing each card in a standard deck of 52 playing cards.  Each card has a __rank__, ranging from the numbers 2-10 or the \"royal\" values J/Q/K/A, and a __suit__, one of spades/clubs/hearts/diamonds (♠︎/♣︎/♥︎/♦︎).\n",
    "\n",
    "__Write a function `deal_hand(n)`__ that will produce a list of $n$ cards, _drawn without replacement_ from the `deck` list.  (_Hint: your function can easily be one line long!_)"
   ]
  },
  {
   "cell_type": "code",
   "execution_count": 3,
   "metadata": {
    "deletable": false,
    "nbgrader": {
     "cell_type": "code",
     "checksum": "715f21e014f4dfa20193d4edf3859899",
     "grade": false,
     "grade_id": "cell-f46a05984a8267d6",
     "locked": false,
     "schema_version": 3,
     "solution": true
    }
   },
   "outputs": [],
   "source": [
    "deck = [\n",
    "    '2♠︎', '3♠︎', '4♠︎', '5♠︎', '6♠︎', '7♠︎', '8♠︎', '9♠︎', '10♠︎', 'J♠︎', 'Q♠︎', 'K♠︎', 'A♠︎',\n",
    "    '2♣︎', '3♣︎', '4♣︎', '5♣︎', '6♣︎', '7♣︎', '8♣︎', '9♣︎', '10♣︎', 'J♣︎', 'Q♣︎', 'K♣︎', 'A♣︎', \n",
    "    '2♥︎', '3♥︎', '4♥︎', '5♥︎', '6♥︎', '7♥︎', '8♥︎', '9♥︎', '10♥︎', 'J♥︎', 'Q♥︎', 'K♥︎', 'A♥︎',\n",
    "    '2♦︎', '3♦︎', '4♦︎', '5♦︎', '6♦︎', '7♦︎', '8♦︎', '9♦︎', '10♦︎', 'J♦︎', 'Q♦︎', 'K♦︎', 'A♦︎',\n",
    "]\n",
    "\n",
    "def deal_hand(n):\n",
    "    ### BEGIN SOLUTION\n",
    "    return np.random.choice(deck, n, replace=False)\n",
    "    ### END SOLUTION\n",
    "    \n"
   ]
  },
  {
   "cell_type": "code",
   "execution_count": 4,
   "metadata": {
    "deletable": false,
    "editable": false,
    "nbgrader": {
     "cell_type": "code",
     "checksum": "ff4ec01954c0725a4a5769e3d197fd5d",
     "grade": true,
     "grade_id": "cell-d47871cb6b4d85d0",
     "locked": true,
     "points": 3,
     "schema_version": 3,
     "solution": false
    }
   },
   "outputs": [
    {
     "name": "stdout",
     "output_type": "stream",
     "text": [
      "['5♥︎' '8♠︎' 'K♣︎' '10♠︎' 'A♣︎']\n"
     ]
    }
   ],
   "source": [
    "test_hand = deal_hand(5)\n",
    "print(test_hand)\n",
    "\n",
    "assert len(test_hand) == 5\n",
    "for card in test_hand:\n",
    "    assert card in deck\n",
    "    "
   ]
  },
  {
   "cell_type": "markdown",
   "metadata": {
    "deletable": false,
    "editable": false,
    "nbgrader": {
     "cell_type": "markdown",
     "checksum": "b83f0f456308a70d94623f5a084e3042",
     "grade": false,
     "grade_id": "cell-96db5bb1dfcaaa03",
     "locked": true,
     "schema_version": 3,
     "solution": false
    }
   },
   "source": [
    "### Part B (6 points)\n",
    "\n",
    "Now we'd like to recognize whether a hand contains a certain number of matching ranks or suits.  Implement the following functions:\n",
    "\n",
    "- `has_3kind(hand)` should return `True` if a hand has 3 cards with the same rank (\"three-of-a-kind\"), and `False` otherwise.\n",
    "- `has_flush(hand)` should return `True` if a hand has 5 cards with the same suit (a \"flush\"), and `False` otherwise.\n",
    "\n",
    "_(Hint: you should start by splitting each card into a rank and a suit.  Remember, you can treat strings like lists and uses slices and indexing on them.  The unicode suits above behave a little strangely, so test what your slices give you...)_\n",
    "\n",
    "_(Make sure your code deals properly with `10`, which has an extra character compared to the other ranks!)_\n",
    "\n",
    "_(Another hint: as we've seen, `np.unique` is very useful for counting how many instances there are of all discrete values in a list.)_\n",
    "\n"
   ]
  },
  {
   "cell_type": "code",
   "execution_count": 5,
   "metadata": {
    "deletable": false,
    "nbgrader": {
     "cell_type": "code",
     "checksum": "8a7e9a7700303b63f62a5a243d1c3698",
     "grade": false,
     "grade_id": "cell-1588122b761d3eb0",
     "locked": false,
     "schema_version": 3,
     "solution": true
    }
   },
   "outputs": [],
   "source": [
    "def has_3kind(hand):\n",
    "    ### BEGIN SOLUTION\n",
    "    ranks, suits = [], []\n",
    "    for card in hand:\n",
    "        suits.append(card[-2])\n",
    "        ranks.append(card[:-2])\n",
    "        \n",
    "    unique_ranks, counts = np.unique(ranks, return_counts=True)\n",
    "    \n",
    "    return np.any(counts >= 3)\n",
    "    ### END SOLUTION\n",
    "    \n"
   ]
  },
  {
   "cell_type": "code",
   "execution_count": 6,
   "metadata": {
    "deletable": false,
    "nbgrader": {
     "cell_type": "code",
     "checksum": "67a36a8d8d6afaa0506deac6f18064b8",
     "grade": false,
     "grade_id": "cell-e963245866171c87",
     "locked": false,
     "schema_version": 3,
     "solution": true
    }
   },
   "outputs": [],
   "source": [
    "def has_flush(hand):\n",
    "    ### BEGIN SOLUTION\n",
    "    ranks, suits = [], []\n",
    "    for card in hand:\n",
    "        suits.append(card[-2])\n",
    "        ranks.append(card[:-2])\n",
    "        \n",
    "    unique_suits, counts = np.unique(suits, return_counts=True)\n",
    "    \n",
    "    return np.any(counts >= 5)\n",
    "    ### END SOLUTION\n",
    "    "
   ]
  },
  {
   "cell_type": "code",
   "execution_count": 7,
   "metadata": {
    "deletable": false,
    "editable": false,
    "nbgrader": {
     "cell_type": "code",
     "checksum": "26cc4a2a7d29ec35937e1055f1ea5989",
     "grade": true,
     "grade_id": "cell-f2a28dfef020e4fc",
     "locked": true,
     "points": 6,
     "schema_version": 3,
     "solution": false
    }
   },
   "outputs": [
    {
     "name": "stdout",
     "output_type": "stream",
     "text": [
      "True\n",
      "True\n"
     ]
    }
   ],
   "source": [
    "test_hand_1 = ['8♠︎', '3♣︎', '8♥︎', '2♦︎', '8♦︎']\n",
    "test_hand_2 = ['K♠︎', 'K♣︎', 'K♥︎', 'K♦︎', '8♦︎']\n",
    "test_hand_3 = ['10♠︎', '10♣︎', '10♥︎', 'K♦︎', '2♦︎']\n",
    "test_hand_4 = ['3♥︎', 'A♥︎', 'K♥︎', '7♥︎', '8♥︎']\n",
    "\n",
    "print(has_3kind(test_hand_1))\n",
    "assert has_3kind(test_hand_1)\n",
    "assert has_3kind(test_hand_2)\n",
    "assert has_3kind(test_hand_3)\n",
    "\n",
    "print(has_flush(test_hand_4))\n",
    "assert has_flush(test_hand_4)\n",
    "\n"
   ]
  },
  {
   "cell_type": "markdown",
   "metadata": {
    "deletable": false,
    "editable": false,
    "nbgrader": {
     "cell_type": "markdown",
     "checksum": "ab50c94e772b2e4438ac6fed22146c90",
     "grade": false,
     "grade_id": "cell-cbc3e945177c2eee",
     "locked": true,
     "schema_version": 3,
     "solution": false
    }
   },
   "source": [
    "### Part C (4 points)\n",
    "\n",
    "Using the functions you wrote above, use Monte Carlo simulation to calculate the probability of each of the following outcomes:\n",
    "\n",
    "- A hand of 9 cards has 3 cards with the same rank  (\"three-of-a-kind\".)  Give your answer in the variable `p_3kind`. \n",
    "- A hand of 12 cards has 5 cards with the same suit (\"flush\".)  Give your answer in the variable `p_flush`.\n",
    "\n",
    "Your answers should be accurate to within 0.01 (i.e. 1% probability) - use enough hands to ensure this is true.  (Run a few trials to get a sense for the size of fluctuations, or estimate the standard error.)\n",
    "\n",
    "_(Hint: five-card poker is very popular, so if you test your Monte Carlo on hands with 5 cards, you'll be able to look up the right answers!)_"
   ]
  },
  {
   "cell_type": "code",
   "execution_count": 8,
   "metadata": {
    "deletable": false,
    "nbgrader": {
     "cell_type": "code",
     "checksum": "e892a799b14575e4deb3b12dce727520",
     "grade": false,
     "grade_id": "cell-c10760120558e2d1",
     "locked": false,
     "schema_version": 3,
     "solution": true
    }
   },
   "outputs": [
    {
     "name": "stdout",
     "output_type": "stream",
     "text": [
      "0.1711\n",
      "0.4867\n"
     ]
    }
   ],
   "source": [
    "### BEGIN SOLUTION\n",
    "N_hands = 10000\n",
    "\n",
    "three_kinds = []\n",
    "flushes = []\n",
    "\n",
    "for _ in range(N_hands):\n",
    "    three_kinds.append(has_3kind(deal_hand(9)))\n",
    "    flushes.append(has_flush(deal_hand(12)))\n",
    "    \n",
    "p_3kind = np.count_nonzero(three_kinds) / N_hands\n",
    "print(p_3kind)\n",
    "\n",
    "p_flush = np.count_nonzero(flushes) / N_hands\n",
    "print(p_flush)\n",
    "\n",
    "# From multiple trials, p_3kind is about 0.17\n",
    "p_3kind = 0.17\n",
    "\n",
    "# From multiple trials, p_flush is about 0.49\n",
    "p_flush = 0.49\n",
    "### END SOLUTION"
   ]
  },
  {
   "cell_type": "code",
   "execution_count": null,
   "metadata": {
    "deletable": false,
    "editable": false,
    "nbgrader": {
     "cell_type": "code",
     "checksum": "d6a4e4f4956526e3035e2e368759a88e",
     "grade": true,
     "grade_id": "cell-98d1460051ecf9bb",
     "locked": true,
     "points": 4,
     "schema_version": 3,
     "solution": false
    }
   },
   "outputs": [],
   "source": [
    "# Hidden testing cell - do not delete\n"
   ]
  },
  {
   "cell_type": "markdown",
   "metadata": {
    "deletable": false,
    "editable": false,
    "nbgrader": {
     "cell_type": "markdown",
     "checksum": "0d6899f01a1ed4f278658129ee275199",
     "grade": false,
     "grade_id": "cell-2d2387c9006ddf8d",
     "locked": true,
     "schema_version": 3,
     "solution": false
    }
   },
   "source": [
    "## 10.2 - Monte Carlo and moments of inertia (14 points)\n",
    "\n",
    "A sphere of radius 6 cm is made of solid resin, but with a spherical gap of radius 2 cm centered at $\\mathbf{R} = (2,2,2)$ cm from the origin of the larger sphere:\n",
    "\n",
    "<img src=\"https://physicscourses.colorado.edu/phys2600/phys2600_sp19/img/sphere-spherical-hole.png\" width=300px />\n",
    "\n",
    "\n",
    "A 3D printer is probably the only way to fabricate something like this, so we'll assume the solid part of the sphere is made from plastic resin (density $\\rho \\sim 1.2\\ \\rm{g}/\\rm{cm}^3$).  We would like to know the moment of inertia $L_z$ about the $z$-axis, given by the integral\n",
    "\n",
    "$$\n",
    "L_z = \\int dV\\ \\rho(\\mathbf{r}) r^2\n",
    "$$\n",
    "where $r$ is the cylindrical radius, i.e. the distance to the $z$-axis.  This will be a really frustrating integral to set up in any coordinate system, because of the off-center missing spherical region!  Fortunately, it's easy to do with Monte Carlo.  Define the __indicator function__\n",
    "\n",
    "$$\n",
    "f(x,y,z) = \\begin{cases}\n",
    "1, & \\textrm{(x,y,z) inside object;} \\\\\n",
    "0, & \\textrm{(x,y,z) outside object.}\n",
    "\\end{cases}\n",
    "$$\n",
    "\n",
    "Then $\\rho(\\mathbf{r}) = \\rho \\cdot f(x,y,z)$, where $\\rho$ is now just a constant.  Then the integral becomes\n",
    "\n",
    "$$\n",
    "L_z = \\rho \\int dV\\ (x^2 + y^2)\\ f(x,y,z) \\\\\n",
    "= \\rho V \\langle (x^2 + y^2)\\ f(x,y,z) \\rangle_V \\\\\n",
    "= \\frac{\\rho V}{N} \\sum_{i=1}^N (x_i^2 + y_i^2)\\ f(x_i,y_i,z_i)\n",
    "$$\n",
    "\n",
    "drawing $N$ points randomly in the three-volume $V$ containing the object.  To sum up, we can deal with this by doing hit-or-miss with a slight modification:\n",
    "\n",
    "1. Draw points randomly in a three-dimensional cube surrounding the object.\n",
    "2. Keep a running total over all points, adding $(x^2 + y^2)$ if it is _inside_ the object, and $0$ if it is _outside_.\n",
    "3. Plug in to the formula above to get $L_z$, dividing by the __total__ number of points $N$ drawn.\n",
    "\n",
    "Let's implement this in pieces.  We'll use NumPy arrays for everything, since we'd like to be able to efficiently calculate with lots of random points at once.\n",
    "\n",
    "### Part A (6 points)\n",
    "\n",
    "To make sure we set things up properly, let's begin with a case where we know the answer: a completely solid sphere.  The expected result for a solid sphere is:\n",
    "\n",
    "$$\n",
    "L_z = \\frac{2}{5} m r^2 \\\\\n",
    "m = \\frac{4}{3} \\pi r^3 \\rho\n",
    "$$\n",
    "\n",
    "which for $r = 6$ cm and $\\rho = 1.2\\ \\rm{g}/\\rm{cm}^3$ gives $L_z = 15.63\\ \\rm{kg} \\cdot \\rm{cm}^2$.\n",
    "\n",
    "In the cell below, __use hit-or-miss Monte Carlo integration__ to evaluate $L_z$ following the algorithm above for the solid sphere, and verify that you can reproduce the correct answer.  (The testing cell below will draw a million random points, which should safely match the known result to within 5% and pass the test.)"
   ]
  },
  {
   "cell_type": "code",
   "execution_count": 9,
   "metadata": {
    "deletable": false,
    "nbgrader": {
     "cell_type": "code",
     "checksum": "431c2ba775d30598faddafc49b596dad",
     "grade": false,
     "grade_id": "cell-5397c64c7abb3601",
     "locked": false,
     "schema_version": 3,
     "solution": true
    }
   },
   "outputs": [],
   "source": [
    "def find_Lz_solid_sphere(N):\n",
    "    \n",
    "    ### BEGIN SOLUTION\n",
    "    \n",
    "    # Draw over the cube -6 <= x,y,z <= 6\n",
    "    pts = 12 * np.random.rand(N,3) - 6\n",
    "    \n",
    "    # Mask to include points inside the sphere\n",
    "    inside = np.sum(pts**2, axis=1) <= 6**2\n",
    "    \n",
    "    # Squared distances to the z-axis\n",
    "    r = np.sum(pts[:,0:2]**2, axis=1)\n",
    "    \n",
    "    # Constants\n",
    "    V = 12**3 # cm^3\n",
    "    rho = 1.2 / 1000 # kg/cm^3\n",
    "        \n",
    "    return rho * V / N * np.sum(r[inside]) \n",
    "    \n",
    "    ### END SOLUTION\n",
    "    "
   ]
  },
  {
   "cell_type": "code",
   "execution_count": 10,
   "metadata": {
    "deletable": false,
    "editable": false,
    "nbgrader": {
     "cell_type": "code",
     "checksum": "04f175e0c957df157935adc4a7359278",
     "grade": true,
     "grade_id": "cell-4f1ff0387bc019af",
     "locked": true,
     "points": 6,
     "schema_version": 3,
     "solution": false
    }
   },
   "outputs": [
    {
     "name": "stdout",
     "output_type": "stream",
     "text": [
      "15.87993848032105\n"
     ]
    }
   ],
   "source": [
    "Lz_solid = find_Lz_solid_sphere(10000)\n",
    "print(Lz_solid)\n",
    "\n",
    "assert np.abs(Lz_solid - 15.63) / 15.63 <= 0.05"
   ]
  },
  {
   "cell_type": "markdown",
   "metadata": {
    "deletable": false,
    "editable": false,
    "nbgrader": {
     "cell_type": "markdown",
     "checksum": "23e146fa0910bfa56702074ed3923c69",
     "grade": false,
     "grade_id": "cell-68304bb03ff61ae4",
     "locked": true,
     "schema_version": 3,
     "solution": false
    }
   },
   "source": [
    "### Part B (4 points)\n",
    "\n",
    "Now on to the more complicated object.  __Implement the indicator function $f(x,y,z)$__ in the cell below, then run the test cell to make sure it's working for a few example points.  This should be implemented to work on _arrays_, as the docstring indicates."
   ]
  },
  {
   "cell_type": "code",
   "execution_count": 11,
   "metadata": {
    "deletable": false,
    "nbgrader": {
     "cell_type": "code",
     "checksum": "c1357230f2ccac7fbb554592f8b40e0d",
     "grade": false,
     "grade_id": "cell-431568016bcaae4a",
     "locked": false,
     "schema_version": 3,
     "solution": true
    }
   },
   "outputs": [],
   "source": [
    "def f(r):\n",
    "    \"\"\"\n",
    "    Indicator function for the sphere with a spherical hole.\n",
    "\n",
    "    Input: r, an (Nx3) NumPy array, where each row contains three numbers (x,y,z),\n",
    "    corresponding to a point in space.  All lengths are taken to be in cm.\n",
    "\n",
    "    Output: m, a length-N NumPy mask, which is True if (x,y,z) is inside the solid\n",
    "    part of the compound object described above, and False if (x,y,z) is outside it.\n",
    "    \"\"\"\n",
    "    \n",
    "    ### BEGIN SOLUTION\n",
    "    # Mask for the big sphere\n",
    "    m1 = np.sum(r**2, axis=1) <= 6**2\n",
    "    \n",
    "    # Mask for points *outside* the spherical hole\n",
    "    R2 = np.array([2,2,2])\n",
    "    m2 = np.sum((r - R2)**2, axis=1) >= 2**2\n",
    "    \n",
    "    # Return the joint mask\n",
    "    return np.logical_and(m1, m2)\n",
    "    ### END SOLUTION\n",
    "    "
   ]
  },
  {
   "cell_type": "code",
   "execution_count": 12,
   "metadata": {
    "deletable": false,
    "editable": false,
    "nbgrader": {
     "cell_type": "code",
     "checksum": "544b74daab40682ee34bd70a3d196ddc",
     "grade": true,
     "grade_id": "cell-02dc427bd1e6c45a",
     "locked": true,
     "points": 4,
     "schema_version": 3,
     "solution": false
    }
   },
   "outputs": [
    {
     "name": "stdout",
     "output_type": "stream",
     "text": [
      "[ True  True  True False False False  True]\n"
     ]
    }
   ],
   "source": [
    "test_pts = np.array([\n",
    "    [ 0, 0, 0],  # Inside\n",
    "    [-1,-1,-1],  # Inside \n",
    "    [-3,-3,-4],  # Inside \n",
    "    [ 6, 6, 6],  # Outside\n",
    "    [ 2, 2, 2],  # Outside (in the gap)\n",
    "    [ 2, 2, 3],  # Outside (in the gap)\n",
    "    [ 3, 4, 3],  # Inside\n",
    "])\n",
    "\n",
    "print(f(test_pts))\n",
    "\n",
    "import numpy.testing as npt\n",
    "npt.assert_allclose(f(test_pts), [True, True, True, False, False, False, True])"
   ]
  },
  {
   "cell_type": "markdown",
   "metadata": {
    "deletable": false,
    "editable": false,
    "nbgrader": {
     "cell_type": "markdown",
     "checksum": "bae148120512ad311d8844ff6a771e40",
     "grade": false,
     "grade_id": "cell-e9608761a786eec9",
     "locked": true,
     "schema_version": 3,
     "solution": false
    }
   },
   "source": [
    "### Part C (4 points)\n",
    "\n",
    "Now put it all together: use the indicator function from part B and the method you used in part A, and implement the function `find_Lz_object` to calculate the moment of inertia for the sphere with a missing sphere.  About how much smaller is the full $L_z$ than it was for the solid sphere, in percent?"
   ]
  },
  {
   "cell_type": "code",
   "execution_count": 13,
   "metadata": {
    "deletable": false,
    "nbgrader": {
     "cell_type": "code",
     "checksum": "15d4468b5bb5e380cabd821e9f718a58",
     "grade": true,
     "grade_id": "cell-1201b7a16e30edb6",
     "locked": false,
     "points": 2,
     "schema_version": 3,
     "solution": true
    }
   },
   "outputs": [],
   "source": [
    "def find_Lz_object(N):\n",
    "    ### BEGIN SOLUTION\n",
    "    # Draw over the cube -6 <= x,y,z <= 6\n",
    "    pts = 12 * np.random.rand(N,3) - 6\n",
    "    \n",
    "    # Mask to include points inside the object\n",
    "    inside = f(pts)\n",
    "    \n",
    "    # Squared distances to the z-axis\n",
    "    r = np.sum(pts[:,0:2]**2, axis=1)\n",
    "    \n",
    "    # Constants\n",
    "    V = 12**3 # cm^3\n",
    "    rho = 1.2 / 1000 # kg/cm^3\n",
    "        \n",
    "    return rho * V / N * np.sum(r[inside]) \n",
    "    ### END SOLUTION    \n",
    "    "
   ]
  },
  {
   "cell_type": "code",
   "execution_count": 14,
   "metadata": {
    "deletable": false,
    "nbgrader": {
     "cell_type": "code",
     "checksum": "4f2526b1fa63ff63cbadba5be28c2aec",
     "grade": true,
     "grade_id": "cell-cfacfe03fc3b1943",
     "locked": false,
     "points": 2,
     "schema_version": 3,
     "solution": true
    }
   },
   "outputs": [
    {
     "data": {
      "text/plain": [
       "15.24555450237838"
      ]
     },
     "execution_count": 14,
     "metadata": {},
     "output_type": "execute_result"
    }
   ],
   "source": [
    "find_Lz_object(1000000)\n",
    "# The result with enough points to be reliably estimated should be about 15.2, \n",
    "# which is (0.4 / 15.6) ~ 3% smaller - not a huge difference!"
   ]
  },
  {
   "cell_type": "markdown",
   "metadata": {
    "deletable": false,
    "editable": false,
    "nbgrader": {
     "cell_type": "markdown",
     "checksum": "b68f9b1680ab4e20596ffb0152a1ba44",
     "grade": false,
     "grade_id": "cell-63b4c3574dd8c243",
     "locked": true,
     "schema_version": 3,
     "solution": false
    }
   },
   "source": [
    "## 10.3 - Nuclear fission and critical reactions (19 points)\n",
    "\n",
    "We can use Monte Carlo procedures very simply to study much more complicated processes involving _chains_ of different states.  Let's apply our techniques to study nuclear fission in samples of refined uranium.  The key reaction for nuclear fission of uranium is the process of _neutron capture_:\n",
    "\n",
    "$$\n",
    "n + {}^{235}U \\rightarrow 3n + (\\textrm{light elements}) + 202.5\\ \\rm{MeV}\n",
    "$$\n",
    "\n",
    "The capture of a neutron by ${}^{235}U$ not only liberates an enormous amount of energy, it also produces _three more neutrons_.  In a sample containing many ${}^{235}U$ atoms, this quickly results in a __chain reaction__, releasing lots of energy at once - good for blowing up your sample of uranium, but bad news if you want to build a nuclear power plant!\n",
    "\n",
    "To stop the chain reaction, power plants rely on __neutron moderators__, materials which absorb neutrons.  In fact, naturally occuring deposits of uranium ore contain neutron moderators: the more stable isotope ${}^{238}U$ can just absorb a free neutron without fissioning. \n",
    "\n",
    "Let's study the effects of neutron capture on mixed samples of ${}^{235}U$ and ${}^{238}U$, to understand the conditions under which a chain reaction can be prevented.  For our simplified model, we consider the following processes:\n",
    "\n",
    "* Some initial population of free neutrons is injected into our sample of uranium atoms.\n",
    "* A free neutron can be either be captured at each timestep $dt$ by a ${}^{235}U$ atom, by a ${}^{238}U$ atom.  (This assumes our sample of uranium ore is pretty dense, and that our timestep is large enough that the neutrons have time to travel between and hit other uranium atoms.)\n",
    "* The probability of a neutron hitting _any_ uranium atom in each timestep is given by\n",
    "\n",
    "$$\n",
    "p_{n,U} = 1 - \\exp\\left(\\frac{-dt}{\\tau_{n,U}} \\frac{N_{U}}{N_{U,0}} \\right)\n",
    "$$\n",
    "\n",
    "where $N_{U,0}$ is the original number of uranium atoms in our sample, $N_{U}$ is the current number, and $\\tau_{n,U} \\approx 0.640\\ \\mu\\rm{s}$ for capture of \"slow neutrons\" (relevant for fission reactors.)  The constant $\\tau_{n,U}$ was computed for a typical density of uranium ore; the factor $N_U / N_{U,0}$ accounts for the decreased probability as U-235 atoms are fissioned.\n",
    "\n",
    "* If a neutron hits a ${}^{235}U$ atom, the system gains 202.5 MeV of energy, and 3 new neutrons are produced.  (So the net increase is __2 neutrons:__ the original neutron is absorbed in the reaction.)\n",
    "* If a neutron hits a ${}^{238}U$ atom, it is absorbed.\n",
    "\n",
    "\n",
    "* The probability of hitting each type of atom is given by the relative number of each, i.e.:\n",
    "\n",
    "$$\n",
    "p_{U235} = \\frac{N_{U235}}{N_{U235} + N_{U238}}\n",
    "$$\n",
    "and since there are only two possibilities, $p_{U238} = 1 - p_{U235}$.\n",
    "\n",
    "### Part A (6 points)\n",
    "\n",
    "We'll follow the same steps as for the previous problem.  First, __implement the function `reaction_step` below__, which will compute how the number of ${}^{235}U$ atoms and neutrons changes in a timestep `dt`.  (The number of ${}^{238}U$ atoms never changes in our simple model.)"
   ]
  },
  {
   "cell_type": "code",
   "execution_count": 15,
   "metadata": {
    "deletable": false,
    "nbgrader": {
     "cell_type": "code",
     "checksum": "88061323b4e89e4c04bb890fd46bd230",
     "grade": false,
     "grade_id": "cell-22d346b5e40847dc",
     "locked": false,
     "schema_version": 3,
     "solution": true
    }
   },
   "outputs": [],
   "source": [
    "tau_n_U = 0.640 # microseconds\n",
    "\n",
    "def reaction_step(N_n, N_U235, N_U238, N0_U, dt):\n",
    "    \n",
    "    N_U = N_U235 + N_U238\n",
    "\n",
    "    # Short-circuit: no uranium means no reactions!\n",
    "    if (N_U == 0):\n",
    "        return (N_n, N_U235)\n",
    "\n",
    "    # Calculate p_U235 and p_n_U\n",
    "    \n",
    "    # Use Monte Carlo to determine how many neutrons hit a uranium atom,\n",
    "    # by comparing random draws from [0,1] to p_n_U\n",
    "    \n",
    "    # Use another Monte Carlo to determine how many of those neutrons\n",
    "    # hit a U-235 atom; the remaining neutrons hit a U-238 atom.\n",
    "    \n",
    "    # Find the numbers of neutrons and U-235 atoms after reaction.\n",
    "    # Use max() to ensure the number of particles never drops below zero!\n",
    "    \n",
    "    \n",
    "    \n",
    "    ### BEGIN SOLUTION    \n",
    "    \n",
    "    p_n_U = 1 - np.exp(-dt * N_U / (N0_U * tau_n_U))\n",
    "    p_U235 = N_U235 / N_U\n",
    "\n",
    "    N_hit_U = np.count_nonzero(np.random.rand(N_n) < p_n_U)\n",
    "    \n",
    "    # How many hit each kind of atom?\n",
    "    N_hit_U235 = np.count_nonzero(np.random.rand(N_hit_U) < p_U235)\n",
    "    N_hit_U238 = N_hit_U - N_hit_U235\n",
    "    \n",
    "    N_n_new = max(0, N_n - N_hit_U + 3 * N_hit_U235)\n",
    "    N_U235_new = max(0, N_U235 - N_hit_U235)\n",
    "    \n",
    "    ### END SOLUTION\n",
    "    \n",
    "    \n",
    "    return (N_n_new, N_U235_new)"
   ]
  },
  {
   "cell_type": "code",
   "execution_count": 16,
   "metadata": {
    "deletable": false,
    "editable": false,
    "nbgrader": {
     "cell_type": "code",
     "checksum": "a946d3e2f11788842ee000835e797ed3",
     "grade": true,
     "grade_id": "cell-84c9280d3ea33cd7",
     "locked": true,
     "points": 6,
     "schema_version": 3,
     "solution": false
    }
   },
   "outputs": [
    {
     "name": "stdout",
     "output_type": "stream",
     "text": [
      "(100, 0)\n",
      "(35, 0)\n",
      "(230, 35)\n",
      "(3, 1)\n"
     ]
    }
   ],
   "source": [
    "# Short enough timescale, nothing happens\n",
    "R1 = reaction_step(100,0,100,100,0.0001)\n",
    "print(R1)\n",
    "assert (R1[0] == 100) and (R1[1] == 0)\n",
    "\n",
    "# If the sample is pure U-238, the number of neutrons will decrease significantly after tau_n_U\n",
    "R2 = reaction_step(100,0,100,100,tau_n_U)\n",
    "print(R2)\n",
    "assert (R2[0] < 100) and (R2[1] == 0)\n",
    "\n",
    "# If the sample is pure U-235, the number of neutrons will *incrase* significantly after tau_n_U\n",
    "# and the number of U-235 atoms will decrease significantly\n",
    "R3 = reaction_step(100,100,0,100,tau_n_U)\n",
    "print(R3)\n",
    "assert (R3[0] > 100) and (R3[1] < 100)\n",
    "\n",
    "# If there are two atoms of U-235 and no U-238, we'll have 3 neutrons and 1 U-235 atom after 1 long step.\n",
    "R4 = reaction_step(1,2,0,2,100*tau_n_U)\n",
    "print(R4)\n",
    "assert (R4[0] == 3) and (R4[1] == 1)"
   ]
  },
  {
   "cell_type": "markdown",
   "metadata": {
    "deletable": false,
    "editable": false,
    "nbgrader": {
     "cell_type": "markdown",
     "checksum": "478594a2ba535ce987fe9a3e9cf3f30b",
     "grade": false,
     "grade_id": "cell-3d742c1a2af90b7b",
     "locked": true,
     "schema_version": 3,
     "solution": false
    }
   },
   "source": [
    "\n",
    "### Part B (6 points)\n",
    "\n",
    "Now, __implement the function `run_reaction` below__, which will iterate over a discrete array of times and use `reaction_step` to carry out a Monte Carlo simulation of the nuclear reaction.  I've given you some initialization code to get you started."
   ]
  },
  {
   "cell_type": "code",
   "execution_count": 17,
   "metadata": {
    "deletable": false,
    "nbgrader": {
     "cell_type": "code",
     "checksum": "a2336e8020d6d50c011ca10b0d54ae94",
     "grade": false,
     "grade_id": "cell-eb3376cfb405b8c3",
     "locked": false,
     "schema_version": 3,
     "solution": true
    }
   },
   "outputs": [],
   "source": [
    "def run_reaction(N0_n, N0_U235, N0_U238, t_array):\n",
    "\n",
    "    dt, Nt = t_array[1] - t_array[0], len(t_array)\n",
    "    \n",
    "    N_n_t = np.zeros_like(t_array, dtype=np.int)\n",
    "    N_U235_t = np.zeros_like(t_array, dtype=np.int)\n",
    "    \n",
    "    # Set initial values in N_n_t and N_U235_t arrays\n",
    "    \n",
    "    # Iterate over all timesteps using reaction_step()\n",
    "\n",
    "    ### BEGIN SOLUTION\n",
    "    N_n_t[0] = N0_n\n",
    "    N_U235_t[0] = N0_U235\n",
    "    N0_U = N0_U235 + N0_U238\n",
    "    \n",
    "    for i in range(Nt-1):\n",
    "        N_n_t[i+1], N_U235_t[i+1] = reaction_step(N_n_t[i], N_U235_t[i], N0_U238, N0_U, dt)\n",
    "    ### END SOLUTION\n",
    "    \n",
    "    \n",
    "    return N_n_t, N_U235_t\n"
   ]
  },
  {
   "cell_type": "code",
   "execution_count": 18,
   "metadata": {
    "deletable": false,
    "editable": false,
    "nbgrader": {
     "cell_type": "code",
     "checksum": "500152c9e1be290e2f37fedc0933d8da",
     "grade": true,
     "grade_id": "cell-eeccf7f0ecd77c54",
     "locked": true,
     "points": 6,
     "schema_version": 3,
     "solution": false
    }
   },
   "outputs": [
    {
     "name": "stdout",
     "output_type": "stream",
     "text": [
      "[100 100] [100 100]\n",
      "0 0\n",
      "11 0\n"
     ]
    }
   ],
   "source": [
    "# Short enough timescale, nothing happens again\n",
    "t_short = np.arange(0,0.000002,0.000001)\n",
    "Nn_1, NU235_1 = run_reaction(100,100,0,t_short)\n",
    "print(Nn_1, NU235_1)\n",
    "assert (Nn_1[-1] == 100) and (NU235_1[-1] == 100)\n",
    "\n",
    "# No U-235, if we wait awhile all neutrons are gone\n",
    "t_long = np.arange(0,6,0.01)\n",
    "Nn_2, NU235_2 = run_reaction(100,0,100,t_long)\n",
    "print(Nn_2[-1], NU235_2[-1])\n",
    "assert (Nn_2[-1] == 0) and (NU235_2[-1] == 0)\n",
    "\n",
    "# No U-238, one neutron and 5 U-235 atoms, if we wait awhile we'll have 11 neutrons and no U-235\n",
    "Nn_3, NU235_3 = run_reaction(1, 5, 0, t_long)\n",
    "print(Nn_3[-1], NU235_3[-1])\n",
    "assert (Nn_3[-1] == 11) and (NU235_3[-1] == 0)\n"
   ]
  },
  {
   "cell_type": "markdown",
   "metadata": {
    "deletable": false,
    "editable": false,
    "nbgrader": {
     "cell_type": "markdown",
     "checksum": "0c622b4f8fcf506e06fab1b6373f7c13",
     "grade": false,
     "grade_id": "cell-a8f798acb5ad5a12",
     "locked": true,
     "schema_version": 3,
     "solution": false
    }
   },
   "source": [
    "### Part C (3 points)\n",
    "\n",
    "Run a reaction with the following parameters:\n",
    "- Initial state is 100 neutrons, 20000 U-235 atoms, and 10000 U-238 atoms\n",
    "- Time evolves from 0 to 10 microseconds\n",
    "\n",
    "__Make a plot__ showing the number of neutrons and number of U-235 atoms over time.  You should see a __super-critical reaction__: the number of neutrons will increase rapidly while the amount of U-235 drops sharply, until the concentration of U-235 is low enough that the reaction starts to slow down again."
   ]
  },
  {
   "cell_type": "code",
   "execution_count": 19,
   "metadata": {
    "deletable": false,
    "nbgrader": {
     "cell_type": "code",
     "checksum": "e7b3aae911e0f3096d7676391e69f3a6",
     "grade": true,
     "grade_id": "cell-1d4780b1f1211903",
     "locked": false,
     "points": 3,
     "schema_version": 3,
     "solution": true
    }
   },
   "outputs": [
    {
     "data": {
      "text/plain": [
       "<matplotlib.legend.Legend at 0x7f45b5bcf6a0>"
      ]
     },
     "execution_count": 19,
     "metadata": {},
     "output_type": "execute_result"
    },
    {
     "data": {
      "image/png": "[encoded data removed]",
      "text/plain": [
       "<Figure size 432x288 with 1 Axes>"
      ]
     },
     "metadata": {
      "needs_background": "light"
     },
     "output_type": "display_data"
    }
   ],
   "source": [
    "t = np.arange(0, 10, 0.1)\n",
    "\n",
    "N_n, N_U235 = run_reaction(100, 20000, 10000, t)\n",
    "\n",
    "plt.plot(t, N_n, label='n')\n",
    "plt.plot(t, N_U235, label='U235')\n",
    "plt.legend()"
   ]
  },
  {
   "cell_type": "markdown",
   "metadata": {
    "deletable": false,
    "editable": false,
    "nbgrader": {
     "cell_type": "markdown",
     "checksum": "e8743ee9209d5a73f8695eb53992886f",
     "grade": false,
     "grade_id": "cell-39e5da849e0ceeda",
     "locked": true,
     "schema_version": 3,
     "solution": false
    }
   },
   "source": [
    "\n",
    "### Part D (4 points)\n",
    "\n",
    "The relative abundance of ${}^{235}U$ and ${}^{238}U$ on Earth has been changing over time, since ${}^{235}U$ decays more rapidly (it has a half-life of about 1 billion years, compared to 4 billion years for ${}^{238}U$.)  Today, the uranium in uranium ore contains about 0.7% ${}^{235}U$ compred to ${}^{238}U$.  Two billion years ago, the fraction of ${}^{235}U$ was higher - in fact, high enough in some rare instances to support a critical reaction!\n",
    "\n",
    "Let's see the conditions needed and outcome for a super-critical reaction based on U-235 abundance.  __Set up and run two Monte Carlo simulations below__, comparing the reactions of three deposits of uranium atoms: the first deposit has 30% U-235 (sub-critical in our model), and the third deposit has 55% U-235.  \n",
    "\n",
    "_Use the following conditions:_\n",
    "- 1e6 total uranium atoms in each deposit;\n",
    "- 1000 initial neutrons;\n",
    "- Evolve the reaction for 60 microseconds.\n",
    "\n",
    "__Make a plot showing the fraction of U-235 atoms vs. total uranium atoms__ over time for each simulation.\n",
    "\n"
   ]
  },
  {
   "cell_type": "code",
   "execution_count": 20,
   "metadata": {
    "deletable": false,
    "nbgrader": {
     "cell_type": "code",
     "checksum": "5f4aa3bf20033eeaadfdec4e0bf93af4",
     "grade": true,
     "grade_id": "cell-5f425360a5a0a269",
     "locked": false,
     "points": 2,
     "schema_version": 3,
     "solution": true
    }
   },
   "outputs": [
    {
     "data": {
      "text/plain": [
       "<matplotlib.legend.Legend at 0x7f45b5b47438>"
      ]
     },
     "execution_count": 20,
     "metadata": {},
     "output_type": "execute_result"
    },
    {
     "data": {
      "image/png": "[encoded data removed]",
      "text/plain": [
       "<Figure size 432x288 with 1 Axes>"
      ]
     },
     "metadata": {
      "needs_background": "light"
     },
     "output_type": "display_data"
    }
   ],
   "source": [
    "t = np.arange(0, 60, 0.1)\n",
    "\n",
    "N0_U = 1e6\n",
    "N0_n = 1e3\n",
    "U235_fracs = [0.30, 0.55]\n",
    "\n",
    "for F235 in U235_fracs:\n",
    "    N_n, N_U235 = run_reaction(N0_n, N0_U * F235, N0_U * (1-F235), t)\n",
    "    plt.plot(t, N_U235 / ((1-F235) * N0_U + N_U235), label='{0:g}'.format(F235))\n",
    "    \n",
    "plt.legend()"
   ]
  },
  {
   "cell_type": "markdown",
   "metadata": {
    "deletable": false,
    "editable": false,
    "nbgrader": {
     "cell_type": "markdown",
     "checksum": "5789d6bdbcb844d20abfb2416a2f8627",
     "grade": false,
     "grade_id": "cell-8372129c2657353a",
     "locked": true,
     "schema_version": 3,
     "solution": false
    }
   },
   "source": [
    "Our model is missing some physics details, including the production of plutonium as a byproduct of uranium reactions and some other important details.  In reality, a U-235 fraction of around 3% is needed to sustain criticality - consistent with the natural abundance on Earth two billion years ago.  In fact, such a \"natural nuclear reactor\" was famously discovered at [Oklo in Gabon](https://en.wikipedia.org/wiki/Natural_nuclear_fission_reactor).\n",
    "\n",
    "One of the ways the Oklo site is known to have undergone nuclear reactions in the past is that the relative abundance of U-235 is _significantly lower_ in uranium ore from Oklo, compared to other sites around the world.  Using your plot above, __explain why__ Oklo should have a lower abundance of U-235 today."
   ]
  },
  {
   "cell_type": "markdown",
   "metadata": {
    "deletable": false,
    "nbgrader": {
     "cell_type": "markdown",
     "checksum": "c8d58a92d7303e017b50aaae9b012050",
     "grade": true,
     "grade_id": "cell-25acf66576c95182",
     "locked": false,
     "points": 2,
     "schema_version": 3,
     "solution": true
    }
   },
   "source": [
    "__By having enough density to sustain a reaction, the Oklo site had more neutrons available than the natural background rate, since they are produced in fission events.  So the reaction can continue past where an initial sample of U-235 would be below criticality, just by starting from a higher initial fraction, and we end up _depleting_ the U-235 compared to a uranium sample which never fissioned.  This is what the simulation above demonstrates.__"
   ]
  }
 ],
 "metadata": {
  "kernelspec": {
   "display_name": "Python 3",
   "language": "python",
   "name": "python3"
  },
  "language_info": {
   "codemirror_mode": {
    "name": "ipython",
    "version": 3
   },
   "file_extension": ".py",
   "mimetype": "text/x-python",
   "name": "python",
   "nbconvert_exporter": "python",
   "pygments_lexer": "ipython3",
   "version": "3.6.8"
  }
 },
 "nbformat": 4,
 "nbformat_minor": 2
}
