{
 "cells": [
  {
   "cell_type": "markdown",
   "metadata": {
    "deletable": false,
    "editable": false,
    "nbgrader": {
     "cell_type": "markdown",
     "checksum": "bc14ccfc5e91f44b06fa61eee4e10512",
     "grade": false,
     "grade_id": "cell-100899e0deea9789",
     "locked": true,
     "schema_version": 3,
     "solution": false
    }
   },
   "source": [
    "# Tutorial 12: Testing and Debugging\n",
    "\n",
    "## PHYS 2600, Spring 2019"
   ]
  },
  {
   "cell_type": "code",
   "execution_count": 4,
   "metadata": {
    "deletable": false,
    "editable": false,
    "nbgrader": {
     "cell_type": "code",
     "checksum": "8950879b2da38296a118ef052e46de8f",
     "grade": false,
     "grade_id": "cell-fa56075392a814a2",
     "locked": true,
     "schema_version": 3,
     "solution": false
    }
   },
   "outputs": [],
   "source": [
    "# Import cell\n",
    "%matplotlib inline\n",
    "\n",
    "import numpy as np\n",
    "import matplotlib.pyplot as plt"
   ]
  },
  {
   "cell_type": "markdown",
   "metadata": {
    "deletable": false,
    "editable": false,
    "nbgrader": {
     "cell_type": "markdown",
     "checksum": "41207366b82d962dbde0b3c3a63ce3e4",
     "grade": false,
     "grade_id": "cell-88a9750ccf640d83",
     "locked": true,
     "schema_version": 3,
     "solution": false
    }
   },
   "source": [
    "## T12.X - Programming with intent (worked example)\n",
    "\n",
    "_(Special note: as a worked example, you are encouraged to fill this in along with me in class, but you won't be graded on whether you've completed it or not.)_\n",
    "\n",
    "Let's start this tutorial with a worked example, going from start to finish on a short program while following the three rules of programming with intent:\n",
    "\n",
    "1. Documenting our code\n",
    "2. Writing clean code\n",
    "3. Testing our code\n",
    "\n",
    "Here's the exercise (based on Langtangen 3.28): we'd like to write a function `minmax()` which will __find and return both the smallest and largest elements in an array of numbers__.  Just to make it more interesting, we will _not_ use the built-in `max()` and `min()` methods, which already do part of the task for us."
   ]
  },
  {
   "cell_type": "markdown",
   "metadata": {
    "deletable": false,
    "editable": false,
    "nbgrader": {
     "cell_type": "markdown",
     "checksum": "21f2fed8726839184dc33f9ec93c6131",
     "grade": false,
     "grade_id": "cell-e284649a26022f1a",
     "locked": true,
     "schema_version": 3,
     "solution": false
    }
   },
   "source": [
    "Let's begin with design: making our intent more concrete.  We want the smallest and largest elements in a list of numbers; __what is our algorithm?__"
   ]
  },
  {
   "cell_type": "code",
   "execution_count": 5,
   "metadata": {
    "deletable": false,
    "nbgrader": {
     "cell_type": "code",
     "checksum": "26f8c8e569ecf6f088b428f00ebf0f20",
     "grade": true,
     "grade_id": "cell-2612bcab36f839a7",
     "locked": false,
     "points": 2,
     "schema_version": 3,
     "solution": true
    }
   },
   "outputs": [],
   "source": [
    "### BEGIN SOLUTION\n",
    "# There are multiple possibilities here, as is usually the case.  This problem is related to the problem of sorting:\n",
    "# if we sorted the array from smallest to largest, then we know the min and max entries are just the ones on the end.\n",
    "# But this is over-engineered; we don't need to sort the whole array, just find two values.\n",
    "\n",
    "# We will adopt a simple exhaustive search algorithm, also known as \"linear search\".  There are more complex algorithms\n",
    "# available that do slightly better - see https://www.geeksforgeeks.org/maximum-and-minimum-in-an-array/.\n",
    "\n",
    "# Here is the linear search algorithm:\n",
    "\n",
    "# 1. Create two \"register\" variables, current_min and current_max.\n",
    "# 2. Iterate through the array.  For each value:\n",
    "#   a) If the value is below current_min, then replace current_min with it.  \n",
    "#   b) If the value is above current_max, then replace current_max with it.\n",
    "\n",
    "### END SOLUTION"
   ]
  },
  {
   "cell_type": "markdown",
   "metadata": {
    "deletable": false,
    "editable": false,
    "nbgrader": {
     "cell_type": "markdown",
     "checksum": "819bd23d3b8c7aaeb71ef6c31e394878",
     "grade": false,
     "grade_id": "cell-c08c037d5fd70cf5",
     "locked": true,
     "schema_version": 3,
     "solution": false
    }
   },
   "source": [
    "Now, let's implement our function.  We'll do the following steps:\n",
    "\n",
    "1. Write the function signature and docstring.\n",
    "2. Outline the algorithm in comments.\n",
    "3. Implement the code.\n",
    "4. Write some tests, and debug."
   ]
  },
  {
   "cell_type": "code",
   "execution_count": 6,
   "metadata": {
    "deletable": false,
    "nbgrader": {
     "cell_type": "code",
     "checksum": "dd81ac71847950de2ad10d6466d52c69",
     "grade": false,
     "grade_id": "cell-5829499584e3f877",
     "locked": false,
     "schema_version": 3,
     "solution": true
    }
   },
   "outputs": [],
   "source": [
    "### BEGIN SOLUTION\n",
    "def minmax(search_array):\n",
    "    \"\"\"\n",
    "    Finds the min/max values in an array.\n",
    "\n",
    "    Arguments:\n",
    "    =====\n",
    "    search_array: array to be searched.  Should be numeric.\n",
    "    \n",
    "    Returns:\n",
    "    =====\n",
    "    (min, max): length-2 array of min and max values in search_array.\n",
    "    [Special case: returns None for an empty list.]\n",
    "\n",
    "    \"\"\"\n",
    "    \n",
    "    # Create \"register\" variables to store min/max at current point in search.\n",
    "    ## Turns out 0 is a bad initial value, because it might be below everything in the array!\n",
    "#    current_min = 0\n",
    "#    current_max = 0\n",
    "\n",
    "    # Now we must explicitly check for an empty array:\n",
    "    if len(search_array) == 0:\n",
    "        return None\n",
    "\n",
    "    current_min = search_array[0]\n",
    "    current_max = search_array[0]\n",
    "\n",
    "    # Iterate through the array - take note of this pattern!\n",
    "    i = 0\n",
    "    while i < len(search_array):\n",
    "        # Get current value from array\n",
    "        value = search_array[i]\n",
    "\n",
    "        # If current value is below current_min, it becomes the new current_min\n",
    "        if value < current_min:\n",
    "            current_min = value\n",
    "        \n",
    "        # If current value is above current_max, it becomes the new current_max\n",
    "        if value > current_max:\n",
    "            current_max = value\n",
    "            \n",
    "        # Next iteration\n",
    "        i += 1\n",
    "            \n",
    "    # Return (min, max)\n",
    "    return np.array([current_min, current_max])\n",
    "    \n",
    "    \n",
    "### END SOLUTION"
   ]
  },
  {
   "cell_type": "markdown",
   "metadata": {
    "deletable": false,
    "editable": false,
    "nbgrader": {
     "cell_type": "markdown",
     "checksum": "2c117854d4362d57d28e8bec81d1eefc",
     "grade": false,
     "grade_id": "cell-5dc99392b114b055",
     "locked": true,
     "schema_version": 3,
     "solution": false
    }
   },
   "source": [
    "Now we need some tests!  We'll start with short lists where it's obvious what the min/max are.  Let's just start by `print`ing the test results to see if they match our expectations."
   ]
  },
  {
   "cell_type": "code",
   "execution_count": 7,
   "metadata": {
    "deletable": false,
    "nbgrader": {
     "cell_type": "code",
     "checksum": "bbc5913ce95d05df5d4746c06a153e09",
     "grade": false,
     "grade_id": "cell-8fabb010c504b9f6",
     "locked": false,
     "schema_version": 3,
     "solution": true
    }
   },
   "outputs": [
    {
     "name": "stdout",
     "output_type": "stream",
     "text": [
      "[1 7]\n",
      "[   3.7 1003.3]\n",
      "[ 0 49]\n",
      "[-3  4]\n"
     ]
    }
   ],
   "source": [
    "### BEGIN SOLUTION\n",
    "print(minmax(np.array([1,3,5,7])))\n",
    "print(minmax(np.array([3.7, 4.4, 1003.3])))\n",
    "print(minmax(np.arange(50)))\n",
    "print(minmax(np.array([-3, 0, 4])))\n",
    "### END SOLUTION"
   ]
  },
  {
   "cell_type": "markdown",
   "metadata": {
    "deletable": false,
    "editable": false,
    "nbgrader": {
     "cell_type": "markdown",
     "checksum": "27ee1f053cb31882278af7696e19375b",
     "grade": false,
     "grade_id": "cell-695fc52cc6045d96",
     "locked": true,
     "schema_version": 3,
     "solution": false
    }
   },
   "source": [
    "Once that's working, we should try some more interesting or unusual cases, to make sure our program still behaves as expected.  (Some things to consider: negative numbers?  Lists of length one, or length zero?  "
   ]
  },
  {
   "cell_type": "code",
   "execution_count": 8,
   "metadata": {
    "deletable": false,
    "nbgrader": {
     "cell_type": "code",
     "checksum": "4a88b3c8ad32e5bb467b1f22191fc762",
     "grade": false,
     "grade_id": "cell-a6adaee8e5a071ff",
     "locked": false,
     "schema_version": 3,
     "solution": true
    }
   },
   "outputs": [
    {
     "name": "stdout",
     "output_type": "stream",
     "text": [
      "[3 3]\n",
      "None\n",
      "[-7 -1]\n",
      "['A' 'X']\n"
     ]
    }
   ],
   "source": [
    "### BEGIN SOLUTION\n",
    "print(minmax(np.array([3])))\n",
    "print(minmax(np.array([])))\n",
    "print(minmax(np.array([-7, -3, -1])))\n",
    "print(minmax(np.array(['Q','A','X','M','P'])))\n",
    "### END SOLUTION"
   ]
  },
  {
   "cell_type": "markdown",
   "metadata": {
    "deletable": false,
    "editable": false,
    "nbgrader": {
     "cell_type": "markdown",
     "checksum": "bcc638e9b1141f4cdc0a50164c867d07",
     "grade": false,
     "grade_id": "cell-dc6aa6dd403e6900",
     "locked": true,
     "schema_version": 3,
     "solution": false
    }
   },
   "source": [
    "## T12.1 - Debugging\n",
    "\n",
    "Both of the examples below are buggy code - they have something wrong with them!  Use your knowledge of black-box and glass-box testing to test and fix each example."
   ]
  },
  {
   "cell_type": "markdown",
   "metadata": {
    "deletable": false,
    "editable": false,
    "nbgrader": {
     "cell_type": "markdown",
     "checksum": "e85f396c620943d08386074149ee16c3",
     "grade": false,
     "grade_id": "cell-ef1a54707f1eabce",
     "locked": true,
     "schema_version": 3,
     "solution": false
    }
   },
   "source": [
    "### Part A\n",
    "\n",
    "The _intent_ of the code below is to count how many odd numbers there are between 1 and n (including n itself, if n is odd.)\n",
    "\n",
    "```python\n",
    "def count_odds(n):\n",
    "    i = 0\n",
    "    while i < n:        \n",
    "        if (i % 2 == 1):\n",
    "            total += n\n",
    "        \n",
    "        i += 1\n",
    "        \n",
    "    return total\n",
    "    \n",
    "print(count_odds(6))  # 1,3,5 --> should print 3\n",
    "print(count_odds(7))  # 1,3,5,7 --> should print 4\n",
    "```"
   ]
  },
  {
   "cell_type": "code",
   "execution_count": 9,
   "metadata": {
    "deletable": false,
    "nbgrader": {
     "cell_type": "code",
     "checksum": "94c4fa75c22854fc51bef631750cca0b",
     "grade": false,
     "grade_id": "cell-22048b1dd730e627",
     "locked": false,
     "schema_version": 3,
     "solution": true
    }
   },
   "outputs": [
    {
     "name": "stdout",
     "output_type": "stream",
     "text": [
      "3\n",
      "4\n"
     ]
    }
   ],
   "source": [
    "def count_odds(n):\n",
    "    i = 0\n",
    "    total = 0  # Need to initialize total!\n",
    "    \n",
    "    # <= to include n!\n",
    "    while i <= n:\n",
    "        if (i % 2 == 1):\n",
    "            total += 1  # Add 1, not n - we're counting, not summing!\n",
    "        \n",
    "        i += 1\n",
    "    \n",
    "    return total\n",
    "    \n",
    "print(count_odds(6))  # 1,3,5 --> should print 3\n",
    "print(count_odds(7))  # 1,3,5,7 --> should print 4"
   ]
  },
  {
   "cell_type": "markdown",
   "metadata": {
    "deletable": false,
    "editable": false,
    "nbgrader": {
     "cell_type": "markdown",
     "checksum": "b31fa1b86be47e786440ccb9ec9937c9",
     "grade": false,
     "grade_id": "cell-2dc1cc8c8008e909",
     "locked": true,
     "schema_version": 3,
     "solution": false
    }
   },
   "source": [
    "### Part B\n",
    "\n",
    "The _intent_ of the code below is to count how many negative numbers there are in an array, and return it.  \n",
    "\n",
    "This time it passes the test I wrote, so maybe there's nothing for you to do?  Or maybe you should write some more tests...\n",
    "\n",
    "```python\n",
    "def how_many_negative_numbers(my_array):\n",
    "    count_negative = 0\n",
    "    i = 0\n",
    "    \n",
    "    while i < len(my_array):\n",
    "        number = my_array[i]\n",
    "        if number > 0:\n",
    "            break\n",
    "        count_negative += 1\n",
    "        i += 1\n",
    "        \n",
    "    return count_negative\n",
    "\n",
    "    \n",
    "print(how_many_negative_numbers(np.array([-4, -1, 0, 7, -3])))\n",
    "# prints 3, so the code works...right?\n",
    "\n",
    "```"
   ]
  },
  {
   "cell_type": "code",
   "execution_count": 10,
   "metadata": {
    "deletable": false,
    "nbgrader": {
     "cell_type": "code",
     "checksum": "7af2a0c0c0e8559b3187d0adc9d400d8",
     "grade": false,
     "grade_id": "cell-553d01e34b5c25e1",
     "locked": false,
     "schema_version": 3,
     "solution": true
    }
   },
   "outputs": [
    {
     "name": "stdout",
     "output_type": "stream",
     "text": [
      "3\n",
      "3\n"
     ]
    }
   ],
   "source": [
    "def how_many_negative_numbers(my_array):\n",
    "    count_negative = 0\n",
    "    i = 0\n",
    "\n",
    "    while i < len(my_array):\n",
    "        number = my_array[i]\n",
    "        if number >= 0:  # Don't include zero!\n",
    "            i += 1\n",
    "            continue  # Skip to next number, don't break!\n",
    "        count_negative += 1\n",
    "        i += 1\n",
    "\n",
    "    return count_negative\n",
    "\n",
    "\n",
    "print(how_many_negative_numbers(np.array([-4, -1, 0, 7, -3])))\n",
    "# still prints 3...\n",
    "\n",
    "print(how_many_negative_numbers(np.array([10, -3, -4, -1, 7, 0])))\n",
    "# prints 0 in the original code, but 3 now!"
   ]
  },
  {
   "cell_type": "markdown",
   "metadata": {
    "deletable": false,
    "editable": false,
    "nbgrader": {
     "cell_type": "markdown",
     "checksum": "ee206a42caf8ca9e2f6200b9f39f6cfd",
     "grade": false,
     "grade_id": "cell-f04a667907984113",
     "locked": true,
     "schema_version": 3,
     "solution": false
    }
   },
   "source": [
    "## T12.2 - Finding the range (with intent)\n",
    "\n",
    "Your turn to program an algorithm _with intent_, and debug it!  Suppose we're writing a simulation of two-dimensional ballistics, i.e. the motion of projectiles under the influence of gravity.  For simplicity, let's assume our projectile always starts at $(0,0)$, and is released with initial launch speed $v_0$ at angle $\\theta$ from the horizontal.  Then its trajectory will be:\n",
    "\n",
    "$$\n",
    "x(t) = (v_0 \\cos \\theta) t \\\\\n",
    "y(t) = (v_0 \\sin \\theta) t - \\frac{1}{2} g t^2 \\\\\n",
    "$$\n",
    "\n",
    "As one small part of our simulation, we'd like to implement a function `find_range(x,y)`, which will take two arrays `x` and `y` containing the trajectory $(x(t), y(t))$ and use them to find the __range of the projectile__, i.e. the value of $x$ at which it comes back to the ground at $y=0$.\n",
    "\n",
    "(Of course, in this case we could just solve analytically for the range, and no doubt such a formula is in most textbooks.  But if we were solving with air resistance, then we would need a function like this!  In fact, you will probably need it later this semester...)\n",
    "\n",
    "Let's start by finding a trajectory - run the cell below to populate two arrays `x_traj` and `y_traj`, and use them to make a plot."
   ]
  },
  {
   "cell_type": "code",
   "execution_count": 11,
   "metadata": {
    "deletable": false,
    "editable": false,
    "nbgrader": {
     "cell_type": "code",
     "checksum": "3f8439f8e391d8f5355221ddb41f2474",
     "grade": false,
     "grade_id": "cell-38386e1216a404b0",
     "locked": true,
     "schema_version": 3,
     "solution": false
    }
   },
   "outputs": [
    {
     "data": {
      "text/plain": [
       "<matplotlib.lines.Line2D at 0x7f11dda81710>"
      ]
     },
     "execution_count": 11,
     "metadata": {},
     "output_type": "execute_result"
    },
    {
     "data": {
      "image/png": "[encoded data removed]",
      "text/plain": [
       "<Figure size 432x288 with 1 Axes>"
      ]
     },
     "metadata": {
      "needs_background": "light"
     },
     "output_type": "display_data"
    }
   ],
   "source": [
    "g = 9.8 # m/s^2\n",
    "v0 = 30  # m/s\n",
    "theta = 45 * np.pi / 180\n",
    "T = 5  # s\n",
    "y0 = 5  # m\n",
    "\n",
    "# Create array of t-values for trajectory\n",
    "t = np.linspace(0, 5, 100)\n",
    "\n",
    "# Get trajectory given the above\n",
    "x_traj = v0 * np.cos(theta) * t\n",
    "y_traj = y0 + v0 * np.sin(theta) * t - 0.5 * g * t**2\n",
    "\n",
    "# Plot the trajectory\n",
    "plt.plot(x_traj, y_traj, linestyle=' ', marker='.')\n",
    "\n",
    "# Add a horizontal line to show the ground\n",
    "plt.axhline(0, color='r')"
   ]
  },
  {
   "cell_type": "markdown",
   "metadata": {
    "deletable": false,
    "editable": false,
    "nbgrader": {
     "cell_type": "markdown",
     "checksum": "5cba96329de4f178e21ae1668a99c19e",
     "grade": false,
     "grade_id": "cell-7ff7e743c7830d1a",
     "locked": true,
     "schema_version": 3,
     "solution": false
    }
   },
   "source": [
    "The plot already tells us that the answer should be somewhere around 90.  (Just making plots is frequently one of the most powerful tools in your debugging toolkit!)\n",
    "\n",
    "Let's begin with design: making our intent more concrete.  __What is our algorithm for finding the range?__  This is a trickier question than you might think: we can't just try to find points where `y=0`, because due to the finite amount of time steps we have, `y` will only get _close_ to zero, but never actually reach it.  What we want is the _closest_ point to `y=0`.  But we don't just want the `y`-value, we want the `x`-value.\n",
    "\n",
    "So here's a simple algorithm:\n",
    "\n",
    "1. Start with the trajectory as a pair of arrays `x` and `y`, containing the $(x,y)$ coordinates in order.\n",
    "2. Find the _index of_ the entry in the array `y` which is closest to 0.\n",
    "3. The range is the `x` value _at the same index_.\n",
    "\n",
    "If we look at the NumPy documentation, we'll find a couple functions that might be useful:\n",
    "- `np.min` gives the smallest value in an array.\n",
    "- `np.argmin` works similarly, but gives the _index_ of the smallest value in an array.\n",
    "\n",
    "For example:\n",
    "\n"
   ]
  },
  {
   "cell_type": "code",
   "execution_count": 12,
   "metadata": {},
   "outputs": [
    {
     "name": "stdout",
     "output_type": "stream",
     "text": [
      "1\n",
      "Index of min(a) =  2 ; a[i] =  1\n"
     ]
    }
   ],
   "source": [
    "a = np.array([3,4,1,5])\n",
    "print(np.min(a))\n",
    "i = np.argmin(a)\n",
    "print(\"Index of min(a) = \", i, \"; a[i] = \", a[i])"
   ]
  },
  {
   "cell_type": "markdown",
   "metadata": {
    "deletable": false,
    "editable": false,
    "nbgrader": {
     "cell_type": "markdown",
     "checksum": "5318799f843786e50fbc158ed0269b0e",
     "grade": false,
     "grade_id": "cell-368c1f34a969a0a4",
     "locked": true,
     "schema_version": 3,
     "solution": false
    }
   },
   "source": [
    "Since this is a tutorial, I'll provide the docstring for you this time - you provide the comments and the code!"
   ]
  },
  {
   "cell_type": "code",
   "execution_count": 14,
   "metadata": {
    "deletable": false,
    "nbgrader": {
     "cell_type": "code",
     "checksum": "4669383660650dfbc8c93cd09452e46a",
     "grade": false,
     "grade_id": "cell-b4d1b8009757cc1e",
     "locked": false,
     "schema_version": 3,
     "solution": true
    }
   },
   "outputs": [],
   "source": [
    "def find_range(x,y):\n",
    "    \"\"\"\n",
    "    Given a ballistic trajectory (x,y), finds the range R,\n",
    "    which is the x-value away from the origin closest to\n",
    "    where the trajectory crosses y=0.\n",
    "    \n",
    "    Arguments:\n",
    "    =====\n",
    "    x,y: arrays of coordinates describing a ballistic trajectory.\n",
    "    (Must be the same length!)\n",
    "        \n",
    "    Returns:\n",
    "    =====    \n",
    "    R: the range of the projectile.\n",
    "    \n",
    "    \"\"\"\n",
    "    \n",
    "    \n",
    "    ### BEGIN SOLUTION\n",
    "    \n",
    "    # Find the index in y which is closest to zero\n",
    "#    i_range = np.argmin(np.abs(y))\n",
    "\n",
    "    ## For challenge part B:\n",
    "    ## The above version will work sometimes, but if\n",
    "    ## the trajectory includes (x,y) = (0,0), you'll\n",
    "    ## get the range to be zero!\n",
    "    \n",
    "    ## One solution: we know the y=0 point we want\n",
    "    ## is after the peak of the trajectory.\n",
    "    i_max = np.argmax(y)\n",
    "    i_min = np.argmin(np.abs(y[i_max:]))\n",
    "    \n",
    "    ## The sliced array is shorter by i_max, \n",
    "    ## so we have to shift:\n",
    "    i_range = i_max + i_min\n",
    "    \n",
    "\n",
    "    # Return x-value at index\n",
    "    return x[i_range]\n",
    "    \n",
    "    ### END SOLUTION\n",
    "    \n",
    "    \n",
    "    "
   ]
  },
  {
   "cell_type": "code",
   "execution_count": 15,
   "metadata": {
    "deletable": false,
    "editable": false,
    "nbgrader": {
     "cell_type": "code",
     "checksum": "d36d1e5605c48665ae624a06e2964336",
     "grade": true,
     "grade_id": "cell-095b5e68f6c1d82f",
     "locked": true,
     "points": 0,
     "schema_version": 3,
     "solution": false
    }
   },
   "outputs": [
    {
     "name": "stdout",
     "output_type": "stream",
     "text": [
      "96.42365197998375\n"
     ]
    }
   ],
   "source": [
    "true_range = 96.59  # Computed analytically\n",
    "\n",
    "# With 100 points, our grid spacing is dt = 0.05.\n",
    "# v0_x is about 20 m/s, so dx = v0_x * dt ~ 1 m.\n",
    "# We expect accuracy in range to about that precision.\n",
    "\n",
    "print(find_range(x_traj, y_traj))\n",
    "\n",
    "assert np.abs(find_range(x_traj, y_traj) - true_range) <= 1.0"
   ]
  },
  {
   "cell_type": "markdown",
   "metadata": {
    "deletable": false,
    "editable": false,
    "nbgrader": {
     "cell_type": "markdown",
     "checksum": "155001f383dc93181699d3935d27849f",
     "grade": false,
     "grade_id": "cell-20a44e7ccaba8cf4",
     "locked": true,
     "schema_version": 3,
     "solution": false
    }
   },
   "source": [
    "### Part B _(optional challenge)_\n",
    "\n",
    "The simplest version of the algorithm I gave above works fine as long as $y_0 > 0$, but if $y_0 = 0$, it will probably fail the test below!  Can you fix up the code to pass this final testing cell?"
   ]
  },
  {
   "cell_type": "code",
   "execution_count": 16,
   "metadata": {
    "deletable": false,
    "editable": false,
    "nbgrader": {
     "cell_type": "code",
     "checksum": "7922f05d846a3c4500f00c242e02579d",
     "grade": true,
     "grade_id": "cell-9d226f08203b9818",
     "locked": true,
     "points": 0,
     "schema_version": 3,
     "solution": false
    }
   },
   "outputs": [
    {
     "name": "stdout",
     "output_type": "stream",
     "text": [
      "92.13815633642892\n"
     ]
    }
   ],
   "source": [
    "true_range_zero = 91.84  # Computed analytically\n",
    "y_traj_zero = v0 * np.sin(theta) * t - 0.5 * g * t**2\n",
    "\n",
    "print(find_range(x_traj, y_traj_zero))\n",
    "assert np.abs(find_range(x_traj, y_traj_zero) - true_range_zero) <= 1.0"
   ]
  }
 ],
 "metadata": {
  "kernelspec": {
   "display_name": "Python 3",
   "language": "python",
   "name": "python3"
  },
  "language_info": {
   "codemirror_mode": {
    "name": "ipython",
    "version": 3
   },
   "file_extension": ".py",
   "mimetype": "text/x-python",
   "name": "python",
   "nbconvert_exporter": "python",
   "pygments_lexer": "ipython3",
   "version": "3.6.8"
  }
 },
 "nbformat": 4,
 "nbformat_minor": 2
}
