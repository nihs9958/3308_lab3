{
 "cells": [
  {
   "cell_type": "markdown",
   "metadata": {
    "deletable": false,
    "editable": false,
    "nbgrader": {
     "cell_type": "markdown",
     "checksum": "a8eb9c999cbcf9350f835e3112615ed2",
     "grade": false,
     "grade_id": "cell-100899e0deea9789",
     "locked": true,
     "schema_version": 3,
     "solution": false
    }
   },
   "source": [
    "# Tutorial 19: Solving boundary-value ODEs\n",
    "\n",
    "## PHYS 2600, Spring 2019"
   ]
  },
  {
   "cell_type": "code",
   "execution_count": 3,
   "metadata": {
    "deletable": false,
    "editable": false,
    "nbgrader": {
     "cell_type": "code",
     "checksum": "d9957649326422f926fda327f1bb8462",
     "grade": false,
     "grade_id": "cell-e4302376dbe2ef21",
     "locked": true,
     "schema_version": 3,
     "solution": false
    }
   },
   "outputs": [],
   "source": [
    "## Common import cell!\n",
    "\n",
    "%matplotlib inline\n",
    "\n",
    "import numpy as np\n",
    "import matplotlib.pyplot as plt"
   ]
  },
  {
   "cell_type": "markdown",
   "metadata": {
    "deletable": false,
    "editable": false,
    "nbgrader": {
     "cell_type": "markdown",
     "checksum": "b3bfe7ebc37e7fe9efe2eed47ec49a2d",
     "grade": false,
     "grade_id": "cell-522c5c2d596f02fb",
     "locked": true,
     "schema_version": 3,
     "solution": false
    }
   },
   "source": [
    "## T19.1 - Solving the time-independent Schrodinger equation\n",
    "\n",
    "Once again, our goal will be to solve the __time-independent Schrodinger equation__:\n",
    "\n",
    "\\\\[\n",
    "-\\frac{\\hbar^2}{2m} \\frac{d^2 \\psi}{dx^2} + V(x) \\psi(x) = E \\psi(x).\n",
    "\\\\]\n",
    "\n",
    "Here $\\psi(x)$ is the wavefunction for a single particle of mass $m$ and energy $E$, and $|\\psi(x)|^2$ is the probability of measuring the particle at position $x$.  We'll start with the simple but interesting case of the __infinite square well__, which is described by the following potential:\n",
    "\n",
    "\\\\[\n",
    "V(x) = \\begin{cases} \n",
    "0, 0 \\leq x \\leq L; \\\\ \n",
    "\\infty, {\\rm elsewhere}.\n",
    "\\end{cases}\n",
    "\\\\]\n",
    "\n",
    "This makes the boundary conditions nice and simple: the particle can't exist where the potential is infinity, so we must have\n",
    "\n",
    "\\\\[\n",
    "\\psi(0) = \\psi(L) = 0.\n",
    "\\\\]\n",
    "\n",
    "Strictly speaking, we should do all of this with complex numbers since this is quantum mechanics.  However, when we work with the time-independent Schrodinger equation, it's _always_ possible to find solutions for $\\psi(x)$ using only real numbers.  (The complex phase becomes crucial when we allow time evolution to happen.)"
   ]
  },
  {
   "cell_type": "markdown",
   "metadata": {
    "deletable": false,
    "editable": false,
    "nbgrader": {
     "cell_type": "markdown",
     "checksum": "d09ec7e39a30ce6da06b1e69cf008159",
     "grade": false,
     "grade_id": "cell-f50eeecb9ef024f8",
     "locked": true,
     "schema_version": 3,
     "solution": false
    }
   },
   "source": [
    "Of course, we can solve the infinite well analytically too!  Here's a little summary plot from my own PHYS 2130 lectures to remind you of the details:\n",
    "\n",
    "<img src=\"https://physicscourses.colorado.edu/phys2600/phys2600_fa18/img/inf_sq_well_summary.png\" width=600px />"
   ]
  },
  {
   "cell_type": "markdown",
   "metadata": {
    "deletable": false,
    "editable": false,
    "nbgrader": {
     "cell_type": "markdown",
     "checksum": "6e7787cb12ea92211e7844c8f179e5e6",
     "grade": false,
     "grade_id": "cell-f3f4bc391b4df5d2",
     "locked": true,
     "schema_version": 3,
     "solution": false
    }
   },
   "source": [
    "Now we need to set up the discrete version of our differential equation.  We're going to keep $V(x)$ completely general for now, since we'll alter the infinite well slightly later on.  \n",
    "\n",
    "We will do this on the blackboard in class!  (My solutions will contain the derivation too; you _don't_ need to type it in to the answer box.)"
   ]
  },
  {
   "cell_type": "markdown",
   "metadata": {
    "deletable": false,
    "nbgrader": {
     "cell_type": "markdown",
     "checksum": "0abd7df27e25c5dc1a3dd93552b58359",
     "grade": true,
     "grade_id": "cell-ff87930b832ae6a6",
     "locked": false,
     "points": 2,
     "schema_version": 3,
     "solution": true
    }
   },
   "source": [
    "__Divide into two first-order equations: define__\n",
    "\n",
    "\\\\[\n",
    "\\chi = \\frac{d\\psi}{dx}\n",
    "\\\\]\n",
    "\n",
    "__Then__\n",
    "\\\\[\n",
    "\\frac{d\\chi}{dx} = \\frac{2m[V(x)-E]}{\\hbar^2} \\psi(x) \\\\\n",
    "\\frac{d\\psi}{dx} = \\chi(x)\n",
    "\\\\]\n",
    "\n",
    "__Finally, make it discrete: taking $x \\rightarrow x_i$, we have__\n",
    "\n",
    "\\\\[\n",
    "\\chi_{i+1} = \\chi_{i} + \\frac{2m}{\\hbar^2} [V_i - E] \\psi_i \\Delta x \\\\\n",
    "\\psi_{i+1} = \\psi_{i} + \\chi_i \\Delta x\n",
    "\\\\]"
   ]
  },
  {
   "cell_type": "markdown",
   "metadata": {
    "deletable": false,
    "editable": false,
    "nbgrader": {
     "cell_type": "markdown",
     "checksum": "46c93a800f13ceeda0ffc29b8bb3328f",
     "grade": false,
     "grade_id": "cell-66871783023b5551",
     "locked": true,
     "schema_version": 3,
     "solution": false
    }
   },
   "source": [
    "Since we're solving numerically, we need to plug in numbers for $m$ and $\\hbar$.  Let's assume we're working with an __electron__, $m = m_e = 9.11 \\times 10^{-31}$ kg.  Then we find:\n",
    "\n",
    "\\\\[\n",
    "\\frac{\\hbar^2}{2m_e} = 3.810 \\times 10^{-20}\\ {\\rm eV} \\cdot {\\rm m}^2.\n",
    "\\\\]\n",
    "\n",
    "For numerical stability (and to make our intermediate results easier to read), we should avoid working with really tiny (or really huge!) numbers!  Fortunately, in this case it's easy to fix: we just need a different yardstick.  If we work with $1\\ {\\rm nm} (= 10^{-9}\\ {\\rm m})$ instead, then we find\n",
    "\n",
    "\\\\[\n",
    "\\frac{\\hbar^2}{2m_e} = 3.810 \\times 10^{-2}\\ {\\rm eV} \\cdot {\\rm nm}^2.\n",
    "\\\\]\n",
    "\n",
    "So if we keep $L$ in units of nanometers, then our numerical arrays will all be reasonably close to 1, and we'll get answers in terms of electron-volts.\n",
    "\n",
    "What answers do we expect?  For a box size of 1 nm, we can just plug in to the exact solution, finding:\n",
    "\n",
    "\\\\[\n",
    "E_n = \\frac{\\pi^2 n^2 \\hbar^2}{2mL^2} = 0.376 \\times n^2\\ {\\rm eV} \\\\\n",
    "= \\{0.376, 1.504, 3.384, 6.016, ...\\}\\ {\\rm eV}.\n",
    "\\\\]\n"
   ]
  },
  {
   "cell_type": "markdown",
   "metadata": {
    "deletable": false,
    "editable": false,
    "nbgrader": {
     "cell_type": "markdown",
     "checksum": "73ff19fb817f87902001c140cd317fb2",
     "grade": false,
     "grade_id": "cell-6103390a691d9e00",
     "locked": true,
     "schema_version": 3,
     "solution": false
    }
   },
   "source": [
    "### Part A\n",
    "\n",
    "Now we can set up our shooting-based solution: we pretend this is an initial-value problem using the _left_ boundary condition $\\psi(0) = 0$ as our initial value, and then we guess the other initial conditions and try to find a valid solution, i.e. one which satisfies the _right_ boundary condition $\\psi(L) = 0$.\n",
    "\n",
    "As we noted in lecture, this equation is __overdetermined__, which means that solutions only exist for certain values of $E$.  This means that in addition to guessing the initial value $\\psi'(0) \\equiv \\chi(0)$, we need to guess the energy $E$ in order to solve as an initial-value problem.\n",
    "\n",
    "__Implement the function `solve_infinite_SW` below__, which takes as inputs an initial guess for the derivative `chi_0`, a guess `E` for the energy, an array `x` giving the extent of the box (in nm), and an array `Vx` giving the potential _inside_ the box.  (We will set $Vx$ to be all zeroes at first, but at the end of the tutorial we'll explore another potential in the box.)\n",
    "\n",
    "I've given you a docstring and some comments to guide your implementation."
   ]
  },
  {
   "cell_type": "code",
   "execution_count": 4,
   "metadata": {
    "deletable": false,
    "nbgrader": {
     "cell_type": "code",
     "checksum": "b53aba2e539fa29eadc14557e1bd55e6",
     "grade": true,
     "grade_id": "cell-74a5941e8e5b0a7d",
     "locked": false,
     "points": 0,
     "schema_version": 3,
     "solution": true
    }
   },
   "outputs": [],
   "source": [
    "def solve_infinite_SW(chi_0, E, x, Vx):\n",
    "    \"\"\"\n",
    "    Solve a single \"shot\" of the time-independent Schrodinger equation\n",
    "    in an infinite square well.\n",
    "    \n",
    "    Boundaries of the square well are taken from the array x; the condition\n",
    "    psi(x) = 0 is assumed at the initial (left) boundary.\n",
    "    \n",
    "    Arguments:\n",
    "    -----\n",
    "    * chi_0: initial guess for derivative of psi(x) at x=0.\n",
    "    * E: guess for the energy.\n",
    "    * x: array containing discrete range of x-values over the extent\n",
    "         of the square well [in nm.]\n",
    "    * Vx: array containing the potential V(x) *inside* the square well.\n",
    "          The simplest case is V(x) = 0.\n",
    "    \n",
    "    Returns:\n",
    "    -----\n",
    "    * psi: array of the same length as x, containing the solution psi(x).\n",
    "    \n",
    "    \"\"\"\n",
    "    \n",
    "    # h^2 / 2m_e, in eV * nm^2\n",
    "    h2_2m = 3.81e-2\n",
    "\n",
    "    # Find dx and the number of iterations N from the array x.\n",
    "    \n",
    "    # Initialize solution arrays psi and chi to arrays of zeros, of the appropriate length.\n",
    "    \n",
    "    # Set initial conditions for psi and chi.\n",
    "    \n",
    "    # Use a for loop to apply the difference equations we derived (N-1) times,\n",
    "    # filling in the solution arrays psi and chi.\n",
    "\n",
    "    ### BEGIN SOLUTION\n",
    "    N = len(x)\n",
    "    dx = x[1] - x[0]\n",
    "    \n",
    "    psi = np.zeros(N)\n",
    "    chi = np.zeros(N)\n",
    "    \n",
    "    chi[0] = chi_0\n",
    "    \n",
    "    for i in range(N-1):\n",
    "        psi[i+1] = psi[i] + chi[i] * dx\n",
    "        chi[i+1] = chi[i] + (Vx[i] - E) * psi[i] * dx / h2_2m\n",
    "    ### END SOLUTION\n",
    "    \n",
    "\n",
    "    # Return psi.\n",
    "    return psi\n",
    "\n",
    "\n",
    "    \n",
    "    \n",
    "    "
   ]
  },
  {
   "cell_type": "markdown",
   "metadata": {
    "deletable": false,
    "editable": false,
    "nbgrader": {
     "cell_type": "markdown",
     "checksum": "e545417f67cf4460574505b3be493962",
     "grade": false,
     "grade_id": "cell-7753c7ae735e00aa",
     "locked": true,
     "schema_version": 3,
     "solution": false
    }
   },
   "source": [
    "Now, __run the cell below__ to calculate and plot a shot solution using the known value of the ground-state energy $E_1 \\approx 0.376$ eV for a box size of 1 nm.  If everything is implemented correctly above, this should match my sketch of $\\psi_1(x)$ above, and the boundary conditions should be satisfied on both ends - i.e. __your curve should go through zero at `x=0` and `x=1`!__"
   ]
  },
  {
   "cell_type": "code",
   "execution_count": 5,
   "metadata": {
    "deletable": false,
    "editable": false,
    "nbgrader": {
     "cell_type": "code",
     "checksum": "5c2af1d566d53eafdb9529645e907164",
     "grade": false,
     "grade_id": "cell-9a2a47ce528063c2",
     "locked": true,
     "schema_version": 3,
     "solution": false
    }
   },
   "outputs": [
    {
     "data": {
      "image/png": "[encoded data removed]",
      "text/plain": [
       "<Figure size 432x288 with 1 Axes>"
      ]
     },
     "metadata": {
      "needs_background": "light"
     },
     "output_type": "display_data"
    }
   ],
   "source": [
    "def plot_psi_well():\n",
    "    plt.axvline(0.0, color='k')\n",
    "    plt.axvline(1.0, color='k')\n",
    "    plt.axhline(0.0, color='k')\n",
    "\n",
    "    plt.xlabel('x (nm)')\n",
    "    plt.ylabel('$\\\\psi(x)$')\n",
    "\n",
    "\n",
    "x = np.linspace(0,1,100)\n",
    "Vx = np.zeros_like(x)\n",
    "psi_1 = solve_infinite_SW(5, 0.376, x, Vx)\n",
    "\n",
    "plt.plot(x, psi_1)\n",
    "plot_psi_well()"
   ]
  },
  {
   "cell_type": "markdown",
   "metadata": {
    "deletable": false,
    "editable": false,
    "nbgrader": {
     "cell_type": "markdown",
     "checksum": "a1642ac4d82bc1632a739df8440751f9",
     "grade": false,
     "grade_id": "cell-67159263eab95294",
     "locked": true,
     "schema_version": 3,
     "solution": false
    }
   },
   "source": [
    "Notice that choice of the initial derivative `chi_0` was arbitrary above.  Try a couple different values in the cell below - you'll notice that `chi_0` __has no effect other than rescaling the curve__. "
   ]
  },
  {
   "cell_type": "code",
   "execution_count": 6,
   "metadata": {},
   "outputs": [
    {
     "data": {
      "image/png": "[encoded data removed]",
      "text/plain": [
       "<Figure size 432x288 with 1 Axes>"
      ]
     },
     "metadata": {
      "needs_background": "light"
     },
     "output_type": "display_data"
    }
   ],
   "source": [
    "psi_1 = solve_infinite_SW(5, 0.376, x, Vx)\n",
    "plt.plot(x, psi_1)\n",
    "plot_psi_well()"
   ]
  },
  {
   "cell_type": "markdown",
   "metadata": {
    "deletable": false,
    "editable": false,
    "nbgrader": {
     "cell_type": "markdown",
     "checksum": "66e52f0521ba1dd27cb3ce03f4c1b895",
     "grade": false,
     "grade_id": "cell-08da1bcaf0017f5a",
     "locked": true,
     "schema_version": 3,
     "solution": false
    }
   },
   "source": [
    "This is because we've forgotten something important: any solution to the Schrodinger equation must be __normalized__, so that\n",
    "\n",
    "\\\\[\n",
    "\\int_0^L dx\\ |\\psi(x)|^2 = 1\n",
    "\\\\]\n",
    "\n",
    "(this is the requirement that the probability of finding the particle in a box _anywhere in the box_ is always 1.)  \n",
    "\n",
    "As a result, we're not actually free to change $\\psi'(0)$; given a value of $E$ and the two boundaries, it will be determined by normalization.  So we only have to shoot in one variable, the energy $E$!\n",
    "\n",
    "### Part B\n",
    "\n",
    "In fact, it's easy enough to impose normalization with a quick numerical integral!  Let's write a __wrapper function__ that fixes up our solver above to return a normalized $\\psi(x)$.\n",
    "\n",
    "__Implement the function `solve_normalize_infinite_SW(E, x, Vx)` below__, which should call `solve_infinite_SW` with `chi_0 = 1`, and then use trapezoidal integration (the `np.trapz()` function) to rescale $\\psi(x)$ so that it is properly normalized.  Once again, I've provided some guiding comments for you.\n",
    "\n",
    "Once you've implemented the function, __run the cell below that__ to make a plot, again using the known correct value for the ground-state energy.  Once again, _if your solution doesn't go through zero at $x=0$ and $x=1$, something is wrong!_"
   ]
  },
  {
   "cell_type": "code",
   "execution_count": 7,
   "metadata": {
    "deletable": false,
    "nbgrader": {
     "cell_type": "code",
     "checksum": "7fa70d36a4cb53da3445103cab9cceb6",
     "grade": false,
     "grade_id": "cell-9c82d38569835a3d",
     "locked": false,
     "schema_version": 3,
     "solution": true
    }
   },
   "outputs": [],
   "source": [
    "def solve_normalize_infinite_SW(E, x, Vx):\n",
    "    \"\"\"\n",
    "    Solve a single \"shot\" of the time-independent Schrodinger equation\n",
    "    in an infinite square well.\n",
    "    \n",
    "    Boundaries of the square well are taken from the array x; the condition\n",
    "    psi(x) = 0 is assumed at the initial (left) boundary.\n",
    "    \n",
    "    Arguments:\n",
    "    -----\n",
    "    * E: guess for the energy.\n",
    "    * x: array containing discrete range of x-values over the extent\n",
    "         of the square well [in nm.]\n",
    "    * Vx: array containing the potential V(x) *inside* the square well.\n",
    "          The simplest case is V(x) = 0.\n",
    "    \n",
    "    Returns:\n",
    "    -----\n",
    "    * psi: array of the same length as x, containing the solution psi(x).\n",
    "           psi is properly normalized so that the total probability is 1.\n",
    "    \n",
    "    \"\"\"\n",
    "    \n",
    "    # Call solve_infinite_SW with chi_0 set to 1 and E, x, Vx as given.\n",
    "    \n",
    "    # Integrate psi^2 over the full range of x to find N, the current normalization.\n",
    "    \n",
    "    # Return psi divided by sqrt(N), so psi^2 integrates to 1\n",
    "\n",
    "    ### BEGIN SOLUTION\n",
    "    psi_un = solve_infinite_SW(1, E, x, Vx)\n",
    "\n",
    "    N = np.trapz(psi_un**2, x=x)\n",
    "\n",
    "    return psi_un / np.sqrt(N)\n",
    "    ### END SOLUTION\n",
    "    \n"
   ]
  },
  {
   "cell_type": "code",
   "execution_count": 8,
   "metadata": {
    "deletable": false,
    "editable": false,
    "nbgrader": {
     "cell_type": "code",
     "checksum": "0d5ae801183dd32c22d2e98f881a4c6f",
     "grade": false,
     "grade_id": "cell-e49b19a2076e57ef",
     "locked": true,
     "schema_version": 3,
     "solution": false
    }
   },
   "outputs": [
    {
     "data": {
      "text/plain": [
       "1.0"
      ]
     },
     "execution_count": 8,
     "metadata": {},
     "output_type": "execute_result"
    },
    {
     "data": {
      "image/png": "[encoded data removed]",
      "text/plain": [
       "<Figure size 432x288 with 1 Axes>"
      ]
     },
     "metadata": {
      "needs_background": "light"
     },
     "output_type": "display_data"
    }
   ],
   "source": [
    "# Testing/plotting cell\n",
    "\n",
    "x = np.linspace(0,1,100)\n",
    "Vx = np.zeros_like(x)\n",
    "psi_1_un = solve_infinite_SW(5, 0.376, x, Vx)\n",
    "psi_1 = solve_normalize_infinite_SW(0.376, x, Vx)\n",
    "\n",
    "plt.plot(x, psi_1, label='normalized')\n",
    "plt.plot(x, psi_1_un, label='raw')\n",
    "plot_psi_well()\n",
    "plt.legend()\n",
    "\n",
    "# Confirm normalization - should print 1.0.\n",
    "np.trapz(psi_1**2, x=x)"
   ]
  },
  {
   "cell_type": "markdown",
   "metadata": {
    "deletable": false,
    "editable": false,
    "nbgrader": {
     "cell_type": "markdown",
     "checksum": "21a99fc7ee76400d4abb55134a440182",
     "grade": false,
     "grade_id": "cell-0aad84ec7081b620",
     "locked": true,
     "schema_version": 3,
     "solution": false
    }
   },
   "source": [
    "So far, we've been cheating a bit since we know exactly the right solution for $E$.  __Run the cell below__ to see what a shot with a value of $E$ that doesn't have a valid solution looks like.  The difference between this solution and the correct right boundary $\\psi(L) = 0$ is what we'll try to take to zero by shooting."
   ]
  },
  {
   "cell_type": "code",
   "execution_count": 9,
   "metadata": {
    "deletable": false,
    "editable": false,
    "nbgrader": {
     "cell_type": "code",
     "checksum": "09ad9e4100742d8c08aed0ee89c4cdc6",
     "grade": false,
     "grade_id": "cell-cfbf7c55f3486950",
     "locked": true,
     "schema_version": 3,
     "solution": false
    }
   },
   "outputs": [
    {
     "data": {
      "image/png": "[encoded data removed]",
      "text/plain": [
       "<Figure size 432x288 with 1 Axes>"
      ]
     },
     "metadata": {
      "needs_background": "light"
     },
     "output_type": "display_data"
    }
   ],
   "source": [
    "x = np.linspace(0,1,100)\n",
    "Vx = np.zeros_like(x)\n",
    "psi_wrong = solve_normalize_infinite_SW(0.918, x, Vx)\n",
    "\n",
    "plt.plot(x, psi_wrong)\n",
    "plot_psi_well()"
   ]
  },
  {
   "cell_type": "markdown",
   "metadata": {
    "deletable": false,
    "editable": false,
    "nbgrader": {
     "cell_type": "markdown",
     "checksum": "1efa4a9ec44a66ea1ef22f5dbf8c5a6a",
     "grade": false,
     "grade_id": "cell-e41609f84111e274",
     "locked": true,
     "schema_version": 3,
     "solution": false
    }
   },
   "source": [
    "### Part C\n",
    "\n",
    "Now let's properly solve the boundary-value problem, forgetting we know the exact solutions for $E_n$.\n",
    "\n",
    "__Implement the function `shoot_infinite_SW` below__, which will use `solve_normalize_infinite_SW()` to solve by shooting.  The algorithm is simple: \n",
    "\n",
    "* Define a black-box function `delta_boundary(E)` that tells us how much a solution for a given `E` misses the right boundary by;\n",
    "* Use a standard root-finding algorithm on `delta_boundary(E)` to find where the solution works, i.e. where it misses by (approximately) zero.\n",
    "\n",
    "This is a little trickier, and we'll be doing something we've never done before: defining a function _within_ a function.  I've again provided comments to guide you through."
   ]
  },
  {
   "cell_type": "code",
   "execution_count": 10,
   "metadata": {
    "deletable": false,
    "nbgrader": {
     "cell_type": "code",
     "checksum": "649bf3b680e3c79c7dbb79dc7410cb9e",
     "grade": false,
     "grade_id": "cell-b83d4f89dc8c9896",
     "locked": false,
     "schema_version": 3,
     "solution": true
    }
   },
   "outputs": [],
   "source": [
    "from scipy.optimize import newton\n",
    "\n",
    "def shoot_infinite_SW(E_guess, x, Vx):\n",
    "    \"\"\"\n",
    "    Uses shooting to solve the boundary-value problem in the infinite square well.\n",
    "    \n",
    "    Arguments:\n",
    "    -----\n",
    "    * E_guess: initial guess for E.\n",
    "    * x: array containing discrete range of x-values over the extent\n",
    "         of the square well [in nm.]\n",
    "    * Vx: array containing the potential V(x) *inside* the square well.\n",
    "          The simplest case is V(x) = 0.\n",
    "    \n",
    "    Returns:\n",
    "    -----\n",
    "    E, psi_E: solution energy E [float] and wavefunction psi_E(x) [array, same length as x.]\n",
    "    \n",
    "    \"\"\"\n",
    "\n",
    "    \n",
    "\n",
    "    # Define the function delta_boundary(E).    \n",
    "    # Note: to work properly with the root-finding techniques,\n",
    "    # this had better be a function of E only!\n",
    "    def delta_boundary(E):\n",
    "        # Call solve_normalize_infinite_SW to find psi for this E\n",
    "        \n",
    "        # Return the difference (not absolute value!) \n",
    "        # between the solution at the boundary, psi(L), \n",
    "        # and the correct boundary value, 0\n",
    "        \n",
    "        ### BEGIN SOLUTION\n",
    "        psi_E = solve_normalize_infinite_SW(E, x, Vx)\n",
    "        return psi_E[-1]\n",
    "\n",
    "    \n",
    "    # Use the newton() root-finder on the delta_boundary function, using the initial guess E_guess.\n",
    "    # newton() will return its estimate of the value of the root, E.\n",
    "    E = newton(delta_boundary, E_guess)\n",
    "\n",
    "    # Call solve_normalize_infinite_SW one more time on the result E from newton(),\n",
    "    # to get the wavefunction psi_E for the energy we found.\n",
    "    psi_E = solve_normalize_infinite_SW(E, x, Vx)\n",
    "    ### END SOLUTION        \n",
    "    \n",
    "    # Return both the energy E and the solution psi_E, as a tuple\n",
    "    return E, psi_E\n",
    "    \n",
    "   "
   ]
  },
  {
   "cell_type": "markdown",
   "metadata": {
    "deletable": false,
    "editable": false,
    "nbgrader": {
     "cell_type": "markdown",
     "checksum": "963bda5b484bc83a60af06092b96ca05",
     "grade": false,
     "grade_id": "cell-eb20ca369ac6ce3d",
     "locked": true,
     "schema_version": 3,
     "solution": false
    }
   },
   "source": [
    "__Run the cell below__ to try your code with an initial guess of $E = 0.5$ eV; you should recover the correct ground-state energy of about 0.376 eV!"
   ]
  },
  {
   "cell_type": "code",
   "execution_count": 11,
   "metadata": {},
   "outputs": [
    {
     "name": "stdout",
     "output_type": "stream",
     "text": [
      "Found energy E=0.37603440684212414\n"
     ]
    },
    {
     "data": {
      "text/plain": [
       "[<matplotlib.lines.Line2D at 0x7f13913b5438>]"
      ]
     },
     "execution_count": 11,
     "metadata": {},
     "output_type": "execute_result"
    },
    {
     "data": {
      "image/png": "[encoded data removed]",
      "text/plain": [
       "<Figure size 432x288 with 1 Axes>"
      ]
     },
     "metadata": {
      "needs_background": "light"
     },
     "output_type": "display_data"
    }
   ],
   "source": [
    "x = np.linspace(0,1,1000)\n",
    "Vx = np.zeros_like(x)\n",
    "E, psi = shoot_infinite_SW(0.5, x, Vx)\n",
    "\n",
    "\n",
    "print(\"Found energy E={}\".format(E))\n",
    "plt.plot(x, psi)"
   ]
  },
  {
   "cell_type": "markdown",
   "metadata": {
    "deletable": false,
    "editable": false,
    "nbgrader": {
     "cell_type": "markdown",
     "checksum": "a2c6f4fe13ed6d3019593e061513e2b3",
     "grade": false,
     "grade_id": "cell-137e68f7521b6570",
     "locked": true,
     "schema_version": 3,
     "solution": false
    }
   },
   "source": [
    "### Part D\n",
    "\n",
    "__Use your code to find the next three energy levels__ and corresponding wavefunctions.  I've set everything up already: you'll just need to adjust the initial guesses, which are currently all giving the _first_ energy level $E_1$.\n",
    "\n",
    "Remember, the exact answers are: $E_n = \\{0.376, 1.504, 3.384, 6.016, ...\\}\\ {\\rm eV}$."
   ]
  },
  {
   "cell_type": "code",
   "execution_count": 13,
   "metadata": {
    "deletable": false,
    "nbgrader": {
     "cell_type": "code",
     "checksum": "1a920b80a39c96cd88bcb6d5456c03ad",
     "grade": false,
     "grade_id": "cell-fbd368280705fd6b",
     "locked": false,
     "schema_version": 3,
     "solution": true
    }
   },
   "outputs": [
    {
     "name": "stdout",
     "output_type": "stream",
     "text": [
      "1.5041673779628189\n",
      "3.3844881701469216\n",
      "6.0171455613768385\n"
     ]
    },
    {
     "data": {
      "text/plain": [
       "<matplotlib.legend.Legend at 0x7f13912b30b8>"
      ]
     },
     "execution_count": 13,
     "metadata": {},
     "output_type": "execute_result"
    },
    {
     "data": {
      "image/png": "[encoded data removed]",
      "text/plain": [
       "<Figure size 432x288 with 1 Axes>"
      ]
     },
     "metadata": {
      "needs_background": "light"
     },
     "output_type": "display_data"
    }
   ],
   "source": [
    "E2_guess = 0.5\n",
    "E3_guess = 0.5\n",
    "E4_guess = 0.5\n",
    "\n",
    "### BEGIN SOLUTION\n",
    "# We know the solutions grow roughly like n^2,\n",
    "# so start from roughly E1 and scale up.\n",
    "E2_guess = 4*0.3\n",
    "E3_guess = 9*0.3\n",
    "E4_guess = 16*0.3\n",
    "### END SOLUTION\n",
    "\n",
    "\n",
    "\n",
    "# Second energy level\n",
    "E, psi = shoot_infinite_SW(E2_guess, x, Vx)\n",
    "print(E)\n",
    "plt.plot(x, psi, label='E_2={:g}'.format(E))\n",
    "\n",
    "# Third energy level\n",
    "E, psi = shoot_infinite_SW(E3_guess, x, Vx)\n",
    "print(E)\n",
    "plt.plot(x, psi, label='E_3={:g}'.format(E))\n",
    "\n",
    "# Fourth energy level\n",
    "E, psi = shoot_infinite_SW(E4_guess, x, Vx)\n",
    "print(E)\n",
    "plt.plot(x, psi, label='E_4={:g}'.format(E))\n",
    "\n",
    "plot_psi_well()\n",
    "plt.legend()"
   ]
  },
  {
   "cell_type": "markdown",
   "metadata": {
    "deletable": false,
    "editable": false,
    "nbgrader": {
     "cell_type": "markdown",
     "checksum": "559307f6ecbc6f0d3c4a8b8a82d100f9",
     "grade": false,
     "grade_id": "cell-08b1e54ac5a1b2c8",
     "locked": true,
     "schema_version": 3,
     "solution": false
    }
   },
   "source": [
    "Finally, __find the energy level closest to 100 eV__.  \n",
    "\n",
    "__Important note:__ You can tell a bad solution because _all solutions should be symmetric about the middle of the well,_ so a bad solution will look lopsided.  To see this, you should definitely __plot your solution for $\\psi(x)$!__  If your solution looks jagged or lopsided, increase the number of points until it looks correct."
   ]
  },
  {
   "cell_type": "code",
   "execution_count": 15,
   "metadata": {
    "deletable": false,
    "nbgrader": {
     "cell_type": "code",
     "checksum": "0f059cb20aed0b857ff27a26085c1b26",
     "grade": true,
     "grade_id": "cell-d37870a4464ec100",
     "locked": false,
     "points": 0,
     "schema_version": 3,
     "solution": true
    }
   },
   "outputs": [
    {
     "name": "stdout",
     "output_type": "stream",
     "text": [
      "96.26427483448295\n"
     ]
    },
    {
     "data": {
      "image/png": "[encoded data removed]",
      "text/plain": [
       "<Figure size 432x288 with 1 Axes>"
      ]
     },
     "metadata": {
      "needs_background": "light"
     },
     "output_type": "display_data"
    }
   ],
   "source": [
    "x = np.linspace(0,1,40000)\n",
    "Vx = np.zeros_like(x)\n",
    "\n",
    "E, psi = shoot_infinite_SW(100, x, Vx)\n",
    "print(E)\n",
    "plt.plot(x, psi)\n",
    "plot_psi_well()"
   ]
  },
  {
   "cell_type": "markdown",
   "metadata": {
    "deletable": false,
    "editable": false,
    "nbgrader": {
     "cell_type": "markdown",
     "checksum": "cae43c1cc0a580a094af4b264cc54b07",
     "grade": false,
     "grade_id": "cell-12b4582c279231c2",
     "locked": true,
     "schema_version": 3,
     "solution": false
    }
   },
   "source": [
    "__Which energy level is this?__ (You can either use the exact formula for $E_n$, or just look at the plot and do some counting...)"
   ]
  },
  {
   "cell_type": "markdown",
   "metadata": {
    "deletable": false,
    "nbgrader": {
     "cell_type": "markdown",
     "checksum": "9b004a20e1328878e22c775765607e6d",
     "grade": true,
     "grade_id": "cell-2165f083a2173546",
     "locked": false,
     "points": 0,
     "schema_version": 3,
     "solution": true
    }
   },
   "source": [
    "__This turns out to be $E_{16}$, which we can verify from the energy formula, or by counting the number of peaks in the well (16 of them!)__"
   ]
  },
  {
   "cell_type": "markdown",
   "metadata": {
    "deletable": false,
    "editable": false,
    "nbgrader": {
     "cell_type": "markdown",
     "checksum": "31cd0fd4553aa8e6a4a5e4a76250c83c",
     "grade": false,
     "grade_id": "cell-30c052c66ed753ee",
     "locked": true,
     "schema_version": 3,
     "solution": false
    }
   },
   "source": [
    "### Part E (optional challenge)\n",
    "\n",
    "Finally, we're ready to move beyond what you already knew!  The functions you set up above allowed for a totally general $V(x)$ to be passed in.  We're still requiring $V(x)$ to exist __inside an infinite square well__, which restricts the set of problems we can solve.  But for example, we could imagine applying an _electric field_ to the electron in our well.  This gives a contribution to the potential of the form\n",
    "\n",
    "\\\\[\n",
    "V_E = e|E| x\n",
    "\\\\]\n",
    "\n",
    "If we apply a potential of 0.6 V across the well, then the electric field is 0.6 V/nm, giving the following for Vx:"
   ]
  },
  {
   "cell_type": "code",
   "execution_count": 16,
   "metadata": {},
   "outputs": [
    {
     "data": {
      "text/plain": [
       "[<matplotlib.lines.Line2D at 0x7f1392844dd8>]"
      ]
     },
     "execution_count": 16,
     "metadata": {},
     "output_type": "execute_result"
    },
    {
     "data": {
      "image/png": "[encoded data removed]",
      "text/plain": [
       "<Figure size 432x288 with 1 Axes>"
      ]
     },
     "metadata": {
      "needs_background": "light"
     },
     "output_type": "display_data"
    }
   ],
   "source": [
    "x = np.linspace(0,1,10000)\n",
    "#Vx = 0.25-(x-0.5)**2\n",
    "Vx = 0.6*x \n",
    "plt.plot(x,Vx)"
   ]
  },
  {
   "cell_type": "markdown",
   "metadata": {
    "deletable": false,
    "editable": false,
    "nbgrader": {
     "cell_type": "markdown",
     "checksum": "e8d87a1e5aadacbfe93cdcf289f6e790",
     "grade": false,
     "grade_id": "cell-ca4098d721e02dcf",
     "locked": true,
     "schema_version": 3,
     "solution": false
    }
   },
   "source": [
    "__Use `shoot_infinite_SW()` to find the ground-state solution__ for this potential well.  It should look like the ground-state solution we found above, but with an important difference - _can you spot the difference?_\n",
    "\n",
    "(_Note: this version of the problem is much more numerically unstable than the ordinary well!  If you didn't have any trouble with the given electric field, try with the field strength set to 20 V/m instead of just 0.6!_)"
   ]
  },
  {
   "cell_type": "code",
   "execution_count": 18,
   "metadata": {
    "deletable": false,
    "nbgrader": {
     "cell_type": "code",
     "checksum": "33ab9bfcfb47cf6dc15be69ebbb13a26",
     "grade": true,
     "grade_id": "cell-ce3025f9854cfe13",
     "locked": false,
     "points": 0,
     "schema_version": 3,
     "solution": true
    }
   },
   "outputs": [
    {
     "name": "stdout",
     "output_type": "stream",
     "text": [
      "Found energy E=0.6656855482789746\n"
     ]
    },
    {
     "data": {
      "text/plain": [
       "<matplotlib.lines.Line2D at 0x7f13929d6630>"
      ]
     },
     "execution_count": 18,
     "metadata": {},
     "output_type": "execute_result"
    },
    {
     "data": {
      "image/png": "[encoded data removed]",
      "text/plain": [
       "<Figure size 432x288 with 1 Axes>"
      ]
     },
     "metadata": {
      "needs_background": "light"
     },
     "output_type": "display_data"
    }
   ],
   "source": [
    "E, psi = shoot_infinite_SW(0.9, x, Vx)\n",
    "\n",
    "print(\"Found energy E={}\".format(E))\n",
    "plt.plot(x, psi)\n",
    "plt.axvline(0.5, color='g', linestyle='--')\n",
    "\n",
    "## Note that with the linear potential, our solution is no longer symmetric about the middle of the well;\n",
    "## I've added the vertical line at x=0.5 to make this easy to see!"
   ]
  }
 ],
 "metadata": {
  "kernelspec": {
   "display_name": "Python 3",
   "language": "python",
   "name": "python3"
  },
  "language_info": {
   "codemirror_mode": {
    "name": "ipython",
    "version": 3
   },
   "file_extension": ".py",
   "mimetype": "text/x-python",
   "name": "python",
   "nbconvert_exporter": "python",
   "pygments_lexer": "ipython3",
   "version": "3.6.8"
  }
 },
 "nbformat": 4,
 "nbformat_minor": 2
}
