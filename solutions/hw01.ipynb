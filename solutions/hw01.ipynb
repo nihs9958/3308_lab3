{
 "cells": [
  {
   "cell_type": "markdown",
   "metadata": {
    "deletable": false,
    "editable": false,
    "nbgrader": {
     "cell_type": "markdown",
     "checksum": "235c68a1d2bd449682b700a2790db3b6",
     "grade": false,
     "grade_id": "cell-d104b72f9b6686a4",
     "locked": true,
     "schema_version": 3,
     "solution": false
    }
   },
   "source": [
    "# Homework \\#1\n",
    "\n",
    "## PHYS 2600, Spring 2019\n",
    "\n",
    "__Important note on entering text:__  Some of the boxes below ask you to enter some text, with the prompt \"_Type your answer here using Markdown._\"  We haven't learned any Markdown yet - but that's fine!  Regular text is a subset of Markdown, so you should just type plain text into those cells for your answers."
   ]
  },
  {
   "cell_type": "markdown",
   "metadata": {
    "deletable": false,
    "editable": false,
    "nbgrader": {
     "cell_type": "markdown",
     "checksum": "c8a919462fb87f38e2edce5b95e16803",
     "grade": false,
     "grade_id": "cell-3e1a79382b2e46a0",
     "locked": true,
     "schema_version": 3,
     "solution": false
    }
   },
   "source": [
    "## 1.1 - Introduction (6 points)"
   ]
  },
  {
   "cell_type": "markdown",
   "metadata": {
    "deletable": false,
    "editable": false,
    "nbgrader": {
     "cell_type": "markdown",
     "checksum": "b2b8c693c157273cda352f9d49b13292",
     "grade": false,
     "grade_id": "cell-e41f62c7accecc1e",
     "locked": true,
     "schema_version": 3,
     "solution": false
    }
   },
   "source": [
    "At this level of study in undergraduate physics, students tend to have a pretty wide range of experience in computing, particularly using it for scientific work.  Tell us a little about your background below.  First, do you have any experience with Python or other programming languages?  If so, how much?"
   ]
  },
  {
   "cell_type": "markdown",
   "metadata": {
    "deletable": false,
    "nbgrader": {
     "cell_type": "markdown",
     "checksum": "cbe1e6362abdd2d318e3d45afa833c30",
     "grade": true,
     "grade_id": "intro_background",
     "locked": false,
     "points": 2,
     "schema_version": 3,
     "solution": true
    }
   },
   "source": [
    "__This was an interesting survey!  A little under half the class has a good amount of programming experience; the rest of you have no formal programming training, or some experience with things like Mathematica or Matlab.  Most of you don't have extensive experience with Python specifically, which means you're in the right place!__"
   ]
  },
  {
   "cell_type": "markdown",
   "metadata": {},
   "source": [
    "Have you taken any computer programming courses before, either here at CU or elsewhere?  If so, what courses did you take?"
   ]
  },
  {
   "cell_type": "markdown",
   "metadata": {
    "deletable": false,
    "nbgrader": {
     "cell_type": "markdown",
     "checksum": "1ad867438451b30abf0f353e57664cac",
     "grade": true,
     "grade_id": "intro_courses",
     "locked": false,
     "points": 2,
     "schema_version": 3,
     "solution": true
    }
   },
   "source": [
    "_Type your answer here using Markdown._"
   ]
  },
  {
   "cell_type": "markdown",
   "metadata": {},
   "source": [
    "After we get through the basics of Python and some standard numerical techniques, we'll have some room to cover more specific examples.  Is there any one subject, physics application or numerical technique, that you'd be especially interested in seeing?  (I may choose from your answers to this question to plan lectures or assignments late in the semester, so this is your chance to guide the class!)"
   ]
  },
  {
   "cell_type": "markdown",
   "metadata": {
    "deletable": false,
    "nbgrader": {
     "cell_type": "markdown",
     "checksum": "5c775e8cb4e4bd92f598c6d18a07ae3d",
     "grade": true,
     "grade_id": "intro_interests",
     "locked": false,
     "points": 2,
     "schema_version": 3,
     "solution": true
    }
   },
   "source": [
    "__Thanks for your suggestions on this!  Many of the requested topics are already on my list, including orbital dynamics/solar system modeling, the Schrodinger equation, projectile motion, Monte Carlo methods, big data, and (a little) machine learning.  For other topics like controlling hardware or modeling complex systems like the weather, we won't get there, but what you learn in this class will be a good start!__"
   ]
  },
  {
   "cell_type": "markdown",
   "metadata": {
    "deletable": false,
    "editable": false,
    "nbgrader": {
     "cell_type": "markdown",
     "checksum": "8b6d66ef7407a97a383b023ec20734e5",
     "grade": false,
     "grade_id": "cell-333bdad2b3171730",
     "locked": true,
     "schema_version": 3,
     "solution": false
    }
   },
   "source": [
    "## 1.2 - Syntax and Semantics (4 points)"
   ]
  },
  {
   "cell_type": "markdown",
   "metadata": {
    "deletable": false,
    "editable": false,
    "nbgrader": {
     "cell_type": "markdown",
     "checksum": "cf9396ea4fdf3445026d75bb7efbcdf1",
     "grade": false,
     "grade_id": "cell-832d8fbcee4f29b8",
     "locked": true,
     "schema_version": 3,
     "solution": false
    }
   },
   "source": [
    "Describe in your own words the difference between _syntax_ and _semantics_ in computer programming."
   ]
  },
  {
   "cell_type": "markdown",
   "metadata": {
    "deletable": false,
    "nbgrader": {
     "cell_type": "markdown",
     "checksum": "5e88cdbb3ee0af469087898dff06a531",
     "grade": true,
     "grade_id": "syntax",
     "locked": false,
     "points": 2,
     "schema_version": 3,
     "solution": true
    }
   },
   "source": [
    "__Syntax is the basic rules for how the pieces of a language can be put together; in Python, syntax tells us how functions and objects can be assembled into valid statements (pieces of code that will do something.)__\n",
    "\n",
    "__Semantics is the relationship between language and _meaning_.  Human languages are allowed to have ambiguous semantics, which can vary depending on context.  In programming languages, the semantics correspond to data and operations carried out by the computer, so semantics in Python are exact: every program does one thing!__"
   ]
  },
  {
   "cell_type": "markdown",
   "metadata": {
    "deletable": false,
    "editable": false,
    "nbgrader": {
     "cell_type": "markdown",
     "checksum": "316e49b6366415df23abfd1332d2bf1a",
     "grade": false,
     "grade_id": "cell-ba4850fbccb001f0",
     "locked": true,
     "schema_version": 3,
     "solution": false
    }
   },
   "source": [
    "Computers aren't able to flexibly interpret what we tell them to do; they are always perfectly literal.  This is a challenge if you're trying to build a computer to handle a complicated and dynamical process, for example building a self-driving car.\n",
    "\n",
    "Look up the turn-by-turn driving directions from Boulder to Denver using [Google Maps](http://maps.google.com/).  Now imagine that a self-driving car has been given these directions and nothing more; what are some ways in which the trip could go horribly wrong, compared to what a human driver would do?  Give an example."
   ]
  },
  {
   "cell_type": "markdown",
   "metadata": {
    "deletable": false,
    "nbgrader": {
     "cell_type": "markdown",
     "checksum": "40b66edcdefd45b922f9f38c913cfe42",
     "grade": true,
     "grade_id": "self_driving",
     "locked": false,
     "points": 2,
     "schema_version": 3,
     "solution": true
    }
   },
   "source": [
    "__My favorite potential mistakes I saw related specifically to the map directions:__\n",
    "\n",
    "* \"Take the exit\" might cause the car to try to bring the exit sign with it;\n",
    "* \"Use the right 2 lanes\" might make the car use both lanes at once, maybe swerving back and forth;\n",
    "* \"Get on I-25 N from W Colfax Ave\" doesn't specify _how_ to get on, which could get interesting!\n",
    "\n",
    "__Aside from misinterpretations like this, most of you answered regarding the bigger problem, which is that a car has to fill in lots of info not on the directions about traffic laws, dealing with pedestrians, other cars, etc.  Your list of problems is a small subset of what engineers trying to really build these things worry about every day!__"
   ]
  },
  {
   "cell_type": "markdown",
   "metadata": {
    "deletable": false,
    "editable": false,
    "nbgrader": {
     "cell_type": "markdown",
     "checksum": "f039e12feefb6de53d08f6e854e30348",
     "grade": false,
     "grade_id": "cell-beb4405be70a5cec",
     "locked": true,
     "schema_version": 3,
     "solution": false
    }
   },
   "source": [
    "## 1.3 - Planetary Weight Conversion (4 points)"
   ]
  },
  {
   "cell_type": "markdown",
   "metadata": {
    "deletable": false,
    "editable": false,
    "nbgrader": {
     "cell_type": "markdown",
     "checksum": "b027fdbc863da50346cb3d04fb5cc0cd",
     "grade": false,
     "grade_id": "cell-1e6e94180c62aa83",
     "locked": true,
     "schema_version": 3,
     "solution": false
    }
   },
   "source": [
    "Suppose we are standing on an arbitrary planet of mass $M$ and radius $R$.  The force of gravity on us (mass $m$) from the planet is equal to:\n",
    "\n",
    "\\\\[\n",
    "|\\vec{F_g}| = \\frac{GmM}{R^2}.\n",
    "\\\\]\n",
    "\n",
    "In the code cell below, __implement a formula to calculate the weight (in Newtons) on another planet__ of a person who weighs 800 N on the Earth.  Use it for two planets: Mars (save your answer as a variable named `weight_Mars`) and Mercury (saved as `weight_Mercury`.)  Their mass and radius are:\n",
    "\n",
    "* Mars: $R = 0.532 R_E$, $M = 0.107 M_E$\n",
    "* Mercury: $R = 0.383 R_E$, $M = 0.0553 M_E$\n",
    "\n",
    "The correct answer for the person's weight on Mars is given in the test cell below, to help you check your work.  (Tests are always a good idea in computer programming, to make sure the program does what you expect!)"
   ]
  },
  {
   "cell_type": "code",
   "execution_count": 1,
   "metadata": {
    "deletable": false,
    "nbgrader": {
     "cell_type": "code",
     "checksum": "d77a03c522d5aaabd5aef8e94cfcb617",
     "grade": false,
     "grade_id": "planets",
     "locked": false,
     "schema_version": 3,
     "solution": true
    }
   },
   "outputs": [],
   "source": [
    "weight_Earth = 800  # N\n",
    "\n",
    "### BEGIN SOLUTION\n",
    "M_Mars = 0.107  # units of M_E, Earth's mass\n",
    "M_Mercury = 0.0553\n",
    "R_Mars = 0.532  # units of R_E, Earth's radius\n",
    "R_Mercury = 0.383\n",
    "\n",
    "# Force of gravity is proportional to M / R**2, so weight on Earth is rescaled to\n",
    "# (M/M_E) / (R/R_E)**2.  Working in our units, we multiply by M/R**2.\n",
    "weight_Mars = weight_Earth * M_Mars / R_Mars**2\n",
    "weight_Mercury = weight_Earth * M_Mercury / R_Mercury**2\n",
    "\n",
    "### END SOLUTION\n"
   ]
  },
  {
   "cell_type": "code",
   "execution_count": 2,
   "metadata": {
    "deletable": false,
    "editable": false,
    "nbgrader": {
     "cell_type": "code",
     "checksum": "fb8740a47fb9dfed1071f85b77b8b6aa",
     "grade": true,
     "grade_id": "planets_tests",
     "locked": true,
     "points": 4,
     "schema_version": 3,
     "solution": false
    }
   },
   "outputs": [
    {
     "name": "stdout",
     "output_type": "stream",
     "text": [
      "Weight on Earth: 800 N\n",
      "Weight on Mars: 302 N\n",
      "Weight on Mercury: 301 N\n"
     ]
    }
   ],
   "source": [
    "# Testing cell; don't worry about the details yet, \n",
    "# but it should run without error if your answer for Mars in weight_Mars is correct.\n",
    "\n",
    "import numpy.testing as npt\n",
    "\n",
    "print(\"Weight on Earth: %g N\" % weight_Earth)\n",
    "print(\"Weight on Mars: %d N\" % weight_Mars)\n",
    "print(\"Weight on Mercury: %d N\" % weight_Mercury)\n",
    "\n",
    "npt.assert_allclose(weight_Mars, 302, rtol=0.01, atol=0)\n"
   ]
  },
  {
   "cell_type": "markdown",
   "metadata": {
    "deletable": false,
    "editable": false,
    "nbgrader": {
     "cell_type": "markdown",
     "checksum": "3a94e3d1302b8822f97918e0643d9cd4",
     "grade": false,
     "grade_id": "cell-a42b606a2d612ae2",
     "locked": true,
     "schema_version": 3,
     "solution": false
    }
   },
   "source": [
    "## 1.4 - Clock Math (6 points)"
   ]
  },
  {
   "cell_type": "markdown",
   "metadata": {
    "deletable": false,
    "editable": false,
    "nbgrader": {
     "cell_type": "markdown",
     "checksum": "44b95b604638cd461372e5ea5752b01e",
     "grade": false,
     "grade_id": "cell-e5d60655a93d09f1",
     "locked": true,
     "schema_version": 3,
     "solution": false
    }
   },
   "source": [
    "As we discussed in lecture 3, we can use Python's `%` (modulo) operator to do \"clock math\": adding together times on a 12-hour clock face.  There are more interesting applications of `%` that we'll see later on, so to prepare for those, let's start with some clock-math exercises to get familiar with `%`.\n",
    "\n",
    "### Part A (2 points)\n",
    "\n",
    "Let's start with a couple of simple _test cases_ where we know the answer before we calculate anything.\n",
    "\n",
    "* __Test one__: if we add 12 hours to 3:00, it will still be 3:00.\n",
    "* __Test two__: if we add 9 hours to 3:00, it will be 12:00.\n",
    "\n",
    "Note that in Python, if we compute `x % 12`, the result will be between 0 and 11.  So we'll adopt the convention that \"12 o'clock\" is 0 in the code below.\n",
    "\n",
    "In the cell below, __use the `%` operator__ and the variable \"`now_time`\" (set to 3:00) to confirm the two test cases above.  Save the results of adding each amount of hours to `now_time` to the variables `test_time_one` and `test_time_two`."
   ]
  },
  {
   "cell_type": "code",
   "execution_count": 3,
   "metadata": {
    "deletable": false,
    "nbgrader": {
     "cell_type": "code",
     "checksum": "e6fc87b6e0bd28cdc6485d0916d08b12",
     "grade": false,
     "grade_id": "clock_simple",
     "locked": false,
     "schema_version": 3,
     "solution": true
    }
   },
   "outputs": [],
   "source": [
    "now_time = 3\n",
    "\n",
    "### BEGIN SOLUTION\n",
    "test_time_one = (now_time + 12) % 12\n",
    "test_time_two = (now_time + 9) % 12\n",
    "### END SOLUTION\n"
   ]
  },
  {
   "cell_type": "markdown",
   "metadata": {
    "deletable": false,
    "editable": false,
    "nbgrader": {
     "cell_type": "markdown",
     "checksum": "a39831311fe72b04b11d463e90309ee4",
     "grade": false,
     "grade_id": "cell-00da57c3207ff132",
     "locked": true,
     "schema_version": 3,
     "solution": false
    }
   },
   "source": [
    "Now the cell below will run a test to make sure your results for `test_time_one` and `test_time_two` are correct.\n",
    "\n",
    "(Don't worry about the details of the `assert` command right now; all you need to know is that the cell will run with no complaints if your cell above is correct, and will raise an error otherwise.)"
   ]
  },
  {
   "cell_type": "code",
   "execution_count": null,
   "metadata": {
    "deletable": false,
    "editable": false,
    "nbgrader": {
     "cell_type": "code",
     "checksum": "ab3ac941514178a189695da9477c7e66",
     "grade": true,
     "grade_id": "clock_simple_tests",
     "locked": true,
     "points": 2,
     "schema_version": 3,
     "solution": false
    }
   },
   "outputs": [],
   "source": [
    "# Testing cell; should run with no error message if your answer above is right!\n",
    "print(\"test_time_one = %d (should be 3)\" % test_time_one)\n",
    "print(\"test_time_two = %d (should be 0)\" % test_time_two)\n",
    "\n",
    "assert (test_time_one == 3)\n",
    "assert (test_time_two == 0)"
   ]
  },
  {
   "cell_type": "markdown",
   "metadata": {
    "deletable": false,
    "editable": false,
    "nbgrader": {
     "cell_type": "markdown",
     "checksum": "c3e36f9b9022ca77a9b1b51182e70ef8",
     "grade": false,
     "grade_id": "cell-d9ffac4e2f8c5f52",
     "locked": true,
     "schema_version": 3,
     "solution": false
    }
   },
   "source": [
    "### Part B (2 points)\n",
    "\n",
    "Now let's answer a question where we don't know the answer.  If the current time is 7:00, what time of day will it be 1 million hours from now?  (Give your answer as an integer from 0 to 11, with 0 corresponding to 12:00; save it as a variable called `million_time`.)"
   ]
  },
  {
   "cell_type": "code",
   "execution_count": 4,
   "metadata": {
    "deletable": false,
    "nbgrader": {
     "cell_type": "code",
     "checksum": "2e85a69978215c4152434bbdb9fa4b58",
     "grade": false,
     "grade_id": "clock",
     "locked": false,
     "schema_version": 3,
     "solution": true
    }
   },
   "outputs": [],
   "source": [
    "now_time = 7\n",
    "\n",
    "### BEGIN SOLUTION\n",
    "million_time = (now_time + 1000000) % 12\n",
    "### END SOLUTION\n"
   ]
  },
  {
   "cell_type": "code",
   "execution_count": 5,
   "metadata": {
    "deletable": false,
    "editable": false,
    "nbgrader": {
     "cell_type": "code",
     "checksum": "1cf9425a37674d6ccb846d58ad1cf4ff",
     "grade": true,
     "grade_id": "clock_tests",
     "locked": true,
     "points": 2,
     "schema_version": 3,
     "solution": false
    }
   },
   "outputs": [
    {
     "name": "stdout",
     "output_type": "stream",
     "text": [
      "A million hours from 7:00, it will be 11:00.\n"
     ]
    }
   ],
   "source": [
    "# Hidden testing cell: do not delete or you will lose points!\n",
    "\n",
    "print(\"A million hours from 7:00, it will be %d:00.\" % million_time)\n"
   ]
  },
  {
   "cell_type": "markdown",
   "metadata": {
    "deletable": false,
    "editable": false,
    "nbgrader": {
     "cell_type": "markdown",
     "checksum": "ee5ed3d1e3ec344c4337e1fee1e29b07",
     "grade": false,
     "grade_id": "cell-c863234060ae5bd1",
     "locked": true,
     "schema_version": 3,
     "solution": false
    }
   },
   "source": [
    "### Part C (2 points)\n",
    "\n",
    "Suppose we start at 7:00 AM, to be more specific.  __Is the time you found above (1 million hours from 7:00 AM) AM or PM?__  Use the code cell below to write your solution, and then __give your answer (AM or PM) in a comment.__"
   ]
  },
  {
   "cell_type": "code",
   "execution_count": 6,
   "metadata": {
    "deletable": false,
    "nbgrader": {
     "cell_type": "code",
     "checksum": "a02cbfd597df5f9158e7f2b98dc8140e",
     "grade": true,
     "grade_id": "clock_am_pm",
     "locked": false,
     "points": 2,
     "schema_version": 3,
     "solution": true
    }
   },
   "outputs": [
    {
     "name": "stdout",
     "output_type": "stream",
     "text": [
      "23\n"
     ]
    }
   ],
   "source": [
    "# Distinguishing AM and PM means we have a 24-hour clock, instead of a 12-hour one.\n",
    "# Let's use 0 to denote 12 midnight, so 7 is 7:00 AM.\n",
    "# \n",
    "# Now we use modulo again, but this time with a base of 24:\n",
    "million_time_AM_PM = (7 + 1000000) % 24\n",
    "print(million_time_AM_PM)\n",
    "\n",
    "# The code prints '23' for million_time_AM_PM, which is __11:00 PM.__"
   ]
  },
  {
   "cell_type": "markdown",
   "metadata": {
    "deletable": false,
    "editable": false,
    "nbgrader": {
     "cell_type": "markdown",
     "checksum": "e86df262002b6278ef740888fdcf3257",
     "grade": false,
     "grade_id": "cell-73ea0253ebda0428",
     "locked": true,
     "schema_version": 3,
     "solution": false
    }
   },
   "source": [
    "## 1.5 - Mistakes Were Made (9 points)"
   ]
  },
  {
   "cell_type": "markdown",
   "metadata": {
    "deletable": false,
    "editable": false,
    "nbgrader": {
     "cell_type": "markdown",
     "checksum": "2eacf6960ef95d810232404e97427228",
     "grade": false,
     "grade_id": "cell-45671eed566d4588",
     "locked": true,
     "schema_version": 3,
     "solution": false
    }
   },
   "source": [
    "All three of the following code examples are implemented incorrectly, containing one or more errors that prevent them from running.  __Fix the code in each example__ to run the correct formula, and give the right answer.\n",
    "\n",
    "(_Note:_ I emphasize that you have to run the correct formula in full - no credit for just entering `print(right answer)`!)\n",
    "\n",
    "### Part A (3 points)\n",
    "\n",
    "__Q:__ What is the kinetic energy of a 1500 kg car moving at 12 m/s?\n",
    "\n",
    "__Formula:__ $KE = \\frac{1}{2} m v^2$\n",
    "\n",
    "__A:__ We should get 108,000 J as the answer.\n",
    "\n",
    "Copy and paste into the code cell below, then fix the mistakes.\n",
    "\n",
    "```python\n",
    "kinetic-energy = (1/2) * 1500 * v^2\n",
    "\n",
    "print(kinetic-energy)\n",
    "\n",
    "```"
   ]
  },
  {
   "cell_type": "code",
   "execution_count": 7,
   "metadata": {
    "deletable": false,
    "nbgrader": {
     "cell_type": "code",
     "checksum": "12bb67c874e19b658fbe6dc527b5804a",
     "grade": true,
     "grade_id": "cell-057f944b5694a43a",
     "locked": false,
     "points": 3,
     "schema_version": 3,
     "solution": true
    }
   },
   "outputs": [
    {
     "name": "stdout",
     "output_type": "stream",
     "text": [
      "108000.0\n"
     ]
    }
   ],
   "source": [
    "v = 12  # Mistake 1: v wasn't defined.\n",
    "\n",
    "# Mistake 2: \"kinetic-energy\" is an invalid variable name\n",
    "# Mistake 3: ^ isn't the power operator, ** is.\n",
    "\n",
    "kinetic_energy = (1/2) * 1500 * v**2\n",
    "\n",
    "print(kinetic_energy)"
   ]
  },
  {
   "cell_type": "markdown",
   "metadata": {
    "deletable": false,
    "editable": false,
    "nbgrader": {
     "cell_type": "markdown",
     "checksum": "8c52fad8d97e616c924411f98f2ed73c",
     "grade": false,
     "grade_id": "cell-801c70d303626dcb",
     "locked": true,
     "schema_version": 3,
     "solution": false
    }
   },
   "source": [
    "### Part B (3 points)\n",
    "\n",
    "__Q:__ An air hockey puck is measured at coordinates x=30 cm, y=30 cm.  How far is it from the origin?\n",
    "\n",
    "__Formula:__ $d = \\sqrt{x^2 + y^2}$\n",
    "\n",
    "__A:__ We should get 42.4 cm.\n",
    "\n",
    "Copy and paste into the code cell below, then fix the mistakes.\n",
    "\n",
    "```python\n",
    "x = 30\n",
    "    y = 30\n",
    "\n",
    "    d = x**2 + y**2**(1//2)\n",
    "\n",
    "print(d)\n",
    "```"
   ]
  },
  {
   "cell_type": "code",
   "execution_count": 8,
   "metadata": {
    "deletable": false,
    "nbgrader": {
     "cell_type": "code",
     "checksum": "43ce7f7ddcbf7383efba63dd5c76ab94",
     "grade": true,
     "grade_id": "mistakes_2",
     "locked": false,
     "points": 3,
     "schema_version": 3,
     "solution": true
    }
   },
   "outputs": [
    {
     "name": "stdout",
     "output_type": "stream",
     "text": [
      "42.42640687119285\n"
     ]
    }
   ],
   "source": [
    "x = 30\n",
    "\n",
    "# Mistake 1: can't have extra whitespace at start of lines!\n",
    "y = 30\n",
    "\n",
    "# Mistake 2: 1//2 is integer division, we want 1/2 or 0.5 for square root.\n",
    "# Mistake 3: Need parentheses around (x**2 + y**2) to take the square root of the sum.\n",
    "d = (x**2 + y**2)**(1/2)\n",
    "\n",
    "print(d)\n"
   ]
  },
  {
   "cell_type": "markdown",
   "metadata": {
    "deletable": false,
    "editable": false,
    "nbgrader": {
     "cell_type": "markdown",
     "checksum": "76c7be30ee32a97cf1065812e6749380",
     "grade": false,
     "grade_id": "cell-d9eb95e577facaf8",
     "locked": true,
     "schema_version": 3,
     "solution": false
    }
   },
   "source": [
    "### Part C (3 points)\n",
    "\n",
    "__Q:__ A block weighing 800 grams sits on a surface with coefficient of static friction mu = 0.22.  How much force is required to overcome static friction?  (Take g = 9.8 m/s^2.)\n",
    "\n",
    "__Formula:__ $F_f = \\mu m g$\n",
    "\n",
    "__A:__ The force required is about 1.72 N.\n",
    "\n",
    "Copy and paste into the code cell below, then fix the mistakes.\n",
    "\n",
    "```python\n",
    "mu = '0.22'\n",
    "F_N = 800 * 9.8\n",
    "F_f = mu * F_N\n",
    "\n",
    "print F_f\n",
    "```"
   ]
  },
  {
   "cell_type": "code",
   "execution_count": 9,
   "metadata": {
    "deletable": false,
    "nbgrader": {
     "cell_type": "code",
     "checksum": "ad106a1975390879d483b873e64fea77",
     "grade": true,
     "grade_id": "mistakes_3",
     "locked": false,
     "points": 3,
     "schema_version": 3,
     "solution": true
    }
   },
   "outputs": [
    {
     "name": "stdout",
     "output_type": "stream",
     "text": [
      "1.7248\n"
     ]
    }
   ],
   "source": [
    "# Mistake 1: mu should be a number, not a string.\n",
    "mu = 0.22\n",
    "\n",
    "# Mistake 2: working in MKS, a mass of 800 grams = 0.8 kg should be \"0.8\"\n",
    "F_N = 0.8 * 9.8\n",
    "F_f = mu * F_N\n",
    "\n",
    "# Mistake 3: print was missing the parentheses () required in Python 3.\n",
    "print(F_f)"
   ]
  }
 ],
 "metadata": {
  "kernelspec": {
   "display_name": "Python 3",
   "language": "python",
   "name": "python3"
  },
  "language_info": {
   "codemirror_mode": {
    "name": "ipython",
    "version": 3
   },
   "file_extension": ".py",
   "mimetype": "text/x-python",
   "name": "python",
   "nbconvert_exporter": "python",
   "pygments_lexer": "ipython3",
   "version": "3.6.8"
  }
 },
 "nbformat": 4,
 "nbformat_minor": 2
}
