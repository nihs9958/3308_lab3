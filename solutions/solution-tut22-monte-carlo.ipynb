{
 "cells": [
  {
   "cell_type": "markdown",
   "metadata": {
    "deletable": false,
    "editable": false,
    "nbgrader": {
     "cell_type": "markdown",
     "checksum": "457aeeeef46a636fed256b6f0e632950",
     "grade": false,
     "grade_id": "cell-100899e0deea9789",
     "locked": true,
     "schema_version": 3,
     "solution": false
    }
   },
   "source": [
    "# Tutorial 22: Monte Carlo Methods\n",
    "\n",
    "## PHYS 2600, Fall 2018"
   ]
  },
  {
   "cell_type": "code",
   "execution_count": 2,
   "metadata": {
    "deletable": false,
    "editable": false,
    "nbgrader": {
     "cell_type": "code",
     "checksum": "6a933a2d9fe62112453743979713791d",
     "grade": false,
     "grade_id": "cell-e4302376dbe2ef21",
     "locked": true,
     "schema_version": 3,
     "solution": false
    }
   },
   "outputs": [],
   "source": [
    "# Import cell\n",
    "%matplotlib inline\n",
    "\n",
    "import numpy as np\n",
    "import matplotlib.pyplot as plt"
   ]
  },
  {
   "cell_type": "markdown",
   "metadata": {
    "deletable": false,
    "editable": false,
    "nbgrader": {
     "cell_type": "markdown",
     "checksum": "92369ccc74f7f366bbe3b1d95cbbaa67",
     "grade": false,
     "grade_id": "cell-ee791ecfa85d70bb",
     "locked": true,
     "schema_version": 3,
     "solution": false
    }
   },
   "source": [
    "## T22.1 - The central limit theorem"
   ]
  },
  {
   "cell_type": "markdown",
   "metadata": {
    "deletable": false,
    "editable": false,
    "nbgrader": {
     "cell_type": "markdown",
     "checksum": "0241a1507a87c49d976cd01f86961deb",
     "grade": false,
     "grade_id": "cell-53a7ca675ab15cbe",
     "locked": true,
     "schema_version": 3,
     "solution": false
    }
   },
   "source": [
    "Let's run through an example to see exactly how the central limit theorem works with random samples.  Suppose our true distribution is the uniform distribution from $[0,1)$, i.e. the default distribution for `np.random.rand()`.  The mean of this distribution is clearly $\\mu = 1/2$, but we need the variance as well: it turns out to be $\\sigma^2 = 1/12$.  (See the derivation below if you're curious, otherwise skip to the next cell and part A.)\n",
    "\n",
    "---\n",
    "\n",
    "---\n",
    "\n",
    "We have $p(x) = 1$ for the probability density function, so\n",
    "\n",
    "$$\n",
    "\\mu = \\langle x \\rangle = \\int_0^1 dx\\ x = \\frac{1}{2} \\\\\n",
    "\\langle x^2 \\rangle = \\int_0^1 dx\\ x^2 = \\frac{1}{3}\n",
    "$$\n",
    "\n",
    "and thus\n",
    "\n",
    "$$\n",
    "\\sigma^2 = \\langle x^2 \\rangle - \\langle x \\rangle^2 = \\frac{1}{3} - \\frac{1}{4} = \\frac{1}{12}.\n",
    "$$\n"
   ]
  },
  {
   "cell_type": "markdown",
   "metadata": {
    "deletable": false,
    "editable": false,
    "nbgrader": {
     "cell_type": "markdown",
     "checksum": "6648c9c33bcbde1c3117f7a49e183ceb",
     "grade": false,
     "grade_id": "cell-c0eec982c9f3613d",
     "locked": true,
     "schema_version": 3,
     "solution": false
    }
   },
   "source": [
    "### Part A\n",
    "\n",
    "Use `np.random.rand()` to draw a sample of random numbers $\\{x_i\\}$ of size size $n=10,000$ from the uniform distribution over $[0,1)$.  Then compute the __sample mean__ and __sample variance__,\n",
    "\n",
    "$$\n",
    "\\bar{x}_n = \\frac{1}{n} \\sum_{i=1}^n x_i \\\\\n",
    "\\sigma_n^2 = \\frac{1}{n-1} \\sum_{i=1}^n (x_i - \\bar{x}_n)^2 \n",
    "$$\n",
    "\n",
    "Actually, _you don't need to implement these yourself;_ use the functions `np.mean()` and `np.var()`.  (There's also a function for the standard deviation $\\sigma_n$, `np.std()`, which is the square root of the variance - it's a separate function because we usually care about $\\sigma_n$ more than $\\sigma_n^2$.)\n",
    "\n",
    "Your results should be pretty close to the theoretical predictions of $(\\mu, \\sigma^2) = (1/2, 1/12)$ - we'll worry more about _exactly_ how close they are below."
   ]
  },
  {
   "cell_type": "code",
   "execution_count": 3,
   "metadata": {
    "deletable": false,
    "nbgrader": {
     "cell_type": "code",
     "checksum": "09cc6414d5e30723c0903d0c879fc707",
     "grade": true,
     "grade_id": "cell-f95f1ffc41be9624",
     "locked": false,
     "points": 2,
     "schema_version": 3,
     "solution": true
    }
   },
   "outputs": [
    {
     "name": "stdout",
     "output_type": "stream",
     "text": [
      "0.505318040253026 0.08428407602646218\n",
      "0.5 0.08333333333333333\n"
     ]
    }
   ],
   "source": [
    "sample = np.random.rand(10000)\n",
    "\n",
    "print(np.mean(sample), np.var(sample))\n",
    "print(1/2, 1/12)"
   ]
  },
  {
   "cell_type": "markdown",
   "metadata": {
    "deletable": false,
    "editable": false,
    "nbgrader": {
     "cell_type": "markdown",
     "checksum": "7ccf82d0ca5e17c982b9bb1c7d1e9937",
     "grade": false,
     "grade_id": "cell-e6a349e2cfdf9bd9",
     "locked": true,
     "schema_version": 3,
     "solution": false
    }
   },
   "source": [
    "Now let's be more precise: what is the __standard error of the mean__, $\\sigma_{\\rm{sem}} = \\sigma_n / \\sqrt{n}$, for your sample?  \n",
    "\n",
    "Is your sample mean $\\bar{x}_n$ within __one standard error__ of the true answer of $1/2$?  If not, is it within __three standard errors__?  What did your neighbors get?  (What do you expect, statistically?)"
   ]
  },
  {
   "cell_type": "code",
   "execution_count": 4,
   "metadata": {
    "deletable": false,
    "nbgrader": {
     "cell_type": "code",
     "checksum": "0bfc01a38e6ceb63e2448c9a7eba4b11",
     "grade": false,
     "grade_id": "cell-7276f278b9ebdb44",
     "locked": false,
     "schema_version": 3,
     "solution": true
    }
   },
   "outputs": [
    {
     "name": "stdout",
     "output_type": "stream",
     "text": [
      "0.0029031719898494164\n",
      "1.8318033763138495\n"
     ]
    }
   ],
   "source": [
    "sigma_SEM = np.std(sample) / np.sqrt(len(sample))\n",
    "print(sigma_SEM)\n",
    "print((np.mean(sample) - 0.5) / sigma_SEM)"
   ]
  },
  {
   "cell_type": "markdown",
   "metadata": {
    "deletable": false,
    "editable": false,
    "nbgrader": {
     "cell_type": "markdown",
     "checksum": "4492f725a1d0a124ec9c78d6169319b1",
     "grade": false,
     "grade_id": "cell-d7cae62d4d1dfb43",
     "locked": true,
     "schema_version": 3,
     "solution": false
    }
   },
   "source": [
    "### Part B\n",
    "\n",
    "Now let's study the behavior of random sampling with multiple trials.\n",
    "\n",
    "__Write a function `random_means(n, T)`__ that returns an array of `T` trial means $\\mu_n$.  To do this, you should draw a 2-d array of random numbers with `T` rows and `n` columns, corresponding to `T` 1-d arrays each of size `n`.  Then use `np.mean` with the `axis=...` argument to average over the samples.\n",
    "\n",
    "Once your function is working, __call it with a sample size of $n=10,000$ and $T=1,000$ trials__, then __compute the variance of the array it returns__.   How does this variance compare to \n",
    "your result for $\\sigma_{\\rm SEM}^2$ from a single sample above?  How does it compare to the theoretical estimate of the variance $(1/12) / n$ from the central limit theorem?\n",
    "\n",
    "_(Hint: of course, the $\\sigma_{\\rm SEM}^2$ will only agree if you used the same sample size above...make sure that's true if they disagree!)_"
   ]
  },
  {
   "cell_type": "code",
   "execution_count": 5,
   "metadata": {
    "deletable": false,
    "nbgrader": {
     "cell_type": "code",
     "checksum": "e29528e667bb7962687b2ffff7b94eed",
     "grade": true,
     "grade_id": "cell-cbc38aaaae04db8c",
     "locked": false,
     "points": 0,
     "schema_version": 3,
     "solution": true
    }
   },
   "outputs": [
    {
     "name": "stdout",
     "output_type": "stream",
     "text": [
      "8.64049294551674e-06\n",
      "8.42840760264622e-06\n",
      "8.333333333333332e-06\n"
     ]
    }
   ],
   "source": [
    "def random_means(n, T):\n",
    "    \"\"\"\n",
    "    Return T trial sample means, drawing\n",
    "    samples of size n from the uniform distribution [0,1).\n",
    "    \n",
    "    Arguments:\n",
    "    ====\n",
    "    n: sample size\n",
    "    T: number of trials\n",
    "    \n",
    "    Returns:\n",
    "    ====\n",
    "    An array of length T, containing sample means for different random draws of size n. \n",
    "    \n",
    "    \"\"\"\n",
    "    \n",
    "    ### BEGIN SOLUTION\n",
    "    return np.mean(np.random.rand(n, T), axis=0)\n",
    "\n",
    "\n",
    "RM = random_means(10000,1000)\n",
    "print(np.var(RM))\n",
    "print(sigma_SEM**2)\n",
    "print(1/12/10000)\n",
    "### END SOLUTION\n",
    "    "
   ]
  },
  {
   "cell_type": "markdown",
   "metadata": {
    "deletable": false,
    "editable": false,
    "nbgrader": {
     "cell_type": "markdown",
     "checksum": "bedbea21248ba572ae394ef33bb69b95",
     "grade": false,
     "grade_id": "cell-24df22ed9e44e9ab",
     "locked": true,
     "schema_version": 3,
     "solution": false
    }
   },
   "source": [
    "Make a histogram of the array of random means using `plt.hist()`.  Does it look like a normal distribution?  (It should, since both $n$ and $T$ are large enough for the central limit theorem to apply!)"
   ]
  },
  {
   "cell_type": "code",
   "execution_count": 6,
   "metadata": {
    "deletable": false,
    "nbgrader": {
     "cell_type": "code",
     "checksum": "a9bf9d444b083f5feea1692b8f618a4c",
     "grade": false,
     "grade_id": "cell-65fd252021dfe828",
     "locked": false,
     "schema_version": 3,
     "solution": true
    }
   },
   "outputs": [
    {
     "data": {
      "text/plain": [
       "(array([ 12.,  35.,  90., 203., 257., 226., 119.,  48.,   9.,   1.]),\n",
       " array([0.49103184, 0.49296418, 0.49489651, 0.49682884, 0.49876117,\n",
       "        0.50069351, 0.50262584, 0.50455817, 0.50649051, 0.50842284,\n",
       "        0.51035517]),\n",
       " <a list of 10 Patch objects>)"
      ]
     },
     "execution_count": 6,
     "metadata": {},
     "output_type": "execute_result"
    },
    {
     "data": {
      "image/png": "[encoded data removed]",
      "text/plain": [
       "<Figure size 432x288 with 1 Axes>"
      ]
     },
     "metadata": {
      "needs_background": "light"
     },
     "output_type": "display_data"
    }
   ],
   "source": [
    "plt.hist(RM)"
   ]
  },
  {
   "cell_type": "markdown",
   "metadata": {
    "deletable": false,
    "editable": false,
    "nbgrader": {
     "cell_type": "markdown",
     "checksum": "ff8bce958147ebd278266d0448e22f35",
     "grade": false,
     "grade_id": "cell-28ff27e4521df9fe",
     "locked": true,
     "schema_version": 3,
     "solution": false
    }
   },
   "source": [
    "Finally, __make a plot showing three histograms with `plt.hist()`__: do 1000 trials using `random_means`, but with sample sizes of 500, 2000, and 8000.  (Since the SEM decreases proportional to $\\sqrt{n}$, you should see the width of the Gaussian cut in half with each increase in sample size compared to the $n=500$ case.)"
   ]
  },
  {
   "cell_type": "code",
   "execution_count": 7,
   "metadata": {
    "deletable": false,
    "nbgrader": {
     "cell_type": "code",
     "checksum": "9f91a7d0844fd64aa4aa823c45892d1c",
     "grade": false,
     "grade_id": "cell-b0e74ae7d7b9cfde",
     "locked": false,
     "schema_version": 3,
     "solution": true
    }
   },
   "outputs": [
    {
     "data": {
      "text/plain": [
       "(array([ 13.,  43., 119., 202., 258., 206., 108.,  43.,   6.,   2.]),\n",
       " array([0.49050125, 0.49259745, 0.49469365, 0.49678985, 0.49888605,\n",
       "        0.50098225, 0.50307846, 0.50517466, 0.50727086, 0.50936706,\n",
       "        0.51146326]),\n",
       " <a list of 10 Patch objects>)"
      ]
     },
     "execution_count": 7,
     "metadata": {},
     "output_type": "execute_result"
    },
    {
     "data": {
      "image/png": "[encoded data removed]",
      "text/plain": [
       "<Figure size 432x288 with 1 Axes>"
      ]
     },
     "metadata": {
      "needs_background": "light"
     },
     "output_type": "display_data"
    }
   ],
   "source": [
    "plt.hist(random_means(500,1000))\n",
    "plt.hist(random_means(2000,1000))\n",
    "plt.hist(random_means(8000,1000))"
   ]
  },
  {
   "cell_type": "markdown",
   "metadata": {
    "deletable": false,
    "editable": false,
    "nbgrader": {
     "cell_type": "markdown",
     "checksum": "b1f62ec0f1bb38c128c4a5d9f44f2c89",
     "grade": false,
     "grade_id": "cell-e2bb0faf1e02f446",
     "locked": true,
     "schema_version": 3,
     "solution": false
    }
   },
   "source": [
    "## T22.2 - Radioactive decay\n",
    "\n",
    "If we have a population of particles which undergo radioactive decay, the population over time $N(t)$ will obey the relation\n",
    "\n",
    "$$\n",
    "N = N_0 e^{-t/\\tau},\n",
    "$$\n",
    "\n",
    "where $\\tau$ is the lifetime.  This follows from a simple differential equation,\n",
    "$$\n",
    "\\frac{dN}{dt} = -\\frac{N}{\\tau}\n",
    "$$\n",
    "\n",
    "Actually, this equation has made a hidden assumption: that the number of particles $N$ is so large that writing $dN$ is a sensible thing to do!  The underlying idea has to do with probability: if we observe a _single_ unstable particle for time $dt$, then (from quantum mechanics) the probability we see it decay is\n",
    "\n",
    "$$\n",
    "p = 1 - e^{-dt/\\tau}.\n",
    "$$\n",
    "\n",
    "This is an ideal system to study by Monte Carlo simulation!  Our algorithm will be:\n",
    "\n",
    "* Start with some population of particles, $N$.\n",
    "* Take one timestep $dt$, and compute the probability of decay $p$ using $dt$ and $\\tau$.\n",
    "* For each particle, draw a random number $0 < r < 1$.  If $r < p$, then that particle decays.\n",
    "* Reduce the population $N$ by 1 for each decay that we observe.\n",
    "* Repeat for the next timestep.\n",
    "\n",
    "We'll consider the radioactive decay of an isotope of nitrogen, ${}^{16}N$, which has a lifetime of $\\tau = 10.286$ s.\n",
    "\n",
    "First, __implement the function `decay_step(N, tau, dt)`__ below, which should draw $N$ random numbers and follow the algorithm above for a single timestep.  I've provided some comments to guide you."
   ]
  },
  {
   "cell_type": "code",
   "execution_count": 8,
   "metadata": {
    "deletable": false,
    "nbgrader": {
     "cell_type": "code",
     "checksum": "c4127c63a31e9ecf676fc084157341f9",
     "grade": false,
     "grade_id": "cell-78bad5402b31ebc0",
     "locked": false,
     "schema_version": 3,
     "solution": true
    }
   },
   "outputs": [],
   "source": [
    "def decay_step(N, tau, dt):\n",
    "    # Calculate the decay probability p\n",
    "    \n",
    "    # Draw N random numbers between 0 and 1\n",
    "    \n",
    "    # Count the number of decays, by counting\n",
    "    # how many random numbers in the array are less than p\n",
    "    \n",
    "    # Return N minus the number of decays\n",
    "    \n",
    "    ### BEGIN SOLUTION\n",
    "    p = 1 - np.exp(-dt/tau)\n",
    "    \n",
    "    R = np.random.rand(N)\n",
    "    \n",
    "    decay_count = np.count_nonzero(R < p)\n",
    "    \n",
    "    return N - decay_count\n",
    "    ### END SOLUTION"
   ]
  },
  {
   "cell_type": "markdown",
   "metadata": {
    "deletable": false,
    "editable": false,
    "nbgrader": {
     "cell_type": "markdown",
     "checksum": "ad53e71fd9b01f8fa35ad4d32db33ba8",
     "grade": false,
     "grade_id": "cell-c8e843a9b5b4b20e",
     "locked": true,
     "schema_version": 3,
     "solution": false
    }
   },
   "source": [
    "Now run a couple of simple checks:\n",
    "\n",
    "* First, call `decay_step(100, tau_N17, 0.001)` and verify that no decays are recorded with $dt \\ll \\tau$.  (This is random, of course, so run a few times - I got 99 on one of my trials just by chance!)\n",
    "* Then call `decay_step(100, tau_N17, tau_N17)`; on average, we expect 37% of the particles to remain after one lifetime has elapsed.  There will be random variations, but if you run a few times you should see the results are generally close to 37."
   ]
  },
  {
   "cell_type": "code",
   "execution_count": 9,
   "metadata": {
    "deletable": false,
    "nbgrader": {
     "cell_type": "code",
     "checksum": "de21c4329748f391c5fbf82c68d79ac6",
     "grade": false,
     "grade_id": "cell-d06988f5a67d9760",
     "locked": false,
     "schema_version": 3,
     "solution": true
    }
   },
   "outputs": [
    {
     "name": "stdout",
     "output_type": "stream",
     "text": [
      "100\n",
      "33\n"
     ]
    }
   ],
   "source": [
    "tau_N17 = 6.020\n",
    "tau_N16 = 10.286\n",
    "\n",
    "### BEGIN SOLUTION\n",
    "print(decay_step(100, 6.020, 0.001))\n",
    "print(decay_step(100, 6.020, 6.020))\n",
    "### END SOLUTION\n"
   ]
  },
  {
   "cell_type": "markdown",
   "metadata": {
    "deletable": false,
    "editable": false,
    "nbgrader": {
     "cell_type": "markdown",
     "checksum": "0ef6ff2712f97fd2fcc8ab098cd7afcf",
     "grade": false,
     "grade_id": "cell-9f2feb2255ec46de",
     "locked": true,
     "schema_version": 3,
     "solution": false
    }
   },
   "source": [
    "### Part B\n",
    "\n",
    "Next, __implement the function `monte_carlo_decay(N0, tau, t)`__, which takes the initial number of particles `N0`, the lifetime `tau`, and an array `t` of discrete times to track the particles over.  Your function should return an array `N_t` of the same length as `t`, containing the number of particles remaining at each discrete time.\n",
    "\n",
    "(Hint: you may want to look back at tutorial 17; the way that `monte_carlo_decay()` should work with `decay_step()` is similar to how `euler_solve()` built up the full solution to the ODE on that tutorial using `euler_step()`.)"
   ]
  },
  {
   "cell_type": "code",
   "execution_count": 10,
   "metadata": {
    "deletable": false,
    "nbgrader": {
     "cell_type": "code",
     "checksum": "f83921547c5fe278d9863d2473ed1fd0",
     "grade": false,
     "grade_id": "cell-114c4c0b8d52b5f2",
     "locked": false,
     "schema_version": 3,
     "solution": true
    }
   },
   "outputs": [],
   "source": [
    "def monte_carlo_decay(N0, tau, t_array):\n",
    "    \n",
    "    # Get dt (step size) and Nt (number of t points) from t_array\n",
    "    dt, Nt = t_array[1] - t_array[0], len(t_array)\n",
    "    \n",
    "    # Initialize array N_t, same length as t_array\n",
    "    # The \"dtype\" option is important, because the number\n",
    "    # of particles should always be an integer!\n",
    "    N_t = np.zeros_like(t_array, dtype=np.int)\n",
    "    \n",
    "    # Set the initial (first) value of N_t to value N0 passed in above\n",
    "    \n",
    "    # Iterate, setting N_t[i+1] using the decay_step function and N_t[i]\n",
    "    \n",
    "    ### BEGIN SOLUTION\n",
    "    N_t[0] = N0\n",
    "    \n",
    "    for i in range(Nt-1):\n",
    "        N_t[i+1] = decay_step(N_t[i], tau, dt)\n",
    "    ### END SOLUTION    \n",
    "        \n",
    "    ## Return array N(t)\n",
    "    return N_t"
   ]
  },
  {
   "cell_type": "markdown",
   "metadata": {
    "deletable": false,
    "editable": false,
    "nbgrader": {
     "cell_type": "markdown",
     "checksum": "5ecd1802b7b8b3bf0a2a32d0dbbe6454",
     "grade": false,
     "grade_id": "cell-b890c2aaa4e651ce",
     "locked": true,
     "schema_version": 3,
     "solution": false
    }
   },
   "source": [
    "Now __run the cell below__ to plot your simulation results for an initial population 1000 nitrogen-16 atoms over 60 seconds.  I've also included a plot of the analytic result for $N(t)$ as a red, dashed line.  Hopefully the two curves agree pretty closely!"
   ]
  },
  {
   "cell_type": "code",
   "execution_count": 11,
   "metadata": {},
   "outputs": [
    {
     "data": {
      "text/plain": [
       "[<matplotlib.lines.Line2D at 0x7ff233f5d1d0>]"
      ]
     },
     "execution_count": 11,
     "metadata": {},
     "output_type": "execute_result"
    },
    {
     "data": {
      "image/png": "[encoded data removed]",
      "text/plain": [
       "<Figure size 432x288 with 1 Axes>"
      ]
     },
     "metadata": {
      "needs_background": "light"
     },
     "output_type": "display_data"
    }
   ],
   "source": [
    "t_decay = np.arange(0, 60, 0.1)\n",
    "N0 = 1000\n",
    "\n",
    "N_analytic = N0 * np.exp(-t_decay / tau_N16)\n",
    "plt.plot(t_decay, N_analytic, linestyle='--', color='r')\n",
    "\n",
    "N_N16 = monte_carlo_decay(N0, tau_N16, t_decay)\n",
    "plt.plot(t_decay, N_N16)"
   ]
  },
  {
   "cell_type": "markdown",
   "metadata": {
    "deletable": false,
    "editable": false,
    "nbgrader": {
     "cell_type": "markdown",
     "checksum": "9c0a0994da47ba3a4d4ff66afa282201",
     "grade": false,
     "grade_id": "cell-46c2f0cb5fc10700",
     "locked": true,
     "schema_version": 3,
     "solution": false
    }
   },
   "source": [
    "Let's run a slightly different test: __run the cell below__ to see simulations for three different choices of `dt`: 0.4, 0.1, and 0.01.  (Hopefully, your results won't depend on the size of `dt` very much either!)"
   ]
  },
  {
   "cell_type": "code",
   "execution_count": 12,
   "metadata": {},
   "outputs": [
    {
     "data": {
      "text/plain": [
       "<matplotlib.legend.Legend at 0x7ff233e73f60>"
      ]
     },
     "execution_count": 12,
     "metadata": {},
     "output_type": "execute_result"
    },
    {
     "data": {
      "image/png": "[encoded data removed]",
      "text/plain": [
       "<Figure size 432x288 with 1 Axes>"
      ]
     },
     "metadata": {
      "needs_background": "light"
     },
     "output_type": "display_data"
    }
   ],
   "source": [
    "dt_list = (0.4, 0.1, 0.01)\n",
    "\n",
    "for dt in dt_list:\n",
    "    t_decay = np.arange(0, 60, dt)\n",
    "    N_N16 = monte_carlo_decay(N0, tau_N16, t_decay)\n",
    "    plt.plot(t_decay, N_N16, label='dt={0:g}'.format(dt))\n",
    "\n",
    "plt.legend()"
   ]
  },
  {
   "cell_type": "markdown",
   "metadata": {
    "deletable": false,
    "editable": false,
    "nbgrader": {
     "cell_type": "markdown",
     "checksum": "72843f604b9461578016780a09e4d9f5",
     "grade": false,
     "grade_id": "cell-1c7ae82143b24baf",
     "locked": true,
     "schema_version": 3,
     "solution": false
    }
   },
   "source": [
    "Of course, as we mentioned the analytic solution assumed that the number of particles is large enough that we can just treat it as a differential equation!  __Copy the first plotting cell above__, change `N0` to 5, and then run it again to show your simulation and the analytic formula.  Which of the two models do you think is a more realistic description of the system starting with 5 particles?"
   ]
  },
  {
   "cell_type": "code",
   "execution_count": 22,
   "metadata": {
    "deletable": false,
    "nbgrader": {
     "cell_type": "code",
     "checksum": "d74586e9b321e9405b24672bc284cf48",
     "grade": false,
     "grade_id": "cell-31d40aa5fe1625d5",
     "locked": false,
     "schema_version": 3,
     "solution": true
    }
   },
   "outputs": [
    {
     "data": {
      "text/plain": [
       "[<matplotlib.lines.Line2D at 0x7ff233b285c0>]"
      ]
     },
     "execution_count": 22,
     "metadata": {},
     "output_type": "execute_result"
    },
    {
     "data": {
      "image/png": "[encoded data removed]",
      "text/plain": [
       "<Figure size 432x288 with 1 Axes>"
      ]
     },
     "metadata": {
      "needs_background": "light"
     },
     "output_type": "display_data"
    }
   ],
   "source": [
    "t_decay = np.arange(0, 60, 0.1)\n",
    "\n",
    "N_analytic = 5 * np.exp(-t_decay / tau_N16)\n",
    "plt.plot(t_decay, N_analytic, linestyle='--', color='r')\n",
    "\n",
    "\n",
    "N_N16 = monte_carlo_decay(5, tau_N16, t_decay)\n",
    "\n",
    "plt.plot(t_decay, N_N16)\n",
    "\n",
    "# The discrete description is more realistic, since we really only have 5\n",
    "# particles, so N can't be fractional like the smooth analytic curve predicts!"
   ]
  },
  {
   "cell_type": "markdown",
   "metadata": {
    "deletable": false,
    "editable": false,
    "nbgrader": {
     "cell_type": "markdown",
     "checksum": "be03fab2fdffcf3811e524056d1e0306",
     "grade": false,
     "grade_id": "cell-9daacd6c1ff804ec",
     "locked": true,
     "schema_version": 3,
     "solution": false
    }
   },
   "source": [
    "### Part C _(optional challenge)_\n",
    "\n",
    "Similar to what we did with the central limit theorem above, we can ask a different sort of statistical question about repeated trials.  Suppose we do many trials starting with 5 atoms of ${}^{16}N$, in which we wait for exactly 10 seconds and measure the number of remaining atoms.  _What does the distribution of $N$ look like?_\n",
    "\n",
    "To answer this question, __implement the function `measure_after_time(N0, t_meas, tau, trials)` below__, which should use `monte_carlo_decay` from above, loop over it `trials` times, and return an array containing the number of particles remaining after 10 seconds in each trial."
   ]
  },
  {
   "cell_type": "code",
   "execution_count": 23,
   "metadata": {
    "deletable": false,
    "nbgrader": {
     "cell_type": "code",
     "checksum": "658396877747fddebde81c009074a7e3",
     "grade": false,
     "grade_id": "cell-dcbda352683e30c7",
     "locked": false,
     "schema_version": 3,
     "solution": true
    }
   },
   "outputs": [],
   "source": [
    "def measure_after_time(N0, t_meas, tau, trials=100):\n",
    "        \n",
    "    N_remain = np.zeros(trials, dtype=np.int)\n",
    "\n",
    "    # Set up a t_array linspace with 200 points for t, running from 0 to t_meas\n",
    "    \n",
    "    # Use a for loop to call monte_carlo_decay [trials] times,\n",
    "    # to find how many particles are remaining after t_meas.\n",
    "    # Save the results in the array N_remain.\n",
    "        \n",
    "    ### BEGIN SOLUTION\n",
    "    t_array = np.linspace(0, t_meas, 200)\n",
    "    \n",
    "    for i in range(trials):\n",
    "        N_remain[i] = monte_carlo_decay(N0, tau, t_array)[-1]\n",
    "    ### END SOLUTION\n",
    "    \n",
    "\n",
    "    \n",
    "    return N_remain\n",
    "    \n"
   ]
  },
  {
   "cell_type": "markdown",
   "metadata": {
    "deletable": false,
    "editable": false,
    "nbgrader": {
     "cell_type": "markdown",
     "checksum": "ffe34b787a9abd15d291df28936538ea",
     "grade": false,
     "grade_id": "cell-1bd8f5b91993ed7b",
     "locked": true,
     "schema_version": 3,
     "solution": false
    }
   },
   "source": [
    "Now __run the cell below__ for 5 initial atoms, waiting for 10 seconds.  I've started with 200 trials, you can try to increase and see how things change.  (__Warning:__ this is kind of slow, so you may be waiting a while if you try more than a few thousand trials!)"
   ]
  },
  {
   "cell_type": "code",
   "execution_count": 24,
   "metadata": {},
   "outputs": [
    {
     "data": {
      "image/png": "[encoded data removed]",
      "text/plain": [
       "<Figure size 432x288 with 1 Axes>"
      ]
     },
     "metadata": {
      "needs_background": "light"
     },
     "output_type": "display_data"
    }
   ],
   "source": [
    "N16 = measure_after_time(5, 10, tau_N16, trials=200)\n",
    "plt.hist(N16, bins=np.arange(0,6));"
   ]
  },
  {
   "cell_type": "markdown",
   "metadata": {
    "deletable": false,
    "editable": false,
    "nbgrader": {
     "cell_type": "markdown",
     "checksum": "e591cd711d5e2ccf7ab716400961a8af",
     "grade": false,
     "grade_id": "cell-86049aa0b948968a",
     "locked": true,
     "schema_version": 3,
     "solution": false
    }
   },
   "source": [
    "This is definitely _not_ a Gaussian distribution - and it won't be, no matter how much we increase the number of trials!  The central limit theorem relies on the random numbers being _continuous_, but here we have a discrete set of possibilities since the number of particles remaining must be an integer.  The lopsided distribution we end up with as a result is known as the __Poisson distribution__.\n",
    "\n",
    "To prove to yourself that this is an artifact of having integer numbers of particles, __run the cell below which starts with 1000 particles instead of 5__.  You should get something that (although noisy) looks much closer to a Gaussian!"
   ]
  },
  {
   "cell_type": "code",
   "execution_count": 26,
   "metadata": {},
   "outputs": [
    {
     "data": {
      "image/png": "[encoded data removed]",
      "text/plain": [
       "<Figure size 432x288 with 1 Axes>"
      ]
     },
     "metadata": {
      "needs_background": "light"
     },
     "output_type": "display_data"
    }
   ],
   "source": [
    "N16 = measure_after_time(1000, 10, tau_N16, trials=1000)\n",
    "plt.hist(N16, bins=(np.max(N16) - np.min(N16)+1));"
   ]
  }
 ],
 "metadata": {
  "kernelspec": {
   "display_name": "Python 3",
   "language": "python",
   "name": "python3"
  },
  "language_info": {
   "codemirror_mode": {
    "name": "ipython",
    "version": 3
   },
   "file_extension": ".py",
   "mimetype": "text/x-python",
   "name": "python",
   "nbconvert_exporter": "python",
   "pygments_lexer": "ipython3",
   "version": "3.6.8"
  }
 },
 "nbformat": 4,
 "nbformat_minor": 2
}
