{
 "cells": [
  {
   "cell_type": "markdown",
   "metadata": {
    "deletable": false,
    "editable": false,
    "nbgrader": {
     "cell_type": "markdown",
     "checksum": "4f670da3771195446def4638d3e700e3",
     "grade": false,
     "grade_id": "cell-100899e0deea9789",
     "locked": true,
     "schema_version": 3,
     "solution": false
    }
   },
   "source": [
    "# Tutorial 27: Modeling data with least-squares fitting\n",
    "\n",
    "## PHYS 2600, Spring 2019"
   ]
  },
  {
   "cell_type": "code",
   "execution_count": 1,
   "metadata": {
    "deletable": false,
    "editable": false,
    "nbgrader": {
     "cell_type": "code",
     "checksum": "22b208d88266a60588f8eb3e1abd56ec",
     "grade": false,
     "grade_id": "cell-e4302376dbe2ef21",
     "locked": true,
     "schema_version": 3,
     "solution": false
    }
   },
   "outputs": [],
   "source": [
    "# Import cell\n",
    "%matplotlib inline\n",
    "\n",
    "import numpy as np\n",
    "import matplotlib.pyplot as plt\n",
    "\n",
    "import gvar as gv\n",
    "import lsqfit\n"
   ]
  },
  {
   "cell_type": "markdown",
   "metadata": {
    "deletable": false,
    "editable": false,
    "nbgrader": {
     "cell_type": "markdown",
     "checksum": "21dd33c134af0bfe50e08cd3360612ef",
     "grade": false,
     "grade_id": "cell-a7962c4e129aca38",
     "locked": true,
     "schema_version": 3,
     "solution": false
    }
   },
   "source": [
    "## T27.1 - Getting started with `lsqfit`\n",
    "\n",
    "As usual, there are a lot of available modules that can help us carry out least-squares modeling in Python - for example, the `scipy.optimize.curve_fit` function can do general non-linear least squares.\n",
    "\n",
    "We're going to learn a different module called `lsqfit` - you can find [the documentation here](https://lsqfit.readthedocs.io/en/latest/).  The `lsqfit` module is something I use in research often: it is more general and powerful than the `scipy` curve fitter, and it works natively with the `gvar` module (both are from the same author.)\n",
    "\n",
    "To warm up, we'll start with a simple linear fit to some [real data taken from a teaching photoelectric effect experiment](http://www.phys.ncku.edu.tw/~cctsai/teaching/10102/IntModernPhysics/Duarte_photoelectric.pdf).  Here are the data points:\n",
    "\n",
    "| f [$\\times 10^{14}$ Hz] | $V_{\\rm stop}$ [V] |\n",
    "|-------------------------|--------------------|\n",
    "| 5.490 | 0.24(4) |\n",
    "| 6.879 | 0.80(10) |\n",
    "| 7.408 | 1.20(20) |\n",
    "| 8.213 | 1.50(25) |\n",
    "\n",
    "I've also provided the data in the cell below, along with a quick function that makes an errorbar plot of gvar data.  __Run the cell to load the data variables and make a plot.__"
   ]
  },
  {
   "cell_type": "code",
   "execution_count": 2,
   "metadata": {
    "deletable": false,
    "editable": false,
    "nbgrader": {
     "cell_type": "code",
     "checksum": "7f6321e9050df959f76d794d4882a728",
     "grade": false,
     "grade_id": "cell-92bdb8a08bb8bb51",
     "locked": true,
     "schema_version": 3,
     "solution": false
    }
   },
   "outputs": [
    {
     "data": {
      "text/plain": [
       "Text(0, 0.5, '$V_{\\\\rm stop} [V]$')"
      ]
     },
     "execution_count": 2,
     "metadata": {},
     "output_type": "execute_result"
    },
    {
     "data": {
      "image/png": "[encoded data removed]",
      "text/plain": [
       "<Figure size 432x288 with 1 Axes>"
      ]
     },
     "metadata": {
      "needs_background": "light"
     },
     "output_type": "display_data"
    }
   ],
   "source": [
    "f = np.array([5.490, 6.879, 7.408, 8.213]) # 10^{14} Hz\n",
    "Vcut = gv.gvar(['0.24(4)', '0.80(10)', '1.20(20)', '1.50(25)']) # V\n",
    "\n",
    "def plot_gvar(x, y_gv):\n",
    "    \"\"\"\n",
    "    Given two arrays of equal length, one of which contains\n",
    "    gvar objects, returns an errorbar plot of y(x).\n",
    "    \n",
    "    Arguments:\n",
    "    ====\n",
    "    x: Array of x-values.\n",
    "    y_gv: Array of y-values with error [as gvars.]\n",
    "    \n",
    "    Returns:\n",
    "    =====\n",
    "    An errorbar plot.\n",
    "    \"\"\"\n",
    "    \n",
    "    return plt.errorbar(x, gv.mean(y_gv), yerr=gv.sdev(y_gv), linestyle='', marker='o')\n",
    "    \n",
    "    \n",
    "plot_gvar(f, Vcut)\n",
    "plt.xlim(4.5, 9.0)\n",
    "plt.ylim(0,2)\n",
    "plt.xlabel('f [$\\\\times 10^{14}$ Hz]')\n",
    "plt.ylabel('$V_{\\\\rm stop} [V]$')"
   ]
  },
  {
   "cell_type": "markdown",
   "metadata": {},
   "source": [
    "We expect a linear relationship between the light frequency $f$ and the stopping voltage $V_{\\rm stop}$ - looks plausible, although the data are a bit noisy.  To test the linear model and get the work function and Planck's constant, we need to set up a fit!\n",
    "\n",
    "The fist thing we'll need is a model function.  It turns out that `lsqfit` wants this to be implemented as a Python function.  __Implement the function `PE_model(f, a)` below__, where `f` should be an array of frequency values and `a` is an array of fit parameters (in whatever order we want, defined by the function itself.)  The model function we want to use is:\n",
    "\n",
    "$$\n",
    "eV_{\\rm stop} = hf - \\Phi\n",
    "$$\n",
    "\n",
    "so the parameter vector is $\\mathbf{a} = (h, \\Phi)$.\n"
   ]
  },
  {
   "cell_type": "code",
   "execution_count": 3,
   "metadata": {
    "deletable": false,
    "nbgrader": {
     "cell_type": "code",
     "checksum": "d7606bee2f93236f1235d94168e50bb0",
     "grade": false,
     "grade_id": "cell-bfb37d02cf9e5420",
     "locked": false,
     "schema_version": 3,
     "solution": true
    }
   },
   "outputs": [],
   "source": [
    "def PE_model(f, a):    \n",
    "    ### BEGIN SOLUTION\n",
    "    return a[0] * f - a[1]\n",
    "    ### END SOLUTION\n",
    "    \n",
    "\n"
   ]
  },
  {
   "cell_type": "code",
   "execution_count": 4,
   "metadata": {
    "deletable": false,
    "editable": false,
    "nbgrader": {
     "cell_type": "code",
     "checksum": "0a8e7fb2e5fd063104b0e7c359280d7e",
     "grade": true,
     "grade_id": "cell-c8ce39f14913a4ba",
     "locked": true,
     "points": 0,
     "schema_version": 3,
     "solution": false
    }
   },
   "outputs": [],
   "source": [
    "import numpy.testing as npt\n",
    "\n",
    "npt.assert_allclose(PE_model(5, [1,1]), 4)\n",
    "npt.assert_allclose(PE_model(f, [0,0]), [0, 0, 0, 0])\n",
    "npt.assert_allclose(PE_model(f, [1,1]), [4.49, 5.879, 6.408, 7.213])"
   ]
  },
  {
   "cell_type": "markdown",
   "metadata": {
    "deletable": false,
    "editable": false,
    "nbgrader": {
     "cell_type": "markdown",
     "checksum": "d679d158e867ac2664f92e3c7ef6b313",
     "grade": false,
     "grade_id": "cell-1fb8840a9c4dea70",
     "locked": true,
     "schema_version": 3,
     "solution": false
    }
   },
   "source": [
    "Now use your function `PE_model` to make a plot showing the data (copy from the cell above) as well as the model, using a guess for the fit parameters of `(h, Phi) = (0.5, 3)` (which I came up with by staring at the plot - maybe you can do better?)"
   ]
  },
  {
   "cell_type": "code",
   "execution_count": 6,
   "metadata": {
    "deletable": false,
    "nbgrader": {
     "cell_type": "code",
     "checksum": "96675332e0ad75d445e754e6c6f5f014",
     "grade": false,
     "grade_id": "cell-a7b77b6cd4d92162",
     "locked": false,
     "schema_version": 3,
     "solution": true
    }
   },
   "outputs": [
    {
     "data": {
      "text/plain": [
       "[<matplotlib.lines.Line2D at 0x7f9ee70af748>]"
      ]
     },
     "execution_count": 6,
     "metadata": {},
     "output_type": "execute_result"
    },
    {
     "data": {
      "image/png": "[encoded data removed]",
      "text/plain": [
       "<Figure size 432x288 with 1 Axes>"
      ]
     },
     "metadata": {
      "needs_background": "light"
     },
     "output_type": "display_data"
    }
   ],
   "source": [
    "a0 = [0.5,3]\n",
    "\n",
    "### BEGIN SOLUTION\n",
    "plot_gvar(f, Vcut)\n",
    "plt.plot(f, PE_model(f, a0))\n",
    "### END SOLUTION"
   ]
  },
  {
   "cell_type": "markdown",
   "metadata": {},
   "source": [
    "Finally, let's actually run the fitter and find the best fit!  The main workhorse function of `lsqfit` is called `lsqfit.nonlinear_fit()`.  (Yes, even though this is a linear fit, we can use this function - linear fits are a special case so it will still work.)  The documentation for `lsqfit.nonlinear_fit()` is pretty complicated, because it has a lot of features.  But recalling the definition of $\\chi^2$,\n",
    "\n",
    "$$\n",
    "\\chi^2 = \\sum_i \\left(\\frac{y_i - f(x_i, \\mathbf{a})}{\\sigma_i} \\right)^2,\n",
    "$$\n",
    "\n",
    "we expect that `lsqfit.nonlinear_fit` must take the following arguments at least:\n",
    "\n",
    "* Data for independent variable(s), $x_i$;\n",
    "* Data for dependent variable(s), $y_i$, and error bars $\\sigma_i$;\n",
    "* The model function $f$.\n",
    "\n",
    "It will also need an __initial guess__, $\\mathbf{a}_0$, because the methods it uses to minimize the $\\chi^2$ function require a starting point.  (Having a good initial guess can often greatly improve the speed and accuracy of a nonlinear fit!)  Once we have our data `x` and `y`, model function `f`, and initial guess `a0`, the call signature is:\n",
    "\n",
    "```\n",
    "fit_result = lsqfit.nonlinear_fit(data=(x,y), fcn=f, p0=a0)\n",
    "```\n",
    "\n",
    "This will run the fit and return an object containing lots of information.  __Call the `nonlinear_fit` function below__, using the variables you defined above and the initial guess `a0=[0.5,3]` that we plotted just above.  Then __print the object returned by `nonlinear_fit`__ (I like to call it \"`fit_result`\") to see a report on the best fit!"
   ]
  },
  {
   "cell_type": "code",
   "execution_count": 7,
   "metadata": {
    "deletable": false,
    "nbgrader": {
     "cell_type": "code",
     "checksum": "55e6ce248d847761ae1b3c604bafff80",
     "grade": false,
     "grade_id": "cell-2a87bac69a0e8438",
     "locked": false,
     "schema_version": 3,
     "solution": true
    }
   },
   "outputs": [
    {
     "name": "stdout",
     "output_type": "stream",
     "text": [
      "Least Square Fit (no prior):\n",
      "  chi2/dof [dof] = 0.33 [2]    Q = 0.72    \n",
      "\n",
      "Parameters:\n",
      "              0   0.445 (55)     [ 0.5 +- inf ]  \n",
      "              1    2.20 (32)     [   3 +- inf ]  \n",
      "\n",
      "Settings:\n",
      "  svdcut/n = 1e-12/0    tol = (1e-08,1e-10*,1e-10)    (itns/time = 2/0.0)\n",
      "  fitter = scipy_least_squares    method = trf\n",
      "\n"
     ]
    }
   ],
   "source": [
    "fit_result = lsqfit.nonlinear_fit(data=(f,Vcut), fcn=PE_model, p0=a0)\n",
    "print(fit_result)"
   ]
  },
  {
   "cell_type": "markdown",
   "metadata": {
    "deletable": false,
    "editable": false,
    "nbgrader": {
     "cell_type": "markdown",
     "checksum": "2f2d1bed8704ec3d65143f211c707ea6",
     "grade": false,
     "grade_id": "cell-203d034945c25ed2",
     "locked": true,
     "schema_version": 3,
     "solution": false
    }
   },
   "source": [
    "There's lots of information to unpack there.  The most important features in the report are:\n",
    "\n",
    "* At the top, the reduced $\\chi^2 / N_{\\rm dof}$, following by $N_{\\rm dof}$ in square brackets.  Finally, the quantity $Q$ is the p-value of the fit: the probability that we would draw the given experimental data if the best-fit model is true.  (This should be a good fit: reduced $\\chi^2$ should be smaller than 1, and $Q$ should be pretty large.)\n",
    "* Under the heading \"Parameters:\" on the left, the best-fit value with error bar for each parameter.  On the right, the initial values of each parameter.  (The \"error bar\" on our initial guess is infinity, because our guess had no error.  If we had __prior information__ about one or more parameters, we could impose that as a prior constraint on the fit, one of `lsqfit`'s advanced features.)\n",
    "\n",
    "The information under \"Settings:\" mostly has to do with the internal workings of the fitter, and can be safely ignored unless you are running into numerical problems with doing the fit itself.\n",
    "\n",
    "Note that although calling `print(fit_result)` gives us a nice text-formatted report, `fit_result` itself is actually an object that contains other information in the form of properties (accessed with `.` notation.)  In the cell below, __try accessing the following properties__:\n",
    "\n",
    "* `fit_result.chi2`: Un-reduced value of $\\chi^2$ at best-fit point.\n",
    "* `fit_result.dof`: The number of degrees of freedom.\n",
    "* `fit_result.p`: Array of best-fit parameters as gvars.\n",
    "* `fit_result.x` and `fit_result.y`: The data used in the fit.  (Often useful to use later!)\n",
    "\n",
    "Make and plot an array of __fit residuals__, $r_i = y_i - f(x_i, \\mathbf{a})$, evaluated with the best-fit parameters.  (You may want to normalize by the error bars $y_i$, which you can access using `gv.sdev()` - but the plot will look similar without the normalization.)\n",
    "\n",
    "\n"
   ]
  },
  {
   "cell_type": "code",
   "execution_count": 8,
   "metadata": {
    "deletable": false,
    "nbgrader": {
     "cell_type": "code",
     "checksum": "125bbe1e4ebe4a42f67803cf97b5169c",
     "grade": false,
     "grade_id": "cell-741be1834d204e10",
     "locked": false,
     "schema_version": 3,
     "solution": true
    }
   },
   "outputs": [
    {
     "name": "stdout",
     "output_type": "stream",
     "text": [
      "0.6509595574830891\n",
      "2\n",
      "[0.445(55) 2.20(32)]\n",
      "[5.49  6.879 7.408 8.213] [0.240(40) 0.80(10) 1.20(20) 1.50(25)]\n",
      "[0.07(12) -0.55(72) 0.55(88) 0.21(84)]\n"
     ]
    },
    {
     "data": {
      "text/plain": [
       "<ErrorbarContainer object of 3 artists>"
      ]
     },
     "execution_count": 8,
     "metadata": {},
     "output_type": "execute_result"
    },
    {
     "data": {
      "image/png": "[encoded data removed]",
      "text/plain": [
       "<Figure size 432x288 with 1 Axes>"
      ]
     },
     "metadata": {
      "needs_background": "light"
     },
     "output_type": "display_data"
    }
   ],
   "source": [
    "print(fit_result.chi2)\n",
    "print(fit_result.dof)\n",
    "print(fit_result.p)\n",
    "print(fit_result.x, fit_result.y)\n",
    "\n",
    "resids = (fit_result.y - PE_model(fit_result.x, fit_result.p)) / gv.sdev(fit_result.y)\n",
    "print(resids)\n",
    "plot_gvar(f, resids)"
   ]
  },
  {
   "cell_type": "markdown",
   "metadata": {
    "deletable": false,
    "editable": false,
    "nbgrader": {
     "cell_type": "markdown",
     "checksum": "c02ea28709c519ce2fa85454842d11be",
     "grade": false,
     "grade_id": "cell-bf802a996f55ebcb",
     "locked": true,
     "schema_version": 3,
     "solution": false
    }
   },
   "source": [
    "Next, __convert your fit results to an estimate for Planck's constant__.  By working in volts we've been implicitly dividing everything by the electron charge $e = 1.602 \\times 10^{-19}$ C, so you'll need to multiply the parameters through by that.  Don't forget to account for the factor of $10^{14}$ we pulled out of the frequency data!  The real value is\n",
    "\n",
    "$$\n",
    "h = 6.626 \\times 10^{-34}\\ \\rm{J} \\cdot \\rm{s}\n",
    "$$\n",
    "\n",
    "How close is your result?  Is the more precise value of $h$ within the error bar of your estimate?\n",
    "\n",
    "Using `fit_result.p`, calculate the ratio of your two model parameters, i.e. calculate $\\Phi / h$.  Not worrying about units or the $10^{14}$, if I go back to the fit itself and take the ratio with standard error propagation, I find `4.96(94)`.  But if you use `fit_result.p`, __the error on the ratio should be much smaller.__ Why?"
   ]
  },
  {
   "cell_type": "code",
   "execution_count": 9,
   "metadata": {
    "deletable": false,
    "nbgrader": {
     "cell_type": "code",
     "checksum": "4ffd56e718b89394de1b40f37b5c8a22",
     "grade": false,
     "grade_id": "cell-2ff4b1bd469239ed",
     "locked": false,
     "schema_version": 3,
     "solution": true
    }
   },
   "outputs": [
    {
     "name": "stdout",
     "output_type": "stream",
     "text": [
      "7.12(88)e-34\n",
      "4.96(13)\n",
      "0.9935569965627223\n"
     ]
    }
   ],
   "source": [
    "print(fit_result.p[0] * 1.602e-19 * 1e-14)\n",
    "print(fit_result.p[1] / fit_result.p[0])\n",
    "print(gv.corr(fit_result.p[0], fit_result.p[1]))  \n",
    "# fit_result.p knows about the large correlation between phi and h!"
   ]
  },
  {
   "cell_type": "markdown",
   "metadata": {
    "deletable": false,
    "editable": false,
    "nbgrader": {
     "cell_type": "markdown",
     "checksum": "f4376c3e5e958578b5a56cd759d7c288",
     "grade": false,
     "grade_id": "cell-1447b8c4b810e368",
     "locked": true,
     "schema_version": 3,
     "solution": false
    }
   },
   "source": [
    "Finally, implement the two alternative models, constant and quadratic:\n",
    "\n",
    "$$\n",
    "eV_{\\rm stop} = C \\\\\n",
    "eV_{\\rm stop} = kf^2 - \\Phi\n",
    "$$\n",
    "\n",
    "Run the nonlinear fits for both cases against the same data.  How do the p-values (\"Q\"-values) compare to the linear model?  Can you reject either or both alternative models based on this data set?"
   ]
  },
  {
   "cell_type": "code",
   "execution_count": 10,
   "metadata": {
    "deletable": false,
    "nbgrader": {
     "cell_type": "code",
     "checksum": "b709786d7100d852b66be785f0ec3563",
     "grade": false,
     "grade_id": "cell-3ba11e4e1f82facc",
     "locked": false,
     "schema_version": 3,
     "solution": true
    }
   },
   "outputs": [
    {
     "name": "stdout",
     "output_type": "stream",
     "text": [
      "Least Square Fit (no prior):\n",
      "  chi2/dof [dof] = 22 [3]    Q = 2.2e-14    \n",
      "\n",
      "Parameters:\n",
      "              0   0.371 (36)     [   1 +- inf ]  \n",
      "\n",
      "Settings:\n",
      "  svdcut/n = 1e-12/0    tol = (1e-08,1e-10*,1e-10)    (itns/time = 2/0.0)\n",
      "  fitter = scipy_least_squares    method = trf\n",
      "\n",
      "Least Square Fit (no prior):\n",
      "  chi2/dof [dof] = 0.2 [2]    Q = 0.82    \n",
      "\n",
      "Parameters:\n",
      "              0   0.0345 (42)     [   1 +- inf ]  \n",
      "              1     0.80 (15)     [   1 +- inf ]  \n",
      "\n",
      "Settings:\n",
      "  svdcut/n = 1e-12/0    tol = (1e-08,1e-10*,1e-10)    (itns/time = 3/0.0)\n",
      "  fitter = scipy_least_squares    method = trf\n",
      "\n"
     ]
    }
   ],
   "source": [
    "### BEGIN SOLUTION\n",
    "def const_model(f, a):\n",
    "    return a[0]\n",
    "\n",
    "def quad_model(f, a):\n",
    "    return a[0] * f**2 - a[1]\n",
    "    \n",
    "fr_const = lsqfit.nonlinear_fit(data=(f,Vcut), fcn=const_model, p0=[1])\n",
    "print(fr_const)\n",
    "\n",
    "fr_quad = lsqfit.nonlinear_fit(data=(f,Vcut), fcn=quad_model, p0=[1,1])\n",
    "print(fr_quad)\n",
    "\n",
    "\n",
    "## Reject the constant model: p-value is very small, close to zero.\n",
    "## Can't reject the quadratic model, at least with this data set!\n",
    "## (Of course, there are many other photoelectric experiments out there:\n",
    "## we know that the linear model is the correct one.)\n",
    "\n",
    "### END SOLUTION"
   ]
  },
  {
   "cell_type": "markdown",
   "metadata": {
    "deletable": false,
    "editable": false,
    "nbgrader": {
     "cell_type": "markdown",
     "checksum": "b641ba9d2a924fd750c52a04d9b64977",
     "grade": false,
     "grade_id": "cell-384953be1cb9fc4e",
     "locked": true,
     "schema_version": 3,
     "solution": false
    }
   },
   "source": [
    "## T27.2 - Fitting to exponential decay\n",
    "\n",
    "The first exercise was a nice introduction, but linear fits are really easy: they're safe from a lot of the problems that can appear in more general non-linear fits.  Let's step up the difficulty and try to fit an _exponential decay_.\n",
    "\n",
    "The cell below reads in a sequence of random decays - actually, they're generated using the Monte Carlo for radioactive decay from tutorial 22.  The data consists of time (in seconds) and a set of particle counts from repeated trials.  As a reminder, our model for the expected number of particles remaining is:\n",
    "\n",
    "$$\n",
    "N(t) = N_0 e^{-t/\\tau}.\n",
    "$$\n",
    "\n",
    "We have a partial sample of the data, running from 10 to 25 seconds, so we'll need to fit to determine both the size of the initial sample $N_0$ and the lifetime $\\tau$.\n",
    "\n",
    "First, __run the cell below__ to import the data and plot it.  (The data file isn't _too_ complicated, but it might be time-consuming to set up so I've provided the code.)"
   ]
  },
  {
   "cell_type": "code",
   "execution_count": 11,
   "metadata": {
    "deletable": false,
    "editable": false,
    "nbgrader": {
     "cell_type": "code",
     "checksum": "d303cadf6446aaae5906e1afd453d0ae",
     "grade": false,
     "grade_id": "cell-d7719410f00af33e",
     "locked": true,
     "schema_version": 3,
     "solution": false
    }
   },
   "outputs": [
    {
     "name": "stdout",
     "output_type": "stream",
     "text": [
      "[376.6(2.2) 342.0(1.9) 309.7(1.9) 281.3(1.7) 254.6(1.7) 231.8(1.7)\n",
      " 211.3(1.7) 191.4(1.8) 172.9(1.7) 156.9(1.7) 142.8(1.5) 129.8(1.6)\n",
      " 117.8(1.5) 106.5(1.3) 96.0(1.3)]\n"
     ]
    },
    {
     "data": {
      "text/plain": [
       "<ErrorbarContainer object of 3 artists>"
      ]
     },
     "execution_count": 11,
     "metadata": {},
     "output_type": "execute_result"
    },
    {
     "data": {
      "image/png": "[encoded data removed]",
      "text/plain": [
       "<Figure size 432x288 with 1 Axes>"
      ]
     },
     "metadata": {
      "needs_background": "light"
     },
     "output_type": "display_data"
    }
   ],
   "source": [
    "ds = np.genfromtxt('decay_one_dataset.csv')\n",
    "t_data = ds[:,0]\n",
    "decay_data = gv.dataset.avg_data(ds[:,1:].T)\n",
    "print(decay_data)\n",
    "plot_gvar(t_data, decay_data)"
   ]
  },
  {
   "cell_type": "markdown",
   "metadata": {
    "deletable": false,
    "editable": false,
    "nbgrader": {
     "cell_type": "markdown",
     "checksum": "52c55d13697ae061df7edcac42a3bdfd",
     "grade": false,
     "grade_id": "cell-da00b1f63e828e3f",
     "locked": true,
     "schema_version": 3,
     "solution": false
    }
   },
   "source": [
    "Now write a fit model function, then __run the nonlinear fit__ with initial guess $500$ for the initial abundance and $1$ for the lifetime."
   ]
  },
  {
   "cell_type": "code",
   "execution_count": 15,
   "metadata": {
    "deletable": false,
    "nbgrader": {
     "cell_type": "code",
     "checksum": "b9437865ac3a193e36f2b5445a454d27",
     "grade": true,
     "grade_id": "cell-37256385f563f7ec",
     "locked": false,
     "points": 0,
     "schema_version": 3,
     "solution": true
    }
   },
   "outputs": [
    {
     "name": "stdout",
     "output_type": "stream",
     "text": [
      "Least Square Fit (no prior):\n",
      "  chi2/dof [dof] = 2.8e+03 [13]    Q = 0    \n",
      "\n",
      "Parameters:\n",
      "              0                98.7 (1.1)           [ 1000 +- inf ]  \n",
      "              1   -3.40787e+10 +- 2.2e-18           [    1 +- inf ]  \n",
      "\n",
      "Settings:\n",
      "  svdcut/n = 1e-12/0    tol = (1e-08,1e-10,1e-10*)    (itns/time = 53/0.0)\n",
      "  fitter = scipy_least_squares    method = trf\n",
      "\n"
     ]
    }
   ],
   "source": [
    "def fcn_exp_one(t, a):\n",
    "    return a[0] * np.exp(- t / a[1])\n",
    "\n",
    "# My mistake, you actually need 1000 for the initial abundance to see this go wrong!\n",
    "f1 = lsqfit.nonlinear_fit(data=(t_data, decay_data), fcn=fcn_exp_one, p0=[1000.0, 1.])\n",
    "print(f1)"
   ]
  },
  {
   "cell_type": "markdown",
   "metadata": {
    "deletable": false,
    "editable": false,
    "nbgrader": {
     "cell_type": "markdown",
     "checksum": "e838f30752972530ac157213ee7a9a56",
     "grade": false,
     "grade_id": "cell-af834d71aefac3fc",
     "locked": true,
     "schema_version": 3,
     "solution": false
    }
   },
   "source": [
    "You should find that your model is an extremely poor description of the data!  This doesn't mean your model function is wrong; it's actually a symptom of numerical instability, which exponential functions are notorious for.  __Try the fit again in the cell below__, changing the initial guess to 10."
   ]
  },
  {
   "cell_type": "code",
   "execution_count": 16,
   "metadata": {
    "deletable": false,
    "nbgrader": {
     "cell_type": "code",
     "checksum": "37150517b19acc1ad56682786d907863",
     "grade": false,
     "grade_id": "cell-3cd25698ee2aea5f",
     "locked": false,
     "schema_version": 3,
     "solution": true
    }
   },
   "outputs": [
    {
     "name": "stdout",
     "output_type": "stream",
     "text": [
      "Least Square Fit (no prior):\n",
      "  chi2/dof [dof] = 0.85 [13]    Q = 0.61    \n",
      "\n",
      "Parameters:\n",
      "              0   995.5 (7.2)     [ 1000 +- inf ]  \n",
      "              1   10.283 (66)     [   10 +- inf ]  \n",
      "\n",
      "Settings:\n",
      "  svdcut/n = 1e-12/0    tol = (1e-08*,1e-10,1e-10)    (itns/time = 5/0.0)\n",
      "  fitter = scipy_least_squares    method = trf\n",
      "\n"
     ]
    }
   ],
   "source": [
    "f1 = lsqfit.nonlinear_fit(data=(t_data, decay_data), fcn=fcn_exp_one, p0=[1000.0, 10.])\n",
    "print(f1)"
   ]
  },
  {
   "cell_type": "markdown",
   "metadata": {
    "deletable": false,
    "editable": false,
    "nbgrader": {
     "cell_type": "markdown",
     "checksum": "6480496ee59e9c3adb58ec11b63ba580",
     "grade": false,
     "grade_id": "cell-43b4553312eb08cb",
     "locked": true,
     "schema_version": 3,
     "solution": false
    }
   },
   "source": [
    "This is from our model of nitrogen-16, so the correct lifetime is 10.286 seconds and the correct initial sample size was 1000 particles.  Hopefully your fit now agrees with those values and has a good p-value!\n",
    "\n",
    "The numerical instability here is due to the fact that our fitter can end up exploring a region where $\\tau$ is negative, where the model starts to diverge rapidly.  But we know that this is an __unphysical region__; the lifetime can't really be negative!  Fortunately, there's a nice trick we can use.  We re-map our model variables slightly, to\n",
    "\n",
    "$$\n",
    "N(t) = N_0 e^{-t/e^{\\lambda}}\n",
    "$$\n",
    "\n",
    "which is just our original model if we identify\n",
    "\n",
    "$$\n",
    "\\lambda = \\log \\tau.\n",
    "$$\n",
    "\n",
    "But now since we have the exponential, no matter what value $\\lambda$ takes, $\\tau$ is __always positive__!\n",
    "\n",
    "__Write a re-mapped model function below__, then re-try the fit with a _bad_ initial guess (or multiple bad guesses) and see how the convergence to the right answer has improved."
   ]
  },
  {
   "cell_type": "code",
   "execution_count": 17,
   "metadata": {
    "deletable": false,
    "nbgrader": {
     "cell_type": "code",
     "checksum": "4d24cea7bc8572ca39f155d2c9da1c13",
     "grade": false,
     "grade_id": "cell-7a8f22ba74bb4bb7",
     "locked": false,
     "schema_version": 3,
     "solution": true
    }
   },
   "outputs": [
    {
     "name": "stdout",
     "output_type": "stream",
     "text": [
      "Least Square Fit (no prior):\n",
      "  chi2/dof [dof] = 0.85 [13]    Q = 0.61    \n",
      "\n",
      "Parameters:\n",
      "              0   995.5 (7.2)     [   1 +- inf ]  \n",
      "              1   2.3305 (64)     [   0 +- inf ]  \n",
      "\n",
      "Settings:\n",
      "  svdcut/n = 1e-12/0    tol = (1e-08,1e-10,1e-10*)    (itns/time = 57/0.0)\n",
      "  fitter = scipy_least_squares    method = trf\n",
      "\n",
      "10.283(66)\n"
     ]
    }
   ],
   "source": [
    "def fcn_exp_one_map(t, a):\n",
    "    return a[0] * np.exp(- t / np.exp(a[1]))\n",
    "\n",
    "f1 = lsqfit.nonlinear_fit(data=(t_data, decay_data), fcn=fcn_exp_one_map, p0=[1.0, np.log(1.)])\n",
    "print(f1)\n",
    "print(np.exp(f1.p[1]))"
   ]
  },
  {
   "cell_type": "markdown",
   "metadata": {
    "deletable": false,
    "editable": false,
    "nbgrader": {
     "cell_type": "markdown",
     "checksum": "22139ad6b6bb0d9963ece1721c07ce00",
     "grade": false,
     "grade_id": "cell-d1e5647970f00e54",
     "locked": true,
     "schema_version": 3,
     "solution": false,
     "task": false
    }
   },
   "source": [
    "### Optional challenge\n",
    "\n",
    "I included another file `decay_two_dataset.csv`, which contains data generated from a model which is a _sum_ of two exponentials,\n",
    "\n",
    "$$\n",
    "N(t) = N_1 e^{-t/\\tau_1} + N_2 e^{-t/\\tau_2}\n",
    "$$\n",
    "\n",
    "This is a notoriously hard problem in nonlinear model fitting.  Can you fit the data and get both lifetimes?"
   ]
  },
  {
   "cell_type": "code",
   "execution_count": 62,
   "metadata": {
    "deletable": false,
    "nbgrader": {
     "cell_type": "code",
     "checksum": "6a30bccd5c941f30e074152345c63cb8",
     "grade": false,
     "grade_id": "cell-ef7811e52d7b3a99",
     "locked": false,
     "schema_version": 3,
     "solution": true,
     "task": false
    }
   },
   "outputs": [
    {
     "name": "stdout",
     "output_type": "stream",
     "text": [
      "[491.1(2.3) 436.2(2.2) 390.3(2.1) 350.7(2.1) 314.5(2.1) 281.6(2.1)\n",
      " 253.6(2.1) 228.1(2.0) 204.2(1.8) 184.4(1.6) 166.7(1.5) 150.0(1.4)\n",
      " 134.4(1.4) 121.3(1.4) 109.8(1.4)]\n",
      "Least Square Fit (no prior):\n",
      "  chi2/dof [dof] = 1.3 [11]    Q = 0.24    \n",
      "\n",
      "Parameters:\n",
      "              0   13.7 (3.5)     [  8.00637 +- inf ]  \n",
      "              1   -0.14 (32)     [  2.25129 +- inf ]  \n",
      "              2   7.234 (11)     [  6.90776 +- inf ]  \n",
      "              3   2.149 (31)     [ 0.693147 +- inf ]  \n",
      "\n",
      "Settings:\n",
      "  svdcut/n = 1e-12/0    tol = (1e-08,1e-10,1e-10*)    (itns/time = 37/0.0)\n",
      "  fitter = scipy_least_squares    method = trf\n",
      "\n",
      "923389(3259238) 1385(15) 0.87(28) 9.446(67)\n"
     ]
    },
    {
     "data": {
      "image/png": "[encoded data removed]",
      "text/plain": [
       "<Figure size 432x288 with 1 Axes>"
      ]
     },
     "metadata": {
      "needs_background": "light"
     },
     "output_type": "display_data"
    }
   ],
   "source": [
    "ds2 = np.genfromtxt('decay_two_dataset.csv')\n",
    "t_data = ds2[:,0]\n",
    "decay_data_2 = gv.dataset.avg_data(ds2[:,1:].T)\n",
    "print(decay_data_2)\n",
    "plot_gvar(t_data, decay_data_2)\n",
    "\n",
    "# Looks similar...\n",
    "\n",
    "def fcn_exp_two_map(t, a):\n",
    "    return np.exp(a[0]) * np.exp(- t / np.exp(a[1])) + np.exp(a[2]) * np.exp(-t / (np.exp(a[1]) + np.exp(a[3])))\n",
    "\n",
    "\n",
    "# Lots of tweaking initial guesses needed to get this anywhere close to working!\n",
    "\n",
    "f2 = lsqfit.nonlinear_fit(data=(t_data, decay_data_2), fcn=fcn_exp_two_map, \n",
    "                          p0=[np.log(3000.0), np.log(9.5), np.log(1000.0), np.log(2.)])\n",
    "print(f2)\n",
    "\n",
    "N1, tau1, N2, tau2 = np.exp(f2.p[0]), np.exp(f2.p[1]), np.exp(f2.p[2]), np.exp(f2.p[1]) + np.exp(f2.p[3])\n",
    "print(N1, N2, tau1, tau2)\n",
    "\n",
    "# One of the lifetimes is about 9.4 seconds...that's the best I managed to do!  The other one is\n",
    "# very difficult to resolve."
   ]
  }
 ],
 "metadata": {
  "kernelspec": {
   "display_name": "Python 3",
   "language": "python",
   "name": "python3"
  },
  "language_info": {
   "codemirror_mode": {
    "name": "ipython",
    "version": 3
   },
   "file_extension": ".py",
   "mimetype": "text/x-python",
   "name": "python",
   "nbconvert_exporter": "python",
   "pygments_lexer": "ipython3",
   "version": "3.6.8"
  }
 },
 "nbformat": 4,
 "nbformat_minor": 2
}
