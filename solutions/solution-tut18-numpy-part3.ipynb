{
 "cells": [
  {
   "cell_type": "markdown",
   "metadata": {
    "deletable": false,
    "editable": false,
    "nbgrader": {
     "cell_type": "markdown",
     "checksum": "a23802d9dd2ceffbb1032c84e0f38211",
     "grade": false,
     "grade_id": "cell-100899e0deea9789",
     "locked": true,
     "schema_version": 3,
     "solution": false
    }
   },
   "source": [
    "# Tutorial 18: NumPy, Part III\n",
    "\n",
    "## PHYS 2600, Spring 2019"
   ]
  },
  {
   "cell_type": "code",
   "execution_count": 1,
   "metadata": {
    "deletable": false,
    "editable": false,
    "nbgrader": {
     "cell_type": "code",
     "checksum": "34da1d46cfb0302061b8c3b0bd35d53c",
     "grade": false,
     "grade_id": "cell-e5acb32517484ab7",
     "locked": true,
     "schema_version": 3,
     "solution": false
    }
   },
   "outputs": [],
   "source": [
    "# Import cell\n",
    "\n",
    "%matplotlib inline\n",
    "import numpy as np\n",
    "import matplotlib.pyplot as plt"
   ]
  },
  {
   "cell_type": "markdown",
   "metadata": {
    "deletable": false,
    "editable": false,
    "nbgrader": {
     "cell_type": "markdown",
     "checksum": "333c59ce1a2307113c7aa69e783cc0b2",
     "grade": false,
     "grade_id": "cell-67f24b91ffdf0b72",
     "locked": true,
     "schema_version": 3,
     "solution": false
    }
   },
   "source": [
    "## T18.1 - Up to higher dimensions\n",
    "\n",
    "Let's begin working with some higher-dimensional arrays!"
   ]
  },
  {
   "cell_type": "markdown",
   "metadata": {
    "deletable": false,
    "editable": false,
    "nbgrader": {
     "cell_type": "markdown",
     "checksum": "eeb8e469fb1d97881a2bf41a9ba59b0e",
     "grade": false,
     "grade_id": "cell-f58c2c4155fd5bf9",
     "locked": true,
     "schema_version": 3,
     "solution": false
    }
   },
   "source": [
    "### Part A\n",
    "\n",
    "The following 2-dimensional array contains a set of velocity measurements $(v_x, v_y, v_z)$.  \n"
   ]
  },
  {
   "cell_type": "code",
   "execution_count": 2,
   "metadata": {
    "deletable": false,
    "editable": false,
    "nbgrader": {
     "cell_type": "code",
     "checksum": "298007393cc7262535e4dcb168dec126",
     "grade": false,
     "grade_id": "cell-79c3fd450efaf020",
     "locked": true,
     "schema_version": 3,
     "solution": false,
     "task": false
    }
   },
   "outputs": [],
   "source": [
    "velo = np.array([\n",
    "    [2.7, 1.1, -0.4],\n",
    "    [1.9, 1.9, 3.7],\n",
    "    [-0.4, 0.0, -0.1],\n",
    "    [1.5, -1.9, -2.7],\n",
    "    [3.3, 0.4, 1.5],\n",
    "    [7.1, -0.9, 1.3],\n",
    "])"
   ]
  },
  {
   "cell_type": "markdown",
   "metadata": {
    "deletable": false,
    "editable": false,
    "nbgrader": {
     "cell_type": "markdown",
     "checksum": "9a4802f50302694f79438a7341e8e1f4",
     "grade": false,
     "grade_id": "cell-7479a3f0c006485e",
     "locked": true,
     "schema_version": 3,
     "solution": false
    }
   },
   "source": [
    "__Use two-dimensional indexing, masks, and slices to carry out the following operations:__\n",
    "\n",
    "* Get the third $v_z$ measurement."
   ]
  },
  {
   "cell_type": "code",
   "execution_count": 3,
   "metadata": {
    "deletable": false,
    "nbgrader": {
     "cell_type": "code",
     "checksum": "988f72a28fd2c28f8be15df9ab02def8",
     "grade": true,
     "grade_id": "cell-5510eb23da1979e7",
     "locked": false,
     "points": 2,
     "schema_version": 3,
     "solution": true,
     "task": false
    }
   },
   "outputs": [
    {
     "data": {
      "text/plain": [
       "-0.1"
      ]
     },
     "execution_count": 3,
     "metadata": {},
     "output_type": "execute_result"
    }
   ],
   "source": [
    "velo[2,2]"
   ]
  },
  {
   "cell_type": "markdown",
   "metadata": {
    "deletable": false,
    "editable": false,
    "nbgrader": {
     "cell_type": "markdown",
     "checksum": "532da717afa61a701f6c871921a5c30d",
     "grade": false,
     "grade_id": "cell-926878e606fe5214",
     "locked": true,
     "schema_version": 3,
     "solution": false
    }
   },
   "source": [
    "* Get the last three $v_x$ measurements as an array."
   ]
  },
  {
   "cell_type": "code",
   "execution_count": 4,
   "metadata": {
    "deletable": false,
    "nbgrader": {
     "cell_type": "code",
     "checksum": "76764ce7a4b344018223f44f6cefe234",
     "grade": false,
     "grade_id": "cell-cdd6b602fc5017c6",
     "locked": false,
     "schema_version": 3,
     "solution": true,
     "task": false
    }
   },
   "outputs": [
    {
     "data": {
      "text/plain": [
       "array([1.5, 3.3, 7.1])"
      ]
     },
     "execution_count": 4,
     "metadata": {},
     "output_type": "execute_result"
    }
   ],
   "source": [
    "velo[3:,0]"
   ]
  },
  {
   "cell_type": "markdown",
   "metadata": {
    "deletable": false,
    "editable": false,
    "nbgrader": {
     "cell_type": "markdown",
     "checksum": "06fc3667b39685021a9d16ad4c6f1a58",
     "grade": false,
     "grade_id": "cell-60dc32416dd3e1c0",
     "locked": true,
     "schema_version": 3,
     "solution": false,
     "task": false
    }
   },
   "source": [
    "* Get an array containing all rows where the speed in the $y$-direction is __negative__.\n",
    "\n",
    "_(Hint: this requires a row mask!  Look back at the lecture notes to see how this works...)_"
   ]
  },
  {
   "cell_type": "code",
   "execution_count": 5,
   "metadata": {
    "deletable": false,
    "nbgrader": {
     "cell_type": "code",
     "checksum": "f96864e12fb60d6e85fdfe70bd994e81",
     "grade": false,
     "grade_id": "cell-33c83f328d3d420b",
     "locked": false,
     "schema_version": 3,
     "solution": true,
     "task": false
    }
   },
   "outputs": [
    {
     "name": "stdout",
     "output_type": "stream",
     "text": [
      "[False False False  True False  True]\n"
     ]
    },
    {
     "data": {
      "text/plain": [
       "array([[ 1.5, -1.9, -2.7],\n",
       "       [ 7.1, -0.9,  1.3]])"
      ]
     },
     "execution_count": 5,
     "metadata": {},
     "output_type": "execute_result"
    }
   ],
   "source": [
    "# Mask for rows where vy is negative\n",
    "row_mask = velo[:,1] < 0\n",
    "print(row_mask)\n",
    "\n",
    "# Use the mask on the array\n",
    "velo[row_mask,:]"
   ]
  },
  {
   "cell_type": "markdown",
   "metadata": {
    "deletable": false,
    "editable": false,
    "nbgrader": {
     "cell_type": "markdown",
     "checksum": "8102d40fc25d4a9fdd265ec130159bf5",
     "grade": false,
     "grade_id": "cell-a8b53c409a863193",
     "locked": true,
     "schema_version": 3,
     "solution": false
    }
   },
   "source": [
    "### Part B\n",
    "\n",
    "Use `reshape` and `arange` to make a grid of numbers from 1-100, with 10 numbers in each row - `print` it to see that you got it right!"
   ]
  },
  {
   "cell_type": "code",
   "execution_count": 7,
   "metadata": {
    "deletable": false,
    "nbgrader": {
     "cell_type": "code",
     "checksum": "43be638b018ba0df8109929c3b188fe2",
     "grade": true,
     "grade_id": "cell-e5a53fa3388e70a7",
     "locked": false,
     "points": 0,
     "schema_version": 3,
     "solution": true
    }
   },
   "outputs": [
    {
     "name": "stdout",
     "output_type": "stream",
     "text": [
      "[[  1   2   3   4   5   6   7   8   9  10]\n",
      " [ 11  12  13  14  15  16  17  18  19  20]\n",
      " [ 21  22  23  24  25  26  27  28  29  30]\n",
      " [ 31  32  33  34  35  36  37  38  39  40]\n",
      " [ 41  42  43  44  45  46  47  48  49  50]\n",
      " [ 51  52  53  54  55  56  57  58  59  60]\n",
      " [ 61  62  63  64  65  66  67  68  69  70]\n",
      " [ 71  72  73  74  75  76  77  78  79  80]\n",
      " [ 81  82  83  84  85  86  87  88  89  90]\n",
      " [ 91  92  93  94  95  96  97  98  99 100]]\n"
     ]
    }
   ],
   "source": [
    "grid = np.arange(1,101).reshape(10,10)\n",
    "print(grid)"
   ]
  },
  {
   "cell_type": "markdown",
   "metadata": {
    "deletable": false,
    "editable": false,
    "nbgrader": {
     "cell_type": "markdown",
     "checksum": "64d3c2e87422f8d29260ee4cf411f246",
     "grade": false,
     "grade_id": "cell-aaf4b4517ffc54c3",
     "locked": true,
     "schema_version": 3,
     "solution": false
    }
   },
   "source": [
    "Now, use a Boolean mask to set all __multiples of 2__ (even numbers) to -2, all __multiples of 3__ to -3, and all __multiples of 5__ to -5.\n",
    "\n",
    "_(Hint: instead of doing everything at once, maybe start by producing a mask_ `even_mask`, _and just test it out by using it to print all the multiples of 2 in your array.)_\n",
    "\n",
    "_(Hint: remember that `%` or `np.mod()` are what you want to test for multiples.  Remember that a mask has to be a Boolean array, explicitly; if you create an array of 0/1 instead of False/True, you'll get confusing results!)_\n",
    "\n"
   ]
  },
  {
   "cell_type": "code",
   "execution_count": 8,
   "metadata": {
    "deletable": false,
    "nbgrader": {
     "cell_type": "code",
     "checksum": "8939b39bc72ac512bbb993e1f887b632",
     "grade": true,
     "grade_id": "cell-05355a6a4ec8c196",
     "locked": false,
     "points": 0,
     "schema_version": 3,
     "solution": true
    }
   },
   "outputs": [
    {
     "name": "stdout",
     "output_type": "stream",
     "text": [
      "[[ 1 -2 -3 -2 -5 -2  7 -2 -3 -2]\n",
      " [11 -2 13 -2 -3 -2 17 -2 19 -2]\n",
      " [-3 -2 23 -2 -5 -2 -3 -2 29 -2]\n",
      " [31 -2 -3 -2 -5 -2 37 -2 -3 -2]\n",
      " [41 -2 43 -2 -3 -2 47 -2 49 -2]\n",
      " [-3 -2 53 -2 -5 -2 -3 -2 59 -2]\n",
      " [61 -2 -3 -2 -5 -2 67 -2 -3 -2]\n",
      " [71 -2 73 -2 -3 -2 77 -2 79 -2]\n",
      " [-3 -2 83 -2 -5 -2 -3 -2 89 -2]\n",
      " [91 -2 -3 -2 -5 -2 97 -2 -3 -2]]\n",
      "[ 1  7 11 13 17 19 23 29 31 37 41 43 47 49 53 59 61 67 71 73 77 79 83 89\n",
      " 91 97]\n"
     ]
    }
   ],
   "source": [
    "grid[(grid % 2) == 0] = -2\n",
    "grid[(grid % 3) == 0] = -3\n",
    "grid[(grid % 5) == 0] = -5\n",
    "print(grid)\n",
    "print(grid[grid>0])"
   ]
  },
  {
   "cell_type": "markdown",
   "metadata": {
    "deletable": false,
    "editable": false,
    "nbgrader": {
     "cell_type": "markdown",
     "checksum": "12d26f4614e6c7aa04ff4f52b2f8b38b",
     "grade": false,
     "grade_id": "cell-d9aa9a65e6401753",
     "locked": true,
     "schema_version": 3,
     "solution": false
    }
   },
   "source": [
    "If you now `print` all entries in your array which are _positive_, you'll be left with a list of numbers which are relatively prime to 2, 3, and 5.  The first entry in this list is 7, which is the next prime number; if we repeat our mask procedure to remove multiples of 7, then we'll get the next prime, and so on.  This is the start of a simple and ancient prime-number finding algorithm, the [__Sieve of Eratosthenes__](https://en.wikipedia.org/wiki/Sieve_of_Eratosthenes)."
   ]
  },
  {
   "cell_type": "code",
   "execution_count": 9,
   "metadata": {
    "deletable": false,
    "nbgrader": {
     "cell_type": "code",
     "checksum": "d334a9158ac3b077fcdf645a69feaf3c",
     "grade": false,
     "grade_id": "cell-6d3e79309e90462f",
     "locked": false,
     "schema_version": 3,
     "solution": true
    }
   },
   "outputs": [
    {
     "name": "stdout",
     "output_type": "stream",
     "text": [
      "[ 1  7 11 13 17 19 23 29 31 37 41 43 47 49 53 59 61 67 71 73 77 79 83 89\n",
      " 91 97]\n"
     ]
    }
   ],
   "source": [
    "## YOUR CODE HERE\n",
    "print(grid[grid>0])\n",
    "\n"
   ]
  },
  {
   "cell_type": "markdown",
   "metadata": {
    "deletable": false,
    "editable": false,
    "nbgrader": {
     "cell_type": "markdown",
     "checksum": "c9ba4bdae9827ca6c0ae68cfaf5e17dd",
     "grade": false,
     "grade_id": "cell-6ab935221971955c",
     "locked": true,
     "schema_version": 3,
     "solution": false
    }
   },
   "source": [
    "## T18.2 - Down to lower dimensions\n",
    "\n",
    "Now let's do some reduction exercises!"
   ]
  },
  {
   "cell_type": "markdown",
   "metadata": {
    "deletable": false,
    "editable": false,
    "nbgrader": {
     "cell_type": "markdown",
     "checksum": "f5bd5550acf6ddcca5cca3da40b19b40",
     "grade": false,
     "grade_id": "cell-b3090f7a6506c7e8",
     "locked": true,
     "schema_version": 3,
     "solution": false
    }
   },
   "source": [
    "### Part A\n",
    "\n",
    "Use a mask with `np.sum()` or `np.count_nonzero()` to count how many numbers are greater than 100 in the array below.\n",
    "\n",
    "_(Note: Since_ `count_nonzero` _is more specialized, it tends to be faster than `sum`.  Otherwise, they accomplish  exactly the same task on a mask: finding how many `True` values there are.)_"
   ]
  },
  {
   "cell_type": "code",
   "execution_count": 10,
   "metadata": {
    "deletable": false,
    "editable": false,
    "nbgrader": {
     "cell_type": "code",
     "checksum": "4187ef5ad0aefef0535e1fc5a6556400",
     "grade": false,
     "grade_id": "cell-566df8da5f6af761",
     "locked": true,
     "schema_version": 3,
     "solution": false
    }
   },
   "outputs": [],
   "source": [
    "\n",
    "a = np.array([ \n",
    "    [32.64173429, 191.85703207,  28.07613219,  93.6758794 ,\n",
    "     137.11334151,  98.49036171,  16.21920297,  73.11380953,\n",
    "     198.45163689,  95.30971938, 105.18180757,  58.69108781,],\n",
    "    [64.34112696, 120.99784718,  79.40494167, 150.56049688,\n",
    "     75.27558455, 169.26085959, 119.46765466,   5.15243732,\n",
    "     63.46223024,  13.83497847,  76.09363069,  15.07392756,],\n",
    "    [98.81659688, 127.66361968,  25.18028895,   1.80201359,\n",
    "     41.11615739,  22.39522975,  76.92570925,  45.42721332,\n",
    "     9.30257269, 103.4348637 , 159.5006543 ,  52.82242142,],\n",
    "    [115.98655928, 146.78847103, 126.29624116,  35.91681471,\n",
    "     26.33847396,  38.53213651, 111.75034001, 161.22160872,\n",
    "     174.9432789 , 158.26168031, 143.29047058, 155.76391194,],\n",
    "    [31.40801211,  62.97866379,  95.74896593,  22.0901773 ,\n",
    "     58.7692522 ,  90.20673554, 183.78983523, 198.26328673,\n",
    "     137.14519089, 194.93600581,  71.14449439,  65.56166131,],\n",
    "])\n"
   ]
  },
  {
   "cell_type": "code",
   "execution_count": 11,
   "metadata": {
    "deletable": false,
    "nbgrader": {
     "cell_type": "code",
     "checksum": "d5f1b23165ba527280306b6050b3c000",
     "grade": false,
     "grade_id": "cell-eef8104bb55edd95",
     "locked": false,
     "schema_version": 3,
     "solution": true,
     "task": false
    }
   },
   "outputs": [
    {
     "name": "stdout",
     "output_type": "stream",
     "text": [
      "24\n",
      "24\n"
     ]
    }
   ],
   "source": [
    "gt_100 = np.count_nonzero(a > 100)\n",
    "print(gt_100)\n",
    "\n",
    "# Or just use sum:\n",
    "print(np.sum(a > 100))"
   ]
  },
  {
   "cell_type": "markdown",
   "metadata": {
    "deletable": false,
    "editable": false,
    "nbgrader": {
     "cell_type": "markdown",
     "checksum": "a8a536f93e30665f600b8de27e1fb1af",
     "grade": false,
     "grade_id": "cell-d19b0ad9e08ac274",
     "locked": true,
     "schema_version": 3,
     "solution": false,
     "task": false
    }
   },
   "source": [
    "In the last part, we ignored the two-dimensional structure of the array, and just asked about individual numbers.  Now let's try a more structured question: __how many rows in `a` have an average greater than 100?__  Same question in the other axis: __how many columns in `a` have an average greater than 100?__\n",
    "\n",
    "_(Hint: use `np.mean()` to take the average, and the `axis=` keyword to do it over rows or columns.  The array `a` has 5 rows and 12 columns, so if you're not sure which axis is which, you can look at the size of the array of averages produced by `np.mean()`.)_"
   ]
  },
  {
   "cell_type": "code",
   "execution_count": 12,
   "metadata": {
    "deletable": false,
    "nbgrader": {
     "cell_type": "code",
     "checksum": "5f4a794bd93222947d2ae3ab9164091e",
     "grade": false,
     "grade_id": "cell-7970164e9fed1b63",
     "locked": false,
     "schema_version": 3,
     "solution": true,
     "task": false
    }
   },
   "outputs": [
    {
     "name": "stdout",
     "output_type": "stream",
     "text": [
      "5\n",
      "2\n",
      "12\n",
      "5\n"
     ]
    }
   ],
   "source": [
    "row_avg = np.mean(a, axis=1)  # Reduce axis 1 (columns), leaving axis 0 (rows)\n",
    "print(len(row_avg))  # Should be 5 rows\n",
    "print(np.sum(row_avg > 100))\n",
    "\n",
    "col_avg = np.mean(a, axis=0)  # Reduce axis 0 (rows), leaving axis 1 (columns)\n",
    "print(len(col_avg))  # Should be 12 columns\n",
    "print(np.sum(col_avg > 100))"
   ]
  },
  {
   "cell_type": "markdown",
   "metadata": {
    "deletable": false,
    "editable": false,
    "nbgrader": {
     "cell_type": "markdown",
     "checksum": "c8317dfa4edcb78306498b6c892bcbad",
     "grade": false,
     "grade_id": "cell-6869608dc6b64a89",
     "locked": true,
     "schema_version": 3,
     "solution": false
    }
   },
   "source": [
    "### Part B\n",
    "\n",
    "Going back to the `velo` array from problem 1, get an array containing all rows where _all_ components of $v$ are __positive__.\n",
    "\n",
    "_(Hint: this requires the `np.all` reduction.)_"
   ]
  },
  {
   "cell_type": "code",
   "execution_count": 13,
   "metadata": {
    "deletable": false,
    "nbgrader": {
     "cell_type": "code",
     "checksum": "c490a8285c99b0c11ae6a4b14d21c48e",
     "grade": false,
     "grade_id": "cell-08cbcf4d139f7fde",
     "locked": false,
     "schema_version": 3,
     "solution": true,
     "task": false
    }
   },
   "outputs": [
    {
     "name": "stdout",
     "output_type": "stream",
     "text": [
      "[False  True False False  True False]\n"
     ]
    },
    {
     "data": {
      "text/plain": [
       "array([[1.9, 1.9, 3.7],\n",
       "       [3.3, 0.4, 1.5]])"
      ]
     },
     "execution_count": 13,
     "metadata": {},
     "output_type": "execute_result"
    }
   ],
   "source": [
    "# Row mask using np.all to test if all entries are positive\n",
    "pos_mask = np.all(velo > 0, axis=1)\n",
    "print(pos_mask)\n",
    "\n",
    "# Apply the mask\n",
    "velo[pos_mask,:]"
   ]
  },
  {
   "cell_type": "markdown",
   "metadata": {
    "deletable": false,
    "editable": false,
    "nbgrader": {
     "cell_type": "markdown",
     "checksum": "d6e6b237d6a6a72a0685ad166d524e82",
     "grade": false,
     "grade_id": "cell-0aabefd6ff81cacb",
     "locked": true,
     "schema_version": 3,
     "solution": false
    }
   },
   "source": [
    "## T18.3 - Higher-dimensional plots\n",
    "\n",
    "Now that we know how to manipulate higher-dimensional arrays, there are some new and interesting kinds of plots that we're prepared to make.\n",
    "\n",
    "One thing we _won't_ look at in this tutorial is three-dimensional plotting.  The simplest kind of 3D plot works very similarly to ordinary 2D plotting, except we just give three arrays for x,y,z.  This doesn't need any of the new array structures we've learned to use.  If you want to learn about 3D plotting in Matplotlib, [here's a nice tour of some of the more useful kinds of plots available](https://jakevdp.github.io/PythonDataScienceHandbook/04.12-three-dimensional-plotting.html).\n",
    "\n",
    "Instead, we'll try contour and vector field plots, which add a third dimension as a color or a direction.\n",
    "\n",
    "### Part A - Making grids with NumPy\n",
    "\n",
    "Both contour and vector field plots are ways to visualize a _two-dimensional_ function, i.e. a function of the form $F(x,y)$.  To see what sort of numerical inputs this requires, let's remind ourselves how the regular `plt.plot` function works.\n",
    "\n",
    "Suppose we want to plot the single-variable function $f(x) = x^2$ over the interval $x \\in [0,2]$.  The procedure we follow is:\n",
    "\n",
    "* Create a discrete grid of points $\\{x_i\\}$ over the interval $[0,2]$\n",
    "* Evaluate the function on our grid, giving another discrete set of points $\\{y_i = f(x_i)\\}$\n",
    "* Give these matching sets of points to `plt.plot`, which draws lines between each point $(x_i, y_i)$ and the next.\n",
    "\n",
    "Here's the code corresponding to that example:\n"
   ]
  },
  {
   "cell_type": "code",
   "execution_count": 14,
   "metadata": {
    "deletable": false,
    "editable": false,
    "nbgrader": {
     "cell_type": "code",
     "checksum": "dcea697f70ffa69d7d77adcca0df251d",
     "grade": false,
     "grade_id": "cell-3a5dedd18efde622",
     "locked": true,
     "schema_version": 3,
     "solution": false,
     "task": false
    }
   },
   "outputs": [
    {
     "data": {
      "text/plain": [
       "[<matplotlib.lines.Line2D at 0x7f83eb82ab00>]"
      ]
     },
     "execution_count": 14,
     "metadata": {},
     "output_type": "execute_result"
    },
    {
     "data": {
      "image/png": "[encoded data removed]",
      "text/plain": [
       "<Figure size 432x288 with 1 Axes>"
      ]
     },
     "metadata": {
      "needs_background": "light"
     },
     "output_type": "display_data"
    }
   ],
   "source": [
    "x = np.linspace(0, 2, 100)\n",
    "y = x**2\n",
    "\n",
    "plt.plot(x, y)"
   ]
  },
  {
   "cell_type": "markdown",
   "metadata": {
    "deletable": false,
    "editable": false,
    "nbgrader": {
     "cell_type": "markdown",
     "checksum": "535be2596a74d5feb6ed18c9eeaf1d83",
     "grade": false,
     "grade_id": "cell-0a5213c5c634c880",
     "locked": true,
     "schema_version": 3,
     "solution": false,
     "task": false
    }
   },
   "source": [
    "Now suppose we have the function $F(x,y) = x^2 + y^2$, and we want to plot over the square region $-1 \\leq x \\leq 1$ and $-1 \\leq y \\leq 1$.  Let's begin with a contour plot, which will visualize lines along with $F(x,y)$ is constant.  (In this case, $x^2 + y^2 = C$ is the equation for a circle, so our plot should show circles.)\n",
    "\n",
    "To make a plot and visualize this function, we follow more or less the same procedure as above:\n",
    "\n",
    "* Create a discrete grid of points $\\{x_i, y_i\\}$ over the square region we want to plot.\n",
    "* Evaluate the function on our grid, giving another discrete set of points $\\{F_i = F(x_i, y_i)\\}$\n",
    "* Give these matching sets of points to `plt.contour`, which figures out where to draw the lines.\n",
    "\n",
    "To create a discrete square grid, we just need the _direct product_ (i.e. all possible combinations) of two regular linspaces in $x$ and in $y$.  The `np.meshgrid()` function will accomplish this for us:"
   ]
  },
  {
   "cell_type": "code",
   "execution_count": 15,
   "metadata": {
    "deletable": false,
    "editable": false,
    "nbgrader": {
     "cell_type": "code",
     "checksum": "2c0e6b2e6b0656ce3502db0eacf8c181",
     "grade": false,
     "grade_id": "cell-ae7ea900223944e8",
     "locked": true,
     "schema_version": 3,
     "solution": false,
     "task": false
    }
   },
   "outputs": [
    {
     "name": "stdout",
     "output_type": "stream",
     "text": [
      "[[-1.  0.  1.]\n",
      " [-1.  0.  1.]\n",
      " [-1.  0.  1.]]\n",
      "[[3. 3. 3.]\n",
      " [4. 4. 4.]\n",
      " [5. 5. 5.]]\n"
     ]
    }
   ],
   "source": [
    "xx, yy = np.meshgrid(np.linspace(-1,1,3),np.linspace(3,5,3))\n",
    "print(xx)\n",
    "print(yy)"
   ]
  },
  {
   "cell_type": "markdown",
   "metadata": {
    "deletable": false,
    "editable": false,
    "nbgrader": {
     "cell_type": "markdown",
     "checksum": "e63b27fde1f7ed54a63afaf589efb661",
     "grade": false,
     "grade_id": "cell-070c55f7be300dc3",
     "locked": true,
     "schema_version": 3,
     "solution": false
    }
   },
   "source": [
    "Now taking pairs of values at equivalent coordinates in `xx` and `yy` gives a point, e.g. `(xx[0,1], yy[0,1])` gives the point `(0,3)`, and the whole pair of arrays has every possible combination of `x=[-1,0,1]` and `y=[3,4,5]`.\n",
    "\n",
    "If we have a two-dimensional function, we can apply it over the grid of points $\\{x_i, y_i\\}$ very simply using the meshgrid outputs, like this:"
   ]
  },
  {
   "cell_type": "code",
   "execution_count": 16,
   "metadata": {
    "deletable": false,
    "editable": false,
    "nbgrader": {
     "cell_type": "code",
     "checksum": "8d9f6ce6c1931583296799720daa2478",
     "grade": false,
     "grade_id": "cell-6f1ad004362fec8a",
     "locked": true,
     "schema_version": 3,
     "solution": false,
     "task": false
    }
   },
   "outputs": [
    {
     "data": {
      "text/plain": [
       "array([[ 7.,  9., 11.],\n",
       "       [14., 16., 18.],\n",
       "       [23., 25., 27.]])"
      ]
     },
     "execution_count": 16,
     "metadata": {},
     "output_type": "execute_result"
    }
   ],
   "source": [
    "def F(x,y):\n",
    "    return 2*x + y**2\n",
    "\n",
    "F(xx, yy)"
   ]
  },
  {
   "cell_type": "markdown",
   "metadata": {
    "deletable": false,
    "editable": false,
    "nbgrader": {
     "cell_type": "markdown",
     "checksum": "c1612194ed2ba13044124055899a4484",
     "grade": false,
     "grade_id": "cell-b873e2cf05956cff",
     "locked": true,
     "schema_version": 3,
     "solution": false,
     "task": false
    }
   },
   "source": [
    "so now $F(xx,yy)[0,1] = F(0,3) = 9$, and so on."
   ]
  },
  {
   "cell_type": "markdown",
   "metadata": {
    "deletable": false,
    "editable": false,
    "nbgrader": {
     "cell_type": "markdown",
     "checksum": "8561ebdfd90c39e42e010c614b255367",
     "grade": false,
     "grade_id": "cell-971c023f6aeec1c2",
     "locked": true,
     "schema_version": 3,
     "solution": false
    }
   },
   "source": [
    "Your turn to make this work!  Make a __contour plot__ of the function\n",
    "\n",
    "\\\\[\n",
    "F(x,y) = x^2 + y^2\n",
    "\\\\]\n",
    "\n",
    "using the `plt.contour` function to draw the plot.  (Look up the documentation to see how it works, but it needs the outputs of `np.meshgrid` as above.)  Contour plots show lines along with $f(x,y)$ is __constant__, so in this case you should see circles as we discussed above.\n",
    "\n",
    "_(Note: by default, the plot might look like ellipses instead of circles!  To __adjust the aspect ratio__, try the `plt.figure()` command with the keyword option `figsize=(x,y)`, setting the two dimensions of `figsize` to be equal to make a square plot.)_"
   ]
  },
  {
   "cell_type": "code",
   "execution_count": 17,
   "metadata": {
    "deletable": false,
    "nbgrader": {
     "cell_type": "code",
     "checksum": "b62af8e97ce7f037d254edbd8a3409a1",
     "grade": false,
     "grade_id": "cell-9b054ad3ebfcbd63",
     "locked": false,
     "schema_version": 3,
     "solution": true
    }
   },
   "outputs": [
    {
     "data": {
      "text/plain": [
       "<matplotlib.contour.QuadContourSet at 0x7f83eb7d5550>"
      ]
     },
     "execution_count": 17,
     "metadata": {},
     "output_type": "execute_result"
    },
    {
     "data": {
      "image/png": "[encoded data removed]",
      "text/plain": [
       "<Figure size 288x288 with 1 Axes>"
      ]
     },
     "metadata": {
      "needs_background": "light"
     },
     "output_type": "display_data"
    }
   ],
   "source": [
    "### BEGIN SOLUTION\n",
    "xx, yy = np.meshgrid(np.linspace(-1,1,100), np.linspace(-1,1,100))\n",
    "\n",
    "F = xx**2 + yy**2\n",
    "plt.figure(figsize=(4,4))\n",
    "plt.contour(xx,yy,F)\n",
    "### END SOLUTION"
   ]
  },
  {
   "cell_type": "markdown",
   "metadata": {
    "deletable": false,
    "editable": false,
    "nbgrader": {
     "cell_type": "markdown",
     "checksum": "cdacc85a794f45529768fc87b37e2fa4",
     "grade": false,
     "grade_id": "cell-bd8be50c81b4e528",
     "locked": true,
     "schema_version": 3,
     "solution": false
    }
   },
   "source": [
    "### Part B\n",
    "\n",
    "Now, let's try to make a __vector field__ plot of the vector\n",
    "\\\\[\n",
    "\\mathbf{r} = (x, y)\n",
    "\\\\]\n",
    "\n",
    "over the range $-10 \\leq x \\leq 10$, $-10 \\leq y \\leq 10$.\n",
    "\n",
    "This works similarly to `plt.contour`: you'll need a `meshgrid` of points.  The function you want for a vector field is `plt.quiver`, which takes four arguments: x,y coordinates to plot at, and then the x and y components of each vector."
   ]
  },
  {
   "cell_type": "code",
   "execution_count": 18,
   "metadata": {
    "deletable": false,
    "nbgrader": {
     "cell_type": "code",
     "checksum": "6675e117a0c296e896f63daf05899e98",
     "grade": true,
     "grade_id": "cell-2eb412879d4caff4",
     "locked": false,
     "points": 0,
     "schema_version": 3,
     "solution": true
    }
   },
   "outputs": [
    {
     "data": {
      "text/plain": [
       "<matplotlib.quiver.Quiver at 0x7f83eb74e320>"
      ]
     },
     "execution_count": 18,
     "metadata": {},
     "output_type": "execute_result"
    },
    {
     "data": {
      "image/png": "[encoded data removed]",
      "text/plain": [
       "<Figure size 432x288 with 1 Axes>"
      ]
     },
     "metadata": {
      "needs_background": "light"
     },
     "output_type": "display_data"
    }
   ],
   "source": [
    "### BEGIN SOLUTION\n",
    "x, y = np.meshgrid(np.linspace(-10,10,10), np.linspace(-10,10,10))\n",
    "\n",
    "plt.quiver(x,y,x,y)\n",
    "### END SOLUTION"
   ]
  },
  {
   "cell_type": "markdown",
   "metadata": {
    "deletable": false,
    "editable": false,
    "nbgrader": {
     "cell_type": "markdown",
     "checksum": "5497ec7b93dc54c2a9d7e2011f0f4d00",
     "grade": false,
     "grade_id": "cell-cb82a5a386a87f52",
     "locked": true,
     "schema_version": 3,
     "solution": false
    }
   },
   "source": [
    "### Part C _(optional challenge)_\n",
    "\n",
    "The two-dimensional magnetic field due to a long wire with constant current $I$ passing through the plane is given by\n",
    "\n",
    "\\\\[\n",
    "\\mathbf{B} = \\frac{\\mu_0 I}{2\\pi r} \\hat{\\phi}\n",
    "\\\\]\n",
    "\n",
    "where in Cartesian coordinates, the angular unit vector is\n",
    "\n",
    "\\\\[\n",
    "\\hat{\\phi} = (-\\sin(\\phi),\\cos(\\phi))\n",
    "\\\\]\n",
    "\n",
    "and the coordinates are\n",
    "\n",
    "\\\\[\n",
    "r = \\sqrt{x^2 + y^2} \\\\\n",
    "\\phi = \\tan^{-1}(y/x).\n",
    "\\\\]\n",
    "\n",
    "As we've seen, we need the `np.arctan2(y,x)` function to get the coordinate $\\phi$ properly.  \n",
    "\n",
    "__Plot the vector field B below__, setting $I=1/\\mu_0$ for simplicity, over the range $-2 \\leq x \\leq 2$, $-2 \\leq y \\leq 2$."
   ]
  },
  {
   "cell_type": "code",
   "execution_count": 19,
   "metadata": {
    "deletable": false,
    "nbgrader": {
     "cell_type": "code",
     "checksum": "114471b3873d85506904e9bd57a678cf",
     "grade": false,
     "grade_id": "cell-c0faa0197ad905e1",
     "locked": false,
     "schema_version": 3,
     "solution": true
    }
   },
   "outputs": [
    {
     "data": {
      "text/plain": [
       "<matplotlib.quiver.Quiver at 0x7f83eb6c7cf8>"
      ]
     },
     "execution_count": 19,
     "metadata": {},
     "output_type": "execute_result"
    },
    {
     "data": {
      "image/png": "[encoded data removed]",
      "text/plain": [
       "<Figure size 432x288 with 1 Axes>"
      ]
     },
     "metadata": {
      "needs_background": "light"
     },
     "output_type": "display_data"
    }
   ],
   "source": [
    "### BEGIN SOLUTION\n",
    "x, y = np.meshgrid(np.linspace(-2,2,10), np.linspace(-2,2,10))\n",
    "\n",
    "r = np.sqrt(x**2 + y**2)\n",
    "phi = np.arctan2(y,x)\n",
    "\n",
    "B_x = -np.sin(phi) / (2*np.pi*r)\n",
    "B_y = np.cos(phi) / (2*np.pi*r)\n",
    "\n",
    "plt.quiver(x, y, B_x, B_y)\n",
    "### END SOLUTION"
   ]
  }
 ],
 "metadata": {
  "kernelspec": {
   "display_name": "Python 3",
   "language": "python",
   "name": "python3"
  },
  "language_info": {
   "codemirror_mode": {
    "name": "ipython",
    "version": 3
   },
   "file_extension": ".py",
   "mimetype": "text/x-python",
   "name": "python",
   "nbconvert_exporter": "python",
   "pygments_lexer": "ipython3",
   "version": "3.6.8"
  }
 },
 "nbformat": 4,
 "nbformat_minor": 2
}
