{
 "cells": [
  {
   "cell_type": "markdown",
   "metadata": {
    "deletable": false,
    "editable": false,
    "nbgrader": {
     "cell_type": "markdown",
     "checksum": "5a5410e96e98ebedb56ab0bc9ed897fc",
     "grade": false,
     "grade_id": "cell-732613da6c8a0a62",
     "locked": true,
     "schema_version": 3,
     "solution": false
    }
   },
   "source": [
    "# Tutorial 11: Flow Control\n",
    "\n",
    "## PHYS 2600, Spring 2019"
   ]
  },
  {
   "cell_type": "code",
   "execution_count": 9,
   "metadata": {
    "deletable": false,
    "editable": false,
    "nbgrader": {
     "cell_type": "code",
     "checksum": "c259aa7c4a57cbf0a5facb0dbc3e63c5",
     "grade": false,
     "grade_id": "cell-cc27edbbed5e487c",
     "locked": true,
     "schema_version": 3,
     "solution": false
    }
   },
   "outputs": [],
   "source": [
    "# Import cell\n",
    "\n",
    "%matplotlib inline\n",
    "import numpy as np\n",
    "import matplotlib.pyplot as plt"
   ]
  },
  {
   "cell_type": "markdown",
   "metadata": {
    "deletable": false,
    "editable": false,
    "nbgrader": {
     "cell_type": "markdown",
     "checksum": "9a117c53483e4b10438cd964fc06c20c",
     "grade": false,
     "grade_id": "cell-d028792a76646c14",
     "locked": true,
     "schema_version": 3,
     "solution": false
    }
   },
   "source": [
    "## T11.X - FizzBuzz!\n",
    "\n",
    "_(Special note: this first problem is a __worked example__, which we'll go through together in class.  You are encouraged to fill this in as you follow along, but you won't be graded on whether you've completed it or not.)_\n",
    "\n",
    "Let's start with a little game, \"Fizz Buzz\":\n",
    "\n",
    "https://en.wikipedia.org/wiki/Fizz_buzz\n",
    "\n",
    "The rules to the game are simple: we count up from 1 out loud, but every time we reach a number divisible by 3, we say \"Fizz\" instead.  Likewise, every number divisible by 5 is replaced with \"Buzz\".  If a number is divisible by both 3 and 5, we say both words (so \"FizzBuzz\").\n",
    "\n",
    "This particular game is infamous in computer programming circles, because writing a program that can mimic FizzBuzz is a common interview question used to screen entry-level programming jobs.  (So you'll all be prepared for that after this tutorial!)"
   ]
  },
  {
   "cell_type": "markdown",
   "metadata": {
    "deletable": false,
    "editable": false,
    "nbgrader": {
     "cell_type": "markdown",
     "checksum": "0dc99cb17b96bc6a0d4a3bf30b8935f8",
     "grade": false,
     "grade_id": "cell-52e20b4136ddce68",
     "locked": true,
     "schema_version": 3,
     "solution": false
    }
   },
   "source": [
    "Our version of the problem: __write a Python program that prints the numbers from 1 to 30, replacing them with \"Fizz\", \"Buzz\" or \"FizzBuzz\" according to the rules above.__  Clearly, this calls for a `while` loop!  Let's write a solution."
   ]
  },
  {
   "cell_type": "code",
   "execution_count": 1,
   "metadata": {
    "deletable": false,
    "nbgrader": {
     "cell_type": "code",
     "checksum": "8a229504edab220735a8b933041330b8",
     "grade": true,
     "grade_id": "cell-cf7015a7552343e3",
     "locked": false,
     "points": 0,
     "schema_version": 3,
     "solution": true
    }
   },
   "outputs": [
    {
     "name": "stdout",
     "output_type": "stream",
     "text": [
      "1\n",
      "2\n",
      "Fizz\n",
      "4\n",
      "Buzz\n",
      "Fizz\n",
      "7\n",
      "8\n",
      "Fizz\n",
      "Buzz\n",
      "11\n",
      "Fizz\n",
      "13\n",
      "14\n",
      "FizzBuzz\n",
      "16\n",
      "17\n",
      "Fizz\n",
      "19\n",
      "Buzz\n",
      "Fizz\n",
      "22\n",
      "23\n",
      "Fizz\n",
      "Buzz\n",
      "26\n",
      "Fizz\n",
      "28\n",
      "29\n",
      "FizzBuzz\n"
     ]
    }
   ],
   "source": [
    "\n",
    "### BEGIN SOLUTION\n",
    "n = 1\n",
    "while n <= 30:\n",
    "    # Build a string, s, to print out\n",
    "    s = ''\n",
    "\n",
    "    # Add 'Fizz' to the string if n is a multiple of 3\n",
    "    if (n % 3) == 0:\n",
    "        s += 'Fizz'\n",
    "        \n",
    "    # Add 'Buzz' to the string if n is a multiple of 5\n",
    "    if (n % 5) == 0:\n",
    "        s += 'Buzz'\n",
    "    \n",
    "    if s == '':\n",
    "        # If s is still empty, just print the number\n",
    "        print(n)\n",
    "    else:\n",
    "        # Otherwise, print the string we built\n",
    "        print(s)\n",
    "\n",
    "    n += 1\n",
    "    \n",
    "### END SOLUTION"
   ]
  },
  {
   "cell_type": "markdown",
   "metadata": {
    "deletable": false,
    "editable": false,
    "nbgrader": {
     "cell_type": "markdown",
     "checksum": "e6bd164ef3381c36ac42e110c4c87135",
     "grade": false,
     "grade_id": "cell-76b75e18bb6ec1c5",
     "locked": true,
     "schema_version": 3,
     "solution": false
    }
   },
   "source": [
    "## T11.1 - Branching and looping"
   ]
  },
  {
   "cell_type": "markdown",
   "metadata": {
    "deletable": false,
    "editable": false,
    "nbgrader": {
     "cell_type": "markdown",
     "checksum": "b7a3df340ec4c608098e366475bd736f",
     "grade": false,
     "grade_id": "cell-ff8615d61553a50d",
     "locked": true,
     "schema_version": 3,
     "solution": false
    }
   },
   "source": [
    "### Part A\n",
    "\n",
    "Use conditionals (`if`/`else` and possibly `elif`) to implement the sign function `sgn(x)`, which is defined as follows:\n",
    "\\\\[\n",
    "{\\rm sgn}(x) = \\begin{cases} +1&,\\ x>0; \\\\ -1&,\\ x<0. \\end{cases}\n",
    "\\\\]\n",
    "Use an `assert` statement to make your function raise an error message if it's given the value $x=0$.  (We might prefer for it to return `0` instead of giving an error; this depends on what application we're going to use it for, really.)"
   ]
  },
  {
   "cell_type": "code",
   "execution_count": 2,
   "metadata": {
    "deletable": false,
    "nbgrader": {
     "cell_type": "code",
     "checksum": "c1b87a9bec0d517922742dbc98a45084",
     "grade": true,
     "grade_id": "cell-b846cddf7de2c4d2",
     "locked": false,
     "points": 2,
     "schema_version": 3,
     "solution": true
    }
   },
   "outputs": [],
   "source": [
    "def sgn(x):\n",
    "    ### BEGIN SOLUTION\n",
    "    \n",
    "    # Version 1: assert first\n",
    "    assert x != 0\n",
    "    if x < 0:\n",
    "        return -1\n",
    "    else:\n",
    "        return 1\n",
    "    \n",
    "    # Version 2: use elif\n",
    "    if x < 0:\n",
    "        return -1\n",
    "    elif x > 0:\n",
    "        return 1\n",
    "    else:\n",
    "        assert False\n",
    "    \n",
    "    ### END SOLUTION\n",
    "    \n"
   ]
  },
  {
   "cell_type": "code",
   "execution_count": 3,
   "metadata": {
    "deletable": false,
    "editable": false,
    "nbgrader": {
     "cell_type": "code",
     "checksum": "3af46c86850f83a17d350a7da5eb9830",
     "grade": true,
     "grade_id": "cell-79b72f283a6f7fc5",
     "locked": true,
     "points": 0,
     "schema_version": 3,
     "solution": false
    }
   },
   "outputs": [],
   "source": [
    "## Testing cell\n",
    "\n",
    "import numpy.testing as npt\n",
    "\n",
    "npt.assert_equal(sgn(5), 1)\n",
    "npt.assert_equal(sgn(-3.3), -1)\n",
    "npt.assert_equal(sgn(0.3), 1)\n",
    "npt.assert_raises(AssertionError, sgn, 0)"
   ]
  },
  {
   "cell_type": "markdown",
   "metadata": {
    "deletable": false,
    "editable": false,
    "nbgrader": {
     "cell_type": "markdown",
     "checksum": "9d33eb278463c506f1faf280a15ec9ee",
     "grade": false,
     "grade_id": "cell-5a8afaadbb7b980d",
     "locked": true,
     "schema_version": 3,
     "solution": false
    }
   },
   "source": [
    "### Part B\n",
    "\n",
    "Python has built-in support for __complex numbers__, under the `complex` type.  (You can think of a `complex` as a pair of `float`s, one for the real part and one for the imaginary part.)  Python uses the engineering convention of writing the imaginary unit as `j`.  __Run the cell below__ to see some quick examples:"
   ]
  },
  {
   "cell_type": "code",
   "execution_count": 4,
   "metadata": {
    "deletable": false,
    "editable": false,
    "nbgrader": {
     "cell_type": "code",
     "checksum": "684e8afb1c50b50e6d66c7c062427e45",
     "grade": false,
     "grade_id": "cell-25b2c49de1f504fe",
     "locked": true,
     "schema_version": 3,
     "solution": false
    }
   },
   "outputs": [
    {
     "name": "stdout",
     "output_type": "stream",
     "text": [
      "(2+1j)\n",
      "(-1+0j)\n",
      "0.0\n",
      "1.0\n",
      "1.4142135623730951\n"
     ]
    }
   ],
   "source": [
    "x = 2+0j\n",
    "y = 1j    # Must write \"1j\" to be recognized as complex; j alone doesn't work.\n",
    "z = 1+1j\n",
    "\n",
    "print(x+y)\n",
    "print(y*y)\n",
    "print(y.real)\n",
    "print(y.imag)\n",
    "print(abs(z))  # \"abs\" acts as the complex modulus |z| = sqrt(Re(z)**2 + Im(z)**2)"
   ]
  },
  {
   "cell_type": "markdown",
   "metadata": {
    "deletable": false,
    "editable": false,
    "nbgrader": {
     "cell_type": "markdown",
     "checksum": "bd6a3835af10638cf29fc273af937540",
     "grade": false,
     "grade_id": "cell-eae3f18c76eb0d8f",
     "locked": true,
     "schema_version": 3,
     "solution": false
    }
   },
   "source": [
    "Once we're using complex numbers, there should be no numerical problem with taking the square root of a negative number.  However, by default the `math.sqrt()` and `np.sqrt()` functions will give an error message if we give them a negative input (because for many applications we _don't_ want complex answers.)\n",
    "\n",
    "There are existing modules for dealing with complex math, of course: `numpy` will do it if you explicitly use a complex `dtype` on your array, and Python has the `cmath` (\"complex math\") module with complex-aware functions like `cmath.sqrt()`.  But why not just do it ourselves?\n",
    "\n",
    "__Implement the function `real_sqrt` below__, which should take a single real number `x` as input and return its (potentially complex) square root as follows:\n",
    "\n",
    "- If `x` is positive, return the square root of `x`, plus the constant `0j`.  (This makes the output `complex` type, for consistency.)\n",
    "- If `x` is negative, return the square root of `-x`, then multiply it by `1j`.  (The syntax of complex numbers means we have to write it as `1j` and not just `j`.)"
   ]
  },
  {
   "cell_type": "code",
   "execution_count": 10,
   "metadata": {
    "deletable": false,
    "nbgrader": {
     "cell_type": "code",
     "checksum": "81e761994050b6d4ba46aa1293ab2bf1",
     "grade": false,
     "grade_id": "cell-0506d1ce981a3802",
     "locked": false,
     "schema_version": 3,
     "solution": true
    }
   },
   "outputs": [],
   "source": [
    "def real_sqrt(x):\n",
    "    ### BEGIN SOLUTION\n",
    "    if x > 0:\n",
    "        return np.sqrt(x) + 0j\n",
    "    else:\n",
    "        return np.sqrt(-x) * 1j\n",
    "    ### END SOLUTION\n",
    "    "
   ]
  },
  {
   "cell_type": "code",
   "execution_count": 11,
   "metadata": {
    "deletable": false,
    "editable": false,
    "nbgrader": {
     "cell_type": "code",
     "checksum": "01763f10a50d9820fc58856859f15359",
     "grade": true,
     "grade_id": "cell-0ff4bab315a830bc",
     "locked": true,
     "points": 0,
     "schema_version": 3,
     "solution": false
    }
   },
   "outputs": [
    {
     "name": "stdout",
     "output_type": "stream",
     "text": [
      "(2+0j)\n",
      "2j\n",
      "0j\n"
     ]
    }
   ],
   "source": [
    "print(real_sqrt(4))  # should print '2+0j'\n",
    "print(real_sqrt(-4)) # should print '2j'\n",
    "print(real_sqrt(0))  # should print '0j'\n",
    "\n",
    "assert (real_sqrt(-11)**2 - (-11)) <= 1e-6\n",
    "assert (real_sqrt(45)**2 - 45) <= 1e-6"
   ]
  },
  {
   "cell_type": "markdown",
   "metadata": {
    "deletable": false,
    "editable": false,
    "nbgrader": {
     "cell_type": "markdown",
     "checksum": "3cb315cdaffa77a63060eaee29bb374b",
     "grade": false,
     "grade_id": "cell-827f19398863cb25",
     "locked": true,
     "schema_version": 3,
     "solution": false
    }
   },
   "source": [
    "### Part C\n",
    "\n",
    "Use a `while` loop to implement the function `sum_cubes(n)` below, which should return the sum of the cube of every number from 1 to n __including `n`__, i.e.\n",
    "\n",
    "$$\n",
    "S_3(n) \\equiv \\sum_{i=1}^n i^3 = 1^3 + 2^3 + ... + n^3\n",
    "$$\n",
    "\n",
    "_(Hint: your `while` loop will give you one value of `i` at a time, but you want to end up with the sum of __all__ of them.  This is a great opportunity to use an __accumulator variable__: in addition to the variable `i`, you should declare another variable __before the loop__ that will hold the sum of all numbers so far.)_"
   ]
  },
  {
   "cell_type": "code",
   "execution_count": 13,
   "metadata": {
    "deletable": false,
    "nbgrader": {
     "cell_type": "code",
     "checksum": "db8497557a3618acbd6df4cc698d5b60",
     "grade": false,
     "grade_id": "cell-6a77276ba2492ed2",
     "locked": false,
     "schema_version": 3,
     "solution": true
    }
   },
   "outputs": [],
   "source": [
    "def sum_cubes(n):\n",
    "    ### BEGIN SOLUTION\n",
    "    total = 0\n",
    "    i = 1\n",
    "    \n",
    "    while i <= n:\n",
    "        total += i**3\n",
    "        i += 1\n",
    "        \n",
    "    return total\n",
    "    ### END SOLUTION\n",
    "    "
   ]
  },
  {
   "cell_type": "code",
   "execution_count": 14,
   "metadata": {
    "deletable": false,
    "editable": false,
    "nbgrader": {
     "cell_type": "code",
     "checksum": "327ec4587d36b939ba7140fe90e21518",
     "grade": true,
     "grade_id": "cell-4b9078242ca7b6ba",
     "locked": true,
     "points": 0,
     "schema_version": 3,
     "solution": false
    }
   },
   "outputs": [
    {
     "name": "stdout",
     "output_type": "stream",
     "text": [
      "9\n"
     ]
    }
   ],
   "source": [
    "print(sum_cubes(2))\n",
    "\n",
    "assert sum_cubes(1) == 1\n",
    "assert sum_cubes(2) == 9\n",
    "assert sum_cubes(37) == (37*38/2)**2    # Analytic answer: the sum should give (n(n+1)/2)**2."
   ]
  },
  {
   "cell_type": "markdown",
   "metadata": {
    "deletable": false,
    "editable": false,
    "nbgrader": {
     "cell_type": "markdown",
     "checksum": "8f38fea24fcd96ee6c91f65c64afc503",
     "grade": false,
     "grade_id": "cell-3f391c3f60cecc4f",
     "locked": true,
     "schema_version": 3,
     "solution": false
    }
   },
   "source": [
    "### Part D\n",
    "\n",
    "We can also use conditional tests on NumPy arrays to control program flow.  However, we need to do things a bit differently because arrays have multiple values.  For example, suppose we want to take the square root of an array, but _only if_ it has no negative values. \n",
    "\n",
    "__Run the next cell__ to see an example that _will not work_:"
   ]
  },
  {
   "cell_type": "code",
   "execution_count": 15,
   "metadata": {
    "deletable": false,
    "editable": false,
    "nbgrader": {
     "cell_type": "code",
     "checksum": "422f6d4cc216974cf5ef99f2a9b99338",
     "grade": false,
     "grade_id": "cell-ab5bd4fc7da5aaf2",
     "locked": true,
     "schema_version": 3,
     "solution": false
    }
   },
   "outputs": [
    {
     "ename": "ValueError",
     "evalue": "The truth value of an array with more than one element is ambiguous. Use a.any() or a.all()",
     "output_type": "error",
     "traceback": [
      "\u001b[0;31m---------------------------------------------------------------------------\u001b[0m",
      "\u001b[0;31mValueError\u001b[0m                                Traceback (most recent call last)",
      "\u001b[0;32m<ipython-input-15-92ea9616f059>\u001b[0m in \u001b[0;36m<module>\u001b[0;34m\u001b[0m\n\u001b[1;32m      1\u001b[0m \u001b[0mx\u001b[0m \u001b[0;34m=\u001b[0m \u001b[0mnp\u001b[0m\u001b[0;34m.\u001b[0m\u001b[0marray\u001b[0m\u001b[0;34m(\u001b[0m\u001b[0;34m[\u001b[0m\u001b[0;34m-\u001b[0m\u001b[0;36m2\u001b[0m\u001b[0;34m,\u001b[0m \u001b[0;34m-\u001b[0m\u001b[0;36m1\u001b[0m\u001b[0;34m,\u001b[0m \u001b[0;36m4\u001b[0m\u001b[0;34m]\u001b[0m\u001b[0;34m)\u001b[0m\u001b[0;34m\u001b[0m\u001b[0;34m\u001b[0m\u001b[0m\n\u001b[0;32m----> 2\u001b[0;31m \u001b[0;32mif\u001b[0m \u001b[0mx\u001b[0m \u001b[0;34m>\u001b[0m \u001b[0;36m0\u001b[0m\u001b[0;34m:\u001b[0m\u001b[0;34m\u001b[0m\u001b[0;34m\u001b[0m\u001b[0m\n\u001b[0m\u001b[1;32m      3\u001b[0m     \u001b[0mprint\u001b[0m\u001b[0;34m(\u001b[0m\u001b[0mnp\u001b[0m\u001b[0;34m.\u001b[0m\u001b[0msqrt\u001b[0m\u001b[0;34m(\u001b[0m\u001b[0mx\u001b[0m\u001b[0;34m)\u001b[0m\u001b[0;34m)\u001b[0m\u001b[0;34m\u001b[0m\u001b[0;34m\u001b[0m\u001b[0m\n",
      "\u001b[0;31mValueError\u001b[0m: The truth value of an array with more than one element is ambiguous. Use a.any() or a.all()"
     ]
    }
   ],
   "source": [
    "x = np.array([-2, -1, 4])\n",
    "if x > 0:\n",
    "    print(np.sqrt(x))"
   ]
  },
  {
   "cell_type": "markdown",
   "metadata": {
    "deletable": false,
    "editable": false,
    "nbgrader": {
     "cell_type": "markdown",
     "checksum": "167d5c727ada7c56f5f504ee61e663fa",
     "grade": false,
     "grade_id": "cell-ffc28ac459c4beca",
     "locked": true,
     "schema_version": 3,
     "solution": false
    }
   },
   "source": [
    "You should see a `ValueError` that states \"the truth value of an array...is ambiguous.\"  For once, this is an error message that makes a lot of sense!  __We can't branch on the statement `x > 0`__, because the result is neither `True` nor `False`, it's the array `[False, False, True]`.\n",
    "\n",
    "The second part of the error message also tells us how to fix this: we use the `.any()` and `.all()` methods.  These take a Boolean test, apply it to an entire array, and then return a single summary `True` or `False` outcome:"
   ]
  },
  {
   "cell_type": "code",
   "execution_count": 16,
   "metadata": {},
   "outputs": [
    {
     "name": "stdout",
     "output_type": "stream",
     "text": [
      "True\n",
      "False\n",
      "Some negative numbers in x, skipping sqrt!\n"
     ]
    }
   ],
   "source": [
    "print(np.any(x > 0))\n",
    "print(np.all(x > 0))\n",
    "\n",
    "# x = [3,4,5]  ## Uncomment me to see the other branch of the if statement below run.\n",
    "\n",
    "if np.all(x>0):\n",
    "    print(np.sqrt(x))\n",
    "else:\n",
    "    print(\"Some negative numbers in x, skipping sqrt!\")"
   ]
  },
  {
   "cell_type": "markdown",
   "metadata": {
    "deletable": false,
    "editable": false,
    "nbgrader": {
     "cell_type": "markdown",
     "checksum": "e830e1372b3dca339280f0fc54004f37",
     "grade": false,
     "grade_id": "cell-3f7e79590979291c",
     "locked": true,
     "schema_version": 3,
     "solution": false
    }
   },
   "source": [
    "In terms of a mask array like `x > 0`, the way these two functions work is:\n",
    "\n",
    "* If __any entry__ in mask `m` is `True`, then `np.any(m)` is `True`; otherwise, it's `False`.\n",
    "* If __every entry__ in mask `m` is `True`, then `np.all(m)` is `True`; otherwise, it's `False`.\n",
    "\n",
    "You can see that these are sort of complementary to each other: in the code above, we did the test `np.all(x>0)` to see if our array `x` was entirely positive.  But we could also have done the test `np.any(x<0)`, and the code would work exactly the same.\n",
    "\n",
    "Now, the exercise.  In the cell below, __implement the function `rescale_array(x)`__, which should take an array `x` and return the same array _repeatedly divided by two_ until all of the entries are between -1 and 1.  (Since arrays are mutable, in this case we begin by making a _copy_ of the array `y`, instead of mutating the original `x`.)\n",
    "\n",
    "For example, the array `[-3,1,3]` would be divided by 2 twice by this algorithm, giving the result `[-0.75, 0.25, 0.75]`."
   ]
  },
  {
   "cell_type": "code",
   "execution_count": 17,
   "metadata": {
    "deletable": false,
    "nbgrader": {
     "cell_type": "code",
     "checksum": "a65f990d9d80b3f5ef9cf219bd618d45",
     "grade": false,
     "grade_id": "cell-261e41e9d77d0635",
     "locked": false,
     "schema_version": 3,
     "solution": true
    }
   },
   "outputs": [],
   "source": [
    "def rescale_array(x):\n",
    "    y = x.copy()  # Return a new rescaled array instead of mutating\n",
    "    \n",
    "    ### BEGIN SOLUTION\n",
    "    while np.any(np.abs(y) > 1):\n",
    "        y /= 2\n",
    "    \n",
    "    ### END SOLUTION\n",
    "    \n",
    "    \n",
    "    return y"
   ]
  },
  {
   "cell_type": "code",
   "execution_count": 18,
   "metadata": {
    "deletable": false,
    "editable": false,
    "nbgrader": {
     "cell_type": "code",
     "checksum": "b77a80cf77746cfac3f4a7aeef1b3d46",
     "grade": true,
     "grade_id": "cell-408327640e4f8bb2",
     "locked": true,
     "points": 0,
     "schema_version": 3,
     "solution": false
    }
   },
   "outputs": [
    {
     "name": "stdout",
     "output_type": "stream",
     "text": [
      "[0.     0.0625 0.125  0.1875 0.25   0.3125 0.375  0.4375 0.5    0.5625\n",
      " 0.625 ]\n",
      "[-0.875 -0.125  0.125  0.375]\n",
      "[-1.         -0.89473684 -0.78947368 -0.68421053 -0.57894737 -0.47368421\n",
      " -0.36842105 -0.26315789 -0.15789474 -0.05263158  0.05263158  0.15789474\n",
      "  0.26315789  0.36842105  0.47368421  0.57894737  0.68421053  0.78947368\n",
      "  0.89473684  1.        ]\n"
     ]
    }
   ],
   "source": [
    "y1 = rescale_array(np.linspace(0,10,11))\n",
    "print(y1)  # Should range from 0 to 10/16 = 5/8 = 0.625.\n",
    "\n",
    "y2 = rescale_array(np.array([-7.,-1.,1.,3.]))\n",
    "print(y2)  # Should range from -7/8 = -0.875 to 3/8 = 0.375.\n",
    "\n",
    "y3 = rescale_array(np.linspace(-1,1,20))\n",
    "print(y3)  # Should range from -1 to 1 - no rescaling at all!"
   ]
  },
  {
   "cell_type": "markdown",
   "metadata": {},
   "source": [
    "## T11.2 - A better square root\n",
    "\n",
    "All the way back in tutorial 2, we introduced an algorithm for calculating the square root $y = \\sqrt{x}$, which had the following steps:\n",
    "\n",
    "1. Start with an initial guess for y.\n",
    "2. Calculate y*y, and stop if it's \"close enough\" to x.\n",
    "3. Update y to the average of y and x/y: y --> (y+x/y)/2.\n",
    "4. Loop back to step 2.\n",
    "\n",
    "At that point, we couldn't really do the last step: we just repeated the steps by hand until the result looked good (or we got sick of it.)  But now we can make Python control the loop for us!\n",
    "\n",
    "### Part A\n",
    "\n",
    "__Implement the function square_root()__ in the cell below: I've included the arguments and a brief docstring to get your started.  The \"_error tolerance_\" `tol` defines the __stopping condition__ of our algorithm, i.e. it defines what \"close enough\" in step 2 means:\n",
    "\n",
    "$$\n",
    "|y^2 - x| <= (\\rm{tol})\n",
    "$$"
   ]
  },
  {
   "cell_type": "code",
   "execution_count": 19,
   "metadata": {
    "deletable": false,
    "nbgrader": {
     "cell_type": "code",
     "checksum": "7d5fa07266ed139ef4fd92110479fcbc",
     "grade": false,
     "grade_id": "cell-053729857a578d44",
     "locked": false,
     "schema_version": 3,
     "solution": true
    }
   },
   "outputs": [],
   "source": [
    "def square_root(x, y0, tol=1e-6):\n",
    "    \"\"\"\n",
    "    Computes the square root of x using Heron's method.\n",
    "    Returns: the square root of x.\n",
    "    \n",
    "    Arguments:\n",
    "    =====\n",
    "    x -- number to take the square root of.\n",
    "    y0 -- initial guess for the square root of x.\n",
    "    \n",
    "    Keyword arguments:\n",
    "    =====\n",
    "    tol -- absolute error tolerance for the algorithm to stop (default: 1e-6.)\n",
    "    \"\"\"\n",
    "    \n",
    "    y = y0\n",
    "\n",
    "    ### BEGIN SOLUTION\n",
    "    while abs(y*y-x) > tol:\n",
    "        y = 0.5*(y + x/y)\n",
    "\n",
    "    ### END SOLUTION\n",
    "    \n",
    "\n",
    "    return y"
   ]
  },
  {
   "cell_type": "code",
   "execution_count": 20,
   "metadata": {},
   "outputs": [
    {
     "name": "stdout",
     "output_type": "stream",
     "text": [
      "1.4142135623746899\n"
     ]
    }
   ],
   "source": [
    "# Simple human test, before the automated ones: should print 1.414...\n",
    "print(square_root(2,2))"
   ]
  },
  {
   "cell_type": "markdown",
   "metadata": {},
   "source": [
    "If the cell above doesn't print anything, and you see `In [*]:` to the left of it, then you have probably caused an infinite loop!  You can't run any other cells now, since the kernel will keep trying to finish this one forever.\n",
    "\n",
    "__Don't panic!__  All you have to do is interrupt the kernel using `i`,`i`, restart it with `0`,`0` (both in _command mode_, so click outside the cells!), or use the \"Kernel\" menu above.  Then go back to your function and try to figure out where the infinite loop is coming from...the most likely culprit is a condition on your `while` loop that is always satisfied."
   ]
  },
  {
   "cell_type": "code",
   "execution_count": 21,
   "metadata": {
    "deletable": false,
    "editable": false,
    "nbgrader": {
     "cell_type": "code",
     "checksum": "a0d3fccd2492f951ec4dc2eae491baac",
     "grade": true,
     "grade_id": "cell-709404c8e5d5ef5c",
     "locked": true,
     "points": 0,
     "schema_version": 3,
     "solution": false
    }
   },
   "outputs": [],
   "source": [
    "import numpy.testing as npt\n",
    "import math\n",
    "\n",
    "npt.assert_allclose(square_root(4,4), 2)\n",
    "npt.assert_allclose(square_root(47,4), math.sqrt(47))\n",
    "npt.assert_allclose(square_root(3,1000), math.sqrt(3))\n",
    "npt.assert_allclose(square_root(57.34,139), math.sqrt(57.34))"
   ]
  },
  {
   "cell_type": "markdown",
   "metadata": {
    "deletable": false,
    "editable": false,
    "nbgrader": {
     "cell_type": "markdown",
     "checksum": "c223a9cd4ff9d633fc91ec1388de84e2",
     "grade": false,
     "grade_id": "cell-29cf526e458d07e2",
     "locked": true,
     "schema_version": 3,
     "solution": false
    }
   },
   "source": [
    "### Part B _(optional challenge)_\n",
    "\n",
    "In addition to `tol`, we might like to have an absolute cap on the number of iterations: this will safeguard against infinite (and finite but really long) loops.  Implement the new and improved version `square_root_v2` below, which will also stop if the number of loop iterations reaches `max_iter`.  If `max_iter` is reached, your function should print the message:\n",
    "```python\n",
    "\"Warning: max_iter reached!  Result may be inaccurate.\"\n",
    "```\n",
    "and then __use the `break` keyword to terminate the loop__ and return the current value of `y`.\n",
    "\n",
    "(Hint: don't forget to update `num_iter` in your loop!)"
   ]
  },
  {
   "cell_type": "code",
   "execution_count": 24,
   "metadata": {
    "deletable": false,
    "nbgrader": {
     "cell_type": "code",
     "checksum": "860ae215346f12d335676818171f1a7c",
     "grade": false,
     "grade_id": "cell-bb87341f5e6835b6",
     "locked": false,
     "schema_version": 3,
     "solution": true
    }
   },
   "outputs": [],
   "source": [
    "def square_root_v2(x, y0, tol=1e-6, max_iter=50):\n",
    "    \"\"\"\n",
    "    Computes the square root of x using Heron's method.\n",
    "    Returns: the square root of x.\n",
    "    \n",
    "    Arguments:\n",
    "    =====\n",
    "    x -- number to take the square root of.\n",
    "    y0 -- initial guess for the square root of x.\n",
    "    \n",
    "    Keyword arguments:\n",
    "    =====\n",
    "    tol -- absolute error tolerance for the algorithm to stop (default: 1e-6.)\n",
    "    max_iter -- maximum number of iterations to run (default: 50)\n",
    "    \"\"\"\n",
    "\n",
    "    y = y0\n",
    "    num_iter = 0\n",
    "    \n",
    "    ### BEGIN SOLUTION\n",
    "    while abs(y*y-x) > tol:\n",
    "        if num_iter >= max_iter:\n",
    "            print(\"Warning: max_iter reached!  Result may be inaccurate.\")\n",
    "            break\n",
    "\n",
    "        y = 0.5*(y + x/y)\n",
    "        num_iter += 1       \n",
    "    ### END SOLUTION\n",
    "    \n",
    "\n",
    "    return y\n"
   ]
  },
  {
   "cell_type": "code",
   "execution_count": 25,
   "metadata": {
    "deletable": false,
    "editable": false,
    "nbgrader": {
     "cell_type": "code",
     "checksum": "ee0e4f63a530424e8ca9260f9211b514",
     "grade": true,
     "grade_id": "cell-595069b21ae40839",
     "locked": true,
     "points": 0,
     "schema_version": 3,
     "solution": false
    }
   },
   "outputs": [
    {
     "name": "stdout",
     "output_type": "stream",
     "text": [
      "1.7320508075705185\n",
      "Warning: max_iter reached!  Result may be inaccurate.\n"
     ]
    }
   ],
   "source": [
    "import numpy.testing as npt\n",
    "import math\n",
    "\n",
    "print(square_root_v2(3, 1000))\n",
    "npt.assert_allclose(square_root_v2(4,4), 2)\n",
    "npt.assert_allclose(square_root_v2(47,4), math.sqrt(47))\n",
    "npt.assert_allclose(square_root_v2(3,1000, max_iter=100), math.sqrt(3))\n",
    "npt.assert_allclose(square_root_v2(57.34,139, tol=1e-10), math.sqrt(57.34))\n",
    "\n",
    "# Should see a warning message from this:\n",
    "npt.assert_allclose(square_root_v2(47, 3, max_iter=2), 7.1, atol=0.1)"
   ]
  },
  {
   "cell_type": "markdown",
   "metadata": {
    "deletable": false,
    "editable": false,
    "nbgrader": {
     "cell_type": "markdown",
     "checksum": "bf7a0b944b1f53e53ef3effce2a69579",
     "grade": false,
     "grade_id": "cell-540c8df85a14cf6b",
     "locked": true,
     "schema_version": 3,
     "solution": false
    }
   },
   "source": [
    "### Bonus Part C\n",
    "\n",
    "As a little __bonus__, let's see how the performance of our pure Python function compares to the one from the math library.  The `%timeit` magic command will tell Jupyter to re-run a particular function over and over and time how long it takes.  (We can also use `%time`, which will just run it once; a single run will be less reliable for estimating the average run time, though.)\n",
    "\n",
    "(If you didn't finish part B above, you can run the test on `square_root()` instead of `square_root_v2()`.)"
   ]
  },
  {
   "cell_type": "code",
   "execution_count": 26,
   "metadata": {},
   "outputs": [
    {
     "name": "stdout",
     "output_type": "stream",
     "text": [
      "1.47 µs ± 437 ns per loop (mean ± std. dev. of 7 runs, 1000000 loops each)\n",
      "856 ns ± 284 ns per loop (mean ± std. dev. of 7 runs, 1000000 loops each)\n"
     ]
    }
   ],
   "source": [
    "%timeit square_root_v2(455, 40)\n",
    "%timeit np.sqrt(455)"
   ]
  }
 ],
 "metadata": {
  "kernelspec": {
   "display_name": "Python 3",
   "language": "python",
   "name": "python3"
  },
  "language_info": {
   "codemirror_mode": {
    "name": "ipython",
    "version": 3
   },
   "file_extension": ".py",
   "mimetype": "text/x-python",
   "name": "python",
   "nbconvert_exporter": "python",
   "pygments_lexer": "ipython3",
   "version": "3.6.8"
  }
 },
 "nbformat": 4,
 "nbformat_minor": 2
}
