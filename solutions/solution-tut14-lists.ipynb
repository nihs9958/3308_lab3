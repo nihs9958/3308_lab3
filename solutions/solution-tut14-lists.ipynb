{
 "cells": [
  {
   "cell_type": "markdown",
   "metadata": {
    "deletable": false,
    "editable": false,
    "nbgrader": {
     "cell_type": "markdown",
     "checksum": "5cbd65782cf2179689f64edc23c68514",
     "grade": false,
     "grade_id": "cell-100899e0deea9789",
     "locked": true,
     "schema_version": 3,
     "solution": false
    }
   },
   "source": [
    "# Tutorial 14: Lists\n",
    "\n",
    "## PHYS 2600, Fall 2018"
   ]
  },
  {
   "cell_type": "markdown",
   "metadata": {
    "deletable": false,
    "editable": false,
    "nbgrader": {
     "cell_type": "markdown",
     "checksum": "f2162f8ae360a1b31340652e749b163d",
     "grade": false,
     "grade_id": "cell-e583ec807a8ece85",
     "locked": true,
     "schema_version": 3,
     "solution": false
    }
   },
   "source": [
    "## T14.1 - Design patterns for lists\n",
    "\n",
    "In computing, a __design pattern__ is similar to an algorithm, but a bit more abstract: design patterns are common structures that appear in the solutions to general classes of problems.  For example, the function you put together back on tutorial 11 to take a square root was an example of a concrete _algorithm_, but to write it, you used a _register variable_ `y`, which was updated repeatedly in each loop.  Using a register variable is a (simple) design pattern.\n",
    "\n",
    "Patterns are especially important to know when dealing with lists.  In human language, we can easily describe operations like \"take everything in the list and square it\", but for a computer we have to spell out the steps using a loop!\n",
    "\n",
    "_(Side note: if this was a formal comp sci class, all of these below would probably just be called examples of the \"iterator\" pattern - but I think it's important to see the variations on them explicitly.)_\n",
    "\n",
    "### Part A: The iterator\n",
    "\n",
    "The __iterator pattern__ is the foundation of all the other ones below: it occurs when we want to step through a list of objects, item by item, and perform some sort of operation using each item.  To implement the iterator for a list, we require an _index variable_, `i`, which will store a valid index in our list.  We then use a loop to perform an operation with the list element at `i`, and then increment `i` by one to move on to the next item.\n",
    "\n",
    "Here's an explicit example with a `while` loop that simply prints every element of a list:\n",
    "\n",
    "\n",
    "\n",
    "\n"
   ]
  },
  {
   "cell_type": "code",
   "execution_count": 2,
   "metadata": {
    "deletable": false,
    "editable": false,
    "nbgrader": {
     "cell_type": "code",
     "checksum": "1835bb40c9d1c3697f3703aa4e0a3e5c",
     "grade": false,
     "grade_id": "cell-245041e9a9b9d94b",
     "locked": true,
     "schema_version": 3,
     "solution": false
    }
   },
   "outputs": [
    {
     "name": "stdout",
     "output_type": "stream",
     "text": [
      "Entry 0 in list L is:  apple\n",
      "Entry 1 in list L is:  banana\n",
      "Entry 2 in list L is:  carrot\n"
     ]
    }
   ],
   "source": [
    "i = 0  # Index variable\n",
    "L = ['apple', 'banana', 'carrot']\n",
    "\n",
    "while i < len(L):\n",
    "    print(\"Entry %d in list L is: \" % i, L[i])\n",
    "    \n",
    "    i += 1  # Increment index"
   ]
  },
  {
   "cell_type": "markdown",
   "metadata": {
    "deletable": false,
    "editable": false,
    "nbgrader": {
     "cell_type": "markdown",
     "checksum": "0006206b96403ec892c3ee975cd381ab",
     "grade": false,
     "grade_id": "cell-81872600a9e46810",
     "locked": true,
     "schema_version": 3,
     "solution": false
    }
   },
   "source": [
    "In Python, we have a shortcut to using this pattern: the `for` loop!  We can iterate over a list without ever having to define an index, as in the following cell:"
   ]
  },
  {
   "cell_type": "code",
   "execution_count": 3,
   "metadata": {
    "deletable": false,
    "editable": false,
    "nbgrader": {
     "cell_type": "code",
     "checksum": "713ea2a16e664690b2c7ad8e00651bb3",
     "grade": false,
     "grade_id": "cell-0c0c163e60346fb0",
     "locked": true,
     "schema_version": 3,
     "solution": false
    }
   },
   "outputs": [
    {
     "name": "stdout",
     "output_type": "stream",
     "text": [
      "apple\n",
      "banana\n",
      "carrot\n"
     ]
    }
   ],
   "source": [
    "for thing in L:\n",
    "    print(thing)"
   ]
  },
  {
   "cell_type": "markdown",
   "metadata": {
    "deletable": false,
    "editable": false,
    "nbgrader": {
     "cell_type": "markdown",
     "checksum": "6ee77bd193ad1147326e20823ab3ceb0",
     "grade": false,
     "grade_id": "cell-4e612fa75ef0721b",
     "locked": true,
     "schema_version": 3,
     "solution": false
    }
   },
   "source": [
    "Actually, the price of using `for` is that we're missing one thing: before we were printing out the _location_ of each entry in the list, using `i`.  With a `for` loop, no index variable is available, so we lose that information.\n",
    "\n",
    "Fortunately, there is a middle ground: we can loop over the values of `i` using a `for` loop!  In the cell below, __use a `for` loop with the `range` function__ to match the output of the `while` loop above.  (Remember, `range()` works just like `np.arange()`.)"
   ]
  },
  {
   "cell_type": "code",
   "execution_count": 4,
   "metadata": {
    "deletable": false,
    "nbgrader": {
     "cell_type": "code",
     "checksum": "cfdcefce83fd9851b6461b0025977047",
     "grade": true,
     "grade_id": "cell-789d2ea964d7267a",
     "locked": false,
     "points": 2,
     "schema_version": 3,
     "solution": true
    }
   },
   "outputs": [
    {
     "name": "stdout",
     "output_type": "stream",
     "text": [
      "Entry 0 in list L is:  apple\n",
      "Entry 1 in list L is:  banana\n",
      "Entry 2 in list L is:  carrot\n"
     ]
    }
   ],
   "source": [
    "for i in range(len(L)):\n",
    "    print(\"Entry %d in list L is: \" % i, L[i])"
   ]
  },
  {
   "cell_type": "markdown",
   "metadata": {},
   "source": [
    "\n",
    "### Part B: The accumulator\n",
    "\n",
    "We've seen the __accumulator pattern__ once before, on tutorial 11 when trying to sum up a sequence of numbers.  The basic idea is that we define an _accumulator variable_, which begins at zero, at the start; inside of our loop, we then perform the operation\n",
    "\n",
    "```python\n",
    "accumulator = accumulator + current_term\n",
    "```\n",
    "\n",
    "For example, if we are just adding up the entries of a list `L`, here is what will be in `accumulator` after each of the first few loops:\n",
    "\n",
    "```python\n",
    "accumulator = 0\n",
    "accumulator = L[0]\n",
    "accumulator = L[0] + L[1]\n",
    "accumulator = L[0] + L[1] + L[2]\n",
    "...\n",
    "```\n",
    "\n",
    "\n",
    "so that at the end, the accumulator variable will contain the result `first_term + second_term + ... + last_term`.  Note that it's crucial we define the accumulator _outside_ the loop!  (If we had `accumulator = 0` _inside_ the loop, then it would be reset to zero every time through, and we wouldn't be able to accumulate anything but the current term.)\n",
    "\n",
    "More concretely, here is a `while` loop that uses the accumulator pattern to add up the first `N` powers of two, __starting at two__:\n",
    "\n",
    "```python\n",
    "def sum_powers_of_two(N):\n",
    "    i = 1  # Iterator\n",
    "    total = 0  # Accumulator\n",
    "    \n",
    "    while i <= N:\n",
    "        current_term = 2**i\n",
    "        total += current_term\n",
    "        i += 1\n",
    "        \n",
    "    return total\n",
    "```\n",
    "\n",
    "(I used `total` for my accumulator variable name because it's easier to type than `accumulator`!)  In the cell below, __use a `for` loop instead of a `while` loop__ to implement this function.  \n",
    "\n",
    "_(Hint: as above, you can use `range()` to make a list of `i` values, and then compute `2**i` inside your loop.  Be careful with what is included in your range - we want to include $2^N$ in our sum!)_"
   ]
  },
  {
   "cell_type": "code",
   "execution_count": 5,
   "metadata": {
    "deletable": false,
    "nbgrader": {
     "cell_type": "code",
     "checksum": "1300f381ef9d1d51b13be926220ba52b",
     "grade": false,
     "grade_id": "cell-7b158a20b41e0541",
     "locked": false,
     "schema_version": 3,
     "solution": true
    }
   },
   "outputs": [],
   "source": [
    "def sum_powers_of_two(N):\n",
    "    ### BEGIN SOLUTION\n",
    "    total = 0\n",
    "    \n",
    "    for i in range(1,N+1):  # Range includes N as the last entry\n",
    "        total += 2**i\n",
    "        \n",
    "    return total\n",
    "    ### END SOLUTION\n",
    "    "
   ]
  },
  {
   "cell_type": "code",
   "execution_count": 6,
   "metadata": {
    "deletable": false,
    "editable": false,
    "nbgrader": {
     "cell_type": "code",
     "checksum": "3c1fc66fb8a39c2ea873e256faf2eb04",
     "grade": true,
     "grade_id": "cell-8d6719c65a72f3ad",
     "locked": true,
     "points": 0,
     "schema_version": 3,
     "solution": false
    }
   },
   "outputs": [
    {
     "name": "stdout",
     "output_type": "stream",
     "text": [
      "2\n",
      "14\n",
      "30\n"
     ]
    }
   ],
   "source": [
    "print(sum_powers_of_two(1))  # 2\n",
    "print(sum_powers_of_two(3))  # 2+4+8 = 14\n",
    "print(sum_powers_of_two(4))  # 2+4+8+16 = 30"
   ]
  },
  {
   "cell_type": "markdown",
   "metadata": {
    "deletable": false,
    "editable": false,
    "nbgrader": {
     "cell_type": "markdown",
     "checksum": "9ba07022c190de99b189aeebd2a49a13",
     "grade": false,
     "grade_id": "cell-e86df3e28b36e9af",
     "locked": true,
     "schema_version": 3,
     "solution": false
    }
   },
   "source": [
    "### Part C: The accumulator and other objects\n",
    "\n",
    "When working with lists, we very often want to carry out some operations on the entries and produce a _new_ list.  The accumulator pattern gives us a way to do that, as well!  The idea is the same as above: we start with an empty accumulator, and add the results one at a time in a loop.  In this case, the \"empty accumulator\" is the empty list `[]`, and we add by concatenating to it!\n",
    "\n",
    "(This works for all kinds of objects; for example, if you look back at the \"FizzBuzz\" example on tutorial 11, you'll see that we used a version of the accumulator pattern that started with an empty string `''`.)\n",
    "\n",
    "Here's an alternative implementation of the `copy()` function acting on a list using the accumulator pattern:"
   ]
  },
  {
   "cell_type": "code",
   "execution_count": 13,
   "metadata": {
    "deletable": false,
    "editable": false,
    "nbgrader": {
     "cell_type": "code",
     "checksum": "507432d4deec7be99f50e9fec3fc58be",
     "grade": false,
     "grade_id": "cell-f4eda5d82c0bc94c",
     "locked": true,
     "schema_version": 3,
     "solution": false
    }
   },
   "outputs": [
    {
     "data": {
      "text/plain": [
       "[4, 5, 6]"
      ]
     },
     "execution_count": 13,
     "metadata": {},
     "output_type": "execute_result"
    }
   ],
   "source": [
    "def copy_list(L):\n",
    "    new_list = []  # Accumulator\n",
    "    i = 0  # Index\n",
    "    \n",
    "    while i < len(L):\n",
    "        new_list.append(L[i])\n",
    "        i += 1\n",
    "        \n",
    "    return new_list\n",
    "\n",
    "\n",
    "copy_list([4,5,6])"
   ]
  },
  {
   "cell_type": "markdown",
   "metadata": {
    "deletable": false,
    "editable": false,
    "nbgrader": {
     "cell_type": "markdown",
     "checksum": "80e6e9a85e6eea5492cadc19e1524ad7",
     "grade": false,
     "grade_id": "cell-c544f67d40b2bd24",
     "locked": true,
     "schema_version": 3,
     "solution": false
    }
   },
   "source": [
    "(Note that we could also have written the accumulation step as `new_list += [ item ]`; we make a new one-element list for `item` because we can only add lists to lists.  But the `.append` version is easier to read, isn't it?)\n",
    "\n",
    "Now you try it!  In the cell below, __implement the function `double_list_items(L)`__, which should return a new list which consists of the elements of `L` in the same order multiplied by 2.  Once again, __use a `for` loop instead of a `while` loop__ in your solution."
   ]
  },
  {
   "cell_type": "code",
   "execution_count": 14,
   "metadata": {
    "deletable": false,
    "nbgrader": {
     "cell_type": "code",
     "checksum": "23e9bd400f3f3c99dcb1643f71648383",
     "grade": false,
     "grade_id": "cell-30022e5263af9c4f",
     "locked": false,
     "schema_version": 3,
     "solution": true
    }
   },
   "outputs": [],
   "source": [
    "def double_list_items(L):\n",
    "    ### BEGIN SOLUTION\n",
    "    new_list = []  # Accumulator\n",
    "    \n",
    "    for item in L:\n",
    "        new_list.append(2*item)\n",
    "        \n",
    "    return new_list\n",
    "    ### END SOLUTION\n",
    "    \n",
    "    "
   ]
  },
  {
   "cell_type": "code",
   "execution_count": 15,
   "metadata": {
    "deletable": false,
    "editable": false,
    "nbgrader": {
     "cell_type": "code",
     "checksum": "8cad3a8ef6950c60a52da5764e5bdc15",
     "grade": true,
     "grade_id": "cell-fe2234cde78e18b0",
     "locked": true,
     "points": 0,
     "schema_version": 3,
     "solution": false
    }
   },
   "outputs": [
    {
     "name": "stdout",
     "output_type": "stream",
     "text": [
      "[2, 4, 8]\n",
      "['xx', 'yy', 'zz']\n",
      "[2.2, 4.4, 6.6]\n",
      "[1.1, 2.2, 3.3]\n"
     ]
    }
   ],
   "source": [
    "print(double_list_items([1,2,4]))  # [2, 4, 8]\n",
    "print(double_list_items(['x','y','z'])) # ['xx', 'yy', 'zz']\n",
    "\n",
    "L3 = [1.1, 2.2, 3.3]\n",
    "print(double_list_items(L3)) # [2.2, 4.4, 6.6]\n",
    "print(L3) # [1.1, 2.2, 3.3]"
   ]
  },
  {
   "cell_type": "markdown",
   "metadata": {
    "deletable": false,
    "editable": false,
    "nbgrader": {
     "cell_type": "markdown",
     "checksum": "546d7670deb40e12de6127d8df46076f",
     "grade": false,
     "grade_id": "cell-c7618a2712ffa65f",
     "locked": true,
     "schema_version": 3,
     "solution": false
    }
   },
   "source": [
    "### Part D: The sentinel\n",
    "\n",
    "Instead of operating on an entire list in a uniform way, sometimes we want to do just the opposite: locate a particular entry inside of a list.  In this situation, we can use the __sentinel pattern__.  This is another variation on the iterator, in which we define a _sentinel value_ that we are interested in, _prior to starting the loop_.  The execution of the loop is then changed in some way if the sentinel value is encountered.\n",
    "\n",
    "For example, here's a function that finds the position of the first occurence of the number 3 in a list:"
   ]
  },
  {
   "cell_type": "code",
   "execution_count": null,
   "metadata": {
    "deletable": false,
    "editable": false,
    "nbgrader": {
     "cell_type": "code",
     "checksum": "f82088c14a31babbdf2fd502f8742990",
     "grade": false,
     "grade_id": "cell-c531fae514f73431",
     "locked": true,
     "schema_version": 3,
     "solution": false
    }
   },
   "outputs": [],
   "source": [
    "def find_index_of_first_three(L):\n",
    "    sentinel = 3        \n",
    "    i = 0\n",
    "    \n",
    "    while i < len(L):\n",
    "        if L[i] == sentinel:  # Check sentinel value and branch\n",
    "            return i\n",
    "        \n",
    "        i += 1\n",
    "        \n",
    "    # If we got through the whole list without finding 3, return None\n",
    "    return None\n",
    "\n",
    "print(find_index_of_first_three([1,2,3,4,5]))\n",
    "print(find_index_of_first_three([1,2,4,5]))"
   ]
  },
  {
   "cell_type": "markdown",
   "metadata": {
    "deletable": false,
    "editable": false,
    "nbgrader": {
     "cell_type": "markdown",
     "checksum": "cb27043cfd42961d0e57fb2ba51ae516",
     "grade": false,
     "grade_id": "cell-49a1de55c5622e7a",
     "locked": true,
     "schema_version": 3,
     "solution": false
    }
   },
   "source": [
    "By the way, the simplest tasks we might use the sentinel pattern for are __finding if a value occurs in a list__, and if so, __finding where a value occurs, i.e. the index of that value__.  These are actually provided by two built-in Python functions: the `in` operator, and the `.index()` list method."
   ]
  },
  {
   "cell_type": "code",
   "execution_count": null,
   "metadata": {
    "deletable": false,
    "editable": false,
    "nbgrader": {
     "cell_type": "code",
     "checksum": "3cd4252a5dc64133f15389aaf00e8b4a",
     "grade": false,
     "grade_id": "cell-b29e3cc06741eadb",
     "locked": true,
     "schema_version": 3,
     "solution": false
    }
   },
   "outputs": [],
   "source": [
    "print(3 in [1,2,3,4,3])\n",
    "print([1,2,3,4,3].index(3))  # Note: only finds *first* index from the left."
   ]
  },
  {
   "cell_type": "markdown",
   "metadata": {
    "deletable": false,
    "editable": false,
    "nbgrader": {
     "cell_type": "markdown",
     "checksum": "0f95b7d3100ed99abde2f2d99bff259d",
     "grade": false,
     "grade_id": "cell-8b2b1b97bc5bd166",
     "locked": true,
     "schema_version": 3,
     "solution": false
    }
   },
   "source": [
    "Your turn to try!  __Implement the function `first_entry_appears_twice(L)`__, which will use the _first entry_ `L[0]` of the list `L` as a sentinel value, looping through the _rest_ of the list to see if it appears a second time or not.  Your function should return `True` if `L[0]` appears again later in the list, and `False` otherwise."
   ]
  },
  {
   "cell_type": "code",
   "execution_count": 9,
   "metadata": {
    "deletable": false,
    "nbgrader": {
     "cell_type": "code",
     "checksum": "4111013f729f2361e0e2595bf8df2e64",
     "grade": false,
     "grade_id": "cell-c890abf7de41e1cb",
     "locked": false,
     "schema_version": 3,
     "solution": true
    }
   },
   "outputs": [],
   "source": [
    "def first_entry_appears_twice(L):\n",
    "    ### BEGIN SOLUTION\n",
    "    for i in range(1, len(L)):\n",
    "        if L[i] == L[0]:\n",
    "            return True\n",
    "        \n",
    "    # Got through the whole list without finding L[0]\n",
    "    return False\n",
    "\n",
    "    ### END SOLUTION\n",
    "    "
   ]
  },
  {
   "cell_type": "code",
   "execution_count": 10,
   "metadata": {
    "deletable": false,
    "editable": false,
    "nbgrader": {
     "cell_type": "code",
     "checksum": "6839d40e3b4f8124bff844a05fe68cac",
     "grade": true,
     "grade_id": "cell-440fe0a07f11e467",
     "locked": true,
     "points": 0,
     "schema_version": 3,
     "solution": false
    }
   },
   "outputs": [
    {
     "name": "stdout",
     "output_type": "stream",
     "text": [
      "True\n",
      "True\n",
      "False\n"
     ]
    }
   ],
   "source": [
    "print(first_entry_appears_twice([0,0,1,0,0,1]))  # True\n",
    "print(first_entry_appears_twice([1,2,4,1]))      # True\n",
    "print(first_entry_appears_twice(['x','y','z']))  # False"
   ]
  },
  {
   "cell_type": "markdown",
   "metadata": {
    "deletable": false,
    "editable": false,
    "nbgrader": {
     "cell_type": "markdown",
     "checksum": "39d6935693f1a7ecbc316bd82b1667e2",
     "grade": false,
     "grade_id": "cell-270ef1fc20967460",
     "locked": true,
     "schema_version": 3,
     "solution": false
    }
   },
   "source": [
    "Note: the `break` and `continue` loop control keywords commonly appear with the sentinel pattern!  In this case, because we're writing a function, we can use `return` in place of a `break`: it terminates the loop as soon as the sentinel condition is met.\n",
    "\n",
    "All of these patterns can occur in different forms, and even in combination with each other!  For example, we could combine the accumulator and the sentinel to count how many vowels are in a string: the accumulator to store a count, and the sentinel values `vowels = ['a','e','i','o','u']` to check against on every iteration.  And as we've seen, they can use either `for` or `while`, with some minor structural differences.\n",
    "\n",
    "### Part E: A warning about loops and speed\n",
    "\n",
    "Any of the functions we just implemented using explicit loop control could also have been written using NumPy functions and arrays instead.  When possible, we should usually prefer NumPy arrays to lists; as I've mentioned, NumPy is constructed to do array operations _very_ efficiently, so there's a big boost in performance we can gain!\n",
    "\n",
    "Let's see an example.  For a list of numbers, the `double_list_items()` function you wrote above is just like multiplying a NumPy array by two:"
   ]
  },
  {
   "cell_type": "code",
   "execution_count": 11,
   "metadata": {
    "deletable": false,
    "editable": false,
    "nbgrader": {
     "cell_type": "code",
     "checksum": "eece218ef1054667bc14228a79ab1562",
     "grade": false,
     "grade_id": "cell-6a1f5d7c04337ba4",
     "locked": true,
     "schema_version": 3,
     "solution": false
    }
   },
   "outputs": [
    {
     "name": "stdout",
     "output_type": "stream",
     "text": [
      "[0, 2, 4, 6, 8]\n",
      "[0 2 4 6 8]\n"
     ]
    }
   ],
   "source": [
    "import numpy as np\n",
    "\n",
    "print(double_list_items(range(5)))\n",
    "print(2*np.arange(5))"
   ]
  },
  {
   "cell_type": "markdown",
   "metadata": {
    "deletable": false,
    "editable": false,
    "nbgrader": {
     "cell_type": "markdown",
     "checksum": "6920c5e832a92397ea4c7e3c8d46fb52",
     "grade": false,
     "grade_id": "cell-f57df4faae51126d",
     "locked": true,
     "schema_version": 3,
     "solution": false
    }
   },
   "source": [
    "Although both versions work, we can ask what the _computational efficiency_ is: on our current computer, which can produce a fixed number of calculations per second, how long does one version take versus the other?\n",
    "\n",
    "Time for another Jupyter magic command!  The `%timeit` command runs a function repeatedly, and gives a mean + standard deviation estimate for how long it takes to execute each time.  (Running repeatedly is good for consistency, since the computer is doing lots of things at once, so there may be unpredictable slowdowns from one function call to another.)\n",
    "\n",
    "__Run the cell below__ to see how your function stacks up against NumPy!"
   ]
  },
  {
   "cell_type": "code",
   "execution_count": 12,
   "metadata": {
    "deletable": false,
    "editable": false,
    "nbgrader": {
     "cell_type": "code",
     "checksum": "6aeb2329f793c4f3ad24001cc144dcae",
     "grade": false,
     "grade_id": "cell-00ef5199347bf52e",
     "locked": true,
     "schema_version": 3,
     "solution": false
    }
   },
   "outputs": [
    {
     "name": "stdout",
     "output_type": "stream",
     "text": [
      "701 µs ± 2.07 µs per loop (mean ± std. dev. of 7 runs, 1000 loops each)\n",
      "9.99 µs ± 20.5 ns per loop (mean ± std. dev. of 7 runs, 100000 loops each)\n"
     ]
    }
   ],
   "source": [
    "%timeit double_list_items(range(10000))\n",
    "%timeit 2*np.arange(10000)"
   ]
  },
  {
   "cell_type": "markdown",
   "metadata": {
    "deletable": false,
    "editable": false,
    "nbgrader": {
     "cell_type": "markdown",
     "checksum": "a4cadb9d9e67beaf621a931532293e39",
     "grade": false,
     "grade_id": "cell-667ac3e57c743c9d",
     "locked": true,
     "schema_version": 3,
     "solution": false
    }
   },
   "source": [
    "On my desktop, our custom function took 785 microseconds to run, and the NumPy verison took 7.6 microseconds - about a _factor of 100_ speed-up!\n",
    "\n",
    "__Why is there such a huge difference?__ In short, NumPy comes with a large amount of pre-built _compiled_ code, which means the loop required to deal with the whole array is executed immediately as machine code.  When we wrote a `for` loop in Python, the Python interpreter is producing instructions for the machine _every time through the loop_ - and with 10000 loops, the cost of running the interpreter over and over adds up quickly!\n",
    "\n",
    "We're not going to spend a huge amount of time on optimization of code in this class: this is actually a perfect example of why.  Although the code we wrote is 100x slower, 785 _microseconds_ is still an imperceptible amount of time to wait for the answer - so _it doesn't matter!_  __Optimization should only be confronted if the time it takes your code to execute is too slow to deal with.__\n",
    "\n",
    "That being said, _when possible you should use NumPy instead of Python `for` loops_, because the difference is so substantial and we're often using NumPy anyways.  \n",
    "\n",
    "So why are we bothering to learn `for` loops at all?  There are a number of __iterative algorithms__, like the square root one we saw, where we _can't_ just deal with whole NumPy arrays at once: each step depends on the outcome of the previous step."
   ]
  },
  {
   "cell_type": "markdown",
   "metadata": {
    "deletable": false,
    "editable": false,
    "nbgrader": {
     "cell_type": "markdown",
     "checksum": "7dd679dce3864c17ff907688cd9af74b",
     "grade": false,
     "grade_id": "cell-6adc4c9e15eb1fd2",
     "locked": true,
     "schema_version": 3,
     "solution": false
    }
   },
   "source": [
    "## T14.2 - More list practice"
   ]
  },
  {
   "cell_type": "markdown",
   "metadata": {
    "deletable": false,
    "editable": false,
    "nbgrader": {
     "cell_type": "markdown",
     "checksum": "2f66f92ac9bde938533e92276880fa7a",
     "grade": false,
     "grade_id": "cell-1ad0a790c1623b02",
     "locked": true,
     "schema_version": 3,
     "solution": false
    }
   },
   "source": [
    "First, __run the cell below__ to load some pre-made lists.  You'll then be manipulating the lists in various ways.  If you accidentally mangle one of the lists below, remember you can just come back and re-run this initialization cell."
   ]
  },
  {
   "cell_type": "code",
   "execution_count": 16,
   "metadata": {
    "deletable": false,
    "editable": false,
    "nbgrader": {
     "cell_type": "code",
     "checksum": "25ed21636a2d1f480eff7992a14e153c",
     "grade": false,
     "grade_id": "cell-a31111ad31304b83",
     "locked": true,
     "schema_version": 3,
     "solution": false
    }
   },
   "outputs": [],
   "source": [
    "# Initialize some lists for below\n",
    "# Re-run me to reset the lists, if needed!\n",
    "\n",
    "fundamental_forces = ['electromagnetic', 'strong nuclear', 'weak nuclear']\n",
    "planets = ['Mercury', 'Venus', 'Earth', 'Mars', 'Jupiter', 'Saturn', 'Uranus', 'Neptune', 'Pluto']\n",
    "planet_moons = [0, 0, 1, 2, 79, 61, 27, 14, 5]\n",
    "\n",
    "# Each position measurement is a list of the form [x, y, z]\n",
    "positions = [\n",
    "    [0.0, 0.0, 2.7],\n",
    "    [1.0, 2.5, 2.3],\n",
    "    [2.0, 4.6, 1.9],\n",
    "    [3.0, 6.3, 1.5],\n",
    "]"
   ]
  },
  {
   "cell_type": "markdown",
   "metadata": {
    "deletable": false,
    "editable": false,
    "nbgrader": {
     "cell_type": "markdown",
     "checksum": "43e16716e369f6eca6abd041e5ba14ad",
     "grade": false,
     "grade_id": "cell-e139f7c7ec75e882",
     "locked": true,
     "schema_version": 3,
     "solution": false
    }
   },
   "source": [
    "### Part A\n",
    "\n",
    "Add `'gravity'` to the end of the list `fundamental_forces`.  Then, use a `for` loop to print out each entry in `fundamental_forces` on a separate line."
   ]
  },
  {
   "cell_type": "code",
   "execution_count": 17,
   "metadata": {
    "deletable": false,
    "nbgrader": {
     "cell_type": "code",
     "checksum": "b1fdcdffbef58fc10f8c8c7c47226e6d",
     "grade": true,
     "grade_id": "cell-6fdcaaaff0011271",
     "locked": false,
     "points": 0,
     "schema_version": 3,
     "solution": true
    }
   },
   "outputs": [
    {
     "name": "stdout",
     "output_type": "stream",
     "text": [
      "electromagnetic\n",
      "strong nuclear\n",
      "weak nuclear\n",
      "gravity\n"
     ]
    }
   ],
   "source": [
    "### BEGIN SOLUTION\n",
    "fundamental_forces.append('gravity')\n",
    "# Or: fundamental_forces = fundamental_forces + ['gravity']\n",
    "\n",
    "for force in fundamental_forces:\n",
    "    print(force)\n",
    "### END SOLUTION"
   ]
  },
  {
   "cell_type": "markdown",
   "metadata": {
    "deletable": false,
    "editable": false,
    "nbgrader": {
     "cell_type": "markdown",
     "checksum": "a54524d264d43b3fe6269c1416b04e9f",
     "grade": false,
     "grade_id": "cell-5a8af5e7584883b8",
     "locked": true,
     "schema_version": 3,
     "solution": false
    }
   },
   "source": [
    "### Part B\n",
    "\n",
    "Remove `'Pluto'` from the list `planets`.  (Sorry, Pluto!)\n",
    "\n",
    "_(Once you've solved this, try running the cell again a couple of times, and notice what happens...)_"
   ]
  },
  {
   "cell_type": "code",
   "execution_count": 18,
   "metadata": {
    "deletable": false,
    "nbgrader": {
     "cell_type": "code",
     "checksum": "c10fb982ccff76f55571c51e189110e6",
     "grade": true,
     "grade_id": "cell-fa68d0599101798d",
     "locked": false,
     "points": 0,
     "schema_version": 3,
     "solution": true
    }
   },
   "outputs": [
    {
     "data": {
      "text/plain": [
       "['Mercury', 'Venus', 'Earth', 'Mars', 'Jupiter', 'Saturn', 'Uranus', 'Neptune']"
      ]
     },
     "execution_count": 18,
     "metadata": {},
     "output_type": "execute_result"
    }
   ],
   "source": [
    "### BEGIN SOLUTION\n",
    "del planets[-1]\n",
    "\n",
    "## Alternative solutions:\n",
    "# planets.pop()\n",
    "# planets = planets[:-1]\n",
    "\n",
    "### END SOLUTION\n",
    "\n",
    "planets"
   ]
  },
  {
   "cell_type": "markdown",
   "metadata": {
    "deletable": false,
    "editable": false,
    "nbgrader": {
     "cell_type": "markdown",
     "checksum": "0bb1313d61e67e36a25156c66eb53a97",
     "grade": false,
     "grade_id": "cell-d226cd456c7df610",
     "locked": true,
     "schema_version": 3,
     "solution": false
    }
   },
   "source": [
    "### Part C\n",
    "\n",
    "Use a `for` loop to run through the list of planets, and print out the name and the number of moons (from `planet_moons`) for each.  For example,\n",
    "\n",
    "```python\n",
    "\"Mars has 2 moons.\"\n",
    "```\n",
    "\n",
    "(You don't need to include Pluto, since you just deleted it!)\n",
    "\n",
    "_(Hint: the iterator pattern also provides a nice way to run through a pair of matching lists of the same length, like `planets` and_ `planet_moons` _here.)_\n",
    "\n",
    "_(__Optional challenge:__ can you fix up your code so that it prints \"moon\" and not \"moons\" for the Earth?  Better yet, can you do it without writing more than one `print()` statement?)_"
   ]
  },
  {
   "cell_type": "code",
   "execution_count": 19,
   "metadata": {
    "deletable": false,
    "nbgrader": {
     "cell_type": "code",
     "checksum": "668627803b714af675164795c5a3eff0",
     "grade": true,
     "grade_id": "cell-6de8ab799f0c7e67",
     "locked": false,
     "points": 0,
     "schema_version": 3,
     "solution": true
    }
   },
   "outputs": [
    {
     "name": "stdout",
     "output_type": "stream",
     "text": [
      "Mercury has 0 moons.\n",
      "Venus has 0 moons.\n",
      "Earth has 1 moon.\n",
      "Mars has 2 moons.\n",
      "Jupiter has 79 moons.\n",
      "Saturn has 61 moons.\n",
      "Uranus has 27 moons.\n",
      "Neptune has 14 moons.\n"
     ]
    }
   ],
   "source": [
    "for i in range(len(planets)):\n",
    "    planet = planets[i]\n",
    "    moon_num = planet_moons[i]\n",
    "    if (moon_num == 1):\n",
    "        moon_str = \"moon.\"\n",
    "    else:\n",
    "        moon_str = \"moons.\"\n",
    "\n",
    "    print(planet, \"has\", moon_num, moon_str)"
   ]
  },
  {
   "cell_type": "markdown",
   "metadata": {
    "deletable": false,
    "editable": false,
    "nbgrader": {
     "cell_type": "markdown",
     "checksum": "dbd729dea72f3333780de94dcffdb208",
     "grade": false,
     "grade_id": "cell-2d0f2d4bf820aff7",
     "locked": true,
     "schema_version": 3,
     "solution": false
    }
   },
   "source": [
    "### Part D\n",
    "\n",
    "From the 'list of lists' `positions`, which consists of smaller lists of coordinates `[x,y,z]`, produce a single list `y_pos` containing all of the y-coordinate entries (middle entry in each sub-list.)\n",
    "\n",
    "_(Hint: The accumulator pattern will be useful here.)_"
   ]
  },
  {
   "cell_type": "code",
   "execution_count": 20,
   "metadata": {
    "deletable": false,
    "nbgrader": {
     "cell_type": "code",
     "checksum": "25699f1c6f3b901a4c72617cb05bb1dc",
     "grade": true,
     "grade_id": "cell-a060038cdb1a662a",
     "locked": false,
     "points": 0,
     "schema_version": 3,
     "solution": true
    }
   },
   "outputs": [
    {
     "data": {
      "text/plain": [
       "[0.0, 2.5, 4.6, 6.3]"
      ]
     },
     "execution_count": 20,
     "metadata": {},
     "output_type": "execute_result"
    }
   ],
   "source": [
    "### BEGIN SOLUTION\n",
    "\n",
    "## `while` solution\n",
    "y_pos = []\n",
    "\n",
    "i = 0\n",
    "while i < len(positions):\n",
    "    y_pos.append(positions[i][1])\n",
    "    i += 1\n",
    "    \n",
    "## `for` solution\n",
    "y_pos = []\n",
    "\n",
    "for point in positions:\n",
    "    y_pos.append(point[1])\n",
    "    \n",
    "### END SOLUTION\n",
    "\n",
    "y_pos"
   ]
  },
  {
   "cell_type": "markdown",
   "metadata": {
    "deletable": false,
    "editable": false,
    "nbgrader": {
     "cell_type": "markdown",
     "checksum": "8ba8514ee98990d99dade35aa0d4bb68",
     "grade": false,
     "grade_id": "cell-a9fd015ccb528e01",
     "locked": true,
     "schema_version": 3,
     "solution": false
    }
   },
   "source": [
    "### Part E\n",
    "\n",
    "The Taylor series of a function about `x=0` can be written in the form\n",
    "\n",
    "$$\n",
    "f(x) = \\sum_{i=0}^{\\infty} a_i x^i\n",
    "$$\n",
    "\n",
    "The list `a_sin` below contains the first six terms in the series expansion of `sin(x)`.  Use it with a `for` loop to __implement the function `series_sin(x)`__, which should return the approximate numerical value of `sin(x)` using the series."
   ]
  },
  {
   "cell_type": "code",
   "execution_count": 21,
   "metadata": {
    "deletable": false,
    "nbgrader": {
     "cell_type": "code",
     "checksum": "e2ec933ca62caafdce7a5dd11deaf067",
     "grade": false,
     "grade_id": "cell-c47aaba58f63b841",
     "locked": false,
     "schema_version": 3,
     "solution": true
    }
   },
   "outputs": [],
   "source": [
    "a_sin = [0, 1, 0, -1/6, 0, 1/120]\n",
    "\n",
    "def series_sin(x):\n",
    "    ### BEGIN SOLUTION\n",
    "    result = 0.0\n",
    "    \n",
    "    for i in range(len(a_sin)):\n",
    "        result += a_sin[i] * x**i\n",
    "        \n",
    "    return result\n",
    "    ### END SOLUTION\n",
    "    "
   ]
  },
  {
   "cell_type": "code",
   "execution_count": 22,
   "metadata": {
    "deletable": false,
    "editable": false,
    "nbgrader": {
     "cell_type": "code",
     "checksum": "9d4e8766c0d0089925dfe8bc36aa11d9",
     "grade": true,
     "grade_id": "cell-e9c9b7e13d4bcb9c",
     "locked": true,
     "points": 0,
     "schema_version": 3,
     "solution": false
    }
   },
   "outputs": [
    {
     "name": "stdout",
     "output_type": "stream",
     "text": [
      "0.8416666666666667\n",
      "0.8414709848078965\n"
     ]
    }
   ],
   "source": [
    "# These should match in the first three digits.\n",
    "# Pretty good for only keeping three terms in the series!\n",
    "\n",
    "print(series_sin(1))\n",
    "print(np.sin(1))\n"
   ]
  }
 ],
 "metadata": {
  "kernelspec": {
   "display_name": "Python 3",
   "language": "python",
   "name": "python3"
  },
  "language_info": {
   "codemirror_mode": {
    "name": "ipython",
    "version": 3
   },
   "file_extension": ".py",
   "mimetype": "text/x-python",
   "name": "python",
   "nbconvert_exporter": "python",
   "pygments_lexer": "ipython3",
   "version": "3.6.8"
  }
 },
 "nbformat": 4,
 "nbformat_minor": 2
}
