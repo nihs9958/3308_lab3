{
 "cells": [
  {
   "cell_type": "markdown",
   "metadata": {
    "deletable": false,
    "editable": false,
    "nbgrader": {
     "cell_type": "markdown",
     "checksum": "3e7a3e7ac254d57b37257b8e8b53a1d9",
     "grade": false,
     "grade_id": "cell-732613da6c8a0a62",
     "locked": true,
     "schema_version": 3,
     "solution": false
    }
   },
   "source": [
    "# Tutorial 9: Booleans and Assertions\n",
    "\n",
    "## PHYS 2600, Spring 2019"
   ]
  },
  {
   "cell_type": "markdown",
   "metadata": {
    "deletable": false,
    "editable": false,
    "nbgrader": {
     "cell_type": "markdown",
     "checksum": "9c1efcf50dbea23c118d44649e2faf8e",
     "grade": false,
     "grade_id": "cell-76b75e18bb6ec1c5",
     "locked": true,
     "schema_version": 3,
     "solution": false
    }
   },
   "source": [
    "## T9.1 - Some Boolean logic\n",
    "\n",
    "Let's do some basic exercises with using Boolean types and the logical operators `and`, `or`, and `not`.  When working in logic, it's often useful to write down a __truth table__, which lists all possible outcomes of a certain logical operation.  Here are the truth tables for `and` and `or`, for your reference as you're working below:\n",
    "\n",
    "<img src=\"https://physicscourses.colorado.edu/phys2600/phys2600_sp19/img/truth-table.png\" width=500px />\n",
    "\n",
    "### Part A\n",
    "\n",
    "Use Python statements to verify the following more complicated logical statements:\n",
    "\n",
    "* (T and F) or T --> T\n",
    "* (F or F) and T --> F\n",
    "* (F and T) or (F and F) --> F"
   ]
  },
  {
   "cell_type": "code",
   "execution_count": 1,
   "metadata": {
    "deletable": false,
    "nbgrader": {
     "cell_type": "code",
     "checksum": "01fac43e00e9c02798fd3952b7004ecc",
     "grade": true,
     "grade_id": "cell-93f2c8965854b1dd",
     "locked": false,
     "points": 2,
     "schema_version": 3,
     "solution": true
    }
   },
   "outputs": [
    {
     "name": "stdout",
     "output_type": "stream",
     "text": [
      "True\n",
      "False\n",
      "False\n"
     ]
    }
   ],
   "source": [
    "print((True and False) or True)\n",
    "print((False or False) and True)\n",
    "print((False and True) or (False and False))"
   ]
  },
  {
   "cell_type": "markdown",
   "metadata": {
    "deletable": false,
    "editable": false,
    "nbgrader": {
     "cell_type": "markdown",
     "checksum": "8b7ba312ecc53246b3a29af2c3059945",
     "grade": false,
     "grade_id": "cell-b42bdc2ba6b84637",
     "locked": true,
     "schema_version": 3,
     "solution": false
    }
   },
   "source": [
    "### Part B\n",
    "\n",
    "We've seen this flowchart for a recipe for meringue cookies a couple of times now:\n",
    "\n",
    "<img src=\"https://physicscourses.colorado.edu/phys2600/phys2600_sp19/img/lec1-meringue.png\" width=600px />\n",
    "\n",
    "The original recipe is meant for humans, but it's not hard to imagine trying to implement this for a computer!  Suppose we are writing code for a \"smart oven\" which will cook this recipe: we're currently working on the step where we decide whether to take the cookies out of the oven or not (the right half of the diagram.)\n",
    "\n",
    "__Complete the function `finished_baking()` below__, which should return `True` if either condition in the blue box on the right is satisfied (i.e. if oven_min is greater than 45 or firm_to_touch is true), and `False` otherwise."
   ]
  },
  {
   "cell_type": "code",
   "execution_count": 2,
   "metadata": {
    "deletable": false,
    "nbgrader": {
     "cell_type": "code",
     "checksum": "e0962621818f19edb06e4f9ca4b065df",
     "grade": false,
     "grade_id": "cell-6491f6674126231d",
     "locked": false,
     "schema_version": 3,
     "solution": true
    }
   },
   "outputs": [],
   "source": [
    "def finished_baking(oven_min, firm_to_touch):\n",
    "    ### BEGIN SOLUTION\n",
    "    past_oven_time_limit = oven_min > 45\n",
    "    \n",
    "    return past_oven_time_limit or firm_to_touch\n",
    "    ### END SOLUTION\n",
    "    "
   ]
  },
  {
   "cell_type": "markdown",
   "metadata": {
    "deletable": false,
    "editable": false,
    "nbgrader": {
     "cell_type": "markdown",
     "checksum": "46ca161903366436f4ca704fdda72d95",
     "grade": false,
     "grade_id": "cell-135655606e78714e",
     "locked": true,
     "schema_version": 3,
     "solution": false
    }
   },
   "source": [
    "This might seem like a silly example to you, but there's no reason this couldn't be real-life working code!  There could be a real timer that sets the variable `oven_min`, and a microcontroller and some sort of probe that sets `firm_to_touch` in a different test routine.\n",
    "\n",
    "Now in the next cell, __write your own tests__: create three `assert` statements that use the `finished_baking` function and make sure it gives the expected output."
   ]
  },
  {
   "cell_type": "code",
   "execution_count": 3,
   "metadata": {
    "deletable": false,
    "nbgrader": {
     "cell_type": "code",
     "checksum": "c23e830e8b7e57bc888668db3cc6169f",
     "grade": false,
     "grade_id": "cell-524b8cbda79f2ed5",
     "locked": false,
     "schema_version": 3,
     "solution": true
    }
   },
   "outputs": [],
   "source": [
    "assert finished_baking(60, False) == True\n",
    "assert finished_baking(35, True) == True\n",
    "assert finished_baking(45, False) == False"
   ]
  },
  {
   "cell_type": "markdown",
   "metadata": {
    "deletable": false,
    "editable": false,
    "nbgrader": {
     "cell_type": "markdown",
     "checksum": "65c2a20490053015fe8b15489be5021f",
     "grade": false,
     "grade_id": "cell-96639b4ae40f7249",
     "locked": true,
     "schema_version": 3,
     "solution": false
    }
   },
   "source": [
    "You probably wrote the tests above using the `==` operator, which is normal for a test like this.  But for Boolean data only, __using `==` is almost always redundant.__  For example, suppose we want use an `assert` to make sure that `my_condition` is `True`.  We could write it like this:"
   ]
  },
  {
   "cell_type": "code",
   "execution_count": 4,
   "metadata": {},
   "outputs": [],
   "source": [
    "my_condition = True\n",
    "assert my_condition == True"
   ]
  },
  {
   "cell_type": "markdown",
   "metadata": {
    "deletable": false,
    "editable": false,
    "nbgrader": {
     "cell_type": "markdown",
     "checksum": "4dbf04b1a4ae8bce67c05836265a58a5",
     "grade": false,
     "grade_id": "cell-510eef0e24d2c7fb",
     "locked": true,
     "schema_version": 3,
     "solution": false
    }
   },
   "source": [
    "__Try running the cell above__ with `my_condition` set to both `True` and `False`; you'll find that it works perfectly.  But so does _this:_"
   ]
  },
  {
   "cell_type": "code",
   "execution_count": 5,
   "metadata": {},
   "outputs": [],
   "source": [
    "my_condition = True\n",
    "assert my_condition"
   ]
  },
  {
   "cell_type": "markdown",
   "metadata": {
    "deletable": false,
    "editable": false,
    "nbgrader": {
     "cell_type": "markdown",
     "checksum": "887696d9898934e102e656ffa8bab618",
     "grade": false,
     "grade_id": "cell-481177581d61fd00",
     "locked": true,
     "schema_version": 3,
     "solution": false
    }
   },
   "source": [
    "The statement `my_condition == True` is _identical_ to just `my_condition`, because the equality test maps `True` to `True`, and `False` to `False`!\n",
    "\n",
    "What if we want to test for a condition being _false_?  Again, we could use `==`, but it turns out that the `not` operator does the same thing:"
   ]
  },
  {
   "cell_type": "code",
   "execution_count": 6,
   "metadata": {},
   "outputs": [
    {
     "name": "stdout",
     "output_type": "stream",
     "text": [
      "False\n",
      "False\n",
      "True\n",
      "True\n"
     ]
    }
   ],
   "source": [
    "print(True == False)\n",
    "print(not True)\n",
    "\n",
    "print(False == False)\n",
    "print(not False)"
   ]
  },
  {
   "cell_type": "markdown",
   "metadata": {
    "deletable": false,
    "editable": false,
    "nbgrader": {
     "cell_type": "markdown",
     "checksum": "18783854cc94b0e45b159eaea85eec07",
     "grade": false,
     "grade_id": "cell-bbda0369abf0b800",
     "locked": true,
     "schema_version": 3,
     "solution": false
    }
   },
   "source": [
    "So we could just write `assert not thing_that_should_be_false`, and again skip using `==`.  \n",
    "\n",
    "Try to get in the habit of skipping `==` when testing Boolean variables!  It will make your code cleaner, and if you pick good variable names it can be just as clear to read statements like `assert oven_is_preheated` or `assert not oven_is_on_fire`.\n",
    "\n",
    "__If you used `==` in your `assert` statements above, go back now and rewrite them without `==`.__"
   ]
  },
  {
   "cell_type": "markdown",
   "metadata": {
    "deletable": false,
    "editable": false,
    "nbgrader": {
     "cell_type": "markdown",
     "checksum": "d9e1c462edc988940fd3085680a334ff",
     "grade": false,
     "grade_id": "cell-72e43e573ddc86d7",
     "locked": true,
     "schema_version": 3,
     "solution": false
    }
   },
   "source": [
    "## T9.2 - A cautionary tale about `==`"
   ]
  },
  {
   "cell_type": "markdown",
   "metadata": {
    "deletable": false,
    "editable": false,
    "nbgrader": {
     "cell_type": "markdown",
     "checksum": "8f33b1efe7d6981613822fe3f0d719da",
     "grade": false,
     "grade_id": "cell-6cee30a22c043d16",
     "locked": true,
     "schema_version": 3,
     "solution": false
    }
   },
   "source": [
    "### Part A\n",
    "\n",
    "Suppose we want to implement a function `is_triple(x,y)` which returns a Boolean result: `True` if `y` is 3 times `x`, and `False` otherwise.  (Don't ask me _why_ we want such a contrived function, it's just an example.)  Here's one simple way to do it:"
   ]
  },
  {
   "cell_type": "code",
   "execution_count": 7,
   "metadata": {
    "deletable": false,
    "editable": false,
    "nbgrader": {
     "cell_type": "code",
     "checksum": "dab62762951e61d95c5b1678661dedce",
     "grade": false,
     "grade_id": "cell-198606448b44ec57",
     "locked": true,
     "schema_version": 3,
     "solution": false
    }
   },
   "outputs": [],
   "source": [
    "def is_triple(x, y):\n",
    "    return y == 3*x"
   ]
  },
  {
   "cell_type": "markdown",
   "metadata": {
    "deletable": false,
    "editable": false,
    "nbgrader": {
     "cell_type": "markdown",
     "checksum": "c363887a225e199cf3e611e0cb924f68",
     "grade": false,
     "grade_id": "cell-966566d2c3c64b5b",
     "locked": true,
     "schema_version": 3,
     "solution": false
    }
   },
   "source": [
    "Looks reasonable, at least for the first few tests, but notice that the fourth test is wrong below:"
   ]
  },
  {
   "cell_type": "code",
   "execution_count": 8,
   "metadata": {
    "deletable": false,
    "editable": false,
    "nbgrader": {
     "cell_type": "code",
     "checksum": "c370606f891a1c8ff7ac30b83d2f132a",
     "grade": true,
     "grade_id": "cell-b0daa4b64035f749",
     "locked": true,
     "points": 0,
     "schema_version": 3,
     "solution": false
    }
   },
   "outputs": [
    {
     "name": "stdout",
     "output_type": "stream",
     "text": [
      "True\n",
      "True\n",
      "True\n",
      "False\n"
     ]
    }
   ],
   "source": [
    "## Testing cell - all should be True\n",
    "\n",
    "print(is_triple(3.,9.))\n",
    "print(is_triple(1,3.))\n",
    "print(is_triple(1/3.,1.))\n",
    "print(is_triple(1/355.,3/355.))"
   ]
  },
  {
   "cell_type": "markdown",
   "metadata": {
    "deletable": false,
    "editable": false,
    "nbgrader": {
     "cell_type": "markdown",
     "checksum": "effe2f9721c2cc1e14a77a69e33e66dc",
     "grade": false,
     "grade_id": "cell-d00ec015854c00ca",
     "locked": true,
     "schema_version": 3,
     "solution": false
    }
   },
   "source": [
    "Why do you think `is_triple` doesn't work as expected in the fourth test case?"
   ]
  },
  {
   "cell_type": "markdown",
   "metadata": {
    "deletable": false,
    "nbgrader": {
     "cell_type": "markdown",
     "checksum": "51f333077ed033f4c5d47806b3456b3f",
     "grade": true,
     "grade_id": "cell-a4a75f69a401ea2a",
     "locked": false,
     "points": 0,
     "schema_version": 3,
     "solution": true
    }
   },
   "source": [
    "_Type your answer here using Markdown._"
   ]
  },
  {
   "cell_type": "markdown",
   "metadata": {
    "deletable": false,
    "editable": false,
    "nbgrader": {
     "cell_type": "markdown",
     "checksum": "e57cf134e1cb534d45eaa60ad9654d51",
     "grade": false,
     "grade_id": "cell-25cee83ad44ecd0e",
     "locked": true,
     "schema_version": 3,
     "solution": false
    }
   },
   "source": [
    "### Part B\n",
    "\n",
    "Implement a better version of this function, `is_approx_triple(x,y,prec)`, where `prec` should start with a default value of `1e-10`.  This function should check to make sure that y is equal to 3x only up to differences of order `prec`.  Then run the testing cell below and make sure everything prints `True`."
   ]
  },
  {
   "cell_type": "code",
   "execution_count": 9,
   "metadata": {
    "deletable": false,
    "nbgrader": {
     "cell_type": "code",
     "checksum": "5f02d2d75cec08a549dbf8b806be3435",
     "grade": false,
     "grade_id": "cell-d78da5928505435c",
     "locked": false,
     "schema_version": 3,
     "solution": true
    }
   },
   "outputs": [],
   "source": [
    "def is_float_triple(x, y, prec=1e-10):\n",
    "    ## BEGIN SOLUTION\n",
    "    return abs(y-3*x) < prec\n",
    "    ## END SOLUTION\n",
    "    "
   ]
  },
  {
   "cell_type": "code",
   "execution_count": 10,
   "metadata": {
    "deletable": false,
    "editable": false,
    "nbgrader": {
     "cell_type": "code",
     "checksum": "2958b1c00e20a6565e4322b0b32fb413",
     "grade": true,
     "grade_id": "cell-e1e34db5e48ff7fc",
     "locked": true,
     "points": 0,
     "schema_version": 3,
     "solution": false
    }
   },
   "outputs": [
    {
     "name": "stdout",
     "output_type": "stream",
     "text": [
      "True\n",
      "True\n",
      "True\n",
      "True\n",
      "True\n"
     ]
    }
   ],
   "source": [
    "## Testing cell - all should be True\n",
    "\n",
    "print(is_float_triple(3.,9.))\n",
    "print(is_float_triple(1.,3.))\n",
    "print(is_float_triple(1/64.,3/64.))\n",
    "print(is_float_triple(1/10.,3/10.))\n",
    "print(is_float_triple(1/355.,3/355.))"
   ]
  },
  {
   "cell_type": "markdown",
   "metadata": {
    "deletable": false,
    "editable": false,
    "nbgrader": {
     "cell_type": "markdown",
     "checksum": "213e7d6903bacbeda5d7cdbaed6c2fe9",
     "grade": false,
     "grade_id": "cell-b919d555a02c3f63",
     "locked": true,
     "schema_version": 3,
     "solution": false
    }
   },
   "source": [
    "Now, __make the default value of `prec` smaller__ until you can reproduce the behavior of the original `is_triple()` function.  Thinking back to [our lecture on floating-point numbers](https://physicscourses.colorado.edu/phys2600/phys2600_sp19/lecture/lec04-numbers-binary/), we recall that the truncation error appears around 1 part in $10^{16}$;  __where do you actually see the behavior change?__\n",
    "\n",
    "_HINT: there is a common bug that you may have introduced in_ `is_float_triple` - _in fact, I introduced it in my first attempt.  If you're not seeing the expected behavior, try setting `prec=0`.  What should that give you, and what do you see?_"
   ]
  },
  {
   "cell_type": "code",
   "execution_count": 11,
   "metadata": {
    "deletable": false,
    "nbgrader": {
     "cell_type": "code",
     "checksum": "8549310ab2decf78919397e2f5dd58ff",
     "grade": false,
     "grade_id": "cell-03c258c4f632f7f2",
     "locked": false,
     "schema_version": 3,
     "solution": true
    }
   },
   "outputs": [
    {
     "data": {
      "text/plain": [
       "False"
      ]
     },
     "execution_count": 11,
     "metadata": {},
     "output_type": "execute_result"
    }
   ],
   "source": [
    "is_float_triple(1/355.,3/355.,prec=1e-18)"
   ]
  },
  {
   "cell_type": "markdown",
   "metadata": {
    "deletable": false,
    "nbgrader": {
     "cell_type": "markdown",
     "checksum": "1083f03800fdbd665e74bc4a3a95ea09",
     "grade": true,
     "grade_id": "cell-213d0ede38c08cfa",
     "locked": false,
     "points": 0,
     "schema_version": 3,
     "solution": true
    }
   },
   "source": [
    "__The average 64-bit truncation error we estimated on tutorial 4 was about $10^{-16}$, but that's the _relative error_; since 3/335 starts around 0.01, we actually need `prec` of about $10^{-18}$ to recover the disagreement.__"
   ]
  },
  {
   "cell_type": "markdown",
   "metadata": {
    "deletable": false,
    "editable": false,
    "nbgrader": {
     "cell_type": "markdown",
     "checksum": "07f7e26846c0cc005f4642308a85b90a",
     "grade": false,
     "grade_id": "cell-76cfa8b66a5080bb",
     "locked": true,
     "schema_version": 3,
     "solution": false
    }
   },
   "source": [
    "__Important info:__ we don't have to do this by hand!  You've probably seen me import the `numpy.testing` module in some test cells already.  There are [a bunch of testing functions available](https://docs.scipy.org/doc/numpy/reference/routines.testing.html) in this module, but the one I commonly use is `numpy.testing.assert_allclose`, which has the following signature:\n",
    "\n",
    "```\n",
    "numpy.testing.assert_allclose(actual, desired, rtol=1e-7, atol=0)\n",
    "```\n",
    "(and a couple more optional arguments which you will rarely need.)  Here `rtol` is short for \"__relative tolerance__\", which tests for equality as a fraction of the second argument passed, `desired`.  `atol` is short for \"__absolute tolerance__\", which is what we did in the example above: it just tests for the difference to be small than `atol`.\n",
    "\n",
    "To restate it following the documentation: this function carries out the test\n",
    "```\n",
    "assert abs(actual - desired) < atol + rtol * abs(desired)\n",
    "```\n",
    "Of course, this function has one more advantage over the one we wrote: it works on entire NumPy arrays as well as single numbers.\n",
    "\n",
    "As the example above illustrated, to avoid things like floating-point truncation error, `rtol` is usually a more appropriate choice!  In general, __only use `atol` if you know to expect some source of absolute error.__"
   ]
  },
  {
   "cell_type": "markdown",
   "metadata": {
    "deletable": false,
    "editable": false,
    "nbgrader": {
     "cell_type": "markdown",
     "checksum": "c542f8d7bd0fb7d15b397f6920f6bec7",
     "grade": false,
     "grade_id": "cell-420f675bf9809b66",
     "locked": true,
     "schema_version": 3,
     "solution": false
    }
   },
   "source": [
    "### Part C\n",
    "\n",
    "Now that you know how to deal with floating-point numbers in comparisons, let's try a more interesting function!  We can always tell whether a given triangle is a _right triangle_ just by knowing the lengths of the three sides: they will satisfy the Pythagorean theorem $a^2 + b^2 = c^2$ if any angle is 90 degrees.\n",
    "\n",
    "__Implement the function `is_nearly_right_triangle()` below__, which should return `True` if a triangle with sides `s,t,u` is a right triangle, and `False` otherwise.\n",
    "\n",
    "_(Hint: remember that you don't know beforehand which of `s,t,u` is the longest side...)_"
   ]
  },
  {
   "cell_type": "code",
   "execution_count": 12,
   "metadata": {
    "deletable": false,
    "nbgrader": {
     "cell_type": "code",
     "checksum": "eea7d2de700c9f36f571a454d8b61d1b",
     "grade": false,
     "grade_id": "cell-ebf7ba549e8645e4",
     "locked": false,
     "schema_version": 3,
     "solution": true
    }
   },
   "outputs": [],
   "source": [
    "def is_nearly_right_triangle(s,t,u,prec=1e-6):\n",
    "    ### BEGIN SOLUTION\n",
    "    # Test all three possibilities for the Pythagorean theorem!\n",
    "    test_pyth_1 = s**2 + t**2 - u**2 <= prec\n",
    "    test_pyth_2 = s**2 + u**2 - t**2 <= prec\n",
    "    test_pyth_3 = t**2 + u**2 - s**2 <= prec\n",
    "    \n",
    "    # Return True if any of the three combinations are True\n",
    "    return test_pyth_1 or test_pyth_2 or test_pyth_3\n",
    "    ### END SOLUTION\n",
    "    "
   ]
  },
  {
   "cell_type": "code",
   "execution_count": 13,
   "metadata": {
    "deletable": false,
    "editable": false,
    "nbgrader": {
     "cell_type": "code",
     "checksum": "a194481eec889f4efb1b4da52e8d9ca7",
     "grade": true,
     "grade_id": "cell-ad413f4900de05b6",
     "locked": true,
     "points": 0,
     "schema_version": 3,
     "solution": false
    }
   },
   "outputs": [],
   "source": [
    "import numpy as np\n",
    "\n",
    "assert not is_nearly_right_triangle(3.0, 3.0, 3.0)\n",
    "assert is_nearly_right_triangle(3.0, 4.0, 5.0)\n",
    "assert is_nearly_right_triangle(5.0, 3.0, 4.0)\n",
    "assert is_nearly_right_triangle(3.0, 5.0, 4.0)\n",
    "assert is_nearly_right_triangle(np.sqrt(2), 1.0, 1.0)\n",
    "assert is_nearly_right_triangle(1.4, 1.0, 1.0, prec=0.1)"
   ]
  }
 ],
 "metadata": {
  "kernelspec": {
   "display_name": "Python 3",
   "language": "python",
   "name": "python3"
  },
  "language_info": {
   "codemirror_mode": {
    "name": "ipython",
    "version": 3
   },
   "file_extension": ".py",
   "mimetype": "text/x-python",
   "name": "python",
   "nbconvert_exporter": "python",
   "pygments_lexer": "ipython3",
   "version": "3.6.8"
  }
 },
 "nbformat": 4,
 "nbformat_minor": 2
}
