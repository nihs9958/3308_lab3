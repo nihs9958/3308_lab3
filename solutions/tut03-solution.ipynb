{
 "cells": [
  {
   "cell_type": "markdown",
   "metadata": {
    "deletable": false,
    "editable": false,
    "nbgrader": {
     "cell_type": "markdown",
     "checksum": "95480c546d297cf6d41e96af81a04b3f",
     "grade": false,
     "grade_id": "cell-9965c34681692e12",
     "locked": true,
     "schema_version": 3,
     "solution": false
    }
   },
   "source": [
    "# Tutorial 3: Variables and Strings\n",
    "\n",
    "## PHYS 2600, Spring 2019"
   ]
  },
  {
   "cell_type": "markdown",
   "metadata": {
    "deletable": false,
    "editable": false,
    "nbgrader": {
     "cell_type": "markdown",
     "checksum": "2b51659c3f62b134c8b7c3d242dd1636",
     "grade": false,
     "grade_id": "cell-3997b2869e6a5c2c",
     "locked": true,
     "schema_version": 3,
     "solution": false
    }
   },
   "source": [
    "## T3.1 - Using variables and assignment\n",
    "\n",
    "Let's begin with some practice using variables and the assignment operator `=`.\n"
   ]
  },
  {
   "cell_type": "markdown",
   "metadata": {
    "deletable": false,
    "editable": false,
    "nbgrader": {
     "cell_type": "markdown",
     "checksum": "552ea0025e94445468f00084eb588f5b",
     "grade": false,
     "grade_id": "cell-f8b3a71c698ec0a4",
     "locked": true,
     "schema_version": 3,
     "solution": false
    }
   },
   "source": [
    "### Part A\n",
    "\n",
    "Try to run the cell below - __why doesn't it work?__  Fix the code so that the cell runs and prints the answer (5)."
   ]
  },
  {
   "cell_type": "code",
   "execution_count": 1,
   "metadata": {
    "deletable": false,
    "nbgrader": {
     "cell_type": "code",
     "checksum": "67674e4fa1308d5d1999e2310bc5d264",
     "grade": true,
     "grade_id": "cell-a96e3abd68ff17d4",
     "locked": false,
     "points": 2,
     "schema_version": 3,
     "solution": true
    }
   },
   "outputs": [
    {
     "name": "stdout",
     "output_type": "stream",
     "text": [
      "5\n"
     ]
    }
   ],
   "source": [
    "### BEGIN SOLUTION\n",
    "# This cell fails because of how assignment works in Python!\n",
    "# We can't save the symbolic expression \"A + B\" to C, instead\n",
    "# Python tries to evaluate \"A + B\" and finds those variables don't exist.\n",
    "\n",
    "A = 2\n",
    "B = 3\n",
    "C = A + B\n",
    "\n",
    "### END SOLUTION\n",
    "\n",
    "C = A + B\n",
    "A = 2\n",
    "B = 3\n",
    "print(C)\n",
    "\n"
   ]
  },
  {
   "cell_type": "markdown",
   "metadata": {},
   "source": [
    "### Part B\n",
    "\n",
    "The cell below defines variables `pi` and `r`, containing the constant $\\pi$ and the radius of a circle $r$.  Use the variables to calculate the area of a circle with the given radius of 2 meters.  __Save your answer to the variable `area`.__"
   ]
  },
  {
   "cell_type": "code",
   "execution_count": 2,
   "metadata": {
    "deletable": false,
    "nbgrader": {
     "cell_type": "code",
     "checksum": "74f0d7a92fdcc460d97b2dbe505357d9",
     "grade": false,
     "grade_id": "cell-ddf5e4e39185322b",
     "locked": false,
     "schema_version": 3,
     "solution": true
    }
   },
   "outputs": [],
   "source": [
    "pi = 3.14159\n",
    "r = 2\n",
    "\n",
    "### BEGIN SOLUTION\n",
    "area = pi * r**2\n",
    "### END SOLUTION\n"
   ]
  },
  {
   "cell_type": "markdown",
   "metadata": {
    "deletable": false,
    "editable": false,
    "nbgrader": {
     "cell_type": "markdown",
     "checksum": "e9009f8c249bcbc6bfd602094d534bc6",
     "grade": false,
     "grade_id": "cell-b6ae7af667eea62c",
     "locked": true,
     "schema_version": 3,
     "solution": false
    }
   },
   "source": [
    "Once you've finished the cell above, run the below __testing cell__.  If you did everything right, the cell below will _run and produce no output_: this means your code passes the test.  On the other hand, if there is a problem, you will see an _error message_ when you run the cell below.\n",
    "\n",
    "(These testing cells will be very common in tutorial and homework, as ways to check that your code is working correctly.)"
   ]
  },
  {
   "cell_type": "code",
   "execution_count": 3,
   "metadata": {
    "deletable": false,
    "editable": false,
    "nbgrader": {
     "cell_type": "code",
     "checksum": "4f578d59c0c0c1ca2a503bdcb19f2b3b",
     "grade": true,
     "grade_id": "cell-0fb90a5076947d99",
     "locked": true,
     "points": 0,
     "schema_version": 3,
     "solution": false
    }
   },
   "outputs": [],
   "source": [
    "## Testing cell - read the Markdown cell above, then run me!\n",
    "# Don't worry about the syntax here yet - you'll learn to write your own tests soon.\n",
    "\n",
    "assert (area - 12.566) <= 0.001"
   ]
  },
  {
   "cell_type": "markdown",
   "metadata": {},
   "source": [
    "Now we'd like to find the area of a circle with a radius of 5 meters instead.  _Why doesn't the cell below work as written?_  Once you think you know the problem, __modify the code to print the right area__ (the answer should be about 78.5.)\n",
    "\n",
    "(If you're not sure what's going wrong, copy your code from the first cell and from the one below into the [Python Tutor](http://www.pythontutor.com/visualize.html#mode=edit) and see what happens line by line.)"
   ]
  },
  {
   "cell_type": "code",
   "execution_count": 4,
   "metadata": {
    "deletable": false,
    "nbgrader": {
     "cell_type": "code",
     "checksum": "193bacaa5a24e183750874010338bd02",
     "grade": false,
     "grade_id": "cell-7378195071de13cf",
     "locked": false,
     "schema_version": 3,
     "solution": true
    }
   },
   "outputs": [
    {
     "name": "stdout",
     "output_type": "stream",
     "text": [
      "78.53975\n"
     ]
    }
   ],
   "source": [
    "r = 5  # Update r to 5 meters\n",
    "\n",
    "### BEGIN SOLUTION\n",
    "# Remember how assignment works: when we write area = pi * r**2,\n",
    "# area gets the _numeric value_ from evaluating the right-hand side.\n",
    "# Since it doesn't store a symbolic expression, changing r later\n",
    "# won't change area!\n",
    "\n",
    "area = pi * r**2\n",
    "### END SOLUTION\n",
    "\n",
    "print(area)"
   ]
  },
  {
   "cell_type": "markdown",
   "metadata": {
    "deletable": false,
    "editable": false,
    "nbgrader": {
     "cell_type": "markdown",
     "checksum": "b390ac6309b476e25f5b20524f35425f",
     "grade": false,
     "grade_id": "cell-02482f3900a3011d",
     "locked": true,
     "schema_version": 3,
     "solution": false
    }
   },
   "source": [
    "## T3.2 - String formatting\n",
    "\n",
    "Use `%` to create the following as a formatted string, using the two variables set below:\n",
    "\n",
    "`40% of all people know that 82.4% of all statistics are made up on the spot.`"
   ]
  },
  {
   "cell_type": "code",
   "execution_count": 6,
   "metadata": {
    "deletable": false,
    "nbgrader": {
     "cell_type": "code",
     "checksum": "ad93c6c2ead16b3e769a5634c06f6bc4",
     "grade": false,
     "grade_id": "cell-6643f7825888d6b6",
     "locked": false,
     "schema_version": 3,
     "solution": true
    }
   },
   "outputs": [
    {
     "name": "stdout",
     "output_type": "stream",
     "text": [
      "40% of all people know that 82.4% of all statistics are made up on the spot.\n"
     ]
    }
   ],
   "source": [
    "people_know = 40\n",
    "made_up = 82.4\n",
    "\n",
    "### BEGIN SOLUTION\n",
    "print('%d%% of all people know that %g%% of all statistics are made up on the spot.' % (people_know, made_up))\n",
    "### END SOLUTION\n"
   ]
  },
  {
   "cell_type": "markdown",
   "metadata": {
    "deletable": false,
    "editable": false,
    "nbgrader": {
     "cell_type": "markdown",
     "checksum": "7d38fc483f14eaea13690dd857194e4d",
     "grade": false,
     "grade_id": "cell-f3455895d56648f5",
     "locked": true,
     "schema_version": 3,
     "solution": false
    }
   },
   "source": [
    "Write the following (with each color on a new line!) from a `print` statement on a single line by using the `\\n` character:\n",
    "\n",
    "`Red\n",
    "Green\n",
    "Blue`"
   ]
  },
  {
   "cell_type": "code",
   "execution_count": 7,
   "metadata": {
    "deletable": false,
    "nbgrader": {
     "cell_type": "code",
     "checksum": "747f7a1caca7da5bca06a63267b962c5",
     "grade": false,
     "grade_id": "cell-758c212d9a03daaa",
     "locked": false,
     "schema_version": 3,
     "solution": true
    }
   },
   "outputs": [
    {
     "name": "stdout",
     "output_type": "stream",
     "text": [
      "Red\n",
      "Green\n",
      "Blue\n"
     ]
    }
   ],
   "source": [
    "print(\"Red\\nGreen\\nBlue\")"
   ]
  },
  {
   "cell_type": "markdown",
   "metadata": {
    "deletable": false,
    "editable": false,
    "nbgrader": {
     "cell_type": "markdown",
     "checksum": "0c6698ecc27a33d532217013293239e7",
     "grade": false,
     "grade_id": "cell-99e6e10a120f294c",
     "locked": true,
     "schema_version": 3,
     "solution": false
    }
   },
   "source": [
    "There is a way to do the last example, i.e. to save the list of colors with line breaks to a single string, _without_ using the newline character `\\n`.  Can you do it in the cell below?"
   ]
  },
  {
   "cell_type": "code",
   "execution_count": 8,
   "metadata": {
    "deletable": false,
    "nbgrader": {
     "cell_type": "code",
     "checksum": "b51fde856e1b14ecc1739ac20cc0d770",
     "grade": false,
     "grade_id": "cell-35a11df6670c245e",
     "locked": false,
     "schema_version": 3,
     "solution": true
    }
   },
   "outputs": [
    {
     "name": "stdout",
     "output_type": "stream",
     "text": [
      "Red\n",
      "Green\n",
      "Blue\n"
     ]
    }
   ],
   "source": [
    "# Using a triple-quoted string lets us not use \\n explicitly!\n",
    "print(\"\"\"Red\n",
    "Green\n",
    "Blue\"\"\")"
   ]
  },
  {
   "cell_type": "markdown",
   "metadata": {
    "deletable": false,
    "editable": false,
    "nbgrader": {
     "cell_type": "markdown",
     "checksum": "acc761acaa9b4f4e503ca02a4c3fbee2",
     "grade": false,
     "grade_id": "cell-595c25987f418055",
     "locked": true,
     "schema_version": 3,
     "solution": false
    }
   },
   "source": [
    "Using a single `print()` statement in the code box below, produce the following string as output:\n",
    "\n",
    "`There's no 'I' in \"team\"!`\n",
    "\n",
    "_(Hint: to do this with one `print()`, you'll either need to use the escape character `\\`, or you'll need to concatenate two strings together with `+`.)_"
   ]
  },
  {
   "cell_type": "code",
   "execution_count": 9,
   "metadata": {
    "deletable": false,
    "nbgrader": {
     "cell_type": "code",
     "checksum": "a4d095483500285445ca4fd17efd3fa2",
     "grade": false,
     "grade_id": "cell-3186e355c7bbe665",
     "locked": false,
     "schema_version": 3,
     "solution": true
    }
   },
   "outputs": [
    {
     "name": "stdout",
     "output_type": "stream",
     "text": [
      "There's no 'I' in \"team\"!\n",
      "There's no 'I' in \"team\"!\n"
     ]
    }
   ],
   "source": [
    "# First option: escape characters\n",
    "my_str = \"There's no 'I' in \\\"team\\\"!\"\n",
    "print(my_str)\n",
    "\n",
    "# Second option: string concatenation\n",
    "first_str = \"There's no 'I' \"\n",
    "second_str = 'in \"team\"!'\n",
    "print(first_str + second_str)"
   ]
  },
  {
   "cell_type": "markdown",
   "metadata": {
    "deletable": false,
    "editable": false,
    "nbgrader": {
     "cell_type": "markdown",
     "checksum": "87116f5c2877e2861863542e172c1393",
     "grade": false,
     "grade_id": "cell-db58cbb16fcafa2d",
     "locked": true,
     "schema_version": 3,
     "solution": false
    }
   },
   "source": [
    "## T3.3 - An algorithm for the square root\n",
    "\n",
    "The machine-code instructions a CPU can execute are limited to fairly simple mathematical and logical operations; for anything more complicated, a human being needs to implement an _algorithm_ to carry out the calculation or task we want.\n",
    "\n",
    "Let's walk through a simple algorithm for computing the __square root__ of a number, using only simple math operations and some logic.  (In fact, modern CPUs can take a square root as a basic instruction, but many older ones could not, so they would have had to use something like this.)\n",
    "\n",
    "Here is the algorithm we will use, in words, for computing $y = \\sqrt{x}$:\n",
    "\n",
    "1. Start with an initial guess for y.\n",
    "2. Calculate y*y, and stop if it's \"close enough\" to x.\n",
    "3. Update y to the average of y and x/y: y --> (y+x/y)/2.\n",
    "4. Loop back to step 2.\n",
    "\n",
    "(This algorithm actually [dates back to the ancient Greeks](https://en.wikipedia.org/wiki/Methods_of_computing_square_roots)!)"
   ]
  },
  {
   "cell_type": "markdown",
   "metadata": {
    "deletable": false,
    "editable": false,
    "nbgrader": {
     "cell_type": "markdown",
     "checksum": "a8f75bc54828c857d8a212e014a36ae4",
     "grade": false,
     "grade_id": "cell-f08bf951fb0cacfa",
     "locked": true,
     "schema_version": 3,
     "solution": false
    }
   },
   "source": [
    "This is an example of an __iterative algorithm__, which is very common in computer programming.  It relies on a repeated sequence of steps to find the answer to a problem; the \"loop back\" step 4 above provides the repetition.\n",
    "\n",
    "At every step, we only need to know the current value of `y` to find the next one.  Since we don't need the full history of `y`, we can carry out the algorithm by __updating__ `y` at every step and overwriting the previous value.\n",
    "\n",
    "(In this context, we might call `y` a __temporary variable__, a __register variable__, or a __placeholder variable__.  All of these terms convey the idea that we re-use the name `y`, and it holds only the value from the last iteration we did.)\n",
    "\n",
    "### Part A\n",
    "\n",
    "Before we get to the square root, let's see the basic idea of variable updating.  Modify the cell below __using only copy and paste__ until the value 30 is stored in the variable `x`."
   ]
  },
  {
   "cell_type": "code",
   "execution_count": 11,
   "metadata": {
    "deletable": false,
    "nbgrader": {
     "cell_type": "code",
     "checksum": "e155779ea12e684abdba25ee8df7e3f9",
     "grade": false,
     "grade_id": "cell-c86c6eff756b89e7",
     "locked": false,
     "schema_version": 3,
     "solution": true
    }
   },
   "outputs": [
    {
     "name": "stdout",
     "output_type": "stream",
     "text": [
      "30\n"
     ]
    }
   ],
   "source": [
    "x = 0  ## Initial value for x\n",
    "\n",
    "x = x + 5\n",
    "### BEGIN SOLUTION\n",
    "x = x + 5\n",
    "x = x + 5\n",
    "x = x + 5\n",
    "x = x + 5\n",
    "x = x + 5\n",
    "### END SOLUTION\n",
    "\n",
    "print(x)"
   ]
  },
  {
   "cell_type": "code",
   "execution_count": null,
   "metadata": {
    "deletable": false,
    "editable": false,
    "nbgrader": {
     "cell_type": "code",
     "checksum": "a96a5b527fd921b197ec7c75ba2298f7",
     "grade": true,
     "grade_id": "cell-a5ca7d8d62fc3542",
     "locked": true,
     "points": 0,
     "schema_version": 3,
     "solution": false
    }
   },
   "outputs": [],
   "source": [
    "## Another testing cell!\n",
    "## If you did the cell above correctly, this cell will run and do nothing.\n",
    "## Otherwise, it will give an error message!\n",
    "\n",
    "assert x == 30"
   ]
  },
  {
   "cell_type": "markdown",
   "metadata": {
    "deletable": false,
    "editable": false,
    "nbgrader": {
     "cell_type": "markdown",
     "checksum": "37265f1e1963f4145bc7de2b4565f0bc",
     "grade": false,
     "grade_id": "cell-8e75f1c5946ec979",
     "locked": true,
     "schema_version": 3,
     "solution": false
    }
   },
   "source": [
    "### Part B\n",
    "\n",
    "Now let's use Python to find the square root of 749.  In the cell below, __implement the square root algorithm above__.  Each time you reach step 2, use a `print()` statement to check the value of `y*y` and see whether you need to add another loop.  Once again, using copy/paste is recommended here!\n",
    "\n",
    "Take your initial guess to be y=20, and let's say \"close enough\" is when our estimate for y*y is within 0.2 of 749.  (If you're doing it right, this should converge pretty quickly!)"
   ]
  },
  {
   "cell_type": "code",
   "execution_count": 12,
   "metadata": {
    "deletable": false,
    "nbgrader": {
     "cell_type": "code",
     "checksum": "045a5ee61f83a43814f545e6bdf7ab01",
     "grade": true,
     "grade_id": "cell-e750e06dab5c799d",
     "locked": false,
     "points": 0,
     "schema_version": 3,
     "solution": true
    }
   },
   "outputs": [
    {
     "name": "stdout",
     "output_type": "stream",
     "text": [
      "400\n",
      "825.1256250000001\n",
      "750.7558268117176\n",
      "749.0010266080137\n",
      "27.367883122521803\n"
     ]
    }
   ],
   "source": [
    "y=20\n",
    "x=749\n",
    "\n",
    "### BEGIN SOLUTION\n",
    "print(y*y)\n",
    "y=(y+x/y)/2\n",
    "print(y*y)\n",
    "y=(y+x/y)/2\n",
    "print(y*y)\n",
    "y=(y+x/y)/2\n",
    "print(y*y)\n",
    "print(y)\n",
    "### END SOLUTION"
   ]
  },
  {
   "cell_type": "markdown",
   "metadata": {
    "deletable": false,
    "editable": false,
    "nbgrader": {
     "cell_type": "markdown",
     "checksum": "423a87f4a562bdef1b07a2fb3396757d",
     "grade": false,
     "grade_id": "cell-b74c512aafb985a7",
     "locked": true,
     "schema_version": 3,
     "solution": false
    }
   },
   "source": [
    "The correct answer for the square root (as per my calculator) is 27.3679 - notice that we did very well, and the algorithm converged pretty quickly!  \n",
    "\n",
    "Other methods to compute the square root may have better (or worse) convergence, i.e. may require less (or more) steps to get the answer to the precision we want."
   ]
  },
  {
   "cell_type": "markdown",
   "metadata": {
    "deletable": false,
    "editable": false,
    "nbgrader": {
     "cell_type": "markdown",
     "checksum": "11f878bffb27e43c8f186c4b4ee7002c",
     "grade": false,
     "grade_id": "cell-a6c562cd2f0ea8aa",
     "locked": true,
     "schema_version": 3,
     "solution": false
    }
   },
   "source": [
    "Some final thoughts to consider, if you've reached the end early:\n",
    "\n",
    "* What happens if you start with a negative number as your guess for y?  Does the result make sense?\n",
    "* How much does the precision of your result improve as you keep adding more iterations of the algorithm?"
   ]
  }
 ],
 "metadata": {
  "kernelspec": {
   "display_name": "Python 3",
   "language": "python",
   "name": "python3"
  },
  "language_info": {
   "codemirror_mode": {
    "name": "ipython",
    "version": 3
   },
   "file_extension": ".py",
   "mimetype": "text/x-python",
   "name": "python",
   "nbconvert_exporter": "python",
   "pygments_lexer": "ipython3",
   "version": "3.6.7"
  }
 },
 "nbformat": 4,
 "nbformat_minor": 2
}
