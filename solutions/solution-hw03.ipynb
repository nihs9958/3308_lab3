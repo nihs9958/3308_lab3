{
 "cells": [
  {
   "cell_type": "markdown",
   "metadata": {
    "deletable": false,
    "editable": false,
    "nbgrader": {
     "cell_type": "markdown",
     "checksum": "0ddd2e1859f068a7fbbd0ed98d024c17",
     "grade": false,
     "grade_id": "cell-053f09c8a8a514e5",
     "locked": true,
     "schema_version": 3,
     "solution": false
    }
   },
   "source": [
    "# Homework #3\n",
    "\n",
    "## PHYS 2600, Spring 2019\n",
    "\n",
    "__Important notice:__ All cells in your notebook will be run, start to finish, using a fresh kernel when it is graded!  To make sure the graded notebook looks like what you expect, we recommend selecting \"Kernel > Restart & Run All\" in the menu above before you submit."
   ]
  },
  {
   "cell_type": "markdown",
   "metadata": {
    "deletable": false,
    "editable": false,
    "nbgrader": {
     "cell_type": "markdown",
     "checksum": "47411badbcdd134151ead945a6998d9d",
     "grade": false,
     "grade_id": "cell-06bff42e9e16d26f",
     "locked": true,
     "schema_version": 3,
     "solution": false
    }
   },
   "source": [
    "If you worked collaboratively on this assignment, __include the names of your collaborators in the cell below:__"
   ]
  },
  {
   "cell_type": "markdown",
   "metadata": {
    "deletable": false,
    "nbgrader": {
     "cell_type": "markdown",
     "checksum": "51fd038de689d6870d96cf5fc8044062",
     "grade": true,
     "grade_id": "cell-6aad98798978a240",
     "locked": false,
     "points": 0,
     "schema_version": 3,
     "solution": true
    }
   },
   "source": [
    "_Type your answer here using Markdown._"
   ]
  },
  {
   "cell_type": "markdown",
   "metadata": {
    "deletable": false,
    "editable": false,
    "nbgrader": {
     "cell_type": "markdown",
     "checksum": "e170ebb8ce24ffd523fecb6733ef94c9",
     "grade": false,
     "grade_id": "cell-9bbcf2e8b7cbb637",
     "locked": true,
     "schema_version": 3,
     "solution": false
    }
   },
   "source": [
    "## 3.0 - Homework correction (3 points)\n",
    "\n",
    "In the cell below, explain and correct __one mistake__ you made on the previous homework assignment.  If you got a perfect score, great!  Tell us what your favorite problem was, or use the space to give any other feedback you might have on the class/tutorials/homework."
   ]
  },
  {
   "cell_type": "markdown",
   "metadata": {
    "deletable": false,
    "nbgrader": {
     "cell_type": "markdown",
     "checksum": "5ce9a7b6d6cd92d8890072ee29bf8575",
     "grade": true,
     "grade_id": "cell-1689332322e959be",
     "locked": false,
     "points": 3,
     "schema_version": 3,
     "solution": true
    }
   },
   "source": [
    "_Type your answer here using Markdown._"
   ]
  },
  {
   "cell_type": "markdown",
   "metadata": {
    "deletable": false,
    "editable": false,
    "nbgrader": {
     "cell_type": "markdown",
     "checksum": "3060a1e5db6435fbfeac792c3a22b69a",
     "grade": false,
     "grade_id": "cell-4612f178ce775a1d",
     "locked": true,
     "schema_version": 3,
     "solution": false
    }
   },
   "source": [
    "## 3.1 - Dealing with multiple arguments (6 points)\n",
    "\n",
    "This problem concerns some typical 'gotcha' behaviors of function arguments that can lead to potential confusion.  Here is a brief reminder of some behaviors of functions that we discussed:\n",
    "\n",
    "* Positional arguments given to a function are assigned in order to the argument names as in the `def...` statement.\n",
    "* Keyword arguments can be in _any_ order, and are assigned to matching argument names as in the `def...` statement.\n",
    "* A function call has its own __local scope__; any variable names inside are temporary and distinct from those in the original (global) scope.\n",
    "\n",
    "For each of the code examples below, __explain the question in the comment__.  If you get stuck, refer back to lecture and tutorial 6, and don't be afraid to use the [Python Tutor](http://www.pythontutor.com/visualize.html#mode=edit)!"
   ]
  },
  {
   "cell_type": "code",
   "execution_count": null,
   "metadata": {
    "deletable": false,
    "editable": false,
    "nbgrader": {
     "cell_type": "code",
     "checksum": "3dc0843a8226f2387aaa0956e2d637f6",
     "grade": false,
     "grade_id": "cell-3e1c071ed72365a5",
     "locked": true,
     "schema_version": 3,
     "solution": false
    }
   },
   "outputs": [],
   "source": [
    "# Example A\n",
    "x = 2\n",
    "def H(x):\n",
    "    print(x)\n",
    "H(x=3)\n",
    "print(x)  ## Why doesn't this print 3?"
   ]
  },
  {
   "cell_type": "markdown",
   "metadata": {
    "deletable": false,
    "nbgrader": {
     "cell_type": "markdown",
     "checksum": "10eb8f7cca4c117599a56048a918ec82",
     "grade": true,
     "grade_id": "cell-405fa241d2f99528",
     "locked": false,
     "points": 2,
     "schema_version": 3,
     "solution": true
    }
   },
   "source": [
    "__The statement `H(x=3)` doesn't actually assign to the variable `x`; instead, it's passing by keyword to the `x` inside the _local scope_ of `H`.  The value `x=2` in global scope is unchanged.__"
   ]
  },
  {
   "cell_type": "code",
   "execution_count": null,
   "metadata": {
    "deletable": false,
    "editable": false,
    "nbgrader": {
     "cell_type": "code",
     "checksum": "160f34ad1069007a87fb7533ced734ae",
     "grade": false,
     "grade_id": "cell-4919e509063abe9a",
     "locked": true,
     "schema_version": 3,
     "solution": false
    }
   },
   "outputs": [],
   "source": [
    "# Example B\n",
    "x = 2; y = 3\n",
    "def F(y,x):\n",
    "    print(y,x)\n",
    "\n",
    "F(x, y)  ## Why does this print 2 3, and not 3 2?"
   ]
  },
  {
   "cell_type": "markdown",
   "metadata": {
    "deletable": false,
    "nbgrader": {
     "cell_type": "markdown",
     "checksum": "f7a99eb04dce8b62699443d7d9180f8a",
     "grade": true,
     "grade_id": "cell-777e387f4688f3c3",
     "locked": false,
     "points": 2,
     "schema_version": 3,
     "solution": true
    }
   },
   "source": [
    "__Remember, when we evaluate any Python statement, we use the _values_ contained in variables.  In this case, all the function `F` knows is that we're calling `F(2,3)`, so it sets `y` to 2 and `x` to 3 according to its call signature.  The `x` and `y` variables in global scope have nothing to do with the ones in the local scope of `F`!__"
   ]
  },
  {
   "cell_type": "code",
   "execution_count": null,
   "metadata": {
    "deletable": false,
    "editable": false,
    "nbgrader": {
     "cell_type": "code",
     "checksum": "42d6a7f1e8dd2f97d0342b305213df0f",
     "grade": false,
     "grade_id": "cell-ab378fd0bd2dac9b",
     "locked": true,
     "schema_version": 3,
     "solution": false
    }
   },
   "outputs": [],
   "source": [
    "# Example C\n",
    "x = 2; z = 3\n",
    "def G(x, y=1, z=2):\n",
    "    print(x,y,z)\n",
    "\n",
    "G(x, z)  ## Why does this print 2 3 2, and not 2 1 3?"
   ]
  },
  {
   "cell_type": "markdown",
   "metadata": {
    "deletable": false,
    "nbgrader": {
     "cell_type": "markdown",
     "checksum": "ccd5c597b440ed0ced6f99feb4d781ff",
     "grade": true,
     "grade_id": "cell-17bb48a3e0be4ffb",
     "locked": false,
     "points": 2,
     "schema_version": 3,
     "solution": true
    }
   },
   "source": [
    "__This is a tricky one, but it has to do with positional vs. keyword arguments.  When we call `G`, we give both arguments positionally: `G(x,z)` is equivalent to `G(x=x, y=z)`.  So inside of the function, local `y` is set to the value 3 (from the global-scope variable `z`), and local `z` assumes its default value of 2.__"
   ]
  },
  {
   "cell_type": "markdown",
   "metadata": {
    "deletable": false,
    "editable": false,
    "nbgrader": {
     "cell_type": "markdown",
     "checksum": "f06232e4cb49639ff89056da9e4f6a63",
     "grade": false,
     "grade_id": "cell-e4cee29e113a5998",
     "locked": true,
     "schema_version": 3,
     "solution": false
    }
   },
   "source": [
    "## 3.2 - Lots of plots (16 points)"
   ]
  },
  {
   "cell_type": "markdown",
   "metadata": {
    "deletable": false,
    "editable": false,
    "nbgrader": {
     "cell_type": "markdown",
     "checksum": "6f187895cacffa284a0fef67a7e5b32c",
     "grade": false,
     "grade_id": "cell-a1ed821e32584a68",
     "locked": true,
     "schema_version": 3,
     "solution": false
    }
   },
   "source": [
    "### Part A (3 points)\n",
    "\n",
    "Plot the function $f(x) = e^x + \\sin(2x) - x^2$ over the range $-2 \\leq x \\leq 2$.  __On the same plot__, include the function $g(x) = e^x$.  __Your plot should satisfy the following:__\n",
    "\n",
    "- Color: $f$ should be blue, and $g$ should be red.\n",
    "- Markers: no markers shown, just the lines.\n",
    "- Style: $f$ should be a solid line, and $g$ should be a dotted or dashed line.\n",
    "- Include a legend which shows clearly which function corresponds to which curve!"
   ]
  },
  {
   "cell_type": "code",
   "execution_count": 2,
   "metadata": {
    "deletable": false,
    "nbgrader": {
     "cell_type": "code",
     "checksum": "bacf33814b89a127800fa1052abfae18",
     "grade": true,
     "grade_id": "cell-6b76e882983a7ec2",
     "locked": false,
     "points": 3,
     "schema_version": 3,
     "solution": true
    }
   },
   "outputs": [
    {
     "data": {
      "text/plain": [
       "<matplotlib.legend.Legend at 0x7f756573ea20>"
      ]
     },
     "execution_count": 2,
     "metadata": {},
     "output_type": "execute_result"
    },
    {
     "data": {
      "image/png": "[encoded data removed]",
      "text/plain": [
       "<Figure size 432x288 with 1 Axes>"
      ]
     },
     "metadata": {
      "needs_background": "light"
     },
     "output_type": "display_data"
    }
   ],
   "source": [
    "import numpy as np\n",
    "import matplotlib.pyplot as plt\n",
    "\n",
    "### BEGIN SOLUTION\n",
    "x = np.linspace(-2,2,50)\n",
    "f = np.exp(x) + np.sin(2*x) - x**2\n",
    "g = np.exp(x)\n",
    "\n",
    "plt.plot(x,f,color='blue', label='f(x)')\n",
    "plt.plot(x,g,color='red',linestyle='-.', label='g(x)')\n",
    "plt.legend()\n",
    "### END SOLUTION"
   ]
  },
  {
   "cell_type": "markdown",
   "metadata": {
    "deletable": false,
    "editable": false,
    "nbgrader": {
     "cell_type": "markdown",
     "checksum": "ebaa8e7b3ee82558990218dff5d0021b",
     "grade": false,
     "grade_id": "cell-51014d4f3655d47e",
     "locked": true,
     "schema_version": 3,
     "solution": false
    }
   },
   "source": [
    "### Part B (3 points)\n",
    "\n",
    "Since `plt.plot()` simply takes lists of $x$ and $y$ coordinates for points, we've seen that it can easily deal with either lists of data, or functions plotted using `np.linspace`.  In fact, we can also easily use it with __parametric plots__, where both $x$ and $y$ are functions of some auxiliary variable $t$.\n",
    "\n",
    "__Make a plot of an ellipse below__ using `plt.plot`.  The equation for the ellipse you should plot is:\n",
    "\n",
    "\\\\[\n",
    "x = 1 + 2 \\cos(t) \\\\\n",
    "y = \\sin(t)\n",
    "\\\\]\n",
    "\n",
    "You can choose whatever range of $t$ you want, but make sure your ellipse doesn't have any gaps or jagged edges!\n",
    "\n",
    "To make it obvious that your ellipse is, in fact, an ellipse, __show your plot with both x and y ranging from -3 to 3.__"
   ]
  },
  {
   "cell_type": "code",
   "execution_count": 3,
   "metadata": {
    "deletable": false,
    "nbgrader": {
     "cell_type": "code",
     "checksum": "740bce69dc9b03283d8c053cd63c0aac",
     "grade": true,
     "grade_id": "cell-b684e3a310359762",
     "locked": false,
     "points": 3,
     "schema_version": 3,
     "solution": true
    }
   },
   "outputs": [
    {
     "data": {
      "text/plain": [
       "(-3, 3)"
      ]
     },
     "execution_count": 3,
     "metadata": {},
     "output_type": "execute_result"
    },
    {
     "data": {
      "image/png": "[encoded data removed]",
      "text/plain": [
       "<Figure size 432x288 with 1 Axes>"
      ]
     },
     "metadata": {
      "needs_background": "light"
     },
     "output_type": "display_data"
    }
   ],
   "source": [
    "import numpy as np\n",
    "import matplotlib.pyplot as plt\n",
    "\n",
    "### BEGIN SOLUTION\n",
    "t = np.linspace(0, 2*np.pi, 50)\n",
    "ellipse_x = 1 + 2*np.cos(t)\n",
    "ellipse_y = np.sin(t)\n",
    "\n",
    "plt.plot(ellipse_x, ellipse_y, color='orange')\n",
    "# Draw axes to make it look a little nicer\n",
    "plt.axhline(0)\n",
    "plt.axvline(0)\n",
    "plt.xlim(-3,3)\n",
    "plt.ylim(-3,3)\n",
    "### END SOLUTION"
   ]
  },
  {
   "cell_type": "markdown",
   "metadata": {
    "deletable": false,
    "editable": false,
    "nbgrader": {
     "cell_type": "markdown",
     "checksum": "323526aad5b8b824cb7d27095c8abb93",
     "grade": false,
     "grade_id": "cell-263563237a9fb4e9",
     "locked": true,
     "schema_version": 3,
     "solution": false
    }
   },
   "source": [
    "### Part C (5 points)\n",
    "\n",
    "_(adapted from Langtangen 5.28.)_\n",
    "\n",
    "A certain type of _wave packet_ is defined by the function\n",
    "\n",
    "\\\\[\n",
    "y(x,t) = e^{-(x-3t)^2} \\sin(3\\pi (x-3t))\n",
    "\\\\]\n",
    "\n",
    "This describes a \"traveling wave\" propagating through some medium; the shape of the packet remains fixed as it travels.  To see this, let's make a plot!  __Your plot should have the following content:__\n",
    "\n",
    "* It should be a plot versus $x$, over the range $-10 \\leq x \\leq 10$.\n",
    "* It should show the \"wave packet\" function $y(x,t)$ above versus $x$, for __five values of t__: -2, -1, 0, 1, and 2.\n",
    "* Each plot $y(x,t)$ for a given value of $t$ should be drawn as a different color.  (Pyplot should do this for you by default!)\n",
    "* The plot should have a legend of the form $t=X$, labeling each curve with the value of $t$ _as an integer_.  (Remember string formatting?  Now we really need it to get a nice-looking plot legend!)\n",
    "\n",
    "To discourage you from just using copy-and-paste, I've included a function stub `plot_wave_packet(x,t)` below, which you can implement to create the plot.  In fact, __you're only allowed to call `plt.plot()` inside of `plot_wave_packet(x,t)`__, just to make sure you're not tempted to copy-and-paste.  (To iterate over the five values of `t` with this function, a `for` loop would be helpful.)\n",
    "\n",
    "_(Note on functions and `pyplot`: since `pyplot` in general uses a single \"global state\" per cell, __your function doesn't have to return anything at all__; it can just operate on the global state with `plt.plot()` and other operations, and the plot will be created and shown in whatever cell you call_ `plot_wave_packet` _from.)_\n",
    "\n",
    "If you're bothered by how the legend most likely ends up overlapping part of your plot, have a look at the `bbox_to_anchor=...` keyword argument to `plt.legend()`, and see if you can fix the problem.  (This part is optional, but a useful thing to know about!)"
   ]
  },
  {
   "cell_type": "code",
   "execution_count": 4,
   "metadata": {
    "deletable": false,
    "nbgrader": {
     "cell_type": "code",
     "checksum": "88b37f72b56116afb1b7c0d4c6d7b076",
     "grade": true,
     "grade_id": "cell-ff96f1c873b02983",
     "locked": false,
     "points": 5,
     "schema_version": 3,
     "solution": true
    }
   },
   "outputs": [
    {
     "data": {
      "image/png": "[encoded data removed]",
      "text/plain": [
       "<Figure size 432x288 with 1 Axes>"
      ]
     },
     "metadata": {
      "needs_background": "light"
     },
     "output_type": "display_data"
    }
   ],
   "source": [
    "import matplotlib.pyplot as plt\n",
    "import numpy as np\n",
    "\n",
    "def plot_wave_packet(x, t):\n",
    "    ### BEGIN SOLUTION\n",
    "    u = (x-3*t)\n",
    "    y = np.exp(-u**2) * np.sin(3*np.pi*(x-3*t))\n",
    "\n",
    "    plt.plot(x,y, label='t={:d}'.format(t))\n",
    "    plt.legend(bbox_to_anchor=(1.3,1.1))\n",
    "    \n",
    "### END SOLUTION\n",
    "    \n",
    "\n",
    "x = np.linspace(-10,10,500)\n",
    "plot_wave_packet(x,-2)\n",
    "plot_wave_packet(x,-1)\n",
    "plot_wave_packet(x,0)\n",
    "plot_wave_packet(x,1)\n",
    "plot_wave_packet(x,2)\n"
   ]
  },
  {
   "cell_type": "markdown",
   "metadata": {
    "deletable": false,
    "editable": false,
    "nbgrader": {
     "cell_type": "markdown",
     "checksum": "777879545688c7e35e5516c55c2f97b6",
     "grade": false,
     "grade_id": "cell-c983d3815196cb34",
     "locked": true,
     "schema_version": 3,
     "solution": false
    }
   },
   "source": [
    "### Part D (5 points)\n",
    "\n",
    "Now an exercise in simple two-dimensional ballistics.  We'll start by recalling two textbook formulas for the trajectory $y(x)$ and for the maximum range $R$ of an object moving in 2d under the influence of gravity, starting at $y=0$:\n",
    "\n",
    "\\\\[\n",
    "y(x) = x \\tan \\theta - \\frac{gx^2}{2v_0^2 \\cos^2 \\theta} \\\\\n",
    "R = \\frac{v_0^2 \\sin(2\\theta)}{g}\n",
    "\\\\]\n",
    "\n",
    "A great way to test these formulas against each other is with a plot!  Let's fix $g=9.8\\ m/s^2$ and $v_0 = 4$ m/s, and then __create a plot with the following properties:__\n",
    "\n",
    "* Show $y(x)$ as a solid line for two trajectories, $\\theta = 20$ degrees and $\\theta = 40$ degrees.\n",
    "* Show $R$ for each trajectory as a __dashed, vertical line__ on the same plot, with the _same color_ as the corresponding $y(x)$.\n",
    "* Include a legend to show which trajectory is which.\n",
    "\n",
    "The simplest way to add a vertical line to your plot is the `plt.vlines()` function; for things like color and line style, it takes the same options that `plt.plot()` does.\n",
    "\n",
    "Choosing the plot range, colors, etc. are up to you: the only requirement is that your plot should be easily usable to see that $y(x)$ and $R$ agree on the maximum range of your projectile in both cases.\n",
    "\n"
   ]
  },
  {
   "cell_type": "code",
   "execution_count": 5,
   "metadata": {
    "deletable": false,
    "nbgrader": {
     "cell_type": "code",
     "checksum": "c80da3ee06ef180c8309750021b10424",
     "grade": true,
     "grade_id": "cell-1d5544cd64a1ce3a",
     "locked": false,
     "points": 5,
     "schema_version": 3,
     "solution": true
    }
   },
   "outputs": [
    {
     "data": {
      "text/plain": [
       "<matplotlib.legend.Legend at 0x7f75655c87b8>"
      ]
     },
     "execution_count": 5,
     "metadata": {},
     "output_type": "execute_result"
    },
    {
     "data": {
      "image/png": "[encoded data removed]",
      "text/plain": [
       "<Figure size 432x288 with 1 Axes>"
      ]
     },
     "metadata": {
      "needs_background": "light"
     },
     "output_type": "display_data"
    }
   ],
   "source": [
    "import numpy as np\n",
    "import matplotlib.pyplot as plt\n",
    "\n",
    "g = 9.8  # m/s^2\n",
    "v0 = 4.0 # m/s\n",
    "### BEGIN SOLUTION\n",
    "\n",
    "x = np.linspace(0,2,50)\n",
    "def traj(x, v, th):\n",
    "    return x*np.tan(th) - g*x**2 / (2*v**2 * np.cos(th)**2)\n",
    "def R(x, v, th):\n",
    "    return v**2 *np.sin(2*th) / g\n",
    "\n",
    "theta_20 = 20 * np.pi/180\n",
    "theta_40 = 40 * np.pi/180\n",
    "\n",
    "plt.plot(x, traj(x,v0,theta_20), color='blue', label='20 deg')\n",
    "plt.plot(x, traj(x,v0,theta_40), color='orange', label='40 deg')\n",
    "\n",
    "plt.vlines(R(x,v0,theta_20),  0, 1, color='blue', linestyle='--')\n",
    "plt.vlines(R(x,v0,theta_40),  0, 1, color='orange', linestyle='--')\n",
    "\n",
    "plt.xlim(0,2)\n",
    "plt.ylim(0,1)\n",
    "\n",
    "plt.legend(loc='upper left')\n",
    "\n",
    "\n",
    "### END SOLUTION\n"
   ]
  },
  {
   "cell_type": "markdown",
   "metadata": {
    "deletable": false,
    "editable": false,
    "nbgrader": {
     "cell_type": "markdown",
     "checksum": "41ebbbd7b91bbc64fd7cf0b5695907f5",
     "grade": false,
     "grade_id": "cell-915d0d0fd31942ce",
     "locked": true,
     "schema_version": 3,
     "solution": false
    }
   },
   "source": [
    "## 3.3 - Meta-formatting pi (6 points)"
   ]
  },
  {
   "cell_type": "markdown",
   "metadata": {
    "deletable": false,
    "editable": false,
    "nbgrader": {
     "cell_type": "markdown",
     "checksum": "13edb4a1b822293a72a9d6bc5bc88daf",
     "grade": false,
     "grade_id": "cell-c4575db500d5d01c",
     "locked": true,
     "schema_version": 3,
     "solution": false
    }
   },
   "source": [
    "One of the more interesting uses of escape characters is to _generate_ format strings depending on the value of a variable, which we can then turn around and use as a dynamically-defined format string for some data.\n",
    "\n",
    "Implement the function __pi_to_digits(n)__ below, which should print a string matching the following format:\n",
    "\n",
    "```python\n",
    ">>> pi_to_digits(6)\n",
    "'The number pi is equal to 3.14159 to 6 digits of accuracy.'\n",
    "```\n",
    "\n",
    "I've given you pi to 30 digits as a starting point, and two tests that your function should pass if it's properly implemented."
   ]
  },
  {
   "cell_type": "code",
   "execution_count": 6,
   "metadata": {
    "deletable": false,
    "nbgrader": {
     "cell_type": "code",
     "checksum": "c5c2629a0d2883dd7f28113dea53bd3f",
     "grade": false,
     "grade_id": "cell-d3ce73eaddfb49d7",
     "locked": false,
     "schema_version": 3,
     "solution": true
    }
   },
   "outputs": [
    {
     "name": "stdout",
     "output_type": "stream",
     "text": [
      "The number pi is equal to 3.14159 to 6 digits of accuracy.\n"
     ]
    }
   ],
   "source": [
    "pi = 3.14159265358979311599796346854\n",
    "\n",
    "def pi_to_digits(n):\n",
    "    ### BEGIN SOLUTION\n",
    "    digit_string = '%.' + '%d'% (n-1) + 'f'\n",
    "    pi_string = 'The number pi is equal to ' + digit_string + ' to %d digits of accuracy.'\n",
    "    return pi_string % (pi, n)\n",
    "    ### END SOLUTION\n",
    "    \n",
    "    \n",
    "print(pi_to_digits(6))"
   ]
  },
  {
   "cell_type": "code",
   "execution_count": 7,
   "metadata": {
    "deletable": false,
    "editable": false,
    "nbgrader": {
     "cell_type": "code",
     "checksum": "d0bd804a5fcdea8e38cdf9c3c67daf9c",
     "grade": true,
     "grade_id": "cell-8d3911656d687dd1",
     "locked": true,
     "points": 6,
     "schema_version": 3,
     "solution": false
    }
   },
   "outputs": [],
   "source": [
    "from nose.tools import assert_equal\n",
    "assert_equal(pi_to_digits(6), 'The number pi is equal to 3.14159 to 6 digits of accuracy.')\n",
    "assert_equal(pi_to_digits(4), 'The number pi is equal to 3.142 to 4 digits of accuracy.')"
   ]
  },
  {
   "cell_type": "markdown",
   "metadata": {
    "deletable": false,
    "editable": false,
    "nbgrader": {
     "cell_type": "markdown",
     "checksum": "521eabb5f187a5c3bf566670200ebddb",
     "grade": false,
     "grade_id": "cell-efc76eab83b370b1",
     "locked": true,
     "schema_version": 3,
     "solution": false
    }
   },
   "source": [
    "## 3.4 - Intro to Markdown (8 points)\n",
    "\n",
    "Now that we've learned how to print things out nicely in Python, let's dive into the other way of writing nice text in Python, the Markdown markup language.  Markdown is ubiquitous on the internet; in particular, Wikipedia and other wikis use Markdown natively for notation.  WhatsApp uses a subset of Markdown for formatting, so you may have encountered it there.  And of course, almost all the class materials are written in Markdown!\n",
    "\n",
    "We'll start with the basics of Markdown notation, and cover math notation using MathJax another time.  A more complete Markdown cheat sheet is [available here](https://github.com/adam-p/markdown-here/wiki/Markdown-Cheatsheet).\n",
    "\n",
    "Start by double-clicking on the Markdown cell immediately below this one to see the Markdown source.  The actual problem appears in the cell after the big example."
   ]
  },
  {
   "cell_type": "markdown",
   "metadata": {
    "deletable": false,
    "editable": false,
    "nbgrader": {
     "cell_type": "markdown",
     "checksum": "04b8152b996a885024d79eaaeff79b15",
     "grade": false,
     "grade_id": "cell-836d2ffd332cf9d7",
     "locked": true,
     "schema_version": 3,
     "solution": false
    }
   },
   "source": [
    "# Headings\n",
    "## Come\n",
    "### In\n",
    "#### Five\n",
    "##### Sizes\n",
    "###### (Sometimes six, but not in Jupyter)\n",
    "\n",
    "## Text emphasis\n",
    "\n",
    "We can add _emphasis_ to our text in a few different ways: _italic_, __bold__, or ~~strikethrough~~.  There are alternative ways to write *italic* and **bold** - we can mix them together to get _**bold** italics_.\n",
    "\n",
    "## Code\n",
    "\n",
    "Often we want to write Python code snippets in our Markdown blocks, which uses a special notation to get the gray highlighting and different font (called 'monotype' since the characters are all the same width): `print(\"Hello, world!\")`\n",
    "\n",
    "We can put multi-line code snippets in our Markdown, too:\n",
    "```\n",
    "x=1\n",
    "y=2\n",
    "print(x**y)\n",
    "```\n",
    "If we add the language name to the top, we can even get nice _syntax highlighting_, just like Jupyter does for us in the code cells!\n",
    "```python\n",
    "x=1\n",
    "y=2\n",
    "print(x**y)\n",
    "```\n",
    "\n",
    "## Lists\n",
    "\n",
    "Markdown is great at making both ordered and unordered lists in a natural way!  Write the ordered list with numbers:\n",
    "\n",
    "1. Total energy is always conserved.\n",
    "9. Entropy of an isolated system always increases.\n",
    "5. Entropy of an isolated system approaches a universal constant as T goes to absolute zero.\n",
    "\n",
    "Slightly counter-intuitive: Markdown doesn't care which numbers you use, or how you order them - it gives you a simple numbered list!  Unordered lists can be written with asterisks:\n",
    "\n",
    "* Bread\n",
    "* Eggs\n",
    "* Milk\n",
    "+ Yogurt\n",
    "- Bananas\n",
    "\n",
    "\n",
    "Dashes and plus signs are equally valid for unordered lists; you can even mix and match (as seen above.)\n",
    "\n",
    "## External links\n",
    "\n",
    "There's a complicated set of rules for adding all kinds of links to a Markdown document, but the simplest useful one is just linking to something external.  The syntax has two entries: the first is the _label_, and the second is the _link_.\n",
    "\n",
    "[This is a link to Google.](http://www.google.com)\n",
    "\n",
    "The link itself should be a valid URL - exactly what appears in your web browser bar when you load a page.  You can just copy directly out of the browser bar to grab a page link that you're looking at."
   ]
  },
  {
   "cell_type": "markdown",
   "metadata": {
    "deletable": false,
    "editable": false,
    "nbgrader": {
     "cell_type": "markdown",
     "checksum": "b5483d12fb0dc8be7998135f12a0319d",
     "grade": false,
     "grade_id": "cell-6e4d80a88555b61a",
     "locked": true,
     "schema_version": 3,
     "solution": false
    }
   },
   "source": [
    "__Now the homework problem!__  Your mission is to give a brief explanation in Markdown, in your own words, of the principle of conservation of energy.  (If you need to jog your memory, this page might be helpful:)\n",
    "\n",
    "[https://cnx.org/contents/Ax2o07Ul@13.5:xa2wEvur@9/Conservation-of-Energy](https://cnx.org/contents/Ax2o07Ul@13.5:xa2wEvur@9/Conservation-of-Energy)\n",
    "\n",
    "To fully flex your Markdown muscle, __you must include the following in your explanation:__\n",
    "\n",
    "- One first-level header reading \"Conservation of Energy\";\n",
    "- Three second-level headers, reading \"The Law of Conservation of Energy\", \"Types of Energy\", and \"Examples of Energy Conversion\".\n",
    "- At least one example of each type of emphasis: bold, italic, and bold italic.\n",
    "- A list, ordered or unordered, containing three different examples of types of energy (your first can be \"kinetic energy\".)\n",
    "- An external link to the URL given above, with some text description.\n",
    "- A multi-line code example, showing a Python snippet which adds together the kinetic energy and gravitational potential energy for a 1 kg mass moving at 5 m/s, and at a height of 12 meters.\n",
    "\n"
   ]
  },
  {
   "cell_type": "markdown",
   "metadata": {
    "deletable": false,
    "nbgrader": {
     "cell_type": "markdown",
     "checksum": "5a5a93d5f953d21dc23ad41cc2593e83",
     "grade": true,
     "grade_id": "cell-95f8617c7033a1ff",
     "locked": false,
     "points": 8,
     "schema_version": 3,
     "solution": true
    }
   },
   "source": [
    "_Type your answer here using Markdown._"
   ]
  }
 ],
 "metadata": {
  "kernelspec": {
   "display_name": "Python 3",
   "language": "python",
   "name": "python3"
  },
  "language_info": {
   "codemirror_mode": {
    "name": "ipython",
    "version": 3
   },
   "file_extension": ".py",
   "mimetype": "text/x-python",
   "name": "python",
   "nbconvert_exporter": "python",
   "pygments_lexer": "ipython3",
   "version": "3.6.8"
  }
 },
 "nbformat": 4,
 "nbformat_minor": 2
}
