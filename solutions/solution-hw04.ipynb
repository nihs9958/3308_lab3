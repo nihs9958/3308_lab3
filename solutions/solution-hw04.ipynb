{
 "cells": [
  {
   "cell_type": "markdown",
   "metadata": {
    "deletable": false,
    "editable": false,
    "nbgrader": {
     "cell_type": "markdown",
     "checksum": "46c2e3566d2ea5518f21f746a064fa15",
     "grade": false,
     "grade_id": "cell-053f09c8a8a514e5",
     "locked": true,
     "schema_version": 3,
     "solution": false
    }
   },
   "source": [
    "# Homework #04\n",
    "\n",
    "## PHYS 2600, Spring 2019\n",
    "\n",
    "__Important notice:__ All cells in your notebook will be run, start to finish, using a fresh kernel when it is graded!  To make sure the graded notebook looks like what you expect, we recommend restarting the kernel and selecting \"Cells > Run All\" in the menu above before you submit."
   ]
  },
  {
   "cell_type": "code",
   "execution_count": 8,
   "metadata": {
    "deletable": false,
    "editable": false,
    "nbgrader": {
     "cell_type": "code",
     "checksum": "325d4d3092db9d553cbf76abcabf3c6a",
     "grade": false,
     "grade_id": "cell-54e460dda73947fa",
     "locked": true,
     "schema_version": 3,
     "solution": false
    }
   },
   "outputs": [],
   "source": [
    "## Import cell\n",
    "\n",
    "%matplotlib inline\n",
    "import numpy as np\n",
    "import matplotlib.pyplot as plt"
   ]
  },
  {
   "cell_type": "markdown",
   "metadata": {
    "deletable": false,
    "editable": false,
    "nbgrader": {
     "cell_type": "markdown",
     "checksum": "47411badbcdd134151ead945a6998d9d",
     "grade": false,
     "grade_id": "cell-06bff42e9e16d26f",
     "locked": true,
     "schema_version": 3,
     "solution": false
    }
   },
   "source": [
    "If you worked collaboratively on this assignment, __include the names of your collaborators in the cell below:__"
   ]
  },
  {
   "cell_type": "markdown",
   "metadata": {},
   "source": []
  },
  {
   "cell_type": "markdown",
   "metadata": {
    "deletable": false,
    "editable": false,
    "nbgrader": {
     "cell_type": "markdown",
     "checksum": "2e28d7e374e6170c4b44257a93cee83c",
     "grade": false,
     "grade_id": "cell-9bbcf2e8b7cbb637",
     "locked": true,
     "schema_version": 3,
     "solution": false
    }
   },
   "source": [
    "## 4.0 - Homework correction (3 points)\n",
    "\n",
    "In the cell below, explain and correct __one mistake__ you made on your _last graded_ homework assignment.  If you got a perfect score, great, tell us what your favorite problem was, or use the space to give any other feedback you might have on the class/tutorials/homework."
   ]
  },
  {
   "cell_type": "markdown",
   "metadata": {
    "deletable": false,
    "nbgrader": {
     "cell_type": "markdown",
     "checksum": "6a9073df1b893da8d2c6fb4427ce2445",
     "grade": true,
     "grade_id": "hw6-correction",
     "locked": false,
     "points": 3,
     "schema_version": 3,
     "solution": true
    }
   },
   "source": [
    "_Type your answer here using Markdown._"
   ]
  },
  {
   "cell_type": "markdown",
   "metadata": {},
   "source": [
    "## 4.1 - More Boolean logic (12 points)\n",
    "\n",
    "For the problems below, you should __write a Boolean test function__, i.e. a function that returns a Boolean value `True` or `False`.\n",
    " \n",
    "### Part A (4 points)\n",
    "\n",
    "Implement the function `both_are_odd(x,y)`, which should return `True` if both `x` and `y` are odd numbers (i.e. not divisible by 2), and `False` otherwise."
   ]
  },
  {
   "cell_type": "code",
   "execution_count": 1,
   "metadata": {
    "deletable": false,
    "nbgrader": {
     "cell_type": "code",
     "checksum": "f3e7615b13359169dcdc7c7b9c711049",
     "grade": false,
     "grade_id": "cell-a5c0ff0849f24f75",
     "locked": false,
     "schema_version": 3,
     "solution": true
    }
   },
   "outputs": [],
   "source": [
    "def both_are_odd(x,y):\n",
    "    ### BEGIN SOLUTION\n",
    "    return x % 2 != 0 and y % 2 != 0\n",
    "    ### END SOLUTION\n",
    "    \n",
    "    "
   ]
  },
  {
   "cell_type": "code",
   "execution_count": 2,
   "metadata": {
    "deletable": false,
    "editable": false,
    "nbgrader": {
     "cell_type": "code",
     "checksum": "9c278e0aad2c9ebce57e8d3c8affd3ba",
     "grade": true,
     "grade_id": "cell-ef92213313962c89",
     "locked": true,
     "points": 4,
     "schema_version": 3,
     "solution": false
    }
   },
   "outputs": [],
   "source": [
    "assert not both_are_odd(2,3)\n",
    "assert both_are_odd(5,7)\n",
    "assert not both_are_odd(6,18)"
   ]
  },
  {
   "cell_type": "markdown",
   "metadata": {
    "deletable": false,
    "editable": false,
    "nbgrader": {
     "cell_type": "markdown",
     "checksum": "7b4da2139f3308cd4dbacdd184c50e81",
     "grade": false,
     "grade_id": "cell-2aa11bd931d24508",
     "locked": true,
     "schema_version": 3,
     "solution": false
    }
   },
   "source": [
    "### Part B (4 points)\n",
    "\n",
    "Implement the function `close_to_sqrt(x,y,tol)`, which should check whether either number is the square root of the other number.  (Specifically, it should return `True` if $x^2$ is within `tol` of $y$ or if $y^2$ is within `tol` if $x$.)"
   ]
  },
  {
   "cell_type": "code",
   "execution_count": 3,
   "metadata": {
    "deletable": false,
    "nbgrader": {
     "cell_type": "code",
     "checksum": "0b19199eedbcc5e5f493f0303c574e03",
     "grade": false,
     "grade_id": "cell-b0c5c0a3b12e63cd",
     "locked": false,
     "schema_version": 3,
     "solution": true
    }
   },
   "outputs": [],
   "source": [
    "def close_to_sqrt(x,y,tol=1e-2):\n",
    "    return abs(x**2 - y) < tol or abs(y**2 - x) < tol"
   ]
  },
  {
   "cell_type": "code",
   "execution_count": 4,
   "metadata": {
    "deletable": false,
    "editable": false,
    "nbgrader": {
     "cell_type": "code",
     "checksum": "0382b6153994a610fb9e3ca19d7cc4a9",
     "grade": true,
     "grade_id": "cell-45d83211ab7d7f7e",
     "locked": true,
     "points": 4,
     "schema_version": 3,
     "solution": false
    }
   },
   "outputs": [],
   "source": [
    "assert close_to_sqrt(5.0, 25.0)\n",
    "assert not close_to_sqrt(2.0, 9.0)\n",
    "assert close_to_sqrt(36.0, 6.0)\n",
    "assert close_to_sqrt(49.0, -7.0001, tol=1e-2)"
   ]
  },
  {
   "cell_type": "markdown",
   "metadata": {
    "deletable": false,
    "editable": false,
    "nbgrader": {
     "cell_type": "markdown",
     "checksum": "a3f5fcd1500d1d64c603a850f17737f8",
     "grade": false,
     "grade_id": "cell-fde03eaac23ffad9",
     "locked": true,
     "schema_version": 3,
     "solution": false
    }
   },
   "source": [
    "### Part C (4 points)\n",
    "\n",
    "Implement the function `are_positive_ordered(a,b,c)`, which should check to see whether __both__ $a<b<c$ and all three numbers are positive."
   ]
  },
  {
   "cell_type": "code",
   "execution_count": 5,
   "metadata": {
    "deletable": false,
    "nbgrader": {
     "cell_type": "code",
     "checksum": "fc5124de1830c8a8bcb2c248d65d6f4f",
     "grade": false,
     "grade_id": "cell-85d296c88a662174",
     "locked": false,
     "schema_version": 3,
     "solution": true
    }
   },
   "outputs": [],
   "source": [
    "def are_positive_ordered(a,b,c):\n",
    "    # Check ordering\n",
    "    are_ordered = a < b < c\n",
    "    \n",
    "    # Check if a is positive\n",
    "    a_positive = a > 0\n",
    "    \n",
    "    # If both conditions are true, then b and c are also positive, so we're done!\n",
    "    return a_positive and are_ordered\n",
    "    "
   ]
  },
  {
   "cell_type": "code",
   "execution_count": 6,
   "metadata": {
    "deletable": false,
    "editable": false,
    "nbgrader": {
     "cell_type": "code",
     "checksum": "d657aee88177c9f017a36f5aa7f78646",
     "grade": true,
     "grade_id": "cell-038e80cd56f7f8f4",
     "locked": true,
     "points": 4,
     "schema_version": 3,
     "solution": false
    }
   },
   "outputs": [],
   "source": [
    "assert not are_positive_ordered(4,3,5)\n",
    "assert not are_positive_ordered(-7,3,7)\n",
    "assert are_positive_ordered(3,5,9)\n",
    "assert not are_positive_ordered(0,1,1)\n",
    "assert not are_positive_ordered(1,10,-100)"
   ]
  },
  {
   "cell_type": "markdown",
   "metadata": {},
   "source": [
    "## 4.2 - Working with integrals (9 points)\n",
    "\n",
    "For this problem you'll be evaluating some integrals numerically, using the `np.trapz` function.  Choosing the number of points for your discrete grid is up to you - but your answers _should be accurate to within 0.1%_ of the exact result.  __Check that your answer is accurate, and use more points in your grid if it's not, or you will lose points!!__\n",
    "\n",
    "_(Hint: how can you check your answer?  Remember, a simple test is just to increase the number of points on your grid, and see if the answer changes or not.  This generally works even for cases where you don't know the right answer.)_\n",
    "\n",
    "_(Another hint: the first integral is easy to work out by hand, so you know the right answer...the second integral also has an analytic answer, although it's harder to get.)_ \n",
    "\n",
    "### Part A (3 points)\n",
    "\n",
    "Evaluate the integral:\n",
    "\n",
    "\\\\[\n",
    "I = \\int_0^4 \\left[3x^2 - 4\\right] dx \\\\\n",
    "\\\\]\n",
    "\n",
    "__Save your numerical answer to the variable `integral_I`.__  The visible testing cell will do a simple check that your integral is positive, it's up to you to verify the answer..."
   ]
  },
  {
   "cell_type": "code",
   "execution_count": 9,
   "metadata": {
    "deletable": false,
    "nbgrader": {
     "cell_type": "code",
     "checksum": "ec1107a609f9d1221dc662f3087e07b2",
     "grade": false,
     "grade_id": "cell-cc9e5975e7cd6838",
     "locked": false,
     "schema_version": 3,
     "solution": true
    }
   },
   "outputs": [],
   "source": [
    "integral_I = 0.\n",
    "\n",
    "### BEGIN SOLUTION\n",
    "xI = np.linspace(0,4,50)\n",
    "integral_I = np.trapz(3*xI**2 - 4, x=xI)\n",
    "### END SOLUTION\n"
   ]
  },
  {
   "cell_type": "code",
   "execution_count": 10,
   "metadata": {
    "deletable": false,
    "editable": false,
    "nbgrader": {
     "cell_type": "code",
     "checksum": "9d8eb1e241007aad0a3a98ea69180fb7",
     "grade": true,
     "grade_id": "cell-4f37e09dbc6bd44f",
     "locked": true,
     "points": 1,
     "schema_version": 3,
     "solution": false
    }
   },
   "outputs": [
    {
     "name": "stdout",
     "output_type": "stream",
     "text": [
      "48.01332778009163\n"
     ]
    }
   ],
   "source": [
    "# Basic sanity check - not a thorough test!\n",
    "print(integral_I)\n",
    "assert integral_I > 0."
   ]
  },
  {
   "cell_type": "code",
   "execution_count": 11,
   "metadata": {
    "deletable": false,
    "editable": false,
    "nbgrader": {
     "cell_type": "code",
     "checksum": "28127b6b00d86d6f4436c530c3eaf84d",
     "grade": true,
     "grade_id": "cell-0d1ceefdc0e0d996",
     "locked": true,
     "points": 2,
     "schema_version": 3,
     "solution": false
    }
   },
   "outputs": [],
   "source": [
    "# Hidden testing cell - do not delete!\n",
    "import numpy.testing as npt\n"
   ]
  },
  {
   "cell_type": "markdown",
   "metadata": {
    "deletable": false,
    "editable": false,
    "nbgrader": {
     "cell_type": "markdown",
     "checksum": "e14a8b613066b8c346f40243bbcacfe6",
     "grade": false,
     "grade_id": "cell-d49bc39982f179eb",
     "locked": true,
     "schema_version": 3,
     "solution": false
    }
   },
   "source": [
    "\n",
    "### Part B (3 points)\n",
    "\n",
    "Evaluate the integral:\n",
    "\n",
    "\\\\[\n",
    "J = \\int_0^{2\\pi} \\cos(2x) e^{x/2} dx \\\\\n",
    "\\\\]\n",
    "\n",
    "__Save your numerical answer to the variable `integral_J.__  The visible testing cell will do a simple check that your integral is positive, it's up to you to verify the answer..."
   ]
  },
  {
   "cell_type": "code",
   "execution_count": 12,
   "metadata": {
    "deletable": false,
    "nbgrader": {
     "cell_type": "code",
     "checksum": "6e216106a37d11a060b1e967ab0ddefa",
     "grade": false,
     "grade_id": "cell-94ecc32dd20c782b",
     "locked": false,
     "schema_version": 3,
     "solution": true
    }
   },
   "outputs": [],
   "source": [
    "integral_I = 0.\n",
    "integral_J = 0.\n",
    "integral_K = 0.\n",
    "\n",
    "### BEGIN SOLUTION\n",
    "xI = np.linspace(0,4,50)\n",
    "integral_I = np.trapz(3*xI**2 - 4, x=xI)\n",
    "\n",
    "xJ = np.linspace(0,2*np.pi, 200)\n",
    "integral_J = np.trapz(np.cos(2*xJ) * np.exp(xJ/2), x=xJ)\n",
    "\n",
    "xK = np.linspace(-1, 1, 500)\n",
    "integral_K = np.trapz(np.sin(500*xK) / xK, x=xK)\n",
    "### END SOLUTION\n"
   ]
  },
  {
   "cell_type": "code",
   "execution_count": 13,
   "metadata": {
    "deletable": false,
    "editable": false,
    "nbgrader": {
     "cell_type": "code",
     "checksum": "a709502a660b1b7efa7945a51ed8301e",
     "grade": true,
     "grade_id": "cell-b5ff79ce5bc71b63",
     "locked": true,
     "points": 1,
     "schema_version": 3,
     "solution": false
    }
   },
   "outputs": [
    {
     "name": "stdout",
     "output_type": "stream",
     "text": [
      "2.6057072213627026\n"
     ]
    }
   ],
   "source": [
    "# Basic sanity check - not a thorough test!\n",
    "print(integral_J)\n",
    "assert integral_J > 0."
   ]
  },
  {
   "cell_type": "code",
   "execution_count": 14,
   "metadata": {
    "deletable": false,
    "editable": false,
    "nbgrader": {
     "cell_type": "code",
     "checksum": "d0a2270c64e15dc7764d4260fbea8c24",
     "grade": true,
     "grade_id": "cell-d2cb69f30cd2e018",
     "locked": true,
     "points": 2,
     "schema_version": 3,
     "solution": false
    }
   },
   "outputs": [],
   "source": [
    "# Hidden testing cell - do not delete!\n"
   ]
  },
  {
   "cell_type": "markdown",
   "metadata": {
    "deletable": false,
    "editable": false,
    "nbgrader": {
     "cell_type": "markdown",
     "checksum": "06d72a26009ed6cd582650874146fb80",
     "grade": false,
     "grade_id": "cell-e72ee10fa5a29401",
     "locked": true,
     "schema_version": 3,
     "solution": false
    }
   },
   "source": [
    "### Part C (3 points)\n",
    "\n",
    "Evaluate the integral:\n",
    "\n",
    "\\\\[\n",
    "K = \\int_{-1}^{1} \\frac{\\sin(500x)}{x} dx\n",
    "\\\\]\n",
    "\n",
    "__Save your numerical answer to the variable `integral_K`.__  The visible testing cell will do a simple check that your integral is positive, it's up to you to verify the answer...\n",
    "\n",
    "_(Hint: integral K is oscillating back and forth pretty badly - you need to be especially careful that you used enough points here!)_"
   ]
  },
  {
   "cell_type": "code",
   "execution_count": 15,
   "metadata": {
    "deletable": false,
    "nbgrader": {
     "cell_type": "code",
     "checksum": "7473dfe3798f33a2c50f54a2c0d248aa",
     "grade": false,
     "grade_id": "cell-08919c8cfff5dc63",
     "locked": false,
     "schema_version": 3,
     "solution": true
    }
   },
   "outputs": [],
   "source": [
    "integral_K = 0.\n",
    "\n",
    "### BEGIN SOLUTION\n",
    "xK = np.linspace(-1, 1, 500)\n",
    "integral_K = np.trapz(np.sin(500*xK) / xK, x=xK)\n",
    "### END SOLUTION"
   ]
  },
  {
   "cell_type": "code",
   "execution_count": 16,
   "metadata": {
    "deletable": false,
    "editable": false,
    "nbgrader": {
     "cell_type": "code",
     "checksum": "c052b884785e936efdfcce266baf7892",
     "grade": true,
     "grade_id": "cell-0c593d22c9da203c",
     "locked": true,
     "points": 1,
     "schema_version": 3,
     "solution": false
    }
   },
   "outputs": [
    {
     "name": "stdout",
     "output_type": "stream",
     "text": [
      "3.143862508895048\n"
     ]
    }
   ],
   "source": [
    "# Basic sanity check - not a thorough test!\n",
    "print(integral_K)\n",
    "assert integral_K > 0."
   ]
  },
  {
   "cell_type": "code",
   "execution_count": 17,
   "metadata": {
    "deletable": false,
    "editable": false,
    "nbgrader": {
     "cell_type": "code",
     "checksum": "d4c25d0adebc37a0fd7adc4cb5d96960",
     "grade": true,
     "grade_id": "cell-4da8ccfb43d952c8",
     "locked": true,
     "points": 2,
     "schema_version": 3,
     "solution": false
    }
   },
   "outputs": [],
   "source": [
    "# Hidden testing cell - do not delete!\n",
    "import numpy.testing as npt\n"
   ]
  },
  {
   "cell_type": "markdown",
   "metadata": {},
   "source": [
    "## 4.3 - Pendulum motion beyond small angles (16 points)\n",
    "\n",
    "The motion of a simple pendulum is given by the differential equation\n",
    "\n",
    "\\\\[\n",
    "\\frac{d^2 \\theta}{dt^2} = -\\frac{g}{L} \\sin \\theta\n",
    "\\\\]\n",
    "\n",
    "where $\\theta$ is the angle of the pendulum with the vertical, so at $\\theta = 0$ the pendulum hangs straight down.  If we make the _small-angle approximation_ $\\sin \\theta \\approx \\theta$, then we can solve the equation and find $\\theta(t)$.  This gives us the expression for the period $T$, which is the time for the pendulum to complete one cycle:\n",
    "\\\\[\n",
    "T = 2\\pi \\sqrt{\\frac{L}{g}}.\n",
    "\\\\]\n",
    "\n",
    "Without the small-angle approximation, there is no analytic solution to the pendulum equation!  However, the equation is _integrable_; we can solve its motion in terms of (difficult) integrals.  In particular, the general formula for the period of a pendulum is\n",
    "\n",
    "\\\\[\n",
    "T = 4 \\sqrt{\\frac{L}{2g}} \\int_0^{\\theta_0} \\frac{1}{\\cos \\theta - \\cos \\theta_0} d\\theta\n",
    "\\\\]\n",
    "\n",
    "This integral has no analytic solution, but we can try to do it numerically.\n",
    "\n",
    "### Part A (6 points)\n",
    "\n",
    "Let's start by rewriting the formula above as two different pieces:\n",
    "\\\\[\n",
    "T = 4 \\sqrt{\\frac{L}{2g}} \\int_0^{\\theta_0} I(\\theta, \\theta_0)\\ d\\theta \\\\\n",
    "I(\\theta, \\theta_0) = \\frac{1}{\\cos \\theta - \\cos \\theta_0}\n",
    "\\\\]\n",
    "\n",
    "It will be instructive to look at the __integrand__ $I(\\theta, \\theta_0)$ itself, _before_ we actually try to do the integral.  We can already see that $I$ will blow up when $\\theta = \\theta_0$, as the denominator becomes zero.\n",
    "\n",
    "We can't let division by zero happen in our numerical integration, so let's solve the problem by introducing a __cutoff__ to the integral.  Introducing a new parameter $\\delta$, we write:\n",
    "\n",
    "$$\n",
    "T(\\delta) \\equiv 4 \\sqrt{\\frac{L}{2g}} \\int_0^{\\theta_0 - \\delta} I(\\theta, \\theta_0)\\ d\\theta\n",
    "$$\n",
    "and then the answer we want is $T = \\lim_{\\delta \\rightarrow 0} T(\\delta)$.\n",
    "\n",
    "To evaluate the integral, we need a discrete set of points $\\theta$ over the range $(0, \\theta_0 - \\delta)$, and then the array $I(\\theta, \\theta_0)$ using the discrete $\\theta$.  Let's set up some functions to handle that for us. \n",
    "\n",
    "__Implement the function `theta_discrete(theta_0, delta, num_points)` below__, which should create a discretized array of $\\theta$ values from 0 to $\\theta_0 - \\delta$.  Also __implement `pendulum_I(theta, theta_0)`__, which should take a discrete array created by `theta_discrete` and a value of `theta_0`, and return an array for the integrand $I(\\theta, \\theta_0)$.\n",
    "\n",
    "_(These should be pretty short functions!  But using functions like this helps to clarify what our intentions are when we write the program.  It also lets us specify default values for things like `delta`, while still letting us change the value later.)_"
   ]
  },
  {
   "cell_type": "code",
   "execution_count": 18,
   "metadata": {
    "deletable": false,
    "nbgrader": {
     "cell_type": "code",
     "checksum": "2f47fe462e4dcdd1d628168c55e5ca04",
     "grade": false,
     "grade_id": "cell-17e18fa1ca56c463",
     "locked": false,
     "schema_version": 3,
     "solution": true
    }
   },
   "outputs": [],
   "source": [
    "def theta_discrete(theta_0, delta=1e-3, num_points=1000):\n",
    "    ### BEGIN SOLUTION\n",
    "    return np.linspace(0, theta_0 - delta, num_points)\n",
    "    ### END SOLUTION\n",
    "    "
   ]
  },
  {
   "cell_type": "code",
   "execution_count": 19,
   "metadata": {
    "deletable": false,
    "nbgrader": {
     "cell_type": "code",
     "checksum": "38ee4c8cb87d58fd73a229303785c16e",
     "grade": false,
     "grade_id": "cell-5588269a19d9dc55",
     "locked": false,
     "schema_version": 3,
     "solution": true
    }
   },
   "outputs": [],
   "source": [
    "def pendulum_I(theta, theta_0):\n",
    "    ### BEGIN SOLUTION\n",
    "    integrand = 1/(np.cos(theta) - np.cos(theta_0))\n",
    "    return integrand\n",
    "    ### END SOLUTION\n",
    "    "
   ]
  },
  {
   "cell_type": "code",
   "execution_count": null,
   "metadata": {
    "deletable": false,
    "editable": false,
    "nbgrader": {
     "cell_type": "code",
     "checksum": "c4db260a946dbea0c8c3a916c8d20da4",
     "grade": true,
     "grade_id": "cell-1352a64c38fe6c6e",
     "locked": true,
     "points": 4,
     "schema_version": 3,
     "solution": false
    }
   },
   "outputs": [],
   "source": [
    "## Tests for theta_discrete and pendulum_I\n",
    "\n"
   ]
  },
  {
   "cell_type": "markdown",
   "metadata": {
    "deletable": false,
    "editable": false,
    "nbgrader": {
     "cell_type": "markdown",
     "checksum": "84ebe81bf707136b4ba783a58dda37e5",
     "grade": false,
     "grade_id": "cell-73509f7c90415260",
     "locked": true,
     "schema_version": 3,
     "solution": false
    }
   },
   "source": [
    "Now __plot the integrand__, taking $\\theta_0 = \\pi/4$ and plotting the whole range of integration.  Use the default value of `\\delta = 1e-3`."
   ]
  },
  {
   "cell_type": "code",
   "execution_count": 20,
   "metadata": {
    "deletable": false,
    "nbgrader": {
     "cell_type": "code",
     "checksum": "c06fe735bdaa555e042d21810142b206",
     "grade": true,
     "grade_id": "cell-6a6c5020eace8c77",
     "locked": false,
     "points": 2,
     "schema_version": 3,
     "solution": true
    }
   },
   "outputs": [
    {
     "data": {
      "text/plain": [
       "[<matplotlib.lines.Line2D at 0x7fdc255a7438>]"
      ]
     },
     "execution_count": 20,
     "metadata": {},
     "output_type": "execute_result"
    },
    {
     "data": {
      "image/png": "[encoded data removed]",
      "text/plain": [
       "<Figure size 432x288 with 1 Axes>"
      ]
     },
     "metadata": {
      "needs_background": "light"
     },
     "output_type": "display_data"
    }
   ],
   "source": [
    "th = theta_discrete(np.pi/4)\n",
    "plt.plot(th, pendulum_I(th, np.pi/4))"
   ]
  },
  {
   "cell_type": "markdown",
   "metadata": {
    "deletable": false,
    "editable": false,
    "nbgrader": {
     "cell_type": "markdown",
     "checksum": "cd08e3cce2b06cb02d4ad0870db2b392",
     "grade": false,
     "grade_id": "cell-65b5ed0929581ce0",
     "locked": true,
     "schema_version": 3,
     "solution": false
    }
   },
   "source": [
    "### Part B (6 points)\n",
    "\n",
    "Your plot should show that the integrand diverges at $\\theta = \\theta_0$ as expected.  With our cutoff $\\delta$, we can evaluate the integral numerically for any $\\delta > 0$.  Then we hope that we can tune $\\delta$ small enough to get the answer about right!\n",
    "\n",
    "__Implement the function `pendulum_T_cutoff(theta_0, delta, num_points)` below__, which __must__ use `pendulum_I` and `theta_discrete` from part A with `np.trapz()` to calculate and return the integral expression for the pendulum period $T$.  We'll hard-code the length $L$ to be 1 meter for simplicity."
   ]
  },
  {
   "cell_type": "code",
   "execution_count": 21,
   "metadata": {
    "deletable": false,
    "nbgrader": {
     "cell_type": "code",
     "checksum": "1720a4129e30b5a25016d34991d090fb",
     "grade": false,
     "grade_id": "cell-ea7f6e1ce0d009d4",
     "locked": false,
     "schema_version": 3,
     "solution": true
    }
   },
   "outputs": [],
   "source": [
    "def pendulum_T_cutoff(theta_0, delta=1e-3, num_points=1000):\n",
    "    g = 9.8  ## m/s^2\n",
    "    L = 1    ## m\n",
    "    \n",
    "    ### BEGIN SOLUTION\n",
    "    theta = theta_discrete(theta_0, delta=delta, num_points=num_points)\n",
    "    integral = np.trapz(pendulum_I(theta, theta_0), x=theta)\n",
    "    \n",
    "    return 4 * np.sqrt(L/(2*g)) * integral\n",
    "    ### END SOLUTION\n",
    "    "
   ]
  },
  {
   "cell_type": "code",
   "execution_count": 22,
   "metadata": {
    "deletable": false,
    "editable": false,
    "nbgrader": {
     "cell_type": "code",
     "checksum": "149be96c7e891d288e9354351b45240c",
     "grade": true,
     "grade_id": "cell-cc6e035cf8556470",
     "locked": true,
     "points": 3,
     "schema_version": 3,
     "solution": false
    }
   },
   "outputs": [
    {
     "name": "stdout",
     "output_type": "stream",
     "text": [
      "48.61485985383731\n"
     ]
    }
   ],
   "source": [
    "import numpy.testing as npt\n",
    "\n",
    "print(pendulum_T_cutoff(np.pi/32))\n",
    "npt.assert_allclose(pendulum_T_cutoff(np.pi/32), 48.6, atol=0.1)\n",
    "npt.assert_allclose(pendulum_T_cutoff(np.pi/32, delta=1e-5), 119.2, atol=0.1)"
   ]
  },
  {
   "cell_type": "code",
   "execution_count": 23,
   "metadata": {
    "deletable": false,
    "editable": false,
    "nbgrader": {
     "cell_type": "code",
     "checksum": "f5507d566a9d04042a96f4e06519df4b",
     "grade": true,
     "grade_id": "cell-15bbdd12580c3d34",
     "locked": true,
     "points": 3,
     "schema_version": 3,
     "solution": false
    }
   },
   "outputs": [],
   "source": [
    "# Hidden testing cell - do not delete!\n"
   ]
  },
  {
   "cell_type": "markdown",
   "metadata": {
    "deletable": false,
    "editable": false,
    "nbgrader": {
     "cell_type": "markdown",
     "checksum": "0fa64865cf029f8ab342b5be6e56cdd7",
     "grade": false,
     "grade_id": "cell-28e493c5db984ccf",
     "locked": true,
     "schema_version": 3,
     "solution": false
    }
   },
   "source": [
    "Our answer should be pretty close for a small enough angle; let's try $\\pi/32$.  __Run the cell below__ to use your function at this small angle for a few different values of the cutoff $\\delta$."
   ]
  },
  {
   "cell_type": "code",
   "execution_count": 24,
   "metadata": {},
   "outputs": [
    {
     "name": "stdout",
     "output_type": "stream",
     "text": [
      "48.61485985383731\n",
      "119.21197194682614\n",
      "26.94934615151685\n",
      "-0.3425142105253736\n",
      "2.007089923154493\n"
     ]
    }
   ],
   "source": [
    "print(pendulum_T_cutoff(np.pi/32))\n",
    "print(pendulum_T_cutoff(np.pi/32, delta=1e-5))\n",
    "print(pendulum_T_cutoff(np.pi/32, delta=1e-2))\n",
    "print(pendulum_T_cutoff(np.pi/32, delta=1e-1, num_points=10000))\n",
    "\n",
    "# Correct result for small theta, L=1 m\n",
    "small_angle_T = 2*np.pi *np.sqrt(1/9.8)\n",
    "print(small_angle_T)"
   ]
  },
  {
   "cell_type": "markdown",
   "metadata": {
    "deletable": false,
    "editable": false,
    "nbgrader": {
     "cell_type": "markdown",
     "checksum": "8d9eb4699fbd8f322525ed587a4bcee7",
     "grade": false,
     "grade_id": "cell-8150a18492cfa53f",
     "locked": true,
     "schema_version": 3,
     "solution": false
    }
   },
   "source": [
    "The four numerical results from `pendulum_T` are all horribly far off, and playing with `delta` or even increasing `num_points` doesn't seem to be helping at all!  In fact, this is a fairly well-known example of __numerical instability__; the contribution of the divergent part of the integrand is so large that it's very hard to deal with just by throwing points at it or cutting it off."
   ]
  },
  {
   "cell_type": "markdown",
   "metadata": {
    "deletable": false,
    "editable": false,
    "nbgrader": {
     "cell_type": "markdown",
     "checksum": "74529e8dcfba3fe13e596f56a74f9ed3",
     "grade": false,
     "grade_id": "cell-b57c2b66fd2cdc14",
     "locked": true,
     "schema_version": 3,
     "solution": false
    }
   },
   "source": [
    "### Part C (6 points)\n",
    "\n",
    "Since the cutoff method fails badly here, we should try to change variables instead!  It's not so obvious how to find a good change here, but this is a well-known problem, so the answer is well-known too:\n",
    "\n",
    "\\\\[\n",
    "T = 4 \\sqrt{\\frac{L}{g}} \\int_0^{\\pi/2} \\frac{d\\phi}{\\sqrt{1-\\sin^2(\\theta_0/2) \\sin^2 \\phi}}\n",
    "\\\\]\n",
    "\n",
    "This makes the integral nice and finite - the denominator doesn't blow up since $\\sin^2(\\theta_0/2)$ is always less than 1.  (This particular form of the integral is an example of an __elliptic integral__.)\n",
    "\n",
    "__Implement the function `pendulum_T(theta_0, num_points)` below,__ which should use the transformed integral to calculate and return the period $T$.\n"
   ]
  },
  {
   "cell_type": "code",
   "execution_count": 25,
   "metadata": {
    "deletable": false,
    "nbgrader": {
     "cell_type": "code",
     "checksum": "eec5e356f8d7bb409318bd46e6454fe2",
     "grade": false,
     "grade_id": "cell-b0fe6f4b037ecd20",
     "locked": false,
     "schema_version": 3,
     "solution": true
    }
   },
   "outputs": [],
   "source": [
    "def pendulum_T(theta_0, num_points=1000):\n",
    "    g = 9.8  ## m/s^2\n",
    "    L = 1    ## m\n",
    "    \n",
    "    ### BEGIN SOLUTION\n",
    "    theta = np.linspace(0, np.pi/2, num_points)\n",
    "    u = np.sin(theta_0/2) * np.sin(theta)\n",
    "    integrand = 1 / np.sqrt(1-u**2)\n",
    "    I = np.trapz(integrand, x=theta)\n",
    "    \n",
    "    return 4 * np.sqrt(L/g) * I\n",
    "    ### END SOLUTION\n",
    "    "
   ]
  },
  {
   "cell_type": "code",
   "execution_count": 26,
   "metadata": {
    "deletable": false,
    "editable": false,
    "nbgrader": {
     "cell_type": "code",
     "checksum": "d0b6034de28a29e3a36a5e5611208241",
     "grade": true,
     "grade_id": "cell-3e5db4465dcd678e",
     "locked": true,
     "points": 3,
     "schema_version": 3,
     "solution": false
    }
   },
   "outputs": [],
   "source": [
    "assert pendulum_T(np.pi/6) > 2.0\n",
    "assert pendulum_T(3.0) > 3.0"
   ]
  },
  {
   "cell_type": "code",
   "execution_count": 27,
   "metadata": {
    "deletable": false,
    "editable": false,
    "nbgrader": {
     "cell_type": "code",
     "checksum": "d2c99800c32f6ab5adafb0df287d7f41",
     "grade": true,
     "grade_id": "cell-c0f0eb096c1d2532",
     "locked": true,
     "points": 3,
     "schema_version": 3,
     "solution": false
    }
   },
   "outputs": [],
   "source": [
    "# Hidden testing cell - do not delete!\n"
   ]
  },
  {
   "cell_type": "markdown",
   "metadata": {
    "deletable": false,
    "editable": false,
    "nbgrader": {
     "cell_type": "markdown",
     "checksum": "e73a0868bb39915b144036fd38bf04ce",
     "grade": false,
     "grade_id": "cell-c02557b910a05bd2",
     "locked": true,
     "schema_version": 3,
     "solution": false
    }
   },
   "source": [
    "Finally, __run the cell below__ to plot your numerical integral result for $T(\\theta_0)$ against the small-angle answer.  You should, of course, see them come together at small $\\theta_0$ - now you can see how small the angle really has to be for this approximation to work!"
   ]
  },
  {
   "cell_type": "code",
   "execution_count": 28,
   "metadata": {},
   "outputs": [
    {
     "data": {
      "text/plain": [
       "Text(0, 0.5, 'T')"
      ]
     },
     "execution_count": 28,
     "metadata": {},
     "output_type": "execute_result"
    },
    {
     "data": {
      "image/png": "[encoded data removed]",
      "text/plain": [
       "<Figure size 432x288 with 1 Axes>"
      ]
     },
     "metadata": {
      "needs_background": "light"
     },
     "output_type": "display_data"
    }
   ],
   "source": [
    "theta_zeros = np.linspace(np.pi/16, np.pi-np.pi/16, 14)\n",
    "\n",
    "pT = []\n",
    "for th in theta_zeros:\n",
    "    pT.append(pendulum_T(th))\n",
    "    \n",
    "plt.plot(theta_zeros, pT)\n",
    "plt.axhline(small_angle_T, color='r')\n",
    "plt.xlabel('$\\\\theta_0$')  ## This is TeX math notation - see problem 9.3 below!\n",
    "plt.ylabel('T')"
   ]
  }
 ],
 "metadata": {
  "kernelspec": {
   "display_name": "Python 3",
   "language": "python",
   "name": "python3"
  },
  "language_info": {
   "codemirror_mode": {
    "name": "ipython",
    "version": 3
   },
   "file_extension": ".py",
   "mimetype": "text/x-python",
   "name": "python",
   "nbconvert_exporter": "python",
   "pygments_lexer": "ipython3",
   "version": "3.6.8"
  }
 },
 "nbformat": 4,
 "nbformat_minor": 2
}
