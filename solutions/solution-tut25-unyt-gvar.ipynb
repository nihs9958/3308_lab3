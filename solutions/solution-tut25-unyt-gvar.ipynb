{
 "cells": [
  {
   "cell_type": "markdown",
   "metadata": {
    "deletable": false,
    "editable": false,
    "nbgrader": {
     "cell_type": "markdown",
     "checksum": "969adfec52b75e3efa4f6bbb2c7be489",
     "grade": false,
     "grade_id": "cell-100899e0deea9789",
     "locked": true,
     "schema_version": 3,
     "solution": false
    }
   },
   "source": [
    "# Tutorial 25: unyt and gvar\n",
    "\n",
    "## PHYS 2600, Spring 2019"
   ]
  },
  {
   "cell_type": "code",
   "execution_count": 2,
   "metadata": {
    "deletable": false,
    "editable": false,
    "nbgrader": {
     "cell_type": "code",
     "checksum": "38cf83e92ebae7ebc82122662f449b1d",
     "grade": false,
     "grade_id": "cell-e4302376dbe2ef21",
     "locked": true,
     "schema_version": 3,
     "solution": false
    }
   },
   "outputs": [],
   "source": [
    "# Import cell\n",
    "%matplotlib inline\n",
    "\n",
    "import numpy as np\n",
    "import matplotlib.pyplot as plt\n",
    "\n",
    "import gvar as gv\n",
    "import unyt as u\n"
   ]
  },
  {
   "cell_type": "markdown",
   "metadata": {
    "deletable": false,
    "editable": false,
    "nbgrader": {
     "cell_type": "markdown",
     "checksum": "ae8aa06d28f1580a49b42ea67cf800b0",
     "grade": false,
     "grade_id": "cell-de184637a14c2cef",
     "locked": true,
     "schema_version": 3,
     "solution": false
    }
   },
   "source": [
    "## T25.1 - Basics of unyt\n",
    "\n",
    "### Part A\n",
    "\n",
    "Let's start with some basics of `unyt`, which I've imported under the alias `u` above.  Carry out the following exercises in the cell below - I've given you the shorthand names for the units, which you can access as `u.<name>`.\n",
    "\n",
    "* Convert 5328 feet (`ft`) (Boulder's elevation) to kilometers (`km`).  (Should be about 1.6 km.)\n",
    "* Compute the total power in watts (`W`) delivered by a 8000 watt (`W`) generator and a 300 horsepower (`hp`) car.  (Should be about 232k watts.)\n",
    "* Find the force in Newtons (`N`) required to accelerate a 10-pound (`lb`) weight to a speed of 3 feet (`ft`) per second (`s`) squared in 4 seconds.  (Should be about 1 Newton.)\n",
    "\n",
    "By default, your answers will print out with lots of digits.  Individual `unyt` objects can be printed with ordinary string format codes like `%g` - __try it out__!  (Note that this will just give the number and not the unit, though.  The `.format()` method, which is [an alternative to the `%` format operator](https://www.geeksforgeeks.org/python-format-function/), will give units as well, but we haven't learned how to use that.)\n"
   ]
  },
  {
   "cell_type": "code",
   "execution_count": 3,
   "metadata": {
    "deletable": false,
    "nbgrader": {
     "cell_type": "code",
     "checksum": "5ae65567e75ebbf5df1e1cbcc4c642ab",
     "grade": true,
     "grade_id": "cell-677fe4bfb2708c8b",
     "locked": false,
     "points": 2,
     "schema_version": 3,
     "solution": true
    }
   },
   "outputs": [
    {
     "name": "stdout",
     "output_type": "stream",
     "text": [
      "1.6239744000000003 km\n",
      "231709.96147468107 W\n",
      "231710\n",
      "1.0369121578200002 N\n"
     ]
    }
   ],
   "source": [
    "### BEGIN SOLUTION\n",
    "elev = 5328*u.ft\n",
    "print(elev.to('km'))\n",
    "\n",
    "total_pow = 8000*u.W + 300*u.hp\n",
    "print(total_pow)\n",
    "print('%g' % total_pow)\n",
    "\n",
    "# a = delta v / delta t\n",
    "accel = (3 * u.ft / u.s) / (4 * u.s)\n",
    "\n",
    "# F = m * a\n",
    "force = 10*u.lb * accel\n",
    "print(force.to('N'))\n",
    "### END SOLUTION"
   ]
  },
  {
   "cell_type": "markdown",
   "metadata": {
    "deletable": false,
    "editable": false,
    "nbgrader": {
     "cell_type": "markdown",
     "checksum": "b4020f2bbcad404c6aa3a32a7a5496d7",
     "grade": false,
     "grade_id": "cell-47ce16a664be7e8f",
     "locked": true,
     "schema_version": 3,
     "solution": false
    }
   },
   "source": [
    "### Part B\n",
    "\n",
    "Below is an array containing the radii of all eight planets in the Solar system in kilometers:"
   ]
  },
  {
   "cell_type": "code",
   "execution_count": 4,
   "metadata": {
    "deletable": false,
    "editable": false,
    "nbgrader": {
     "cell_type": "code",
     "checksum": "910fddf3ef426daf1270e39111a19d78",
     "grade": false,
     "grade_id": "cell-76360e460e1ea3cd",
     "locked": true,
     "schema_version": 3,
     "solution": false
    }
   },
   "outputs": [],
   "source": [
    "# Radii of planets: Mercury, Venus, Earth, Mars, Jupiter, Saturn, Uranus, Neptune\n",
    "# This is a list, but Unyt will automatically convert to an array\n",
    "planet_radii = [2440, 6050, 6378, 3400, 71490, 60270, 25560, 24770] * u.km"
   ]
  },
  {
   "cell_type": "markdown",
   "metadata": {
    "deletable": false,
    "editable": false,
    "nbgrader": {
     "cell_type": "markdown",
     "checksum": "d8e1ce6f16a15666ca484a494a872a63",
     "grade": false,
     "grade_id": "cell-ccaec2878ecf75ea",
     "locked": true,
     "schema_version": 3,
     "solution": false
    }
   },
   "source": [
    "The gravitational acceleration $g_P$ on the surface of planet $P$ is given by the standard formula,\n",
    "\n",
    "$$\n",
    "g_P = \\frac{GM_P}{R_P^2}.\n",
    "$$\n",
    "\n",
    "Use the built-in physical constants from `unyt.physical_constants` ([listed here](https://unyt.readthedocs.io/en/latest/modules/unyt.physical_constants.html)) to __find $g_P$ for each of the eight planets__.  (To save lots of typing, you may want to import `unyt.physical_constants` with a shorter alias!)  Use `.in_mks()` to convert your results to m/s^2.\n",
    "\n"
   ]
  },
  {
   "cell_type": "code",
   "execution_count": 5,
   "metadata": {
    "deletable": false,
    "nbgrader": {
     "cell_type": "code",
     "checksum": "94ddee8f403e846ab64cc84f79f2eb8d",
     "grade": false,
     "grade_id": "cell-df02c81a91d6f21d",
     "locked": false,
     "schema_version": 3,
     "solution": true
    }
   },
   "outputs": [
    {
     "name": "stdout",
     "output_type": "stream",
     "text": [
      "[ 3.70038773  8.8747268   9.80373386  3.70462729 24.79140604 10.44415924\n",
      "  8.86889098 11.14179963] m/s**2\n"
     ]
    }
   ],
   "source": [
    "### BEGIN SOLUTION\n",
    "import unyt.physical_constants as pc\n",
    "\n",
    "# This is a list, but Unyt will automatically convert to an array\n",
    "planet_masses = [pc.mass_mercury, pc.mass_venus, pc.mass_earth-0.07e24*u.kg, pc.mass_mars, \n",
    "                 pc.mass_jupiter, pc.mass_saturn, pc.mass_uranus, pc.mass_neptune]\n",
    "\n",
    "planet_g = pc.gravitational_constant * planet_masses / planet_radii**2\n",
    "print(planet_g.in_mks())\n",
    "### END SOLUTION"
   ]
  },
  {
   "cell_type": "markdown",
   "metadata": {
    "deletable": false,
    "editable": false,
    "nbgrader": {
     "cell_type": "markdown",
     "checksum": "a0b55f077c6e617238ac9ef8e94896b7",
     "grade": false,
     "grade_id": "cell-965d3a8f68359d43",
     "locked": true,
     "schema_version": 3,
     "solution": false
    }
   },
   "source": [
    "Your answer for the familiar $g$ on Earth may look slightly funny.  What is the value of the Earth's mass used by `unyt`?  What is the value if you search for another source on the internet?  The Moon weighs about 0.07e24 kg...can you go back and fix up your array to get the correct $g$?  (There's an important moral here about trusting numbers you get from someone else's code...trust, but verify!)"
   ]
  },
  {
   "cell_type": "markdown",
   "metadata": {
    "deletable": false,
    "editable": false,
    "nbgrader": {
     "cell_type": "markdown",
     "checksum": "f4cada0da98edb6d04b38d5fe941a190",
     "grade": false,
     "grade_id": "cell-0024af98da1a06ac",
     "locked": true,
     "schema_version": 3,
     "solution": false
    }
   },
   "source": [
    "## T25.2 - Basics of gvar\n",
    "\n",
    "### Part A\n",
    "\n",
    "Let's start with just making `gvar`s and doing simple arithmetic on them.  Enter the following values as `gvar` objects:\n",
    "\n",
    "* x = 2.19(52)\n",
    "* y = 0.93(13)\n",
    "\n",
    "Try using both the string and numeric mean/error versions of `gv.gvar()`."
   ]
  },
  {
   "cell_type": "code",
   "execution_count": 6,
   "metadata": {
    "deletable": false,
    "nbgrader": {
     "cell_type": "code",
     "checksum": "55b8fdccb2143a8f3974e285ed833af2",
     "grade": false,
     "grade_id": "cell-f312487a912d9acb",
     "locked": false,
     "schema_version": 3,
     "solution": true
    }
   },
   "outputs": [
    {
     "name": "stdout",
     "output_type": "stream",
     "text": [
      "2.19(52)\n",
      "0.93(13)\n"
     ]
    }
   ],
   "source": [
    "### BEGIN SOLUTION\n",
    "x = gv.gvar('2.19(52)')\n",
    "print(x)\n",
    "\n",
    "y = gv.gvar(0.93, 0.13)\n",
    "print(y)\n",
    "### END SOLUTION"
   ]
  },
  {
   "cell_type": "markdown",
   "metadata": {
    "deletable": false,
    "editable": false,
    "nbgrader": {
     "cell_type": "markdown",
     "checksum": "0eec1774d3bfd39abd7f3de4c0480080",
     "grade": false,
     "grade_id": "cell-ab7dca2b566988ec",
     "locked": true,
     "schema_version": 3,
     "solution": false
    }
   },
   "source": [
    "Now, calculate the following quantities:\n",
    "\n",
    "* $w = x+y$\n",
    "* $z = xy$\n",
    "\n",
    "\n",
    "Verify that the propagation of error matches what you would expect from the analytic formulas:\n",
    "\n",
    "$$\n",
    "\\sigma_{w} = \\sqrt{\\sigma_x^2 + \\sigma_y^2} \\\\\n",
    "\\frac{\\sigma_{z}}{z} = \\sqrt{\\frac{\\sigma_x^2}{x^2} + \\frac{\\sigma_y^2}{y^2}}\n",
    "$$"
   ]
  },
  {
   "cell_type": "code",
   "execution_count": 7,
   "metadata": {
    "deletable": false,
    "nbgrader": {
     "cell_type": "code",
     "checksum": "18291a60065789405d290ba729190c92",
     "grade": false,
     "grade_id": "cell-9ca26ae84a201b18",
     "locked": false,
     "schema_version": 3,
     "solution": true
    }
   },
   "outputs": [
    {
     "name": "stdout",
     "output_type": "stream",
     "text": [
      "3.12(54)\n",
      "0.5360037313302959\n",
      "0.5360037313302959\n",
      "2.04(56)\n",
      "0.5611800513204296\n",
      "0.5611800513204297\n"
     ]
    }
   ],
   "source": [
    "### BEGIN SOLUTION\n",
    "w = x+y\n",
    "print(w)\n",
    "\n",
    "# Checking error propagation\n",
    "print(w.sdev)\n",
    "print(np.sqrt(x.sdev**2 + y.sdev**2))\n",
    "\n",
    "z = x*y\n",
    "print(z)\n",
    "\n",
    "print(z.sdev)\n",
    "print(z.mean * np.sqrt( (x.sdev / x.mean)**2 + (y.sdev / y.mean)**2 ) )\n",
    "\n",
    "### END SOLUTION"
   ]
  },
  {
   "cell_type": "markdown",
   "metadata": {
    "deletable": false,
    "editable": false,
    "nbgrader": {
     "cell_type": "markdown",
     "checksum": "b4c029d3391c1028ad8a9c1fe67c020e",
     "grade": false,
     "grade_id": "cell-2325a011380f6544",
     "locked": true,
     "schema_version": 3,
     "solution": false
    }
   },
   "source": [
    "### Part B\n",
    "\n",
    "Use `gv.corr()` to find the _correlation coefficient_ between `w` and `z` - it should be non-zero since they were both produced from the same Gaussian variables, `x` and `y`!\n",
    "\n",
    "Calculate the ratio `w/z`.  Then create two _brand new_ `gvar` variables, `w_new` and `z_new`, which have the same mean and error values as `w` and `z`.  Show that `w_new/z_new` has a much larger error bar than `w/z`, due to the missing correlations."
   ]
  },
  {
   "cell_type": "code",
   "execution_count": 8,
   "metadata": {
    "deletable": false,
    "nbgrader": {
     "cell_type": "code",
     "checksum": "896e2da2da34ae3bfa8ed0c308be34f3",
     "grade": false,
     "grade_id": "cell-dcdabb8157f9f846",
     "locked": false,
     "schema_version": 3,
     "solution": true
    }
   },
   "outputs": [
    {
     "name": "stdout",
     "output_type": "stream",
     "text": [
      "0.959069739296225\n",
      "1.53(19)\n",
      "1.53(50)\n"
     ]
    }
   ],
   "source": [
    "### BEGIN SOLUTION\n",
    "print(gv.corr(w,z))\n",
    "\n",
    "print(w/z)\n",
    "w_new = gv.gvar('3.12(54)')\n",
    "z_new = gv.gvar('2.04(56)')\n",
    "print(w_new / z_new)\n",
    "### END SOLUTION"
   ]
  },
  {
   "cell_type": "markdown",
   "metadata": {},
   "source": [
    "## T25.3 - Units and errors at the same time\n",
    "\n",
    "We're doing a photoelectric effect experiment, shining light of various frequencies onto a metallic plate with unknown work function $\\Phi$.)  To begin with, we shine a blue light with wavelength $\\lambda = 450$ nm, and adjust the reverse bias voltage until the current stops flowing in our experiment.  Measuring this \"stopping voltage\" allows us to determine the work function using the relation\n",
    "\n",
    "$$\n",
    "\\Phi = \\frac{hc}{\\lambda} + eV_{\\rm stop}\n",
    "$$\n",
    "where $h$ is Planck's constant, $c$ is the speed of light, and $e$ is the electron charge.\n",
    "\n",
    "### Part A\n",
    "\n",
    "The array below contains several measurements of $V_{\\rm stop}$.  __Use `gv.dataset.avg_data()` to convert this to a number with an error bar.__"
   ]
  },
  {
   "cell_type": "code",
   "execution_count": 9,
   "metadata": {
    "deletable": false,
    "nbgrader": {
     "cell_type": "code",
     "checksum": "f4d9f1266a224ceb35d39abbadf24dda",
     "grade": false,
     "grade_id": "cell-48b4c9a53e8a109b",
     "locked": false,
     "schema_version": 3,
     "solution": true
    }
   },
   "outputs": [
    {
     "name": "stdout",
     "output_type": "stream",
     "text": [
      "0.567(22)\n"
     ]
    }
   ],
   "source": [
    "Vstop_meas = [0.60518702, 0.5607348 , 0.61921547, 0.43181751, 0.50939128,\n",
    "              0.48633646, 0.46718925, 0.70914269, 0.63411835, 0.35302378,\n",
    "              0.488022  , 0.49327817, 0.46512054, 0.56364097, 0.54846636,\n",
    "              0.7839588 , 0.58187662, 0.58690202, 0.53403152, 0.7447812 ,\n",
    "              0.59683929, 0.4711659 , 0.4399897 , 0.53631919, 0.3376564 ,\n",
    "              0.80877011, 0.63026838, 0.76659314, 0.47598293, 0.78977753]\n",
    "\n",
    "### BEGIN SOLUTION\n",
    "Vstop = gv.dataset.avg_data(Vstop_meas)\n",
    "print(Vstop)\n",
    "### END SOLUTION"
   ]
  },
  {
   "cell_type": "markdown",
   "metadata": {
    "deletable": false,
    "editable": false,
    "nbgrader": {
     "cell_type": "markdown",
     "checksum": "9776f40e3743cd2d69a9c270625cf288",
     "grade": false,
     "grade_id": "cell-743065482bbc3ea9",
     "locked": true,
     "schema_version": 3,
     "solution": false
    }
   },
   "source": [
    "Now we'd like to find a result for the work function $\\Phi$ with an error bar.  Unfortunately, `unyt` and `gvar` don't play nicely together!  To find the answer, go through the following steps in the cell below:\n",
    "\n",
    "1. Break the `gvar` you create for $V_{\\rm stop}$ into separate variables for the mean and error bar, using the `.mean` and `.sdev` properties.\n",
    "2. Add units (volts) to the mean and error variables, multiply by the electron charge\n",
    "3. Calculate the photon energy $hc/\\lambda$, add to $eV_{\\rm stop}$ (just the mean, the error is not affected by adding a constant.)\n",
    "4. Use `.to_value()` to convert the mean and error to their values in electron-volts, and combine them back into a final `gvar` for the work function `Phi`.\n",
    "\n",
    "To get you started I've imported all the constants you'll need from `unyt.physical_constants`, and gave you the wavelength of incident light with units."
   ]
  },
  {
   "cell_type": "code",
   "execution_count": 10,
   "metadata": {
    "deletable": false,
    "nbgrader": {
     "cell_type": "code",
     "checksum": "58c5a4d4d4bdc0b18a8b9bf953a21114",
     "grade": false,
     "grade_id": "cell-027ff5e81a0624df",
     "locked": false,
     "schema_version": 3,
     "solution": true
    }
   },
   "outputs": [
    {
     "name": "stdout",
     "output_type": "stream",
     "text": [
      "-0.5673199334873499 eV -0.02249738905376702 eV\n",
      "2.7552042922710354 eV\n",
      "2.188(22)\n"
     ]
    }
   ],
   "source": [
    "from unyt.physical_constants import electron_charge, planck_constant, c\n",
    "\n",
    "lmb = 450 * u.nm\n",
    "\n",
    "### BEGIN SOLUTION\n",
    "Vs_mean, Vs_err = Vstop.mean, Vstop.sdev\n",
    "eVs_mean, eVs_err = electron_charge * Vs_mean * u.V, electron_charge * Vs_err * u.V\n",
    "print(eVs_mean.to('eV'), eVs_err.to('eV'))\n",
    "\n",
    "E_photon = planck_constant * c / lmb\n",
    "print(E_photon.to('eV'))\n",
    "\n",
    "Phi_mean, Phi_err = E_photon + eVs_mean, eVs_err\n",
    "\n",
    "Phi = gv.gvar(Phi_mean.to_value('eV'), Phi_err.to_value('eV'))\n",
    "print(Phi)\n",
    "### END SOLUTION\n"
   ]
  },
  {
   "cell_type": "markdown",
   "metadata": {
    "deletable": false,
    "editable": false,
    "nbgrader": {
     "cell_type": "markdown",
     "checksum": "b00ba1395ae0cd94e42ae0d275884304",
     "grade": false,
     "grade_id": "cell-8a1818e35f645b91",
     "locked": true,
     "schema_version": 3,
     "solution": false
    }
   },
   "source": [
    "In this case, the error propagation was simple in the middle of our formula, so we just did it by hand.  Another approach would have been to convert $hc/\\lambda$ and $eV$ to numbers in electron-volts with `unyt.to_value()` first, make them into _separate_ `gvar`s, and then add them together. "
   ]
  },
  {
   "cell_type": "markdown",
   "metadata": {
    "deletable": false,
    "editable": false,
    "nbgrader": {
     "cell_type": "markdown",
     "checksum": "74f516d00e3072d51326c4b5d9e10bfb",
     "grade": false,
     "grade_id": "cell-fc8e60195e0be0e1",
     "locked": true,
     "schema_version": 3,
     "solution": false
    }
   },
   "source": [
    "### Part B\n",
    "\n",
    "Now that we know $\\Phi$, we can run the experiment backwards: if we know the stopping voltage and $\\Phi$, we can determine the maximum wavelength of light $\\lambda$ which will cause a current to flow.  Inverting the equation above gives\n",
    "\n",
    "$$\n",
    "\\lambda = \\frac{hc}{\\Phi - eV_{\\rm stop}}.\n",
    "$$\n",
    "\n",
    "Suppose we consider reverse voltages in the range from 0.5V to 1.5V, stepping by 0.1V, and the work function $\\Phi$ is what we found above in part B.  __Make an array of `gvar`s__ containing the wavelength of light $\\lambda$ (__in nm__) corresponding to each stopping voltage.\n",
    "\n",
    "_(Hint: this time we need the error propagation!  You could use gvar to calculate_ $1/(\\Phi - eV_{\\rm stop})$, _and then multiply by $hc$ and units afterwards.  Or, you could convert $hc$ itself to a number with_ `to_value()`, _and then divide by the `gvar` array - but make sure you pick the right units!)_"
   ]
  },
  {
   "cell_type": "code",
   "execution_count": 11,
   "metadata": {
    "deletable": false,
    "nbgrader": {
     "cell_type": "code",
     "checksum": "a922ee855b92a7f0a1eeb264a381ab0a",
     "grade": false,
     "grade_id": "cell-ae274297e7e18b8f",
     "locked": false,
     "schema_version": 3,
     "solution": true
    }
   },
   "outputs": [
    {
     "name": "stdout",
     "output_type": "stream",
     "text": [
      "[1.688(22) 1.588(22) 1.488(22) 1.388(22) 1.288(22) 1.188(22) 1.088(22)\n",
      " 0.988(22) 0.888(22) 0.788(22)]\n",
      "[734.6(9.8) 781(11) 833(13) 893(14) 963(17) 1044(20) 1140(24) 1255(29)\n",
      " 1396(35) 1574(45)]\n"
     ]
    }
   ],
   "source": [
    "volts = np.arange(0.5, 1.5, 0.1)\n",
    "\n",
    "### BEGIN SOLUTION\n",
    "E_gamma = Phi - volts\n",
    "print(E_gamma)\n",
    "\n",
    "wavelengths = (planck_constant * c).to_value('nm * eV') / E_gamma\n",
    "print(wavelengths)\n",
    "### END SOLUTION\n"
   ]
  },
  {
   "cell_type": "markdown",
   "metadata": {
    "deletable": false,
    "editable": false,
    "nbgrader": {
     "cell_type": "markdown",
     "checksum": "2503a532925a990cb03b043a72c3ab46",
     "grade": false,
     "grade_id": "cell-7f92c6f15071583d",
     "locked": true,
     "schema_version": 3,
     "solution": false
    }
   },
   "source": [
    "One more thing: now that we're working with numbers that have error bars, it would be nice to be able to _plot_ them!  Pyplot has us covered with the `plt.errorbar()` function.  The simplest way to use `plt.errorbar()` requires us to give _three_ arrays of the same length: `x`, `y`, and `yerr`.  Pyplot _also_ has no idea what a `gvar` is, so you'll need to use `.mean` and `.sdev` to get the arrays you need.\n",
    "\n",
    "__Try to make an error-bar plot of your array of wavelengths__ in the cell below.  (I recommend turning on some sort of `marker` and setting `linestyle=' '` for a conventional-looking data plot.)"
   ]
  },
  {
   "cell_type": "code",
   "execution_count": 12,
   "metadata": {
    "deletable": false,
    "nbgrader": {
     "cell_type": "code",
     "checksum": "c3065889c29d9f53ddb49672bbf239f9",
     "grade": false,
     "grade_id": "cell-304c18cb25d9072b",
     "locked": false,
     "schema_version": 3,
     "solution": true
    }
   },
   "outputs": [
    {
     "data": {
      "text/plain": [
       "Text(0, 0.5, '$\\\\lambda$')"
      ]
     },
     "execution_count": 12,
     "metadata": {},
     "output_type": "execute_result"
    },
    {
     "data": {
      "image/png": "[encoded data removed]",
      "text/plain": [
       "<Figure size 432x288 with 1 Axes>"
      ]
     },
     "metadata": {
      "needs_background": "light"
     },
     "output_type": "display_data"
    }
   ],
   "source": [
    "### BEGIN SOLUTION\n",
    "plt.errorbar(volts, gv.mean(wavelengths), yerr=gv.sdev(wavelengths), marker='o', linestyle=' ')\n",
    "plt.xlabel('$V$')\n",
    "plt.ylabel('$\\lambda$')\n",
    "### END SOLUTION"
   ]
  },
  {
   "cell_type": "markdown",
   "metadata": {
    "deletable": false,
    "editable": false,
    "nbgrader": {
     "cell_type": "markdown",
     "checksum": "cd8767b00f0f52ddc52fe06731bfd931",
     "grade": false,
     "grade_id": "cell-50ee3fb4c4062311",
     "locked": true,
     "schema_version": 3,
     "solution": false
    }
   },
   "source": [
    "### Bonus challenge\n",
    "\n",
    "Can you use `unyt` to verify that XKCD comic from the start of my lecture?  (The Planck energy is equal to $1.22 \\times 10^{28}$ eV; the comic is from January 2010, and the combined EPA mileage of the 2009 Toyota Prius was [46 miles per gallon](https://www.fueleconomy.gov/feg/noframes/25987.shtml).  Gallons aren't included in `unyt`, but you can use `u.define_unit` to add it yourself!)"
   ]
  },
  {
   "cell_type": "code",
   "execution_count": 13,
   "metadata": {
    "deletable": false,
    "nbgrader": {
     "cell_type": "code",
     "checksum": "634c64d94bd559dd335e9cd8a60b29b4",
     "grade": false,
     "grade_id": "cell-ed07f8af07aeaa9a",
     "locked": false,
     "schema_version": 3,
     "solution": true
    }
   },
   "outputs": [
    {
     "data": {
      "text/plain": [
       "unyt_quantity(3.18872644, '(dimensionless)')"
      ]
     },
     "execution_count": 13,
     "metadata": {},
     "output_type": "execute_result"
    }
   ],
   "source": [
    "u.define_unit(\"gallon\", 0.00378541 * u.m**3)  \n",
    "\n",
    "E_planck = 1.22e28 * u.eV\n",
    "P_core = 360e9 * u.Pa\n",
    "prius_mileage = 46 * u.mile / u.gallon\n",
    "width_channel = 33.3 * u.km\n",
    "\n",
    "((E_planck / P_core)*(prius_mileage / width_channel)).in_mks()\n",
    "\n"
   ]
  }
 ],
 "metadata": {
  "kernelspec": {
   "display_name": "Python 3",
   "language": "python",
   "name": "python3"
  },
  "language_info": {
   "codemirror_mode": {
    "name": "ipython",
    "version": 3
   },
   "file_extension": ".py",
   "mimetype": "text/x-python",
   "name": "python",
   "nbconvert_exporter": "python",
   "pygments_lexer": "ipython3",
   "version": "3.6.8"
  }
 },
 "nbformat": 4,
 "nbformat_minor": 2
}
