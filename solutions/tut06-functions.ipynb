{
 "cells": [
  {
   "cell_type": "markdown",
   "metadata": {
    "deletable": false,
    "editable": false,
    "nbgrader": {
     "cell_type": "markdown",
     "checksum": "7564ec85351d34e9cbcfc642e4ba0979",
     "grade": false,
     "grade_id": "cell-62e68fb2d6d46b56",
     "locked": true,
     "schema_version": 3,
     "solution": false
    }
   },
   "source": [
    "# Tutorial 6: Functions and Scope\n",
    "\n",
    "## PHYS 2600, Fall 2018"
   ]
  },
  {
   "cell_type": "markdown",
   "metadata": {
    "deletable": false,
    "editable": false,
    "nbgrader": {
     "cell_type": "markdown",
     "checksum": "cfcc93326c2452d35597a534072a1697",
     "grade": false,
     "grade_id": "cell-de20475ba0719791",
     "locked": true,
     "schema_version": 3,
     "solution": false
    }
   },
   "source": [
    "## T6.X - A deep dive with variables and scope\n",
    "\n",
    "_(Special note: this first problem is a __worked example__, which we'll go through together in class.  You are encouraged to fill this in as you follow along, but you won't be graded on whether you've completed it or not.)_\n",
    "\n",
    "### Part A\n",
    "\n",
    "Let's dig into a more complicated example of a function definition, and see what's happening with variables and their scope, line by line.  We'll make the function itself really simple: it will be called `triple(x)`, and will return 3 times whatever `x` is.  \n",
    "\n",
    "Consider the following code, but __do not run it yet:__"
   ]
  },
  {
   "cell_type": "code",
   "execution_count": null,
   "metadata": {
    "deletable": false,
    "editable": false,
    "nbgrader": {
     "cell_type": "code",
     "checksum": "cc3ec31b1d11b7e5c5368bbb5e61efb5",
     "grade": false,
     "grade_id": "cell-83411ffd054df466",
     "locked": true,
     "schema_version": 3,
     "solution": false
    }
   },
   "outputs": [],
   "source": [
    "x=2\n",
    "y=3\n",
    "\n",
    "def triple(x):\n",
    "    print(\"Inside triple, x is:\", x, \"and y is:\", y)\n",
    "    z=3*x\n",
    "    return z\n",
    "\n",
    "print(\"Triple sum:\", triple(3) + triple(4))\n",
    "print(\"At the end, x is:\", x)"
   ]
  },
  {
   "cell_type": "markdown",
   "metadata": {
    "deletable": false,
    "editable": false,
    "nbgrader": {
     "cell_type": "markdown",
     "checksum": "544e84f5fe0b84f4f6ab1c6032975517",
     "grade": false,
     "grade_id": "cell-d4c4aa9b7d836a5e",
     "locked": true,
     "schema_version": 3,
     "solution": false
    }
   },
   "source": [
    "Now, let's make sure we understand how variables and scope work by __predicting what will happen in the code, step by step.__  In class, I'll do this (with your help!) at the blackboard.  If you're working this exercise at home, make a blank Markdown cell or use a sheet of paper to predict what the code will do.  \n",
    "\n",
    "For context, here's an example sketch of what the global and local namespaces look like after we call `triple(4)`:\n",
    "\n",
    "<img src=\"https://physicscourses.colorado.edu/phys2600/phys2600_sp19/img/scopes.png\" width=500px />\n",
    "\n",
    "When you're finished with your prediction, run the cell and see if the output is what you expected.  Then __check your prediction__ by running the code above through the [Python Tutor](http://www.pythontutor.com/visualize.html#mode=edit).\n",
    "\n",
    "### Part B\n",
    "\n",
    "As the diagram hints, we can access global scope from inside a function as well, as long as we don't override the variable name.  __Predict the output of the following example__, and then run it:"
   ]
  },
  {
   "cell_type": "code",
   "execution_count": null,
   "metadata": {
    "deletable": false,
    "editable": false,
    "nbgrader": {
     "cell_type": "code",
     "checksum": "76fb839ab8ad9a12d10f53499ca321f3",
     "grade": false,
     "grade_id": "cell-6e3328e6a0d4bdf0",
     "locked": true,
     "schema_version": 3,
     "solution": false
    }
   },
   "outputs": [],
   "source": [
    "n=2\n",
    "\n",
    "def global_pow(x):\n",
    "    return x**n\n",
    "\n",
    "print(global_pow(3))\n",
    "\n",
    "n=3\n",
    "print(global_pow(3))"
   ]
  },
  {
   "cell_type": "markdown",
   "metadata": {
    "deletable": false,
    "editable": false,
    "nbgrader": {
     "cell_type": "markdown",
     "checksum": "6f1e7248f055058fba47fe450c8329f9",
     "grade": false,
     "grade_id": "cell-0cb83bf2a42a291a",
     "locked": true,
     "schema_version": 3,
     "solution": false
    }
   },
   "source": [
    "__Why does changing `n` work like this__, if we do it _after_ we've defined the `global_pow` function already?!  (The answer has to do with _when_ the statement `return x**n` is actually evaluated; again, try the Python Tutor if you're stuck.)"
   ]
  },
  {
   "cell_type": "markdown",
   "metadata": {
    "deletable": false,
    "nbgrader": {
     "cell_type": "markdown",
     "checksum": "26d1f05399356427ed64dd1fd62bdb69",
     "grade": true,
     "grade_id": "cell-a5994a4458c6db4f",
     "locked": false,
     "points": 0,
     "schema_version": 3,
     "solution": true
    }
   },
   "source": [
    "__ANSWER: There is no `n` in the local namespace of `global_pow`, so when we call it, it uses the _current_ value of `n` from the _global_ namespace - hence, its behavior changes when we change `n`.__"
   ]
  },
  {
   "cell_type": "markdown",
   "metadata": {
    "deletable": false,
    "editable": false,
    "nbgrader": {
     "cell_type": "markdown",
     "checksum": "45caf0aca65a4f749e18495ab47d3673",
     "grade": false,
     "grade_id": "cell-839f3ead81a55d04",
     "locked": true,
     "schema_version": 3,
     "solution": false
    }
   },
   "source": [
    "You should keep in mind that using global variables in this way is almost always a bad idea!  There are two major reasons:\n",
    "\n",
    "1. The code is much less clear; to know what `global_pow()` will actually do, you have to go backwards to find where `n` was defined last.\n",
    "2. If $n$ is used somewhere else in your code, the behavior of `global_pow()` can suddenly and unexpectedly change!\n",
    "\n",
    "### Part C\n",
    "\n",
    "Since using global variables has those drawbacks, let's implement a better `pow` function using keyword arguments - which will reveal another surprising behavior!  Again, __predict the output of the following code__, then run it:"
   ]
  },
  {
   "cell_type": "code",
   "execution_count": null,
   "metadata": {
    "deletable": false,
    "editable": false,
    "nbgrader": {
     "cell_type": "code",
     "checksum": "9249017a50ea8c6def3947a747daf583",
     "grade": false,
     "grade_id": "cell-b3ec757bdb1788fa",
     "locked": true,
     "schema_version": 3,
     "solution": false
    }
   },
   "outputs": [],
   "source": [
    "n=2\n",
    "\n",
    "def keyword_pow(x, n=n):\n",
    "    return x**n\n",
    "\n",
    "print(keyword_pow(3))\n",
    "print(keyword_pow(3,n=5))\n",
    "\n",
    "n=3\n",
    "print(keyword_pow(3))\n",
    "print(keyword_pow(3, n=n))"
   ]
  },
  {
   "cell_type": "markdown",
   "metadata": {
    "deletable": false,
    "editable": false,
    "nbgrader": {
     "cell_type": "markdown",
     "checksum": "4e226bb0eb099b58bdda220c76e3a0b1",
     "grade": false,
     "grade_id": "cell-a685cf232f5dfaf6",
     "locked": true,
     "schema_version": 3,
     "solution": false
    }
   },
   "source": [
    "Once again, if you get stuck the Python Tutor will help.  But the key point to understanding the behavior of the above code is this: although everything _inside_ a function is stored and not executed until later, the function header itself is __evaluated at the moment that we define it__.\n",
    "\n",
    "The other weird thing about the code above is the appearance of the bizarre-looking statement `n=n`.  Normally, this would do nothing at all!  But when we use it with a function definition or keyword argument, it really means \n",
    "\n",
    "`(local) n = (global) n`.  \n",
    "\n",
    "(You can think of the statement `n=n` as \"handing off\" the value of `n` from global to local scope.)"
   ]
  },
  {
   "cell_type": "markdown",
   "metadata": {
    "deletable": false,
    "editable": false,
    "nbgrader": {
     "cell_type": "markdown",
     "checksum": "e2172b266aadaf0d06480c162aa04d29",
     "grade": false,
     "grade_id": "cell-bd6cc8c22ef29a21",
     "locked": true,
     "schema_version": 3,
     "solution": false
    }
   },
   "source": [
    "## T6.1 - Making your own functions\n",
    "\n",
    "Let's start with some basic practice making our own functions.  Each of the code examples below contains a function call for a function that hasn't been implemented yet.  In each part below, __write the function in the first cell__ so that the code in the second cell works correctly.\n",
    "\n",
    "### Part A\n",
    "\n",
    "We want a function called `hello` that takes no arguments, and returns the string `Hello, world!` when it is called."
   ]
  },
  {
   "cell_type": "code",
   "execution_count": 1,
   "metadata": {
    "deletable": false,
    "nbgrader": {
     "cell_type": "code",
     "checksum": "f54f12d75727c994f126bc30a9000d5b",
     "grade": true,
     "grade_id": "cell-764aff9929c55d48",
     "locked": false,
     "points": 2,
     "schema_version": 3,
     "solution": true
    }
   },
   "outputs": [],
   "source": [
    "# Write your function here\n",
    "\n",
    "### BEGIN SOLUTION\n",
    "def hello():\n",
    "    return \"Hello, world!\"\n",
    "    \n",
    "### END SOLUTION"
   ]
  },
  {
   "cell_type": "code",
   "execution_count": 2,
   "metadata": {
    "deletable": false,
    "editable": false,
    "nbgrader": {
     "cell_type": "code",
     "checksum": "f1bac8dd62926a4ec240a146db74430c",
     "grade": false,
     "grade_id": "cell-9a2dbb9682219e17",
     "locked": true,
     "schema_version": 3,
     "solution": false
    }
   },
   "outputs": [
    {
     "name": "stdout",
     "output_type": "stream",
     "text": [
      "Hello, world!\n"
     ]
    }
   ],
   "source": [
    "## Read-only code: should run after you implement the function above.\n",
    "\n",
    "print(hello())\n",
    "\n",
    "# Note: this should print only \"Hello, world!\" - if you see \"None\" printed out as well, your function is incorrect!\n",
    "# Remember that you should _return_ the string from your function."
   ]
  },
  {
   "cell_type": "markdown",
   "metadata": {
    "deletable": false,
    "editable": false,
    "nbgrader": {
     "cell_type": "markdown",
     "checksum": "5d1105dd722b691df3228e56294c32e6",
     "grade": false,
     "grade_id": "cell-3664cc7e6d686fe2",
     "locked": true,
     "schema_version": 3,
     "solution": false
    }
   },
   "source": [
    "### Part B\n",
    "\n",
    "We want a function called `dist_origin` that takes two numbers `x` and `y`, and computes the distance from the origin $(0,0)$ to the point $(x,y)$.  (You'll need to import a square-root function from somewhere!)"
   ]
  },
  {
   "cell_type": "code",
   "execution_count": 3,
   "metadata": {
    "deletable": false,
    "nbgrader": {
     "cell_type": "code",
     "checksum": "a926cf69d712c53073f6ae493826b4f9",
     "grade": false,
     "grade_id": "cell-71a3f74b37afb80a",
     "locked": false,
     "schema_version": 3,
     "solution": true
    }
   },
   "outputs": [],
   "source": [
    "# Write your function here\n",
    "\n",
    "### BEGIN SOLUTION\n",
    "import numpy as np\n",
    "\n",
    "def dist_origin(x,y):\n",
    "    return np.sqrt(x**2 + y**2) \n",
    "### END SOLUTION\n"
   ]
  },
  {
   "cell_type": "code",
   "execution_count": 4,
   "metadata": {
    "deletable": false,
    "editable": false,
    "nbgrader": {
     "cell_type": "code",
     "checksum": "10adc097d86837a6f98d74dedf6cde34",
     "grade": false,
     "grade_id": "cell-31c2549ae32a01a8",
     "locked": true,
     "schema_version": 3,
     "solution": false
    }
   },
   "outputs": [
    {
     "name": "stdout",
     "output_type": "stream",
     "text": [
      "5.0\n",
      "1.4142135623730951\n"
     ]
    }
   ],
   "source": [
    "## Read-only code: should run after you implement the function above.\n",
    "\n",
    "print(dist_origin(3,4))  # should print 5.0\n",
    "print(dist_origin(1,-1)) # should print about 1.41"
   ]
  },
  {
   "cell_type": "markdown",
   "metadata": {
    "deletable": false,
    "editable": false,
    "nbgrader": {
     "cell_type": "markdown",
     "checksum": "308783254eed2750e5cb5dca893b8cdb",
     "grade": false,
     "grade_id": "cell-90bca8ff43d68ea7",
     "locked": true,
     "schema_version": 3,
     "solution": false
    }
   },
   "source": [
    "### Part C\n",
    "\n",
    "We want a function called `sum_power` that takes a __positional argument__ `N` and a __keyword argument__ `p` (with default value 1), and then computes the sum\n",
    "\n",
    "$$\n",
    "S(N,p) \\equiv \\sum_{k=0}^{N} k^p\n",
    "$$\n",
    "\n",
    "_(Hint: use `np.arange` to make an array of numbers, raise them to the appropriate power, and then use `np.sum` to add the array up.)_"
   ]
  },
  {
   "cell_type": "code",
   "execution_count": 5,
   "metadata": {
    "deletable": false,
    "nbgrader": {
     "cell_type": "code",
     "checksum": "a574884466b71de129d357c69f0dc818",
     "grade": false,
     "grade_id": "cell-4c597254fa56b258",
     "locked": false,
     "schema_version": 3,
     "solution": true
    }
   },
   "outputs": [],
   "source": [
    "# Write your function here\n",
    "\n",
    "### BEGIN SOLUTION\n",
    "def sum_power(N,p=1):\n",
    "    k = np.arange(0,N+1)  # Don't forget to include N at the top end!\n",
    "    pow_array = k**p\n",
    "    return np.sum(pow_array)\n",
    "### END SOLUTION\n"
   ]
  },
  {
   "cell_type": "code",
   "execution_count": 6,
   "metadata": {
    "deletable": false,
    "editable": false,
    "nbgrader": {
     "cell_type": "code",
     "checksum": "475357c508e4ab163aaa4d780109bd6c",
     "grade": false,
     "grade_id": "cell-bc3082d8ccbb91f9",
     "locked": true,
     "schema_version": 3,
     "solution": false
    }
   },
   "outputs": [
    {
     "name": "stdout",
     "output_type": "stream",
     "text": [
      "55\n",
      "385\n",
      "1025\n"
     ]
    }
   ],
   "source": [
    "## Read-only code: should run after you implement the function above.\n",
    "\n",
    "print(sum_power(10))      # With p=1, should print 55\n",
    "print(sum_power(10, p=2)) # Should print 385\n",
    "print(sum_power(2, p=10)) # Should print 1 + 2^10 = 1025"
   ]
  },
  {
   "cell_type": "markdown",
   "metadata": {
    "deletable": false,
    "editable": false,
    "nbgrader": {
     "cell_type": "markdown",
     "checksum": "15bf324fbf1bb302faad6c9b42e1d9c3",
     "grade": false,
     "grade_id": "cell-659fcaf351a59d73",
     "locked": true,
     "schema_version": 3,
     "solution": false
    }
   },
   "source": [
    "## T6.2 - Mixing scope with the `global` keyword\n",
    "\n",
    "There's one question I never addressed about scope in the materials so far: can you _write_ to global variables from inside of a local scope?  The answer is sort of, but it leads to one of the most complicated parts of Python's scoping rules.  For you information, we'll go through that case now.\n",
    "\n",
    "This section comes with a caveat: _you should almost never use the `global` keyword!_  Just as is the case with the global variable example we saw in lecture, modification of global variables breaks the principle of __encapsulation__, that a function should just be concerned with things locally available to it.  Encapsulation makes it much easier to diagnose errors; if your code depends on global scope, you have to look _everywhere_ for the problem!\n",
    "\n",
    "### Part A\n",
    "\n",
    "\n",
    "Although the variables in global namespace are visible within the scope of a function, Python actually distinguishes between _reading_ and _writing_ such variables.  Consider the following example code:"
   ]
  },
  {
   "cell_type": "code",
   "execution_count": 7,
   "metadata": {},
   "outputs": [
    {
     "name": "stdout",
     "output_type": "stream",
     "text": [
      "3\n"
     ]
    }
   ],
   "source": [
    "n=2\n",
    "\n",
    "def adder():\n",
    "    global n   # ANSWER: this line declares we're going to write to \"n\" in global namespace.\n",
    "    n += 1\n",
    "\n",
    "adder()\n",
    "print(n)"
   ]
  },
  {
   "cell_type": "markdown",
   "metadata": {
    "deletable": false,
    "editable": false,
    "nbgrader": {
     "cell_type": "markdown",
     "checksum": "cb35f64783a26230f9afb24aa6bfd0b2",
     "grade": false,
     "grade_id": "cell-9c7a684fdac6112d",
     "locked": true,
     "schema_version": 3,
     "solution": false
    }
   },
   "source": [
    "First, read the code and make sure you understand what it's supposed to do, and what the expected outcome of the final `print(n)` is.  Then, run the code and notice that you get an error message, specifically an `UnboundLocalError`.  This is because Python's default behavior is to _not_ allow writing to global variables inside of local scope.\n",
    "\n",
    "However, we can overrule this behavior by using the `global` keyword.  The statement `global x` tells Python that we want to be able to make full use of the global-namespace variable `x` in our local scope.  __Use the `global` keyword to fix the code above__, so that `adder()` has the expected outcome."
   ]
  },
  {
   "cell_type": "markdown",
   "metadata": {
    "deletable": false,
    "editable": false,
    "nbgrader": {
     "cell_type": "markdown",
     "checksum": "6e9fb4f729dbdce1180df320e0001081",
     "grade": false,
     "grade_id": "cell-874238b28a0d2515",
     "locked": true,
     "schema_version": 3,
     "solution": false
    }
   },
   "source": [
    "### Part B\n",
    "\n",
    "One more example of using global scope.  The _Fibonacci sequence_ is defined by the formula\n",
    "\\\\[\n",
    "F_n = F_{n-1} + F_{n-2}\n",
    "\\\\]\n",
    "along with the definitions $F_0 = F_1 = 1$.  Let's make use of global scope to compute numbers from this sequence.  In the cell below, implement a function `iterate_fib()` which uses the values of the global variables `Fn_minus_one` and `Fn_minus_two` to compute the next value in the sequence.  \n",
    "\n",
    "`iterate_fib()` should __return__ the value $F_n$, and then change `Fn_minus_one` and `Fn_minus_two` to prepare for the next time the function is called.  Remember that the `global` keyword is needed if you're going to assign to variables outside the local scope in a function."
   ]
  },
  {
   "cell_type": "code",
   "execution_count": 8,
   "metadata": {
    "deletable": false,
    "nbgrader": {
     "cell_type": "code",
     "checksum": "68a9af635ace1bf339057159edc90a79",
     "grade": false,
     "grade_id": "cell-0435e4dadc8a037c",
     "locked": false,
     "schema_version": 3,
     "solution": true
    }
   },
   "outputs": [],
   "source": [
    "Fn_minus_one = 1\n",
    "Fn_minus_two = 1\n",
    "\n",
    "def iterate_fib():\n",
    "\n",
    "    ### BEGIN SOLUTION\n",
    "    global Fn_minus_two \n",
    "    global Fn_minus_one \n",
    "\n",
    "    Fn = Fn_minus_one + Fn_minus_two\n",
    "    Fn_minus_two = Fn_minus_one\n",
    "    Fn_minus_one = Fn\n",
    "    \n",
    "    return Fn\n",
    "    ### END SOLUTION\n",
    "    "
   ]
  },
  {
   "cell_type": "code",
   "execution_count": 9,
   "metadata": {
    "deletable": false,
    "editable": false,
    "nbgrader": {
     "cell_type": "code",
     "checksum": "29c80008f53613fad98415369c8c4e2d",
     "grade": true,
     "grade_id": "cell-38f50cde44d543b8",
     "locked": true,
     "points": 0,
     "schema_version": 3,
     "solution": false
    }
   },
   "outputs": [],
   "source": [
    "## Testing cell; should run without error if your implementation above works!\n",
    "\n",
    "Fn_minus_one = 1\n",
    "Fn_minus_two = 1\n",
    "\n",
    "assert (iterate_fib() == 2)\n",
    "assert (iterate_fib() == 3)\n",
    "assert (iterate_fib() == 5)\n",
    "assert (iterate_fib() == 8)\n",
    "assert (iterate_fib() == 13)"
   ]
  }
 ],
 "metadata": {
  "kernelspec": {
   "display_name": "Python 3",
   "language": "python",
   "name": "python3"
  },
  "language_info": {
   "codemirror_mode": {
    "name": "ipython",
    "version": 3
   },
   "file_extension": ".py",
   "mimetype": "text/x-python",
   "name": "python",
   "nbconvert_exporter": "python",
   "pygments_lexer": "ipython3",
   "version": "3.6.8"
  }
 },
 "nbformat": 4,
 "nbformat_minor": 2
}
