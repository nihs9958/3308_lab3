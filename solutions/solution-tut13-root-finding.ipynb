{
 "cells": [
  {
   "cell_type": "markdown",
   "metadata": {
    "deletable": false,
    "editable": false,
    "nbgrader": {
     "cell_type": "markdown",
     "checksum": "c56f94bd735010d2adf957b3c6b07458",
     "grade": false,
     "grade_id": "cell-2898773b25104584",
     "locked": true,
     "schema_version": 3,
     "solution": false
    }
   },
   "source": [
    "# Tutorial 13: Root Finding\n",
    "\n",
    "## PHYS 2600, Spring 2019"
   ]
  },
  {
   "cell_type": "code",
   "execution_count": 2,
   "metadata": {
    "deletable": false,
    "editable": false,
    "nbgrader": {
     "cell_type": "code",
     "checksum": "de501e176af1007ad752b948bb39382e",
     "grade": false,
     "grade_id": "cell-8cbdb5eca29b41c2",
     "locked": true,
     "schema_version": 3,
     "solution": false
    }
   },
   "outputs": [],
   "source": [
    "# Import cell\n",
    "%matplotlib inline\n",
    "\n",
    "import numpy as np\n",
    "import matplotlib.pyplot as plt"
   ]
  },
  {
   "cell_type": "markdown",
   "metadata": {
    "deletable": false,
    "editable": false,
    "nbgrader": {
     "cell_type": "markdown",
     "checksum": "a7ff41f621610939f695376cf90c8535",
     "grade": false,
     "grade_id": "cell-bbf7a9e736aa2cf1",
     "locked": true,
     "schema_version": 3,
     "solution": false
    }
   },
   "source": [
    "## Setup: the torsion-spring pendulum\n",
    "\n",
    "Everything in this tutorial will concern a single physics system: a rigid pendulum plus a [torsion spring](https://en.wikipedia.org/wiki/Torsion_spring), with spring constant $\\kappa$.  A torsion spring works just like a regular spring, except that it exerts a restoring force based on angle instead of distance.  \n",
    "We'll assume the spring is unextended (exerts no force) at an angle $\\theta = \\theta_0$.\n",
    "\n",
    "<img src=\"https://physicscourses.colorado.edu/phys2600/phys2600_fa18/img/torsion-spring-pendulum.png\" width=400px />\n",
    "\n",
    "This is pretty simple-looking, but the forces are just complicated enough that we can't solve for the motion analytically.  (In fact, that was already true for just the pendulum, unless we take $\\theta$ to be small!)\n",
    "\n",
    "Instead of looking at the complete motion of this pendulum, let's ask a simpler question: __where are the points of equilibrium__?  That is, at what value (or values) of $\\theta$ will the pendulum remain at rest?  \n",
    "\n",
    "From intro mechanics, we remember that equilibrium points occur where the _potential energy_ of the system has vanishing derivative; with just one coordinate $\\theta$ here, we can write simply $U(\\theta)$.  The net force on our pendulum at any $\\theta$ will be\n",
    "\n",
    "$$\n",
    "F(\\theta) = -\\frac{dU}{d\\theta},\n",
    "$$\n",
    "\n",
    "so it will stay at rest whenever the derivative vanishes.  Now we write down the potential energy vs. $\\theta$:\n",
    "\n",
    "\\\\[\n",
    "U(\\theta) = \\frac{1}{2} \\kappa (\\theta - \\theta_0)^2 - mgL \\cos \\theta \\\\\n",
    "U'(\\theta) = \\kappa (\\theta - \\theta_0) + mgL \\sin \\theta\n",
    "\\\\]\n",
    "\n",
    "and solving $U'(\\theta) = 0$ gives us the equilibrium point(s).  This is _still_ not solvable on pen and paper (it's a transcendental equation), but we have computers!\n",
    "\n",
    "We could implement our solution below for a general set of parameters, but let's keep it simple and fix a bunch of them as constants: \n",
    "\n",
    "* $g = 9.8\\ m/s^2$\n",
    "* $m = 2\\ kg$\n",
    "* $L = 1\\ m$\n",
    "* $\\theta_0 = \\pi/4$\n",
    "\n",
    "We'll let the torsion spring constant $\\kappa$ be an adjustable parameter, but let's take the default value to be __10 J__.  (We assume that we're working in radians and not degrees, or else some annoying angular conversions show up.)\n",
    "\n",
    "Before we get to coding, it's a good idea to think carefully about what we expect.  The equation we're trying to solve has the form \n",
    "\n",
    "$$\n",
    "c(x-\\pi/4) = -\\sin(x)\n",
    "$$\n",
    "\n",
    "so in other words, we want the intersection of a line with $-\\sin(x)$.  __Run the cell below to plot these two curves from $U'(\\theta)$__.  From the plot, it should be evident that for our choice of parameters (or any $\\kappa > 0$, in fact) there will be only one solution in this range."
   ]
  },
  {
   "cell_type": "code",
   "execution_count": 3,
   "metadata": {
    "deletable": false,
    "editable": false,
    "nbgrader": {
     "cell_type": "code",
     "checksum": "2b301280aba63c20fa6ae380bf7dc522",
     "grade": false,
     "grade_id": "cell-f85e78aa5e4e20fd",
     "locked": true,
     "schema_version": 3,
     "solution": false
    }
   },
   "outputs": [
    {
     "data": {
      "text/plain": [
       "Text(0, 0.5, '$dU/d\\\\theta$')"
      ]
     },
     "execution_count": 3,
     "metadata": {},
     "output_type": "execute_result"
    },
    {
     "data": {
      "image/png": "[encoded data removed]",
      "text/plain": [
       "<Figure size 432x288 with 1 Axes>"
      ]
     },
     "metadata": {
      "needs_background": "light"
     },
     "output_type": "display_data"
    }
   ],
   "source": [
    "kappa = 10  # J\n",
    "m = 2  # kg\n",
    "L = 1  # m\n",
    "theta_0 = np.pi / 4\n",
    "g = 9.8  # m/s^2\n",
    "\n",
    "th = np.linspace(-np.pi, np.pi)\n",
    "\n",
    "plt.plot(th, kappa * (th - theta_0))\n",
    "plt.plot(th, -m*g*L*np.sin(th))\n",
    "plt.xlabel('$\\\\theta$')\n",
    "plt.ylabel('$dU/d\\\\theta$')"
   ]
  },
  {
   "cell_type": "markdown",
   "metadata": {
    "deletable": false,
    "editable": false,
    "nbgrader": {
     "cell_type": "markdown",
     "checksum": "b1ba7ba693c055863abeec92428168d7",
     "grade": false,
     "grade_id": "cell-0889b618ab858669",
     "locked": true,
     "schema_version": 3,
     "solution": false
    }
   },
   "source": [
    "## T13.1 - Solving with Brute Force"
   ]
  },
  {
   "cell_type": "markdown",
   "metadata": {
    "deletable": false,
    "editable": false,
    "nbgrader": {
     "cell_type": "markdown",
     "checksum": "01a47fe67f16ca687e8a6c2edd51282c",
     "grade": false,
     "grade_id": "cell-dda032c91f2fd3d9",
     "locked": true,
     "schema_version": 3,
     "solution": false
    }
   },
   "source": [
    "Let's begin with the simplest approach, _brute force_.  You might think this is a foolish way to attack the problem - and it is, compared to other algorithms available! - but since computers are so fast, this might work better than you expect.\n",
    "\n",
    "First, we should implement our $U'(\\theta)$ as a function `Up(theta)`; then we'll implement the algorithm.  (We use 'p' for prime, since the single quote ' isn't allowed in names in Python.)  I'll set up this one for you:"
   ]
  },
  {
   "cell_type": "code",
   "execution_count": 4,
   "metadata": {
    "deletable": false,
    "editable": false,
    "nbgrader": {
     "cell_type": "code",
     "checksum": "500d2f4bad91d8fb791098b1233ad14b",
     "grade": false,
     "grade_id": "cell-345063476b74ad9b",
     "locked": true,
     "schema_version": 3,
     "solution": false
    }
   },
   "outputs": [],
   "source": [
    "def Up(theta, kappa=10):\n",
    "    \"\"\"\n",
    "    Implements U'(theta) for the torsion spring/pendulum, as given in the cell above.\n",
    "    \n",
    "    Arguments:\n",
    "    ======\n",
    "    theta: angle in radians\n",
    "    kappa: torsion spring constant in J (default: 10)\n",
    "\n",
    "    \"\"\"\n",
    "    # Some hard-coded constants\n",
    "    m = 2    # kg\n",
    "    g = 9.8  # m/s^2\n",
    "    L = 1    # m\n",
    "    theta_0 = np.pi / 4\n",
    "\n",
    "    return kappa * (theta - theta_0) + m * g * L * np.sin(theta)\n",
    "    "
   ]
  },
  {
   "cell_type": "code",
   "execution_count": 5,
   "metadata": {
    "deletable": false,
    "editable": false,
    "nbgrader": {
     "cell_type": "code",
     "checksum": "7e2a7e1a19c4eeefa0539a5e841cca60",
     "grade": false,
     "grade_id": "cell-fa9730ee603ef073",
     "locked": true,
     "schema_version": 3,
     "solution": false
    }
   },
   "outputs": [],
   "source": [
    "## A couple of quick tests for Up(theta), computed separately by hand.\n",
    "import numpy.testing as npt\n",
    "\n",
    "npt.assert_allclose(Up(0), -7.854, atol=1e-4) \n",
    "npt.assert_allclose(Up(0.483), 6.079, atol=1e-4)"
   ]
  },
  {
   "cell_type": "markdown",
   "metadata": {
    "deletable": false,
    "editable": false,
    "nbgrader": {
     "cell_type": "markdown",
     "checksum": "b9fc53817b66ff8c561c1960f6d958e0",
     "grade": false,
     "grade_id": "cell-46b6c3a69674b97f",
     "locked": true,
     "schema_version": 3,
     "solution": false
    }
   },
   "source": [
    "Now, let's __implement the brute-force root finder.__  Here is the brute force algorithm again, assuming we're trying to find a root for an _arbitrary function_ $f(\\theta)$ over the range of valid angles $[-\\pi, \\pi]$:\n",
    "\n",
    "1. Choose a step size $\\delta$ and an error tolerance $\\epsilon$.\n",
    "2. Start with $\\theta = -\\pi$. \n",
    "3. Compute $f(\\theta)$, and check to see if it is within $\\epsilon$ of zero.  If it is, return $\\theta$.\n",
    "4. Otherwise, increase $\\theta$ by $\\delta$; repeat until $\\theta$ reaches $+\\pi$.\n",
    "5. If $\\theta$ reaches $+\\pi$ and we haven't returned a result, then __print a warning__ and return `None`.\n",
    "\n",
    "Notice that __the algorithm doesn't need to know anything about what $U'(\\theta)$ is!__  This is a valid approach for _any_ function.  So, we can decouple the algorithm from the function itself: we will _pass in `Up` as a parameter._"
   ]
  },
  {
   "cell_type": "code",
   "execution_count": 6,
   "metadata": {
    "deletable": false,
    "nbgrader": {
     "cell_type": "code",
     "checksum": "bb752e7c21f7f5dff43fcf02d52f74c0",
     "grade": true,
     "grade_id": "cell-046a0d3dc05f4d38",
     "locked": false,
     "points": 2,
     "schema_version": 3,
     "solution": true
    }
   },
   "outputs": [],
   "source": [
    "def brute_force_angle(f, delta=1e-3, tol=1e-4):\n",
    "    \"\"\"\n",
    "    Brute-force solution of f(theta) = 0.\n",
    "    theta is taken to run over the interval [-pi, +pi).\n",
    "    \n",
    "    Returns: a root of x0, i.e. a solution to f(x0) = 0.\n",
    "    \n",
    "    Arguments:\n",
    "    ======\n",
    "    f: function f(theta) to test.\n",
    "    \n",
    "    delta: step size (default: 1e-3)\n",
    "    tol: error tolerance (default: 1e-4)\n",
    "    \"\"\"\n",
    "    \n",
    "    ### BEGIN SOLUTION\n",
    "    # Start with theta = -pi\n",
    "    theta = -np.pi\n",
    "    \n",
    "    # Continue until theta reaches +pi\n",
    "    while theta < np.pi:\n",
    "        # Check if f(theta) is within tol of zero\n",
    "        if abs(f(theta)) < tol:\n",
    "            # If it is, we found a root - return it!\n",
    "            return theta\n",
    "        \n",
    "        # On to the next value of theta!\n",
    "        theta += delta\n",
    "    ### END SOLUTION\n",
    "    \n",
    "\n",
    "\n",
    "    print(\"Warning: no roots found to requested tol = {0:g}!\".format(tol))\n",
    "    return    # Same as \"return None\"\n",
    "    \n",
    "    "
   ]
  },
  {
   "cell_type": "markdown",
   "metadata": {
    "deletable": false,
    "editable": false,
    "nbgrader": {
     "cell_type": "markdown",
     "checksum": "730e477b1ad2688c40eee62ae31c0b8d",
     "grade": false,
     "grade_id": "cell-a432e72f42e8a2a8",
     "locked": true,
     "schema_version": 3,
     "solution": false
    }
   },
   "source": [
    "Try out the root finder by calling it below with `Up` as the first argument.  The default arguments for `delta` and `tol` should not find anything; __why is it failing?__  (Hint: what if your step size was $\\pi/2$ instead, would you expect brute force to get the right answer?  Could the same thing be happening here with $\\delta = 10^{-3}$?)\n",
    "\n",
    "Now adjust the step size `delta` until you find a result.  __What is the equilibrium angle, in radians?__ (If you make it too slow, you'll be waiting a long time!  I wouldn't make `delta` any smaller than `1e-6` or so.  Remember you can always interrupt the kernel with `i`,`i` if your program is stuck.)"
   ]
  },
  {
   "cell_type": "code",
   "execution_count": 8,
   "metadata": {
    "deletable": false,
    "nbgrader": {
     "cell_type": "code",
     "checksum": "96e8d93f9137d4652f2b2105ce206124",
     "grade": false,
     "grade_id": "cell-19ab7cf5136c64f9",
     "locked": false,
     "schema_version": 3,
     "solution": true
    }
   },
   "outputs": [
    {
     "name": "stdout",
     "output_type": "stream",
     "text": [
      "Warning: no roots found to requested tol = 0.0001!\n",
      "0.2674373464224473\n"
     ]
    }
   ],
   "source": [
    "theta_eq = brute_force_angle(Up)\n",
    "### BEGIN SOLUTION\n",
    "theta_eq = brute_force_angle(Up, delta=1e-5)\n",
    "# Prints 0.2674 radians.\n",
    "### END SOLUTION\n",
    "\n",
    "print(theta_eq)"
   ]
  },
  {
   "cell_type": "markdown",
   "metadata": {
    "deletable": false,
    "editable": false,
    "nbgrader": {
     "cell_type": "markdown",
     "checksum": "3984f0703d4ad909f00d90d4d03ba4a9",
     "grade": false,
     "grade_id": "cell-37271f56197e2885",
     "locked": true,
     "schema_version": 3,
     "solution": false
    }
   },
   "source": [
    "Evaluate `Up(theta_eq)` below, and make sure that it's within $10^{-4}$ of zero as expected."
   ]
  },
  {
   "cell_type": "code",
   "execution_count": 9,
   "metadata": {
    "deletable": false,
    "nbgrader": {
     "cell_type": "code",
     "checksum": "d22fbb61a7dc48b2d7b6761c75a1cab0",
     "grade": true,
     "grade_id": "cell-5a2fcbaf0440c2a1",
     "locked": false,
     "points": 0,
     "schema_version": 3,
     "solution": true
    }
   },
   "outputs": [
    {
     "data": {
      "text/plain": [
       "-9.74184249740162e-05"
      ]
     },
     "execution_count": 9,
     "metadata": {},
     "output_type": "execute_result"
    }
   ],
   "source": [
    "Up(theta_eq)"
   ]
  },
  {
   "cell_type": "markdown",
   "metadata": {
    "deletable": false,
    "editable": false,
    "nbgrader": {
     "cell_type": "markdown",
     "checksum": "53c45cfae2d8360d33c3bd5a51cecd0a",
     "grade": false,
     "grade_id": "cell-596832f351f7ffb8",
     "locked": true,
     "schema_version": 3,
     "solution": false
    }
   },
   "source": [
    "## T13.2 - Solving with the Bisection Method"
   ]
  },
  {
   "cell_type": "markdown",
   "metadata": {
    "deletable": false,
    "editable": false,
    "nbgrader": {
     "cell_type": "markdown",
     "checksum": "41c16ad23258471b5a1e91c41bf9dfa7",
     "grade": false,
     "grade_id": "cell-2f366ad8a1ce2484",
     "locked": true,
     "schema_version": 3,
     "solution": false
    }
   },
   "source": [
    "<img src=\"https://physicscourses.colorado.edu/phys2600/phys2600_fa18/img/bisection-sketch.png\" width=500px style=\"float:right;\" />\n",
    "\n",
    "Now we'll set up a similar solver that uses the bisection method.  I'll repeat the algorithm from the lecture notes here:\n",
    "\n",
    "1. Start with an initial interval $[a,b]$ such that $f(a)$ and $f(b)$ have opposite signs.\n",
    "2. Propose a new point $c$, which is the midpoint of the interval: $c = (a+b)/2$.\n",
    "3. Create a new interval by replacing either $a$ or $b$ with $c$, such that the function still has opposite sign on the two ends of the interval.\n",
    "4. Loop back to step 2 and repeat until the size of the interval is smaller than the tolerance $\\epsilon$.\n",
    "5. Return the midpoint of the final interval as the result.\n",
    "\n",
    "Step 3 is the tricky one here; how do we choose which point to replace?  When we take the midpoint between $a$ and $b$, we are guaranteed that __one of three things will happen:__\n",
    "\n",
    "1. $f(a)$ and $f(c)$ will have opposite sign, so we replace $b$ with $c$;\n",
    "2. $f(b)$ and $f(c)$ will have opposite sign, so we replace $a$ with $c$;\n",
    "3. $f(c)$ is exactly zero, in which case we're done: $c$ is the result.\n",
    "\n",
    "There are a couple of __edge cases__ we should also make sure to deal with, to avoid unexpected behavior.  If either $f(a) = 0$ or $f(b) = 0$, then we already have an answer, and should just return $a$ or $b$ instead of attempting to run the algorithm (so check for these first!)\n",
    "\n",
    "### Part A\n",
    "\n",
    "I've provided a function header and docstring below: __implement the function `bisection` according to those specifications and using the algorithm above.__"
   ]
  },
  {
   "cell_type": "code",
   "execution_count": 11,
   "metadata": {
    "deletable": false,
    "nbgrader": {
     "cell_type": "code",
     "checksum": "4e5c87ab4576f9b29f5b0d765e77c421",
     "grade": false,
     "grade_id": "cell-435306fb3e2acd19",
     "locked": false,
     "schema_version": 3,
     "solution": true
    }
   },
   "outputs": [],
   "source": [
    "def bisection(f, a, b, tol=1e-6):\n",
    "    \"\"\"\n",
    "    Find a root of f(x) in the interval a<x<b, using bisection search.\n",
    "    \n",
    "    A valid interval must have a < b, and f(a) and f(b) must have opposite signs.\n",
    "    \n",
    "    Returns: a root of x0, i.e. a solution to f(x0) = 0.\n",
    "    \n",
    "    Arguments:\n",
    "    ======\n",
    "    f: function to be studied; should take one argument.\n",
    "    a: lower end of search interval\n",
    "    b: upper end of search interval\n",
    "    \n",
    "    tol: error tolerance for result (default: 1e-6)\n",
    "    \n",
    "    \"\"\"\n",
    "    \n",
    "    ### BEGIN SOLUTION\n",
    "    \n",
    "    # If either f(a) or f(b) is zero, then we already\n",
    "    # have a solution!\n",
    "    if f(a) == 0:\n",
    "        return a\n",
    "    if f(b) == 0:\n",
    "        return b\n",
    "    \n",
    "    # Spot checks for valid interval\n",
    "    assert b>a\n",
    "    assert f(b) / f(a) < 0\n",
    "    \n",
    "    while (b-a) > tol:\n",
    "        c = (a+b)/2\n",
    "        if f(c) / f(a) < 0:\n",
    "            # c and a have opposite sign: new interval is [a,c]\n",
    "            b = c\n",
    "        elif f(c) / f(b) < 0:\n",
    "            # c and b have opposite sign: new interval is [c,b]\n",
    "            a = c\n",
    "        else:\n",
    "            # Only other possibility is that f(c) was exactly zero!\n",
    "            return c\n",
    "    else:\n",
    "        return (a+b)/2  # Think: why not `return c`?\n",
    "\n",
    "    ### END SOLUTION\n",
    "    \n",
    "    "
   ]
  },
  {
   "cell_type": "markdown",
   "metadata": {
    "deletable": false,
    "editable": false,
    "nbgrader": {
     "cell_type": "markdown",
     "checksum": "59c22ee0fd656e7883e3c9a781f365c8",
     "grade": false,
     "grade_id": "cell-8912f644b61cfd06",
     "locked": true,
     "schema_version": 3,
     "solution": false
    }
   },
   "source": [
    "Before we try to use our function on the real problem, we'd better try it out on an easier problem where we know the answer exactly!  Let's use $x^2 - 4$ as our test case; I've written some tests for you in the cell below."
   ]
  },
  {
   "cell_type": "code",
   "execution_count": 12,
   "metadata": {
    "deletable": false,
    "editable": false,
    "nbgrader": {
     "cell_type": "code",
     "checksum": "998e275f348083c53a12fa772e320c20",
     "grade": true,
     "grade_id": "cell-d70744b724002fd5",
     "locked": true,
     "points": 0,
     "schema_version": 3,
     "solution": false
    }
   },
   "outputs": [],
   "source": [
    "import numpy.testing as npt\n",
    "\n",
    "def test_fn(x):\n",
    "    return x**2 - 4\n",
    "\n",
    "npt.assert_allclose(bisection(test_fn, 0, 1356, tol=1e-4), 2, atol=1e-4)\n",
    "npt.assert_allclose(bisection(test_fn, 0, 1356, tol=1e-12), 2, atol=1e-12)\n",
    "npt.assert_allclose(bisection(test_fn, -3.3, 1), -2, atol=1e-6)\n",
    "npt.assert_allclose(bisection(test_fn, -3, 1), -2, atol=1e-6)"
   ]
  },
  {
   "cell_type": "markdown",
   "metadata": {
    "deletable": false,
    "editable": false,
    "nbgrader": {
     "cell_type": "markdown",
     "checksum": "49277bfe01457898843949ea941b4bb0",
     "grade": false,
     "grade_id": "cell-9428ae9722316749",
     "locked": true,
     "schema_version": 3,
     "solution": false
    }
   },
   "source": [
    "### Part B\n",
    "\n",
    "Now, use your `bisection` function with `Up` to __find where $U'(\\theta) = 0$__, and thus where the pendulum-spring system will hang at equilibrium.  Use a tolerance of $10^{-6}$ (written as `1e-6` in Python.)  Does your answer agree with the brute force method?\n",
    "\n",
    "Notice that this is much faster than the brute force algorithm was, for a worse tolerance of $10^{-4}$!  In fact, bisection is extremely fast here; try cranking down the tolerance to $10^{-16}$ or lower and see how quickly you can get a result!"
   ]
  },
  {
   "cell_type": "code",
   "execution_count": 13,
   "metadata": {
    "deletable": false,
    "nbgrader": {
     "cell_type": "code",
     "checksum": "1b6bc6b28bf0c69b8d3e8364bb262bd0",
     "grade": false,
     "grade_id": "cell-aff86b16cc1d7d63",
     "locked": false,
     "schema_version": 3,
     "solution": true
    }
   },
   "outputs": [
    {
     "data": {
      "text/plain": [
       "0.2674399629879372"
      ]
     },
     "execution_count": 13,
     "metadata": {},
     "output_type": "execute_result"
    }
   ],
   "source": [
    "\n",
    "### BEGIN SOLUTION\n",
    "bisection(Up, -np.pi, np.pi, tol=1e-4) \n",
    "# This prints out 0.2674 radians as the equilibrium value,\n",
    "# or 15.32 degrees.\n",
    "### END SOLUTION\n"
   ]
  },
  {
   "cell_type": "markdown",
   "metadata": {
    "deletable": false,
    "editable": false,
    "nbgrader": {
     "cell_type": "markdown",
     "checksum": "739d0684d9a6b33e242344f6f02d605c",
     "grade": false,
     "grade_id": "cell-25ef5420a9134528",
     "locked": true,
     "schema_version": 3,
     "solution": false
    }
   },
   "source": [
    "### Part C\n",
    "\n",
    "If we remove the spring entirely ($\\kappa = 0$), then the pendulum will develop __two__ points where $U'(\\theta) = 0$.  __Find them both with a bisection search.__  _(Hint: you can probably guess from your physics knowledge where the two points for the regular pendulum are.  Make sure you adjust your initial interval as needed.)_\n",
    "\n",
    "This requires passing `Up` in to our search algorithm with a different value of $\\kappa$.  One way to do this would be to go back and change the default in `Up`, but that's not the best solution.  Instead, we'll write a __wrapper function__: we define a new function `Up_zero` that calls `Up` with $\\kappa = 0$, and then feed _that_ function in to `bisection` for your answer.\n",
    "\n",
    "(Wrapper functions are a common way to smooth over two interfaces that don't quite match each other, as happened to use in this case.  The flexibility of how functions are used as objects in Python makes constructing wrappers like this easy!)"
   ]
  },
  {
   "cell_type": "code",
   "execution_count": 14,
   "metadata": {
    "deletable": false,
    "nbgrader": {
     "cell_type": "code",
     "checksum": "84e6cdab9d09652a1254b402683d2a61",
     "grade": false,
     "grade_id": "cell-603a4e6a08a38eab",
     "locked": false,
     "schema_version": 3,
     "solution": true
    }
   },
   "outputs": [
    {
     "name": "stdout",
     "output_type": "stream",
     "text": [
      "0.0\n",
      "3.1415924951508596\n"
     ]
    }
   ],
   "source": [
    "def Up_zero(theta):\n",
    "    return Up(theta, kappa=0)\n",
    "\n",
    "### BEGIN SOLUTION\n",
    "print(bisection(Up_zero, -1, 1))  # theta = 0\n",
    "print(bisection(Up_zero, 0.2, 2*np.pi)) # theta = pi\n",
    "### END SOLUTION\n"
   ]
  },
  {
   "cell_type": "markdown",
   "metadata": {
    "deletable": false,
    "editable": false,
    "nbgrader": {
     "cell_type": "markdown",
     "checksum": "2d823fdcbf5e981f19d076ee9cda0b9e",
     "grade": false,
     "grade_id": "cell-dd25f216037bf8cd",
     "locked": true,
     "schema_version": 3,
     "solution": false
    }
   },
   "source": [
    "### Part D _(optional challenge)_\n",
    "\n",
    "Strictly speaking, we don't know if our solution is a _minimum_ of the energy unless we check the second derivative $U''(\\theta)$.  Only minima with $U''(\\theta) > 0$ will be _stable_ equilibrium points.  __Implement a function `Upp(theta, kappa)`__ which computes the second derivative $U''(\\theta)$, and use it to answer the following:\n",
    "\n",
    "* For the equilibrium angle you found with $\\kappa = 10$, is the equilibrium point stable, i.e. is $U''(\\theta) > 0$?\n",
    "* For the spring-free case $\\kappa = 0$, check the two points you found to see if they're stable or unstable.  (Does the answer match your physical intuition?)"
   ]
  },
  {
   "cell_type": "code",
   "execution_count": 15,
   "metadata": {
    "deletable": false,
    "nbgrader": {
     "cell_type": "code",
     "checksum": "200120bb550c5e42487f756877c8cfec",
     "grade": true,
     "grade_id": "cell-b9ffa0cb05dd50be",
     "locked": false,
     "points": 0,
     "schema_version": 3,
     "solution": true
    }
   },
   "outputs": [
    {
     "name": "stdout",
     "output_type": "stream",
     "text": [
      "0.0\n",
      "28.903227458938098\n",
      "19.6\n",
      "-19.6\n"
     ]
    }
   ],
   "source": [
    "### BEGIN SOLUTION\n",
    "# Going back and taking another derivative, we find:\n",
    "# U''(theta) = kappa + m*g*L*cos(theta)\n",
    "\n",
    "def Upp(theta, kappa=10):\n",
    "    m = 2    # kg\n",
    "    g = 9.8  # m/s^2\n",
    "    L = 1    # m\n",
    "    theta_0 = np.pi / 4\n",
    "    \n",
    "    return kappa + m*g*L*np.cos(theta)\n",
    "\n",
    "# Now let's test our kappa=10 equilibrium point.\n",
    "theta_eq = bisection(Up, -np.pi, np.pi, tol=1e-16) \n",
    "print(Up(theta_eq))\n",
    "print(Upp(theta_eq))\n",
    "\n",
    "# This prints 28.9 for U'', so this is a stable equilibrium.\n",
    "# Now, we can try the theta=0 example, where the equilibria were at zero and pi:\n",
    "\n",
    "print(Upp(0, kappa=0))\n",
    "print(Upp(np.pi, kappa=0))\n",
    "\n",
    "# This prints 19.6 and -19.6, so theta=0 is stable, and theta=pi is unstable.\n",
    "# (If you think about it, this is exactly what we expect from physical intuition!)\n",
    "\n",
    "### END SOLUTION\n",
    "\n"
   ]
  }
 ],
 "metadata": {
  "kernelspec": {
   "display_name": "Python 3",
   "language": "python",
   "name": "python3"
  },
  "language_info": {
   "codemirror_mode": {
    "name": "ipython",
    "version": 3
   },
   "file_extension": ".py",
   "mimetype": "text/x-python",
   "name": "python",
   "nbconvert_exporter": "python",
   "pygments_lexer": "ipython3",
   "version": "3.6.8"
  }
 },
 "nbformat": 4,
 "nbformat_minor": 2
}
