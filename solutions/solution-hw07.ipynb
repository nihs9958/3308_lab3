{
 "cells": [
  {
   "cell_type": "markdown",
   "metadata": {
    "deletable": false,
    "editable": false,
    "nbgrader": {
     "cell_type": "markdown",
     "checksum": "2f870160b460c2e41f577f54bfa92961",
     "grade": false,
     "grade_id": "cell-053f09c8a8a514e5",
     "locked": true,
     "schema_version": 3,
     "solution": false
    }
   },
   "source": [
    "# Homework #7\n",
    "\n",
    "## PHYS 2600, Spring 2019\n",
    "\n",
    "__Important notice:__ All cells in your notebook will be run, start to finish, using a fresh kernel when it is graded!  To make sure the graded notebook looks like what you expect, we recommend restarting the kernel and selecting \"Cells > Run All\" in the menu above before you submit."
   ]
  },
  {
   "cell_type": "markdown",
   "metadata": {
    "deletable": false,
    "editable": false,
    "nbgrader": {
     "cell_type": "markdown",
     "checksum": "47411badbcdd134151ead945a6998d9d",
     "grade": false,
     "grade_id": "cell-06bff42e9e16d26f",
     "locked": true,
     "schema_version": 3,
     "solution": false
    }
   },
   "source": [
    "If you worked collaboratively on this assignment, __include the names of your collaborators in the cell below:__"
   ]
  },
  {
   "cell_type": "markdown",
   "metadata": {},
   "source": []
  },
  {
   "cell_type": "markdown",
   "metadata": {
    "deletable": false,
    "editable": false,
    "nbgrader": {
     "cell_type": "markdown",
     "checksum": "f859b2f1e72b7617cba4c9b300cc9b90",
     "grade": false,
     "grade_id": "cell-9bbcf2e8b7cbb637",
     "locked": true,
     "schema_version": 3,
     "solution": false
    }
   },
   "source": [
    "## 7.0 - Homework correction (3 points)\n",
    "\n",
    "In the cell below, explain and correct __one mistake__ you made on your _last graded_ homework assignment.  If you got a perfect score, great, tell us what your favorite problem was, or use the space to give any other feedback you might have on the class/tutorials/homework."
   ]
  },
  {
   "cell_type": "markdown",
   "metadata": {
    "deletable": false,
    "nbgrader": {
     "cell_type": "markdown",
     "checksum": "5ce9a7b6d6cd92d8890072ee29bf8575",
     "grade": true,
     "grade_id": "cell-1689332322e959be",
     "locked": false,
     "points": 3,
     "schema_version": 3,
     "solution": true
    }
   },
   "source": [
    "_Type your answer here using Markdown._"
   ]
  },
  {
   "cell_type": "markdown",
   "metadata": {
    "deletable": false,
    "editable": false,
    "nbgrader": {
     "cell_type": "markdown",
     "checksum": "11db2e5ca13cb39f3ca3c4ff04899dea",
     "grade": false,
     "grade_id": "cell-5352f75f59b5cce7",
     "locked": true,
     "schema_version": 3,
     "solution": false
    }
   },
   "source": [
    "## 7.1 - More fun with lists (10 points)"
   ]
  },
  {
   "cell_type": "markdown",
   "metadata": {
    "deletable": false,
    "editable": false,
    "nbgrader": {
     "cell_type": "markdown",
     "checksum": "84c5446c3e659ebfb786ff47efee7512",
     "grade": false,
     "grade_id": "cell-5dec940ce74f991b",
     "locked": true,
     "schema_version": 3,
     "solution": false
    }
   },
   "source": [
    "__Important instruction:__ Your solution to all of the problems below _must_ use list operations to manipulate the starting lists or tuples you are given, in order to produce the answer.  Just entering the answer by hand as a new list is worth no credit!\n",
    "\n",
    "Run the cell below to initialize some lists and tuples that you'll have to manipulate in your answers."
   ]
  },
  {
   "cell_type": "code",
   "execution_count": 1,
   "metadata": {
    "deletable": false,
    "editable": false,
    "nbgrader": {
     "cell_type": "code",
     "checksum": "1d57489b6e24e725015c3615743ca4e4",
     "grade": false,
     "grade_id": "cell-93b16c826018c56d",
     "locked": true,
     "schema_version": 3,
     "solution": false
    }
   },
   "outputs": [],
   "source": [
    "# Initialization cell - run me first!\n",
    "\n",
    "SI_smaller_prefixes = ('milli','micro','nano','pico')\n",
    "SI_bigger_prefixes = ('kilo', 'mega', 'giga', 'tera')\n",
    "\n",
    "material_names = ['water', 'selenium', 'quartz', 'potassium']\n",
    "melting_points = [0, 220, 1470, 63]\n",
    "boiling_points = [100, 688, 2230, 762]\n",
    "\n",
    "some_points_xyz = [\n",
    "    (3, 1, 1),\n",
    "    (2, 1, -2),\n",
    "    (-1, 0, -1),\n",
    "    (-7, -3, -4),\n",
    "    (5, -5, 2),\n",
    "    (-3, 2, 0),\n",
    "]"
   ]
  },
  {
   "cell_type": "markdown",
   "metadata": {
    "deletable": false,
    "editable": false,
    "nbgrader": {
     "cell_type": "markdown",
     "checksum": "1969c47b50ec133ef13d1ea52bb49b50",
     "grade": false,
     "grade_id": "cell-51cf3bdb2c405dae",
     "locked": true,
     "schema_version": 3,
     "solution": false
    }
   },
   "source": [
    "### Part A (3 points)\n",
    "\n",
    "__Combine the tuples__ `SI_smaller_prefixes` and `SI_bigger_prefixes` into a single tuple `SI_prefixes`.  Make sure your combined list is __in order, from smallest to largest prefix (i.e. pico to tera).__\n",
    "\n",
    "_(Hint: you could use a `for` loop here to build the tuple you want, more likely two `for` loops to traverse the two different lists.  Or you can skip the loop and just add the two prefix tuples up, but then they'll be in the wrong order...slicing with a step size of $-1$ can let you reverse a list or tuple.)_"
   ]
  },
  {
   "cell_type": "code",
   "execution_count": 2,
   "metadata": {
    "deletable": false,
    "nbgrader": {
     "cell_type": "code",
     "checksum": "95f9bf14e8f03f1d0e9970cd47f4e84f",
     "grade": false,
     "grade_id": "cell-1ac29bbb3bcad33f",
     "locked": false,
     "schema_version": 3,
     "solution": true
    }
   },
   "outputs": [
    {
     "data": {
      "text/plain": [
       "('pico', 'nano', 'micro', 'milli', 'kilo', 'mega', 'giga', 'tera')"
      ]
     },
     "execution_count": 2,
     "metadata": {},
     "output_type": "execute_result"
    }
   ],
   "source": [
    "\n",
    "### BEGIN SOLUTION\n",
    "# Reverse and add together\n",
    "SI_prefixes = SI_smaller_prefixes[::-1] + SI_bigger_prefixes\n",
    "\n",
    "# Or, use a loop:\n",
    "SI_prefixes = ()\n",
    "for i in range(len(SI_smaller_prefixes)):\n",
    "    SI_prefixes += (SI_smaller_prefixes[-(i+1)],)\n",
    "for i in range(len(SI_bigger_prefixes)):\n",
    "    SI_prefixes += (SI_bigger_prefixes[i],)\n",
    "\n",
    "SI_prefixes\n",
    "### END SOLUTION\n",
    "\n"
   ]
  },
  {
   "cell_type": "code",
   "execution_count": 3,
   "metadata": {
    "deletable": false,
    "editable": false,
    "nbgrader": {
     "cell_type": "code",
     "checksum": "a74e6d6578b11951906a3d77386cee38",
     "grade": true,
     "grade_id": "cell-e74f47c5af91ffac",
     "locked": true,
     "points": 3,
     "schema_version": 3,
     "solution": false
    }
   },
   "outputs": [],
   "source": [
    "assert SI_prefixes == ('pico', 'nano', 'micro', 'milli', 'kilo', 'mega', 'giga', 'tera')"
   ]
  },
  {
   "cell_type": "markdown",
   "metadata": {
    "deletable": false,
    "editable": false,
    "nbgrader": {
     "cell_type": "markdown",
     "checksum": "40e370303f89ee003cc2ce827fd8b92b",
     "grade": false,
     "grade_id": "cell-8537114ef20164a6",
     "locked": true,
     "schema_version": 3,
     "solution": false
    }
   },
   "source": [
    "### Part B (3 points)\n",
    "\n",
    "Three related lists above contain the names of some materials, their melting points (in degrees C), and their boiling points (also degrees C).  Combine them to __create a single list__ `material_melt_boil_points`, which consists of  __tuples of the form:__ `(material name, melting point, boiling point)`."
   ]
  },
  {
   "cell_type": "code",
   "execution_count": 4,
   "metadata": {
    "deletable": false,
    "nbgrader": {
     "cell_type": "code",
     "checksum": "a0556871b1acb7cb412cc588956886c4",
     "grade": false,
     "grade_id": "cell-f4e474f8024f342b",
     "locked": false,
     "schema_version": 3,
     "solution": true
    }
   },
   "outputs": [
    {
     "data": {
      "text/plain": [
       "[('water', 0, 100),\n",
       " ('selenium', 220, 688),\n",
       " ('quartz', 1470, 2230),\n",
       " ('potassium', 63, 762)]"
      ]
     },
     "execution_count": 4,
     "metadata": {},
     "output_type": "execute_result"
    }
   ],
   "source": [
    "\n",
    "### BEGIN SOLUTION\n",
    "material_melt_boil_points = []\n",
    "for i in range(4):\n",
    "    material_melt_boil_points.append( (material_names[i], melting_points[i], boiling_points[i]) )\n",
    "\n",
    "material_melt_boil_points\n",
    "### END SOLUTION\n"
   ]
  },
  {
   "cell_type": "code",
   "execution_count": 5,
   "metadata": {
    "deletable": false,
    "editable": false,
    "nbgrader": {
     "cell_type": "code",
     "checksum": "4686201dc130f1f2688bd25a34717384",
     "grade": true,
     "grade_id": "cell-3c6ccf0838796781",
     "locked": true,
     "points": 3,
     "schema_version": 3,
     "solution": false
    }
   },
   "outputs": [],
   "source": [
    "solution_materials_list = [\n",
    "    ('water', 0, 100),\n",
    "    ('selenium', 220, 688),\n",
    "    ('quartz', 1470, 2230),\n",
    "    ('potassium', 63, 762),\n",
    "]\n",
    "assert material_melt_boil_points == solution_materials_list"
   ]
  },
  {
   "cell_type": "markdown",
   "metadata": {
    "deletable": false,
    "editable": false,
    "nbgrader": {
     "cell_type": "markdown",
     "checksum": "a43d69d7d991b4c778b6ea3dfbff915b",
     "grade": false,
     "grade_id": "cell-22ab8223d813787a",
     "locked": true,
     "schema_version": 3,
     "solution": false
    }
   },
   "source": [
    "### Part C (4 points)\n",
    "\n",
    "Starting with the list `some_points_xyz`, which is a list of Cartesian points $(x,y,z)$, produce a list `some_points_cyl` which consists of __three-element tuples__ $(r, \\phi, z)$, corresponding to the same points in cylindrical coordinates - defined by:\n",
    "\n",
    "\\\\[\n",
    "r \\equiv \\sqrt{x^2 + y^2}, \\\\\n",
    "\\phi = \\tan^{-1} (y/x),\n",
    "\\\\]\n",
    "and $z$ is unchanged.\n",
    "\n",
    "_(Note: be careful with how you compute the angle `phi` - check back on tutorial 15 for the difference between the `arctan` and `arctan2` functions.)_"
   ]
  },
  {
   "cell_type": "code",
   "execution_count": 6,
   "metadata": {
    "deletable": false,
    "nbgrader": {
     "cell_type": "code",
     "checksum": "f6d52a19aa1eed7fb0952baf830bf068",
     "grade": false,
     "grade_id": "cell-2f71c1b87bbb2aa8",
     "locked": false,
     "schema_version": 3,
     "solution": true
    }
   },
   "outputs": [
    {
     "data": {
      "text/plain": [
       "[(3.1622776601683795, 0.3217505543966422, 1),\n",
       " (2.23606797749979, 0.4636476090008061, -2),\n",
       " (1.0, 3.141592653589793, -1),\n",
       " (7.615773105863909, -2.7367008673047097, -4),\n",
       " (7.0710678118654755, -0.7853981633974483, 2),\n",
       " (3.605551275463989, 2.5535900500422257, 0)]"
      ]
     },
     "execution_count": 6,
     "metadata": {},
     "output_type": "execute_result"
    }
   ],
   "source": [
    "import numpy as np\n",
    "\n",
    "\n",
    "### BEGIN SOLUTION\n",
    "some_points_cyl = []\n",
    "for x, y, z in some_points_xyz:    \n",
    "    r = np.sqrt(x**2 + y**2)\n",
    "    phi = np.arctan2(y, x)\n",
    "    \n",
    "    some_points_cyl.append( (r, phi, z) )\n",
    "    \n",
    "some_points_cyl\n",
    "### END SOLUTION\n"
   ]
  },
  {
   "cell_type": "code",
   "execution_count": 7,
   "metadata": {
    "deletable": false,
    "editable": false,
    "nbgrader": {
     "cell_type": "code",
     "checksum": "c43e4fc783dd166b8f050f47a654123c",
     "grade": true,
     "grade_id": "cell-bd3677ed30d02a01",
     "locked": true,
     "points": 4,
     "schema_version": 3,
     "solution": false
    }
   },
   "outputs": [],
   "source": [
    "import numpy.testing as npt\n",
    "\n",
    "test_points = [\n",
    "    (3.16, 0.32, 1),\n",
    "    (2.24, 0.46, -2),\n",
    "    (1.00, 3.14, -1),\n",
    "    (7.62, -2.74, -4),\n",
    "    (7.07, -0.79, 2),\n",
    "    (3.61, 2.55, 0),\n",
    "]\n",
    "\n",
    "npt.assert_allclose(test_points, some_points_cyl, atol=1e-2)"
   ]
  },
  {
   "cell_type": "markdown",
   "metadata": {
    "deletable": false,
    "editable": false,
    "nbgrader": {
     "cell_type": "markdown",
     "checksum": "9944fad0299f5774755a34e3f37b6e22",
     "grade": false,
     "grade_id": "cell-78ff05971dee9e39",
     "locked": true,
     "schema_version": 3,
     "solution": false
    }
   },
   "source": [
    "## 7.2 - Friction and lists (12 points)\n",
    "\n",
    "### Part A (4 points)\n",
    "\n",
    "Suppose we're performing an experiment in 1-d kinematics with friction.  We have a collection of blocks, initially all  with the same coefficients of friction $\\mu_S = \\mu_K = 0.2$.  (This is a bit unrealistic since $\\mu_S > \\mu_K$ generally, although for some materials $\\mu_S = \\mu_K$ isn't a terrible approximation.)\n",
    "\n",
    "The blocks have various masses, and we apply different forces to them.  We'd like a function that will check whether the blocks will move or not, and compute the acceleration only if they do move.\n",
    "\n",
    "I have started filling in the function `block_accel_friction` below, including a docstring.  __Implement the missing logic__ before the `return` statement, so that the function will behave as described in the docstring.\n",
    "\n"
   ]
  },
  {
   "cell_type": "code",
   "execution_count": 8,
   "metadata": {
    "deletable": false,
    "nbgrader": {
     "cell_type": "code",
     "checksum": "7907e9407c924346d33fc78f45f8041a",
     "grade": false,
     "grade_id": "cell-86e4e4d36c4d094c",
     "locked": false,
     "schema_version": 3,
     "solution": true
    }
   },
   "outputs": [],
   "source": [
    "\n",
    "def block_accel_friction(m, F, mu=0.2):\n",
    "    \"\"\"\n",
    "    Checks whether a block will move, overcoming\n",
    "    static friction, and returns the acceleration if so.\n",
    "\n",
    "    Arguments:\n",
    "    ==========\n",
    "    m: mass of block  [kg]\n",
    "    F: applied linear force  [N]\n",
    "    mu: coefficient of friction (default: 0.2.)\n",
    "    \n",
    "    Returns:\n",
    "    ========\n",
    "    A tuple (block_will_move, accel) = (<bool>, <object>), \n",
    "    depending on whether the block moves:\n",
    "    \n",
    "    * Returns (False, None) if the block does not move;\n",
    "    * Returns (True, accel) if the block does move.\n",
    "\n",
    "    Zero acceleration (F = F_friction) is considered *not* moving.\n",
    "    \"\"\"\n",
    "    \n",
    "    g = 9.8\n",
    "    F_friction = mu * m * g\n",
    "\n",
    "    ### BEGIN SOLUTION\n",
    "    \n",
    "    if F <= F_friction:\n",
    "        block_will_move = False\n",
    "        accel = None\n",
    "    else:\n",
    "        block_will_move = True\n",
    "        accel = (F - F_friction) / m\n",
    "\n",
    "    ### END SOLUTION\n",
    "    \n",
    "\n",
    "    return (block_will_move, accel)\n",
    "    "
   ]
  },
  {
   "cell_type": "code",
   "execution_count": 9,
   "metadata": {
    "deletable": false,
    "editable": false,
    "nbgrader": {
     "cell_type": "code",
     "checksum": "9dc0a8d053decbcff983706eb7e6e5b7",
     "grade": true,
     "grade_id": "cell-3cc96e53e7e2a822",
     "locked": true,
     "points": 4,
     "schema_version": 3,
     "solution": false
    }
   },
   "outputs": [],
   "source": [
    "import numpy.testing as npt\n",
    "\n",
    "npt.assert_allclose(block_accel_friction(1.0, 4.0), (True, 2.04))\n",
    "assert block_accel_friction(4.0, 4.0) == (False, None)\n",
    "assert block_accel_friction(1.0, 4.0, mu=0.5) == (False, None)\n",
    "npt.assert_allclose(block_accel_friction(4.0, 20.0), (True, 3.04))"
   ]
  },
  {
   "cell_type": "markdown",
   "metadata": {
    "deletable": false,
    "editable": false,
    "nbgrader": {
     "cell_type": "markdown",
     "checksum": "a6520f269433e8f072d4bc9db3b49d66",
     "grade": false,
     "grade_id": "cell-c7e92ba1c689d74f",
     "locked": true,
     "schema_version": 3,
     "solution": false
    }
   },
   "source": [
    "### Part B (4 points)\n",
    "\n",
    "Below we have two tuples about our experiment, now with some blocks of various $\\mu$.  `block_list` consists of 3-element tuples `(mass, force, mu)` for a single block.  `block_color_list` is a list of the same length containing the color each block is painted (which is how we keep track of them in the experiment.)\n",
    "\n",
    "Use a `for` loop to __produce a single list called `blocks_that_move`__ made up of tuples `(color, accel)`, __only for those blocks which overcome static friction and move.__\n",
    "\n",
    "_(Hint: if you're not sure how to do this at first, can you start by just creating the list `(color, accel)` for every single block?  If you called_ `block_accel_friction` _to get `accel`, what did you do with the boolean_ `block_will_move` _that also gets returned?  Can you use that to reduce to the list you want?)_"
   ]
  },
  {
   "cell_type": "code",
   "execution_count": 10,
   "metadata": {
    "deletable": false,
    "nbgrader": {
     "cell_type": "code",
     "checksum": "b2417222cc9a807e8fdc4b3b86f03794",
     "grade": false,
     "grade_id": "cell-a92ed3a8297329db",
     "locked": false,
     "schema_version": 3,
     "solution": true
    }
   },
   "outputs": [
    {
     "data": {
      "text/plain": [
       "[(1.0399999999999998, 'orange'),\n",
       " (0.24, 'yellow'),\n",
       " (0.8866666666666663, 'green'),\n",
       " (1.62, 'black')]"
      ]
     },
     "execution_count": 10,
     "metadata": {},
     "output_type": "execute_result"
    }
   ],
   "source": [
    "# block_list contains data as (mass, force, mu)\n",
    "block_list = (  \n",
    "    (0.5, 0.8, 0.2),\n",
    "    (1.0, 3.0, 0.2),\n",
    "    (2.0, 4.4, 0.2),\n",
    "    (3.0, 5.6, 0.1),\n",
    "    (2.0, 2.2, 0.3),\n",
    "    (2.0, 1.6, 0.1),\n",
    "    (1.0, 2.6, 0.1),\n",
    ")\n",
    "block_color_list = ('red', 'orange', 'yellow', 'green', 'blue', 'white', 'black')\n",
    "\n",
    "blocks_that_move = []\n",
    "\n",
    "### BEGIN SOLUTION\n",
    "for i, (m, F, mu) in enumerate(block_list):\n",
    "    block_will_move, accel = block_accel_friction(m, F, mu=mu)\n",
    "    if block_will_move:\n",
    "        blocks_that_move.append((accel, block_color_list[i]))\n",
    "\n",
    "### END SOLUTION\n",
    "\n",
    "blocks_that_move  # Correct solution should contain four blocks out of seven."
   ]
  },
  {
   "cell_type": "code",
   "execution_count": 11,
   "metadata": {
    "deletable": false,
    "editable": false,
    "nbgrader": {
     "cell_type": "code",
     "checksum": "6e418eb52abeb9b9e53116f5833ef984",
     "grade": true,
     "grade_id": "cell-d6989a2db387c49a",
     "locked": true,
     "points": 4,
     "schema_version": 3,
     "solution": false
    }
   },
   "outputs": [],
   "source": [
    "import numpy.testing as npt\n",
    "\n",
    "assert len(blocks_that_move) == 4\n"
   ]
  },
  {
   "cell_type": "markdown",
   "metadata": {
    "deletable": false,
    "editable": false,
    "nbgrader": {
     "cell_type": "markdown",
     "checksum": "e3b2cfbc3cab6bd728297838734e90d7",
     "grade": false,
     "grade_id": "cell-c272ffa37cdfc74b",
     "locked": true,
     "schema_version": 3,
     "solution": false
    }
   },
   "source": [
    "### Part C (4 points)\n",
    "\n",
    "Finally, suppose we're thinking about designing the next iteration of the experiment, and we have a variety of block masses and applied forces to combine, given in the lists `mass_list` and `force_list`.\n",
    "\n",
    "__Produce a list `mass_force_combos` containing all combinations of any mass and any force such that the block will move.__  (Assume the default value of friction $\\mu = 0.2$.)\n",
    "\n",
    "_(Hint: you'll need to start with a list of __all__ possible combinations of mass and force from the two lists, and then filter it down with the function from part A.  The list of all pairwise combinations from two lists is known as the __direct product__ or __outer product__.  Nesting two `for` loops inside each other is a good way to start.)_"
   ]
  },
  {
   "cell_type": "code",
   "execution_count": 12,
   "metadata": {
    "deletable": false,
    "nbgrader": {
     "cell_type": "code",
     "checksum": "72fc1bcdc23aa2f4f10241d9e59ca193",
     "grade": false,
     "grade_id": "cell-df73c09a42f8445b",
     "locked": false,
     "schema_version": 3,
     "solution": true
    }
   },
   "outputs": [
    {
     "data": {
      "text/plain": [
       "[(0.5, 2.0),\n",
       " (0.5, 3.4),\n",
       " (0.5, 5.6),\n",
       " (1.0, 2.0),\n",
       " (1.0, 3.4),\n",
       " (1.0, 5.6),\n",
       " (2.0, 5.6)]"
      ]
     },
     "execution_count": 12,
     "metadata": {},
     "output_type": "execute_result"
    }
   ],
   "source": [
    "mass_list = (0.5, 1.0, 2.0, 3.0,)\n",
    "force_list = (0.8, 2.0, 3.4, 5.6)\n",
    "\n",
    "mass_force_combos = []\n",
    "### BEGIN SOLUTION\n",
    "for m in mass_list:\n",
    "    for F in force_list:\n",
    "        # `_` is a common convention in Python for an ignored placeholder variable.\n",
    "        block_will_move, _ = block_accel_friction(m, F)\n",
    "        if block_will_move:\n",
    "            mass_force_combos.append((m,F))\n",
    "### END SOLUTION\n",
    "\n",
    "\n",
    "mass_force_combos  # Correct solution has 7 different (m, F) combinations."
   ]
  },
  {
   "cell_type": "code",
   "execution_count": 13,
   "metadata": {
    "deletable": false,
    "editable": false,
    "nbgrader": {
     "cell_type": "code",
     "checksum": "c889dfba0476771700050e2c603773f7",
     "grade": true,
     "grade_id": "cell-42208ee68300e407",
     "locked": true,
     "points": 4,
     "schema_version": 3,
     "solution": false
    }
   },
   "outputs": [],
   "source": [
    "assert len(mass_force_combos) == 7\n"
   ]
  },
  {
   "cell_type": "markdown",
   "metadata": {
    "deletable": false,
    "editable": false,
    "nbgrader": {
     "cell_type": "markdown",
     "checksum": "735273b444931817bd28d3193aa93fa6",
     "grade": false,
     "grade_id": "cell-1b80c3d47ff9cdf3",
     "locked": true,
     "schema_version": 3,
     "solution": false
    }
   },
   "source": [
    "## 7.3 - A taste of cryptography (16 points)"
   ]
  },
  {
   "cell_type": "markdown",
   "metadata": {
    "deletable": false,
    "editable": false,
    "nbgrader": {
     "cell_type": "markdown",
     "checksum": "2f24ad683214b3324d84837762d17079",
     "grade": false,
     "grade_id": "cell-dc6257cf43bf443a",
     "locked": true,
     "schema_version": 3,
     "solution": false
    }
   },
   "source": [
    "Now that we've met lists and tuples, we have a new way to look at our old friend the _string_.  A string is a __sequence__, just like a list or tuple: it is an ordered set of objects.  In the case of a string, the objects it's made of must be __characters__ - single letters, numbers, punctuation marks, etc.\n",
    "\n",
    "Like a tuple, a string is an _immutable_ sequence, which means we can't use things like `append` or use `=` to overwrite individual characters.  However, basically all of the methods we've seen for tuples also work as expected on strings, including indexing, slicing, and `len`.  We can even use a `for` loop to iterate over a string, which gives us one character at a time:"
   ]
  },
  {
   "cell_type": "code",
   "execution_count": 14,
   "metadata": {
    "deletable": false,
    "editable": false,
    "nbgrader": {
     "cell_type": "code",
     "checksum": "3c27260355cdcfc6883f2b453ca13195",
     "grade": false,
     "grade_id": "cell-044fc411467e9576",
     "locked": true,
     "schema_version": 3,
     "solution": false
    }
   },
   "outputs": [
    {
     "name": "stdout",
     "output_type": "stream",
     "text": [
      "b\n",
      "6\n",
      "xyz\n",
      "For loop:\n",
      "a\n",
      "b\n",
      "c\n",
      "x\n",
      "y\n",
      "z\n"
     ]
    }
   ],
   "source": [
    "s = 'abcxyz'\n",
    "print(s[1])\n",
    "print(len(s))\n",
    "print(s[3:6])\n",
    "\n",
    "print(\"For loop:\")\n",
    "for char in s:\n",
    "    print(char)"
   ]
  },
  {
   "cell_type": "markdown",
   "metadata": {
    "deletable": false,
    "editable": false,
    "nbgrader": {
     "cell_type": "markdown",
     "checksum": "966e533b60ea0b959d9a1142e7f33232",
     "grade": false,
     "grade_id": "cell-5ac26e4285eda21f",
     "locked": true,
     "schema_version": 3,
     "solution": false
    }
   },
   "source": [
    "The most immediate and interesting application of this sort of character-level string manipulation is __cryptography__, or secure communications.  (The textbook, Langtangen, has another example - working with DNA sequences - at the end of chapter 3.)\n",
    "\n",
    "The idea is simple: if we can devise a secret algorithm to __encode__ a message by converting it from plain text into something unreadable, and if the algorithm is reversible so we can __decode__ the message back to plain text, then we have a way to send messages to another person so that any third party who doesn't know the algorithm can't intercept and read them.\n",
    "\n",
    "For simplicity, let's focus only on messages in English consisting of lower-case letters.  (It's not any harder to do mixed upper-case and lower-case letters, just more complicated.)  One of the simplest classes of cryptographic algorithms are the __ROT__, or \"rotation\", algorithms.  The __ROT(n)__ algorithm takes each letter in a message, and \"rotates\" it around the alphabet by n places.  \n",
    "\n",
    "So, for example, ROT(1) would map a --> b, b --> c, and so on (with the end wrapping around, so z --> a.)  The message `\"hello\"` becomes `\"jfkkp\"`; to 'decode' back to `\"hello\"` we just reverse the map.  The wrapping-around at the end is like counting on a clock (an hour after 12 is 1), so this is another example of _modular arithmetic_, as we encountered back in lecture 2.\n",
    "\n",
    "\n"
   ]
  },
  {
   "cell_type": "markdown",
   "metadata": {
    "deletable": false,
    "editable": false,
    "nbgrader": {
     "cell_type": "markdown",
     "checksum": "b07098a4e339f0d7b7cf4171e3f86dd6",
     "grade": false,
     "grade_id": "cell-713b3c157df8f2be",
     "locked": true,
     "schema_version": 3,
     "solution": false
    }
   },
   "source": [
    "### Part A (6 points)\n",
    "\n",
    "To implement a ROT algorithm, the first thing we need is a mapping between letters and their corresponding numbers.  Since letters are really stored as binary numbers underneath, we can just use the numeric representation that Python already has!\n",
    "\n",
    "Given a single character `c`, the built-in function `ord(c)` converts it into the underlying number in the encoding scheme we are using (in this case, ASCII, which we discussed briefly back in lecture 3.)  The `chr()` function goes back the other way: for example,"
   ]
  },
  {
   "cell_type": "code",
   "execution_count": 15,
   "metadata": {
    "deletable": false,
    "editable": false,
    "nbgrader": {
     "cell_type": "code",
     "checksum": "35358bdedeb2b036bb6677edd9d45c20",
     "grade": false,
     "grade_id": "cell-d3755765a059bac8",
     "locked": true,
     "schema_version": 3,
     "solution": false
    }
   },
   "outputs": [
    {
     "name": "stdout",
     "output_type": "stream",
     "text": [
      "a\n",
      "97\n",
      "122\n"
     ]
    }
   ],
   "source": [
    "print(chr(97))\n",
    "print(ord('a'))\n",
    "print(ord('z'))"
   ]
  },
  {
   "cell_type": "markdown",
   "metadata": {
    "deletable": false,
    "editable": false,
    "nbgrader": {
     "cell_type": "markdown",
     "checksum": "b55bdf0135ef6b3e75f1355d88da9a6b",
     "grade": false,
     "grade_id": "cell-1b0408042fd3131e",
     "locked": true,
     "schema_version": 3,
     "solution": false
    }
   },
   "source": [
    "As these results imply, the codes given by `ord()` for lower-case letters run continuously from 97 to 122.  However, this is a little annoying, since the modular arithmetic we'll need is much more natural to handle if our codes range from 0 to 25 instead.\n",
    "\n",
    "We also need to think about how to handle things that _aren't_ lower-case letters.  Most messages will be harder to read without punctuation, and _much_ harder to read without spaces!  Keep this in mind as we're working towards implementing the full algorithm.  (Of course, space and punctuation also make it easier to guess the true message - so the professionals tend to just not use them.)\n",
    "\n",
    "To make implementing the ROT(n) algorithm easier, __define three functions below__:\n",
    "\n",
    "* `is_letter(c)` should accept a single character (length-one string), and return `True` if it is a lower-case letter and `False` otherwise.  _(Remember, `ord(c)` for any character will give you a code, and we just worked out which codes are letters...)_\n",
    "* `char_to_num(c)` should also accept a single character.  If `c` is _not_ a lower-case letter, it should just return `c` back; otherwise, it should return 0 for `a`, 1 for `b`, and so on.  _(You should use_ `is_letter(c)` _here!)_\n",
    "* `num_to_char(n)` is the inverse of `char_to_num`: it should accept a number from 0-25 and return the corresponding lower-case letter."
   ]
  },
  {
   "cell_type": "code",
   "execution_count": 16,
   "metadata": {
    "deletable": false,
    "nbgrader": {
     "cell_type": "code",
     "checksum": "7d38c77952f45f9f48ba8ae75b730af6",
     "grade": false,
     "grade_id": "cell-b2bb6a0aa2db1960",
     "locked": false,
     "schema_version": 3,
     "solution": true
    }
   },
   "outputs": [],
   "source": [
    "def is_letter(c):    \n",
    "    ### BEGIN SOLUTION\n",
    "    return 97 <= ord(c) <= 122\n",
    "    ### END SOLUTION\n",
    "\n",
    "def char_to_num(c):\n",
    "    ### BEGIN SOLUTION\n",
    "    if not is_letter(c):\n",
    "        return c\n",
    "    \n",
    "    return ord(c) - 97\n",
    "    ### END SOLUTION\n",
    "    \n",
    "def num_to_char(n):\n",
    "    ### BEGIN SOLUTION\n",
    "    if not type(n) == int:\n",
    "        return n\n",
    "    \n",
    "    return chr(n+97)\n",
    "    ### END SOLUTION"
   ]
  },
  {
   "cell_type": "code",
   "execution_count": 17,
   "metadata": {
    "deletable": false,
    "editable": false,
    "nbgrader": {
     "cell_type": "code",
     "checksum": "380731d39c49eb13282cdd78a11ccb05",
     "grade": true,
     "grade_id": "cell-18f8dc8bff4a199b",
     "locked": true,
     "points": 6,
     "schema_version": 3,
     "solution": false
    }
   },
   "outputs": [],
   "source": [
    "assert is_letter('q')\n",
    "assert not is_letter('3')\n",
    "assert not is_letter('X')\n",
    "\n",
    "assert char_to_num('z') == 25\n",
    "assert char_to_num('n') == 13\n",
    "assert char_to_num(' ') == ' '\n",
    "assert char_to_num('A') == 'A'\n",
    "\n",
    "assert num_to_char(4) == 'e'\n",
    "assert num_to_char(23) == 'x'\n",
    "\n",
    "assert num_to_char(char_to_num('k')) == 'k'\n",
    "assert char_to_num(num_to_char(13)) == 13"
   ]
  },
  {
   "cell_type": "markdown",
   "metadata": {
    "deletable": false,
    "editable": false,
    "nbgrader": {
     "cell_type": "markdown",
     "checksum": "cf78644a16c7e209f1a37835d662b095",
     "grade": false,
     "grade_id": "cell-9a4a148babb682ac",
     "locked": true,
     "schema_version": 3,
     "solution": false
    }
   },
   "source": [
    "### Part B (6 points)\n",
    "\n",
    "Now __implement the ROT(n) algorithm__ in the function `encode_rot_n(message, n)` below.  Your function should return a string in which every lower-case letter is replaced by its 'rotated' equivalent, according to the value of `n` given as an argument.\n",
    "\n",
    "A good test case to consider is ROT(13), which is particularly simple: the first half of the alphabet gets mapped to the second half, and vice versa.  So `'a'` --> `'m'` and `'m'` --> `'a`', and so on.\n",
    "\n",
    "_(Hint: remember,_ `char_to_num` _returns either an `int` type or a `str` type, and you only want to apply the \"rotation\" if it gives you an `int` back!  A quick type check of the form `if type(...) == int:` should let you discriminate between lower-case letters and everything else in your code.)_"
   ]
  },
  {
   "cell_type": "code",
   "execution_count": 18,
   "metadata": {
    "deletable": false,
    "nbgrader": {
     "cell_type": "code",
     "checksum": "d33f80a626d003cf9f7ed3d45a8b37f3",
     "grade": false,
     "grade_id": "cell-7acbba8650cb90fd",
     "locked": false,
     "schema_version": 3,
     "solution": true
    }
   },
   "outputs": [],
   "source": [
    "def encode_rot_n(message, n):\n",
    "    ### BEGIN SOLUTION\n",
    "    new_message = ''\n",
    "    \n",
    "    for char in message:\n",
    "        cnum = char_to_num(char)\n",
    "        if type(cnum) == int:        \n",
    "            rot_cnum = (cnum + n) % 26\n",
    "            rot_char = num_to_char(rot_cnum)\n",
    "        else:\n",
    "            rot_char = char\n",
    "\n",
    "        new_message += rot_char\n",
    "    \n",
    "    return new_message\n",
    "    ### END SOLUTION\n",
    "    "
   ]
  },
  {
   "cell_type": "code",
   "execution_count": 19,
   "metadata": {
    "deletable": false,
    "editable": false,
    "nbgrader": {
     "cell_type": "code",
     "checksum": "941a15138affefd6ec26c2ac01c28c7b",
     "grade": true,
     "grade_id": "cell-9f1970ba14f6b42d",
     "locked": true,
     "points": 6,
     "schema_version": 3,
     "solution": false
    }
   },
   "outputs": [],
   "source": [
    "assert encode_rot_n('colorado', 19) == 'vhehktwh'\n",
    "assert encode_rot_n('hello world', 13) == 'uryyb jbeyq'\n",
    "assert encode_rot_n('Testing upper case', 4) == 'Tiwxmrk yttiv gewi'\n",
    "assert encode_rot_n(encode_rot_n('back and forth!', 13), 13) == 'back and forth!'\n"
   ]
  },
  {
   "cell_type": "markdown",
   "metadata": {
    "deletable": false,
    "editable": false,
    "nbgrader": {
     "cell_type": "markdown",
     "checksum": "9cc8058ff1d4d885db8c9a66e4abd54c",
     "grade": false,
     "grade_id": "cell-beb7e3d3be44614a",
     "locked": true,
     "schema_version": 3,
     "solution": false
    }
   },
   "source": [
    "We only wrote a ROT(n) encoder, but you're now fully equipped to _decode_ messages as well!  The reason is simple: if we combine ROT(n) with ROT(26-n), then every letter in the resulting twice-encoded message has been rotated by 26 places - which means back to where it started!"
   ]
  },
  {
   "cell_type": "code",
   "execution_count": 20,
   "metadata": {
    "deletable": false,
    "editable": false,
    "nbgrader": {
     "cell_type": "code",
     "checksum": "98419f95bf1c1ae288bd0ad57af939c8",
     "grade": false,
     "grade_id": "cell-54d18e735c261032",
     "locked": true,
     "schema_version": 3,
     "solution": false
    }
   },
   "outputs": [
    {
     "data": {
      "text/plain": [
       "'hello world'"
      ]
     },
     "execution_count": 20,
     "metadata": {},
     "output_type": "execute_result"
    }
   ],
   "source": [
    "encode_rot_n('yvccf nficu', 26-17)  # 'yvccf nficu' is 'hello world' in ROT(17)"
   ]
  },
  {
   "cell_type": "markdown",
   "metadata": {
    "deletable": false,
    "editable": false,
    "nbgrader": {
     "cell_type": "markdown",
     "checksum": "79223a24d585a29235d3e6296e320629",
     "grade": false,
     "grade_id": "cell-7c4a4ba182d87786",
     "locked": true,
     "schema_version": 3,
     "solution": false
    }
   },
   "source": [
    "### Part C (4 points)\n",
    "\n",
    "Let's test out your codebreaking skills.  __The instructions for part C of this problem are encoded in ROT(n) below.__ (Which $n$?  If I told you, it would be too easy...)\n",
    "\n",
    "_(Hint: if your decoded message looks messy and doesn't have any line breaks, use `print()` on it to get it to print out nicely.)_"
   ]
  },
  {
   "cell_type": "code",
   "execution_count": 21,
   "metadata": {
    "deletable": false,
    "nbgrader": {
     "cell_type": "code",
     "checksum": "e803c6d0a6880942e57067cba7612417",
     "grade": true,
     "grade_id": "cell-fd7fd94c730602e8",
     "locked": false,
     "points": 0,
     "schema_version": 3,
     "solution": true
    }
   },
   "outputs": [],
   "source": [
    "instr_encoded = \"\"\"\n",
    "fchohwcb ozucfwhvag ofs bch jsfm gsqifs.  wt ks gigdsqh o fchohwcb\n",
    "ozucfwhva, ks cbzm bssr hc hsgh 26 jsfgwcbg ct wh hc rsqcrs hvs asggous.\n",
    "sjsb kcfgs, wh'g sogm hc uisgg kvoh b wg tfca qcaacb gwbuzs-zshhsf kcfrg\n",
    "zwys \"w\" obr \"o\" - mci aom vojs rcbs hvoh hc rsqcrs hvwg, wb toqh.\n",
    "qfmdhcufodvm wg cbzm og uccr og hvs ozucfwhva ks igs!\n",
    "\n",
    "ks qob joghzm wadfcjs hvs gsqifwhm ct fch b pm igwbu o cbs-hwas dor.\n",
    "cbs-hwas dorg ofs o gseisbqs ct fobrca wbtcfaohwcb kvwqv wg gvofsr pshkssb\n",
    "hkc dscdzs kvc kobh hc gsbr obr fsqswjs o asggous.  hvwg hsqvbweis wg\n",
    "ibpfsoyopzs wt hvs cbs-hwas dor whgszt wg hfizm fobrca, pih wh rcsg fseiwfs\n",
    "hvs gsbrsf obr fsqswjsf hc assh obr slqvobus hvs dor pstcfsvobr.\n",
    "\n",
    "wadzsasbh hvs tibqhwcb sbqcrs_fch_b_chd pszck.  hvs jofwopzs cbs_hwas_dor gvcizr\n",
    "ps o zcbu ghfwbu ct zcksf-qogs zshhsfg, kvwqv ks vojs ozfsorm aoddsr hc biapsfg\n",
    "tfca 0 hc 25.  gc hvs twfgh qvofoqhsf wb asggous gvcizr ps sbqcrsr kwhv sbqcrs_fch_b,\n",
    "obr b seioz hc qvof_hc_bia() ct hvs twfgh qvofoqhsf wb cbs_hwas_dor, obr gc cb.\n",
    "\n",
    "sbqcrs_fch_b_chd ozgc wbqzirsg o pcczsob ofuiasbh, rsqcrs.  wt rsqcrs wg hfis,\n",
    "hvsb mci gvcizr ghwzz fsor b tfca hvs cbs_hwas_dor, pih hvsb fchohs pm 26 - b.\n",
    "wt mci'js rcbs sjsfmhvwbu qcffsqhzm, mci'zz ps opzs hc sbqcrs obr rsqcrs, obr\n",
    "fsqcjsf hvs asggous mci ghofhsr kwhv.\n",
    "\n",
    "ks vojs hc rsqwrs vck hc rsoz kwhv bcb-zshhsfg, cf hvs rsqcrwbu aom towz othsf\n",
    "hvs twfgh gdoqs oddsofg.  am wadzsasbhohwcb \"igsg id\" o zshhsf wb hvs cbs-hwas dor\n",
    "kvsb o bcb-zshhsf wg tcibr.  wb chvsf kcfrg: wt hvs hvwfr qvofoqhsf wb hvs asggous wg\n",
    "o gdoqs, hvsb hvs hvwfr qvofoqhsf wb hvs cbs-hwas dor wg igsr id, obr hvs bslh qvofoqhsf\n",
    "wg sbqcrsr kwhv hvs tcifhv tfca hvs cbs-hwas dor.  hvwg wg o pwh koghstiz, pih wh'g\n",
    "ozgc o zwhhzs sogwsf hc wadzsasbh.  ouowb, wt mci rc hvwg kfcbu, mci'zz ybck psqoigs\n",
    "mcif rsqcrwbu kwzz dfcriqs cbs kcfr obr hvsb uofpous othsf hvs gdoqs!\n",
    "\n",
    "hvsfs ofs bc hsghg tcf hvwg dofh!  wbghsor, mci aigh obgksf wb hvs twboz\n",
    "aofyrckb qszz pszck: kvoh wg hvs gsqfsh qcrs kcfr sbqcrsr wb am zogh asggous?\n",
    "\n",
    "vsfs wg mcif cbs hwas dor hc rsqcrs hvs zogh asggous pszck:\n",
    "\n",
    "lmavmpxxmkknbqhkqyzjyamdzlofucyqeqfasasbheehemeqwyfkispvyxunphjydzbneemyfrrwogxqxuakmkkpulvesakzczxwqbiz\n",
    "\"\"\"\n",
    "\n",
    "### BEGIN SOLUTION\n",
    "# The message below will be revealed if we decode the above using\n",
    "# rot-14 (equivalently, encode with rot-12.)\n",
    "\n",
    "instr_decoded = \"\"\"\n",
    "rotation algorithms are not very secure.  if we suspect a rotation\n",
    "algorithm, we only need to test 26 versions of it to decode the message.\n",
    "even worse, it's easy to guess what n is from common single-letter words\n",
    "like \"i\" and \"a\" - you may have done that to decode this, in fact.\n",
    "cryptography is only as good as the algorithm we use!\n",
    "\n",
    "we can vastly improve the security of rot n by using a one-time pad.\n",
    "one-time pads are a sequence of random information which is shared between\n",
    "two people who want to send and receive a message.  this technique is\n",
    "unbreakable if the one-time pad itself is truly random, but it does require\n",
    "the sender and receiver to meet and exchange the pad beforehand.\n",
    "\n",
    "implement the function encode_rot_n_otp below.  the variable one_time_pad should\n",
    "be a long string of lower-case letters, which we have already mapped to numbers\n",
    "from 0 to 25.  so the first character in message should be encoded with encode_rot_n,\n",
    "and n equal to char_to_num() of the first character in one_time_pad, and so on.\n",
    "\n",
    "encode_rot_n_otp also includes a boolean argument, decode.  if decode is true,\n",
    "then you should still read n from the one_time_pad, but then rotate by 26 - n.\n",
    "if you've done everything correctly, you'll be able to encode and decode, and\n",
    "recover the message you started with.\n",
    "\n",
    "we have to decide how to deal with non-letters, or the decoding may fail after\n",
    "the first space appears.  my implementation \"uses up\" a letter in the one-time pad\n",
    "when a non-letter is found.  in other words: if the third character in the message is\n",
    "a space, then the third character in the one-time pad is used up, and the next character\n",
    "is encoded with the fourth from the one-time pad.  this is a bit wasteful, but it's\n",
    "also a little easier to implement.  again, if you do this wrong, you'll know because\n",
    "your decoding will produce one word and then garbage after the space!\n",
    "\n",
    "there are no tests for this part!  instead, you must answer in the final\n",
    "markdown cell below: what is the secret code word encoded in my last message?\n",
    "\n",
    "here is your one time pad to decode the last message below:\n",
    "\n",
    "xymhybjjywwznctwcklvkmyplxargokcqcrmementqqtqyqcikrwuebhkjgzbtvkplnzqqykrddiasjcjgmwywwbgxhqemwloljicnul\n",
    "\"\"\"\n",
    "### END SOLUTION"
   ]
  },
  {
   "cell_type": "code",
   "execution_count": 22,
   "metadata": {
    "deletable": false,
    "nbgrader": {
     "cell_type": "code",
     "checksum": "6db6a8922ba3e7b741a70e373eacb9fd",
     "grade": true,
     "grade_id": "cell-bd2ec88c24027a3c",
     "locked": false,
     "points": 0,
     "schema_version": 3,
     "solution": true
    }
   },
   "outputs": [],
   "source": [
    "def encode_rot_n_otp(message, one_time_pad, decode=False):\n",
    "    ### BEGIN SOLUTION\n",
    "    new_message = ''\n",
    "    \n",
    "    for i in range(len(message)):\n",
    "        otp_n = char_to_num(one_time_pad[i])\n",
    "        if decode:\n",
    "            otp_n = 26 - otp_n\n",
    "        \n",
    "        new_message += encode_rot_n(message[i], otp_n)\n",
    "        \n",
    "        \n",
    "    return new_message\n",
    "    ### END SOLUTION\n",
    "    "
   ]
  },
  {
   "cell_type": "code",
   "execution_count": 23,
   "metadata": {
    "deletable": false,
    "editable": false,
    "nbgrader": {
     "cell_type": "code",
     "checksum": "6daca45ceaa9aa6fca02aecb317e7bcd",
     "grade": false,
     "grade_id": "cell-ceacb3bcfae1659e",
     "locked": true,
     "schema_version": 3,
     "solution": false
    }
   },
   "outputs": [],
   "source": [
    "final_message = 'qfuz nnbqwcd ybhn dzvr-spptiaqd yp fiz fxsegtq...tlon lpnmomh.  isr iuabvw eojm ry \"oqwozrt\".'"
   ]
  },
  {
   "cell_type": "code",
   "execution_count": 24,
   "metadata": {
    "deletable": false,
    "nbgrader": {
     "cell_type": "code",
     "checksum": "c587d9e03fea8700262c5b1079d0c10d",
     "grade": true,
     "grade_id": "cell-0bfe90a090479781",
     "locked": false,
     "points": 0,
     "schema_version": 3,
     "solution": true
    }
   },
   "outputs": [
    {
     "data": {
      "text/plain": [
       "'this message will self-destruct in ten seconds...just kidding.  the secret word is \"quantum\".'"
      ]
     },
     "execution_count": 24,
     "metadata": {},
     "output_type": "execute_result"
    }
   ],
   "source": [
    "# Scratch space for you to figure this out...\n",
    "\n",
    "### BEGIN SOLUTION\n",
    "otp_str = 'xymhybjjywwznctwcklvkmyplxargokcqcrmementqqtqyqcikrwuebhkjgzbtvkplnzqqykrddiasjcjgmwywwbgxhqemwloljicnul'\n",
    "encode_rot_n_otp(final_message, otp_str, decode=True)\n",
    "### END SOLUTION\n"
   ]
  },
  {
   "cell_type": "markdown",
   "metadata": {
    "deletable": false,
    "nbgrader": {
     "cell_type": "markdown",
     "checksum": "c98fd08bce37c5395ea68fae24ca7bb8",
     "grade": true,
     "grade_id": "cell-9fac702ab525df82",
     "locked": false,
     "points": 4,
     "schema_version": 3,
     "solution": true
    }
   },
   "source": [
    "_Type your answer here using Markdown._"
   ]
  }
 ],
 "metadata": {
  "kernelspec": {
   "display_name": "Python 3",
   "language": "python",
   "name": "python3"
  },
  "language_info": {
   "codemirror_mode": {
    "name": "ipython",
    "version": 3
   },
   "file_extension": ".py",
   "mimetype": "text/x-python",
   "name": "python",
   "nbconvert_exporter": "python",
   "pygments_lexer": "ipython3",
   "version": "3.6.8"
  }
 },
 "nbformat": 4,
 "nbformat_minor": 2
}
