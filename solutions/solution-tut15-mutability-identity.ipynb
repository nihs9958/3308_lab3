{
 "cells": [
  {
   "cell_type": "markdown",
   "metadata": {
    "deletable": false,
    "editable": false,
    "nbgrader": {
     "cell_type": "markdown",
     "checksum": "21098bc331238313211dd10eb388eec0",
     "grade": false,
     "grade_id": "cell-100899e0deea9789",
     "locked": true,
     "schema_version": 3,
     "solution": false
    }
   },
   "source": [
    "# Tutorial 15: Tuples, Unpacking, Mutability\n",
    "\n",
    "## PHYS 2600, Spring 2019"
   ]
  },
  {
   "cell_type": "code",
   "execution_count": 2,
   "metadata": {
    "deletable": false,
    "editable": false,
    "nbgrader": {
     "cell_type": "code",
     "checksum": "39071a72c3ce76fc654c533093649b9c",
     "grade": false,
     "grade_id": "cell-26161d4167f3ec5a",
     "locked": true,
     "schema_version": 3,
     "solution": false
    }
   },
   "outputs": [],
   "source": [
    "%matplotlib inline\n",
    "\n",
    "import numpy as np"
   ]
  },
  {
   "cell_type": "markdown",
   "metadata": {
    "deletable": false,
    "editable": false,
    "nbgrader": {
     "cell_type": "markdown",
     "checksum": "df80fc0ad590d79d8e496f6ab29cf9dd",
     "grade": false,
     "grade_id": "cell-c816867329181c78",
     "locked": true,
     "schema_version": 3,
     "solution": false
    }
   },
   "source": [
    "## T15.1 - Tuples and Slices"
   ]
  },
  {
   "cell_type": "markdown",
   "metadata": {
    "deletable": false,
    "editable": false,
    "nbgrader": {
     "cell_type": "markdown",
     "checksum": "6543356809827d5f86d0df103e32d678",
     "grade": false,
     "grade_id": "cell-fa928ade405c924a",
     "locked": true,
     "schema_version": 3,
     "solution": false
    }
   },
   "source": [
    "Let's start with some more simple exercises, just to get used to the new syntax and objects introduced today.\n",
    "\n",
    "Once again, run the cell below to initialize some list variables for you to work with."
   ]
  },
  {
   "cell_type": "code",
   "execution_count": 3,
   "metadata": {
    "deletable": false,
    "editable": false,
    "nbgrader": {
     "cell_type": "code",
     "checksum": "d5643ce3e31ce1432804175ace40ade7",
     "grade": false,
     "grade_id": "cell-43691d90f26ec4f9",
     "locked": true,
     "schema_version": 3,
     "solution": false
    }
   },
   "outputs": [],
   "source": [
    "planets = ('Mercury', 'Venus', 'Earth', 'Mars', 'Jupiter', 'Saturn', 'Uranus', 'Neptune', 'Pluto')\n",
    "planet_moons = (0, 0, 1, 2, 79, 61, 27, 14, 5)"
   ]
  },
  {
   "cell_type": "markdown",
   "metadata": {
    "deletable": false,
    "editable": false,
    "nbgrader": {
     "cell_type": "markdown",
     "checksum": "a60991926f6da7f7fb3654530d3a5c68",
     "grade": false,
     "grade_id": "cell-523d4f16ede8f2dd",
     "locked": true,
     "schema_version": 3,
     "solution": false
    }
   },
   "source": [
    "### Part A\n",
    "\n",
    "One more time, __remove Pluto from the tuple `planets`__.  (Sorry again, Pluto!)  Of course, tuples are immutable, so this restricts your options a bit...\n",
    "\n",
    "Then, __make a new tuple `inner_planets`__ which contains only the inner planets (Mercury through Mars) by slicing `planets`.\n",
    "\n",
    "_(Hint: Remember, the __name__ `planets` can always be re-assigned!  A simple slice will give you the tuple you want...)_"
   ]
  },
  {
   "cell_type": "code",
   "execution_count": 4,
   "metadata": {
    "deletable": false,
    "nbgrader": {
     "cell_type": "code",
     "checksum": "0fab5514956a433e9b5cfa32ed8421cf",
     "grade": true,
     "grade_id": "cell-c61cd2b71bc63119",
     "locked": false,
     "points": 2,
     "schema_version": 3,
     "solution": true
    }
   },
   "outputs": [
    {
     "name": "stdout",
     "output_type": "stream",
     "text": [
      "('Mercury', 'Venus', 'Earth', 'Mars', 'Jupiter', 'Saturn', 'Uranus', 'Neptune')\n",
      "('Mercury', 'Venus', 'Earth', 'Mars')\n"
     ]
    }
   ],
   "source": [
    "\n",
    "### BEGIN SOLUTION\n",
    "# Slice off the last entry, and reassign:\n",
    "planets = planets[:-1]\n",
    "inner_planets = planets[:4]\n",
    "### END SOLUTION\n",
    "\n",
    "print(planets)\n",
    "print(inner_planets)"
   ]
  },
  {
   "cell_type": "markdown",
   "metadata": {
    "deletable": false,
    "editable": false,
    "nbgrader": {
     "cell_type": "markdown",
     "checksum": "52258bcf0b6bd508d2ce295bd83c5c39",
     "grade": false,
     "grade_id": "cell-0004fe48d8c4ee8d",
     "locked": true,
     "schema_version": 3,
     "solution": false
    }
   },
   "source": [
    "### Part B\n",
    "\n",
    "Use _list unpacking_ notation with the `planet_moons` tuple to make four new variables `mercury_moons`, `venus_moons`, `earth_moons` and `mars_moons`, containing the number of moons around each planet.\n",
    "\n",
    "_(Hint: remember, for unpacking we must have the same number of arguments on the left and right of `=`.  You can use a slice on the right-hand side to get the appropriate tuple length.)_"
   ]
  },
  {
   "cell_type": "code",
   "execution_count": 5,
   "metadata": {
    "deletable": false,
    "nbgrader": {
     "cell_type": "code",
     "checksum": "1b266240096bbc2f2b4483760f6658f1",
     "grade": false,
     "grade_id": "cell-95f189f43b466b8e",
     "locked": false,
     "schema_version": 3,
     "solution": true
    }
   },
   "outputs": [
    {
     "name": "stdout",
     "output_type": "stream",
     "text": [
      "0 0 1 2\n"
     ]
    }
   ],
   "source": [
    "### BEGIN SOLUTION\n",
    "mercury_moons, venus_moons, earth_moons, mars_moons = planet_moons[:4]\n",
    "### END SOLUTION\n",
    "\n",
    "print(mercury_moons, venus_moons, earth_moons, mars_moons)  # prints '0 0 1 2'"
   ]
  },
  {
   "cell_type": "markdown",
   "metadata": {
    "deletable": false,
    "editable": false,
    "nbgrader": {
     "cell_type": "markdown",
     "checksum": "ff37438459eaac44264c85217fce0e9d",
     "grade": false,
     "grade_id": "cell-6a5c455721f3f23e",
     "locked": true,
     "schema_version": 3,
     "solution": false
    }
   },
   "source": [
    "### Part C\n",
    "\n",
    "__Create a new tuple `inner_planets_and_moons`__, whose entries are tuples `(<planet_name>, <num_moons>)` taken from `planets` and `planet_moons`.  Once again, only include the inner planets.\n",
    "\n",
    "_(Hint: remember that you can't use append on a tuple, but you can combine two tuples with the `+` operator, which gives you another way to build one up in a loop.  The syntax for this is kind of funny: remember that commas are what distinguish tuples from regular parentheses!  In other words,_\n",
    "\n",
    "```python3\n",
    "(4) # this is not a tuple\n",
    "(4,) # this is a one-entry tuple!\n",
    "((4,5),) # this is a one-entry tuple, with a tuple inside it!\n",
    "```"
   ]
  },
  {
   "cell_type": "code",
   "execution_count": 6,
   "metadata": {
    "deletable": false,
    "nbgrader": {
     "cell_type": "code",
     "checksum": "2e05fb7ece5a17d90cb472226ea89b8f",
     "grade": true,
     "grade_id": "cell-be55bb2a3a2ee694",
     "locked": false,
     "points": 0,
     "schema_version": 3,
     "solution": true
    }
   },
   "outputs": [
    {
     "name": "stdout",
     "output_type": "stream",
     "text": [
      "(('Mercury', 0), ('Venus', 0), ('Earth', 1), ('Mars', 2))\n"
     ]
    }
   ],
   "source": [
    "### BEGIN SOLUTION\n",
    "inner_planets_and_moons = ()\n",
    "inner_moons = planet_moons[:4]\n",
    "for i in range(4):\n",
    "    inner_planets_and_moons += ((inner_planets[i], inner_moons[i]),)\n",
    "    \n",
    "### END SOLUTION\n",
    "    \n",
    "print(inner_planets_and_moons)"
   ]
  },
  {
   "cell_type": "markdown",
   "metadata": {
    "deletable": false,
    "editable": false,
    "nbgrader": {
     "cell_type": "markdown",
     "checksum": "a9f7d950b8c39bbef31c91228fad8f7c",
     "grade": false,
     "grade_id": "cell-a1c95049b4579c48",
     "locked": true,
     "schema_version": 3,
     "solution": false
    }
   },
   "source": [
    "## T15.2 - Packing and unpacking sequences\n",
    "\n",
    "Let's get some more practice with packing and unpacking notation.  Remember, the basic idea here is that if _both sides_ of an assignment operation are tuples _of the same length_, the assignment is \"unpacked\" and done for each entry in turn.\n",
    "\n",
    "```python\n",
    "(a, b) = (1,2)  # Equivalent to a=1; b=2\n",
    "a,b = 1,2  # Shorthand notation: we may omit the () around the tuples, for assignment only!\n",
    "```\n",
    "\n",
    "### Part A\n",
    "\n",
    "The tuple `v` below contains the three-dimensional velocity (in m/s) for some object.  Use unpacking notation to assign the components `vx, vy, vz` to variables, and then calculate the speed $\\sqrt{v_x^2 + v_y^2 + v_z^2}$.\n",
    "\n",
    "The function `motion_under_friction()` below contains a function that calculates whether an object will move or no"
   ]
  },
  {
   "cell_type": "code",
   "execution_count": 7,
   "metadata": {
    "deletable": false,
    "nbgrader": {
     "cell_type": "code",
     "checksum": "b59662ddd25f755f15745bbfd0d67547",
     "grade": false,
     "grade_id": "cell-3fdf4e968f79ea5e",
     "locked": false,
     "schema_version": 3,
     "solution": true
    }
   },
   "outputs": [
    {
     "name": "stdout",
     "output_type": "stream",
     "text": [
      "2.814249455894058\n"
     ]
    }
   ],
   "source": [
    "velocity = (1.4, 2.0, -1.4)\n",
    "\n",
    "### BEGIN SOLUTION\n",
    "vx, vy, vz = velocity\n",
    "speed = np.sqrt(vx**2 + vy**2 + vz**2)\n",
    "print(speed)\n",
    "### END SOLUTION\n",
    "\n",
    "\n",
    "# Speed should be 2.8 m/s."
   ]
  },
  {
   "cell_type": "markdown",
   "metadata": {
    "deletable": false,
    "editable": false,
    "nbgrader": {
     "cell_type": "markdown",
     "checksum": "7e89870ea26460c654417b0b06557086",
     "grade": false,
     "grade_id": "cell-5511b5a96876242b",
     "locked": true,
     "schema_version": 3,
     "solution": false
    }
   },
   "source": [
    "### Part B\n",
    "\n",
    "I've set up a function `get_mass_and_charge()` below, which returns a tuple `(mass, charge)` for a few different particles.  Use argument unpacking with this function to __print the name of each particle, followed by its charge-to-mass ratio $q/m$.__"
   ]
  },
  {
   "cell_type": "code",
   "execution_count": 8,
   "metadata": {
    "deletable": false,
    "nbgrader": {
     "cell_type": "code",
     "checksum": "ec407944a031719c313e78ad0e8f9755",
     "grade": false,
     "grade_id": "cell-1c532411cafacc5e",
     "locked": false,
     "schema_version": 3,
     "solution": true
    }
   },
   "outputs": [
    {
     "name": "stdout",
     "output_type": "stream",
     "text": [
      "electron charge/mass ratio: -1.75631e+11\n",
      "proton charge/mass ratio: 9.58084e+07\n",
      "neutron charge/mass ratio: 0\n"
     ]
    }
   ],
   "source": [
    "def get_mass_and_charge(particle_name):\n",
    "    if particle_name == 'electron':\n",
    "        return (9.11e-31, -1.6e-19)\n",
    "    elif particle_name == 'proton':\n",
    "        return (1.67e-27, 1.6e-19)\n",
    "    elif particle_name == 'neutron':\n",
    "        return (1.67e-27, 0.)\n",
    "    else:\n",
    "        print(\"Warning: unknown particle, {}\".format(particle_name))\n",
    "        return (0.,0.)\n",
    "\n",
    "\n",
    "some_particles = ('electron', 'proton', 'neutron')\n",
    "\n",
    "### BEGIN SOLUTION\n",
    "for particle_name in some_particles:\n",
    "    m, q = get_mass_and_charge(particle_name)\n",
    "    print(\"%s charge/mass ratio: %g\" % (particle_name, q/m))\n",
    "\n",
    "### END SOLUTION\n"
   ]
  },
  {
   "cell_type": "markdown",
   "metadata": {
    "deletable": false,
    "editable": false,
    "nbgrader": {
     "cell_type": "markdown",
     "checksum": "023b629f0c9c30424a210754af8287f4",
     "grade": false,
     "grade_id": "cell-a422037f18810a31",
     "locked": true,
     "schema_version": 3,
     "solution": false
    }
   },
   "source": [
    "### Part C\n",
    "\n",
    "One of the early lessons you learn in physics class is to choose the right coordinate system for your problem!  Let's start in two dimensions, where there are two very common useful coordinate systems: the usual __Cartesian coordinates__ $(x,y)$, and __polar coordinates__ $(r,\\phi)$.  The two systems are related as\n",
    "\n",
    "\\\\[\n",
    "x = r \\cos \\phi \\\\\n",
    "y = r \\sin \\phi\n",
    "\\\\]\n",
    "\n",
    "or going the other direction,\n",
    "\n",
    "\\\\[\n",
    "r = \\sqrt{x^2 + y^2} \\\\\n",
    "\\phi = \\tan^{-1} (y/x).\n",
    "\\\\]\n",
    "\n",
    "<img src=\"https://physicscourses.colorado.edu/phys2600/phys2600_fa18/img/rect-polar-1.png\" width=300px style=\"float:right;margin:20px;\" />\n",
    "\n",
    "\n",
    "\n",
    "The cell below contains an implementation of the function `polar_to_cartesian(points)`, which takes a list of tuples, each tuple having the form `(r, phi`)."
   ]
  },
  {
   "cell_type": "code",
   "execution_count": 9,
   "metadata": {
    "deletable": false,
    "editable": false,
    "nbgrader": {
     "cell_type": "code",
     "checksum": "9dd53c7d1325b8c9d8d519473c3eae7b",
     "grade": false,
     "grade_id": "cell-1ab371a657628a22",
     "locked": true,
     "schema_version": 3,
     "solution": false
    }
   },
   "outputs": [],
   "source": [
    "def polar_to_cartesian(points):\n",
    "    \n",
    "    cartesian_points = []\n",
    "    for r, phi in points:\n",
    "\n",
    "        x = r * np.cos(phi)\n",
    "        y = r * np.sin(phi)\n",
    "        \n",
    "        cartesian_points.append((x,y))\n",
    "    \n",
    "    return cartesian_points"
   ]
  },
  {
   "cell_type": "code",
   "execution_count": 10,
   "metadata": {
    "deletable": false,
    "editable": false,
    "nbgrader": {
     "cell_type": "code",
     "checksum": "a6ec5f778dcd66161da67b2a56cf3fba",
     "grade": false,
     "grade_id": "cell-45e7fff7ac3ebcc0",
     "locked": true,
     "schema_version": 3,
     "solution": false
    }
   },
   "outputs": [
    {
     "data": {
      "text/plain": [
       "[(1.0, 0.0),\n",
       " (1.2246467991473532e-16, 2.0),\n",
       " (-3.0, 3.6739403974420594e-16),\n",
       " (-7.347880794884119e-16, -4.0)]"
      ]
     },
     "execution_count": 10,
     "metadata": {},
     "output_type": "execute_result"
    }
   ],
   "source": [
    "# Around the axes: should give ((1,0), (0,2), (-3,0), (0,-4)).\n",
    "polar_to_cartesian([(1,0), (2,np.pi/2), (3,np.pi), (4,3*np.pi/2)])"
   ]
  },
  {
   "cell_type": "markdown",
   "metadata": {
    "deletable": false,
    "editable": false,
    "nbgrader": {
     "cell_type": "markdown",
     "checksum": "cee67feea2b42d1c3aebf25646171c6a",
     "grade": false,
     "grade_id": "cell-8bdef115df5246da",
     "locked": true,
     "schema_version": 3,
     "solution": false
    }
   },
   "source": [
    "Now, __implement the reverse function__ `cartesian_to_polar` below, which should return a list of tuples in polar coordinates.  To calculate the arctangent, __use the `np.arctan2(y,x)` function__, and _not_ just `np.arctan`.  (Scroll to the very bottom of the tutorial for an explanation why `atan2` exists!)"
   ]
  },
  {
   "cell_type": "code",
   "execution_count": 11,
   "metadata": {
    "deletable": false,
    "nbgrader": {
     "cell_type": "code",
     "checksum": "37c6e68bf3b1b1cd1bba2d0cf9d6addf",
     "grade": false,
     "grade_id": "cell-8e14c52015a29993",
     "locked": false,
     "schema_version": 3,
     "solution": true
    }
   },
   "outputs": [],
   "source": [
    "def cartesian_to_polar(points):\n",
    "    ### BEGIN SOLUTION\n",
    "    \n",
    "    polar_points = []\n",
    "    for x,y in points:\n",
    "        r = np.sqrt(x**2 + y**2)\n",
    "        phi = np.arctan2(y,x)\n",
    "        \n",
    "        polar_points.append([r,phi])\n",
    "        \n",
    "    return polar_points\n",
    "    ### END SOLUTION\n",
    "    "
   ]
  },
  {
   "cell_type": "code",
   "execution_count": 12,
   "metadata": {
    "deletable": false,
    "editable": false,
    "nbgrader": {
     "cell_type": "code",
     "checksum": "53d36c3e08e54eb59fb2ffd3519c6efa",
     "grade": true,
     "grade_id": "cell-d9d023a61b6e8cec",
     "locked": true,
     "points": 0,
     "schema_version": 3,
     "solution": false
    }
   },
   "outputs": [
    {
     "name": "stdout",
     "output_type": "stream",
     "text": [
      "[[1.4142135623730951, 0.7853981633974483], [1.4142135623730951, 2.356194490192345], [1.4142135623730951, -2.356194490192345], [1.4142135623730951, -0.7853981633974483]]\n"
     ]
    }
   ],
   "source": [
    "# Around the quadrants: should all have r=sqrt(2) and angles in every quadrant.\n",
    "print(cartesian_to_polar([(1,1),(-1,1),(-1,-1),(1,-1)]))"
   ]
  },
  {
   "cell_type": "markdown",
   "metadata": {
    "deletable": false,
    "editable": false,
    "nbgrader": {
     "cell_type": "markdown",
     "checksum": "1b5a24312bae2fc334ba3012a0946ce0",
     "grade": false,
     "grade_id": "cell-f5b482ab33e0f92f",
     "locked": true,
     "schema_version": 3,
     "solution": false
    }
   },
   "source": [
    "Now __test the function yourself__: if you call `cartesian_to_polar` and then `polar_to_cartesian`, or vice-versa, you should get the same list of points back!"
   ]
  },
  {
   "cell_type": "code",
   "execution_count": 13,
   "metadata": {
    "deletable": false,
    "nbgrader": {
     "cell_type": "code",
     "checksum": "40f11d4aa4f83db9dbdf6aa9e7586709",
     "grade": false,
     "grade_id": "cell-789caae6ba12a7cd",
     "locked": false,
     "schema_version": 3,
     "solution": true
    }
   },
   "outputs": [
    {
     "name": "stdout",
     "output_type": "stream",
     "text": [
      "[[1.0, 0.0], [2.0, 1.5707963267948966], [3.0, 3.141592653589793], [4.0, -1.5707963267948968]]\n",
      "[(1.0000000000000002, 1.0), (-1.0, 1.0000000000000002), (-1.0, -1.0000000000000002), (1.0000000000000002, -1.0)]\n"
     ]
    }
   ],
   "source": [
    "# Going back and forth should do nothing!\n",
    "print(cartesian_to_polar(polar_to_cartesian([(1,0), (2,np.pi/2), (3,np.pi), (4,3*np.pi/2)])))\n",
    "print(polar_to_cartesian(cartesian_to_polar([(1,1),(-1,1),(-1,-1),(1,-1)])))"
   ]
  },
  {
   "cell_type": "markdown",
   "metadata": {
    "deletable": false,
    "editable": false,
    "nbgrader": {
     "cell_type": "markdown",
     "checksum": "f1f369d91d459899be4055128461e07e",
     "grade": false,
     "grade_id": "cell-4577fe5c85c7dc0d",
     "locked": true,
     "schema_version": 3,
     "solution": false
    }
   },
   "source": [
    "## T15.3 - Controlled Disasters\n",
    "\n",
    "Now, a couple short examples of ways mutability can lead to unexpected outcomes!\n",
    "\n",
    "### Part A\n",
    "\n",
    "We have a list of $(x,y,z)$ points, and we'd like to add one more point to the list.  We can use `append` as in the example code below - but then if we try to modify `points` later (say, converting to different coordinates), we'll find that we change `new_point` as well:"
   ]
  },
  {
   "cell_type": "code",
   "execution_count": 14,
   "metadata": {
    "deletable": false,
    "editable": false,
    "nbgrader": {
     "cell_type": "code",
     "checksum": "cc48e88e2e4b3f54994d9ee84fd25b2e",
     "grade": false,
     "grade_id": "cell-6ea10937e124706a",
     "locked": true,
     "schema_version": 3,
     "solution": false
    }
   },
   "outputs": [
    {
     "name": "stdout",
     "output_type": "stream",
     "text": [
      "[[1, 0, 3], [1, 4, 7], [2, 4, 0]]\n",
      "[2, 4, 0]\n"
     ]
    }
   ],
   "source": [
    "points = [[1, 0, 3], [1, 4, 7]]\n",
    "new_point = [2, 4, 6]\n",
    "\n",
    "points.append(new_point)\n",
    "\n",
    "points[2][2] = 0\n",
    "print(points)\n",
    "print(new_point)  # Changed when we assigned to points!"
   ]
  },
  {
   "cell_type": "markdown",
   "metadata": {
    "deletable": false,
    "editable": false,
    "nbgrader": {
     "cell_type": "markdown",
     "checksum": "1164844019305031f7e82209369a9024",
     "grade": false,
     "grade_id": "cell-2fed4e02731ce2ea",
     "locked": true,
     "schema_version": 3,
     "solution": false
    }
   },
   "source": [
    "__Add `new_point` to `points` in a different way, so that modifying `points` later won't change `new_point`.__  (If we really care about this, we probably should have made `new_point` a tuple, but this is an exercise - so find a solution that _doesn't_ involve changing anything to a tuple.)"
   ]
  },
  {
   "cell_type": "code",
   "execution_count": 15,
   "metadata": {
    "deletable": false,
    "nbgrader": {
     "cell_type": "code",
     "checksum": "773e882530c18821389f78286eda30f8",
     "grade": true,
     "grade_id": "cell-6b6cbe6a4797c237",
     "locked": false,
     "points": 0,
     "schema_version": 3,
     "solution": true
    }
   },
   "outputs": [
    {
     "name": "stdout",
     "output_type": "stream",
     "text": [
      "[[1, 0, 3], [1, 4, 7], [2, 4, 0]]\n",
      "[2, 4, 6]\n"
     ]
    }
   ],
   "source": [
    "### BEGIN SOLUTION\n",
    "points = [[1, 0, 3], [1, 4, 7]]\n",
    "new_point = [2, 4, 6]\n",
    "\n",
    "# Append a copy:\n",
    "#points.append(new_point.copy())\n",
    "#points.append(new_point[:])\n",
    "\n",
    "# Use a loop to add the values:\n",
    "points.append([0,0,0])\n",
    "for i in range(3):\n",
    "    points[2][i] = new_point[i]\n",
    "\n",
    "points[2][2] = 0\n",
    "print(points)\n",
    "print(new_point)\n",
    "### END SOLUTION"
   ]
  },
  {
   "cell_type": "markdown",
   "metadata": {
    "deletable": false,
    "editable": false,
    "nbgrader": {
     "cell_type": "markdown",
     "checksum": "109470a339b6ed9b28d2825fc6b0fe71",
     "grade": false,
     "grade_id": "cell-95f79165f6d2b8e9",
     "locked": true,
     "schema_version": 3,
     "solution": false
    }
   },
   "source": [
    "### Part B (Optional challenge)\n",
    "\n",
    "_(Note: this one is a little tricky to figure out, so I made it optional - but come back and look at the answer if you don't figure it out, because you should know about this behavior so that you can avoid it!)_\n",
    "\n",
    "Suppose we'd like to write a function that takes an _optional_ list argument.  For example, the following function `append_copies_of_items_to_list` takes an object `item`, and appends it `n_copies` times to the end of `start_list`.  In the event that no list is given, we want to simply use an empty list, hence the default `start_list = []` \n",
    "\n",
    "However, something unexpected happens when we try to run the function a few times:"
   ]
  },
  {
   "cell_type": "code",
   "execution_count": 16,
   "metadata": {
    "deletable": false,
    "editable": false,
    "nbgrader": {
     "cell_type": "code",
     "checksum": "c01280e588ff087eabaa304b75022b64",
     "grade": false,
     "grade_id": "cell-1fdf91ed52a22c98",
     "locked": true,
     "schema_version": 3,
     "solution": false
    }
   },
   "outputs": [
    {
     "name": "stdout",
     "output_type": "stream",
     "text": [
      "[33.3, 33.3, 33.3, 33.3, 33.3]\n",
      "['Hello', 'world', 'world']\n",
      "[33.3, 33.3, 33.3, 33.3, 33.3, 'why?', 'why?', 'why?']\n"
     ]
    }
   ],
   "source": [
    "def append_copies_of_items_to_list(item, n_copies, start_list=[]):\n",
    "    for dummy_index in range(n_copies):\n",
    "        start_list.append(item)\n",
    "        \n",
    "    return start_list\n",
    "\n",
    "print(append_copies_of_items_to_list(33.3, 5))\n",
    "print(append_copies_of_items_to_list('world', 2, start_list=['Hello']))\n",
    "print(append_copies_of_items_to_list('why?', 3))"
   ]
  },
  {
   "cell_type": "markdown",
   "metadata": {
    "deletable": false,
    "editable": false,
    "nbgrader": {
     "cell_type": "markdown",
     "checksum": "3dbe8db72b245d02a63f72182fed5809",
     "grade": false,
     "grade_id": "cell-1b85ba7a63aa52b2",
     "locked": true,
     "schema_version": 3,
     "solution": false
    }
   },
   "source": [
    "Once again, we're not getting the expected behavior!  The function seems to have more of a \"memory\" for past results than we wanted.  What is happening, and how can we correct it?  (We'd like to keep the behavior of having `start_list` as an optional list argument...)  __Implement a corrected version of the function `append_copies_of_items_to_list` below.__  \n",
    "\n",
    "_(Hint: the `None` object is a much better default value, because it's immutable!)_"
   ]
  },
  {
   "cell_type": "code",
   "execution_count": 18,
   "metadata": {
    "deletable": false,
    "nbgrader": {
     "cell_type": "code",
     "checksum": "eb41cb2a627b86bfec54b8f406421980",
     "grade": true,
     "grade_id": "cell-a861270ea499e2ac",
     "locked": false,
     "points": 0,
     "schema_version": 3,
     "solution": true
    }
   },
   "outputs": [
    {
     "name": "stdout",
     "output_type": "stream",
     "text": [
      "[33.3, 33.3, 33.3, 33.3, 33.3]\n",
      "['Hello', 'world', 'world']\n",
      "['why?', 'why?', 'why?']\n"
     ]
    }
   ],
   "source": [
    "### BEGIN SOLUTION\n",
    "# 'None' to the rescue!  If we use None as the default value,\n",
    "# then we can check for None and assign a new, temporary\n",
    "# empty list if we find it.\n",
    "\n",
    "# The problem here has to do with when the default in start_list=[]\n",
    "# is initialized - it happens when the function is _defined_.  That\n",
    "# means that every time we call the function after, we get the SAME\n",
    "# list as a default; and even if it was originally empty, it might\n",
    "# not be after a few times through the function!\n",
    "\n",
    "def append_copies_of_items_to_list(item, n_copies, start_list=None):\n",
    "    # You can use \"== None\", but I used \"is None\" because\n",
    "    # it's a little more predictable.  See the online notes\n",
    "    # from today's lecture for more on \"is\".\n",
    "    if start_list is None:\n",
    "        start_list = []\n",
    "\n",
    "    for dummy_index in range(n_copies):\n",
    "        start_list.append(item)\n",
    "        \n",
    "    return start_list\n",
    "\n",
    "print(append_copies_of_items_to_list(33.3, 5))\n",
    "print(append_copies_of_items_to_list('world', 2, start_list=['Hello']))\n",
    "print(append_copies_of_items_to_list('why?', 3))        \n",
    "        \n",
    "### END SOLUTION"
   ]
  },
  {
   "cell_type": "markdown",
   "metadata": {
    "deletable": false,
    "editable": false,
    "nbgrader": {
     "cell_type": "markdown",
     "checksum": "58038772055dd40408c9e7cae18cc63c",
     "grade": false,
     "grade_id": "cell-e0ca15201b28770c",
     "locked": true,
     "schema_version": 3,
     "solution": false
    }
   },
   "source": [
    "(This might seem like a really contrived and simple example, which it is...but this exact mistake cost me a week of research hunting down the bug in a big analysis function with 15 different arguments, one of which was `[]`!)"
   ]
  },
  {
   "cell_type": "markdown",
   "metadata": {
    "deletable": false,
    "editable": false,
    "nbgrader": {
     "cell_type": "markdown",
     "checksum": "dae812e0cdd8a66a1aa68799de1360bd",
     "grade": false,
     "grade_id": "cell-141826b418e912f6",
     "locked": true,
     "schema_version": 3,
     "solution": false
    }
   },
   "source": [
    "### Explanation: `arctan` vs. `arctan2`\n",
    "\n",
    "Why did we have to use this special function `arctan2`, and not the \"regular\" arctangent (which is also implemented in the `numpy` module, as `np.arctan()`)?  The reason is that the value $y/x$ is not actually unique, because if we reflect both $x$ and $y$ (flip their signs), we end up with the same $y/x$:\n",
    "\n",
    "<img src=\"https://physicscourses.colorado.edu/phys2600/phys2600_fa18/img/rect-polar-2.png\" width=400px />\n",
    "\n",
    "The pictured angle $\\phi$ inside each right triangle is exactly the same, and accordingly $\\tan(\\phi) = y/x = (-y)/(-x)$ is the same too.  But this isn't what we want for our coordinates: we want $(x,y)$ and $(-x,-y)$ to come out as different points!  This is exactly what the `arctan2()` function does: it uses the separate values of both $x$ and $y$ to produce the correct, \"quadrant-aware\" value of $\\phi$ for our coordinate change.\n",
    "\n",
    "Below is a short numerical demonstration showing what we get from the two different functions for the point $(1,1)$ rotated around to the various quadrants:"
   ]
  },
  {
   "cell_type": "code",
   "execution_count": 19,
   "metadata": {
    "deletable": false,
    "editable": false,
    "nbgrader": {
     "cell_type": "code",
     "checksum": "dc10dfeb8ba8bfc0d9064422fe58050f",
     "grade": false,
     "grade_id": "cell-3b59a800a83f566f",
     "locked": true,
     "schema_version": 3,
     "solution": false
    }
   },
   "outputs": [
    {
     "name": "stdout",
     "output_type": "stream",
     "text": [
      "45.0\n",
      "-45.0\n",
      "45.0\n",
      "-45.0\n",
      "45.0\n",
      "135.0\n",
      "-135.0\n",
      "-45.0\n"
     ]
    }
   ],
   "source": [
    "# Using arctan() for four different quadrants gives only two different angles:\n",
    "print(np.arctan(1/1) * 180 / np.pi)\n",
    "print(np.arctan(1/-1)* 180 / np.pi)\n",
    "print(np.arctan(-1/-1)* 180 / np.pi)\n",
    "print(np.arctan(-1/1)* 180 / np.pi)\n",
    "\n",
    "# arctan2() gives the correct location for vectors in all four quadrants:\n",
    "print(np.arctan2(1,1)* 180 / np.pi)\n",
    "print(np.arctan2(1,-1)* 180 / np.pi)\n",
    "print(np.arctan2(-1,-1)* 180 / np.pi)\n",
    "print(np.arctan2(-1,1)* 180 / np.pi)"
   ]
  }
 ],
 "metadata": {
  "kernelspec": {
   "display_name": "Python 3",
   "language": "python",
   "name": "python3"
  },
  "language_info": {
   "codemirror_mode": {
    "name": "ipython",
    "version": 3
   },
   "file_extension": ".py",
   "mimetype": "text/x-python",
   "name": "python",
   "nbconvert_exporter": "python",
   "pygments_lexer": "ipython3",
   "version": "3.6.8"
  }
 },
 "nbformat": 4,
 "nbformat_minor": 2
}
