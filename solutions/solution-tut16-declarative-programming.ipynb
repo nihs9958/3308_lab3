{
 "cells": [
  {
   "cell_type": "markdown",
   "metadata": {
    "deletable": false,
    "editable": false,
    "nbgrader": {
     "cell_type": "markdown",
     "checksum": "71d0861fc6a7722b1706bbf962251377",
     "grade": false,
     "grade_id": "cell-100899e0deea9789",
     "locked": true,
     "schema_version": 3,
     "solution": false
    }
   },
   "source": [
    "# Tutorial 16: List Comprehensions and Map/Reduce\n",
    "\n",
    "## PHYS 2600, Spring 2019"
   ]
  },
  {
   "cell_type": "code",
   "execution_count": 1,
   "metadata": {
    "deletable": false,
    "editable": false,
    "nbgrader": {
     "cell_type": "code",
     "checksum": "55d639ccbbfbde9040b3a5a4dc9972ad",
     "grade": false,
     "grade_id": "cell-d1c513a73028ca59",
     "locked": true,
     "schema_version": 3,
     "solution": false
    }
   },
   "outputs": [],
   "source": [
    "%matplotlib inline\n",
    "\n",
    "import numpy as np\n",
    "import matplotlib.pyplot as plt\n",
    "import functools"
   ]
  },
  {
   "cell_type": "code",
   "execution_count": 2,
   "metadata": {
    "deletable": false,
    "editable": false,
    "nbgrader": {
     "cell_type": "code",
     "checksum": "7ba1d454ff0b918f9e8aa01497feeec0",
     "grade": false,
     "grade_id": "cell-6a8ceb366dcf1206",
     "locked": true,
     "schema_version": 3,
     "solution": false
    }
   },
   "outputs": [],
   "source": [
    "# Initialization cell - run me\n",
    "\n",
    "def setup_point_plot():\n",
    "    plt.figure(figsize=(6,6))\n",
    "    plt.axvline(0)\n",
    "    plt.axhline(0)\n",
    "\n",
    "    plt.xlabel('x')\n",
    "    plt.ylabel('y')\n",
    "    \n",
    "    th = np.linspace(0, 2*np.pi, 50)\n",
    "    plt.plot(np.cos(th), np.sin(th), color='r', linestyle='--')\n",
    "    \n",
    "def plot_cartesian(points):\n",
    "    plt.scatter(np.array(points)[:,0], np.array(points)[:,1], color='k')    \n",
    "\n",
    "def plot_polar(points):\n",
    "    r = np.array(points)[:,0]\n",
    "    phi = np.array(points)[:,1]\n",
    "    \n",
    "    plt.scatter(r * np.cos(phi), r * np.sin(phi), color='limegreen', marker='x')"
   ]
  },
  {
   "cell_type": "markdown",
   "metadata": {
    "deletable": false,
    "editable": false,
    "nbgrader": {
     "cell_type": "markdown",
     "checksum": "1533efa0adb316126c483b839906a786",
     "grade": false,
     "grade_id": "cell-50d3120d322f56c8",
     "locked": true,
     "schema_version": 3,
     "solution": false
    }
   },
   "source": [
    "For this entire tutorial, you'll be writing in declarative style only - which means __no `for` or `while` loops allowed!__  (The `for` in a list comprehension is okay, of course.)\n",
    "\n",
    "## T16.1 - Introduction to map/reduce\n",
    "\n",
    "Let's start with the example from lecture that we didn't write any code for.  We have a set of Cartesian points in two dimensions, stored as a list of 20 length-2 lists.\n",
    "\n",
    "__Run the cell below__ to load the list `pts` and plot the points.  _(Make sure you ran the initialization cell above first.)_"
   ]
  },
  {
   "cell_type": "code",
   "execution_count": 3,
   "metadata": {
    "deletable": false,
    "editable": false,
    "nbgrader": {
     "cell_type": "code",
     "checksum": "45f2f84177fa6b3d3bc2a13ee1af2410",
     "grade": false,
     "grade_id": "cell-dabc56eb6bef7dec",
     "locked": true,
     "schema_version": 3,
     "solution": false
    }
   },
   "outputs": [
    {
     "data": {
      "image/png": "[encoded data removed]",
      "text/plain": [
       "<Figure size 432x432 with 1 Axes>"
      ]
     },
     "metadata": {
      "needs_background": "light"
     },
     "output_type": "display_data"
    }
   ],
   "source": [
    "pts = [[ 0.76135076, -0.77039654],\n",
    "       [ 0.08163647, -0.10009183],\n",
    "       [ 0.68868096,  0.91933837],\n",
    "       [ 0.45523078,  0.38878166],\n",
    "       [ 0.06226641, -0.71717507],\n",
    "       [ 0.8791983 ,  0.56849504],\n",
    "       [ 0.6159388 ,  0.2962535 ],\n",
    "       [ 0.9074213 , -0.07573378],\n",
    "       [ 0.76437917,  0.00316327],\n",
    "       [-0.28816238, -0.78560483],\n",
    "       [ 0.2146455 , -0.67439846],\n",
    "       [ 0.17569189,  0.66686065],\n",
    "       [-0.0185947 ,  0.6090448 ],\n",
    "       [ 0.25339971,  0.86800028],\n",
    "       [-0.45825946,  0.47931239],\n",
    "       [ 0.33481938,  0.24627549],\n",
    "       [-0.50618177,  0.00622503],\n",
    "       [-0.83287995,  0.20805958],\n",
    "       [-0.97785883, -0.84571404],\n",
    "       [-0.968929  , -0.27595801]]\n",
    "\n",
    "\n",
    "setup_point_plot()    \n",
    "plot_cartesian(pts)"
   ]
  },
  {
   "cell_type": "markdown",
   "metadata": {
    "deletable": false,
    "editable": false,
    "nbgrader": {
     "cell_type": "markdown",
     "checksum": "bcdd972f77e5228a9da1a2ecadf2bd1b",
     "grade": false,
     "grade_id": "cell-839700cefa5cbdb9",
     "locked": true,
     "schema_version": 3,
     "solution": false
    }
   },
   "source": [
    "Here's the table of syntax examples from the end of lecture for your reference below.  Here `F` is a function, `L` is a sequence (list, tuple, array, etc.), and `a` is an array.\n",
    "\n",
    "| function | comprehension | NumPy |\n",
    "|----------|---------------|-------|\n",
    "| `map(F, L)` | `[ F(x) for x in L ]` | `F(a)` |\n",
    "| `filter(test, L)` | `[ x for x in L if test(x) ]` | `a[test(a)]`\n",
    "| `map(F, filter(test, L))` | `[ F(x) for x in L if test(x) ]` | `F(a[test(a)])`\n",
    "| `sum(map(F, L)` | `sum([ F(x) for x in L ])` | `np.sum(F(a))` |\n",
    "\n",
    "For this tutorial only, __don't use the NumPy versions of these operations:__ we already know how to use NumPy, this tutorial is meant to get you used to the other keywords.\n",
    "\n",
    "### Part A\n",
    "\n",
    "Let's start with mapping.  Using the `map()` function, __create a new list__ `polar_pts` which consists of two-element lists with polar coordinates $(r, \\phi)$.  As a reminder, the coordinate conversion is given by\n",
    "\n",
    "$$\n",
    "r = \\sqrt{x^2 + y^2} \\\\\n",
    "\\phi = \\tan^{-1} (y/x)\n",
    "$$\n",
    "\n",
    "where the latter is implemented in a quadrant-aware way by the function `np.arctan2(y,x)`.\n",
    "\n",
    "_(Hint: declarative programming is easiest if you break things apart!  Start by creating the function_ `to_polar` _which will take one Cartesian point and return one polar point.  Then use `map()`.)_\n",
    "\n",
    "_(Another hint: don't forget that `map()` doesn't return a list!  Use `list()` on the result of `map()` to get one.)_"
   ]
  },
  {
   "cell_type": "code",
   "execution_count": 4,
   "metadata": {
    "deletable": false,
    "nbgrader": {
     "cell_type": "code",
     "checksum": "52c21a16aa91d6a9122cf3d3c6968059",
     "grade": true,
     "grade_id": "cell-c845585410639d0b",
     "locked": false,
     "points": 2,
     "schema_version": 3,
     "solution": true
    }
   },
   "outputs": [
    {
     "name": "stdout",
     "output_type": "stream",
     "text": [
      "[(1.0831277895966613, -0.791303624986407), (0.12916225325848804, -0.886605868419633), (1.1486794606071697, 0.92786827084934), (0.598653691387403, 0.7068302038570703), (0.7198730352248187, -1.4841917287271453), (1.0469843653214175, 0.5739856944049394), (0.6834813396192247, 0.4483151785381107), (0.9105762028115925, -0.0832674595745994), (0.7643857153342034, 0.004138328288272639), (0.8367870136221005, -1.9223614842616807), (0.7077329817951271, -1.2626571417436907), (0.6896163909958889, 1.3131889958172023), (0.6093285905610618, 1.601317768936532), (0.9042322152567682, 1.2867548881964999), (0.6631305300519678, 2.333743525322485), (0.4156388266251416, 0.6341870319421661), (0.5062200463028246, 3.129295260497921), (0.858474111398695, 2.8967952634120815), (1.292841880843164, -2.428532818143707), (1.0074602872193823, -2.8641317697542634)]\n"
     ]
    }
   ],
   "source": [
    "def to_polar(cart_point):\n",
    "    \"\"\"\n",
    "    Maps a single point (x,y) to polar coordaintes (r, phi).\n",
    "    \"\"\"\n",
    "\n",
    "    ### BEGIN SOLUTION\n",
    "    x, y = cart_point\n",
    "    r = np.sqrt(x**2 + y**2)\n",
    "    phi = np.arctan2(y,x)\n",
    "    \n",
    "    return (r, phi)\n",
    "\n",
    "polar_pts = list(map(to_polar, pts))\n",
    "print(polar_pts)\n",
    "### END SOLUTION\n",
    "    "
   ]
  },
  {
   "cell_type": "code",
   "execution_count": 5,
   "metadata": {
    "deletable": false,
    "editable": false,
    "nbgrader": {
     "cell_type": "code",
     "checksum": "9459fd078fca6a91ff72167bf6721a80",
     "grade": true,
     "grade_id": "cell-37a832c05b5551b1",
     "locked": true,
     "points": 0,
     "schema_version": 3,
     "solution": false
    }
   },
   "outputs": [
    {
     "data": {
      "image/png": "[encoded data removed]",
      "text/plain": [
       "<Figure size 432x432 with 1 Axes>"
      ]
     },
     "metadata": {
      "needs_background": "light"
     },
     "output_type": "display_data"
    }
   ],
   "source": [
    "# Run me to test - polar points should match locations in the plot above!\n",
    "setup_point_plot()\n",
    "plot_polar(polar_pts)"
   ]
  },
  {
   "cell_type": "markdown",
   "metadata": {
    "deletable": false,
    "editable": false,
    "nbgrader": {
     "cell_type": "markdown",
     "checksum": "25bfa2a47956e86a55a51618ddeaf7b7",
     "grade": false,
     "grade_id": "cell-8bce55c352846c1a",
     "locked": true,
     "schema_version": 3,
     "solution": false
    }
   },
   "source": [
    "### Part B\n",
    "\n",
    "Next, let's try a filter.  Using the `filter()` function, __create a new list__ `far_pts` which contains only those __points which are further than distance 1__ from the origin.  (The points in `far_pts` should be _in Cartesian coordinates_, not polar where this is a little easier.)\n",
    "\n",
    "_(Hint: once again, don't forget that `filter()` doesn't return a list - to get a list, use the `list()` method.)_"
   ]
  },
  {
   "cell_type": "code",
   "execution_count": 6,
   "metadata": {
    "deletable": false,
    "nbgrader": {
     "cell_type": "code",
     "checksum": "0e1097aeeaf1bc384a045d1a1c1d976e",
     "grade": false,
     "grade_id": "cell-127661378ae853b7",
     "locked": false,
     "schema_version": 3,
     "solution": true
    }
   },
   "outputs": [
    {
     "data": {
      "text/plain": [
       "[[0.76135076, -0.77039654],\n",
       " [0.68868096, 0.91933837],\n",
       " [0.8791983, 0.56849504],\n",
       " [-0.97785883, -0.84571404],\n",
       " [-0.968929, -0.27595801]]"
      ]
     },
     "execution_count": 6,
     "metadata": {},
     "output_type": "execute_result"
    }
   ],
   "source": [
    "def is_far(point):\n",
    "    \"\"\"\n",
    "    Returns True if a point is further than distance 1 from the origin,\n",
    "    and False otherwise.\n",
    "    \"\"\"\n",
    "    ### BEGIN SOLUTION\n",
    "    x, y = point\n",
    "    r = np.sqrt(x**2 + y**2)\n",
    "    \n",
    "    return r > 1\n",
    "\n",
    "far_pts = list(filter(is_far, pts))\n",
    "far_pts\n",
    "### END SOLUTION\n",
    "    "
   ]
  },
  {
   "cell_type": "code",
   "execution_count": 7,
   "metadata": {
    "deletable": false,
    "editable": false,
    "nbgrader": {
     "cell_type": "code",
     "checksum": "0b437d3137f411a5262179c156a9bf15",
     "grade": true,
     "grade_id": "cell-70718ab5b4371510",
     "locked": true,
     "points": 0,
     "schema_version": 3,
     "solution": false
    }
   },
   "outputs": [
    {
     "data": {
      "image/png": "[encoded data removed]",
      "text/plain": [
       "<Figure size 432x432 with 1 Axes>"
      ]
     },
     "metadata": {
      "needs_background": "light"
     },
     "output_type": "display_data"
    }
   ],
   "source": [
    "# Run me to test - you should only see the points outside the circle!\n",
    "\n",
    "setup_point_plot()\n",
    "plot_cartesian(far_pts)"
   ]
  },
  {
   "cell_type": "markdown",
   "metadata": {
    "deletable": false,
    "editable": false,
    "nbgrader": {
     "cell_type": "markdown",
     "checksum": "8294e8f16835a299cbc955193a4cb0d5",
     "grade": false,
     "grade_id": "cell-a0e6749e66cc1f1c",
     "locked": true,
     "schema_version": 3,
     "solution": false
    }
   },
   "source": [
    "### Part C\n",
    "\n",
    "Finally, let's do a reduction.  Treating the points as two-vectors, __find the vector sum of all the vectors__ in `pts` using `functools.reduce()`.\n",
    "\n",
    "Remember that `reduce()` requires a function that acts on _two_ elements of the list, and returns _one_ element of the same form.  (Our vector-sum qualifies, since summing two vectors gives one vector.)"
   ]
  },
  {
   "cell_type": "code",
   "execution_count": 8,
   "metadata": {
    "deletable": false,
    "nbgrader": {
     "cell_type": "code",
     "checksum": "8859a5b4695ff037516bfb6dde97e530",
     "grade": false,
     "grade_id": "cell-0ab53120085b57c1",
     "locked": false,
     "schema_version": 3,
     "solution": true
    }
   },
   "outputs": [
    {
     "data": {
      "text/plain": [
       "(2.1437933399999993, 1.0147374999999998)"
      ]
     },
     "execution_count": 8,
     "metadata": {},
     "output_type": "execute_result"
    }
   ],
   "source": [
    "def vec_sum(pt1, pt2):\n",
    "    \"\"\"\n",
    "    Given two vectors in the form of tuples (x,y),\n",
    "    returns the vector sum (also as a 2-tuple.)\n",
    "    \"\"\"\n",
    "    ### BEGIN SOLUTION\n",
    "    x1, y1 = pt1\n",
    "    x2, y2 = pt2\n",
    "    \n",
    "    return (x1+x2, y1+y2)\n",
    "\n",
    "functools.reduce(vec_sum, pts)\n",
    "### END SOLUTION\n",
    "    "
   ]
  },
  {
   "cell_type": "markdown",
   "metadata": {
    "deletable": false,
    "editable": false,
    "nbgrader": {
     "cell_type": "markdown",
     "checksum": "eaa02bba22b541120161acd8201ab46c",
     "grade": false,
     "grade_id": "cell-d036c286ea93357d",
     "locked": true,
     "schema_version": 3,
     "solution": false
    }
   },
   "source": [
    "If you do the reduction correctly, the vector you find should be about $(x, y) = (2.15, 1.01)$.\n",
    "\n",
    "## T16.2 - Fun with comprehensions\n",
    "\n",
    "Now let's turn to using the shorthand syntax of comprehensions, which (as we've seen) can accomplish many of the same tasks as `map()` and `filter()`.\n",
    "\n",
    "### Part A\n",
    "\n",
    "Using a list comprehension, make a list of __powers of 1/2 from 0 to 10__, i.e. the 0th power through the 10th power including both ends.  (The last entry will be $1/2^{10} = 1/1024 \\approx 0.00977.$)"
   ]
  },
  {
   "cell_type": "markdown",
   "metadata": {},
   "source": [
    "## END OF SOLUTIONS - the rest of this tutorial ended up on homework 7."
   ]
  },
  {
   "cell_type": "code",
   "execution_count": null,
   "metadata": {
    "deletable": false,
    "nbgrader": {
     "cell_type": "code",
     "checksum": "2f69679898166786a5a96b4a1bb127f2",
     "grade": false,
     "grade_id": "cell-863956d5d670e36f",
     "locked": false,
     "schema_version": 3,
     "solution": true
    }
   },
   "outputs": [],
   "source": [
    "## YOUR CODE HERE\n"
   ]
  },
  {
   "cell_type": "markdown",
   "metadata": {
    "deletable": false,
    "editable": false,
    "nbgrader": {
     "cell_type": "markdown",
     "checksum": "6316a47df4007ac4280a2534ff13899b",
     "grade": false,
     "grade_id": "cell-189684c2f7dd6b53",
     "locked": true,
     "schema_version": 3,
     "solution": false
    }
   },
   "source": [
    "Now, again using a list comprehension, find the __sum of the square roots of all even integers from 1 to 30__.\n",
    "\n",
    "_(Hint: you'll need the `for...in...if...` notation to include the filter for even integers here.  The answer should be about 57.2.)_"
   ]
  },
  {
   "cell_type": "code",
   "execution_count": null,
   "metadata": {
    "deletable": false,
    "nbgrader": {
     "cell_type": "code",
     "checksum": "39e8e42c8dc26930dffb38460a69330b",
     "grade": false,
     "grade_id": "cell-e8fe70d523a35cfe",
     "locked": false,
     "schema_version": 3,
     "solution": true
    }
   },
   "outputs": [],
   "source": [
    "## YOUR CODE HERE\n"
   ]
  },
  {
   "cell_type": "markdown",
   "metadata": {
    "deletable": false,
    "editable": false,
    "nbgrader": {
     "cell_type": "markdown",
     "checksum": "d3ab645b046d6abfa1bbcc69687d4835",
     "grade": false,
     "grade_id": "cell-93b27e802131a168",
     "locked": true,
     "schema_version": 3,
     "solution": false
    }
   },
   "source": [
    "One more simple math question for a list comprehension: __what is the product of the first five powers of 3__ (i.e. the product of 3, 9, 27, 81, and 243)?\n",
    "\n",
    "_(Hint: this isn't a sum, so you'll need to make your own reduction with `functools.reduce()`.  You can use a `lambda` to do it all in one line, but using `def` to set up for the reduction first is fine too.)_"
   ]
  },
  {
   "cell_type": "code",
   "execution_count": null,
   "metadata": {
    "deletable": false,
    "nbgrader": {
     "cell_type": "code",
     "checksum": "852225d4c74f28b5786e2b2cacba029e",
     "grade": false,
     "grade_id": "cell-236120566d95a8a9",
     "locked": false,
     "schema_version": 3,
     "solution": true
    }
   },
   "outputs": [],
   "source": [
    "## YOUR CODE HERE\n"
   ]
  },
  {
   "cell_type": "markdown",
   "metadata": {
    "deletable": false,
    "editable": false,
    "nbgrader": {
     "cell_type": "markdown",
     "checksum": "0191cdacc53c23cc774f17350d744d94",
     "grade": false,
     "grade_id": "cell-ad52ce77435b9ea8",
     "locked": true,
     "schema_version": 3,
     "solution": false
    }
   },
   "source": [
    "### Part B\n",
    "\n",
    "Below is a function called `grade_to_GP`, which converts from letter grades to the equivalent grade-point score using the matching pair of lists `letter_grades` and `numeric_grades`.  Following that, I've given a list of letter grades - a distribution for some class in one semester at CU, perhaps.\n",
    "\n",
    "__Use a list comprehension and the `sum()` function__ to convert `some_letter_grades` into a numerical grade-point averge."
   ]
  },
  {
   "cell_type": "code",
   "execution_count": null,
   "metadata": {
    "deletable": false,
    "editable": false,
    "nbgrader": {
     "cell_type": "code",
     "checksum": "457a924d297e4c727b9c46d49236c2e5",
     "grade": false,
     "grade_id": "cell-988ca75f72222382",
     "locked": true,
     "schema_version": 3,
     "solution": false
    }
   },
   "outputs": [],
   "source": [
    "letter_grades = ['A', 'A-', 'B+', 'B', 'B-', 'C+', 'C', 'C-', 'D+', 'D', 'D-', 'F']\n",
    "numeric_grades = [4.0, 3.7, 3.3, 3.0, 2.7, 2.3, 2.0, 1.7, 1.3, 1.0, 0.7, 0.0]\n",
    "\n",
    "def grade_to_GP(g):\n",
    "    grade_i = letter_grades.index(g)\n",
    "    return numeric_grades[grade_i]\n",
    "\n",
    "some_letter_grades = [\n",
    "    'A', 'A-', 'C', 'B+', 'B+',\n",
    "    'A', 'A', 'A', 'A', 'A',\n",
    "    'F', 'A', 'A-', 'C', 'B-',\n",
    "    'B-', 'A-', 'B-', 'C+', 'B',\n",
    "    'D', 'B', 'C-', 'C+', 'B+',\n",
    "]"
   ]
  },
  {
   "cell_type": "code",
   "execution_count": null,
   "metadata": {
    "deletable": false,
    "nbgrader": {
     "cell_type": "code",
     "checksum": "68837ddb06187e17f328cd117e1aa221",
     "grade": false,
     "grade_id": "cell-97a0142b942b955b",
     "locked": false,
     "schema_version": 3,
     "solution": true
    }
   },
   "outputs": [],
   "source": [
    "## YOUR CODE HERE\n"
   ]
  },
  {
   "cell_type": "markdown",
   "metadata": {
    "deletable": false,
    "editable": false,
    "nbgrader": {
     "cell_type": "markdown",
     "checksum": "d4f18908d717b0b0ba93996c884d07df",
     "grade": false,
     "grade_id": "cell-2d5e2aaa50936f09",
     "locked": true,
     "schema_version": 3,
     "solution": false
    }
   },
   "source": [
    "Now consider instead the list `some_student_grades` below, which is a list of lists, each sub-list consisting of 5 letter grades.  (Each list could be the grades of a student for a single semester at CU.)  __Use a list comprehension to find a list of grade-point averages__ for each student, and save it to the variable `student_GPAs` for testing. \n",
    "\n",
    "_(Hint: you can use a list comprehension inside of another list comprehension, which can be a nice way to deal with nested lists.)_"
   ]
  },
  {
   "cell_type": "code",
   "execution_count": null,
   "metadata": {
    "deletable": false,
    "editable": false,
    "nbgrader": {
     "cell_type": "code",
     "checksum": "f417c602e9de3992c514d02a994523f0",
     "grade": false,
     "grade_id": "cell-4d4a897475bd9a26",
     "locked": true,
     "schema_version": 3,
     "solution": false
    }
   },
   "outputs": [],
   "source": [
    "some_student_grades = [\n",
    "    ['B', 'B+', 'C-', 'B+', 'B+'],\n",
    "    ['A', 'A', 'A-', 'B', 'B+'],\n",
    "    ['C', 'A', 'A-', 'B-', 'C+'],\n",
    "    ['A-', 'A-', 'B+', 'A', 'F'],\n",
    "    ['D', 'B-', 'C', 'C+', 'B-'],\n",
    "    ['B+', 'A-', 'B', 'C+', 'B+'],\n",
    "]"
   ]
  },
  {
   "cell_type": "code",
   "execution_count": null,
   "metadata": {
    "deletable": false,
    "nbgrader": {
     "cell_type": "code",
     "checksum": "23ede55083b30b8b8f91456bbc81a0fd",
     "grade": false,
     "grade_id": "cell-0280f623b19e5b0a",
     "locked": false,
     "schema_version": 3,
     "solution": true
    }
   },
   "outputs": [],
   "source": [
    "## YOUR CODE HERE\n"
   ]
  },
  {
   "cell_type": "code",
   "execution_count": null,
   "metadata": {
    "deletable": false,
    "editable": false,
    "nbgrader": {
     "cell_type": "code",
     "checksum": "16046ac71302dc05b29477ce5c5fbaa8",
     "grade": true,
     "grade_id": "cell-46b05488d777cfaa",
     "locked": true,
     "points": 0,
     "schema_version": 3,
     "solution": false
    }
   },
   "outputs": [],
   "source": [
    "import numpy.testing as npt\n",
    "\n",
    "print(student_GPAs)\n",
    "npt.assert_allclose(student_GPAs, [2.92, 3.60, 2.94, 2.94, 2.14, 3.12], atol=1e-2)"
   ]
  },
  {
   "cell_type": "markdown",
   "metadata": {
    "deletable": false,
    "editable": false,
    "nbgrader": {
     "cell_type": "markdown",
     "checksum": "c98145ecf74502abf90ab69b1beed53e",
     "grade": false,
     "grade_id": "cell-3399aad937b949ee",
     "locked": true,
     "schema_version": 3,
     "solution": false
    }
   },
   "source": [
    "### Part C\n",
    "\n",
    "The list in the next cell contains tuples of measurements `(P, T)` of pressure and temperature for 10 moles of nitrogen gas in an expandable box.  We'll assume the ideal gas law\n",
    "\n",
    "\\\\[\n",
    "PV = nRT\n",
    "\\\\]\n",
    "\n",
    "with the gas constant $R = 8.314$ J / (mol K), and remember that one kilopascal (kPa) is equal to 1000 $J/m^3$.\n",
    "\n",
    "Using a list comprehension, __create a list of volumes__ for each `(P, T)` tuple."
   ]
  },
  {
   "cell_type": "code",
   "execution_count": null,
   "metadata": {
    "deletable": false,
    "editable": false,
    "nbgrader": {
     "cell_type": "code",
     "checksum": "7ae6e6d8f3712a89dabf2afa849f5d4d",
     "grade": false,
     "grade_id": "cell-19a6ef2564b56eab",
     "locked": true,
     "schema_version": 3,
     "solution": false
    }
   },
   "outputs": [],
   "source": [
    "gas_meas = [  # (P, T) in units (kPa, K)\n",
    "    (130, 300),\n",
    "    (110, 340),\n",
    "    (265, 550),\n",
    "    (80, 460),\n",
    "]\n",
    "gas_meas"
   ]
  },
  {
   "cell_type": "code",
   "execution_count": null,
   "metadata": {
    "deletable": false,
    "nbgrader": {
     "cell_type": "code",
     "checksum": "e34695d3b1ba91c2cc3f62634d957aa2",
     "grade": false,
     "grade_id": "cell-660a2a2f72d746b4",
     "locked": false,
     "schema_version": 3,
     "solution": true
    }
   },
   "outputs": [],
   "source": [
    "## YOUR CODE HERE\n"
   ]
  },
  {
   "cell_type": "markdown",
   "metadata": {
    "deletable": false,
    "editable": false,
    "nbgrader": {
     "cell_type": "markdown",
     "checksum": "0885aa28ed5b3b0c0b88e24e966c5901",
     "grade": false,
     "grade_id": "cell-2cc1fbf9a821a94c",
     "locked": true,
     "schema_version": 3,
     "solution": false
    }
   },
   "source": [
    "### Part D (optional challenge)\n",
    "\n",
    "Now a slightly different experiment.  We hold our box at room temperature $T = 300$ K and atmospheric pressure $P = 80$ kPa, and introduce a mixture of two gases, nitrogen (28 g/mol) and carbon dioxide (44 g/mol).  Based on the weight of the gases we add, we'd like to know the final volume of our expandable container.\n",
    "\n",
    "__Implement the function `vol_from_weights(m_N2, m_CO2)` below__, which should take the weights (in grams) of each of the two gases mixed in to the container and return the volume.  (With two species of gas, we still use the ideal gas law, just adding the number of moles from each gas to get the total $n$.)\n",
    "\n",
    "Then __use a list comprehension__ to get a list of volumes corresponding to each pair of mass values in `masses_N2` and `masses_CO2`.  (The masses represent 8 experiments total, for example the first experiment used a mixture of `masses_N2[0]` nitrogen and `masses_CO2[0]` carbon dioxide.)\n",
    "\n",
    "Oh, one more thing: we had a measurement error occur when one of our friends came by and leaned on the apparatus, throwing off the weight measurements badly.  __Include a filter to remove any experiments where the weight of either gas is over 1 kg.__"
   ]
  },
  {
   "cell_type": "code",
   "execution_count": null,
   "metadata": {
    "deletable": false,
    "editable": false,
    "nbgrader": {
     "cell_type": "code",
     "checksum": "16bae03813b86cb5725c0f0486784b59",
     "grade": false,
     "grade_id": "cell-9cea04d3a8253ab8",
     "locked": true,
     "schema_version": 3,
     "solution": false
    }
   },
   "outputs": [],
   "source": [
    "masses_N2 = [0.30989415, 4.30978635, 0.13382561, 0.1652629 , 0.01619259,\n",
    "       0.2213031 , 0.12360093, 0.06485605]\n",
    "masses_CO2 = [0.15333776, 0.0367193 , 0.14671116, 0.16766352, 0.11070479,\n",
    "       0.20085344, 0.21611008, 33.03265966]"
   ]
  },
  {
   "cell_type": "code",
   "execution_count": null,
   "metadata": {
    "deletable": false,
    "nbgrader": {
     "cell_type": "code",
     "checksum": "5daa0bdbd41f5fd1a58f6ba90b00a498",
     "grade": false,
     "grade_id": "cell-b54c134119892dfd",
     "locked": false,
     "schema_version": 3,
     "solution": true
    }
   },
   "outputs": [],
   "source": [
    "## YOUR CODE HERE\n"
   ]
  }
 ],
 "metadata": {
  "kernelspec": {
   "display_name": "Python 3",
   "language": "python",
   "name": "python3"
  },
  "language_info": {
   "codemirror_mode": {
    "name": "ipython",
    "version": 3
   },
   "file_extension": ".py",
   "mimetype": "text/x-python",
   "name": "python",
   "nbconvert_exporter": "python",
   "pygments_lexer": "ipython3",
   "version": "3.6.8"
  }
 },
 "nbformat": 4,
 "nbformat_minor": 2
}
