{
 "cells": [
  {
   "cell_type": "markdown",
   "metadata": {
    "deletable": false,
    "editable": false,
    "nbgrader": {
     "cell_type": "markdown",
     "checksum": "1535796a4ca7b482f5a67d6db1669d06",
     "grade": false,
     "grade_id": "cell-053f09c8a8a514e5",
     "locked": true,
     "schema_version": 3,
     "solution": false
    }
   },
   "source": [
    "# Homework #6\n",
    "\n",
    "## PHYS 2600, Spring 2019\n",
    "\n",
    "__Important notice:__ All cells in your notebook will be run, start to finish, using a fresh kernel when it is graded!  To make sure the graded notebook looks like what you expect, we recommend restarting the kernel and selecting \"Cells > Run All\" in the menu above before you submit."
   ]
  },
  {
   "cell_type": "code",
   "execution_count": 15,
   "metadata": {
    "deletable": false,
    "editable": false,
    "nbgrader": {
     "cell_type": "code",
     "checksum": "cddb81352ddd836869ab9eea66380ecf",
     "grade": false,
     "grade_id": "cell-4606818a1d690b3e",
     "locked": true,
     "schema_version": 3,
     "solution": false
    }
   },
   "outputs": [],
   "source": [
    "# Import cell\n",
    "%matplotlib inline\n",
    "\n",
    "import numpy as np\n",
    "import matplotlib.pyplot as plt"
   ]
  },
  {
   "cell_type": "markdown",
   "metadata": {
    "deletable": false,
    "editable": false,
    "nbgrader": {
     "cell_type": "markdown",
     "checksum": "c9a9debc4091f16901b6530a5fadf4a5",
     "grade": false,
     "grade_id": "collaborators",
     "locked": true,
     "schema_version": 3,
     "solution": false
    }
   },
   "source": [
    "If you worked collaboratively on this assignment, __include the names of your collaborators in the cell below:__"
   ]
  },
  {
   "cell_type": "markdown",
   "metadata": {},
   "source": []
  },
  {
   "cell_type": "markdown",
   "metadata": {
    "deletable": false,
    "editable": false,
    "nbgrader": {
     "cell_type": "markdown",
     "checksum": "698e1f03bce9335a40c293bbcabfd31e",
     "grade": false,
     "grade_id": "cell-9bbcf2e8b7cbb637",
     "locked": true,
     "schema_version": 3,
     "solution": false
    }
   },
   "source": [
    "## 6.0 - Homework correction (3 points)\n",
    "\n",
    "In the cell below, explain and correct __one mistake__ you made on your _last graded_ homework assignment.  If you got a perfect score, great!  Tell us what your favorite problem was, or use the space to give any other feedback you might have on the class/tutorials/homework."
   ]
  },
  {
   "cell_type": "markdown",
   "metadata": {
    "deletable": false,
    "nbgrader": {
     "cell_type": "markdown",
     "checksum": "337e677cc9f6337f155e4a4fe44a71a0",
     "grade": true,
     "grade_id": "correction",
     "locked": false,
     "points": 3,
     "schema_version": 3,
     "solution": true
    }
   },
   "source": [
    "Part A\n",
    "\n",
    "\n",
    "def cart_makes_it_to_end(x0, xend, V, num_points=1000):\n",
    "    \n",
    "    x = np.linspace(x0,xend,1000)\n",
    "    T = cart_V(x0) - np.max(V(x))\n",
    "        \n",
    "    if T >= 0:\n",
    "        return True\n",
    "    else:\n",
    "        return False"
   ]
  },
  {
   "cell_type": "markdown",
   "metadata": {
    "deletable": false,
    "editable": false,
    "nbgrader": {
     "cell_type": "markdown",
     "checksum": "76a4120c20f59721aca839966f35ac25",
     "grade": false,
     "grade_id": "cell-446b6285a11e9a5b",
     "locked": true,
     "schema_version": 3,
     "solution": false
    }
   },
   "source": [
    "## 6.1 - Factorials, loops, and recursion (12 points)"
   ]
  },
  {
   "cell_type": "markdown",
   "metadata": {
    "deletable": false,
    "editable": false,
    "nbgrader": {
     "cell_type": "markdown",
     "checksum": "02645358671d28613c76391ec171d456",
     "grade": false,
     "grade_id": "cell-744a74fb5ff27a0d",
     "locked": true,
     "schema_version": 3,
     "solution": false
    }
   },
   "source": [
    "### Part A (3 points)\n",
    "\n",
    "The factorial function $n!$ is defined as the product of all numbers from 1 to $n$:\n",
    "\n",
    "\\\\[\n",
    "n! = n \\times (n-1) \\times (n-2) ... 2 \\times 1\n",
    "\\\\]\n",
    "\n",
    "Implement the factorial function as `fact(n)` below, __using a `while` loop.__  The factorial is defined for any non-negative integer, including zero ($0! = 1$); _make sure your code handles this edge case properly._  (Don't be afraid to add your own test!)\n",
    "\n",
    "(I've included some assertions to enforce the requirement that $n$ is a non-negative integer.  The function would work fine without them; the assertions are there to make sure nobody gets unexpected behavior.  The factorial _can_ be defined for negative integers and even for decimal or complex numbers, but our function doesn't do those correctly, so better to cause an error than give a wrong answer!)"
   ]
  },
  {
   "cell_type": "code",
   "execution_count": 3,
   "metadata": {
    "deletable": false,
    "nbgrader": {
     "cell_type": "code",
     "checksum": "8c758a69cf70ec1cfa5609825ff6289a",
     "grade": false,
     "grade_id": "cell-4360fe72fbdbfb58",
     "locked": false,
     "schema_version": 3,
     "solution": true
    }
   },
   "outputs": [
    {
     "name": "stdout",
     "output_type": "stream",
     "text": [
      "265252859812191058636308480000000\n"
     ]
    }
   ],
   "source": [
    "def fact(n):\n",
    "    \"\"\"\n",
    "    Return the factorial n!.\n",
    "    \n",
    "    n must be a non-negative integer.\n",
    "    \"\"\"\n",
    "    \n",
    "    # Factorial is defined for non-negative integers only.\n",
    "    assert type(n) == int\n",
    "    assert n >= 0\n",
    "\n",
    "    ## YOUR CODE HERE\n",
    "    if n == 0:\n",
    "        return 1\n",
    "    \n",
    "    ans = n\n",
    "    while n > 1:\n",
    "        ans = ans*(n-1)\n",
    "        n = n-1\n",
    "    \n",
    "    return ans\n",
    "\n",
    "print(fact(30))"
   ]
  },
  {
   "cell_type": "code",
   "execution_count": 4,
   "metadata": {
    "deletable": false,
    "editable": false,
    "nbgrader": {
     "cell_type": "code",
     "checksum": "9aa188cdd76dcf1c0ab35491bda064bc",
     "grade": true,
     "grade_id": "cell-fc972f1e611b2c9c",
     "locked": true,
     "points": 3,
     "schema_version": 3,
     "solution": false
    }
   },
   "outputs": [],
   "source": [
    "assert fact(2) == 2\n",
    "assert fact(5) == 120\n",
    "assert fact(1) == 1"
   ]
  },
  {
   "cell_type": "markdown",
   "metadata": {
    "deletable": false,
    "editable": false,
    "nbgrader": {
     "cell_type": "markdown",
     "checksum": "e52bfe3eb49cab01e4f883bf7ce1593b",
     "grade": false,
     "grade_id": "cell-69032b1748df6cdb",
     "locked": true,
     "schema_version": 3,
     "solution": false
    }
   },
   "source": [
    "### Part B (3 points)\n",
    "\n",
    "A less familiar but related function is the __double factorial__ or __semifactorial__, $n!!$, which is defined just like the factorial but uses every _other_ number in the product:\n",
    "\n",
    "\\\\[\n",
    "n!! = \\begin{cases}\n",
    "n \\times (n-2) \\times (n-4) ... \\times 3 \\times 1, & (n\\ {\\rm odd}); \\\\\n",
    "n \\times (n-2) \\times (n-4) ... \\times 4 \\times 2, & (n\\ {\\rm even}); \\\\\n",
    "\\end{cases}\n",
    "\\\\]\n",
    "\n",
    "__Implement the double factorial function `double_fact(n)` below__, again __using a `while` loop.__  Once again, assume $n$ is a non-negative integer, and make sure you reproduce the special case $0!! = 1$.\n",
    "\n"
   ]
  },
  {
   "cell_type": "code",
   "execution_count": 5,
   "metadata": {
    "deletable": false,
    "nbgrader": {
     "cell_type": "code",
     "checksum": "75a3f904662591945721d0e6ee6742bd",
     "grade": false,
     "grade_id": "cell-591216e00526e456",
     "locked": false,
     "schema_version": 3,
     "solution": true
    }
   },
   "outputs": [],
   "source": [
    "def double_fact(n):\n",
    "    \"\"\"\n",
    "    Return the 'double factorial' n!!.\n",
    "    \n",
    "    n must be a non-negative integer.\n",
    "    \"\"\"\n",
    "    \n",
    "    assert type(n) == int\n",
    "    assert n >= 0\n",
    "    \n",
    "    ## YOUR CODE HERE\n",
    "    if n == 0:\n",
    "        return 1\n",
    "\n",
    "    ans = n\n",
    "    while n > 2 :\n",
    "        ans = ans*(n-2)\n",
    "        n = n-2\n",
    "    \n",
    "    return ans"
   ]
  },
  {
   "cell_type": "code",
   "execution_count": 6,
   "metadata": {
    "deletable": false,
    "editable": false,
    "nbgrader": {
     "cell_type": "code",
     "checksum": "381780ed1953e5074895a8b51dd6b444",
     "grade": true,
     "grade_id": "cell-b8dccd9ccf3f4968",
     "locked": true,
     "points": 3,
     "schema_version": 3,
     "solution": false
    }
   },
   "outputs": [],
   "source": [
    "assert double_fact(0) == 1\n",
    "assert double_fact(7) == 105\n",
    "assert double_fact(4) == 8"
   ]
  },
  {
   "cell_type": "markdown",
   "metadata": {
    "deletable": false,
    "editable": false,
    "nbgrader": {
     "cell_type": "markdown",
     "checksum": "42bbc7d3df4abb87f994fd2bbf95882e",
     "grade": false,
     "grade_id": "cell-cc4ecd1722cfbad8",
     "locked": true,
     "schema_version": 3,
     "solution": false
    }
   },
   "source": [
    "### Part C (3 points)\n",
    "\n",
    "As we've seen a few times, function definitions in Python aren't limited to simple statements; we can also call _other_ functions from inside a function.  In fact, it is valid Python to _call the function we are defining from inside itself!_  When the definition of a function includes the function itself, the function is said to be __recursive__.\n",
    "\n",
    "Recursion is well-suited to simplifying certain problems, and is a powerful technique that you should know about!  The factorial is particularly easy to implement with recursion, since it satisfies the identity\n",
    "\n",
    "\\\\[\n",
    "n! = n \\times (n-1)!\n",
    "\\\\]\n",
    "\n",
    "which leads to the following simple implementation:\n"
   ]
  },
  {
   "cell_type": "code",
   "execution_count": 7,
   "metadata": {
    "deletable": false,
    "editable": false,
    "nbgrader": {
     "cell_type": "code",
     "checksum": "d107ffab7ac0331e4e9626b040e82f1e",
     "grade": false,
     "grade_id": "cell-f5de8936e543d435",
     "locked": true,
     "schema_version": 3,
     "solution": false
    }
   },
   "outputs": [
    {
     "name": "stdout",
     "output_type": "stream",
     "text": [
      "True\n",
      "True\n",
      "True\n"
     ]
    }
   ],
   "source": [
    "def recursive_fact(n):\n",
    "    if n <= 1:\n",
    "        return 1\n",
    "    \n",
    "    return n * recursive_fact(n-1)\n",
    "\n",
    "print(recursive_fact(113) == fact(113))\n",
    "print(recursive_fact(1) == fact(1))\n",
    "print(recursive_fact(0) == fact(0))"
   ]
  },
  {
   "cell_type": "markdown",
   "metadata": {
    "deletable": false,
    "editable": false,
    "nbgrader": {
     "cell_type": "markdown",
     "checksum": "661e712cbfc1f65559c1609ecd4dc0f0",
     "grade": false,
     "grade_id": "cell-493ba4a0c887e24f",
     "locked": true,
     "schema_version": 3,
     "solution": false
    }
   },
   "source": [
    "Think about the execution: when you call `recursive_fact(n)`, __which numbers does the computer multiply together first?__  Is it `2*1`, or `n*(n-1)`?  __Explain your reasoning!__\n",
    "\n",
    "_(Hint: try to follow the code through explicitly for a modest value of `n`, say 4.  It's hard to use `print` to diagnose what's happening, but the Python Tutor may help.)_"
   ]
  },
  {
   "cell_type": "markdown",
   "metadata": {
    "deletable": false,
    "nbgrader": {
     "cell_type": "markdown",
     "checksum": "8a3f1d7fc64e6bef3777562e3aadf447",
     "grade": true,
     "grade_id": "cell-cce4256f87d80f89",
     "locked": false,
     "points": 3,
     "schema_version": 3,
     "solution": true
    }
   },
   "source": [
    "# ans is 2*1,\n",
    "termination of the recursive function is n <= 1,\n",
    "so recursive_fact(n) will execute like 2*1, 3*(2*1), 4*(3*(2*1)), ..., n * recursive_fact(n-1)"
   ]
  },
  {
   "cell_type": "markdown",
   "metadata": {
    "deletable": false,
    "editable": false,
    "nbgrader": {
     "cell_type": "markdown",
     "checksum": "103606d000bc59720a8033f4262269ca",
     "grade": false,
     "grade_id": "cell-61fd3d54ca7cf34f",
     "locked": true,
     "schema_version": 3,
     "solution": false
    }
   },
   "source": [
    "There are some drawbacks to recursion; for one thing, recursion is simply slower than iteration in Python, as the usage of memory piles up with every layer of recursion.  (Of course, both functions still take microseconds to run, so maybe the trade-off is worth it for a clearer implementation in this case!)  \n",
    "\n",
    "Recursion also gives us another way to generate an infinite loop in principle, if we're not careful about termination of the recursive function calls.  (In practice, Python has a __recursion limit__, so if a function calls itself too many times the kernel will simply give an error.)"
   ]
  },
  {
   "cell_type": "markdown",
   "metadata": {
    "deletable": false,
    "editable": false,
    "nbgrader": {
     "cell_type": "markdown",
     "checksum": "b64523f1d115820b6e3afa15f31c4638",
     "grade": false,
     "grade_id": "cell-bb98c85abe4642cf",
     "locked": true,
     "schema_version": 3,
     "solution": false
    }
   },
   "source": [
    "### Part D (3 points)\n",
    "\n",
    "Now, your turn: __implement the double factorial $n!!$ using recursion.__  (Your answer should be much shorter than the iterative one above!)"
   ]
  },
  {
   "cell_type": "code",
   "execution_count": 8,
   "metadata": {
    "deletable": false,
    "nbgrader": {
     "cell_type": "code",
     "checksum": "8188fb043d95e73c551bf52e17bb257a",
     "grade": false,
     "grade_id": "cell-6a58cdfff33b6951",
     "locked": false,
     "schema_version": 3,
     "solution": true
    }
   },
   "outputs": [],
   "source": [
    "def rec_double_fact(n):\n",
    "    \n",
    "    ## YOUR CODE HERE\n",
    "    if n == 0 or n == 1:\n",
    "        return 1\n",
    "    return n*rec_double_fact(n-2)"
   ]
  },
  {
   "cell_type": "code",
   "execution_count": 9,
   "metadata": {
    "deletable": false,
    "editable": false,
    "nbgrader": {
     "cell_type": "code",
     "checksum": "f640bbfd261f7403b4a36a7efcb16030",
     "grade": true,
     "grade_id": "cell-4f2d5370c87b453e",
     "locked": true,
     "points": 3,
     "schema_version": 3,
     "solution": false
    }
   },
   "outputs": [],
   "source": [
    "assert rec_double_fact(0) == 1\n",
    "assert rec_double_fact(11) == 10395\n",
    "assert rec_double_fact(18) == 185794560"
   ]
  },
  {
   "cell_type": "markdown",
   "metadata": {
    "deletable": false,
    "editable": false,
    "nbgrader": {
     "cell_type": "markdown",
     "checksum": "ed81eda5659d6b9ba4aa55500263c0aa",
     "grade": false,
     "grade_id": "cell-aab4949db56656b2",
     "locked": true,
     "schema_version": 3,
     "solution": false
    }
   },
   "source": [
    "## 6.2 - Debugging and Fizzbuzz (12 points)\n",
    "\n",
    "There are a lot of ways to solve the famous FizzBuzz programming problem (see the worked example on tutorial 11.)  Here are a few alternative solutions.  The only problem is, they all have some bugs in them!  __Debug the code examples__ so that they correctly produce the FizzBuzz sequence from 1 to 30.\n",
    "\n",
    "_(Note: you should fix the code examples, but make sure you use the same basic algorithm to produce the sequence.  In other words, you can't just copy/paste the solution to tutorial 11 three times to get this problem right!)_\n",
    "\n",
    "### Part A\n",
    "\n",
    "The first solution uses three different `%` tests for 3, 5, and 15."
   ]
  },
  {
   "cell_type": "code",
   "execution_count": 10,
   "metadata": {
    "deletable": false,
    "editable": false,
    "nbgrader": {
     "cell_type": "code",
     "checksum": "0d7c4c396f873014a0e212182292418f",
     "grade": false,
     "grade_id": "cell-b8b3ff39e02b7aa5",
     "locked": true,
     "schema_version": 3,
     "solution": false
    }
   },
   "outputs": [
    {
     "name": "stdout",
     "output_type": "stream",
     "text": [
      "1\n",
      "2\n",
      "Fizz\n",
      "4\n",
      "Buzz\n",
      "Fizz\n",
      "7\n",
      "8\n",
      "Fizz\n",
      "Buzz\n",
      "11\n",
      "Fizz\n",
      "13\n",
      "14\n",
      "Fizz\n",
      "16\n",
      "17\n",
      "Fizz\n",
      "19\n",
      "Buzz\n",
      "Fizz\n",
      "22\n",
      "23\n",
      "Fizz\n",
      "Buzz\n",
      "26\n",
      "Fizz\n",
      "28\n",
      "29\n",
      "Fizz\n"
     ]
    }
   ],
   "source": [
    "## Read-only code cell: give your solution in the next cell below.\n",
    "\n",
    "i = 1\n",
    "while i <= 30:\n",
    "    if (i % 3) == 0:\n",
    "        print('Fizz')\n",
    "    elif (i % 5) == 0:\n",
    "        print('Buzz')\n",
    "    elif (i % 15) == 0:\n",
    "        print('FizzBuzz')\n",
    "    else:\n",
    "        print(i)\n",
    "    \n",
    "    i += 1"
   ]
  },
  {
   "cell_type": "code",
   "execution_count": 11,
   "metadata": {
    "deletable": false,
    "nbgrader": {
     "cell_type": "code",
     "checksum": "ff7efdcde2e862a2afbdde547ae38c53",
     "grade": true,
     "grade_id": "cell-3f8a8396b0a4e565",
     "locked": false,
     "points": 4,
     "schema_version": 3,
     "solution": true
    }
   },
   "outputs": [
    {
     "name": "stdout",
     "output_type": "stream",
     "text": [
      "1\n",
      "2\n",
      "Fizz\n",
      "4\n",
      "Buzz\n",
      "Fizz\n",
      "7\n",
      "8\n",
      "Fizz\n",
      "Buzz\n",
      "11\n",
      "Fizz\n",
      "13\n",
      "14\n",
      "FizzBuzz\n",
      "16\n",
      "17\n",
      "Fizz\n",
      "19\n",
      "Buzz\n",
      "Fizz\n",
      "22\n",
      "23\n",
      "Fizz\n",
      "Buzz\n",
      "26\n",
      "Fizz\n",
      "28\n",
      "29\n",
      "FizzBuzz\n"
     ]
    }
   ],
   "source": [
    "## YOUR CODE HERE\n",
    "i = 1\n",
    "while i <= 30:\n",
    "    if (i % 15) == 0:\n",
    "        print('FizzBuzz')\n",
    "    elif (i % 5) == 0:\n",
    "        print('Buzz')\n",
    "    elif (i % 3) == 0:\n",
    "        print('Fizz')\n",
    "    else:\n",
    "        print(i)\n",
    "    \n",
    "    i += 1"
   ]
  },
  {
   "cell_type": "markdown",
   "metadata": {
    "deletable": false,
    "editable": false,
    "nbgrader": {
     "cell_type": "markdown",
     "checksum": "151b8e376dd08454f8816522e72d7464",
     "grade": false,
     "grade_id": "cell-ae2ba945aee7cfa2",
     "locked": true,
     "schema_version": 3,
     "solution": false
    }
   },
   "source": [
    "### Part B\n",
    "\n",
    "This method uses a pair of \"counter\" variables to find multiples of 3 and 5 without the use of the `%` operator."
   ]
  },
  {
   "cell_type": "code",
   "execution_count": 12,
   "metadata": {
    "deletable": false,
    "editable": false,
    "nbgrader": {
     "cell_type": "code",
     "checksum": "08dc37178287412b4bf5045eec248bd3",
     "grade": false,
     "grade_id": "cell-5c20eeb18d6b5d91",
     "locked": true,
     "schema_version": 3,
     "solution": false
    }
   },
   "outputs": [
    {
     "name": "stdout",
     "output_type": "stream",
     "text": [
      "1\n",
      "2\n",
      "Fizz\n",
      "4\n",
      "FizzBuzz\n",
      "6\n",
      "Fizz\n",
      "8\n",
      "FizzBuzz\n",
      "10\n",
      "Fizz\n",
      "12\n",
      "FizzBuzz\n",
      "14\n",
      "Fizz\n",
      "16\n",
      "FizzBuzz\n",
      "18\n",
      "Fizz\n",
      "20\n",
      "FizzBuzz\n",
      "22\n",
      "Fizz\n",
      "24\n",
      "FizzBuzz\n",
      "26\n",
      "Fizz\n",
      "28\n",
      "FizzBuzz\n",
      "30\n"
     ]
    }
   ],
   "source": [
    "## Read-only code cell: give your solution in the next cell below.\n",
    "\n",
    "i = 1\n",
    "fizz_count=0\n",
    "buzz_count=0\n",
    "while i <= 30:\n",
    "    s = ''\n",
    "    fizz_count += 1\n",
    "    buzz_count += 1\n",
    "    if fizz_count == 3:\n",
    "        s += 'Fizz'\n",
    "        fizz_count = 1\n",
    "    if buzz_count == 5:\n",
    "        s += 'Buzz'\n",
    "        buzz_count = 1\n",
    "    \n",
    "    if s == '':\n",
    "        print(i)\n",
    "    else:\n",
    "        print(s)\n",
    "        \n",
    "    i += 1"
   ]
  },
  {
   "cell_type": "code",
   "execution_count": 13,
   "metadata": {
    "deletable": false,
    "nbgrader": {
     "cell_type": "code",
     "checksum": "47a8157d8d1326f4ead555f252c0100a",
     "grade": true,
     "grade_id": "cell-03a6d4c3892ef12d",
     "locked": false,
     "points": 4,
     "schema_version": 3,
     "solution": true
    }
   },
   "outputs": [
    {
     "name": "stdout",
     "output_type": "stream",
     "text": [
      "1\n",
      "2\n",
      "Fizz\n",
      "4\n",
      "Buzz\n",
      "Fizz\n",
      "7\n",
      "8\n",
      "Fizz\n",
      "Buzz\n",
      "11\n",
      "Fizz\n",
      "13\n",
      "14\n",
      "FizzBuzz\n",
      "16\n",
      "17\n",
      "Fizz\n",
      "19\n",
      "Buzz\n",
      "Fizz\n",
      "22\n",
      "23\n",
      "Fizz\n",
      "Buzz\n",
      "26\n",
      "Fizz\n",
      "28\n",
      "29\n",
      "FizzBuzz\n"
     ]
    }
   ],
   "source": [
    "## YOUR CODE HERE\n",
    "i = 1\n",
    "fizz_count=0\n",
    "buzz_count=0\n",
    "while i <= 30:\n",
    "    s = ''\n",
    "    fizz_count += 1\n",
    "    buzz_count += 1\n",
    "    if fizz_count == 3:\n",
    "        s += 'Fizz'\n",
    "        fizz_count = 0\n",
    "    if buzz_count == 5:\n",
    "        s += 'Buzz'\n",
    "        buzz_count = 0\n",
    "    \n",
    "    if s == '':\n",
    "        print(i)\n",
    "    else:\n",
    "        print(s)\n",
    "        \n",
    "    i += 1"
   ]
  },
  {
   "cell_type": "markdown",
   "metadata": {
    "deletable": false,
    "editable": false,
    "nbgrader": {
     "cell_type": "markdown",
     "checksum": "e8b7bc5a118d3ce6d0043bc42583f612",
     "grade": false,
     "grade_id": "cell-f9d3f6b535c9a5bd",
     "locked": true,
     "schema_version": 3,
     "solution": false
    }
   },
   "source": [
    "### Part C\n",
    "\n",
    "Finally, here's an attempt using NumPy arrays and masks to implement FizzBuzz."
   ]
  },
  {
   "cell_type": "code",
   "execution_count": 16,
   "metadata": {
    "deletable": false,
    "editable": false,
    "nbgrader": {
     "cell_type": "code",
     "checksum": "0b8fe182fb5951be04d5d8df614d20ab",
     "grade": false,
     "grade_id": "cell-0cec5c1ff5cabb60",
     "locked": true,
     "schema_version": 3,
     "solution": false
    }
   },
   "outputs": [
    {
     "name": "stdout",
     "output_type": "stream",
     "text": [
      "['Buzz' 'FizzBuzz' 'FizzBuzz' 'Buzz' 'FizzBuzz' '5' '6' 'FizzBuzz'\n",
      " 'FizzBuzz' '9' '10' 'FizzBuzz' '12' 'FizzBuzz' 'FizzBuzz' '15' 'FizzBuzz'\n",
      " 'FizzBuzz' '18' 'FizzBuzz' '20' '21' 'FizzBuzz' 'FizzBuzz' '24' '25'\n",
      " 'FizzBuzz' '27' 'FizzBuzz' 'FizzBuzz']\n"
     ]
    }
   ],
   "source": [
    "## Read-only code cell: give your solution in the next cell below.\n",
    "\n",
    "all_numbers = np.arange(0,30)\n",
    "\n",
    "div_3_mask = all_numbers % 3\n",
    "div_5_mask = all_numbers % 5\n",
    "\n",
    "all_numbers = np.array(all_numbers, np.unicode)\n",
    "all_numbers[div_3_mask] = 'Fizz'\n",
    "all_numbers[div_5_mask] = 'Buzz'\n",
    "all_numbers[np.logical_and(div_3_mask, div_5_mask)] = 'FizzBuzz'\n",
    "\n",
    "print(all_numbers)"
   ]
  },
  {
   "cell_type": "code",
   "execution_count": 17,
   "metadata": {
    "deletable": false,
    "nbgrader": {
     "cell_type": "code",
     "checksum": "aad5fdbe919a8e1e4165b72df3098dde",
     "grade": true,
     "grade_id": "cell-e9c0a791a7f7f0fa",
     "locked": false,
     "points": 4,
     "schema_version": 3,
     "solution": true
    }
   },
   "outputs": [
    {
     "name": "stdout",
     "output_type": "stream",
     "text": [
      "['FizzBuzz' '1' '2' 'Fizz' '4' 'Buzz' 'Fizz' '7' '8' 'Fizz' 'Buzz' '11'\n",
      " 'Fizz' '13' '14' 'FizzBuzz' '16' '17' 'Fizz' '19' 'Buzz' 'Fizz' '22' '23'\n",
      " 'Fizz' 'Buzz' '26' 'Fizz' '28' '29']\n"
     ]
    }
   ],
   "source": [
    "## YOUR CODE HERE\n",
    "all_numbers = np.arange(0,30)\n",
    "\n",
    "div_3_mask = all_numbers % 3\n",
    "div_5_mask = all_numbers % 5\n",
    "\n",
    "all_numbers = np.array(all_numbers, np.unicode)\n",
    "all_numbers[np.logical_not(div_3_mask)] = 'Fizz'\n",
    "all_numbers[np.logical_not(div_5_mask)] = 'Buzz'\n",
    "all_numbers[np.logical_not(np.logical_or(div_3_mask, div_5_mask))] = 'FizzBuzz'\n",
    "\n",
    "print(all_numbers)"
   ]
  },
  {
   "cell_type": "markdown",
   "metadata": {
    "deletable": false,
    "editable": false,
    "nbgrader": {
     "cell_type": "markdown",
     "checksum": "92aee5073246f62e110840a0a91076f0",
     "grade": false,
     "grade_id": "cell-80a7f793124062ce",
     "locked": true,
     "schema_version": 3,
     "solution": false
    }
   },
   "source": [
    "## 6.3 - Spring equilibrium beyond Hooke's law (10 points)"
   ]
  },
  {
   "cell_type": "markdown",
   "metadata": {
    "deletable": false,
    "editable": false,
    "nbgrader": {
     "cell_type": "markdown",
     "checksum": "e76cdd7a6449dff27f10bb93583a803b",
     "grade": false,
     "grade_id": "cell-409809e31b91723c",
     "locked": true,
     "schema_version": 3,
     "solution": false
    }
   },
   "source": [
    "Hooke's law states that the force exerted by a spring is proportional to the distance $x$ by which it is extended, $F = -kx$, where $k$ is the spring constant.  Equivalently, the potential energy $U$ stored in a stretched spring is equal to\n",
    "\n",
    "\\\\[\n",
    "U(x) = \\frac{1}{2} kx^2.\n",
    "\\\\]\n",
    "\n",
    "However, Hooke's law only holds if $x$ is relatively small; a spring stretched sufficiently far will begin to show a _non-linear response_, i.e. the force will deviate from $F = -kx$.  The details of how the spring's behavior changes depends on its material and construction, but we can consider a simple model based on a quartic potential energy:\n",
    "\n",
    "\\\\[\n",
    "U(x) = \\frac{1}{2} kx^2 - p x^3 + q x^4\n",
    "\\\\]\n",
    "where $p$ and $q$ are positive constants.  (Notice the energy is __not symmetric about $x=0$__; we're modeling only the behavior at positive $x$, i.e. for a stretched spring.  In general we might expect a spring to respond differently to extreme stretching and extreme compression.)\n",
    "\n",
    "Let's take some concrete numerical values: for simplicity we'll set $k = 1\\ N/m$, and then take $p = 0.7\\ N/m^2$ and $q = 0.25\\ N/m^3$.  The first term (Hooke's law) is a good approximation to the behavior of the spring up to about 10 cm away from $x=0$, and then the potential energy becomes significantly different.\n",
    "\n",
    "__Run the cell below__ to make a plot of $U(x)$, so you can get a sense for what's going on.  Remember, Hooke's law should give a quadratic potential; you can see that the potential _does_ look parabolic if you get close enough to $x=0$."
   ]
  },
  {
   "cell_type": "code",
   "execution_count": 18,
   "metadata": {
    "deletable": false,
    "editable": false,
    "nbgrader": {
     "cell_type": "code",
     "checksum": "3197e7b58bb1c5627f80b1c4aed379e2",
     "grade": false,
     "grade_id": "cell-8790cc4c069d7cd0",
     "locked": true,
     "schema_version": 3,
     "solution": false
    }
   },
   "outputs": [
    {
     "data": {
      "text/plain": [
       "(0, 0.4)"
      ]
     },
     "execution_count": 18,
     "metadata": {},
     "output_type": "execute_result"
    },
    {
     "data": {
      "image/png": "[encoded data removed]",
      "text/plain": [
       "<Figure size 432x288 with 1 Axes>"
      ]
     },
     "metadata": {
      "needs_background": "light"
     },
     "output_type": "display_data"
    }
   ],
   "source": [
    "def U(x):\n",
    "    k = 1  # N/m\n",
    "    p = 0.7  # N/m^2\n",
    "    q = 0.25  # N/m^3\n",
    "    \n",
    "    return 0.5 * k * x**2 - p*x**3 + q*x**4\n",
    "\n",
    "x = np.linspace(-1,2,1000)\n",
    "plt.plot(x, U(x))\n",
    "plt.ylim(0,0.4)"
   ]
  },
  {
   "cell_type": "markdown",
   "metadata": {
    "deletable": false,
    "editable": false,
    "nbgrader": {
     "cell_type": "markdown",
     "checksum": "af5edcf43670790be9c229b2a2a147db",
     "grade": false,
     "grade_id": "cell-793e8014b06640b0",
     "locked": true,
     "schema_version": 3,
     "solution": false
    }
   },
   "source": [
    "### Part A (3 points)\n",
    "\n",
    "__Implement the negative derivative of potential energy -U'(x)__, which is equal to the net force, as `net_force(x)` below.  We'll keep the numerical spring constants all fixed for this problem, so $x$ should be the only argument to your function.  (You can copy the values of k,p,q from the plotting cell above.)"
   ]
  },
  {
   "cell_type": "code",
   "execution_count": 28,
   "metadata": {
    "deletable": false,
    "nbgrader": {
     "cell_type": "code",
     "checksum": "53e9996da064fc9e066344c0004fb1e3",
     "grade": false,
     "grade_id": "cell-0a33c9bf82588216",
     "locked": false,
     "schema_version": 3,
     "solution": true
    }
   },
   "outputs": [
    {
     "data": {
      "text/plain": [
       "(-1, 0.4)"
      ]
     },
     "execution_count": 28,
     "metadata": {},
     "output_type": "execute_result"
    },
    {
     "data": {
      "image/png": "[encoded data removed]",
      "text/plain": [
       "<Figure size 432x288 with 1 Axes>"
      ]
     },
     "metadata": {
      "needs_background": "light"
     },
     "output_type": "display_data"
    }
   ],
   "source": [
    "def net_force(x):\n",
    "    k = 1  # N/m\n",
    "    p = 0.7  # N/m^2\n",
    "    q = 0.25  # N/m^3\n",
    "    \n",
    "    return -1 * (k * x - 3*p*x**2 + 4*q*x**3)\n",
    "\n",
    "x = np.linspace(-1,2,1000)\n",
    "plt.plot(x, net_force(x))\n",
    "plt.ylim(-1,0.4)"
   ]
  },
  {
   "cell_type": "code",
   "execution_count": 20,
   "metadata": {
    "deletable": false,
    "editable": false,
    "nbgrader": {
     "cell_type": "code",
     "checksum": "0ef0cdb7c20b18f009db6192a9720931",
     "grade": true,
     "grade_id": "cell-244161c0d7d5d1f4",
     "locked": true,
     "points": 3,
     "schema_version": 3,
     "solution": false
    }
   },
   "outputs": [],
   "source": [
    "import numpy.testing as npt\n",
    "\n",
    "npt.assert_allclose(net_force(0), 0.)\n",
    "npt.assert_allclose(net_force(0.65), -0.0374, atol=1e-4)\n",
    "npt.assert_allclose(net_force(0.44), -0.1186, atol=1e-4)"
   ]
  },
  {
   "cell_type": "markdown",
   "metadata": {
    "deletable": false,
    "editable": false,
    "nbgrader": {
     "cell_type": "markdown",
     "checksum": "57731f4f862cc1e971a568259feb3a53",
     "grade": false,
     "grade_id": "cell-afb7d573f95e0c39",
     "locked": true,
     "schema_version": 3,
     "solution": false
    }
   },
   "source": [
    "### Part B (7 points)\n",
    "\n",
    "Now we'd like to find the _points of equilibrium_ $x_0$, where the spring will remain at rest.  In addition to the obvious equilibrium point at $x=0$, for the numerical values chosen there are _two more_ points of equilibrium at positive $x$.  (Convince yourself from the plot of $U(x)$ that this is true, or make a plot of the net force!)\n",
    "\n",
    "__Find the two non-zero points of equilibrium__ for this system (in meters), and save them in the variables `x0_A` and `x0_B` below; it doesn't matter which root you store in which variable.  \n",
    "\n",
    "This is a root-finding problem using the `net_force()` function you implemented above.  There are two ways you may approach this problem:\n",
    "\n",
    "1. Copy your implementation of the bisection root finder from tutorial 8 into this notebook, and use that;\n",
    "2. Use one of the root-finding algorithms from the `scipy.optimize` module.  I won't give you help here, it's up to you to [read the scipy documentation](https://docs.scipy.org/doc/scipy/reference/optimize.html) and figure out how to use an appropriate algorithm!\n",
    "\n",
    "A good way to check what you're doing is to make sure you can numerically locate the equilibrium point at $x=0$ before you proceed to the other two.  \n",
    "\n",
    "_(Note: of course, there are analytic ways to find the roots in this case, which you can use to check your answer if you like.  But you won't get any credit for your answer unless you have a complete Python solution here!)_"
   ]
  },
  {
   "cell_type": "code",
   "execution_count": 35,
   "metadata": {
    "deletable": false,
    "nbgrader": {
     "cell_type": "code",
     "checksum": "eada465a80356fde29ade27d5df08fae",
     "grade": true,
     "grade_id": "cell-5aa3a7b5c08e5d97",
     "locked": false,
     "points": 0,
     "schema_version": 3,
     "solution": true
    }
   },
   "outputs": [],
   "source": [
    "# Put your bisection algorithm here, or use this cell\n",
    "# to import what you need from the scipy module.\n",
    "\n",
    "## YOUR CODE HERE\n",
    "def bisection(f, a, b, tol=1e-6):\n",
    "    \"\"\"\n",
    "    Find a root of f(x) in the interval a<x<b, using bisection search.\n",
    "    \n",
    "    A valid interval must have a < b, and f(a) and f(b) must have opposite signs.\n",
    "    \n",
    "    Returns: a root of x0, i.e. a solution to f(x0) = 0.\n",
    "    \n",
    "    Arguments:\n",
    "    ======\n",
    "    f: function to be studied; should take one argument.\n",
    "    a: lower end of search interval\n",
    "    b: upper end of search interval\n",
    "    \n",
    "    tol: error tolerance for result (default: 1e-6)\n",
    "    \n",
    "    \"\"\"\n",
    "    \n",
    "    ### BEGIN SOLUTION\n",
    "    \n",
    "    # If either f(a) or f(b) is zero, then we already\n",
    "    # have a solution!\n",
    "    if f(a) == 0:\n",
    "        return a\n",
    "    if f(b) == 0:\n",
    "        return b\n",
    "    \n",
    "    # Spot checks for valid interval\n",
    "    assert b>a\n",
    "    assert f(b) / f(a) < 0\n",
    "    \n",
    "    while (b-a) > tol:\n",
    "        c = (a+b)/2\n",
    "        if f(c) / f(a) < 0:\n",
    "            # c and a have opposite sign: new interval is [a,c]\n",
    "            b = c\n",
    "        elif f(c) / f(b) < 0:\n",
    "            # c and b have opposite sign: new interval is [c,b]\n",
    "            a = c\n",
    "        else:\n",
    "            # Only other possibility is that f(c) was exactly zero!\n",
    "            return c\n",
    "    else:\n",
    "        return (a+b)/2  # Think: why not `return c`?\n",
    "    \n"
   ]
  },
  {
   "cell_type": "code",
   "execution_count": 36,
   "metadata": {
    "deletable": false,
    "nbgrader": {
     "cell_type": "code",
     "checksum": "0e89886c0e60902027e15f71bd6f3148",
     "grade": false,
     "grade_id": "cell-1416bba3f6a08516",
     "locked": false,
     "schema_version": 3,
     "solution": true
    }
   },
   "outputs": [
    {
     "name": "stdout",
     "output_type": "stream",
     "text": [
      "1.3701558113098145 0.7298436164855957\n"
     ]
    }
   ],
   "source": [
    "# Save the points of equilibrium you find in the two variables below!\n",
    "x0_A = 0\n",
    "x0_B = 0\n",
    "\n",
    "## YOUR CODE HERE\n",
    "x0_A = bisection(net_force, 1, 2, 1e-6)\n",
    "x0_B = bisection(net_force, 0.5, 1, 1e-6)\n",
    "\n",
    "print(x0_A, x0_B)"
   ]
  },
  {
   "cell_type": "code",
   "execution_count": 32,
   "metadata": {
    "deletable": false,
    "editable": false,
    "nbgrader": {
     "cell_type": "code",
     "checksum": "2bfd028d6103f6e3f9ea39d9102cf72c",
     "grade": true,
     "grade_id": "cell-e8a94f3440fd29be",
     "locked": true,
     "points": 7,
     "schema_version": 3,
     "solution": false
    }
   },
   "outputs": [],
   "source": [
    "## Hidden tests in this cell; do not remove or you may get a zero for this problem!\n"
   ]
  },
  {
   "cell_type": "markdown",
   "metadata": {
    "deletable": false,
    "editable": false,
    "nbgrader": {
     "cell_type": "markdown",
     "checksum": "aef2bd9a9e8a38e9acc016c6aed55aa9",
     "grade": false,
     "grade_id": "cell-11b9ea567d496c07",
     "locked": true,
     "schema_version": 3,
     "solution": false
    }
   },
   "source": [
    "## 6.4 - Intro to TeX math notation (14 points)\n",
    "\n",
    "All the way back in lecture 1, I told you that we'd be meeting not just Markdown, but a way to write math equations inside Jupyter Markdown blocks called __MathJax__.  Well, now is the time!\n",
    "\n",
    "MathJax is a tool that implements the widely-used __TeX math notation__.  \"TeX\" (pronounced like \"tek\") is a typesetting language used to make PDF files: it's the gold standard for writing scientific papers.  In its full glory, TeX is a complete markup langauge which is significantly more complicated than Markdown.  MathJax just borrows the math notation, and lets us use it alongside Markdown - the best of both worlds!\n",
    "\n",
    "You can even use it in things like legends and labels for PyPlot, as in the cell above!  For PyPlot, _an extra `\\` appears in all TeX commands that use one_  (this is due to `\\` being an \"escape character\" for PyPlot itself.)\n",
    "\n",
    "Having both Markdown and TeX math available lets you make complete, self-contained Jupyter notebooks for projects - like every lecture and assignment you've seen in the class so far."
   ]
  },
  {
   "cell_type": "markdown",
   "metadata": {
    "deletable": false,
    "editable": false,
    "nbgrader": {
     "cell_type": "markdown",
     "checksum": "af7002ab730983e913012ee14c2eca8f",
     "grade": false,
     "grade_id": "cell-2e118843cb17b4e6",
     "locked": true,
     "schema_version": 3,
     "solution": false
    }
   },
   "source": [
    "This cell shows the notation for MathJax inside Jupyter.  We can write both __in-line math__, which appears as part of some other text, or __stand-alone equations__ which are separated out.  In-line math looks like this: $a^2 + b^2 = c^2$, and is denoted by surrounding our math with the dollar `$` character.  Stand-alone equations look like this:\n",
    "\n",
    "$$\n",
    "\\int_0^1 x = \\frac{1}{2}\n",
    "$$\n",
    "\n",
    "and are denoted by a _pair_ of dollar signs, `$$`.  (There's another way to write blocks with square brackets that I use by habit, but they're the same.  Click on any of my math cells above to see examples.)  \n",
    "\n",
    "__Double-click on this cell to see what's inside!__\n",
    "\n",
    "\n"
   ]
  },
  {
   "cell_type": "markdown",
   "metadata": {
    "deletable": false,
    "editable": false,
    "nbgrader": {
     "cell_type": "markdown",
     "checksum": "7b614338167550f0622efabc711b9e2f",
     "grade": false,
     "grade_id": "cell-32625b16fec50766",
     "locked": true,
     "schema_version": 3,
     "solution": false
    }
   },
   "source": [
    "The _next_ cell shows a table of common TeX commands and how they appear.  There's a [nice and somewhat more complete list on StackExchange here](https://math.meta.stackexchange.com/questions/5020/mathjax-basic-tutorial-and-quick-reference).\n",
    "\n",
    "Basically:\n",
    "* Regular letters and math symbols like `+`, `-`, `/` are all drawn nicely.\n",
    "* TeX commands are denoted by a backslash, i.e. as `\\command`.  These draw special symbols like $\\zeta$, names of special functions like $\\sin$, and things like integrals, fractions, sums...\n",
    "* TeX uses curly braces `{`,`}` to group things together: this tells it the difference between $10^10$ and $10^{10}$.\n",
    "\n",
    "Even I don't know all of the TeX special commands!  If you're looking for the TeX to draw something specific, [DeTeXify](http://detexify.kirelabs.org/classify.html) will let you draw it and try to guess what command you're looking for!"
   ]
  },
  {
   "cell_type": "markdown",
   "metadata": {
    "deletable": false,
    "editable": false,
    "nbgrader": {
     "cell_type": "markdown",
     "checksum": "65455c83342008438022008229119a95",
     "grade": false,
     "grade_id": "cell-5f38639e7e075018",
     "locked": true,
     "schema_version": 3,
     "solution": false
    }
   },
   "source": [
    "| Symbol | TeX command | Example |\n",
    "|--------|-------------|---------|\n",
    "| superscript  |  `^`        |   $x^2$   |\n",
    "| subscript |  `_`      |  $x_i$  |\n",
    "| symbols  | `\\alpha, \\beta, \\Gamma...` | $\\alpha$, $\\beta$, $\\Gamma$ |\n",
    "| more symbols| `\\infty, \\lt, \\gt, \\cdot , \\rightarrow...` | $\\infty, \\lt, \\gt, \\cdot, \\rightarrow$ |\n",
    "| special funcs | `\\sin, \\log, \\lim...` | $\\sin(x)$, $\\log(y)$, $\\lim_{x \\rightarrow 0}$ |\n",
    "| groups   | `{...}`    |  $10^10$ (wrong) vs. $10^{10}$ (grouped!) |\n",
    "| fraction | `\\frac{a}{b}` |  $\\frac{3}{4}$  |\n",
    "| integral | `\\int_{a}^{b}` |  $\\int_{-1}^{1}$ |\n",
    "| derivative | `\\frac{dy}{dx}` | $\\frac{dy}{dx}$ |\n",
    "| sum  | `\\sum_{a}^{b}`    | $\\sum_{x=1}^{10}$ |\n",
    "| big brackets | `\\left(...\\right)`  | $( \\frac{3}{4})$ (small) vs. $\\left( \\frac{3}{4} \\right)$ (big!) |\n",
    "| radicals  | `\\sqrt{...}`  | $\\sqrt{3}$ or $\\sqrt[4]{4}$ |\n",
    "| accents and fonts | `\\vec{x}, \\mathbf{y}, \\hat{z}...` | $\\vec{x}, \\mathbf{y}, \\hat{z}$ |\n",
    "| text inside math | `\\textrm{some text}` | $x_{\\textrm{long text label}}$ |"
   ]
  },
  {
   "cell_type": "markdown",
   "metadata": {
    "deletable": false,
    "editable": false,
    "nbgrader": {
     "cell_type": "markdown",
     "checksum": "7e64ed3da78d58bf394b21ca3a4d2d37",
     "grade": false,
     "grade_id": "cell-14ee93ed8a4e2df5",
     "locked": true,
     "schema_version": 3,
     "solution": false
    }
   },
   "source": [
    "### Part A (8 points)\n",
    "\n",
    "__Write all of the following formulas out in TeX in the cell below:__ use the variable names as described!\n",
    "\n",
    "* __The Pythagorean theorem:__ the sum of squares of two sides $a$ and $b$ of a right triangle equals the square of the length of the hypotenuse $c$.\n",
    "* __Newton's second law:__ in one dimension, force $F$ is equal to mass $m$ times the second derivative of position  $x$ with respect to time $t$.\n",
    "* __Simple integration:__ the integral of the function 1/x from 1 to 2 is equal to the logarithm of 2.\n",
    "* __The quadratic formula:__ solutions to the quadratic equation $ax^2 + bx + c = 0$ are minus b, plus or minus the square root of b squared minus 4 times a times c, all divided by 2 times a."
   ]
  },
  {
   "cell_type": "markdown",
   "metadata": {
    "deletable": false,
    "nbgrader": {
     "cell_type": "markdown",
     "checksum": "5705148ec3ce74e90e6d15919b48c546",
     "grade": true,
     "grade_id": "cell-19afc2343368c191",
     "locked": false,
     "points": 8,
     "schema_version": 3,
     "solution": true
    }
   },
   "source": [
    "c^2=\\sqrt(a^2+b^2)\n",
    "F=m*\\frac{(d^2)*x}{d(t^2)}\n",
    "\\int_{1}^{2}(1/x)dx=\\log2\n",
    "x=(-b\\pm\\sqrt{b^2-4ac})/(2a)\n"
   ]
  },
  {
   "cell_type": "markdown",
   "metadata": {
    "deletable": false,
    "editable": false,
    "nbgrader": {
     "cell_type": "markdown",
     "checksum": "0cd9a2182f0b246f204b034ed673b0cf",
     "grade": false,
     "grade_id": "cell-c104cb5d7019d394",
     "locked": true,
     "schema_version": 3,
     "solution": false
    }
   },
   "source": [
    "### Part B (6 points)\n",
    "\n",
    "Now let's put what you know together: in the final cell below, __pick your favorite physics or math equation__ (not on the list you just did), write it out in TeX notation, and then _describe it briefly using Markdown._"
   ]
  },
  {
   "cell_type": "markdown",
   "metadata": {
    "deletable": false,
    "nbgrader": {
     "cell_type": "markdown",
     "checksum": "b06a979cb8c21563dfe9995fd3ff467b",
     "grade": true,
     "grade_id": "cell-09918bb4842399b3",
     "locked": false,
     "points": 6,
     "schema_version": 3,
     "solution": true
    }
   },
   "source": [
    "E=m(c^2)\n",
    "An equation we learned in Modern Physics course last semester. E is energy, m is mass, c is the speed of light. "
   ]
  },
  {
   "cell_type": "code",
   "execution_count": null,
   "metadata": {},
   "outputs": [],
   "source": []
  }
 ],
 "metadata": {
  "kernelspec": {
   "display_name": "Python 3",
   "language": "python",
   "name": "python3"
  },
  "language_info": {
   "codemirror_mode": {
    "name": "ipython",
    "version": 3
   },
   "file_extension": ".py",
   "mimetype": "text/x-python",
   "name": "python",
   "nbconvert_exporter": "python",
   "pygments_lexer": "ipython3",
   "version": "3.6.8"
  }
 },
 "nbformat": 4,
 "nbformat_minor": 2
}
