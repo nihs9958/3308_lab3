{
 "cells": [
  {
   "cell_type": "markdown",
   "metadata": {
    "deletable": false,
    "editable": false,
    "nbgrader": {
     "cell_type": "markdown",
     "checksum": "61d9a11ec2e64fa1f1bcdb823db2d0bd",
     "grade": false,
     "grade_id": "cell-053f09c8a8a514e5",
     "locked": true,
     "schema_version": 3,
     "solution": false
    }
   },
   "source": [
    "# Homework #8\n",
    "\n",
    "## PHYS 2600, Spring 2019\n",
    "\n",
    "__Important notice:__ All cells in your notebook will be run, start to finish, using a fresh kernel when it is graded!  To make sure the graded notebook looks like what you expect, we recommend restarting the kernel and selecting \"Cells > Run All\" in the menu above before you submit."
   ]
  },
  {
   "cell_type": "code",
   "execution_count": 1,
   "metadata": {
    "deletable": false,
    "editable": false,
    "nbgrader": {
     "cell_type": "code",
     "checksum": "ffaa623c666157c51be6b3bcd33422a2",
     "grade": false,
     "grade_id": "cell-820114f143ecab47",
     "locked": true,
     "schema_version": 3,
     "solution": false
    }
   },
   "outputs": [],
   "source": [
    "%matplotlib inline\n",
    "import numpy as np\n",
    "import matplotlib.pyplot as plt"
   ]
  },
  {
   "cell_type": "markdown",
   "metadata": {
    "deletable": false,
    "editable": false,
    "nbgrader": {
     "cell_type": "markdown",
     "checksum": "47411badbcdd134151ead945a6998d9d",
     "grade": false,
     "grade_id": "cell-06bff42e9e16d26f",
     "locked": true,
     "schema_version": 3,
     "solution": false
    }
   },
   "source": [
    "If you worked collaboratively on this assignment, __include the names of your collaborators in the cell below:__"
   ]
  },
  {
   "cell_type": "markdown",
   "metadata": {},
   "source": []
  },
  {
   "cell_type": "markdown",
   "metadata": {
    "deletable": false,
    "editable": false,
    "nbgrader": {
     "cell_type": "markdown",
     "checksum": "319fdb88d6e629a1a62bca3356ab6db0",
     "grade": false,
     "grade_id": "cell-9bbcf2e8b7cbb637",
     "locked": true,
     "schema_version": 3,
     "solution": false
    }
   },
   "source": [
    "## 8.0 - Homework correction (3 points)\n",
    "\n",
    "In the cell below, explain and correct __one mistake__ you made on your _last graded_ homework assignment.  If you got a perfect score, great, tell us what your favorite problem was, or use the space to give any other feedback you might have on the class/tutorials/homework."
   ]
  },
  {
   "cell_type": "markdown",
   "metadata": {
    "deletable": false,
    "nbgrader": {
     "cell_type": "markdown",
     "checksum": "6a9073df1b893da8d2c6fb4427ce2445",
     "grade": true,
     "grade_id": "hw6-correction",
     "locked": false,
     "points": 3,
     "schema_version": 3,
     "solution": true
    }
   },
   "source": [
    "Can we have the solution of tuturial earlier? Sometimes when I am struggling on my HW and need to look up the solution of tutorial. I have to wait until the weekend to finish the hw. "
   ]
  },
  {
   "cell_type": "markdown",
   "metadata": {
    "deletable": false,
    "editable": false,
    "nbgrader": {
     "cell_type": "markdown",
     "checksum": "8f99b6b3c05e5a4dc46b5a3d99f4d70d",
     "grade": false,
     "grade_id": "cell-0bae418c18206141",
     "locked": true,
     "schema_version": 3,
     "solution": false
    }
   },
   "source": [
    "## 8.1 - Declarative programming and list comprehensions (18 points)\n",
    "\n",
    "_(Special note: this problem first appeared as problem T16.2 on tutorial 16.  If you already did some or all of it there, you may copy and paste your solutions here.  __The instructions have changed slightly__ to use automatic tests, so don't forget to re-read the instructions if you copy and paste!)_\n",
    "\n",
    "### Part A (6 points)\n",
    "\n",
    "Using a list comprehension, make a list of __powers of 1/2 from 0 to 10__, i.e. the 0th power through the 10th power including both ends.  (The last entry will be $1/2^{10} = 1/1024 \\approx 0.000977.$)\n",
    "\n",
    "__Save your list to the variable `powers_of_half`.__"
   ]
  },
  {
   "cell_type": "code",
   "execution_count": 2,
   "metadata": {
    "deletable": false,
    "nbgrader": {
     "cell_type": "code",
     "checksum": "02d2808f7c6350a8abb8c30f3fb030c1",
     "grade": false,
     "grade_id": "cell-e85efc707ce0f9d2",
     "locked": false,
     "schema_version": 3,
     "solution": true
    }
   },
   "outputs": [],
   "source": [
    "## YOUR CODE HERE\n",
    "powers_of_half = [ (1/2)**x for x in range(0,11) ]"
   ]
  },
  {
   "cell_type": "code",
   "execution_count": 3,
   "metadata": {
    "deletable": false,
    "editable": false,
    "nbgrader": {
     "cell_type": "code",
     "checksum": "c25df4164c3c5530d43dd18fd36b0b43",
     "grade": true,
     "grade_id": "cell-3f2af1a2db3d6034",
     "locked": true,
     "points": 2,
     "schema_version": 3,
     "solution": false
    }
   },
   "outputs": [
    {
     "name": "stdout",
     "output_type": "stream",
     "text": [
      "[1.0, 0.5, 0.25, 0.125, 0.0625, 0.03125, 0.015625, 0.0078125, 0.00390625, 0.001953125, 0.0009765625]\n"
     ]
    }
   ],
   "source": [
    "print(powers_of_half)\n"
   ]
  },
  {
   "cell_type": "markdown",
   "metadata": {
    "deletable": false,
    "editable": false,
    "nbgrader": {
     "cell_type": "markdown",
     "checksum": "b743e4188cf47eef7109d1aac1f2b958",
     "grade": false,
     "grade_id": "cell-aa427e157766efa8",
     "locked": true,
     "schema_version": 3,
     "solution": false
    }
   },
   "source": [
    "Now, again using a list comprehension, find the __sum of the square roots of all even integers from 1 to 30__.\n",
    "\n",
    "_(Hint: you'll need the `for...in...if...` notation to include the filter for even integers here.  The answer should be about 57.2.)_\n",
    "\n",
    "__Save your answer to the variable `sum_of_roots`.__"
   ]
  },
  {
   "cell_type": "code",
   "execution_count": 4,
   "metadata": {
    "deletable": false,
    "nbgrader": {
     "cell_type": "code",
     "checksum": "dffbea5059b91c1e72bebe7d4674aa92",
     "grade": false,
     "grade_id": "cell-ade806c3f765ec0d",
     "locked": false,
     "schema_version": 3,
     "solution": true
    }
   },
   "outputs": [],
   "source": [
    "## YOUR CODE HERE\n",
    "import numpy.testing as npt\n",
    "\n",
    "sum_of_roots = sum([ x**0.5 for x in range(1,31) if x%2 == 0 ])"
   ]
  },
  {
   "cell_type": "code",
   "execution_count": 5,
   "metadata": {
    "deletable": false,
    "editable": false,
    "nbgrader": {
     "cell_type": "code",
     "checksum": "d1d02e8b0311dcce636dc5585581f228",
     "grade": true,
     "grade_id": "cell-dd855f6da8b71b0e",
     "locked": true,
     "points": 2,
     "schema_version": 3,
     "solution": false
    }
   },
   "outputs": [
    {
     "name": "stdout",
     "output_type": "stream",
     "text": [
      "57.232086690264815\n"
     ]
    }
   ],
   "source": [
    "print(sum_of_roots)\n",
    "\n",
    "npt.assert_allclose(sum_of_roots, 57.23, atol=1e-2)"
   ]
  },
  {
   "cell_type": "markdown",
   "metadata": {
    "deletable": false,
    "editable": false,
    "nbgrader": {
     "cell_type": "markdown",
     "checksum": "77937013cbdf3f3a48dd43f66cf4342e",
     "grade": false,
     "grade_id": "cell-39696cab1c755a2a",
     "locked": true,
     "schema_version": 3,
     "solution": false
    }
   },
   "source": [
    "One more simple math question for a list comprehension: __what is the product of the first five powers of 3__ (i.e. the product of 3, 9, 27, 81, and 243)?\n",
    "\n",
    "_(Hint: this isn't a sum, so you'll need to make your own reduction with `functools.reduce()`.  You can use a `lambda` to do it all in one line, but using `def` to set up for the reduction first is fine too.)_\n",
    "\n",
    "__Save your answer to the variable `product_of_powers`.__"
   ]
  },
  {
   "cell_type": "code",
   "execution_count": 6,
   "metadata": {
    "deletable": false,
    "nbgrader": {
     "cell_type": "code",
     "checksum": "31d6776bc1b4a04293db44b9a49e4b4e",
     "grade": false,
     "grade_id": "cell-f8dd440342dda684",
     "locked": false,
     "schema_version": 3,
     "solution": true
    }
   },
   "outputs": [],
   "source": [
    "## YOUR CODE HERE\n",
    "import functools\n",
    "\n",
    "product_of_powers = functools.reduce(lambda x,y: x*y, [3,9,27,81,243])"
   ]
  },
  {
   "cell_type": "code",
   "execution_count": 7,
   "metadata": {
    "deletable": false,
    "editable": false,
    "nbgrader": {
     "cell_type": "code",
     "checksum": "13488cf7053d90d31655e71cb00f5201",
     "grade": true,
     "grade_id": "cell-52f3287bf0124593",
     "locked": true,
     "points": 2,
     "schema_version": 3,
     "solution": false
    }
   },
   "outputs": [
    {
     "name": "stdout",
     "output_type": "stream",
     "text": [
      "14348907\n"
     ]
    }
   ],
   "source": [
    "print(product_of_powers)\n",
    "\n",
    "npt.assert_allclose(product_of_powers, 3*9*27*81*243)"
   ]
  },
  {
   "cell_type": "markdown",
   "metadata": {
    "deletable": false,
    "editable": false,
    "nbgrader": {
     "cell_type": "markdown",
     "checksum": "c5742aa389fbb67b887866bcebeaffc1",
     "grade": false,
     "grade_id": "cell-72311c080b4ef3e5",
     "locked": true,
     "schema_version": 3,
     "solution": false
    }
   },
   "source": [
    "### Part B (6 points)\n",
    "\n",
    "Below is a function called `grade_to_GP`, which converts from letter grades to the equivalent grade-point score using the matching pair of lists `letter_grades` and `numeric_grades`.  Following that, I've given a list of letter grades - a distribution for some class in one semester at CU, perhaps.\n",
    "\n",
    "__Use a list comprehension and the `sum()` function__ to convert `some_letter_grades` into a numerical grade-point averge.\n",
    "\n",
    "__Save your answer to the variable `some_GPA`.__"
   ]
  },
  {
   "cell_type": "code",
   "execution_count": 8,
   "metadata": {
    "deletable": false,
    "editable": false,
    "nbgrader": {
     "cell_type": "code",
     "checksum": "6de785185eb0f7cfee684f209a8bc25c",
     "grade": false,
     "grade_id": "cell-c74227caa7325f7f",
     "locked": true,
     "schema_version": 3,
     "solution": false
    }
   },
   "outputs": [],
   "source": [
    "letter_grades = ['A', 'A-', 'B+', 'B', 'B-', 'C+', 'C', 'C-', 'D+', 'D', 'D-', 'F']\n",
    "numeric_grades = [4.0, 3.7, 3.3, 3.0, 2.7, 2.3, 2.0, 1.7, 1.3, 1.0, 0.7, 0.0]\n",
    "\n",
    "def grade_to_GP(g):\n",
    "    grade_i = letter_grades.index(g)\n",
    "    return numeric_grades[grade_i]\n",
    "\n",
    "some_letter_grades = [\n",
    "    'A', 'A-', 'C', 'B+', 'B+',\n",
    "    'A', 'A', 'A', 'A', 'A',\n",
    "    'F', 'A', 'A-', 'C', 'B-',\n",
    "    'B-', 'A-', 'B-', 'C+', 'B',\n",
    "    'D', 'B', 'C-', 'C+', 'B+',\n",
    "]"
   ]
  },
  {
   "cell_type": "code",
   "execution_count": 9,
   "metadata": {
    "deletable": false,
    "nbgrader": {
     "cell_type": "code",
     "checksum": "17680b335a4e6818ce996c70681cf7d0",
     "grade": false,
     "grade_id": "cell-2677b133d627eebe",
     "locked": false,
     "schema_version": 3,
     "solution": true
    }
   },
   "outputs": [],
   "source": [
    "## YOUR CODE HERE\n",
    "some_GPA = round(sum([grade_to_GP(g) for g in some_letter_grades])/25, 3)"
   ]
  },
  {
   "cell_type": "code",
   "execution_count": 10,
   "metadata": {
    "deletable": false,
    "editable": false,
    "nbgrader": {
     "cell_type": "code",
     "checksum": "b450bff7943c9671d5d9b3914b1582ad",
     "grade": true,
     "grade_id": "cell-10be4c5ec82fb0ff",
     "locked": true,
     "points": 3,
     "schema_version": 3,
     "solution": false
    }
   },
   "outputs": [
    {
     "name": "stdout",
     "output_type": "stream",
     "text": [
      "2.976\n"
     ]
    }
   ],
   "source": [
    "print(some_GPA)\n"
   ]
  },
  {
   "cell_type": "markdown",
   "metadata": {
    "deletable": false,
    "editable": false,
    "nbgrader": {
     "cell_type": "markdown",
     "checksum": "7b88cee60c4586e2ec889c210307c063",
     "grade": false,
     "grade_id": "cell-7e20a1d245a716fb",
     "locked": true,
     "schema_version": 3,
     "solution": false
    }
   },
   "source": [
    "Now consider instead the list `some_student_grades` below, which is a list of lists, each sub-list consisting of 5 letter grades.  (Each list could be the grades of a student for a single semester at CU.)  __Use a list comprehension to find a list of grade-point averages__ for each student, and __save it to the variable `student_GPAs`__ for testing. \n",
    "\n",
    "_(Hint: you can use a list comprehension inside of another list comprehension, which can be a nice way to deal with nested lists.)_"
   ]
  },
  {
   "cell_type": "code",
   "execution_count": 11,
   "metadata": {
    "deletable": false,
    "editable": false,
    "nbgrader": {
     "cell_type": "code",
     "checksum": "15b4d88ac619ca9a2d211deff2f8a23e",
     "grade": false,
     "grade_id": "cell-dd0a9d1f746f14f1",
     "locked": true,
     "schema_version": 3,
     "solution": false
    }
   },
   "outputs": [],
   "source": [
    "some_student_grades = [\n",
    "    ['B', 'B+', 'C-', 'B+', 'B+'],\n",
    "    ['A', 'A', 'A-', 'B', 'B+'],\n",
    "    ['C', 'A', 'A-', 'B-', 'C+'],\n",
    "    ['A-', 'A-', 'B+', 'A', 'F'],\n",
    "    ['D', 'B-', 'C', 'C+', 'B-'],\n",
    "    ['B+', 'A-', 'B', 'C+', 'B+'],\n",
    "]"
   ]
  },
  {
   "cell_type": "code",
   "execution_count": 12,
   "metadata": {
    "deletable": false,
    "nbgrader": {
     "cell_type": "code",
     "checksum": "ffbd8ecec04565936cae9cf9a06ca585",
     "grade": false,
     "grade_id": "cell-256838461da3f0fb",
     "locked": false,
     "schema_version": 3,
     "solution": true
    }
   },
   "outputs": [],
   "source": [
    "## YOUR CODE HERE\n",
    "student_GPAs = [round(sum([grade_to_GP(g) for g in one_student_grades])/5, 2) for one_student_grades in some_student_grades]"
   ]
  },
  {
   "cell_type": "code",
   "execution_count": 13,
   "metadata": {
    "deletable": false,
    "editable": false,
    "nbgrader": {
     "cell_type": "code",
     "checksum": "9e3e995b71c768598c8ef49936b90ec2",
     "grade": true,
     "grade_id": "cell-268bac37ebda9868",
     "locked": true,
     "points": 3,
     "schema_version": 3,
     "solution": false
    }
   },
   "outputs": [
    {
     "name": "stdout",
     "output_type": "stream",
     "text": [
      "[2.92, 3.6, 2.94, 2.94, 2.14, 3.12]\n"
     ]
    }
   ],
   "source": [
    "print(student_GPAs)\n",
    "npt.assert_allclose(student_GPAs, [2.92, 3.60, 2.94, 2.94, 2.14, 3.12], atol=1e-2)"
   ]
  },
  {
   "cell_type": "markdown",
   "metadata": {
    "deletable": false,
    "editable": false,
    "nbgrader": {
     "cell_type": "markdown",
     "checksum": "674c1deb911f78ea1b0b96e3848c454e",
     "grade": false,
     "grade_id": "cell-daeac5d152b911cd",
     "locked": true,
     "schema_version": 3,
     "solution": false
    }
   },
   "source": [
    "### Part C (6 points)\n",
    "\n",
    "The list in the next cell contains tuples of measurements `(P, T)` of pressure and temperature for 10 moles of nitrogen gas in an expandable box.  We'll assume the ideal gas law\n",
    "\n",
    "\\\\[\n",
    "PV = nRT\n",
    "\\\\]\n",
    "\n",
    "with the gas constant $R = 8.314$ J / (mol K), and remember that one kilopascal (kPa) is equal to 1000 $J/m^3$.\n",
    "\n",
    "Using a list comprehension, __create a list of volumes__ for each `(P, T)` tuple.  __Save your answer to the variable `vols`__."
   ]
  },
  {
   "cell_type": "code",
   "execution_count": 14,
   "metadata": {
    "deletable": false,
    "editable": false,
    "nbgrader": {
     "cell_type": "code",
     "checksum": "02087a760e7d9141ae9aa6d47e2ed58c",
     "grade": false,
     "grade_id": "cell-3171bb342402c093",
     "locked": true,
     "schema_version": 3,
     "solution": false
    }
   },
   "outputs": [
    {
     "data": {
      "text/plain": [
       "[(130, 300), (110, 340), (265, 550), (80, 460)]"
      ]
     },
     "execution_count": 14,
     "metadata": {},
     "output_type": "execute_result"
    }
   ],
   "source": [
    "gas_meas = [  # (P, T) in units (kPa, K)\n",
    "    (130, 300),\n",
    "    (110, 340),\n",
    "    (265, 550),\n",
    "    (80, 460),\n",
    "]\n",
    "gas_meas"
   ]
  },
  {
   "cell_type": "code",
   "execution_count": 15,
   "metadata": {
    "deletable": false,
    "nbgrader": {
     "cell_type": "code",
     "checksum": "0f13cf6980fdb28ef690fe786d8533f1",
     "grade": false,
     "grade_id": "cell-aa5ef20ffc02a125",
     "locked": false,
     "schema_version": 3,
     "solution": true
    }
   },
   "outputs": [],
   "source": [
    "## YOUR CODE HERE\n",
    "def F(item):\n",
    "    (P, T) = item\n",
    "    return 10*8.314*T/(P*1000)\n",
    "\n",
    "vols = [F(item) for item in gas_meas]"
   ]
  },
  {
   "cell_type": "code",
   "execution_count": 16,
   "metadata": {
    "deletable": false,
    "editable": false,
    "nbgrader": {
     "cell_type": "code",
     "checksum": "40e50e059154049e8ae044b2a2554363",
     "grade": true,
     "grade_id": "cell-e18309724378ce51",
     "locked": true,
     "points": 3,
     "schema_version": 3,
     "solution": false
    }
   },
   "outputs": [
    {
     "name": "stdout",
     "output_type": "stream",
     "text": [
      "[0.19186153846153847, 0.25697818181818183, 0.1725547169811321, 0.478055]\n"
     ]
    }
   ],
   "source": [
    "print(vols)\n",
    "\n",
    "npt.assert_allclose(vols, [0.192, 0.257, 0.173, 0.478], atol=1e-3)"
   ]
  },
  {
   "cell_type": "markdown",
   "metadata": {
    "deletable": false,
    "editable": false,
    "nbgrader": {
     "cell_type": "markdown",
     "checksum": "cf6dfa9d7326656ec5eacc6fbc2768a8",
     "grade": false,
     "grade_id": "cell-4002e80454e518e3",
     "locked": true,
     "schema_version": 3,
     "solution": false
    }
   },
   "source": [
    "Now a slightly different experiment.  We hold our box at room temperature $T = 300$ K and atmospheric pressure $P = 80$ kPa, and introduce a mixture of two gases, nitrogen (28 g/mol) and carbon dioxide (44 g/mol).  Based on the weight of the gases we add, we'd like to know the final volume of our expandable container.\n",
    "\n",
    "__Implement the function `vol_from_weights(m_N2, m_CO2)` below__, which should take the weights (in kg) of each of the two gases mixed in to the container and return the volume.  (With two species of gas, we still use the ideal gas law, just adding the number of moles from each gas to get the total $n$.)\n",
    "\n",
    "Then __use a list comprehension__ to get a list of volumes corresponding to each pair of mass values in `masses_N2` and `masses_CO2`.  (The masses represent 8 experiments total, for example the first experiment used a mixture of `masses_N2[0]` nitrogen and `masses_CO2[0]` carbon dioxide.)\n",
    "\n",
    "Oh, one more thing: we had a measurement error occur when one of our friends came by and leaned on the apparatus, throwing off the weight measurements badly.  __Include a filter to remove any experiments where the weight of either gas is over 1 kg.__\n",
    "\n",
    "__Save your answer to the variable `filtered_vols`__."
   ]
  },
  {
   "cell_type": "code",
   "execution_count": 17,
   "metadata": {
    "deletable": false,
    "editable": false,
    "nbgrader": {
     "cell_type": "code",
     "checksum": "3c865da2cd60b0705211080616ee898c",
     "grade": false,
     "grade_id": "cell-b9c81fd999bd7dbb",
     "locked": true,
     "schema_version": 3,
     "solution": false
    }
   },
   "outputs": [],
   "source": [
    "masses_N2 = [0.30989415, 4.30978635, 0.13382561, 0.1652629 , 0.01619259,\n",
    "       0.2213031 , 0.12360093, 0.06485605]\n",
    "masses_CO2 = [0.15333776, 0.0367193 , 0.14671116, 0.16766352, 0.11070479,\n",
    "       0.20085344, 0.21611008, 33.03265966]"
   ]
  },
  {
   "cell_type": "code",
   "execution_count": 18,
   "metadata": {
    "deletable": false,
    "nbgrader": {
     "cell_type": "code",
     "checksum": "68f6a52a5ba88aefce60e4d5afe2950c",
     "grade": false,
     "grade_id": "cell-0ba1e0cca3528c32",
     "locked": false,
     "schema_version": 3,
     "solution": true
    }
   },
   "outputs": [],
   "source": [
    "## YOUR CODE HERE\n",
    "filtered_vols = []\n",
    "for n_N2, n_CO2 in zip(masses_N2,masses_CO2):\n",
    "    V = ((n_N2/28) + (n_CO2/44)) *8.314*300/80\n",
    "    if V <= 1:\n",
    "        filtered_vols.append(V)"
   ]
  },
  {
   "cell_type": "code",
   "execution_count": 19,
   "metadata": {
    "deletable": false,
    "editable": false,
    "nbgrader": {
     "cell_type": "code",
     "checksum": "ef8d59f04a7e58621e6d19700e50f633",
     "grade": true,
     "grade_id": "cell-c2bb658b4c4d20d8",
     "locked": true,
     "points": 3,
     "schema_version": 3,
     "solution": false
    }
   },
   "outputs": [
    {
     "name": "stdout",
     "output_type": "stream",
     "text": [
      "[0.45371360248271103, 0.25296895405787334, 0.30282022881769477, 0.09647330958944805, 0.3887376892271104, 0.29075861065008113]\n"
     ]
    }
   ],
   "source": [
    "print(filtered_vols)\n",
    "\n",
    "npt.assert_allclose(filtered_vols, [0.454, 0.253, 0.303, 0.096, 0.389, 0.291], atol=1e-3)"
   ]
  },
  {
   "cell_type": "markdown",
   "metadata": {
    "deletable": false,
    "editable": false,
    "nbgrader": {
     "cell_type": "markdown",
     "checksum": "7cdbfc7b128e70910446ecfc27f310bd",
     "grade": false,
     "grade_id": "cell-cb620d8a0bd87c63",
     "locked": true,
     "schema_version": 3,
     "solution": false
    }
   },
   "source": [
    "## 8.2 - Working with numeric derivatives (14 points)\n",
    "\n",
    "### Part A (6 points)\n",
    "\n",
    "For each of the following functions, use `np.gradient()` to construct a numerical approximation to its derivative over the interval $0 \\leq x \\leq 1$, using a linspace of __10 points__.  Then __plot the numerical derivative as a dashed line__ and __plot the analytic derivative as a black, solid line__ on the same plot.\n",
    "\n",
    "(i) $f(x) = \\frac{1}{4} x^4$"
   ]
  },
  {
   "cell_type": "code",
   "execution_count": 20,
   "metadata": {
    "deletable": false,
    "nbgrader": {
     "cell_type": "code",
     "checksum": "ba0a1e18337f5a7926ee0b31206c61e1",
     "grade": true,
     "grade_id": "cell-a959d070a636609d",
     "locked": false,
     "points": 2,
     "schema_version": 3,
     "solution": true
    }
   },
   "outputs": [
    {
     "data": {
      "text/plain": [
       "[<matplotlib.lines.Line2D at 0x7fb40f019f28>]"
      ]
     },
     "execution_count": 20,
     "metadata": {},
     "output_type": "execute_result"
    },
    {
     "data": {
      "image/png": "[encoded data removed]",
      "text/plain": [
       "<Figure size 432x288 with 1 Axes>"
      ]
     },
     "metadata": {
      "needs_background": "light"
     },
     "output_type": "display_data"
    }
   ],
   "source": [
    "x = np.linspace(0,1,10)\n",
    "dx = x[1] - x[0]\n",
    "\n",
    "## YOUR CODE HERE\n",
    "def F(x):\n",
    "    return x**4 / 4\n",
    "\n",
    "plt.plot(x,x**3,'-',color = 'black')\n",
    "plt.plot(x,np.gradient(F(x),dx),'--')"
   ]
  },
  {
   "cell_type": "markdown",
   "metadata": {},
   "source": [
    "(ii) $g(x) = \\ln(x+1)$"
   ]
  },
  {
   "cell_type": "code",
   "execution_count": 21,
   "metadata": {
    "deletable": false,
    "nbgrader": {
     "cell_type": "code",
     "checksum": "8a3eac3c2d329f82847960eaa3c5b813",
     "grade": true,
     "grade_id": "cell-6b7f7ee39383685f",
     "locked": false,
     "points": 2,
     "schema_version": 3,
     "solution": true
    }
   },
   "outputs": [
    {
     "data": {
      "text/plain": [
       "[<matplotlib.lines.Line2D at 0x7fb40ecb1630>]"
      ]
     },
     "execution_count": 21,
     "metadata": {},
     "output_type": "execute_result"
    },
    {
     "data": {
      "image/png": "[encoded data removed]",
      "text/plain": [
       "<Figure size 432x288 with 1 Axes>"
      ]
     },
     "metadata": {
      "needs_background": "light"
     },
     "output_type": "display_data"
    }
   ],
   "source": [
    "## YOUR CODE HERE\n",
    "import math\n",
    "\n",
    "def G(x):\n",
    "    x = x+1\n",
    "    return [math.log(num) for num in x]\n",
    "\n",
    "plt.plot(x,1/(x+1),'-',color = 'black')\n",
    "plt.plot(x,np.gradient(G(x),dx),'--')"
   ]
  },
  {
   "cell_type": "markdown",
   "metadata": {},
   "source": [
    "(iii) $h(x) = e^{-x^2}$"
   ]
  },
  {
   "cell_type": "code",
   "execution_count": 22,
   "metadata": {
    "deletable": false,
    "nbgrader": {
     "cell_type": "code",
     "checksum": "32e7800a7186bf0d6cc33f5ff668bf8d",
     "grade": true,
     "grade_id": "cell-77bcc1e3158d7a26",
     "locked": false,
     "points": 2,
     "schema_version": 3,
     "solution": true
    }
   },
   "outputs": [
    {
     "data": {
      "text/plain": [
       "[<matplotlib.lines.Line2D at 0x7fb40ec14518>]"
      ]
     },
     "execution_count": 22,
     "metadata": {},
     "output_type": "execute_result"
    },
    {
     "data": {
      "image/png": "[encoded data removed]",
      "text/plain": [
       "<Figure size 432x288 with 1 Axes>"
      ]
     },
     "metadata": {
      "needs_background": "light"
     },
     "output_type": "display_data"
    }
   ],
   "source": [
    "## YOUR CODE HERE\n",
    "from math import e\n",
    "\n",
    "def H(x):\n",
    "    return e**(-(x**2))\n",
    "\n",
    "plt.plot(x,-2*x*e**(-(x**2)),'-',color = 'black')\n",
    "plt.plot(x,np.gradient(H(x),dx),'--')"
   ]
  },
  {
   "cell_type": "markdown",
   "metadata": {
    "deletable": false,
    "editable": false,
    "nbgrader": {
     "cell_type": "markdown",
     "checksum": "a324ba1ae82d4bd060af6751fb7147ab",
     "grade": false,
     "grade_id": "cell-86a830021711c32c",
     "locked": true,
     "schema_version": 3,
     "solution": false
    }
   },
   "source": [
    "### Part B (8 points)\n",
    "\n",
    "_(Adapted from Langtangen B.8.)_\n",
    "\n",
    "Consider the following function:\n",
    "\n",
    "\\\\[\n",
    "f(x) = \\cos (e^{10x}) \\\\\n",
    "\\\\]\n",
    "\n",
    "Use `np.gradient` to construct a numerical approximations to its derivative $f'(x)$, in the interval $0 \\leq x \\leq 1$.  Then __plot your numerical result for $f'(x)$__, using the linspace `x_f` provided below with 5000 points in it.\n",
    "\n",
    "_(Hint: the y-range of your plot should go from about -5000 to 5000.  If it goes from -1 to 1, something is wrong with your derivative!)_"
   ]
  },
  {
   "cell_type": "code",
   "execution_count": 23,
   "metadata": {
    "deletable": false,
    "nbgrader": {
     "cell_type": "code",
     "checksum": "ec46dc644483df996a057c3a025b3302",
     "grade": true,
     "grade_id": "cell-c3167ebeb268dea5",
     "locked": false,
     "points": 2,
     "schema_version": 3,
     "solution": true
    }
   },
   "outputs": [
    {
     "data": {
      "text/plain": [
       "[<matplotlib.lines.Line2D at 0x7fb40ebad128>]"
      ]
     },
     "execution_count": 23,
     "metadata": {},
     "output_type": "execute_result"
    },
    {
     "data": {
      "image/png": "[encoded data removed]",
      "text/plain": [
       "<Figure size 432x288 with 1 Axes>"
      ]
     },
     "metadata": {
      "needs_background": "light"
     },
     "output_type": "display_data"
    }
   ],
   "source": [
    "x_d = np.linspace(0,1,5000)\n",
    "\n",
    "## YOUR CODE HERE\n",
    "def F1(x):\n",
    "    return np.cos(e**(10*x))\n",
    "\n",
    "x_f = np.gradient(F1(x_d), 1/5000)\n",
    "\n",
    "plt.plot(x_d,x_f)\n"
   ]
  },
  {
   "cell_type": "markdown",
   "metadata": {
    "deletable": false,
    "editable": false,
    "nbgrader": {
     "cell_type": "markdown",
     "checksum": "8ff27871befc29eb77d6b9bb01b06e69",
     "grade": false,
     "grade_id": "cell-5e3d88c87656c1d8",
     "locked": true,
     "schema_version": 3,
     "solution": false
    }
   },
   "source": [
    "The _analytic_ derivative of this function can be calculated in this case, giving:\n",
    "\n",
    "\\\\[\n",
    "f'(x) = -10 e^{10x} \\sin (e^{10x}).\n",
    "\\\\]\n",
    "\n",
    "__Plot the analytic derivative $f'(x)$ below__, using the same discrete x-range `x_d` from above."
   ]
  },
  {
   "cell_type": "code",
   "execution_count": 24,
   "metadata": {
    "deletable": false,
    "nbgrader": {
     "cell_type": "code",
     "checksum": "ab7d78eedb9608264fbb3bdbd7724af8",
     "grade": true,
     "grade_id": "cell-e9b4a83a0a23138b",
     "locked": false,
     "points": 2,
     "schema_version": 3,
     "solution": true
    }
   },
   "outputs": [
    {
     "data": {
      "text/plain": [
       "[<matplotlib.lines.Line2D at 0x7fb40eb825f8>]"
      ]
     },
     "execution_count": 24,
     "metadata": {},
     "output_type": "execute_result"
    },
    {
     "data": {
      "image/png": "[encoded data removed]",
      "text/plain": [
       "<Figure size 432x288 with 1 Axes>"
      ]
     },
     "metadata": {
      "needs_background": "light"
     },
     "output_type": "display_data"
    }
   ],
   "source": [
    "## YOUR CODE HERE\n",
    "plt.plot(x_d,-10*e**(10*x_d) * np.sin(e**(10*x_d)))"
   ]
  },
  {
   "cell_type": "markdown",
   "metadata": {
    "deletable": false,
    "editable": false,
    "nbgrader": {
     "cell_type": "markdown",
     "checksum": "5168a2fd103362383e5577dd22fecdab",
     "grade": false,
     "grade_id": "cell-57f7aa98eda851b8",
     "locked": true,
     "schema_version": 3,
     "solution": false
    }
   },
   "source": [
    "In the Markdown cell below, __explain why the two plots look so different__, even though they use the same discrete grid of points `x_d`.\n",
    "\n",
    "Then in the code cell after that, __copy/paste your code for plotting the numerical `f'(x)`__, and increase the number of points until it roughly matches the plot of the analytic derivative by eye."
   ]
  },
  {
   "cell_type": "markdown",
   "metadata": {
    "deletable": false,
    "nbgrader": {
     "cell_type": "markdown",
     "checksum": "6b778379bfee0b25411b48848be06f47",
     "grade": true,
     "grade_id": "cell-2680bbaca9b5d955",
     "locked": false,
     "points": 2,
     "schema_version": 3,
     "solution": true
    }
   },
   "source": [
    "_Type your answer here using Markdown._"
   ]
  },
  {
   "cell_type": "code",
   "execution_count": 25,
   "metadata": {
    "deletable": false,
    "nbgrader": {
     "cell_type": "code",
     "checksum": "dbb1058cb35feae94a0ec9a95234b419",
     "grade": true,
     "grade_id": "cell-9f65abfa1bc230bf",
     "locked": false,
     "points": 2,
     "schema_version": 3,
     "solution": true
    }
   },
   "outputs": [
    {
     "data": {
      "text/plain": [
       "[<matplotlib.lines.Line2D at 0x7fb40eade320>]"
      ]
     },
     "execution_count": 25,
     "metadata": {},
     "output_type": "execute_result"
    },
    {
     "data": {
      "image/png": "[encoded data removed]",
      "text/plain": [
       "<Figure size 432x288 with 1 Axes>"
      ]
     },
     "metadata": {
      "needs_background": "light"
     },
     "output_type": "display_data"
    }
   ],
   "source": [
    "# Copy your plotting code for the numerical f'(x) here,\n",
    "# and try to change the number of points in x_d!\n",
    "\n",
    "## YOUR CODE HERE\n",
    "number_of_points = 300000\n",
    "\n",
    "x_d = np.linspace(0,1,number_of_points)\n",
    "\n",
    "def F1(x):\n",
    "    return np.cos(e**(10*x))\n",
    "\n",
    "x_f = np.gradient(F1(x_d), 1/number_of_points)\n",
    "\n",
    "plt.plot(x_d,x_f)"
   ]
  },
  {
   "cell_type": "markdown",
   "metadata": {
    "deletable": false,
    "editable": false,
    "nbgrader": {
     "cell_type": "markdown",
     "checksum": "51db9044dd2a175062efb562613e5b31",
     "grade": false,
     "grade_id": "cell-8b40f421040d6df3",
     "locked": true,
     "schema_version": 3,
     "solution": false
    }
   },
   "source": [
    "## 8.3 - The other Newton's law (14 points)\n",
    "\n",
    "_(Adapted from Langtangen E.12)_\n",
    "\n",
    "We all know about Newton's three laws of motion, but there's actually another 'law' discovered by and named after Sir Isaac Newton: __Newton's law of cooling__.  The law states that if an object at temperature $T$ exists in an environment with ambient temperature $T_a < T$, then the rate of heat loss can be described using the simple differential equation\n",
    "\n",
    "$$\n",
    "\\frac{dT}{dt} = -h (T - T_a)\n",
    "$$\n",
    "\n",
    "where the (positive) heat loss constant $h$ must be determined experimentally for a given object (and environment, if different.)\n",
    "\n",
    "### Part A (4 points)\n",
    "\n",
    "Write a _discrete_ version of this differential equation using Euler's method, i.e. rewrite it in the form\n",
    "\n",
    "$$\n",
    "T_{i+1} = T_i + F(t_i, T_i) \\Delta t\n",
    "$$"
   ]
  },
  {
   "cell_type": "markdown",
   "metadata": {
    "deletable": false,
    "nbgrader": {
     "cell_type": "markdown",
     "checksum": "22dfa4c9a584ecde5bd6838b101bcb99",
     "grade": true,
     "grade_id": "cell-83a9ea88dbbda6a7",
     "locked": false,
     "points": 2,
     "schema_version": 3,
     "solution": true
    }
   },
   "source": [
    "$$\n",
    "T_{i+1} = T_i + -h (T_i - T_a) (t_{i+1}-t_i)\n",
    "$$"
   ]
  },
  {
   "cell_type": "markdown",
   "metadata": {},
   "source": [
    "Suppose a freshly brewed mug of coffee has an initial temperature of $T = 85.0^\\circ\\ C$ (185 degrees F, which is too hot to drink!)  After waiting 30 seconds, you measure the temperature again and it has reduced slightly to $82.5^\\circ C$.  The room is at a constant temperature of $20^\\circ $. \n",
    "\n",
    "Using the discrete equation you just derived, __estimate the constant $h$ for the cup of coffee.__"
   ]
  },
  {
   "cell_type": "markdown",
   "metadata": {
    "deletable": false,
    "nbgrader": {
     "cell_type": "markdown",
     "checksum": "cc96925597dc4a50e9b7863be60a5feb",
     "grade": true,
     "grade_id": "cell-a82adf3805c2b1d3",
     "locked": false,
     "points": 2,
     "schema_version": 3,
     "solution": true
    }
   },
   "source": [
    "h=0.001282"
   ]
  },
  {
   "cell_type": "markdown",
   "metadata": {
    "deletable": false,
    "editable": false,
    "nbgrader": {
     "cell_type": "markdown",
     "checksum": "0dc94f8db82a998656734af5b1cdb42c",
     "grade": false,
     "grade_id": "cell-176ec373851d252d",
     "locked": true,
     "schema_version": 3,
     "solution": false
    }
   },
   "source": [
    "### Part B (6 points)\n",
    "\n",
    "__Implement the function `cool_solve` below__, which should carry out a numerical solution of the differential equation you wrote in part A.  (Refer back to lecture/tutorial 17 and the `euler_solve` function we wrote there if you're not sure how to set this up.)"
   ]
  },
  {
   "cell_type": "code",
   "execution_count": 26,
   "metadata": {
    "deletable": false,
    "nbgrader": {
     "cell_type": "code",
     "checksum": "532e9b738abf1d92f2200bdf2f0a64e5",
     "grade": false,
     "grade_id": "cell-cb3e21c3bae3ffe4",
     "locked": false,
     "schema_version": 3,
     "solution": true
    }
   },
   "outputs": [],
   "source": [
    "def cool_solve(T0, Ta, h, t_max, dt):\n",
    "    \"\"\"\n",
    "    Solve Newton's law of cooling using Euler's method,\n",
    "    for the given step size dt.\n",
    "    \n",
    "    Arguments:\n",
    "    ----\n",
    "    * T0: initial temperature of the cooling object, in degrees C.\n",
    "    * Ta: ambient temperature of the environment, in degrees C.\n",
    "    * h: heat constant, in inverse seconds.\n",
    "    * t_max: how long to run the solution for, in seconds.\n",
    "    * dt: step size to use, in seconds.\n",
    "    \n",
    "    Returns:\n",
    "    ----\n",
    "    * t_sol, T_sol: arrays containing the discretized interval {t_i} and the solution {T_i}.\n",
    "    \"\"\"\n",
    "    \n",
    "    ## YOUR CODE HERE\n",
    "    t_sol = np.arange(0,t_max+dt,dt)\n",
    "    index_num = int(t_max/dt)\n",
    "    T_sol = np.zeros(index_num+1)\n",
    "    T_sol[0] = 85\n",
    "\n",
    "    for i in range(0,index_num,1):\n",
    "        T_sol[i+1] = T_sol[i] - h*(T_sol[i]-Ta)*dt\n",
    "\n",
    "    return (t_sol,T_sol)\n",
    "    "
   ]
  },
  {
   "cell_type": "code",
   "execution_count": 27,
   "metadata": {
    "deletable": false,
    "editable": false,
    "nbgrader": {
     "cell_type": "code",
     "checksum": "b1a73a32a49c746362054330aa742997",
     "grade": true,
     "grade_id": "cell-2bbd312aae2ab1dc",
     "locked": true,
     "points": 4,
     "schema_version": 3,
     "solution": false
    }
   },
   "outputs": [],
   "source": [
    "# Hidden testing cell - do not delete!\n",
    "import numpy.testing as npt\n"
   ]
  },
  {
   "cell_type": "markdown",
   "metadata": {
    "deletable": false,
    "editable": false,
    "nbgrader": {
     "cell_type": "markdown",
     "checksum": "bf714da0561121bd79bc4aec0586e511",
     "grade": false,
     "grade_id": "cell-9b1d47e64cd9ccf1",
     "locked": true,
     "schema_version": 3,
     "solution": false
    }
   },
   "source": [
    "Now __make a plot of your solution in the cell below__, using a step size of $dt = 1$ s and evolving for 1 hour (3600 s.)"
   ]
  },
  {
   "cell_type": "code",
   "execution_count": 28,
   "metadata": {
    "deletable": false,
    "nbgrader": {
     "cell_type": "code",
     "checksum": "70a45eaf714775035451a9a167bdfa17",
     "grade": true,
     "grade_id": "cell-2a13805bea196c2b",
     "locked": false,
     "points": 2,
     "schema_version": 3,
     "solution": true
    }
   },
   "outputs": [
    {
     "data": {
      "text/plain": [
       "[<matplotlib.lines.Line2D at 0x7fb40eac1cc0>]"
      ]
     },
     "execution_count": 28,
     "metadata": {},
     "output_type": "execute_result"
    },
    {
     "data": {
      "image/png": "[encoded data removed]",
      "text/plain": [
       "<Figure size 432x288 with 1 Axes>"
      ]
     },
     "metadata": {
      "needs_background": "light"
     },
     "output_type": "display_data"
    }
   ],
   "source": [
    "## YOUR CODE HERE\n",
    "(t_sol, T_sol) = cool_solve(85, 20, 0.001282, 3600, 1)\n",
    "plt.plot(t_sol, T_sol)"
   ]
  },
  {
   "cell_type": "markdown",
   "metadata": {
    "deletable": false,
    "editable": false,
    "nbgrader": {
     "cell_type": "markdown",
     "checksum": "e89ac712fd03a6feddfe2dec959dab29",
     "grade": false,
     "grade_id": "cell-ca71eef167506870",
     "locked": true,
     "schema_version": 3,
     "solution": false
    }
   },
   "source": [
    "### Part C (4 points)\n",
    "\n",
    "The coffee will be safe to drink at about $60^\\circ C$ ($140^\\circ F$); how long do you have to wait to have a sip?  How long will it take to reach $25^\\circ C$, which is generally considered room temperature?\n",
    "\n",
    "__Use the numerical solution that you plotted in part B to answer this question;__ there is an analytic solution, but I want the Euler's method answer, not the exact analytic answer.  (They're not that far apart, really; you could use the analytic answer to check your work here.)\n",
    "\n",
    "_(Hint: remember, the `.argmin()` function will find the index of the smallest value in an array.  You can use that to find where your solution for `T` passes closest to a certain value, and then find the corresponding time.)_"
   ]
  },
  {
   "cell_type": "code",
   "execution_count": 45,
   "metadata": {
    "deletable": false,
    "nbgrader": {
     "cell_type": "code",
     "checksum": "a029d0cd8b9c9713d389a59909c9bad2",
     "grade": true,
     "grade_id": "cell-79a455c1edd8b9cb",
     "locked": false,
     "points": 4,
     "schema_version": 3,
     "solution": true
    }
   },
   "outputs": [
    {
     "name": "stdout",
     "output_type": "stream",
     "text": [
      "Wait for 379 s\n",
      "It takes 2000 s\n"
     ]
    }
   ],
   "source": [
    "## YOUR CODE HERE\n",
    "def Find(C):\n",
    "    for T,t in zip(T_sol,t_sol):\n",
    "        if T <= C:\n",
    "            return t\n",
    "\n",
    "print(\"Wait for\",Find(60),\"s\")\n",
    "print(\"It takes\",Find(25),\"s\")"
   ]
  },
  {
   "cell_type": "code",
   "execution_count": null,
   "metadata": {},
   "outputs": [],
   "source": []
  }
 ],
 "metadata": {
  "kernelspec": {
   "display_name": "Python 3",
   "language": "python",
   "name": "python3"
  },
  "language_info": {
   "codemirror_mode": {
    "name": "ipython",
    "version": 3
   },
   "file_extension": ".py",
   "mimetype": "text/x-python",
   "name": "python",
   "nbconvert_exporter": "python",
   "pygments_lexer": "ipython3",
   "version": "3.6.8"
  }
 },
 "nbformat": 4,
 "nbformat_minor": 2
}
