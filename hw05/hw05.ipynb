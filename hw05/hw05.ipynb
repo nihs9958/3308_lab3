{
 "cells": [
  {
   "cell_type": "markdown",
   "metadata": {
    "deletable": false,
    "editable": false,
    "nbgrader": {
     "cell_type": "markdown",
     "checksum": "f1dd040b5ef2cf26688f752247e78a4c",
     "grade": false,
     "grade_id": "cell-053f09c8a8a514e5",
     "locked": true,
     "schema_version": 3,
     "solution": false
    }
   },
   "source": [
    "# Homework #5\n",
    "\n",
    "## PHYS 2600, Spring 2019\n",
    "\n",
    "__Important notice:__ All cells in your notebook will be run, start to finish, using a fresh kernel when it is graded!  To make sure the graded notebook looks like what you expect, we recommend restarting the kernel and selecting \"Cells > Run All\" in the menu above before you submit."
   ]
  },
  {
   "cell_type": "code",
   "execution_count": 9,
   "metadata": {
    "deletable": false,
    "editable": false,
    "nbgrader": {
     "cell_type": "code",
     "checksum": "4ea2b965cc4f3ea87140d1d82a272df3",
     "grade": false,
     "grade_id": "cell-809b1d64ca76df5c",
     "locked": true,
     "schema_version": 3,
     "solution": false
    }
   },
   "outputs": [],
   "source": [
    "# Import cell\n",
    "\n",
    "%matplotlib inline\n",
    "import numpy as np\n",
    "import matplotlib.pyplot as plt"
   ]
  },
  {
   "cell_type": "markdown",
   "metadata": {
    "deletable": false,
    "editable": false,
    "nbgrader": {
     "cell_type": "markdown",
     "checksum": "47411badbcdd134151ead945a6998d9d",
     "grade": false,
     "grade_id": "cell-06bff42e9e16d26f",
     "locked": true,
     "schema_version": 3,
     "solution": false
    }
   },
   "source": [
    "If you worked collaboratively on this assignment, __include the names of your collaborators in the cell below:__"
   ]
  },
  {
   "cell_type": "markdown",
   "metadata": {},
   "source": []
  },
  {
   "cell_type": "markdown",
   "metadata": {
    "deletable": false,
    "editable": false,
    "nbgrader": {
     "cell_type": "markdown",
     "checksum": "c3cdf2713aaa67d248151bed209caac5",
     "grade": false,
     "grade_id": "cell-9bbcf2e8b7cbb637",
     "locked": true,
     "schema_version": 3,
     "solution": false
    }
   },
   "source": [
    "## 5.0 - Homework correction (3 points)\n",
    "\n",
    "In the cell below, explain and correct __one mistake__ you made on your _last graded_ homework assignment.  If you got a perfect score, great, tell us what your favorite problem was, or use the space to give any other feedback you might have on the class/tutorials/homework."
   ]
  },
  {
   "cell_type": "markdown",
   "metadata": {
    "deletable": false,
    "nbgrader": {
     "cell_type": "markdown",
     "checksum": "6a9073df1b893da8d2c6fb4427ce2445",
     "grade": true,
     "grade_id": "hw6-correction",
     "locked": false,
     "points": 3,
     "schema_version": 3,
     "solution": true
    }
   },
   "source": [
    "for the input 25,\n",
    "\n",
    "from math import sin\n",
    "def pendulum_T(theta_0, num_points=1000):\n",
    "    g = 9.8  ## m/s^2\n",
    "    L = 1    ## m\n",
    "    \n",
    "    ## YOUR CODE HERE\n",
    "    Const = 4*(L/g)**(1/2)\n",
    "    x = np.linspace(0,np.pi/2,1000)\n",
    "    y = [1/(1-(sin(theta_0/2))**2*(sin(i))**2)**0.5 for i in x]\n",
    "    T = Const*np.trapz(y,x)\n",
    "    return T\n",
    "    \n",
    "    You left the comment \"y should be an array, and you forgot the square root in the denominator!\"\n",
    "    I am pretty sure y is array as I wrote \"for i in x\" at the end which let y take the x array and become array. Am I wrong with that?"
   ]
  },
  {
   "cell_type": "markdown",
   "metadata": {
    "deletable": false,
    "editable": false,
    "nbgrader": {
     "cell_type": "markdown",
     "checksum": "c070ea3f4d138799976555e9635169b7",
     "grade": false,
     "grade_id": "cell-9fa5c6f6809998d4",
     "locked": true,
     "schema_version": 3,
     "solution": false
    }
   },
   "source": [
    "## 5.1 - Roller-coaster physics (18 points)\n",
    "\n",
    "A frictionless cart is started from rest on a track which has a complicated shape.  As a function of the cart position `x`, the gravitational potential energy of the cart on the track is equal to:\n",
    "\n",
    "\\\\[\n",
    "V(x) = -x^5 + x^4 - 200x^2 + 1500 x + 2800\n",
    "\\\\]\n",
    "\n",
    "\n",
    "__Run the cell below to draw a plot of the potential energy__ (which, in this case, is also a sketch of the track itself.)"
   ]
  },
  {
   "cell_type": "code",
   "execution_count": 10,
   "metadata": {
    "deletable": false,
    "editable": false,
    "nbgrader": {
     "cell_type": "code",
     "checksum": "49e5586f261e5115c61faf7a71f8a085",
     "grade": false,
     "grade_id": "cell-a1dd3a7ad02cd37b",
     "locked": true,
     "schema_version": 3,
     "solution": false
    }
   },
   "outputs": [
    {
     "data": {
      "text/plain": [
       "Text(0, 0.5, 'V(x)')"
      ]
     },
     "execution_count": 10,
     "metadata": {},
     "output_type": "execute_result"
    },
    {
     "data": {
      "image/png": "[encoded data removed]",
      "text/plain": [
       "<Figure size 432x288 with 1 Axes>"
      ]
     },
     "metadata": {
      "needs_background": "light"
     },
     "output_type": "display_data"
    }
   ],
   "source": [
    "x = np.linspace(-8,8,200)\n",
    "\n",
    "def cart_V(x):\n",
    "    return -x**5 + x**4 - 200*x**2 + 1500*x + 2800\n",
    "\n",
    "y = cart_V(x)\n",
    "plt.plot(x,y)\n",
    "plt.xlabel('x (m)')\n",
    "plt.ylabel('V(x)')"
   ]
  },
  {
   "cell_type": "markdown",
   "metadata": {
    "deletable": false,
    "editable": false,
    "nbgrader": {
     "cell_type": "markdown",
     "checksum": "198688de3b3f00ea549fcd0d1f1cd8be",
     "grade": false,
     "grade_id": "cell-487ef2d9f53a9114",
     "locked": true,
     "schema_version": 3,
     "solution": false
    }
   },
   "source": [
    "The track slopes up on the left-hand side, so the initial potential increases sharply if we start the cart at more negative $x$.  On the right, the potential slopes down sharply.  The track ends at $x=+8$ meters, at which point the cart falls off (this is a very exciting ride.)\n",
    "\n",
    "Instead of looking at the detailed motion of the cart on the track, we can use __conservation of energy__ to ask about properties of its _overall_ path.  In particular, consider the total energy\n",
    "\n",
    "\\\\[\n",
    "E = T(x) + V(x).\n",
    "\\\\]\n",
    "\n",
    "Since we know $V(x)$ in full, we can compute the kinetic energy vs. position $T(x)$ for the cart once we know $E$.  But kinetic energy has an important restriction that $V(x)$ does not:  __kinetic energy can never be negative__!  In other words, if $T(x)$ _would_ be negative for any $x$, then that point is _not reachable_ by a cart with that much energy.  (Such a region is said to be \"classically forbidden\".)\n",
    "\n",
    "### Part A (8 points)\n",
    "\n",
    "__Implement the function__ `cart_makes_it_to_end()` below, which considers the motion of a cart _starting from rest_ (so $T(x_0) = 0$) at position `x0`, returning `True` if the cart will make it all the way to $x=+8$ m, and `False` otherwise.  \n",
    "\n",
    "Remember, we don't have to worry about the _details_ of the motion: all you need to answer is whether the cart's total energy $E$ is large enough that $T(x)$ will always be positive between $x_0$ and the end of the track at $x = +8$ m.\n",
    "\n",
    "_(Hint: the `np.any()` or `np.all()` functions let you test conditions on a whole array like T(x).)_\n",
    "\n"
   ]
  },
  {
   "cell_type": "code",
   "execution_count": 48,
   "metadata": {
    "deletable": false,
    "nbgrader": {
     "cell_type": "code",
     "checksum": "19135131a46a94d6aa3b483dcbe07d02",
     "grade": false,
     "grade_id": "cell-d6a62565e6ba77a0",
     "locked": false,
     "schema_version": 3,
     "solution": true
    }
   },
   "outputs": [],
   "source": [
    "def cart_makes_it_to_end(x0, xend, V, num_points=1000):\n",
    "    \"\"\"\n",
    "    Given the 1-d potential V(x), determines whether a cart\n",
    "    starting from rest at position x=x0 will make it to the\n",
    "    right end of the track.\n",
    "    \n",
    "    \n",
    "    Arguments:\n",
    "    ----\n",
    "    x0: x-position where cart begins from rest.\n",
    "    xend: x-position where the track ends.\n",
    "    V: potential energy function V(x) to test\n",
    "    \n",
    "    num_points: number of x-points to test in the range (x0,xend) [default: 1000.]\n",
    "\n",
    "    \n",
    "    Returns:\n",
    "    ----\n",
    "    `True` if the cart can get to xend, `False` otherwise.\n",
    "    \n",
    "    \"\"\"\n",
    "    \n",
    "    ## YOUR CODE HERE\n",
    "    x = np.linspace(x0,xend,1000)\n",
    "    T = cart_V(x0) - np.max(V(x))\n",
    "        \n",
    "    if T >= 0:\n",
    "        return True\n",
    "    else:\n",
    "        return False\n",
    "    \n"
   ]
  },
  {
   "cell_type": "code",
   "execution_count": 47,
   "metadata": {
    "deletable": false,
    "editable": false,
    "nbgrader": {
     "cell_type": "code",
     "checksum": "014e4e4f2b74dbd7d475096fe1ff0a34",
     "grade": true,
     "grade_id": "cell-0f085753c2ee5e3c",
     "locked": true,
     "points": 4,
     "schema_version": 3,
     "solution": false
    }
   },
   "outputs": [
    {
     "name": "stdout",
     "output_type": "stream",
     "text": [
      "False\n",
      "True\n"
     ]
    }
   ],
   "source": [
    "# Simple tests from plot above:\n",
    "\n",
    "# Cart obviously won't make it if we start near the local minimum, at x=-6!\n",
    "print(cart_makes_it_to_end(-6, 8, cart_V))\n",
    "assert not cart_makes_it_to_end(-6, 8, cart_V)\n",
    "\n",
    "# Cart WILL make it if we start at x=-8.\n",
    "print(cart_makes_it_to_end(-8, 8, cart_V))\n",
    "assert cart_makes_it_to_end(-8, 8, cart_V)"
   ]
  },
  {
   "cell_type": "code",
   "execution_count": 17,
   "metadata": {
    "deletable": false,
    "editable": false,
    "nbgrader": {
     "cell_type": "code",
     "checksum": "e4955d245e85831e4d648a02e22758e1",
     "grade": true,
     "grade_id": "cell-6b28d3058af92b06",
     "locked": true,
     "points": 4,
     "schema_version": 3,
     "solution": false
    }
   },
   "outputs": [],
   "source": [
    "# Hidden testing cell - do not delete!\n"
   ]
  },
  {
   "cell_type": "markdown",
   "metadata": {
    "deletable": false,
    "editable": false,
    "nbgrader": {
     "cell_type": "markdown",
     "checksum": "c18ccd9f08dadb7406fc9ee96c94cdb8",
     "grade": false,
     "grade_id": "cell-9eb780b6d927fd37",
     "locked": true,
     "schema_version": 3,
     "solution": false
    }
   },
   "source": [
    "### Part B (6 points)\n",
    "\n",
    "For any situation where the cart _doesn't_ have enough total energy to reach the right end of the track starting from rest, we could just give the cart some initial speed $v_0$ to increase $E$ until it will make it.  \n",
    "\n",
    "How much initial speed do we need?  If we compute the quantity\n",
    "\n",
    "$$\n",
    "T(x) = E - V(x)\n",
    "$$\n",
    "\n",
    "and find it to be negative somewhere, then the _most negative value of $T(x)$_ is exactly how much we need to boost the inital kinetic energy $T_0$ by in order to make $T(x) > 0$ everywhere. \n",
    "\n",
    "__Implement the function `cart_speed_needed()`__, which returns the minimum initial speed $v_0$ that will allow a cart with mass $m = 1$ kg to reach the end of the track.  If the cart would make it to the end starting from rest, your function should return 0.\n",
    "\n",
    "_(Hint: now you need the lowest value of $T(x)$ to know how much initial kinetic energy needs to be added.  The `np.min()` function will help you find the lowest value in an entire array.)_"
   ]
  },
  {
   "cell_type": "code",
   "execution_count": 53,
   "metadata": {
    "deletable": false,
    "nbgrader": {
     "cell_type": "code",
     "checksum": "3162f58784b25984b6ec45a3aaa3d686",
     "grade": false,
     "grade_id": "cell-44ee43f569c3a17c",
     "locked": false,
     "schema_version": 3,
     "solution": true
    }
   },
   "outputs": [],
   "source": [
    "def cart_speed_needed(x0, xend, V, num_points=1000, mass=1):\n",
    "    \"\"\"\n",
    "    Given the 1-d potential V(x), determines the minimum speed v0\n",
    "    a cart starting at position x=x0 will need to make it to the\n",
    "    right end of the track.\n",
    "    \n",
    "    \n",
    "    Arguments:\n",
    "    ----\n",
    "    x0: x-position where cart begins.\n",
    "    xend: x-position where the track ends.\n",
    "    V: potential energy function V(x) to test.\n",
    "    \n",
    "    num_points: number of x-points to test in the range (x0,xend) [default: 1000.]\n",
    "    mass: mass of the cart in kg [default: 1.]\n",
    "    \n",
    "    Returns:\n",
    "    ----\n",
    "    v0: initial speed (in m/s) above which the cart \n",
    "        will make it all the way from x0 to xend.    \n",
    "    \"\"\"\n",
    "\n",
    "    ## YOUR CODE HERE\n",
    "    x = np.linspace(x0,xend,1000)\n",
    "    T = np.min(cart_V(x0) - np.any(cart_V(x)))\n",
    "    if T >= 0:\n",
    "        return 0\n",
    "    else:\n",
    "        return (2*abs(T))**0.5\n"
   ]
  },
  {
   "cell_type": "code",
   "execution_count": 54,
   "metadata": {
    "deletable": false,
    "editable": false,
    "nbgrader": {
     "cell_type": "code",
     "checksum": "026940aec2599897d93ae099c825ea4c",
     "grade": true,
     "grade_id": "cell-4284630e294c95c5",
     "locked": true,
     "points": 4,
     "schema_version": 3,
     "solution": false
    }
   },
   "outputs": [
    {
     "name": "stdout",
     "output_type": "stream",
     "text": [
      "0\n",
      "93.04837451562494\n"
     ]
    }
   ],
   "source": [
    "# For a case where the cart makes it, should get zero.\n",
    "print(cart_speed_needed(-8, 8, cart_V))\n",
    "assert cart_speed_needed(-8, 8, cart_V) == 0.0\n",
    "\n",
    "# Now a case where it's non-zero.  \n",
    "# Expected answer, computed by hand: v0 ~ 139.0 m/s\n",
    "print(cart_speed_needed(-6, 8, cart_V))\n",
    "assert (cart_speed_needed(-6, 8, cart_V) - 139.0) <= 1e-1"
   ]
  },
  {
   "cell_type": "code",
   "execution_count": null,
   "metadata": {
    "deletable": false,
    "editable": false,
    "nbgrader": {
     "cell_type": "code",
     "checksum": "06b253ba109dd50123131f2923a74b46",
     "grade": true,
     "grade_id": "cell-07d93f4b253aaea8",
     "locked": true,
     "points": 2,
     "schema_version": 3,
     "solution": false
    }
   },
   "outputs": [],
   "source": [
    "# Hidden testing cell - do not delete!\n"
   ]
  },
  {
   "cell_type": "markdown",
   "metadata": {
    "deletable": false,
    "editable": false,
    "nbgrader": {
     "cell_type": "markdown",
     "checksum": "43501b2e2a02480d58d8c1aeee8b02f9",
     "grade": false,
     "grade_id": "cell-08cea10b6ee370b9",
     "locked": true,
     "schema_version": 3,
     "solution": false
    }
   },
   "source": [
    "### Part C (4 points)\n",
    "\n",
    "Since we went to the trouble of implementing this for an arbitrary potential $V(x)$, __design your own potential function `my_V(x)`__ corresponding to a track of the same length (so `-8 <= x <= 8`) that will satisfy the following conditions:\n",
    "\n",
    "* A cart starting at `x=-8` __will not__ make it to the other end at `x=+8`.\n",
    "* A cart starting at `x=0` __will__ make it to the other end at `x=+8`.\n",
    "* A cart starting at `x=+4` __will not__ make it to the other end at `x=+8`.\n",
    "\n",
    "__Write your own tests below__ to make sure your function satisfies all these conditions!  (Making a plot of your $V(x)$ is probably a good idea while you're designing it, too.)\n",
    "\n",
    "_(Hint: a good way to make a polynomial with a fairly controlled shape is to build it up from the locations of its zeroes, i.e. `f(x) = (x-a)(x+b)(x-c)...`, so you know it will cross zero at `+a`, `-b`, and `+c`. You'll have to play around to get exactly the function you want, though.)_"
   ]
  },
  {
   "cell_type": "code",
   "execution_count": 84,
   "metadata": {
    "deletable": false,
    "nbgrader": {
     "cell_type": "code",
     "checksum": "f6e762a9cefa644763725a6eb5b6bbf6",
     "grade": false,
     "grade_id": "cell-b904fb56cfdaf3a4",
     "locked": false,
     "schema_version": 3,
     "solution": true
    }
   },
   "outputs": [
    {
     "data": {
      "image/png": "[encoded data removed]",
      "text/plain": [
       "<Figure size 432x288 with 1 Axes>"
      ]
     },
     "metadata": {
      "needs_background": "light"
     },
     "output_type": "display_data"
    }
   ],
   "source": [
    "def my_V(x):\n",
    "    ## YOUR CODE HERE\n",
    "    return 0.25*(x+3)*(x-4)*(x-7)\n",
    "x = np.linspace(-8,8,200)\n",
    "y = my_V(x)\n",
    "plt.plot(x,y)\n",
    "plt.xlabel('x (m)')\n",
    "plt.ylabel('V(x)')\n",
    "\n",
    "\n",
    "\n",
    "def cart_makes_it_to_end2(x0, xend, V, num_points=1000):\n",
    "    \n",
    "    \n",
    "    ## YOUR CODE HERE\n",
    "    x = np.linspace(x0,xend,1000)\n",
    "    T = cart_V(x0) - np.any(my_V(x))\n",
    "        \n",
    "    if T >= 0:\n",
    "        return True\n",
    "    else:\n",
    "        return False\n",
    "    \n"
   ]
  },
  {
   "cell_type": "code",
   "execution_count": 85,
   "metadata": {
    "deletable": false,
    "nbgrader": {
     "cell_type": "code",
     "checksum": "5f5413e6a63e311153a21c8d60257798",
     "grade": true,
     "grade_id": "cell-25e4e60cb6b12330",
     "locked": false,
     "points": 2,
     "schema_version": 3,
     "solution": true
    }
   },
   "outputs": [
    {
     "ename": "SyntaxError",
     "evalue": "unexpected EOF while parsing (<ipython-input-85-a1c6c9d0b3f0>, line 12)",
     "output_type": "error",
     "traceback": [
      "\u001b[0;36m  File \u001b[0;32m\"<ipython-input-85-a1c6c9d0b3f0>\"\u001b[0;36m, line \u001b[0;32m12\u001b[0m\n\u001b[0;31m    assert not(cart_makes_it_to_end2(4, 8, my_V)\u001b[0m\n\u001b[0m                                                ^\u001b[0m\n\u001b[0;31mSyntaxError\u001b[0m\u001b[0;31m:\u001b[0m unexpected EOF while parsing\n"
     ]
    }
   ],
   "source": [
    "# Write your own tests here\n",
    "\n",
    "## YOUR CODE HERE\n",
    "print(cart_makes_it_to_end2(-8, 8, my_V))\n",
    "assert not cart_makes_it_to_end2(-6, 8, my_V)\n",
    "\n",
    "print(cart_makes_it_to_end2(0, 8, my_V))\n",
    "assert cart_makes_it_to_end2(0, 8, my_V)\n",
    "\n",
    "\n",
    "print(cart_makes_it_to_end2(4, 8, my_V))\n",
    "assert not(cart_makes_it_to_end2(4, 8, my_V)"
   ]
  },
  {
   "cell_type": "code",
   "execution_count": null,
   "metadata": {
    "deletable": false,
    "editable": false,
    "nbgrader": {
     "cell_type": "code",
     "checksum": "60fb536e3d6861ca710e258c9751f978",
     "grade": true,
     "grade_id": "cell-e26d3853971b7040",
     "locked": true,
     "points": 2,
     "schema_version": 3,
     "solution": false
    }
   },
   "outputs": [],
   "source": [
    "# Hidden tests - do not delete!\n",
    "## IMPORTANT: make sure your function is called \"my_V\",\n",
    "## or you will lose points here!\n"
   ]
  },
  {
   "cell_type": "markdown",
   "metadata": {
    "deletable": false,
    "editable": false,
    "nbgrader": {
     "cell_type": "markdown",
     "checksum": "cf98d23fce24dadb4f394d2b6f07fa35",
     "grade": false,
     "grade_id": "cell-efc2bfa9dde6e4cb",
     "locked": true,
     "schema_version": 3,
     "solution": false
    }
   },
   "source": [
    "## 5.2 - Ballistics, masks, and bouncing balls (20 points)\n",
    "\n",
    "There are some interesting problems that we can now solve (and visualize) with the help of the computer, even in something as simple as one-dimensional motion under gravity.  For a projectile moving vertically with initial height $y_0$ and speed $v_0$, its motion as a function of time will be described by the equation\n",
    "\n",
    "\\\\[\n",
    "y(t) = y_0 + v_0 t - \\frac{1}{2} gt^2.\n",
    "\\\\]\n",
    "\n",
    "As we've seen, NumPy arrays enable us to work with large sets of structured data easily - so we can compute the _entire trajectory_ $y(t)$ at once as a single array.  We can use this to add in a complication: what happens when our projectile meets the ground?\n",
    "\n",
    "### Part A (4 points)\n",
    "\n",
    "To start with, we assume our projectile is a __lump of clay__: if it hits the ground (which we define to be `y=0`), then it will just stick there.\n",
    "\n",
    "__Implement the function `traj_y_clay(t, v_0, y_0)` below__, which returns the array `y(t)` according to the formula above, computed for the array of `t` values given as input.  Again, as soon as the lump of clay hits the ground at `y=0`, the trajectory from that point should just be `y=0` for any larger `x`!   \n",
    "\n",
    "_(Hint: you should implement this by computing `y(t)` ignoring the ground, and then using a mask to zero out the trajectory after it hits the ground.)_\n"
   ]
  },
  {
   "cell_type": "code",
   "execution_count": 125,
   "metadata": {
    "deletable": false,
    "nbgrader": {
     "cell_type": "code",
     "checksum": "0aaa5b0026b8f827734ea2fe020fe157",
     "grade": false,
     "grade_id": "cell-9b32c654709cfc6b",
     "locked": false,
     "schema_version": 3,
     "solution": true
    }
   },
   "outputs": [],
   "source": [
    "g = 9.8 ## m/s^2\n",
    "\n",
    "def traj_y_clay(t, v_0, y_0=0):\n",
    "    \"\"\"\n",
    "    Computes y(t) for 1-d projectile motion.\n",
    "    Projectile is a lump of clay, which sticks to the ground\n",
    "    at y=0 as soon as it hits.\n",
    "    \n",
    "    Arguments:\n",
    "    - t: array of t-values to compute the motion for.\n",
    "    - v_0: initial speed in the y-direction.\n",
    "    - y_0: starting height (must be non-negative!)\n",
    "    \n",
    "    Returns:\n",
    "    - y: array containing the trajectory y(t).\n",
    "    \n",
    "    \"\"\"\n",
    "    \n",
    "    assert y_0 >= 0\n",
    "    \n",
    "    ## YOUR CODE HERE\n",
    "    y = y_0 + v_0*t - 0.5*g*t**2\n",
    "    while np.any(y<=0):\n",
    "        return y == 0\n",
    "    \n",
    "    "
   ]
  },
  {
   "cell_type": "code",
   "execution_count": 126,
   "metadata": {
    "deletable": false,
    "editable": false,
    "nbgrader": {
     "cell_type": "code",
     "checksum": "a45928e1bb937ebc08b5c299aa42e7f4",
     "grade": true,
     "grade_id": "cell-c7a15fd525ed9380",
     "locked": true,
     "points": 3,
     "schema_version": 3,
     "solution": false
    }
   },
   "outputs": [
    {
     "name": "stdout",
     "output_type": "stream",
     "text": [
      "[ True False False False False]\n"
     ]
    },
    {
     "ename": "AssertionError",
     "evalue": "\nNot equal to tolerance rtol=0.001, atol=0\n\n(mismatch 20.0%)\n x: array([ True, False, False, False, False])\n y: array([0., 0., 0., 0., 0.])",
     "output_type": "error",
     "traceback": [
      "\u001b[0;31m---------------------------------------------------------------------------\u001b[0m",
      "\u001b[0;31mAssertionError\u001b[0m                            Traceback (most recent call last)",
      "\u001b[0;32m<ipython-input-126-976d5313754c>\u001b[0m in \u001b[0;36m<module>\u001b[0;34m\u001b[0m\n\u001b[1;32m      6\u001b[0m \u001b[0mprint\u001b[0m\u001b[0;34m(\u001b[0m\u001b[0mtraj_y_clay\u001b[0m\u001b[0;34m(\u001b[0m\u001b[0mt_test\u001b[0m\u001b[0;34m,\u001b[0m \u001b[0;36m4\u001b[0m\u001b[0;34m)\u001b[0m\u001b[0;34m)\u001b[0m\u001b[0;34m\u001b[0m\u001b[0;34m\u001b[0m\u001b[0m\n\u001b[1;32m      7\u001b[0m \u001b[0;34m\u001b[0m\u001b[0m\n\u001b[0;32m----> 8\u001b[0;31m \u001b[0mnpt\u001b[0m\u001b[0;34m.\u001b[0m\u001b[0massert_allclose\u001b[0m\u001b[0;34m(\u001b[0m\u001b[0mtraj_y_clay\u001b[0m\u001b[0;34m(\u001b[0m\u001b[0mt_test\u001b[0m\u001b[0;34m,\u001b[0m \u001b[0;36m0\u001b[0m\u001b[0;34m)\u001b[0m\u001b[0;34m,\u001b[0m \u001b[0mnp\u001b[0m\u001b[0;34m.\u001b[0m\u001b[0mzeros\u001b[0m\u001b[0;34m(\u001b[0m\u001b[0;36m5\u001b[0m\u001b[0;34m)\u001b[0m\u001b[0;34m,\u001b[0m \u001b[0mrtol\u001b[0m\u001b[0;34m=\u001b[0m\u001b[0;36m1e-3\u001b[0m\u001b[0;34m)\u001b[0m\u001b[0;34m\u001b[0m\u001b[0;34m\u001b[0m\u001b[0m\n\u001b[0m\u001b[1;32m      9\u001b[0m \u001b[0mnpt\u001b[0m\u001b[0;34m.\u001b[0m\u001b[0massert_allclose\u001b[0m\u001b[0;34m(\u001b[0m\u001b[0mtraj_y_clay\u001b[0m\u001b[0;34m(\u001b[0m\u001b[0mt_test\u001b[0m\u001b[0;34m,\u001b[0m \u001b[0;36m4\u001b[0m\u001b[0;34m)\u001b[0m\u001b[0;34m,\u001b[0m \u001b[0my1_test\u001b[0m\u001b[0;34m,\u001b[0m \u001b[0mrtol\u001b[0m\u001b[0;34m=\u001b[0m\u001b[0;36m1e-3\u001b[0m\u001b[0;34m)\u001b[0m\u001b[0;34m\u001b[0m\u001b[0;34m\u001b[0m\u001b[0m\n",
      "\u001b[0;32m/opt/jupyterhub/anaconda3-5.2.0/lib/python3.6/site-packages/numpy/testing/_private/utils.py\u001b[0m in \u001b[0;36massert_allclose\u001b[0;34m(actual, desired, rtol, atol, equal_nan, err_msg, verbose)\u001b[0m\n\u001b[1;32m   1450\u001b[0m     \u001b[0mheader\u001b[0m \u001b[0;34m=\u001b[0m \u001b[0;34m'Not equal to tolerance rtol=%g, atol=%g'\u001b[0m \u001b[0;34m%\u001b[0m \u001b[0;34m(\u001b[0m\u001b[0mrtol\u001b[0m\u001b[0;34m,\u001b[0m \u001b[0matol\u001b[0m\u001b[0;34m)\u001b[0m\u001b[0;34m\u001b[0m\u001b[0;34m\u001b[0m\u001b[0m\n\u001b[1;32m   1451\u001b[0m     assert_array_compare(compare, actual, desired, err_msg=str(err_msg),\n\u001b[0;32m-> 1452\u001b[0;31m                          verbose=verbose, header=header, equal_nan=equal_nan)\n\u001b[0m\u001b[1;32m   1453\u001b[0m \u001b[0;34m\u001b[0m\u001b[0m\n\u001b[1;32m   1454\u001b[0m \u001b[0;34m\u001b[0m\u001b[0m\n",
      "\u001b[0;32m/opt/jupyterhub/anaconda3-5.2.0/lib/python3.6/site-packages/numpy/testing/_private/utils.py\u001b[0m in \u001b[0;36massert_array_compare\u001b[0;34m(comparison, x, y, err_msg, verbose, header, precision, equal_nan, equal_inf)\u001b[0m\n\u001b[1;32m    787\u001b[0m                                 \u001b[0mverbose\u001b[0m\u001b[0;34m=\u001b[0m\u001b[0mverbose\u001b[0m\u001b[0;34m,\u001b[0m \u001b[0mheader\u001b[0m\u001b[0;34m=\u001b[0m\u001b[0mheader\u001b[0m\u001b[0;34m,\u001b[0m\u001b[0;34m\u001b[0m\u001b[0;34m\u001b[0m\u001b[0m\n\u001b[1;32m    788\u001b[0m                                 names=('x', 'y'), precision=precision)\n\u001b[0;32m--> 789\u001b[0;31m             \u001b[0;32mraise\u001b[0m \u001b[0mAssertionError\u001b[0m\u001b[0;34m(\u001b[0m\u001b[0mmsg\u001b[0m\u001b[0;34m)\u001b[0m\u001b[0;34m\u001b[0m\u001b[0;34m\u001b[0m\u001b[0m\n\u001b[0m\u001b[1;32m    790\u001b[0m     \u001b[0;32mexcept\u001b[0m \u001b[0mValueError\u001b[0m\u001b[0;34m:\u001b[0m\u001b[0;34m\u001b[0m\u001b[0;34m\u001b[0m\u001b[0m\n\u001b[1;32m    791\u001b[0m         \u001b[0;32mimport\u001b[0m \u001b[0mtraceback\u001b[0m\u001b[0;34m\u001b[0m\u001b[0;34m\u001b[0m\u001b[0m\n",
      "\u001b[0;31mAssertionError\u001b[0m: \nNot equal to tolerance rtol=0.001, atol=0\n\n(mismatch 20.0%)\n x: array([ True, False, False, False, False])\n y: array([0., 0., 0., 0., 0.])"
     ]
    }
   ],
   "source": [
    "import numpy.testing as npt\n",
    "\n",
    "t_test = np.linspace(0,1,5)\n",
    "y1_test = np.array([0., 0.6938, 0.775, 0.2438, 0.])\n",
    "\n",
    "print(traj_y_clay(t_test, 4))\n",
    "\n",
    "npt.assert_allclose(traj_y_clay(t_test, 0), np.zeros(5), rtol=1e-3)\n",
    "npt.assert_allclose(traj_y_clay(t_test, 4), y1_test, rtol=1e-3)\n"
   ]
  },
  {
   "cell_type": "code",
   "execution_count": null,
   "metadata": {
    "deletable": false,
    "editable": false,
    "nbgrader": {
     "cell_type": "code",
     "checksum": "5bb52f6f3f7389b84d21cb43cb88df25",
     "grade": true,
     "grade_id": "cell-47e8ff593c63f5cb",
     "locked": true,
     "points": 3,
     "schema_version": 3,
     "solution": false
    }
   },
   "outputs": [],
   "source": [
    "# Hidden testing cell - do not delete!\n"
   ]
  },
  {
   "cell_type": "markdown",
   "metadata": {
    "deletable": false,
    "editable": false,
    "nbgrader": {
     "cell_type": "markdown",
     "checksum": "6141411a7aa1425771ac98c03f58d30e",
     "grade": false,
     "grade_id": "cell-501886a5f5b4d37d",
     "locked": true,
     "schema_version": 3,
     "solution": false
    }
   },
   "source": [
    "### Part B (2 points)\n",
    "\n",
    "Let's have a closer look at the trajectories with some plots.  First, __plot `traj_y_clay(t)` below__, for $v_0 = 3$ m/s and $t$ over the range 0 to 1 second, and two different values of y_0: `y_0=0` and `y_0=0.8`."
   ]
  },
  {
   "cell_type": "code",
   "execution_count": 118,
   "metadata": {
    "deletable": false,
    "nbgrader": {
     "cell_type": "code",
     "checksum": "84b5b8be41f69f7075d17566118341dd",
     "grade": true,
     "grade_id": "cell-c546b7f0a13d3716",
     "locked": false,
     "points": 2,
     "schema_version": 3,
     "solution": true
    }
   },
   "outputs": [
    {
     "data": {
      "image/png": "[encoded data removed]",
      "text/plain": [
       "<Figure size 432x288 with 1 Axes>"
      ]
     },
     "metadata": {
      "needs_background": "light"
     },
     "output_type": "display_data"
    }
   ],
   "source": [
    "## YOUR CODE HERE\n",
    "\n",
    "t = np.linspace(0,1,100)\n",
    "y = traj_y_clay(t,3,y_0=0)\n",
    "y1 = traj_y_clay(t,3,y_0=0.8)\n",
    "plt.plot(t, y1)\n",
    "plt.plot(t, y) \n",
    "\n",
    "plt.show()"
   ]
  },
  {
   "cell_type": "markdown",
   "metadata": {
    "deletable": false,
    "editable": false,
    "nbgrader": {
     "cell_type": "markdown",
     "checksum": "aafbb1acbb2319d4ecf21a181e2cddbb",
     "grade": false,
     "grade_id": "cell-a8d680b19cdf3d58",
     "locked": true,
     "schema_version": 3,
     "solution": false
    }
   },
   "source": [
    "### Part C (8 points)\n",
    "\n",
    "Alright, lumps of clay are still pretty boring.  A much more interesting version of this problem is to simulate the motion of a __bouncing ball__, which will fly up into the air again once it hits the ground.  \n",
    "\n",
    "The simplest way to model a bouncing ball is using the __coefficient of restitution__ $e$, which is equal to the ratio of incoming to outgoing speed when the ball bounces.  For example, a tennis ball with $e = 0.75$ that hits the ground at 4 m/s will bounce back up with a speed of 3 m/s - after which it obeys the same simple equation of motion as above.\n",
    "\n",
    "__Implement a new function `bounce_y(t, v_0, e)`__ that will produce the trajectory of a bouncing ball.\n",
    "\n",
    "<i>(Hint: the art of this solution is all in finding a good algorithm!  My suggestion is the following, which is nicely adapted to a `while` loop:)\n",
    "\n",
    "* Start by calculating the full $y(t)$ without bouncing, letting $y$ go negative.\n",
    "* Now, look for where the current trajectory $y$ is negative: that entire part of the trajectory should be replaced by a new trajectory that starts with a bounce.\n",
    "* The starting speed of the bounce is equal to the _ending_ speed of the previous trajectory, times the coefficient of restitution $e$.  You could calculate $v(t)$, but there's a very simple relation between the initial and final speeds due to energy conservation - remember, energy is still conserved in between bounces!  __Don't forget to include $y_0$ in your conservation of energy calculation...__ you should sketch this out on paper first.\n",
    "* Repeat the steps above until there are no negative $y$ values left.\n",
    "\n",
    "The `np.any()` function will definitely come in handy for your `while` loop.  For replacing only the negative part of `y`, you'll need a mask - and remember, when assigning to a mask of an array `a[mask] = b`, the array `b` had better be the same length as `a[mask]`...)\n"
   ]
  },
  {
   "cell_type": "code",
   "execution_count": 129,
   "metadata": {
    "deletable": false,
    "nbgrader": {
     "cell_type": "code",
     "checksum": "7f13972c3694f15baaeb2156c925f916",
     "grade": false,
     "grade_id": "cell-cdcbd0cd93e17432",
     "locked": false,
     "schema_version": 3,
     "solution": true
    }
   },
   "outputs": [
    {
     "ename": "SyntaxError",
     "evalue": "can't assign to function call (<ipython-input-129-db450965e6a4>, line 25)",
     "output_type": "error",
     "traceback": [
      "\u001b[0;36m  File \u001b[0;32m\"<ipython-input-129-db450965e6a4>\"\u001b[0;36m, line \u001b[0;32m25\u001b[0m\n\u001b[0;31m    abs(e*np.min(y)) = v_0\u001b[0m\n\u001b[0m    ^\u001b[0m\n\u001b[0;31mSyntaxError\u001b[0m\u001b[0;31m:\u001b[0m can't assign to function call\n"
     ]
    }
   ],
   "source": [
    "g = 9.8  ## m/s^2\n",
    "\n",
    "def traj_y_bounce(t, v_0, y_0=0, e=0.75):\n",
    "    \"\"\"\n",
    "    Computes y(t) for 1-d projectile motion.\n",
    "    Projectile is a bouncing ball, with coefficient of\n",
    "    restitution e.\n",
    "    \n",
    "    The ground is taken to be at y=0.\n",
    "        \n",
    "    Arguments:\n",
    "    - t: array of t-values to compute the motion for.\n",
    "    - v_0: initial speed in the y-direction.\n",
    "    - y_0: starting height (must be non-negative!) [default: 0.]\n",
    "    - e: coefficient of restitution [default: 0.75.]\n",
    "    \n",
    "    Returns:\n",
    "    - y: array containing the trajectory y(t).\n",
    "    \n",
    "    \"\"\"\n",
    "\n",
    "    ## YOUR CODE HERE\n",
    "    y = y_0 + v_0*t - 0.5*g*t**2\n",
    "    while (y<=0):\n",
    "        abs(e*np.min(y)) = v_0\n",
    "        y = y_0 + v_0*t - 0.5*g*t**2\n",
    "\n"
   ]
  },
  {
   "cell_type": "code",
   "execution_count": 130,
   "metadata": {
    "deletable": false,
    "editable": false,
    "nbgrader": {
     "cell_type": "code",
     "checksum": "78fab76c5c59b66ff4863daa819b9b5f",
     "grade": true,
     "grade_id": "cell-0157cdcb92a08f7c",
     "locked": true,
     "points": 3,
     "schema_version": 3,
     "solution": false
    }
   },
   "outputs": [
    {
     "ename": "NameError",
     "evalue": "name 'traj_y_bounce' is not defined",
     "output_type": "error",
     "traceback": [
      "\u001b[0;31m---------------------------------------------------------------------------\u001b[0m",
      "\u001b[0;31mNameError\u001b[0m                                 Traceback (most recent call last)",
      "\u001b[0;32m<ipython-input-130-8eadca1435ab>\u001b[0m in \u001b[0;36m<module>\u001b[0;34m\u001b[0m\n\u001b[1;32m      5\u001b[0m \u001b[0;34m\u001b[0m\u001b[0m\n\u001b[1;32m      6\u001b[0m \u001b[0;31m## If v_0 is high enough, it won't bounce, so we get the same answer as for clay\u001b[0m\u001b[0;34m\u001b[0m\u001b[0;34m\u001b[0m\u001b[0;34m\u001b[0m\u001b[0m\n\u001b[0;32m----> 7\u001b[0;31m \u001b[0mnpt\u001b[0m\u001b[0;34m.\u001b[0m\u001b[0massert_allclose\u001b[0m\u001b[0;34m(\u001b[0m\u001b[0mtraj_y_bounce\u001b[0m\u001b[0;34m(\u001b[0m\u001b[0mt_test\u001b[0m\u001b[0;34m,\u001b[0m \u001b[0;36m10\u001b[0m\u001b[0;34m,\u001b[0m \u001b[0my_0\u001b[0m\u001b[0;34m=\u001b[0m\u001b[0;36m0.0\u001b[0m\u001b[0;34m,\u001b[0m \u001b[0me\u001b[0m\u001b[0;34m=\u001b[0m\u001b[0;36m0.75\u001b[0m\u001b[0;34m)\u001b[0m\u001b[0;34m,\u001b[0m \u001b[0mtraj_y_clay\u001b[0m\u001b[0;34m(\u001b[0m\u001b[0mt_test\u001b[0m\u001b[0;34m,\u001b[0m \u001b[0;36m10\u001b[0m\u001b[0;34m,\u001b[0m \u001b[0my_0\u001b[0m\u001b[0;34m=\u001b[0m\u001b[0;36m0.0\u001b[0m\u001b[0;34m)\u001b[0m\u001b[0;34m)\u001b[0m\u001b[0;34m\u001b[0m\u001b[0;34m\u001b[0m\u001b[0m\n\u001b[0m\u001b[1;32m      8\u001b[0m \u001b[0;34m\u001b[0m\u001b[0m\n\u001b[1;32m      9\u001b[0m \u001b[0;31m## Testing known solution with a single bounce\u001b[0m\u001b[0;34m\u001b[0m\u001b[0;34m\u001b[0m\u001b[0;34m\u001b[0m\u001b[0m\n",
      "\u001b[0;31mNameError\u001b[0m: name 'traj_y_bounce' is not defined"
     ]
    }
   ],
   "source": [
    "import numpy.testing as npt\n",
    "\n",
    "# Simple tests\n",
    "t_test = np.linspace(0,1,200)\n",
    "\n",
    "## If v_0 is high enough, it won't bounce, so we get the same answer as for clay\n",
    "npt.assert_allclose(traj_y_bounce(t_test, 10, y_0=0.0, e=0.75), traj_y_clay(t_test, 10, y_0=0.0))\n",
    "\n",
    "## Testing known solution with a single bounce\n",
    "t_short_test = np.linspace(0,1,10)\n",
    "\n",
    "known_traj = np.array(\n",
    "    [0.        , 0.32839506, 0.53580247, 0.62222222, 0.58765432,\n",
    "     0.43209877, 0.15555556, 0.        , 0.23117284, 0.34135802]\n",
    ")\n",
    "\n",
    "print(traj_y_bounce(t_short_test, 3.5, y_0=0.0, e=0.75))\n",
    "\n",
    "npt.assert_allclose(traj_y_bounce(t_short_test, 3.5, y_0=0.0, e=0.75), known_traj)\n"
   ]
  },
  {
   "cell_type": "code",
   "execution_count": null,
   "metadata": {
    "deletable": false,
    "editable": false,
    "nbgrader": {
     "cell_type": "code",
     "checksum": "0bf735d361c03bc5c24bd8a37a535c76",
     "grade": true,
     "grade_id": "cell-613aeac4987d22c2",
     "locked": true,
     "points": 3,
     "schema_version": 3,
     "solution": false
    }
   },
   "outputs": [],
   "source": [
    "# More challenging tests, for common mistakes.\n",
    "# If you fail this cell, ask yourself these questions:\n",
    "## What does your function do if y_0 is positive?  Plot it - does it look right?\n",
    "## What does your function do if v_0 is negative?  Plot it - does it look right?\n",
    "# Remember, right after a bounce the trajectory you find starts at the ground (y=0),\n",
    "# and it definitely starts with v pointing up.\n",
    "\n",
    "t_short_test_2 = np.linspace(0,1,20)\n",
    "\n",
    "known_traj_2bounce = np.array(\n",
    "      [0.        , 0.11800554, 0.20886427, 0.27257618, 0.30914127,\n",
    "       0.31855956, 0.30083102, 0.25595568, 0.18393352, 0.08476454,\n",
    "       0.        , 0.0851108 , 0.14307479, 0.17389197, 0.17756233,\n",
    "       0.15408587, 0.1034626 , 0.02569252, 0.        , 0.06043975]\n",
    ")\n",
    "\n",
    "known_traj_y0 = np.array(\n",
    "      [0.4       , 0.62839506, 0.73580247, 0.72222222, 0.58765432,\n",
    "       0.33209877, 0.        , 0.25792239, 0.39485713, 0.41080421]\n",
    ")\n",
    "\n",
    "known_traj_v0_negative = np.array(\n",
    "    [0.5       , 0.        , 0.43110221, 0.74121677, 0.93034368,\n",
    "       0.99848293, 0.94563452, 0.77179846, 0.47697475, 0.06116338]\n",
    ")\n",
    "\n",
    "\n",
    "print(traj_y_bounce(t_short_test_2, 2.5, y_0=0.0, e=0.75))\n",
    "\n",
    "print(traj_y_bounce(t_short_test, 2.6, y_0=0.4, e=0.75))\n",
    "\n",
    "\n",
    "npt.assert_allclose(traj_y_bounce(t_short_test_2, 2.5, y_0=0.0, e=0.75), known_traj_2bounce)\n",
    "\n",
    "npt.assert_allclose(traj_y_bounce(t_short_test, 2.6, y_0=0.4, e=0.75), known_traj_y0)\n",
    "\n",
    "npt.assert_allclose(traj_y_bounce(t_short_test, -5, y_0=0.5, e=0.75), known_traj_v0_negative)"
   ]
  },
  {
   "cell_type": "code",
   "execution_count": null,
   "metadata": {
    "deletable": false,
    "editable": false,
    "nbgrader": {
     "cell_type": "code",
     "checksum": "95c6880056bbb7e1c40b3df35b730afc",
     "grade": true,
     "grade_id": "cell-5e05e7e018aef2fa",
     "locked": true,
     "points": 2,
     "schema_version": 3,
     "solution": false
    }
   },
   "outputs": [],
   "source": [
    "# Hidden testing cell - do not delete!\n",
    "\n"
   ]
  },
  {
   "cell_type": "markdown",
   "metadata": {
    "deletable": false,
    "editable": false,
    "nbgrader": {
     "cell_type": "markdown",
     "checksum": "1eb748db71446cd7a54bec8503d59e8c",
     "grade": false,
     "grade_id": "cell-e92e152f120d2f01",
     "locked": true,
     "schema_version": 3,
     "solution": false
    }
   },
   "source": [
    "### Part D (4 points)\n",
    "\n",
    "Using your new function, make two plots below:\n",
    "\n",
    "i. Plot the trajectories for a tennis ball (e=0.75) vs. a basketball (e=0.88), for t from 0 to 2 seconds, with $v_0 = 4$ m/s and $y_0 = 0$.  __Use a legend__ to show which trajectory is which!\n"
   ]
  },
  {
   "cell_type": "code",
   "execution_count": null,
   "metadata": {
    "deletable": false,
    "nbgrader": {
     "cell_type": "code",
     "checksum": "bbc8f47f928d44e810f31eab1fb337fe",
     "grade": true,
     "grade_id": "cell-fd102eb52ff9aa63",
     "locked": false,
     "points": 2,
     "schema_version": 3,
     "solution": true
    }
   },
   "outputs": [],
   "source": [
    "## YOUR CODE HERE\n"
   ]
  },
  {
   "cell_type": "markdown",
   "metadata": {
    "deletable": false,
    "editable": false,
    "nbgrader": {
     "cell_type": "markdown",
     "checksum": "82796bfb1ec4ac940d4e62b40cc3546d",
     "grade": false,
     "grade_id": "cell-67191aa265a4b8ad",
     "locked": true,
     "schema_version": 3,
     "solution": false
    }
   },
   "source": [
    "ii. Plot the trajectories for two tennis balls (e=0.75), both starting from an initial height `y_0 = 0.5` m, but one is thrown up at $v_0 = 4$ m/s, and the other is thrown _downwards_ with $v_0 = -8$ m/s."
   ]
  },
  {
   "cell_type": "code",
   "execution_count": null,
   "metadata": {
    "deletable": false,
    "nbgrader": {
     "cell_type": "code",
     "checksum": "348ff29ec5039e8b7ab647ac23dad33e",
     "grade": true,
     "grade_id": "cell-0add122e1e9806cc",
     "locked": false,
     "points": 2,
     "schema_version": 3,
     "solution": true
    }
   },
   "outputs": [],
   "source": [
    "## YOUR CODE HERE\n"
   ]
  }
 ],
 "metadata": {
  "kernelspec": {
   "display_name": "Python 3",
   "language": "python",
   "name": "python3"
  },
  "language_info": {
   "codemirror_mode": {
    "name": "ipython",
    "version": 3
   },
   "file_extension": ".py",
   "mimetype": "text/x-python",
   "name": "python",
   "nbconvert_exporter": "python",
   "pygments_lexer": "ipython3",
   "version": "3.6.8"
  }
 },
 "nbformat": 4,
 "nbformat_minor": 2
}
