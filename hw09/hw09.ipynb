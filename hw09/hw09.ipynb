{
 "cells": [
  {
   "cell_type": "markdown",
   "metadata": {
    "deletable": false,
    "editable": false,
    "nbgrader": {
     "cell_type": "markdown",
     "checksum": "73795a4f98cb6dbd2de74c5a4b2a8117",
     "grade": false,
     "grade_id": "cell-053f09c8a8a514e5",
     "locked": true,
     "schema_version": 3,
     "solution": false
    }
   },
   "source": [
    "# Homework #09\n",
    "\n",
    "## PHYS 2600, Spring 2019\n",
    "\n",
    "__Important notice:__ All cells in your notebook will be run, start to finish, using a fresh kernel when it is graded!  To make sure the graded notebook looks like what you expect, we recommend restarting the kernel and selecting \"Cells > Run All\" in the menu above before you submit."
   ]
  },
  {
   "cell_type": "code",
   "execution_count": 4,
   "metadata": {
    "deletable": false,
    "editable": false,
    "nbgrader": {
     "cell_type": "code",
     "checksum": "b9e990f22f68468da8fd007b7e03da9f",
     "grade": false,
     "grade_id": "cell-0a8da221583b2c3d",
     "locked": true,
     "schema_version": 3,
     "solution": false
    }
   },
   "outputs": [],
   "source": [
    "%matplotlib inline\n",
    "\n",
    "import numpy as np\n",
    "import matplotlib.pyplot as plt"
   ]
  },
  {
   "cell_type": "markdown",
   "metadata": {
    "deletable": false,
    "editable": false,
    "nbgrader": {
     "cell_type": "markdown",
     "checksum": "47411badbcdd134151ead945a6998d9d",
     "grade": false,
     "grade_id": "cell-06bff42e9e16d26f",
     "locked": true,
     "schema_version": 3,
     "solution": false
    }
   },
   "source": [
    "If you worked collaboratively on this assignment, __include the names of your collaborators in the cell below:__"
   ]
  },
  {
   "cell_type": "markdown",
   "metadata": {},
   "source": []
  },
  {
   "cell_type": "markdown",
   "metadata": {
    "deletable": false,
    "editable": false,
    "nbgrader": {
     "cell_type": "markdown",
     "checksum": "e3be1ba545fd023dc40ed342f47e52c3",
     "grade": false,
     "grade_id": "cell-9bbcf2e8b7cbb637",
     "locked": true,
     "schema_version": 3,
     "solution": false
    }
   },
   "source": [
    "## 9.0 - Homework correction (3 points)\n",
    "\n",
    "In the cell below, explain and correct __one mistake__ you made on your _last graded_ homework assignment.  If you got a perfect score, great, tell us what your favorite problem was, or use the space to give any other feedback you might have on the class/tutorials/homework."
   ]
  },
  {
   "cell_type": "markdown",
   "metadata": {
    "deletable": false,
    "nbgrader": {
     "cell_type": "markdown",
     "checksum": "3851b904e8ed89621d311f0c725ba3bd",
     "grade": true,
     "grade_id": "hw9-correction",
     "locked": false,
     "points": 3,
     "schema_version": 3,
     "solution": true
    }
   },
   "source": [
    "The first graph takes less data points than the second graph. That's why they look different. "
   ]
  },
  {
   "cell_type": "markdown",
   "metadata": {
    "deletable": false,
    "editable": false,
    "nbgrader": {
     "cell_type": "markdown",
     "checksum": "0bf3efc6e66bf85569eaf88a855506a9",
     "grade": false,
     "grade_id": "cell-faff93794df1c141",
     "locked": true,
     "schema_version": 3,
     "solution": false
    }
   },
   "source": [
    "## 9.1 - Hitting the mark with air resistance (39 points)\n",
    "\n",
    "_(Note: __this is the only problem on this week's homework!__  Think of this as a miniature version of the projects that you'll be doing at the end of the semester.  You should start early to make sure you have time to chat with other students if you get stuck...)_\n",
    "\n",
    "We've done a number of kinematics problems, but most of them didn't include anything you didn't already know the answer to.  Now that we can solve ODEs, we can go far beyond what pen and paper can do!\n",
    "\n",
    "Let's consider __two-dimensional kinematics with air resistance.__ For relatively small speeds (and/or small objects), the effect of air resistance is to give a _drag_ force which is proportional to the speed:\n",
    "\n",
    "$$\n",
    "\\mathbf{F}_{\\rm drag} = -b\\mathbf{v}\n",
    "$$\n",
    "\n",
    "For larger objects and higher speeds, a _quadratic_ drag force becomes important,\n",
    "\n",
    "$$\n",
    "\\mathbf{F}_{\\rm drag, quad} = - cv\\mathbf{v}\n",
    "$$\n",
    "\n",
    "(where $c$ itself depends on some things like [air density and the size of our object](http://hyperphysics.phy-astr.gsu.edu/hbase/airfri.html), but we'll just assume those are all fixed.)  The units of $b$ are kg/s, and for $c$ we have kg/m.\n",
    "\n",
    "If we add in gravity as well, the two-dimensional kinematic equations are, split into x- and y-components,\n",
    "\n",
    "$$\n",
    "m \\frac{d^2x}{dt^2} = -bv_x -  c v_x \\sqrt{v_x^2 + v_y^2} \\\\\n",
    "m \\frac{d^2y}{dt^2} = -mg - bv_y -  c v_y \\sqrt{v_x^2 + v_y^2}\n",
    "$$\n",
    "\n",
    "### Part A (6 points)\n",
    "\n",
    "To solve this as an initial-value problem using our ODE methods, we need to split this into _four first-order ODEs_ for the quantities $x$, $v_x$, $y$ and $v_y$.  That's easy enough to do:\n",
    "\n",
    "$$\n",
    "\\frac{dx}{dt} = v_x \\\\\n",
    "\\frac{dy}{dt} = v_y \\\\\n",
    "\\frac{dv_x}{dt} = -bv_x - cv_x \\sqrt{v_x^2 + v_y^2} \\\\\n",
    "\\frac{dv_y}{dt} = -mg - bv_y - cv_y \\sqrt{v_x^2 + v_y^2} \n",
    "$$\n",
    "\n",
    "Following the [procedure described in lecture 17](https://physicscourses.colorado.edu/phys2600/phys2600_sp19/lecture/lec17-discrete-derivs/), we now convert to finite-difference equations by using the first-order forward discrete derivative assuming we've made everything into a discrete set of samples $t_i, x_i, y_i...$, with a fixed grid spacing $\\Delta t$ between our points in time.\n",
    "\n",
    "For example, we replace\n",
    "\n",
    "$$\n",
    "\\frac{dx}{dt} \\rightarrow \\frac{x_{i+1} - x_i}{\\Delta t}\n",
    "$$\n",
    "\n",
    "which converts the first equation above into\n",
    "\n",
    "$$\n",
    "x_{i+1} = x_i + v_{x,i} \\Delta t \n",
    "$$\n",
    "\n",
    "__In the Markdown cell below, write out the other three finite-difference equations using TeX math:__\n",
    "\n",
    "$$\n",
    "y_{i+1} = ? \\\\\n",
    "v_{x,i+1} = ? \\\\\n",
    "v_{y,i+1} = ?\n",
    "$$\n",
    "\n",
    "(Remember, you can double-click on this cell to copy the Markdown source for those equations; then fill out the right-hand sides.  Notice the `\\\\`, which in TeX notation at the end of a line means \"start a new equation line after this\".)"
   ]
  },
  {
   "cell_type": "markdown",
   "metadata": {
    "deletable": false,
    "nbgrader": {
     "cell_type": "markdown",
     "checksum": "f349130664e2254a61ed639e310ef7d1",
     "grade": true,
     "grade_id": "cell-9ff3df98356df9a1",
     "locked": false,
     "points": 6,
     "schema_version": 3,
     "solution": true
    }
   },
   "source": [
    "$$\n",
    "y_{i+1} = y_i+(v_{y,i})\\Delta t \n",
    "$$\n",
    "$$\n",
    "v_{x,i+1} = v_i+(-bv_x - cv_x \\sqrt{v_x^2 + v_y^2})\\Delta t  \\\\\n",
    "$$\n",
    "$$\n",
    "v_{y,i+1} = v_i+(-mg - bv_y - cv_y \\sqrt{v_x^2 + v_y^2})\\Delta t\n",
    "$$"
   ]
  },
  {
   "cell_type": "markdown",
   "metadata": {
    "deletable": false,
    "editable": false,
    "nbgrader": {
     "cell_type": "markdown",
     "checksum": "2dea83dbbce3eaca20d389e394622511",
     "grade": false,
     "grade_id": "cell-851f4e888cebe4f9",
     "locked": true,
     "schema_version": 3,
     "solution": false
    }
   },
   "source": [
    "### Part B (12 points)\n",
    "\n",
    "Now that we have equations, we can use __Euler's method__ to solve them, as we did on tutorial 18:\n",
    "\n",
    "* Evaluate the right-hand side of the difference equations at step $i$;\n",
    "* Store the results as the value of each variable at step $i+1$;\n",
    "* Repeat for the next step, until we reach the end of the trajectory.\n",
    "\n",
    "For simplicity, we'll fix $g = 9.8\\ m/s^2$ and $m = 1$ kg, and the motion will always start from $(x_0, y_0) = (0,0)$."
   ]
  },
  {
   "cell_type": "markdown",
   "metadata": {
    "deletable": false,
    "editable": false,
    "nbgrader": {
     "cell_type": "markdown",
     "checksum": "0a6e93ce090fae648ee4fc1308e8a640",
     "grade": false,
     "grade_id": "cell-4bcfb8a645b12d9d",
     "locked": true,
     "schema_version": 3,
     "solution": false
    }
   },
   "source": [
    "__Implement the function `solve_motion(t, b, c, v_0)` below__, which should solve the kinematic equations you wrote down in part A taking the following inputs:\n",
    "\n",
    "* `b` and `c`, the drag coefficients appearing above;\n",
    "* `t`, a discrete list of time values over which we'll be solving the equation.  (For example, if we want to solve the motion for 5 seconds using 200 steps, we would call `solve_motion` with `t=np.linspace(0,5,200)`.)\n",
    "*  `v_0` is a length-two tuple containing the initial conditions for speed in both x and y, in the form `v_0 = (v_x0, v_y0)`.\n",
    "\n",
    "The function __should return two arrays `x` and `y`__ which contain the results for the trajectory at each timestep, $x_i$ and $y_i$.\n",
    "\n",
    "I didn't give you a docstring or comments to guide you this time; __maybe you should write your own before you start!__ (If you get stuck, you should _definitely_ write out what you're trying to do in comments and docstring.)\n",
    "\n",
    "(__Hint:__ if you get stuck planning out the function `solve_motion`, try to follow what we did on tutorial 18: write a separate function `compute_next_step(x, y, vx, vy, dt)` that returns `(next_x, next_y, next_vx, next_vy)`, and then incorporate that into your big function `solve_motion`.)"
   ]
  },
  {
   "cell_type": "code",
   "execution_count": 11,
   "metadata": {
    "deletable": false,
    "nbgrader": {
     "cell_type": "code",
     "checksum": "878342f9e57dd58a3a70263a355ffda3",
     "grade": true,
     "grade_id": "cell-83d5628d38e87faa",
     "locked": false,
     "points": 6,
     "schema_version": 3,
     "solution": true
    }
   },
   "outputs": [],
   "source": [
    "def solve_motion(t, v_0, b, c):\n",
    "    g = 9.8  # m/s^2\n",
    "    m = 1    # kg\n",
    "    \n",
    "    ## YOUR CODE HERE\n",
    "    (v_x0, v_y0) = v_0\n",
    "    t_max = len(t)\n",
    "    dt = t[t_max-1]/t_max\n",
    "\n",
    "    x = np.zeros(t_max)\n",
    "    y = np.zeros(t_max)\n",
    "    vx = np.zeros(t_max)\n",
    "    vy = np.zeros(t_max)\n",
    "\n",
    "    vx[0] = v_x0\n",
    "    vy[0] = v_y0\n",
    "\n",
    "    for i in range(0,t_max-1,1):\n",
    "        x[i+1] = x[i] + vx[i]*dt\n",
    "        y[i+1] = y[i] + vy[i]*dt\n",
    "        v = (vx[i]**2+vy[i]**2)**0.5\n",
    "        vx[i+1] = v - (b*vx[i] + c*vx[i]*v)*dt\n",
    "        vy[i+1] = v - (m*g + b*vy[i] + c*vy[i]*v)*dt\n",
    "\n",
    "    return (x,y)"
   ]
  },
  {
   "cell_type": "markdown",
   "metadata": {
    "deletable": false,
    "editable": false,
    "nbgrader": {
     "cell_type": "markdown",
     "checksum": "bac82f82e29506f5d599f1da2c3f7a09",
     "grade": false,
     "grade_id": "cell-64b8040f1e25998e",
     "locked": true,
     "schema_version": 3,
     "solution": false
    }
   },
   "source": [
    "There are a couple of simple tests that you can run to make sure things are working correctly in your solver above:\n",
    "\n",
    "* If you set both `b` and `c` to zero, you should get regular motion with no drag.  In particular, remember that the range of a projectile fired from the origin with no drag is:\n",
    "\n",
    "$$\n",
    "R = \\frac{v_0^2 \\sin (2\\theta)}{g} \n",
    "$$\n",
    "\n",
    "* If `c` is zero but `b` is not, then the motion [can be solved analytically](http://farside.ph.utexas.edu/teaching/336k/Newtonhtml/node29.html) _(be aware: the link uses different notation than we do!)_.  In particular, in the limit that `b` is very large, the range becomes\n",
    "\n",
    "$$\n",
    "R = \\frac{m v_0 \\cos \\theta}{b}\n",
    "$$\n",
    "\n",
    "If we set the initial speed to $(v_x, v_y) = (3,3)$ m/s, then $v_0 = 3\\sqrt{2} = 4.243$ m/s.  Plugging in numbers, we can find\n",
    "\n",
    "$$\n",
    "R = 1.837\\ \\rm{m}\\ \\ \\textrm{(no drag)} \\\\\n",
    "R = 0.100\\ \\rm{m}\\ \\ (\\textrm{extreme drag}, b = 30\\ \\rm{kg/s})\n",
    "$$\n",
    "\n",
    "Make sure your numerical solution gets both of these right!  I've given you a range-finding function below that takes x,y trajectories as `solve_motion` should return them."
   ]
  },
  {
   "cell_type": "code",
   "execution_count": 12,
   "metadata": {
    "deletable": false,
    "editable": false,
    "nbgrader": {
     "cell_type": "code",
     "checksum": "c2982d11e118b55c32b858f1ae016299",
     "grade": false,
     "grade_id": "cell-fd5a0669d7f559d1",
     "locked": true,
     "schema_version": 3,
     "solution": false
    }
   },
   "outputs": [],
   "source": [
    "# Range-finder for trajectories (x(t), y(t)).\n",
    "# Note that this will have a numerical error depending on dt.\n",
    "# If your answer looks wrong, first try adding more steps!\n",
    "\n",
    "def find_range(x,y):\n",
    "    \n",
    "    # Cut off the first few entries, since y starts\n",
    "    # at exactly zero and we don't want to find x=0!\n",
    "    i_zero = np.abs(y[3:]).argmin() \n",
    "    i_zero += 3  # i_zero is off by 3 since we cut off y; fix it!\n",
    "\n",
    "    return x[i_zero]"
   ]
  },
  {
   "cell_type": "markdown",
   "metadata": {
    "deletable": false,
    "editable": false,
    "nbgrader": {
     "cell_type": "markdown",
     "checksum": "af193ce9dd0ff178a7197f4564b9632b",
     "grade": false,
     "grade_id": "cell-d39bce00504ccd33",
     "locked": true,
     "schema_version": 3,
     "solution": false
    }
   },
   "source": [
    "In the cell below, check your code by __calculating the motion for `b=0`, `c=0`__ over a time range of 5 seconds.  __Plot the trajectory__ and make sure it looks reasonable.  Then in the next cell, __use `find_range` to check the range__ against the formula above.\n",
    "\n",
    "(You may write an automatic test with `assert` or `numpy.testing.assert_allclose`, or you can check the range by hand.  But show your work either way!)"
   ]
  },
  {
   "cell_type": "code",
   "execution_count": 108,
   "metadata": {
    "deletable": false,
    "nbgrader": {
     "cell_type": "code",
     "checksum": "225bd61af9c5d6170980da60f4cecda8",
     "grade": true,
     "grade_id": "cell-d5725fc4299ef38c",
     "locked": false,
     "points": 2,
     "schema_version": 3,
     "solution": true
    }
   },
   "outputs": [
    {
     "data": {
      "text/plain": [
       "[<matplotlib.lines.Line2D at 0x7f83bea57320>]"
      ]
     },
     "execution_count": 108,
     "metadata": {},
     "output_type": "execute_result"
    },
    {
     "data": {
      "image/png": "[encoded data removed]",
      "text/plain": [
       "<Figure size 432x288 with 1 Axes>"
      ]
     },
     "metadata": {
      "needs_background": "light"
     },
     "output_type": "display_data"
    }
   ],
   "source": [
    "# Check/plot your solver for b=0, c=0 here\n",
    "\n",
    "## YOUR CODE HERE\n",
    "v_0 = (3,3)\n",
    "t = np.linspace(0,5,33)\n",
    "b = 0\n",
    "c = 0\n",
    "(x1,y1) = solve_motion(t, v_0, b, c)\n",
    "\n",
    "plt.plot(x1,y1)"
   ]
  },
  {
   "cell_type": "code",
   "execution_count": 109,
   "metadata": {
    "deletable": false,
    "nbgrader": {
     "cell_type": "code",
     "checksum": "08b8a72123a384393420683bc726ac90",
     "grade": true,
     "grade_id": "cell-9c1465328d2580df",
     "locked": false,
     "points": 2,
     "schema_version": 3,
     "solution": true
    }
   },
   "outputs": [
    {
     "data": {
      "text/plain": [
       "1.8640636835592266"
      ]
     },
     "execution_count": 109,
     "metadata": {},
     "output_type": "execute_result"
    }
   ],
   "source": [
    "# Test the range against the analytic result here!\n",
    "known_R = 1.837\n",
    "\n",
    "## YOUR CODE HERE\n",
    "find_range(x1,y1)"
   ]
  },
  {
   "cell_type": "markdown",
   "metadata": {
    "deletable": false,
    "editable": false,
    "nbgrader": {
     "cell_type": "markdown",
     "checksum": "2e68c62a54294864928571320695f129",
     "grade": false,
     "grade_id": "cell-5b4d80b268431556",
     "locked": true,
     "schema_version": 3,
     "solution": false
    }
   },
   "source": [
    "Now, air resistance!  In the cell below, check your code by __calculating the motion for `b=30` kg/s, `c=0`__ over a time range of 5 seconds.  __Plot the trajectory__ and make sure it looks reasonable.  Then in the next cell, __use `find_range` to check the range__ against the formula above.\n",
    "\n",
    "(You may write an automatic test with `assert` or `numpy.testing.assert_allclose`, or you can check the range by hand.  But show your work either way!)"
   ]
  },
  {
   "cell_type": "code",
   "execution_count": 91,
   "metadata": {
    "deletable": false,
    "nbgrader": {
     "cell_type": "code",
     "checksum": "7b41dd74f6d657fef29826f3c7066cc4",
     "grade": true,
     "grade_id": "cell-899345d372f1f031",
     "locked": false,
     "points": 2,
     "schema_version": 3,
     "solution": true
    }
   },
   "outputs": [
    {
     "data": {
      "text/plain": [
       "[<matplotlib.lines.Line2D at 0x7f83bedf43c8>]"
      ]
     },
     "execution_count": 91,
     "metadata": {},
     "output_type": "execute_result"
    },
    {
     "data": {
      "image/png": "[encoded data removed]",
      "text/plain": [
       "<Figure size 432x288 with 1 Axes>"
      ]
     },
     "metadata": {
      "needs_background": "light"
     },
     "output_type": "display_data"
    }
   ],
   "source": [
    "# Check/plot your solution for b=30 kg/s, c=0  here\n",
    "\n",
    "## YOUR CODE HERE\n",
    "v_0 = (3,3)\n",
    "t = np.linspace(0,5,495)\n",
    "b = 30\n",
    "c = 0\n",
    "(x2,y2) = solve_motion(t, v_0, b, c)\n",
    "\n",
    "plt.plot(x2,y2)"
   ]
  },
  {
   "cell_type": "code",
   "execution_count": 92,
   "metadata": {
    "deletable": false,
    "nbgrader": {
     "cell_type": "code",
     "checksum": "ebe0a2f7aebd5b29bedefb09514e6205",
     "grade": true,
     "grade_id": "cell-73bae9e2c4d9a48e",
     "locked": false,
     "points": 2,
     "schema_version": 3,
     "solution": true
    }
   },
   "outputs": [
    {
     "data": {
      "text/plain": [
       "0.10068955045532076"
      ]
     },
     "execution_count": 92,
     "metadata": {},
     "output_type": "execute_result"
    }
   ],
   "source": [
    "# Test the range against the analytic result here!\n",
    "known_R = 0.100\n",
    "\n",
    "## YOUR CODE HERE\n",
    "find_range(x2,y2)"
   ]
  },
  {
   "cell_type": "code",
   "execution_count": 61,
   "metadata": {
    "deletable": false,
    "editable": false,
    "nbgrader": {
     "cell_type": "code",
     "checksum": "b1beaacafc36ddc5b38373c83a18d5ea",
     "grade": true,
     "grade_id": "cell-39ae876d4b9bb0db",
     "locked": true,
     "points": 4,
     "schema_version": 3,
     "solution": false
    }
   },
   "outputs": [],
   "source": [
    "# Hidden testing cell; do not delete!\n",
    "import numpy.testing as npt\n"
   ]
  },
  {
   "cell_type": "markdown",
   "metadata": {
    "deletable": false,
    "editable": false,
    "nbgrader": {
     "cell_type": "markdown",
     "checksum": "9e2a790182ef54bab63346ee38c18683",
     "grade": false,
     "grade_id": "cell-7e6483932d9ac3c7",
     "locked": true,
     "schema_version": 3,
     "solution": false
    }
   },
   "source": [
    "### Part C (15 points)\n",
    "\n",
    "Now, the grand finale.  You are given a projectile with drag coefficients $b = 0.7$ kg/s and $c = 0.2$ kg/m; the mass is still 1 kg as we've assumed before.  __There are three targets:__ \n",
    "\n",
    "* Target 1 is on the ground at $(x,y) = (2,0)$;\n",
    "* Target 2 is at $(x,y) = (0.5,1)$;\n",
    "* Target 3 is at $(x,y) = (2,2)$.\n",
    "\n",
    "Adjusting both the initial speed and angle, there are an _infinite_ number of solutions to this problem!  So let's simplify by saying __the initial launch speed is 12 m/s__.  Assume the targets have __zero width and height__: you must hit the exact coordinates above as close as possible.  Also, ignore collisions, i.e. you don't have to worry about whether your shot hits a different target than the one you're aiming at.\n",
    "\n",
    "__Find the launch angles $\\theta_1, \\theta_2, \\theta_3$ (in radians) needed to hit each of the three targets:__ save your answers in the variables `theta_1`, `theta_2` and `theta_3` below.  Your answers will be checked to within _three digits of accuracy after the decimal._\n",
    "\n",
    "There are no tests for this problem, and no guidelines; all you need to do is hit the targets.  (The only rule is that you must _show your work_ and your code here has to find the angles, i.e. you can't use some other program to solve this and just plug in the numerical values below.)\n",
    "\n",
    "_(Hint: you should recognize this as a boundary-value problem.  In fact, since we're literally shooting at targets, this seems like an ideal candidate for shooting!)_\n",
    "\n",
    "_(Another hint: just making plots of where the projectile goes for various choices of the angle is probably a good place to start!)_\n",
    "\n"
   ]
  },
  {
   "cell_type": "markdown",
   "metadata": {
    "deletable": false,
    "editable": false,
    "nbgrader": {
     "cell_type": "markdown",
     "checksum": "73786cd67393596474e3f881f1803b69",
     "grade": false,
     "grade_id": "cell-7945030b0067f7b8",
     "locked": true,
     "schema_version": 3,
     "solution": false
    }
   },
   "source": [
    "__Tricky things you should watch out for:__\n",
    "\n",
    "1. Now we're evolving in _time_, but our boundary exists in _position_.  So we don't know before starting how many seconds we need to calculate for!  Make sure your `t`-range is long enough that it isn't messing up your shooting solver...\n",
    "\n",
    "2. Checking the boundary is trickier than for the TISE: first we need to find the timestep where our solution for `x` crosses `x_target`, and _then_ we can check how far `y` is from `y_target`.  How can you find the timestep?  Well, this sounds very similar to what I did up in `find_range` above, where we found the timestep where the difference between `y` and 0 was smallest...\n",
    "\n",
    "3. There are _two_ values of $\\theta$ that will hit each of targets 2 and 3: one where the projectile is going up, and one where it's coming back down.  Either solution is fine, although the ones where it's coming back down are significantly harder to find - you'll have to come up with a really good initial guess!\n",
    "\n",
    "4. Since there are often two solutions, a bisection root-finder is hard to use here.  The `scipy.optimize.newton` finder worked well for me, but __the default options for `newton` will probably lead to frustration!__  You probably want to adjust both the tolerance option `tol=...` and the maximum number of iterations `maxiter=...`.\n",
    "\n",
    "\n",
    "(If you manage to find __all five solutions__ for `theta` that will hit the targets, then you will get up to _4 points of bonus credit back_ for any mistakes you made elsewhere on this homework!  You can't do better than a perfect score, though.)"
   ]
  },
  {
   "cell_type": "code",
   "execution_count": null,
   "metadata": {
    "deletable": false,
    "nbgrader": {
     "cell_type": "code",
     "checksum": "e578fb06bc3b66aebcc75035154661c2",
     "grade": false,
     "grade_id": "cell-200bf4c644ac002b",
     "locked": false,
     "schema_version": 3,
     "solution": true
    }
   },
   "outputs": [],
   "source": [
    "## YOUR CODE HERE\n"
   ]
  },
  {
   "cell_type": "code",
   "execution_count": 136,
   "metadata": {
    "deletable": false,
    "nbgrader": {
     "cell_type": "code",
     "checksum": "e393d4ca83df2e294ea6253172eec6d0",
     "grade": false,
     "grade_id": "cell-8d9e0dd8d623a068",
     "locked": false,
     "schema_version": 3,
     "solution": true
    }
   },
   "outputs": [
    {
     "data": {
      "text/plain": [
       "Text(0, 0.5, 'y (m)')"
      ]
     },
     "execution_count": 136,
     "metadata": {},
     "output_type": "execute_result"
    },
    {
     "data": {
      "image/png": "[encoded data removed]",
      "text/plain": [
       "<Figure size 576x576 with 1 Axes>"
      ]
     },
     "metadata": {
      "needs_background": "light"
     },
     "output_type": "display_data"
    }
   ],
   "source": [
    "# Save your launch angle solutions in these variables - overwrite them below!\n",
    "theta_1 = np.pi/4\n",
    "theta_2 = np.pi/4\n",
    "theta_3 = np.pi/4\n",
    "\n",
    "\n",
    "# Draw the targets\n",
    "plt.figure(figsize=(8,8))\n",
    "def plot_target(x,y, color):\n",
    "    plt.plot(x,y, color=color, marker='o', markersize=2)\n",
    "    plt.plot(x,y, color=color, marker='o', markersize=15, fillstyle='none')\n",
    "    plt.plot(x,y, color=color, marker='o', markersize=25, fillstyle='none')\n",
    "    plt.plot(x,y, color=color, marker='o', markersize=35, fillstyle='none')\n",
    "    \n",
    "plot_target(2,0, color='red')\n",
    "plot_target(0.5,1, color='green')\n",
    "plot_target(2,2, color='blue')\n",
    "\n",
    "plt.xlim(0,4)\n",
    "plt.ylim(0,4)\n",
    "plt.xlabel('x (m)')\n",
    "plt.ylabel('y (m)')\n",
    "\n",
    "# Now plot your solutions to see if they look reasonable!\n",
    "\n",
    "\n",
    "\n",
    "## YOUR CODE HERE\n"
   ]
  },
  {
   "cell_type": "code",
   "execution_count": null,
   "metadata": {
    "deletable": false,
    "editable": false,
    "nbgrader": {
     "cell_type": "code",
     "checksum": "f076b120351018d5c2afcb8a91249751",
     "grade": true,
     "grade_id": "cell-7e4883f31117ae7a",
     "locked": true,
     "points": 15,
     "schema_version": 3,
     "solution": false
    }
   },
   "outputs": [],
   "source": [
    "# Hidden testing cell - do not delete!\n",
    "\n",
    "# Your answers should be saved in these variables!!\n",
    "# You will lose credit if they aren't!\n",
    "print (\"theta_1, theta_2, theta_3:\")\n",
    "print (theta_1, theta_2, theta_3)\n",
    "\n",
    "\n",
    "## theta tests to be added here"
   ]
  },
  {
   "cell_type": "markdown",
   "metadata": {
    "deletable": false,
    "editable": false,
    "nbgrader": {
     "cell_type": "markdown",
     "checksum": "c2e90730a01b4f7359a610e1b5f74f47",
     "grade": false,
     "grade_id": "cell-ccc6403172ea3d8e",
     "locked": true,
     "schema_version": 3,
     "solution": false
    }
   },
   "source": [
    "-----\n",
    "\n",
    "### Extra material \n",
    "\n",
    "(This stuff is _not_ part of the assignment, just for your information.)\n",
    "\n",
    "The `find_range` function I gave you above is sort of naive, since it just returns the nearest x-coordinate to the y-value that's nearest zero.  We could imagine improving this by __linear interpolation__: find a pair of (x,y) values bracketing zero, and then draw a line between them.  This makes the function significantly more complicated:"
   ]
  },
  {
   "cell_type": "code",
   "execution_count": null,
   "metadata": {
    "deletable": false,
    "editable": false,
    "nbgrader": {
     "cell_type": "code",
     "checksum": "a39b0c0144782ad81846dea1bcc291a9",
     "grade": false,
     "grade_id": "cell-826e1616c45adb33",
     "locked": true,
     "schema_version": 3,
     "solution": false
    }
   },
   "outputs": [],
   "source": [
    "def find_range_interp(x,y):\n",
    "    # Start with brute-force root finding, NumPy style!\n",
    "    # Find the timestep i where y is closest to zero.\n",
    "    # (The particle _starts_ at zero, so throw out the first\n",
    "    # few points in the path to avoid confusion.)\n",
    "    i_zero = np.abs(y[5:]).argmin() + 5\n",
    "    \n",
    "    # Figure out which way zero is from y[i_zero].\n",
    "    # Then do a linear interpolation to estimate the zero crossing.\n",
    "    if y[i_zero - 1] / y[i_zero] < 0:\n",
    "        # Sign changed to the left of i_zero\n",
    "        i1 = i_zero - 1\n",
    "        i2 = i_zero\n",
    "    elif y[i_zero + 1] / y[i_zero] < 0:\n",
    "        # Sign changed to the right of i_zero\n",
    "        i1 = i_zero\n",
    "        i2 = i_zero + 1\n",
    "    else:\n",
    "        # This should never happen if we understand our own algorithm!\n",
    "        # Make sure the program crashes if we somehow end up in this branch.\n",
    "        assert False\n",
    "        \n",
    "    # If y = mx + b, then y=0 at x=-b/m.\n",
    "    m = (y[i2] - y[i1]) / (x[i2] - x[i1])\n",
    "    b = y[i1] - m * x[i1]\n",
    "    \n",
    "    return -b/m\n",
    "    "
   ]
  },
  {
   "cell_type": "markdown",
   "metadata": {
    "deletable": false,
    "editable": false,
    "nbgrader": {
     "cell_type": "markdown",
     "checksum": "34ede0df600cd6838a4bc7d37cfdccce",
     "grade": false,
     "grade_id": "cell-a0c81f55fe549f60",
     "locked": true,
     "schema_version": 3,
     "solution": false
    }
   },
   "source": [
    "If you try this above where we used `find_range`, you'll find that it doesn't really help with needing a lot of points to get the range correct!  This is because although we have reduced one source of discretization error with `find_range_interp`, this source of error is _small_ compared to the accumulated error from integrating the entire trajectory using Euler's method!\n",
    "\n",
    "(If we used a more sophisticated scheme like Runge-Kutta 4-5, then `find_range_interp` might have been more useful to use.)"
   ]
  }
 ],
 "metadata": {
  "kernelspec": {
   "display_name": "Python 3",
   "language": "python",
   "name": "python3"
  },
  "language_info": {
   "codemirror_mode": {
    "name": "ipython",
    "version": 3
   },
   "file_extension": ".py",
   "mimetype": "text/x-python",
   "name": "python",
   "nbconvert_exporter": "python",
   "pygments_lexer": "ipython3",
   "version": "3.6.8"
  }
 },
 "nbformat": 4,
 "nbformat_minor": 2
}
