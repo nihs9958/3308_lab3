{
 "cells": [
  {
   "cell_type": "markdown",
   "metadata": {
    "deletable": false,
    "editable": false,
    "nbgrader": {
     "cell_type": "markdown",
     "checksum": "378f15252ad590e728e85982d63aaf0e",
     "grade": false,
     "grade_id": "cell-053f09c8a8a514e5",
     "locked": true,
     "schema_version": 3,
     "solution": false
    }
   },
   "source": [
    "# Homework #2\n",
    "\n",
    "## PHYS 2600, Spring 2019\n",
    "\n",
    "__Important notice:__ All cells in your notebook will be run, start to finish, using a fresh kernel when it is graded!  To make sure the graded notebook looks like what you expect, we recommend selecting \"Kernel > Restart & Run All\" in the menu above before you submit."
   ]
  },
  {
   "cell_type": "markdown",
   "metadata": {
    "deletable": false,
    "editable": false,
    "nbgrader": {
     "cell_type": "markdown",
     "checksum": "47411badbcdd134151ead945a6998d9d",
     "grade": false,
     "grade_id": "cell-06bff42e9e16d26f",
     "locked": true,
     "schema_version": 3,
     "solution": false
    }
   },
   "source": [
    "If you worked collaboratively on this assignment, __include the names of your collaborators in the cell below:__"
   ]
  },
  {
   "cell_type": "markdown",
   "metadata": {
    "deletable": false,
    "nbgrader": {
     "cell_type": "markdown",
     "checksum": "51fd038de689d6870d96cf5fc8044062",
     "grade": true,
     "grade_id": "cell-6aad98798978a240",
     "locked": false,
     "points": 0,
     "schema_version": 3,
     "solution": true
    }
   },
   "source": [
    "_Type your answer here using Markdown._"
   ]
  },
  {
   "cell_type": "markdown",
   "metadata": {
    "deletable": false,
    "editable": false,
    "nbgrader": {
     "cell_type": "markdown",
     "checksum": "739ea968b6c818bc39a7987d220df722",
     "grade": false,
     "grade_id": "cell-9bbcf2e8b7cbb637",
     "locked": true,
     "schema_version": 3,
     "solution": false
    }
   },
   "source": [
    "## 2.0 - Homework correction (3 points)\n",
    "\n",
    "In the cell below, explain and correct __one mistake__ you made on the previous homework assignment.  If you got a perfect score, great!  Tell us what your favorite problem was, or use the space to give any other feedback you might have on the class/tutorials/homework."
   ]
  },
  {
   "cell_type": "markdown",
   "metadata": {
    "deletable": false,
    "nbgrader": {
     "cell_type": "markdown",
     "checksum": "5ce9a7b6d6cd92d8890072ee29bf8575",
     "grade": true,
     "grade_id": "cell-1689332322e959be",
     "locked": false,
     "points": 3,
     "schema_version": 3,
     "solution": true
    }
   },
   "source": [
    "I only got one problem wrong, because I forgot to save my work after I finished it...Hope I have time to do it again, that was a easy one. "
   ]
  },
  {
   "cell_type": "markdown",
   "metadata": {
    "deletable": false,
    "editable": false,
    "nbgrader": {
     "cell_type": "markdown",
     "checksum": "4a8a6f3c2dc1b76c8dc91451becf7a0d",
     "grade": false,
     "grade_id": "cell-f0b94b0e556e999f",
     "locked": true,
     "schema_version": 3,
     "solution": false
    }
   },
   "source": [
    "## 2.1 - Fixed-point binary and precision (9 points)"
   ]
  },
  {
   "cell_type": "markdown",
   "metadata": {
    "deletable": false,
    "editable": false,
    "nbgrader": {
     "cell_type": "markdown",
     "checksum": "fea2ff90ee5013978ba1684c242abd15",
     "grade": false,
     "grade_id": "cell-54b8fbcfb64f2e9f",
     "locked": true,
     "schema_version": 3,
     "solution": false
    }
   },
   "source": [
    "Let's return to the example we saw in lecture of a fixed-point binary representation in 7 bits:\n",
    "\n",
    "<img src=\"https://physicscourses.colorado.edu/phys2600/phys2600_fa18/img/fixed-prec.png\" />\n",
    "\n",
    "(Assume we are only dealing with __positive__ numbers here, so there is no sign bit.)\n",
    "\n",
    "What are the smallest and largest _binary_ numbers that can be represented in this way?  Now what are those numbers in decimal notation?  (The difference between them is the _dynamic range_ of our representation.)"
   ]
  },
  {
   "cell_type": "markdown",
   "metadata": {
    "deletable": false,
    "nbgrader": {
     "cell_type": "markdown",
     "checksum": "8339afed2c3358a9bf3a529c950ec4c9",
     "grade": true,
     "grade_id": "cell-d6069000132514b5",
     "locked": false,
     "points": 2,
     "schema_version": 3,
     "solution": true
    }
   },
   "source": [
    "smallest is 00000000, largest is 11111111"
   ]
  },
  {
   "cell_type": "markdown",
   "metadata": {
    "deletable": false,
    "editable": false,
    "nbgrader": {
     "cell_type": "markdown",
     "checksum": "eebfce873604ec2ea68b79c7939b095f",
     "grade": false,
     "grade_id": "cell-f116f1860b35c078",
     "locked": true,
     "schema_version": 3,
     "solution": false
    }
   },
   "source": [
    "Let's evaluate the following expression:\n",
    "\\\\[\n",
    "1.1 + 3.2 = ?\n",
    "\\\\]\n",
    "\n",
    "using our binary fixed-point representation, step by step.  First, translate each decimal number to the closest binary fixed-point number."
   ]
  },
  {
   "cell_type": "markdown",
   "metadata": {
    "deletable": false,
    "nbgrader": {
     "cell_type": "markdown",
     "checksum": "b0e48f9f952e4dec50efb0b032fb635e",
     "grade": true,
     "grade_id": "cell-3aa85982a4332363",
     "locked": false,
     "points": 2,
     "schema_version": 3,
     "solution": true
    }
   },
   "source": [
    "1.1 = 1*2^0+(2^-1)*0+0*(2^-2)+0*(2^-3)+1*(2^-4)+1*(2^-5)+0*(2^-6)\n",
    "1.000110\n",
    "3.2 = 1*(2^1)+1*(2^0)+(2^-1)*0+0*(2^-2)+1*(2^-3)+1*(2^-4)+0*(2^-5)+0*(2^-6)\n",
    "11.001100"
   ]
  },
  {
   "cell_type": "markdown",
   "metadata": {},
   "source": [
    "Next, add the two binary numbers from above together _by hand_."
   ]
  },
  {
   "cell_type": "markdown",
   "metadata": {
    "deletable": false,
    "nbgrader": {
     "cell_type": "markdown",
     "checksum": "ce7df3f91a31ff02a266e5e76039802d",
     "grade": true,
     "grade_id": "cell-f1f4ed92d3175530",
     "locked": false,
     "points": 1,
     "schema_version": 3,
     "solution": true
    }
   },
   "source": [
    "100.010011"
   ]
  },
  {
   "cell_type": "markdown",
   "metadata": {},
   "source": [
    "Finally, translate your result back to decimal from binary fixed-point, and calculate the difference between your answer and the exact result.  (This difference is known as the __round-off error__.)"
   ]
  },
  {
   "cell_type": "markdown",
   "metadata": {
    "deletable": false,
    "nbgrader": {
     "cell_type": "markdown",
     "checksum": "d1320697ba2aec1eea7a610c0adb3230",
     "grade": true,
     "grade_id": "cell-4d6884f5593b5126",
     "locked": false,
     "points": 2,
     "schema_version": 3,
     "solution": true
    }
   },
   "source": [
    "4.296875, \n",
    "the difference is 0.003125"
   ]
  },
  {
   "cell_type": "markdown",
   "metadata": {
    "deletable": false,
    "editable": false,
    "nbgrader": {
     "cell_type": "markdown",
     "checksum": "9442b7e9c67aa1bb452312113e1805b2",
     "grade": false,
     "grade_id": "cell-01732bc2689215d0",
     "locked": true,
     "schema_version": 3,
     "solution": false
    }
   },
   "source": [
    "To help you check your work, note that the largest possible round-off error is exactly 1/8.  This is because the worst-case number for rounding is 1/16: we either have to set it to 0 or 1/8, and any other number in that range would be closer to one or the other.  If, say, we round 1/16 up to 1/8, then 1/16 + 1/16 becomes 1/8 + 1/8 = 1/4, which is 1/8 larger than the right answer.\n",
    "\n",
    "Instead of just dealing with pairs of numbers at once, suppose we're using a more complicated algorithm that has to iterate many times, like the square root example we saw.  What is the __accumulated round-off error__ if we compute the sum `1.2 + 2.2` one hundred times in a row, using our fixed-point representation?"
   ]
  },
  {
   "cell_type": "markdown",
   "metadata": {
    "deletable": false,
    "nbgrader": {
     "cell_type": "markdown",
     "checksum": "da34e0796aca18849cd6a4b1c125f2b3",
     "grade": true,
     "grade_id": "cell-60938be06a624f46",
     "locked": false,
     "points": 2,
     "schema_version": 3,
     "solution": true
    }
   },
   "source": [
    "We will have 97 digits to the right of the decimal point after 100 hundred times, since we have 3 digits to the left of decimal. Therefore, the round off error is 2^-97."
   ]
  },
  {
   "cell_type": "markdown",
   "metadata": {
    "deletable": false,
    "editable": false,
    "nbgrader": {
     "cell_type": "markdown",
     "checksum": "3c5d3233d7e4ee5e820af481537b0053",
     "grade": false,
     "grade_id": "cell-7c8c42dd6e07ad5a",
     "locked": true,
     "schema_version": 3,
     "solution": false
    }
   },
   "source": [
    "## 2.2 - Mistakes and formatting (6 points)"
   ]
  },
  {
   "cell_type": "markdown",
   "metadata": {
    "deletable": false,
    "editable": false,
    "nbgrader": {
     "cell_type": "markdown",
     "checksum": "7f53d2105683387329dba659a3cdbfa2",
     "grade": false,
     "grade_id": "cell-2e1d5ac5eeb2c94c",
     "locked": true,
     "schema_version": 3,
     "solution": false
    }
   },
   "source": [
    "(From exercise 1.9c in Langtangen.)\n",
    "\n",
    "Consider the following program, which tries to verify that these two equations are correct:\n",
    "\n",
    "\\\\[\n",
    "(a+b)^2 = a^2 + 2ab + b^2 \\\\\n",
    "(a-b)^2 = a^2 - 2ab + b^2\n",
    "\\\\]\n",
    "\n",
    "for the values $a=3.3$ and $b=5.3$.\n",
    "\n",
    "```python\n",
    "a=3,3   b=5,3\n",
    "a2 = a**2\n",
    "b2 = b**2\n",
    "\n",
    "eq1_sum = a2 + 2ab + b2\n",
    "eq2_sum = a2 - 2ab - b2\n",
    "\n",
    "eq1_pow = (a + b)**2\n",
    "eq2_pow = (a - b)**2\n",
    "\n",
    "print('First equation: %g = %g', % (eq1_sum, eq1_pow))\n",
    "print('Second equation: %h = %h', % (eq2_sum, eq2_pow))\n",
    "```\n",
    "\n",
    "There are tons of mistakes in this program!  Copy the code into the cell below, then __fix the mistakes__ and run to verify the two equations."
   ]
  },
  {
   "cell_type": "code",
   "execution_count": 13,
   "metadata": {
    "deletable": false,
    "nbgrader": {
     "cell_type": "code",
     "checksum": "bf206d66e43940c7dfa6a3c1720ecb16",
     "grade": true,
     "grade_id": "cell-73dc6f433ff4bab7",
     "locked": false,
     "points": 6,
     "schema_version": 3,
     "solution": true
    }
   },
   "outputs": [
    {
     "name": "stdout",
     "output_type": "stream",
     "text": [
      "First equation: 73.96 = 73.96\n",
      "Second equation: 4 = 4\n"
     ]
    }
   ],
   "source": [
    "## YOUR CODE HERE\n",
    "a=3.3   \n",
    "b=5.3\n",
    "\n",
    "a2 = a**2\n",
    "b2 = b**2\n",
    "\n",
    "eq1_sum = a2 + 2*a*b + b2\n",
    "eq2_sum = a2 - 2*a*b + b2\n",
    "\n",
    "eq1_pow = (a + b)**2\n",
    "eq2_pow = (a - b)**2\n",
    "\n",
    "print('First equation: %g = %g' % (eq1_sum, eq1_pow))\n",
    "print('Second equation: %g = %g' % (eq2_sum, eq2_pow))"
   ]
  },
  {
   "cell_type": "markdown",
   "metadata": {
    "deletable": false,
    "editable": false,
    "nbgrader": {
     "cell_type": "markdown",
     "checksum": "c97436fb4bb5f1d13df82b853316e214",
     "grade": false,
     "grade_id": "cell-29a62ef91ca0f418",
     "locked": true,
     "schema_version": 3,
     "solution": false
    }
   },
   "source": [
    "## 2.3 - Some exercises with NumPy (10 points)\n",
    "\n",
    "The following are small problems in working with the `numpy` module and its arrays.\n",
    "\n",
    "### Part A (2 points)\n",
    "\n",
    "__Create an array `cos_squared`__, which contains the value of the function $\\cos^2(t)$, for $t$ values ranging from 0 to 6 (including both ends!) and spaced by 0.5.  (So `t = [0, 0.5, 1.0, ..., 6.0].`)"
   ]
  },
  {
   "cell_type": "code",
   "execution_count": 39,
   "metadata": {
    "deletable": false,
    "nbgrader": {
     "cell_type": "code",
     "checksum": "ca0336f690a84cfc44e8b052db211412",
     "grade": false,
     "grade_id": "cell-67bdf348d2e57ed0",
     "locked": false,
     "schema_version": 3,
     "solution": true
    }
   },
   "outputs": [],
   "source": [
    "import numpy as np\n",
    "from math import cos, radians\n",
    "## YOUR CODE HERE\n",
    "t = np.arange(0,6.2,0.5)\n",
    "cos = np.cos(t)\n",
    "cos_squared = np.square(cos)"
   ]
  },
  {
   "cell_type": "code",
   "execution_count": 40,
   "metadata": {
    "deletable": false,
    "editable": false,
    "nbgrader": {
     "cell_type": "code",
     "checksum": "592fbdd4102684c5e27e0b0e38c33447",
     "grade": true,
     "grade_id": "cell-15f2a517158f210f",
     "locked": true,
     "points": 2,
     "schema_version": 3,
     "solution": false
    }
   },
   "outputs": [
    {
     "name": "stdout",
     "output_type": "stream",
     "text": [
      "[1.         0.77015115 0.29192658 0.00500375 0.17317819 0.64183109\n",
      " 0.98008514 0.87695113 0.42724998 0.04443487 0.08046424 0.50221285\n",
      " 0.92192698]\n"
     ]
    }
   ],
   "source": [
    "import numpy.testing as npt\n",
    "\n",
    "print(cos_squared)\n",
    "\n",
    "assert len(cos_squared) == 13\n",
    "assert type(cos_squared) is np.ndarray\n"
   ]
  },
  {
   "cell_type": "markdown",
   "metadata": {
    "deletable": false,
    "editable": false,
    "nbgrader": {
     "cell_type": "markdown",
     "checksum": "142338ee3dc1751d21b546a7961bf598",
     "grade": false,
     "grade_id": "cell-1f11cf83d94f4d4d",
     "locked": true,
     "schema_version": 3,
     "solution": false
    }
   },
   "source": [
    "### Part B (2 points)\n",
    "\n",
    "__Create an array `length_40_array`__ which, as the name implies, should have 40 entries: the first 20 entries should be the number 20, and the second 20 entries should be the number zero.\n",
    "\n",
    "_(Hint: there are quite a lot of ways to do this!  You are allowed to use a for loop this time, but as we'll see for loops are generally discouraged with numpy.  The `np.concatenate` function might be worth a look...)_"
   ]
  },
  {
   "cell_type": "code",
   "execution_count": 45,
   "metadata": {
    "deletable": false,
    "nbgrader": {
     "cell_type": "code",
     "checksum": "5a8dc0763d5ff76ecc8cafffa96a51da",
     "grade": false,
     "grade_id": "cell-ff71b410dc365eb6",
     "locked": false,
     "schema_version": 3,
     "solution": true
    }
   },
   "outputs": [],
   "source": [
    "import numpy as np\n",
    "\n",
    "## YOUR CODE HERE\n",
    "array1 = np.full((1, 20), 20)\n",
    "array2 = np.full((1, 20), 0)\n",
    "\n",
    "length_40_array = np.concatenate((array1, array2), axis=None)"
   ]
  },
  {
   "cell_type": "code",
   "execution_count": 46,
   "metadata": {
    "deletable": false,
    "editable": false,
    "nbgrader": {
     "cell_type": "code",
     "checksum": "dad54e8074bd661ee66ce1b164cdd921",
     "grade": true,
     "grade_id": "cell-6ac731fab9cf9e6b",
     "locked": true,
     "points": 2,
     "schema_version": 3,
     "solution": false
    }
   },
   "outputs": [
    {
     "name": "stdout",
     "output_type": "stream",
     "text": [
      "[20 20 20 20 20 20 20 20 20 20 20 20 20 20 20 20 20 20 20 20  0  0  0  0\n",
      "  0  0  0  0  0  0  0  0  0  0  0  0  0  0  0  0]\n"
     ]
    }
   ],
   "source": [
    "import numpy.testing as npt\n",
    "\n",
    "print(length_40_array)\n",
    "\n",
    "assert len(length_40_array) == 40\n",
    "assert type(length_40_array) is np.ndarray\n"
   ]
  },
  {
   "cell_type": "markdown",
   "metadata": {
    "deletable": false,
    "editable": false,
    "nbgrader": {
     "cell_type": "markdown",
     "checksum": "e373f6ddb665b241b971973619b53f37",
     "grade": false,
     "grade_id": "cell-b2ad9ff764077512",
     "locked": true,
     "schema_version": 3,
     "solution": false
    }
   },
   "source": [
    "### Part C (3 points)\n",
    "\n",
    "A _parallelepiped_ is a three-dimensional shape which is a cousin of the cube, except that its three pairs of identical faces are parallelograms - see [the Wikipedia page](https://en.wikipedia.org/wiki/Parallelepiped) for a sketch and in-depth explanation.  If we describe a parallelepiped in terms of the three vectors $\\mathbf{a}, \\mathbf{b}, \\mathbf{c}$ describing its edges at one corner, then its volume can be computed from the _triple product_\n",
    "\n",
    "\\\\[\n",
    "V = |\\mathbf{a} \\cdot (\\mathbf{b} \\times \\mathbf{c})|.\n",
    "\\\\]\n",
    "\n",
    "__Implement the function `triple_product(a,b,c)` below__ using `numpy`, and then run the test cell to calculate the area of a parallelopiped described by the given vectors."
   ]
  },
  {
   "cell_type": "code",
   "execution_count": 60,
   "metadata": {
    "deletable": false,
    "nbgrader": {
     "cell_type": "code",
     "checksum": "fdd4c9c9445f9dedc5bc31906ffa0409",
     "grade": false,
     "grade_id": "cell-097330b1f16e6e8d",
     "locked": false,
     "schema_version": 3,
     "solution": true
    }
   },
   "outputs": [],
   "source": [
    "import numpy as np\n",
    "\n",
    "def triple_product(a=a,b=b,c=c):\n",
    "    ## YOUR CODE HERE\n",
    " \n",
    "    crossbc = np.cross(b, c)\n",
    "    return np.dot(a, crossbc)"
   ]
  },
  {
   "cell_type": "code",
   "execution_count": 61,
   "metadata": {
    "deletable": false,
    "editable": false,
    "nbgrader": {
     "cell_type": "code",
     "checksum": "6b19eb572b8803e1aa219f61955c559d",
     "grade": true,
     "grade_id": "cell-ec8460229817e27f",
     "locked": true,
     "points": 3,
     "schema_version": 3,
     "solution": false
    }
   },
   "outputs": [
    {
     "name": "stdout",
     "output_type": "stream",
     "text": [
      "1\n",
      "4\n",
      "0.45508985774401506\n"
     ]
    }
   ],
   "source": [
    "import numpy.testing as npt\n",
    "\n",
    "# First test: a cube!  Volume should be 1.\n",
    "a = [1,0,0]\n",
    "b = [0,1,0]\n",
    "c = [0,0,1]\n",
    "\n",
    "print(triple_product(a,b,c))\n",
    "npt.assert_allclose(triple_product(a,b,c), 1)\n",
    "\n",
    "# Second test: a rectangular prism!  Volume should be 4.\n",
    "a = [2,0,0]\n",
    "b = [0,2,0]\n",
    "c = [0,0,1]\n",
    "\n",
    "print(triple_product(a,b,c))\n",
    "npt.assert_allclose(triple_product(a,b,c), 4)\n",
    "\n",
    "# Third test: all angles are 45 degrees, a \"rhombohedron\" with unit side length\n",
    "# Volume should be 0.455090, to six digits - used formula from Wikipedia.\n",
    "a = [1,0,0]\n",
    "b = [0.70710678, 0.70710678, 0.        ]\n",
    "c = [0.70710678, 0.29289322, 0.64359425]\n",
    "\n",
    "print(triple_product(a,b,c))\n",
    "npt.assert_allclose(triple_product(a,b,c), 0.455090, atol=1e-6)\n",
    "\n",
    "\n"
   ]
  },
  {
   "cell_type": "markdown",
   "metadata": {
    "deletable": false,
    "editable": false,
    "nbgrader": {
     "cell_type": "markdown",
     "checksum": "f39ef9626b8ff9cdb2cdb447b6b1a477",
     "grade": false,
     "grade_id": "cell-ce98d0f7ac43935a",
     "locked": true,
     "schema_version": 3,
     "solution": false
    }
   },
   "source": [
    "### Part D (3 points)\n",
    "\n",
    "The list `photo_stop_volts` below contains a set of measurements of the stopping voltage $V_{\\rm stop}$ (in volts) for a few different materials in a photoelectric effect experiment. (Note that __the stopping voltage is always negative__ in our convention.)  The experiment used ultraviolet light, with a frequency $f$ of 1640 terahertz (THz).  __Create a new list `photo_work_functions`__ that contains the work function $\\Phi$ (__in electron-volts, eV__) for each material.\n",
    "\n",
    "To save you some trouble, here's the relevant equation for the photoelectric effect - you're on your own to look up the physical constants and unit conversions.\n",
    "\n",
    "\\\\[\n",
    "\\Phi = hf + eV_{\\rm stop} \\\\\n",
    "\\\\]\n",
    "\n",
    "Here $h$ is Planck's constant (not the reduced constant $\\hbar$!) and $e$ is the charge of a single electron.\n",
    "\n",
    "_(Hint: working in electron-volts instead of SI units will make your life easier...)_"
   ]
  },
  {
   "cell_type": "code",
   "execution_count": 72,
   "metadata": {
    "deletable": false,
    "nbgrader": {
     "cell_type": "code",
     "checksum": "2c54e7de94e8e5b0a90c9c56b7168d94",
     "grade": false,
     "grade_id": "cell-37cb96e4ca9d995e",
     "locked": false,
     "schema_version": 3,
     "solution": true
    }
   },
   "outputs": [],
   "source": [
    "import numpy as np\n",
    "\n",
    "photo_stop_volts = np.array([-4.50, -1.77, -2.70, -3.88])\n",
    "## YOUR CODE HERE\n",
    "h = 4.1357*10**(-15) #eV s\n",
    "f = 1640*10**12 #Hz\n",
    "\n",
    "photo_work_functions = h*f +photo_stop_volts\n"
   ]
  },
  {
   "cell_type": "code",
   "execution_count": 73,
   "metadata": {
    "deletable": false,
    "editable": false,
    "nbgrader": {
     "cell_type": "code",
     "checksum": "f69e3a870e9663bbf225fbeb170ef3cf",
     "grade": true,
     "grade_id": "cell-2a87e1ce2f886580",
     "locked": true,
     "points": 3,
     "schema_version": 3,
     "solution": false
    }
   },
   "outputs": [
    {
     "name": "stdout",
     "output_type": "stream",
     "text": [
      "Work functions:  [2.282548 5.012548 4.082548 2.902548]\n"
     ]
    }
   ],
   "source": [
    "import numpy.testing as npt\n",
    "\n",
    "print(\"Work functions: \", photo_work_functions)\n",
    "\n",
    "assert len(photo_work_functions) == 4\n",
    "assert type(photo_work_functions) is np.ndarray\n"
   ]
  },
  {
   "cell_type": "markdown",
   "metadata": {
    "deletable": false,
    "editable": false,
    "nbgrader": {
     "cell_type": "markdown",
     "checksum": "07baf5da72699c330ea99c10738e5f27",
     "grade": false,
     "grade_id": "cell-f5f0dfb5574e354f",
     "locked": true,
     "schema_version": 3,
     "solution": false
    }
   },
   "source": [
    "## 2.4 - NumPy and precision (6 points)\n",
    "\n",
    "Let's use NumPy to explore issues related to floating-point precision some more.\n",
    "\n",
    "### Part A (2 points)\n",
    "\n",
    "In the cell below, __use NumPy to calculate__ $\\sin(0)$ and $\\sin(\\pi)$, and print them both out.\n",
    "\n",
    "\n",
    "new HW idea: numpy + precision, explain why `np.sin(pi)` isn't zero.  Can I use `np.sum` on a long array to show off accumulation of roundoff error...?\n",
    "\n",
    "pull from hw7 for numpy problems."
   ]
  },
  {
   "cell_type": "code",
   "execution_count": 66,
   "metadata": {
    "deletable": false,
    "nbgrader": {
     "cell_type": "code",
     "checksum": "d85b7c9638a51c9d41513c61fa020edc",
     "grade": false,
     "grade_id": "cell-b3c5efc0587e8624",
     "locked": false,
     "schema_version": 3,
     "solution": true
    }
   },
   "outputs": [
    {
     "name": "stdout",
     "output_type": "stream",
     "text": [
      "1.2246467991473532e-16 0.0\n"
     ]
    }
   ],
   "source": [
    "## YOUR CODE HERE\n",
    "import numpy as np\n",
    "from math import sin\n",
    "import math\n",
    "pi = math.pi\n",
    "print (np.sin(pi), np.sin(0))"
   ]
  },
  {
   "cell_type": "markdown",
   "metadata": {
    "deletable": false,
    "editable": false,
    "nbgrader": {
     "cell_type": "markdown",
     "checksum": "7b705bd0c0982b28d6d468857400d487",
     "grade": false,
     "grade_id": "cell-3cb5b9a4cb7a9ccb",
     "locked": true,
     "schema_version": 3,
     "solution": false
    }
   },
   "source": [
    "Now based on what you know about floating-point precision, explain __why these two values are different__.  Does the size of the difference match what you learned about the precision of 64-bit floating point numbers?"
   ]
  },
  {
   "cell_type": "markdown",
   "metadata": {
    "deletable": false,
    "nbgrader": {
     "cell_type": "markdown",
     "checksum": "dbf44e782e4a2625a34d9560e36b97db",
     "grade": true,
     "grade_id": "cell-004c52cde60ab9a6",
     "locked": false,
     "points": 2,
     "schema_version": 3,
     "solution": true
    }
   },
   "source": [
    "The number π cannot be represented exactly as a floating-point number. So, np.sin(pi) doesn't give me π, it gives me 3.1415926535897931.\n",
    "\n",
    "And sin(3.1415926535897931) is in fact something like 1.22e-16"
   ]
  },
  {
   "cell_type": "markdown",
   "metadata": {
    "deletable": false,
    "editable": false,
    "nbgrader": {
     "cell_type": "markdown",
     "checksum": "75ca29e150b051678173ee1638e46824",
     "grade": false,
     "grade_id": "cell-44d4e410312f5dc3",
     "locked": true,
     "schema_version": 3,
     "solution": false
    }
   },
   "source": [
    "### Part B (2 points)\n",
    "\n",
    "Although the truncation error we saw above was very small, it can still be significant if we're not careful.  In particular, if a truncation error occurs many times, we can end up with __accumulated errors__ that can be significant.\n",
    "\n",
    "In the cell below, __create an array containing the value $\\pi$ 1 million times__.  Then take the sine of the array, and sum over it with `np.sum()`.  _Now_ how large is the difference from zero?"
   ]
  },
  {
   "cell_type": "code",
   "execution_count": 70,
   "metadata": {
    "deletable": false,
    "nbgrader": {
     "cell_type": "code",
     "checksum": "b0923dd8e015cc3b0bf651ea349c1f2c",
     "grade": true,
     "grade_id": "cell-6765b76ea3ef7964",
     "locked": false,
     "points": 2,
     "schema_version": 3,
     "solution": true
    }
   },
   "outputs": [
    {
     "name": "stdout",
     "output_type": "stream",
     "text": [
      "the difference from zero is: 1.2246467991473518e-10\n"
     ]
    }
   ],
   "source": [
    "import numpy as np\n",
    "from math import sin\n",
    "import math\n",
    "print ('the difference from zero is:', np.sum(np.sin(np.full((1, 1000000), math.pi))))"
   ]
  },
  {
   "cell_type": "markdown",
   "metadata": {
    "deletable": false,
    "editable": false,
    "nbgrader": {
     "cell_type": "markdown",
     "checksum": "16f8cc0ebe4f6a012df458e90dcf0e79",
     "grade": false,
     "grade_id": "cell-ed501e1abf86b771",
     "locked": true,
     "schema_version": 3,
     "solution": false
    }
   },
   "source": [
    "### Part C (2 points)\n",
    "\n",
    "We're insulated from these issues with precision by using 64-bit floating point, but NumPy supports other representations that use small amounts of memory.  Use the `np.array()` function to create another array with 1 million copies of $\\pi$, but this time __in 32-bit precision (using data type `np.float32`.)__  You should get a much larger accumulated error!"
   ]
  },
  {
   "cell_type": "code",
   "execution_count": 71,
   "metadata": {
    "deletable": false,
    "nbgrader": {
     "cell_type": "code",
     "checksum": "9bb7fe9f9b026ee477d54e22743e12e2",
     "grade": true,
     "grade_id": "cell-5b23f603432911f3",
     "locked": false,
     "points": 2,
     "schema_version": 3,
     "solution": true
    }
   },
   "outputs": [
    {
     "name": "stdout",
     "output_type": "stream",
     "text": [
      "the error is: -0.08742271\n"
     ]
    }
   ],
   "source": [
    "## YOUR CODE HERE\n",
    "import numpy as np\n",
    "piarray = np.ones(1000000,dtype=np.float32)*np.pi\n",
    "piarray = np.sin(piarray)\n",
    "print('the error is:', np.sum(piarray))"
   ]
  },
  {
   "cell_type": "code",
   "execution_count": null,
   "metadata": {},
   "outputs": [],
   "source": []
  }
 ],
 "metadata": {
  "kernelspec": {
   "display_name": "Python 3",
   "language": "python",
   "name": "python3"
  },
  "language_info": {
   "codemirror_mode": {
    "name": "ipython",
    "version": 3
   },
   "file_extension": ".py",
   "mimetype": "text/x-python",
   "name": "python",
   "nbconvert_exporter": "python",
   "pygments_lexer": "ipython3",
   "version": "3.6.8"
  }
 },
 "nbformat": 4,
 "nbformat_minor": 2
}
